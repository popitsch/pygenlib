{
 "cells": [
  {
   "cell_type": "markdown",
   "id": "8437214c-0b01-4c34-a271-ff84856cffcf",
   "metadata": {
    "tags": []
   },
   "source": [
    "## Tutorial: Read mismatch analysis\n",
    "In this tutorial, we showcase rnalib's ReadIterator's `report_mismatches` feature which reports reference/read mismatches (possibly filtered by minimum basecalling quality). Briefly, we do the following:\n",
    "\n",
    "* iterate over alignment and report mismatches, so returned item.data is a tuple (read, mismatches)\n",
    "* ref/alt alleles are revcomped if read is reversed (strand specific)\n",
    "* count and plot results"
   ]
  },
  {
   "cell_type": "code",
   "execution_count": 1,
   "id": "9555af7b-e71e-4030-83b7-832f1355caed",
   "metadata": {},
   "outputs": [
    {
     "data": {
      "text/plain": [
       "'Running rnalib 1.0.0 on python 3.10.4'"
      ]
     },
     "metadata": {},
     "output_type": "display_data"
    }
   ],
   "source": [
    "import os, pathlib, platform\n",
    "from tqdm.auto import tqdm\n",
    "import matplotlib.pyplot as plt\n",
    "from collections import Counter\n",
    "import pandas as pd\n",
    "import numpy as np\n",
    "\n",
    "# load rnalib\n",
    "import rnalib as rna\n",
    "from rnalib import gi, SEP, display_textarea\n",
    "plt.rcParams[\"figure.figsize\"] = (20,3)\n",
    "\n",
    "display(f\"Running rnalib {rna.__version__} on python {platform.python_version()}\")"
   ]
  },
  {
   "cell_type": "markdown",
   "id": "c9126e16-f9a7-43d5-ad9f-0ac69a45284c",
   "metadata": {},
   "source": [
    "## Test datasets\n",
    "\n",
    "This notebook as well as rnalib's testing suite use various test resources (genomics data files and indexing structures) that can be created by \n",
    "running the rnalib `rnalib_create_testdata` script or by calling the `testdata.create_testdata()` method. There are two seperate resource sets:\n",
    "\n",
    "* test_resources: small test datasets that are used by rnalib's test suite\n",
    "* large_test_resources: larger test files that are needed to demonstrate rnalib under realistic conditions. \n",
    "\n",
    "Rnalib knows about the test data directory via the package-global __RNALIB_TESTDATA__ variable. This variable can either be set via the \"RNALIB_TESTDATA\" environment variable or by monkeypatching (rna.__RNALIB_TESTDATA__ = <mydir>) as shown below. Once this is done, test data resources can be accessed via \n",
    "`get_resource(<resource_id>)`. Rnalib will recreate these resources only if they are not found in the provided output folder.\n"
   ]
  },
  {
   "cell_type": "code",
   "execution_count": 4,
   "id": "3cb162aa-c9c0-41d7-88b5-ae243fe677a9",
   "metadata": {},
   "outputs": [
    {
     "data": {
      "text/plain": [
       "'Testdata at rnalib_testdata/'"
      ]
     },
     "metadata": {},
     "output_type": "display_data"
    },
    {
     "name": "stdout",
     "output_type": "stream",
     "text": [
      "├── bigfiles\n",
      "│   ├── grch38_chr20.fa.gz.gzi\n",
      "│   ├── chess3.0.1.gtf.gz\n",
      "│   ├── gencode_39.gff3.gz\n",
      "│   ├── hgnc_complete_set.txt\n",
      "│   ├── gencode_39.gff3.gz.tbi\n",
      "│   ├── grch38_chr20.fa.gz\n",
      "│   ├── GRCh38.k24.umap.bedgraph.gz\n",
      "│   ├── grch38_chr20.fa.gz.fai\n",
      "│   ├── chess3.0.1.gtf.gz.tbi\n",
      "│   └── GRCh38.k24.umap.bedgraph.gz.tbi\n",
      "├── bed\n",
      "│   ├── test_bed12.bed.gz.tbi\n",
      "│   ├── test_bed12.bed.gz\n",
      "│   ├── test.bed.gz\n",
      "│   ├── test.bedgraph.gz\n",
      "│   ├── pybedtools_snps.bed.gz\n",
      "│   ├── test_nist.b37_chr20_100kbp_at_10mb.bed\n",
      "│   ├── dmel_randomvalues.bedgraph.gz\n",
      "│   ├── GRCh38.k24.umap.ACTB_ex1+2.bedgraph.gz\n",
      "│   ├── dmel_randomvalues.bedgraph.gz.tbi\n",
      "│   ├── test.bedgraph.gz.tbi\n",
      "│   └── ...\n",
      "├── div\n",
      "│   └── hgnc_complete_set.head.txt.gz\n",
      "├── bam\n",
      "│   ├── NA12878_S1.chr20.10_10p1mb.bam\n",
      "│   ├── mapt.NA12156.altex.small.bam\n",
      "│   ├── NA12878_S1.chr20.10_10p1mb.bam.bai\n",
      "│   ├── mapt.NA12156.altex.small.bam.bai\n",
      "│   ├── rogue_read.bam.bai\n",
      "│   ├── rogue_read.bam\n",
      "│   ├── small.ACTB+SOX2.bam.bai\n",
      "│   ├── small_example.bam\n",
      "│   ├── small_example.bam.bai\n",
      "│   └── small.ACTB+SOX2.bam\n",
      "├── fasta\n",
      "│   ├── ACTB+SOX2.fa.gz.fai\n",
      "│   ├── dmel_r6.36.fa.gz.gzi\n",
      "│   ├── ACTB+SOX2.fa.gz\n",
      "│   ├── ACTB+SOX2.fa.gz.gzi\n",
      "│   ├── dmel_r6.36.fa.gz.fai\n",
      "│   └── dmel_r6.36.fa.gz\n",
      "├── gff\n",
      "│   ├── pybedtools_gff.gff3.gz.tbi\n",
      "│   ├── chess3.GRCh38.ACTB+SOX2.gtf.gz.tbi\n",
      "│   ├── mirgenedb.dme.sorted.gff3.gz.tbi\n",
      "│   ├── gencode_44.ACTB+SOX2.gff3.gz\n",
      "│   ├── chess3.GRCh38.ACTB+SOX2.gtf.gz\n",
      "│   ├── pybedtools_gff.gff3.gz\n",
      "│   ├── flybase_dmel-2L-r6.36.gtf.gz.tbi\n",
      "│   ├── UCSC.hg38.ncbiRefSeq.ACTB+SOX2.sorted.gtf.gz\n",
      "│   ├── chess3.GRCh38.ACTB+SOX2.gff3.gz\n",
      "│   ├── ensembl_Homo_sapiens.GRCh38.110.ACTB+SOX2.gff3.gz\n",
      "│   └── ...\n",
      "├── vcf\n",
      "│   ├── dmelanogaster_6_exported_20230523.vcf.gz.tbi\n",
      "│   ├── test_snps.vcf.gz\n",
      "│   ├── test.vcf.gz.tbi\n",
      "│   ├── dmelanogaster_6_exported_20230523.vcf.gz\n",
      "│   ├── test.vcf.gz\n",
      "│   └── test_snps.vcf.gz.tbi\n",
      "├── .ipynb_checkpoints\n",
      "├── fastq\n",
      "│   ├── Test01_L001_R1_001.top20.fastq\n",
      "│   ├── test.fq.gz\n",
      "│   └── Test01_L001_R2_001.top20.fastq\n",
      "└── fast5\n",
      "    ├── 003c04de-f704-491e-8d0c-33ffa269423d.fast5\n",
      "    └── FAT61995_a1291c8f_5.fast5\n"
     ]
    }
   ],
   "source": [
    "rna.__RNALIB_TESTDATA__ = \"rnalib_testdata/\"\n",
    "\n",
    "if not os.path.isdir(rna.__RNALIB_TESTDATA__):\n",
    "    os.mkdir(rna.__RNALIB_TESTDATA__)\n",
    "    display(\"Creating testdata at {rna.__RNALIB_TESTDATA__ }\")\n",
    "    rna.testdata.create_testdata(rna.__RNALIB_TESTDATA__, \n",
    "                                 rna.testdata.test_resources)\n",
    "else:\n",
    "    display(f\"Testdata at {rna.__RNALIB_TESTDATA__}\")\n",
    "    rna.print_dir_tree(rna.__RNALIB_TESTDATA__)"
   ]
  },
  {
   "cell_type": "code",
   "execution_count": 5,
   "id": "0614adba-fdeb-4188-a22e-8aa8122dd644",
   "metadata": {
    "tags": []
   },
   "outputs": [
    {
     "data": {
      "image/png": "[encoded data removed]",
      "text/plain": [
       "<Figure size 2000x300 with 1 Axes>"
      ]
     },
     "metadata": {},
     "output_type": "display_data"
    }
   ],
   "source": [
    "# Calculate mismatch profile and plot. \n",
    "profile=Counter()\n",
    "for l,(r,mm) in rna.ReadIterator(rna.get_resource('small_example_bam'),report_mismatches=True, min_base_quality=10):\n",
    "    is_rev = not r.is_reverse if r.is_read2 else r.is_reverse # properly deal with PE data\n",
    "    for (readpos, genpos, ref, alt) in mm: # reported mismatches contain position in read, genomic position, reference and alternate allele\n",
    "        if is_rev: # correct for read strand\n",
    "            ref,alt=rna.reverse_complement(ref),rna.reverse_complement(alt)\n",
    "        profile[f\"{ref}/{alt}\"]+=1\n",
    "# plot the data\n",
    "labels, values = zip(*sorted(profile.items()))\n",
    "plt.bar(range(len(labels)), values, 0.8)\n",
    "plt.xticks(range(len(labels)), labels)\n",
    "plt.suptitle(\"Mismatch distribution\")\n",
    "plt.show()"
   ]
  },
  {
   "cell_type": "markdown",
   "id": "ce2b72eb-b523-454f-b8b4-9bda83311515",
   "metadata": {},
   "source": [
    "Using this feature, we  can  also easily count mismatches of a certain type (e.g., T/C mismatches as found in a SLAMseq dataset)"
   ]
  },
  {
   "cell_type": "code",
   "execution_count": 6,
   "id": "3aa7639a-5fb3-43c9-bef8-2ea127e8e35f",
   "metadata": {
    "tags": []
   },
   "outputs": [
    {
     "data": {
      "text/plain": [
       "'10 reads and their mismatches'"
      ]
     },
     "metadata": {},
     "output_type": "display_data"
    },
    {
     "data": {
      "text/plain": [
       "{('HWI-ST466_135068617:8:1104:18372:89212', False): [(2, 22379204, 'A', 'G')],\n",
       " ('HWI-ST466_135068617:8:2114:8986:54547', False): [(98, 22404991, 'T', 'C')],\n",
       " ('HWI-ST466_135068617:8:2214:18036:44964', False): [(86, 22404981, 'A', 'G')],\n",
       " ('HWI-ST466_135068617:8:2301:15221:88708', True): [(71, 22404968, 'A', 'G')],\n",
       " ('HWI-ST466_135068617:8:1107:12866:40944', False): [(72, 22404971, 'A', 'G')],\n",
       " ('HWI-ST466_135068617:8:2101:20690:68324', False): [(78, 22404984, 'A', 'G')],\n",
       " ('HWI-ST466_135068617:8:1102:11736:16410', True): [(53, 22404966, 'T', 'C')],\n",
       " ('HWI-ST466_135068617:8:1103:20561:79535', True): [(52, 22404966, 'T', 'C')],\n",
       " ('HWI-ST466_135068617:8:2308:21226:40688', False): [(25, 22404940, 'A', 'G')],\n",
       " ('HWI-ST466_135068617:8:1303:15014:31681', False): [(2, 22379925, 'A', 'G')]}"
      ]
     },
     "metadata": {},
     "output_type": "display_data"
    },
    {
     "data": {
      "text/markdown": [
       "---"
      ],
      "text/plain": [
       "<IPython.core.display.Markdown object>"
      ]
     },
     "metadata": {},
     "output_type": "display_data"
    },
    {
     "data": {
      "text/plain": [
       "'Number of reads with more than one T/C conversion'"
      ]
     },
     "metadata": {},
     "output_type": "display_data"
    },
    {
     "data": {
      "text/plain": [
       "25"
      ]
     },
     "metadata": {},
     "output_type": "display_data"
    },
    {
     "data": {
      "text/markdown": [
       "---"
      ],
      "text/plain": [
       "<IPython.core.display.Markdown object>"
      ]
     },
     "metadata": {},
     "output_type": "display_data"
    },
    {
     "data": {
      "text/plain": [
       "'Example read with 2 mismatches:'"
      ]
     },
     "metadata": {},
     "output_type": "display_data"
    },
    {
     "data": {
      "text/plain": [
       "[(2, 22443997, 'A', 'G'), (5, 22444000, 'A', 'G')]"
      ]
     },
     "metadata": {},
     "output_type": "display_data"
    },
    {
     "data": {
      "text/markdown": [
       "---"
      ],
      "text/plain": [
       "<IPython.core.display.Markdown object>"
      ]
     },
     "metadata": {},
     "output_type": "display_data"
    }
   ],
   "source": [
    "# count T/C (A/G) mismatches per read in a BAM file, filtering for minimum base quality\n",
    "tc_conv={}\n",
    "for l,(r,mm) in rna.ReadIterator(rna.get_resource('small_example_bam'),report_mismatches=True, min_base_quality=10):\n",
    "    if len(mm)>0: # at least 1 mismatch - just to speed things up.\n",
    "        is_rev = not r.is_reverse if r.is_read2 else r.is_reverse\n",
    "        refc = \"A\" if is_rev else \"T\"\n",
    "        altc = \"G\" if is_rev else \"C\"\n",
    "        mm_tc=[(off, pos1, ref, alt) for off, pos1, ref, alt in mm if ref==refc and alt==altc] # get only T/C or A/G mismatches (depending on read strand)\n",
    "        if len(mm_tc) > 0: # at least 1 T/C or A/G mm\n",
    "            tc_conv[r.query_name, not r.is_read2]=mm_tc\n",
    "\n",
    "# show the first 10 reads\n",
    "display('10 reads and their mismatches', {k:tc_conv[k] for k in list(tc_conv.keys())[:10]}, SEP)\n",
    "\n",
    "# count reads with more than one T/C conversion\n",
    "display('Number of reads with more than one T/C conversion', len({k:tc_conv[k] for k in list(tc_conv.keys()) if len(tc_conv[k])>1}),SEP)\n",
    "\n",
    "# show MM of one such read\n",
    "display('Example read with 2 mismatches:', tc_conv['HWI-ST466_135068617:8:2316:4251:54002', False],  SEP)"
   ]
  },
  {
   "cell_type": "markdown",
   "id": "2a9b1550-c7bb-404d-9620-fe4e2dc8f26f",
   "metadata": {
    "tags": []
   },
   "source": [
    "Now, we slightly extend this example by\n",
    "\n",
    "* counting only T/C (A/G on reverse strand) mismatches per chromosome\n",
    "* count also the number of unconverted (i.e., ref==T) positions\n",
    "* Create a pandas dataframe with these counts and filter rows for minimum couts\n",
    "* Show a filtered dataset of entries with 20-22 convertible positions, the number of converted positions and the number of such reads  found"
   ]
  },
  {
   "cell_type": "code",
   "execution_count": 7,
   "id": "877a01b4-cc5a-4c61-afd0-a5a04961e23a",
   "metadata": {
    "tags": []
   },
   "outputs": [
    {
     "data": {
      "application/vnd.jupyter.widget-view+json": {
       "model_id": "fb8993db76234ca8afc4c62ae660af07",
       "version_major": 2,
       "version_minor": 0
      },
      "text/plain": [
       "  0%|          | 0/31678 [00:00<?, ?it/s]"
      ]
     },
     "metadata": {},
     "output_type": "display_data"
    },
    {
     "data": {
      "text/plain": [
       "Counter({('iterated_items', None): 31678,\n",
       "         ('yielded_items', '1'): 21932,\n",
       "         ('n_fil_flag', '1'): 9746})"
      ]
     },
     "metadata": {},
     "output_type": "display_data"
    },
    {
     "data": {
      "text/html": [
       "<div>\n",
       "<style scoped>\n",
       "    .dataframe tbody tr th:only-of-type {\n",
       "        vertical-align: middle;\n",
       "    }\n",
       "\n",
       "    .dataframe tbody tr th {\n",
       "        vertical-align: top;\n",
       "    }\n",
       "\n",
       "    .dataframe thead th {\n",
       "        text-align: right;\n",
       "    }\n",
       "</style>\n",
       "<table border=\"1\" class=\"dataframe\">\n",
       "  <thead>\n",
       "    <tr style=\"text-align: right;\">\n",
       "      <th></th>\n",
       "      <th>chromosome</th>\n",
       "      <th>ref</th>\n",
       "      <th>alt</th>\n",
       "      <th>convertible</th>\n",
       "      <th>converted</th>\n",
       "      <th>count</th>\n",
       "    </tr>\n",
       "    <tr>\n",
       "      <th>conv</th>\n",
       "      <th></th>\n",
       "      <th></th>\n",
       "      <th></th>\n",
       "      <th></th>\n",
       "      <th></th>\n",
       "      <th></th>\n",
       "    </tr>\n",
       "  </thead>\n",
       "  <tbody>\n",
       "    <tr>\n",
       "      <th>A/G</th>\n",
       "      <td>1</td>\n",
       "      <td>A</td>\n",
       "      <td>G</td>\n",
       "      <td>20</td>\n",
       "      <td>0</td>\n",
       "      <td>41</td>\n",
       "    </tr>\n",
       "  </tbody>\n",
       "</table>\n",
       "</div>"
      ],
      "text/plain": [
       "     chromosome ref alt  convertible  converted  count\n",
       "conv                                                  \n",
       "A/G           1   A   G           20          0     41"
      ]
     },
     "metadata": {},
     "output_type": "display_data"
    },
    {
     "data": {
      "text/html": [
       "<div>\n",
       "<style scoped>\n",
       "    .dataframe tbody tr th:only-of-type {\n",
       "        vertical-align: middle;\n",
       "    }\n",
       "\n",
       "    .dataframe tbody tr th {\n",
       "        vertical-align: top;\n",
       "    }\n",
       "\n",
       "    .dataframe thead th {\n",
       "        text-align: right;\n",
       "    }\n",
       "</style>\n",
       "<table border=\"1\" class=\"dataframe\">\n",
       "  <thead>\n",
       "    <tr style=\"text-align: right;\">\n",
       "      <th></th>\n",
       "      <th>chromosome</th>\n",
       "      <th>ref</th>\n",
       "      <th>alt</th>\n",
       "      <th>convertible</th>\n",
       "      <th>converted</th>\n",
       "      <th>count</th>\n",
       "    </tr>\n",
       "    <tr>\n",
       "      <th>conv</th>\n",
       "      <th></th>\n",
       "      <th></th>\n",
       "      <th></th>\n",
       "      <th></th>\n",
       "      <th></th>\n",
       "      <th></th>\n",
       "    </tr>\n",
       "  </thead>\n",
       "  <tbody>\n",
       "    <tr>\n",
       "      <th>A/G</th>\n",
       "      <td>1</td>\n",
       "      <td>A</td>\n",
       "      <td>G</td>\n",
       "      <td>21</td>\n",
       "      <td>0</td>\n",
       "      <td>37</td>\n",
       "    </tr>\n",
       "  </tbody>\n",
       "</table>\n",
       "</div>"
      ],
      "text/plain": [
       "     chromosome ref alt  convertible  converted  count\n",
       "conv                                                  \n",
       "A/G           1   A   G           21          0     37"
      ]
     },
     "metadata": {},
     "output_type": "display_data"
    },
    {
     "data": {
      "text/html": [
       "<div>\n",
       "<style scoped>\n",
       "    .dataframe tbody tr th:only-of-type {\n",
       "        vertical-align: middle;\n",
       "    }\n",
       "\n",
       "    .dataframe tbody tr th {\n",
       "        vertical-align: top;\n",
       "    }\n",
       "\n",
       "    .dataframe thead th {\n",
       "        text-align: right;\n",
       "    }\n",
       "</style>\n",
       "<table border=\"1\" class=\"dataframe\">\n",
       "  <thead>\n",
       "    <tr style=\"text-align: right;\">\n",
       "      <th></th>\n",
       "      <th>chromosome</th>\n",
       "      <th>ref</th>\n",
       "      <th>alt</th>\n",
       "      <th>convertible</th>\n",
       "      <th>converted</th>\n",
       "      <th>count</th>\n",
       "    </tr>\n",
       "    <tr>\n",
       "      <th>conv</th>\n",
       "      <th></th>\n",
       "      <th></th>\n",
       "      <th></th>\n",
       "      <th></th>\n",
       "      <th></th>\n",
       "      <th></th>\n",
       "    </tr>\n",
       "  </thead>\n",
       "  <tbody>\n",
       "    <tr>\n",
       "      <th>A/G</th>\n",
       "      <td>1</td>\n",
       "      <td>A</td>\n",
       "      <td>G</td>\n",
       "      <td>22</td>\n",
       "      <td>0</td>\n",
       "      <td>50</td>\n",
       "    </tr>\n",
       "    <tr>\n",
       "      <th>A/G</th>\n",
       "      <td>1</td>\n",
       "      <td>A</td>\n",
       "      <td>G</td>\n",
       "      <td>22</td>\n",
       "      <td>1</td>\n",
       "      <td>11</td>\n",
       "    </tr>\n",
       "  </tbody>\n",
       "</table>\n",
       "</div>"
      ],
      "text/plain": [
       "     chromosome ref alt  convertible  converted  count\n",
       "conv                                                  \n",
       "A/G           1   A   G           22          0     50\n",
       "A/G           1   A   G           22          1     11"
      ]
     },
     "metadata": {},
     "output_type": "display_data"
    },
    {
     "data": {
      "text/html": [
       "<div>\n",
       "<style scoped>\n",
       "    .dataframe tbody tr th:only-of-type {\n",
       "        vertical-align: middle;\n",
       "    }\n",
       "\n",
       "    .dataframe tbody tr th {\n",
       "        vertical-align: top;\n",
       "    }\n",
       "\n",
       "    .dataframe thead th {\n",
       "        text-align: right;\n",
       "    }\n",
       "</style>\n",
       "<table border=\"1\" class=\"dataframe\">\n",
       "  <thead>\n",
       "    <tr style=\"text-align: right;\">\n",
       "      <th></th>\n",
       "      <th>chromosome</th>\n",
       "      <th>ref</th>\n",
       "      <th>alt</th>\n",
       "      <th>convertible</th>\n",
       "      <th>converted</th>\n",
       "      <th>count</th>\n",
       "    </tr>\n",
       "    <tr>\n",
       "      <th>conv</th>\n",
       "      <th></th>\n",
       "      <th></th>\n",
       "      <th></th>\n",
       "      <th></th>\n",
       "      <th></th>\n",
       "      <th></th>\n",
       "    </tr>\n",
       "  </thead>\n",
       "  <tbody>\n",
       "    <tr>\n",
       "      <th>T/C</th>\n",
       "      <td>1</td>\n",
       "      <td>T</td>\n",
       "      <td>C</td>\n",
       "      <td>20</td>\n",
       "      <td>0</td>\n",
       "      <td>21</td>\n",
       "    </tr>\n",
       "  </tbody>\n",
       "</table>\n",
       "</div>"
      ],
      "text/plain": [
       "     chromosome ref alt  convertible  converted  count\n",
       "conv                                                  \n",
       "T/C           1   T   C           20          0     21"
      ]
     },
     "metadata": {},
     "output_type": "display_data"
    },
    {
     "data": {
      "text/html": [
       "<div>\n",
       "<style scoped>\n",
       "    .dataframe tbody tr th:only-of-type {\n",
       "        vertical-align: middle;\n",
       "    }\n",
       "\n",
       "    .dataframe tbody tr th {\n",
       "        vertical-align: top;\n",
       "    }\n",
       "\n",
       "    .dataframe thead th {\n",
       "        text-align: right;\n",
       "    }\n",
       "</style>\n",
       "<table border=\"1\" class=\"dataframe\">\n",
       "  <thead>\n",
       "    <tr style=\"text-align: right;\">\n",
       "      <th></th>\n",
       "      <th>chromosome</th>\n",
       "      <th>ref</th>\n",
       "      <th>alt</th>\n",
       "      <th>convertible</th>\n",
       "      <th>converted</th>\n",
       "      <th>count</th>\n",
       "    </tr>\n",
       "    <tr>\n",
       "      <th>conv</th>\n",
       "      <th></th>\n",
       "      <th></th>\n",
       "      <th></th>\n",
       "      <th></th>\n",
       "      <th></th>\n",
       "      <th></th>\n",
       "    </tr>\n",
       "  </thead>\n",
       "  <tbody>\n",
       "    <tr>\n",
       "      <th>T/C</th>\n",
       "      <td>1</td>\n",
       "      <td>T</td>\n",
       "      <td>C</td>\n",
       "      <td>21</td>\n",
       "      <td>0</td>\n",
       "      <td>44</td>\n",
       "    </tr>\n",
       "    <tr>\n",
       "      <th>T/C</th>\n",
       "      <td>1</td>\n",
       "      <td>T</td>\n",
       "      <td>C</td>\n",
       "      <td>21</td>\n",
       "      <td>1</td>\n",
       "      <td>44</td>\n",
       "    </tr>\n",
       "    <tr>\n",
       "      <th>T/C</th>\n",
       "      <td>1</td>\n",
       "      <td>T</td>\n",
       "      <td>C</td>\n",
       "      <td>21</td>\n",
       "      <td>2</td>\n",
       "      <td>14</td>\n",
       "    </tr>\n",
       "  </tbody>\n",
       "</table>\n",
       "</div>"
      ],
      "text/plain": [
       "     chromosome ref alt  convertible  converted  count\n",
       "conv                                                  \n",
       "T/C           1   T   C           21          0     44\n",
       "T/C           1   T   C           21          1     44\n",
       "T/C           1   T   C           21          2     14"
      ]
     },
     "metadata": {},
     "output_type": "display_data"
    },
    {
     "data": {
      "text/html": [
       "<div>\n",
       "<style scoped>\n",
       "    .dataframe tbody tr th:only-of-type {\n",
       "        vertical-align: middle;\n",
       "    }\n",
       "\n",
       "    .dataframe tbody tr th {\n",
       "        vertical-align: top;\n",
       "    }\n",
       "\n",
       "    .dataframe thead th {\n",
       "        text-align: right;\n",
       "    }\n",
       "</style>\n",
       "<table border=\"1\" class=\"dataframe\">\n",
       "  <thead>\n",
       "    <tr style=\"text-align: right;\">\n",
       "      <th></th>\n",
       "      <th>chromosome</th>\n",
       "      <th>ref</th>\n",
       "      <th>alt</th>\n",
       "      <th>convertible</th>\n",
       "      <th>converted</th>\n",
       "      <th>count</th>\n",
       "    </tr>\n",
       "    <tr>\n",
       "      <th>conv</th>\n",
       "      <th></th>\n",
       "      <th></th>\n",
       "      <th></th>\n",
       "      <th></th>\n",
       "      <th></th>\n",
       "      <th></th>\n",
       "    </tr>\n",
       "  </thead>\n",
       "  <tbody>\n",
       "    <tr>\n",
       "      <th>T/C</th>\n",
       "      <td>1</td>\n",
       "      <td>T</td>\n",
       "      <td>C</td>\n",
       "      <td>22</td>\n",
       "      <td>0</td>\n",
       "      <td>58</td>\n",
       "    </tr>\n",
       "    <tr>\n",
       "      <th>T/C</th>\n",
       "      <td>1</td>\n",
       "      <td>T</td>\n",
       "      <td>C</td>\n",
       "      <td>22</td>\n",
       "      <td>1</td>\n",
       "      <td>41</td>\n",
       "    </tr>\n",
       "  </tbody>\n",
       "</table>\n",
       "</div>"
      ],
      "text/plain": [
       "     chromosome ref alt  convertible  converted  count\n",
       "conv                                                  \n",
       "T/C           1   T   C           22          0     58\n",
       "T/C           1   T   C           22          1     41"
      ]
     },
     "metadata": {},
     "output_type": "display_data"
    }
   ],
   "source": [
    "# Count T/C (A/G) mismatches per chromosome.\n",
    "bam_file=rna.get_resource('small_example_bam')\n",
    "\n",
    "# Count the mismatches; \n",
    "profile=Counter()\n",
    "with rna.ReadIterator(bam_file,report_mismatches=True, min_base_quality=10) as it:\n",
    "    # calculate the number of reads from the BAM index\n",
    "    n_reads=sum([x.total for x in it.file.get_index_statistics()])\n",
    "    for l,(r,mm) in tqdm(it, total=n_reads):\n",
    "        is_rev = not r.is_reverse if r.is_read2 else r.is_reverse\n",
    "        refc = \"A\" if is_rev else \"T\"\n",
    "        altc = \"G\" if is_rev else \"C\"\n",
    "        for (readpos, genpos, ref, alt) in mm:\n",
    "            n_ref = r.query_sequence.count(refc)\n",
    "            mm_tc=[(off, pos1, ref, alt) for off, pos1, ref, alt in mm if ref==refc and alt==altc]\n",
    "            profile[r.reference_name,refc,altc,n_ref,len(mm_tc)]+=1\n",
    "    # show stats\n",
    "    display(it.stats)\n",
    "\n",
    "# filter for min number of counts\n",
    "profile=pd.DataFrame([list(k)+[v] for k,v in profile.items()], columns=['chromosome','ref','alt', 'convertible','converted', 'count'])\n",
    "profile=profile[profile['count']>10]\n",
    "\n",
    "# show filtered data, grouped by strand and convertible positions\n",
    "fil=profile.query('20 <= convertible <= 22').sort_values(['convertible', 'converted'])\n",
    "fil['conv']=fil['ref']+\"/\"+fil['alt']\n",
    "grouped=fil.groupby(['conv', 'convertible'])\n",
    "for i, key in enumerate(grouped.groups.keys()):\n",
    "    dat=grouped.get_group(key).set_index('conv')\n",
    "    display(dat)"
   ]
  },
  {
   "cell_type": "markdown",
   "id": "5efca281-b895-4775-b1a4-fee1ce9b450e",
   "metadata": {},
   "source": [
    "TODO count converted reads per transcript/exon."
   ]
  }
 ],
 "metadata": {
  "kernelspec": {
   "display_name": "Python 3 (ipykernel)",
   "language": "python",
   "name": "python3"
  },
  "language_info": {
   "codemirror_mode": {
    "name": "ipython",
    "version": 3
   },
   "file_extension": ".py",
   "mimetype": "text/x-python",
   "name": "python",
   "nbconvert_exporter": "python",
   "pygments_lexer": "ipython3",
   "version": "3.10.4"
  }
 },
 "nbformat": 4,
 "nbformat_minor": 5
}
