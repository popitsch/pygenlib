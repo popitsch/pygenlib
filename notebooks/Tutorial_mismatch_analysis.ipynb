{
 "cells": [
  {
   "cell_type": "markdown",
   "id": "8437214c-0b01-4c34-a271-ff84856cffcf",
   "metadata": {
    "tags": []
   },
   "source": [
    "## Tutorial: Read mismatch analysis\n",
    "In this tutorial, we showcase rnalib's ReadIterator's `report_mismatches` feature which reports reference/read mismatches (possibly filtered by minimum basecalling quality). Briefly, we do the following:\n",
    "\n",
    "* iterate over alignment and report mismatches, so returned item.data is a tuple (read, mismatches)\n",
    "* ref/alt alleles are revcomped if read is reversed (strand specific)\n",
    "* count and plot results"
   ]
  },
  {
   "cell_type": "code",
   "execution_count": null,
   "id": "9555af7b-e71e-4030-83b7-832f1355caed",
   "metadata": {},
   "outputs": [],
   "source": [
    "# set path and load rnalib\n",
    "import os, pathlib, platform\n",
    "rnalib_SRC=pathlib.Path('/Users/niko/projects/rnalib/') \n",
    "os.chdir(rnalib_SRC)\n",
    "# install libraries. Recommended to run in a venv here!\n",
    "#!{sys.executable} -m pip install -r requirements.txt \n",
    "display(f\"Running rnalib on python {platform.python_version()}. Using rnalib code from {rnalib_SRC}\")\n",
    "# load rnalib\n",
    "import rnalib as pg\n",
    "from rnalib import gi, SEP\n",
    "from tqdm.auto import tqdm\n",
    "import matplotlib.pyplot as plt\n",
    "from collections import Counter\n",
    "import pandas as pd\n",
    "import numpy as np"
   ]
  },
  {
   "cell_type": "code",
   "execution_count": null,
   "id": "0614adba-fdeb-4188-a22e-8aa8122dd644",
   "metadata": {
    "tags": []
   },
   "outputs": [],
   "source": [
    "# Calculate mismatch profile and plot. \n",
    "profile=Counter()\n",
    "for l,(r,mm) in pg.ReadIterator(pg.get_resource('small_example_bam'),report_mismatches=True, min_base_quality=10):\n",
    "    is_rev = not r.is_reverse if r.is_read2 else r.is_reverse # properly deal with PE data\n",
    "    for (readpos, genpos, ref, alt) in mm: # reported mismatches contain position in read, genomic position, reference and alternate allele\n",
    "        if is_rev: # correct for read strand\n",
    "            ref,alt=pg.reverse_complement(ref),pg.reverse_complement(alt)\n",
    "        profile[f\"{ref}/{alt}\"]+=1\n",
    "# plot the data\n",
    "labels, values = zip(*sorted(profile.items()))\n",
    "plt.bar(range(len(labels)), values, 0.8)\n",
    "plt.xticks(range(len(labels)), labels)\n",
    "plt.suptitle(\"Mismatch distribution\")\n",
    "plt.show()"
   ]
  },
  {
   "cell_type": "markdown",
   "id": "ce2b72eb-b523-454f-b8b4-9bda83311515",
   "metadata": {},
   "source": [
    "Using this feature, we  can  also easily count mismatches of a certain type (e.g., T/C mismatches as found in a SLAMseq dataset)"
   ]
  },
  {
   "cell_type": "code",
   "execution_count": null,
   "id": "3aa7639a-5fb3-43c9-bef8-2ea127e8e35f",
   "metadata": {
    "tags": []
   },
   "outputs": [],
   "source": [
    "# count T/C (A/G) mismatches per read in a BAM file, filtering for minimum base quality\n",
    "tc_conv={}\n",
    "for l,(r,mm) in pg.ReadIterator(pg.get_resource('small_example_bam'),report_mismatches=True, min_base_quality=10):\n",
    "    if len(mm)>0: # at least 1 mismatch - just to speed things up.\n",
    "        is_rev = not r.is_reverse if r.is_read2 else r.is_reverse\n",
    "        refc = \"A\" if is_rev else \"T\"\n",
    "        altc = \"G\" if is_rev else \"C\"\n",
    "        mm_tc=[(off, pos1, ref, alt) for off, pos1, ref, alt in mm if ref==refc and alt==altc] # get only T/C or A/G mismatches (depending on read strand)\n",
    "        if len(mm_tc) > 0: # at least 1 T/C or A/G mm\n",
    "            tc_conv[r.query_name, not r.is_read2]=mm_tc\n",
    "\n",
    "# show the first 10 reads\n",
    "display('10 reads and their mismatches', {k:tc_conv[k] for k in list(tc_conv.keys())[:10]}, SEP)\n",
    "\n",
    "# count reads with more than one T/C conversion\n",
    "display('Number of reads with more than one T/C conversion', len({k:tc_conv[k] for k in list(tc_conv.keys()) if len(tc_conv[k])>1}),SEP)\n",
    "\n",
    "# show MM of one such read\n",
    "display('Example read with 2 mismatches:', tc_conv['HWI-ST466_135068617:8:2316:4251:54002', False],  SEP)"
   ]
  },
  {
   "cell_type": "markdown",
   "id": "2a9b1550-c7bb-404d-9620-fe4e2dc8f26f",
   "metadata": {
    "tags": []
   },
   "source": [
    "Now, we slightly extend this example by\n",
    "\n",
    "* counting only T/C (A/G on reverse strand) mismatches per chromosome\n",
    "* count also the number of unconverted (i.e., ref==T) positions\n",
    "* Create a pandas dataframe with these counts and filter rows for minimum couts\n",
    "* Show a filtered dataset of entries with 20-22 convertible positions, the number of converted positions and the number of such reads  found"
   ]
  },
  {
   "cell_type": "code",
   "execution_count": null,
   "id": "877a01b4-cc5a-4c61-afd0-a5a04961e23a",
   "metadata": {
    "tags": []
   },
   "outputs": [],
   "source": [
    "# Count T/C (A/G) mismatches per chromosome.\n",
    "bam_file=pg.get_resource('small_example_bam')\n",
    "\n",
    "# Count the mismatches; \n",
    "profile=Counter()\n",
    "with pg.ReadIterator(bam_file,report_mismatches=True, min_base_quality=10) as it:\n",
    "    # calculate the number of reads from the BAM index\n",
    "    n_reads=sum([x.total for x in it.file.get_index_statistics()])\n",
    "    for l,(r,mm) in tqdm(it, total=n_reads):\n",
    "        is_rev = not r.is_reverse if r.is_read2 else r.is_reverse\n",
    "        refc = \"A\" if is_rev else \"T\"\n",
    "        altc = \"G\" if is_rev else \"C\"\n",
    "        for (readpos, genpos, ref, alt) in mm:\n",
    "            n_ref = r.query_sequence.count(refc)\n",
    "            mm_tc=[(off, pos1, ref, alt) for off, pos1, ref, alt in mm if ref==refc and alt==altc]\n",
    "            profile[r.reference_name,refc,altc,n_ref,len(mm_tc)]+=1\n",
    "    # show stats\n",
    "    display(it.stats)\n",
    "\n",
    "# filter for min number of counts\n",
    "profile=pd.DataFrame([list(k)+[v] for k,v in profile.items()], columns=['chromosome','ref','alt', 'convertible','converted', 'count'])\n",
    "profile=profile[profile['count']>10]\n",
    "\n",
    "# show filtered data, grouped by strand and convertible positions\n",
    "fil=profile.query('20 <= convertible <= 22').sort_values(['convertible', 'converted'])\n",
    "fil['conv']=fil['ref']+\"/\"+fil['alt']\n",
    "grouped=fil.groupby(['conv', 'convertible'])\n",
    "for i, key in enumerate(grouped.groups.keys()):\n",
    "    dat=grouped.get_group(key).set_index('conv')\n",
    "    display(dat)"
   ]
  },
  {
   "cell_type": "markdown",
   "id": "5efca281-b895-4775-b1a4-fee1ce9b450e",
   "metadata": {},
   "source": [
    "TODO count converted reads per transcript/exon."
   ]
  }
 ],
 "metadata": {
  "kernelspec": {
   "display_name": "Python 3 (ipykernel)",
   "language": "python",
   "name": "python3"
  },
  "language_info": {
   "codemirror_mode": {
    "name": "ipython",
    "version": 3
   },
   "file_extension": ".py",
   "mimetype": "text/x-python",
   "name": "python",
   "nbconvert_exporter": "python",
   "pygments_lexer": "ipython3",
   "version": "3.10.4"
  }
 },
 "nbformat": 4,
 "nbformat_minor": 5
}
