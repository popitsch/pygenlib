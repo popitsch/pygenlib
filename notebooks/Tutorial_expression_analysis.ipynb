{
 "cells": [
  {
   "cell_type": "markdown",
   "id": "00e2bb48-5525-4e36-9ac4-70bf77f091cc",
   "metadata": {},
   "source": [
    "# Tutorial: Expression analysis with rnalib and genemunge\n",
    "\n",
    "This notebook contains a rnalib/genemunge tutorial in which we:\n",
    "\n",
    "* Instatiate the human transcriptome containing protein coding genes with rnalib and extract gene length and exon counts\n",
    "* Use genemunge to get a list of housekeeping genes, recount2 expression values and Hellinger distance values\n",
    "* Plot the data\n"
   ]
  },
  {
   "cell_type": "markdown",
   "id": "cf540eeb-d601-44f6-b0a1-b2c6aee52f73",
   "metadata": {},
   "source": [
    "First, we install [genemunge](https://github.com/unlearnai/genemunge) a python package for accessing GTex/recount2 data. NOTE that installation of this package requires hdf5 to be installed. See [here](https://stackoverflow.com/questions/73029883/could-not-find-hdf5-installation-for-pytables-on-m1-mac) for installation via homebrew on MacOS."
   ]
  },
  {
   "cell_type": "code",
   "execution_count": null,
   "id": "f1f73a0c-afa0-450f-a6f9-7bcc2ccbc2ea",
   "metadata": {},
   "outputs": [],
   "source": [
    "#!pip install genemunge"
   ]
  },
  {
   "cell_type": "markdown",
   "id": "16648816-50b1-4fa5-bd3b-a4d947a1d994",
   "metadata": {},
   "source": [
    "Now we can load all required packages."
   ]
  },
  {
   "cell_type": "code",
   "execution_count": null,
   "id": "cf139fbd-c2c9-4da5-8780-58c0c1d897d9",
   "metadata": {},
   "outputs": [],
   "source": [
    "# set path and load rnalib\n",
    "import os, pathlib, platform\n",
    "rnalib_SRC=pathlib.Path('/Users/niko/projects/rnalib/') \n",
    "os.chdir(rnalib_SRC)\n",
    "# install libraries. Recommended to run in a venv here!\n",
    "#!{sys.executable} -m pip install -r requirements.txt \n",
    "display(f\"Running rnalib on python {platform.python_version()}. Using rnalib code from {rnalib_SRC}\")\n",
    "# load rnalib\n",
    "import rnalib\n",
    "import matplotlib.pyplot as plt\n",
    "import pandas as pd\n",
    "import numpy as np\n",
    "import genemunge"
   ]
  },
  {
   "cell_type": "markdown",
   "id": "444bbc84-6df5-4950-a5e5-10017f7719ea",
   "metadata": {},
   "source": [
    "First, we download gencode v39 annotations.\n",
    "NOTE that this needs bedtools, samtools and htslib (bgzip, tabix) installed.\n",
    "Total size of the downloaded data (for all tutorials) is ~150M. Files are only downloaded if not existing already in the `notebooks/large_test_resources/` directory."
   ]
  },
  {
   "cell_type": "code",
   "execution_count": null,
   "id": "e4ed9e5e-6598-4913-b1fb-a424927451cd",
   "metadata": {},
   "outputs": [],
   "source": [
    "import traceback\n",
    "from rnalib.testdata import download_bgzip_slice\n",
    "outdir=rnalib_SRC / 'notebooks/large_test_resources' # update to your preferred location\n",
    "large_test_resources = {\n",
    "    \"outdir\": f\"{outdir}\", # update to your preferred location\n",
    "    \"resources\": {\n",
    "        # -------------- Full gencode39 annotation -------------------------------\n",
    "        \"full_gencode_gff\": {\n",
    "            \"uri\": \"https://ftp.ebi.ac.uk/pub/databases/gencode/Gencode_human/release_39/gencode.v39.annotation.gff3.gz\",\n",
    "            \"filename\": \"gencode_39.gff3.gz\",\n",
    "            \"recreate\": False\n",
    "        }   \n",
    "    }\n",
    "}\n",
    "display(f'Downloading test data files to {outdir}')\n",
    "for resname in large_test_resources['resources']:\n",
    "    try:\n",
    "        download_bgzip_slice(large_test_resources, resname, view_tempdir=False)\n",
    "    except Exception:\n",
    "        display(traceback.format_exc())\n",
    "        display(f\"Error creating resource {resname}. Some tests may not work...\")\n",
    "display(\"All done.\")"
   ]
  },
  {
   "cell_type": "markdown",
   "id": "f2fb6b5c-ef58-4296-9cb6-7a8c4f4430f5",
   "metadata": {},
   "source": [
    "Now, we build subset of human transcriptome containing only canonical, protein coding genes."
   ]
  },
  {
   "cell_type": "code",
   "execution_count": null,
   "id": "a4600b2c-7cc7-4b87-a91c-0d337cd7a140",
   "metadata": {},
   "outputs": [],
   "source": [
    "t=Transcriptome({\n",
    "    'annotation_gff': get_resource(\"full_gencode_gff\", conf=large_test_resources),\n",
    "    'annotation_flavour': 'gencode',\n",
    "    'transcript_filter': {\n",
    "        'included_tags': ['Ensembl_canonical'],\n",
    "        'included_genetypes': ['protein_coding'],\n",
    "    },\n",
    "    'load_sequences': False\n",
    "})"
   ]
  },
  {
   "cell_type": "markdown",
   "id": "ac844d17-780a-4d93-af21-1c1fda1dc3fa",
   "metadata": {},
   "source": [
    "Using genemunge, we retrieve a list of housekeeping genes, see see https://www.tau.ac.il/~elieis/HKG/"
   ]
  },
  {
   "cell_type": "code",
   "execution_count": null,
   "id": "ef1ece4c-4585-4852-9638-950c7f2b511c",
   "metadata": {},
   "outputs": [],
   "source": [
    "searcher = genemunge.search.Searcher()\n",
    "housekeeping_genes = searcher.get_housekeeping_genes()\n",
    "print(f'Identified {len(housekeeping_genes)} housekeeping genes')"
   ]
  },
  {
   "cell_type": "markdown",
   "id": "28bb86d3-05be-4a5a-a43d-54a0b52ddaef",
   "metadata": {},
   "source": [
    "Finally, we can compile tissue-specific expression data for housekeeping and all other genes as\n",
    "well as some gene-related values (average number of exons per tx, gene length).\n",
    "We exemplary show data for three tissues ('Blood', 'Bone Marrow', 'Brain'), the expression values are tpm normalized.\n",
    "Using the transcriptomer model, we can easily access gene length and average number of exons (which naturally correlate) for a downstream analysis."
   ]
  },
  {
   "cell_type": "code",
   "execution_count": null,
   "id": "de9380ee-98f5-4e4e-9b90-9dfeeaf60fc6",
   "metadata": {},
   "outputs": [],
   "source": [
    "def get_exp_data(t, genes, housekeeping_genes, tissues=('Blood',)):\n",
    "    # set up an object to describe genes\n",
    "    describer = genemunge.describe.Describer('symbol')\n",
    "    # get major versions of gene ids\n",
    "    ids = [g.feature_id.split('.')[0] for g in genes]\n",
    "    # create dataframe\n",
    "    expression_data = pd.DataFrame(index=ids, columns=['hellinger', 'len', 'n_exon', 'HK']+[f\"exp_{tissue}\" for tissue in tissues])\n",
    "    # get gene lengths\n",
    "    expression_data['len'] = [len(g) for g in genes]\n",
    "    expression_data['n_exon'] = [np.mean([len(tx.exon) for tx in g.transcript]) for g in genes]\n",
    "    # get the expression levels in healthy tissue (in TPM units)\n",
    "    for tissue in tissues:\n",
    "        expression_data[f\"exp_{tissue}\"] = describer.tissue_stats['median'].reindex(ids)[tissue]\n",
    "    # get the hellinger distance \n",
    "    expression_data['hellinger'] = describer.tissue_stats['hellinger'].reindex(ids)\n",
    "    # is it a HK gene?\n",
    "    expression_data['HK']=['yes' if g.feature_id.split('.')[0] in housekeeping_genes else 'no' for g in genes]\n",
    "    return expression_data\n",
    "\n",
    "# get expression levels of each gene of interest\n",
    "tissues=('Blood', 'Bone Marrow', 'Brain')\n",
    "exp = get_exp_data(t, t.genes, housekeeping_genes, tissues)\n",
    "exp.describe(include='all')"
   ]
  },
  {
   "cell_type": "markdown",
   "id": "f7014cee-9d88-4d9e-90a8-f374e739cf0f",
   "metadata": {},
   "source": [
    "Now, we plot the tissue-specific expression and the Hellinger distance for housekeeping genes \n",
    "vs all others. "
   ]
  },
  {
   "cell_type": "code",
   "execution_count": null,
   "id": "88cdd8dc-21c2-447d-b143-40dbd6cc29c2",
   "metadata": {},
   "outputs": [],
   "source": [
    "fig, ax = plt.subplots(1, 4, figsize=(12, 6))\n",
    "for i, tissue in enumerate(tissues):\n",
    "    exp.boxplot(column=f\"exp_{tissue}\", by='HK', ax=ax[i])\n",
    "    ax[i].set_yscale('log')\n",
    "    ax[i].set_ylabel('log(expression) [tpm]')\n",
    "    ax[i].set_title(tissue)\n",
    "exp.boxplot(column='hellinger', by='HK', ax=ax[-1])\n",
    "ax[-1].set_yscale('log')\n",
    "ax[-1].set_title('Hellinger distance')\n",
    "ax[-1].set_ylabel('Hellinger distance')\n",
    "fig.tight_layout()\n",
    "fig.suptitle(t='Tissue specific expression and Hellinger distance, all vs HK genes', fontsize=16)"
   ]
  },
  {
   "cell_type": "markdown",
   "id": "210df85a-3443-4035-854c-ef1b74856b15",
   "metadata": {},
   "source": [
    "As expected, housekeeping genes have higher expression levels. They also show higher\n",
    "Hellinger distance values which range between 0 (all tissues have the same expression) and 1 (at least one tissue pair are easily distinguished).\n",
    "\n",
    "Now, we plot the Hellinger distance vs number of exons and vs gene length. "
   ]
  },
  {
   "cell_type": "code",
   "execution_count": null,
   "id": "4dd7c4df-6fa4-4001-8cda-c7da16497d27",
   "metadata": {},
   "outputs": [],
   "source": [
    "# plot hellinger distance vs gene length\n",
    "exp=exp.sort_values('HK')\n",
    "fig, (ax1, ax2) = plt.subplots(1, 2, figsize=(12, 4))\n",
    "plt.xticks(fontsize=16)\n",
    "plt.yticks(fontsize=16)\n",
    "\n",
    "ax1.scatter(exp['n_exon'], exp['hellinger'], color=exp['HK'].map({'no':'grey','yes':'red'}),alpha=0.5)\n",
    "ax1.set_xlabel('#exon', fontsize=20)\n",
    "ax1.set_xscale('log')\n",
    "ax1.set_ylabel('Hellinger', fontsize=20)\n",
    "\n",
    "ax2.scatter(exp['len'], exp['hellinger'], color=exp['HK'].map({'no':'grey','yes':'red'}),alpha=0.5)\n",
    "ax2.set_xlabel('Gene length', fontsize=20)\n",
    "ax2.set_xscale('log')\n",
    "ax2.set_ylabel('Hellinger', fontsize=20)\n",
    "\n",
    "fig.suptitle(t='Hellinger distance vs n_exons/gene_length for all vs HK genes (red)', fontsize=16);\n",
    "plt.show()"
   ]
  },
  {
   "cell_type": "markdown",
   "id": "8f2e74bd-8355-4d79-9033-83ac68974ef2",
   "metadata": {},
   "source": [
    "Longer genes have higher Hellinger distance."
   ]
  }
 ],
 "metadata": {
  "kernelspec": {
   "display_name": "Python 3 (ipykernel)",
   "language": "python",
   "name": "python3"
  },
  "language_info": {
   "codemirror_mode": {
    "name": "ipython",
    "version": 3
   },
   "file_extension": ".py",
   "mimetype": "text/x-python",
   "name": "python",
   "nbconvert_exporter": "python",
   "pygments_lexer": "ipython3",
   "version": "3.10.4"
  }
 },
 "nbformat": 4,
 "nbformat_minor": 5
}
