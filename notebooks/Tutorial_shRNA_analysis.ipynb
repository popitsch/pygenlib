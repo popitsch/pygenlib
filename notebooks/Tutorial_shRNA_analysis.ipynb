{
 "cells": [
  {
   "cell_type": "markdown",
   "id": "0d29f813-68ef-42d2-be54-c3b58d9bd044",
   "metadata": {
    "tags": []
   },
   "source": [
    "# Tutorial: shRNA guide analysis\n",
    "\n",
    "In this small case study we will do the following:\n",
    "    \n",
    "- create a subset of the human transcriptome and load the gene sequences\n",
    "- create a random list of shRNA guide sequences (in a real scenario those would, e.g., predicted by some external tool)\n",
    "- create a pandas dataframe containing \n",
    "    - the guide sequence \n",
    "    - a list of transcript ids that contain this guide (exact match) in their spliced RNA sequence\n",
    "    - a list of gene ids for these transcripts\n",
    "- filter guides that are not found or that target multiple genes\n",
    "- check for untargeted transcripts of the targeted genes\n",
    "\n",
    "Please note that the code in this case study is not optimized and is more explicit than necessary in order to showcase the API and make the example easier to understand. \n",
    "\n",
    "*Required resources (see above for instructions how to download):*\n",
    "- Human genome FASTA (GRCh38), accessible at https://www.ncbi.nlm.nih.gov/datasets/genome/GCF_000001405.26/\n",
    "- Full gencode annotation gff3 file (sorted), available at https://www.gencodegenes.org/human/"
   ]
  },
  {
   "cell_type": "code",
   "execution_count": null,
   "id": "706905ca-0e0f-409c-b8ab-f455b5f3002b",
   "metadata": {},
   "outputs": [],
   "source": [
    "# set path and load rnalib\n",
    "import os, pathlib, platform\n",
    "rnalib_SRC=pathlib.Path('/Users/niko/projects/rnalib/') \n",
    "os.chdir(rnalib_SRC)\n",
    "# install libraries. Recommended to run in a venv here!\n",
    "#!{sys.executable} -m pip install -r requirements.txt \n",
    "display(f\"Running rnalib on python {platform.python_version()}. Using rnalib code from {rnalib_SRC}\")\n",
    "# load rnalib\n",
    "import rnalib as pg\n",
    "from rnalib import SEP, display_textarea\n",
    "from tqdm.auto import tqdm\n",
    "import matplotlib.pyplot as plt\n",
    "import seaborn as sns\n",
    "from collections import Counter, defaultdict\n",
    "import pandas as pd\n",
    "import numpy as np\n",
    "import traceback\n",
    "import math\n",
    "import random"
   ]
  },
  {
   "cell_type": "markdown",
   "id": "5c9e3fd9-b268-4f2b-abad-20ae02b5e072",
   "metadata": {},
   "source": [
    "First, we download the required resources.\n",
    "NOTE that this needs bedtools, samtools and htslib (bgzip, tabix) installed.\n",
    "Total size of the downloaded data (for all tutorials) is ~150M. Files are only downloaded if not existing already in the `notebooks/large_test_resources/` directory."
   ]
  },
  {
   "cell_type": "code",
   "execution_count": null,
   "id": "1f3f9c12-14e2-4f73-a6fa-6e4d8c7e3944",
   "metadata": {},
   "outputs": [],
   "source": [
    "import traceback\n",
    "from rnalib.testdata import download_bgzip_slice\n",
    "outdir=rnalib_SRC / 'notebooks/large_test_resources' # update to your preferred location\n",
    "large_test_resources = {\n",
    "    \"outdir\": f\"{outdir}\", # update to your preferred location\n",
    "    \"resources\": {\n",
    "        # -------------- Full gencode39 annotation -------------------------------\n",
    "        \"full_gencode_gff\": {\n",
    "            \"uri\": \"https://ftp.ebi.ac.uk/pub/databases/gencode/Gencode_human/release_39/gencode.v39.annotation.gff3.gz\",\n",
    "            \"filename\": \"gencode_39.gff3.gz\",\n",
    "            \"recreate\": False\n",
    "        },\n",
    "        # -------------- GRCh38 chr20 -------------------------------\n",
    "        \"grch38_chr20\": {\n",
    "            \"uri\": \"https://hgdownload.cse.ucsc.edu/goldenpath/hg38/chromosomes/chr20.fa.gz\",\n",
    "            \"filename\": \"grch38_chr20.fa.gz\",\n",
    "            \"recreate\": False\n",
    "        }\n",
    "    }\n",
    "}\n",
    "display(f'Downloading test data files to {outdir}')\n",
    "for resname in large_test_resources['resources']:\n",
    "    try:\n",
    "        download_bgzip_slice(large_test_resources, resname, view_tempdir=False)\n",
    "    except Exception:\n",
    "        display(traceback.format_exc())\n",
    "        display(f\"Error creating resource {resname}. Some tests may not work...\")\n",
    "display(\"All done.\")"
   ]
  },
  {
   "cell_type": "code",
   "execution_count": null,
   "id": "4954c503-5172-4c2f-8234-a37e34844260",
   "metadata": {},
   "outputs": [],
   "source": [
    "# please update paths accordingly\n",
    "grch38_fasta=pg.get_resource(\"grch38_chr20\", conf=large_test_resources) # see download section above\n",
    "gencode_gff=pg.get_resource(\"full_gencode_gff\", conf=large_test_resources) # see download section above\n",
    "\n",
    "# Build subset of human transcriptome (chr20)\n",
    "config={\n",
    "    'genome_fa': grch38_fasta,\n",
    "    'annotation_gff': gencode_gff,\n",
    "    'annotation_flavour': 'gencode',\n",
    "    'copied_fields': ['gene_type'],\n",
    "    'load_sequences': True\n",
    "}\n",
    "t=pg.Transcriptome(config, pg.TranscriptFilter().include_chromosomes(['chr20']))\n",
    "display(t)"
   ]
  },
  {
   "cell_type": "code",
   "execution_count": null,
   "id": "4e4ae843-6bd5-4a26-bd2e-bf19fd81aa40",
   "metadata": {},
   "outputs": [],
   "source": [
    "# create a random set of shRNA guides of length 10. In a real scenario those would, e.g., be predicted by some external tool.\n",
    "# Here, we use rnd_seq, a convenience rnalib method, to create 3 random guide sequences with low GC%. \n",
    "random.seed(0) # if you change this, different random sequences will be created\n",
    "guides=pg.rnd_seq(10, 'GC'* 30 + 'AT' * 70, 20) \n",
    "print(guides)"
   ]
  },
  {
   "cell_type": "code",
   "execution_count": null,
   "id": "4d7238b9-a2bd-43a5-8574-5b78bfcbf197",
   "metadata": {},
   "outputs": [],
   "source": [
    "# now we search for transcripts that contain respective kmers in their spliced RNA seq. \n",
    "# To make this fast, we first search for the kmer in the respective gene sequence (candidate_genes) and for those\n",
    "# check all spliced tx sequences (overlapping_tx).\n",
    "# Finally, we are interested whether some guides bind RNAs from multiple genes and create a set of gene ids for the overlapping genes (overlapping_genes).\n",
    "# We combine the results in a pandas dataframe\n",
    "d=[]\n",
    "for guide in tqdm(guides, total=len(guides), desc='analyzing guide'):\n",
    "    candidate_genes={g for g in t.genes if guide in g.sequence}\n",
    "    overlapping_tx={tx for g in candidate_genes for tx in g.transcript if guide in tx.spliced_sequence}\n",
    "    overlapping_genes={tx.parent.feature_id for tx in overlapping_tx}\n",
    "    d.append(\n",
    "        {\n",
    "            'guide_seq': guide,\n",
    "            'gids': ','.join(overlapping_genes),\n",
    "            'n_gids': len(overlapping_genes),\n",
    "            'tids': ','.join([tx.feature_id for tx in overlapping_tx])\n",
    "        }\n",
    "    )\n",
    "df=pd.DataFrame(d)\n",
    "display(df.head(8))"
   ]
  },
  {
   "cell_type": "code",
   "execution_count": null,
   "id": "73d46887-d426-4b3d-86d1-93ed48c654ab",
   "metadata": {},
   "outputs": [],
   "source": [
    "# In the DF above, we can see that some guides (e.g., CGTATCTTAA) are not found (no gids) while some target multiple \n",
    "# genes (e.g., AATGAAATTA). This is expected here as we generate short (10bp) sequences with low GC%/sequence complexity\n",
    "# that are likely found in many genomic locations. In a real scenario, one would expect few such cases for guides predicted by SOTA tools.\n",
    "# We continue the analysis by filtering those bad guides...\n",
    "fil=df[df['n_gids']==1].copy() \n",
    "display(fil)"
   ]
  },
  {
   "cell_type": "code",
   "execution_count": null,
   "id": "abb3a721-6b47-41b4-8299-5d3a41024281",
   "metadata": {},
   "outputs": [],
   "source": [
    "# ...and now we want to check for the remaining ones whether all tx of the respective genes are targeted.\n",
    "# For this, we query the transcriptome for sets of transcript ids annotated for a given gene and use the \n",
    "# rnalib cmp_sets() method to get shared and unique items when comparing to the set of transcript ids we \n",
    "# found to be targeted by each guide.\n",
    "# Finally, we add the number of missed (untargeted) transcripts and the respective gene names to the dataframe.\n",
    "missed_tx, gene_names=[],[]\n",
    "for guide, gid, tids in zip(fil['guide_seq'], fil['gids'], fil['tids']):\n",
    "    all_tid={tx.feature_id for tx in t.gene[gid].transcript}\n",
    "    found_tids=set(tids.split(','))\n",
    "    # cmp_sets is a rnalib utility function for set comparison\n",
    "    s,m,w=pg.cmp_sets(all_tid, found_tids)\n",
    "    missed_tx.append(f\"{len(m)}/{len(all_tid)}\")\n",
    "    gene_names.append(t.gene[gid].gene_name)\n",
    "    assert len(w)==0, \"We should not find a tx that was not found before\"\n",
    "fil['missed_tx']=missed_tx\n",
    "fil['gene_name']=gene_names\n",
    "display(fil)"
   ]
  },
  {
   "cell_type": "markdown",
   "id": "3a7e002e-8cdc-4e14-a1a3-6a0408a662f1",
   "metadata": {},
   "source": [
    "We can see that we are not targetting all annotated transcripts except for XRN2 (which has only 1 tx).\n",
    "In a real scenario, we would possssibly do such a check only on tx that are actually expressed in the respective\n",
    "cells. "
   ]
  }
 ],
 "metadata": {
  "kernelspec": {
   "display_name": "Python 3 (ipykernel)",
   "language": "python",
   "name": "python3"
  },
  "language_info": {
   "codemirror_mode": {
    "name": "ipython",
    "version": 3
   },
   "file_extension": ".py",
   "mimetype": "text/x-python",
   "name": "python",
   "nbconvert_exporter": "python",
   "pygments_lexer": "ipython3",
   "version": "3.10.4"
  }
 },
 "nbformat": 4,
 "nbformat_minor": 5
}
