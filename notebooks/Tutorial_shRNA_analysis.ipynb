{
 "cells": [
  {
   "cell_type": "markdown",
   "id": "0d29f813-68ef-42d2-be54-c3b58d9bd044",
   "metadata": {
    "tags": []
   },
   "source": [
    "# Tutorial: shRNA guide analysis\n",
    "\n",
    "In this small case study we use _rnalib_ to better understand the potential impact of a set of shRNA guides that were estimated by an (external) prediction tool.\n",
    "Briefly, we will do the following:\n",
    "    \n",
    "- create a subset of the human transcriptome and load the gene sequences\n",
    "- create a random list of shRNA guide sequences (in a real scenario those would be predicted by an external tool like SplashRNA)\n",
    "- create a pandas dataframe containing \n",
    "    - the guide sequence \n",
    "    - a list of transcript ids that contain this guide (exact match) in their spliced RNA sequence\n",
    "    - a list of gene ids for these transcripts\n",
    "- filter guides that are not found or that target multiple genes\n",
    "- check for untargeted transcripts of the targeted genes\n",
    "\n",
    "Please note that the code in this case study is not optimized and is more explicit than necessary in order to showcase the API and make the example easier to understand. "
   ]
  },
  {
   "cell_type": "markdown",
   "id": "ed447c6f-1b3d-4c97-8cde-4c972b3457b6",
   "metadata": {},
   "source": [
    "## Requirements\n",
    "Before executing this notebook, you need to install all required *rnalib* requirements as well as optional libraries needed by this notebook.\n",
    "It is recommended to do this in a [Python virtual environment](https://rnalib.readthedocs.io/en/latest/readme.html#installation).\n",
    "\n",
    "Note that this notebook as well as *rnalib*'s testing suite use various test resources (genomics data files and indexing structures). There are [different ways](https://rnalib.readthedocs.io/en/latest/readme.html#test-data) \n",
    "to get these files. You can either download from GitHub or, if you have `bedtools`, `bgzip` and `tabix` installed, create them automatically by running the `rnalib create_testdata` commandline script or by calling `testdata.create_testdata()` as done below. Refer to `testdata.py` for details how the test data files were created. There are two separate test resource sets:\n",
    "\n",
    "* *test_resources*: small test datasets that are used by *rnalib*'s test suite\n",
    "* *large_test_resources*: larger test files that are needed to demonstrate *rnalib* under realistic conditions. \n",
    "\n",
    "*Rnalib* knows about the location of the test data via the package-global __RNALIB_TESTDATA__ variable. This variable can either be set via the \"RNALIB_TESTDATA\" environment variable or by 'monkeypatching' (rna.__RNALIB_TESTDATA__ = ...) as shown below. Once this is done, test data resources can be accessed via `rna.get_resource(<resource_id>)`. *Rnalib* will recreate these resources only if they are not found in the configured output folder."
   ]
  },
  {
   "cell_type": "code",
   "execution_count": 2,
   "id": "706905ca-0e0f-409c-b8ab-f455b5f3002b",
   "metadata": {},
   "outputs": [
    {
     "data": {
      "text/plain": [
       "'Running rnalib 0.0.3 on python 3.12.1'"
      ]
     },
     "metadata": {},
     "output_type": "display_data"
    },
    {
     "data": {
      "application/vnd.jupyter.widget-view+json": {
       "model_id": "6156ba2238784bff99d1d483ba14fc57",
       "version_major": 2,
       "version_minor": 0
      },
      "text/plain": [
       "Creating testdata:   0%|          | 0/40 [00:00<?, ?it/s]"
      ]
     },
     "metadata": {},
     "output_type": "display_data"
    },
    {
     "data": {
      "application/vnd.jupyter.widget-view+json": {
       "model_id": "7d3a0833a89f4906b9be18d1e352ec18",
       "version_major": 2,
       "version_minor": 0
      },
      "text/plain": [
       "Creating testdata:   0%|          | 0/11 [00:00<?, ?it/s]"
      ]
     },
     "metadata": {},
     "output_type": "display_data"
    },
    {
     "name": "stderr",
     "output_type": "stream",
     "text": [
      "INFO:root:========= All done with 0 errors  ==========\n"
     ]
    },
    {
     "data": {
      "text/plain": [
       "'Testdata in rnalib_testdata/'"
      ]
     },
     "metadata": {},
     "output_type": "display_data"
    },
    {
     "data": {
      "text/html": [
       "<textarea rows='4' cols='120'>├── bigfiles\n",
       "│   ├── grch38_chr20.fa.gz.gzi (15.73 KB)\n",
       "│   ├── GRCh38.k24.umap.bed.gz (39.06 MB)\n",
       "│   ├── chess3.0.1.gtf.gz (20.45 MB)\n",
       "│   ├── GRCh38.k24.umap.bed.gz.tbi (488.12 KB)\n",
       "│   ├── human_gene_v2.2.h5 (34.94 GB)\n",
       "│   ├── gencode_39.gff3.gz (72.15 MB)\n",
       "│   ├── hgnc_complete_set.txt (15.79 MB)\n",
       "│   ├── gencode_39.gff3.gz.tbi (298.13 KB)\n",
       "│   ├── grch38_chr20.fa.gz (19.87 MB)\n",
       "│   ├── grch38_chr20.fa.gz.fai (23.0 B)\n",
       "│   └── ...\n",
       "├── bed\n",
       "│   ├── test_bed12.bed.gz.tbi (106.0 B)\n",
       "│   ├── test_bed12.bed.gz (115.0 B)\n",
       "│   ├── test.bed.gz (84.0 B)\n",
       "│   ├── test.bedgraph.gz (208.0 B)\n",
       "│   ├── pybedtools_snps.bed.gz (8.14 MB)\n",
       "│   ├── test_nist.b37_chr20_100kbp_at_10mb.bed (156.0 B)\n",
       "│   ├── dmel_randomvalues.bedgraph.gz (185.33 KB)\n",
       "│   ├── GRCh38.k24.umap.ACTB_ex1+2.bedgraph.gz (1.8 KB)\n",
       "│   ├── dmel_randomvalues.bedgraph.gz.tbi (122.0 B)\n",
       "│   ├── test.bedgraph.gz.tbi (103.0 B)\n",
       "│   └── ...\n",
       "├── div\n",
       "│   ├── hgnc_complete_set.head.txt.gz (1.6 KB)\n",
       "│   ├── slamseq_example_featureCounts_tc_reads.txt (1.85 KB)\n",
       "│   └── slamseq_example_featureCounts_all_reads.txt (1.82 KB)\n",
       "├── slamseq_example\n",
       "│   ├── slamseq_example_tp0+tc.bam.bai (17.12 KB)\n",
       "│   ├── slamseq_example_tp25+tc_tc-only.bam (59.63 KB)\n",
       "│   ├── slamseq_example_tp10.density.tsv.gz (1.28 KB)\n",
       "│   ├── slamseq_example_tp5+tc_tc-only.bam.bai (17.13 KB)\n",
       "│   ├── slamseq_example_tp0.density.tsv.gz (1.54 KB)\n",
       "│   ├── slamseq_example_tp10+tc_tc-only.bam.bai (17.12 KB)\n",
       "│   ├── slamseq_example_tp15+tc.bam (433.78 KB)\n",
       "│   ├── slamseq_example_tp0+tc.bam (499.62 KB)\n",
       "│   ├── slamseq_example_tp5+tc.bam.bai (17.13 KB)\n",
       "│   ├── slamseq_example_tp20+tc_tc-only.bam.bai (17.12 KB)\n",
       "│   └── ...\n",
       "├── bam\n",
       "│   ├── slamseq_example_5.cr0.05.STAR.bam.bai (17.15 KB)\n",
       "│   ├── NA12878_S1.chr20.10_10p1mb.bam (3.74 MB)\n",
       "│   ├── mapt.NA12156.altex.small.bam (1.23 KB)\n",
       "│   ├── slamseq_example_0.cr0.05.STAR.bam.bai (17.12 KB)\n",
       "│   ├── NA12878_S1.chr20.10_10p1mb.bam.bai (5.34 KB)\n",
       "│   ├── slamseq_example_0.cr0.05.STAR.bam (478.66 KB)\n",
       "│   ├── slamseq_example_10.cr0.05.STAR.bam.bai (17.12 KB)\n",
       "│   ├── slamseq_example_20.cr0.05.STAR.bam (412.2 KB)\n",
       "│   ├── mapt.NA12156.altex.small.bam.bai (248.0 B)\n",
       "│   ├── slamseq_example_15.cr0.05.STAR.bam (421.7 KB)\n",
       "│   └── ...\n",
       "├── fasta\n",
       "│   ├── ACTB+SOX2.fa.gz.tbi (73.0 B)\n",
       "│   ├── ACTB+SOX2.fa.gz.fai (40.0 B)\n",
       "│   ├── dmel_r6.36.fa.gz.gzi (34.98 KB)\n",
       "│   ├── ACTB+SOX2.fa.gz (11.74 KB)\n",
       "│   ├── ACTB+SOX2.fa.gz.gzi (8.0 B)\n",
       "│   ├── dmel_r6.36.fa.gz.fai (68.18 KB)\n",
       "│   └── dmel_r6.36.fa.gz (41.41 MB)\n",
       "├── gff\n",
       "│   ├── pybedtools_gff.gff3.gz.tbi (8.54 KB)\n",
       "│   ├── chess3.GRCh38.ACTB+SOX2.gtf.gz.tbi (336.0 B)\n",
       "│   ├── mirgenedb.dme.sorted.gff3.gz.tbi (1.37 KB)\n",
       "│   ├── gencode_44.ACTB+SOX2.gff3.gz (8.98 KB)\n",
       "│   ├── chess3.GRCh38.ACTB+SOX2.gtf.gz (812.0 B)\n",
       "│   ├── pybedtools_gff.gff3.gz (48.03 KB)\n",
       "│   ├── flybase_dmel-2L-r6.36.gtf.gz.tbi (126.0 B)\n",
       "│   ├── UCSC.hg38.ncbiRefSeq.ACTB+SOX2.sorted.gtf.gz (572.0 B)\n",
       "│   ├── slamseq_example_mm10.gff3.gz (918.0 B)\n",
       "│   ├── chess3.GRCh38.ACTB+SOX2.gff3.gz (839.0 B)\n",
       "│   └── ...\n",
       "├── vcf\n",
       "│   ├── dmelanogaster_6_exported_20230523.vcf.gz.tbi (121.0 B)\n",
       "│   ├── test_snps.vcf.gz (227.0 B)\n",
       "│   ├── test.vcf.gz.tbi (157.0 B)\n",
       "│   ├── dmelanogaster_6_exported_20230523.vcf.gz (15.99 KB)\n",
       "│   ├── test.vcf.gz (478.0 B)\n",
       "│   └── test_snps.vcf.gz.tbi (121.0 B)\n",
       "├── .ipynb_checkpoints\n",
       "├── fastq\n",
       "│   ├── Test01_L001_R1_001.top20.fastq (2.73 KB)\n",
       "│   ├── test.fq.gz (227.0 B)\n",
       "│   └── Test01_L001_R2_001.top20.fastq (2.73 KB)\n",
       "└── ...</textarea>"
      ],
      "text/plain": [
       "<IPython.core.display.HTML object>"
      ]
     },
     "metadata": {},
     "output_type": "display_data"
    }
   ],
   "source": [
    "import os, pathlib, platform\n",
    "from tqdm.auto import tqdm\n",
    "import matplotlib.pyplot as plt\n",
    "import seaborn as sns\n",
    "from collections import Counter, defaultdict\n",
    "import pandas as pd\n",
    "import numpy as np\n",
    "import traceback\n",
    "import math\n",
    "import random\n",
    "\n",
    "# load rnalib\n",
    "import rnalib as rna\n",
    "from rnalib import gi, GI, SEP, display_textarea\n",
    "display(f\"Running rnalib {rna.__version__} on python {platform.python_version()}\")\n",
    "\n",
    "# ensure test data\n",
    "rna.__RNALIB_TESTDATA__ = \"rnalib_testdata/\" # monkeypatch test data dir\n",
    "rna.testdata.create_testdata(rna.__RNALIB_TESTDATA__, (rna.testdata.test_resources,rna.testdata.large_test_resources)) # requires additional tools installed\n",
    "display(f\"Testdata in {rna.__RNALIB_TESTDATA__}\")\n",
    "display_textarea('\\n'.join(rna.dir_tree(pathlib.Path(rna.__RNALIB_TESTDATA__))))"
   ]
  },
  {
   "cell_type": "markdown",
   "id": "3a00a8ee-765a-4ed3-bbe6-352a35b26618",
   "metadata": {},
   "source": [
    "## Creation of shRNA guide sequences\n",
    "First, we build subset of human transcriptome (chr20)."
   ]
  },
  {
   "cell_type": "code",
   "execution_count": 3,
   "id": "4954c503-5172-4c2f-8234-a37e34844260",
   "metadata": {},
   "outputs": [
    {
     "data": {
      "application/vnd.jupyter.widget-view+json": {
       "model_id": "1aed1ab7b26a40538cfc972b109dfc66",
       "version_major": 2,
       "version_minor": 0
      },
      "text/plain": [
       "Building transcriptome (1 chromosomes)\n",
       ":   0%|          | 0/1 [00:00<?, ?it/s]"
      ]
     },
     "metadata": {},
     "output_type": "display_data"
    },
    {
     "data": {
      "application/vnd.jupyter.widget-view+json": {
       "model_id": "5d816ebadbd54c33a52b37866858c56c",
       "version_major": 2,
       "version_minor": 0
      },
      "text/plain": [
       "Load sequences:   0%|          | 0/1480 [00:00<?, ?it/s]"
      ]
     },
     "metadata": {},
     "output_type": "display_data"
    },
    {
     "data": {
      "application/vnd.jupyter.widget-view+json": {
       "model_id": "fda6249d3dfa4af196c77e8327b8b025",
       "version_major": 2,
       "version_minor": 0
      },
      "text/plain": [
       "Build interval trees:   0%|          | 0/1480 [00:00<?, ?it/s]"
      ]
     },
     "metadata": {},
     "output_type": "display_data"
    },
    {
     "data": {
      "text/plain": [
       "Transcriptome with 1480 genes and 5822 tx (+seq)"
      ]
     },
     "metadata": {},
     "output_type": "display_data"
    }
   ],
   "source": [
    "t=rna.Transcriptome(\n",
    "    annotation_gff = rna.get_resource(\"full_gencode_gff\"),\n",
    "    annotation_flavour='gencode',\n",
    "    genome_fa = rna.get_resource(\"grch38_chr20\"),\n",
    "    copied_fields=['gene_type'],\n",
    "    feature_filter = rna.TranscriptFilter().include_chromosomes(['chr20']),\n",
    "    load_sequence_data=True\n",
    ")\n",
    "display(t)"
   ]
  },
  {
   "cell_type": "markdown",
   "id": "66b787d4-3371-4d5e-9130-5fbb295cca85",
   "metadata": {},
   "source": [
    "Now, we create a random set of shRNA guides of length 10. In a real scenario those would be predicted by some external tool such as [SplashRNA](http://splashrna.mskcc.org/).\n",
    "We use `rnd_seq()`, an *rnalib* utility method, to create random guide sequences with defined (low) GC%. "
   ]
  },
  {
   "cell_type": "code",
   "execution_count": 4,
   "id": "4e4ae843-6bd5-4a26-bd2e-bf19fd81aa40",
   "metadata": {},
   "outputs": [
    {
     "name": "stdout",
     "output_type": "stream",
     "text": [
      "['AATGAAATTA', 'TTCTCACTGA', 'AAAACTCAGT', 'AATCATAATG', 'TATTACACCA', 'ATTAGAATAA', 'TAGGTGTGTA', 'CGTATCTTAA', 'CATAGAAATT', 'CAATTTACGC', 'GAAATCGTTC', 'GCGTAAAAAA', 'TACTATAATA', 'TATTCTACAA', 'TTGAGTTCAG', 'TCTTCCCAGC', 'AAAAAGGCAG', 'TTGACACCTC', 'CCTCACACTC', 'TAACACGGTT']\n"
     ]
    }
   ],
   "source": [
    "random.seed(0) # if you change this, different random sequences will be created\n",
    "guides=rna.rnd_seq(10, 'GC'* 30 + 'AT' * 70, 20) # create random sequences with expect 30% GC content\n",
    "print(guides)"
   ]
  },
  {
   "cell_type": "markdown",
   "id": "eb45e0da-7162-4f9e-a7e4-38266765b7e6",
   "metadata": {},
   "source": [
    "## Calculate target transcripts\n",
    "Now we search the transcriptome for transcripts that contain respective kmers in their spliced RNA seq. \n",
    "To make this fast, we first search for the kmer in the respective gene sequence (candidate_genes) and for those check all spliced tx sequences (overlapping_tx).\n",
    "Finally, we are interested whether some guides bind RNAs from multiple genes and create a set of gene ids for the overlapping genes (overlapping_genes).\n",
    "We combine the results in a pandas dataframe."
   ]
  },
  {
   "cell_type": "code",
   "execution_count": 5,
   "id": "4d7238b9-a2bd-43a5-8574-5b78bfcbf197",
   "metadata": {},
   "outputs": [
    {
     "data": {
      "application/vnd.jupyter.widget-view+json": {
       "model_id": "bb74c874812c4bdabf81cce6074b6a77",
       "version_major": 2,
       "version_minor": 0
      },
      "text/plain": [
       "analyzing guide:   0%|          | 0/20 [00:00<?, ?it/s]"
      ]
     },
     "metadata": {},
     "output_type": "display_data"
    },
    {
     "data": {
      "text/html": [
       "<div>\n",
       "<style scoped>\n",
       "    .dataframe tbody tr th:only-of-type {\n",
       "        vertical-align: middle;\n",
       "    }\n",
       "\n",
       "    .dataframe tbody tr th {\n",
       "        vertical-align: top;\n",
       "    }\n",
       "\n",
       "    .dataframe thead th {\n",
       "        text-align: right;\n",
       "    }\n",
       "</style>\n",
       "<table border=\"1\" class=\"dataframe\">\n",
       "  <thead>\n",
       "    <tr style=\"text-align: right;\">\n",
       "      <th></th>\n",
       "      <th>guide_seq</th>\n",
       "      <th>genes</th>\n",
       "      <th>n_gids</th>\n",
       "      <th>tids</th>\n",
       "    </tr>\n",
       "  </thead>\n",
       "  <tbody>\n",
       "    <tr>\n",
       "      <th>0</th>\n",
       "      <td>AATGAAATTA</td>\n",
       "      <td>SNAP25-AS1,ENSG00000289072,PLCB4,DYNLRB1,ESF1,...</td>\n",
       "      <td>9</td>\n",
       "      <td>ENST00000662559.1,ENST00000609507.1,ENST000006...</td>\n",
       "    </tr>\n",
       "    <tr>\n",
       "      <th>1</th>\n",
       "      <td>TTCTCACTGA</td>\n",
       "      <td>SNPH,CTSZ,MKKS,MIR646HG</td>\n",
       "      <td>4</td>\n",
       "      <td>ENST00000381867.6,ENST00000652676.1,ENST000006...</td>\n",
       "    </tr>\n",
       "    <tr>\n",
       "      <th>2</th>\n",
       "      <td>AAAACTCAGT</td>\n",
       "      <td>LINC00261,SYCP2,CFAP61,STK4</td>\n",
       "      <td>4</td>\n",
       "      <td>ENST00000451767.6,ENST00000377306.5,ENST000002...</td>\n",
       "    </tr>\n",
       "    <tr>\n",
       "      <th>3</th>\n",
       "      <td>AATCATAATG</td>\n",
       "      <td>SPO11</td>\n",
       "      <td>1</td>\n",
       "      <td>ENST00000371263.8,ENST00000345868.8,ENST000004...</td>\n",
       "    </tr>\n",
       "    <tr>\n",
       "      <th>4</th>\n",
       "      <td>TATTACACCA</td>\n",
       "      <td>SERINC3,XRN2</td>\n",
       "      <td>2</td>\n",
       "      <td>ENST00000255175.5,ENST00000342374.5,ENST000003...</td>\n",
       "    </tr>\n",
       "    <tr>\n",
       "      <th>5</th>\n",
       "      <td>ATTAGAATAA</td>\n",
       "      <td>ADNP</td>\n",
       "      <td>1</td>\n",
       "      <td>ENST00000371602.9</td>\n",
       "    </tr>\n",
       "    <tr>\n",
       "      <th>6</th>\n",
       "      <td>TAGGTGTGTA</td>\n",
       "      <td>ENSG00000228293</td>\n",
       "      <td>1</td>\n",
       "      <td>ENST00000418739.1</td>\n",
       "    </tr>\n",
       "    <tr>\n",
       "      <th>7</th>\n",
       "      <td>CGTATCTTAA</td>\n",
       "      <td></td>\n",
       "      <td>0</td>\n",
       "      <td></td>\n",
       "    </tr>\n",
       "  </tbody>\n",
       "</table>\n",
       "</div>"
      ],
      "text/plain": [
       "    guide_seq                                              genes  n_gids  \\\n",
       "0  AATGAAATTA  SNAP25-AS1,ENSG00000289072,PLCB4,DYNLRB1,ESF1,...       9   \n",
       "1  TTCTCACTGA                            SNPH,CTSZ,MKKS,MIR646HG       4   \n",
       "2  AAAACTCAGT                        LINC00261,SYCP2,CFAP61,STK4       4   \n",
       "3  AATCATAATG                                              SPO11       1   \n",
       "4  TATTACACCA                                       SERINC3,XRN2       2   \n",
       "5  ATTAGAATAA                                               ADNP       1   \n",
       "6  TAGGTGTGTA                                    ENSG00000228293       1   \n",
       "7  CGTATCTTAA                                                          0   \n",
       "\n",
       "                                                tids  \n",
       "0  ENST00000662559.1,ENST00000609507.1,ENST000006...  \n",
       "1  ENST00000381867.6,ENST00000652676.1,ENST000006...  \n",
       "2  ENST00000451767.6,ENST00000377306.5,ENST000002...  \n",
       "3  ENST00000371263.8,ENST00000345868.8,ENST000004...  \n",
       "4  ENST00000255175.5,ENST00000342374.5,ENST000003...  \n",
       "5                                  ENST00000371602.9  \n",
       "6                                  ENST00000418739.1  \n",
       "7                                                     "
      ]
     },
     "metadata": {},
     "output_type": "display_data"
    }
   ],
   "source": [
    "d=[]\n",
    "for guide in tqdm(guides, total=len(guides), desc='analyzing guide'):\n",
    "    candidate_genes={g for g in t.genes if guide in g.sequence} # get genes that contain the guide sequence or its reverse complement\n",
    "    candidate_genes|={g for g in t.genes if rna.reverse_complement(guide) in g.sequence} # get genes that contain the guide sequence or its reverse complement\n",
    "    overlapping_tx={tx for g in candidate_genes for tx in g.transcript if guide in tx.spliced_sequence}\n",
    "    overlapping_genes={tx.parent.gene_name for tx in overlapping_tx}\n",
    "    d.append(\n",
    "        {\n",
    "            'guide_seq': guide,\n",
    "            'genes': ','.join(overlapping_genes),\n",
    "            'n_gids': len(overlapping_genes),\n",
    "            'tids': ','.join([tx.feature_id for tx in overlapping_tx])\n",
    "        }\n",
    "    )\n",
    "df=pd.DataFrame(d)\n",
    "display(df.head(8))"
   ]
  },
  {
   "cell_type": "markdown",
   "id": "5abcc0ff-d6ff-4ec3-a63c-e523e1090366",
   "metadata": {},
   "source": [
    "In the dataframe above, we can see that some guides (e.g., CGTATCTTAA) are not found (no gids) while some target multiple \n",
    "genes (e.g., AATGAAATTA). This is expected here as we generate short (10bp) sequences with low GC% and sequence complexity\n",
    "that are likely found in many genomic locations. In a real scenario, one would expect few such cases for guides predicted by SOTA tools.\n",
    "We continue the analysis by filtering those bad guides..."
   ]
  },
  {
   "cell_type": "code",
   "execution_count": 6,
   "id": "73d46887-d426-4b3d-86d1-93ed48c654ab",
   "metadata": {},
   "outputs": [
    {
     "data": {
      "text/html": [
       "<div>\n",
       "<style scoped>\n",
       "    .dataframe tbody tr th:only-of-type {\n",
       "        vertical-align: middle;\n",
       "    }\n",
       "\n",
       "    .dataframe tbody tr th {\n",
       "        vertical-align: top;\n",
       "    }\n",
       "\n",
       "    .dataframe thead th {\n",
       "        text-align: right;\n",
       "    }\n",
       "</style>\n",
       "<table border=\"1\" class=\"dataframe\">\n",
       "  <thead>\n",
       "    <tr style=\"text-align: right;\">\n",
       "      <th></th>\n",
       "      <th>guide_seq</th>\n",
       "      <th>genes</th>\n",
       "      <th>n_gids</th>\n",
       "      <th>tids</th>\n",
       "    </tr>\n",
       "  </thead>\n",
       "  <tbody>\n",
       "    <tr>\n",
       "      <th>3</th>\n",
       "      <td>AATCATAATG</td>\n",
       "      <td>SPO11</td>\n",
       "      <td>1</td>\n",
       "      <td>ENST00000371263.8,ENST00000345868.8,ENST000004...</td>\n",
       "    </tr>\n",
       "    <tr>\n",
       "      <th>5</th>\n",
       "      <td>ATTAGAATAA</td>\n",
       "      <td>ADNP</td>\n",
       "      <td>1</td>\n",
       "      <td>ENST00000371602.9</td>\n",
       "    </tr>\n",
       "    <tr>\n",
       "      <th>6</th>\n",
       "      <td>TAGGTGTGTA</td>\n",
       "      <td>ENSG00000228293</td>\n",
       "      <td>1</td>\n",
       "      <td>ENST00000418739.1</td>\n",
       "    </tr>\n",
       "    <tr>\n",
       "      <th>10</th>\n",
       "      <td>GAAATCGTTC</td>\n",
       "      <td>C20orf144</td>\n",
       "      <td>1</td>\n",
       "      <td>ENST00000375222.4</td>\n",
       "    </tr>\n",
       "    <tr>\n",
       "      <th>13</th>\n",
       "      <td>TATTCTACAA</td>\n",
       "      <td>APCDD1L-DT</td>\n",
       "      <td>1</td>\n",
       "      <td>ENST00000447767.1,ENST00000448374.5</td>\n",
       "    </tr>\n",
       "    <tr>\n",
       "      <th>14</th>\n",
       "      <td>TTGAGTTCAG</td>\n",
       "      <td>MACROD2</td>\n",
       "      <td>1</td>\n",
       "      <td>ENST00000490428.5</td>\n",
       "    </tr>\n",
       "  </tbody>\n",
       "</table>\n",
       "</div>"
      ],
      "text/plain": [
       "     guide_seq            genes  n_gids  \\\n",
       "3   AATCATAATG            SPO11       1   \n",
       "5   ATTAGAATAA             ADNP       1   \n",
       "6   TAGGTGTGTA  ENSG00000228293       1   \n",
       "10  GAAATCGTTC        C20orf144       1   \n",
       "13  TATTCTACAA       APCDD1L-DT       1   \n",
       "14  TTGAGTTCAG          MACROD2       1   \n",
       "\n",
       "                                                 tids  \n",
       "3   ENST00000371263.8,ENST00000345868.8,ENST000004...  \n",
       "5                                   ENST00000371602.9  \n",
       "6                                   ENST00000418739.1  \n",
       "10                                  ENST00000375222.4  \n",
       "13                ENST00000447767.1,ENST00000448374.5  \n",
       "14                                  ENST00000490428.5  "
      ]
     },
     "metadata": {},
     "output_type": "display_data"
    }
   ],
   "source": [
    "fil=df[df['n_gids']==1].copy() \n",
    "display(fil)"
   ]
  },
  {
   "cell_type": "markdown",
   "id": "70385158-d8bd-460d-9a90-4d3e2d58a8ae",
   "metadata": {},
   "source": [
    "Now we check for the filtered guides whether all transcripts of the respective genes are targeted.\n",
    "For this, we query the transcriptome for sets of transcript ids annotated for a given gene and use the *rnalib* `cmp_sets()` method to get shared and unique items when comparing to the set of transcript ids we found to be targeted by each guide.\n",
    "Finally, we add the number of missed (untargeted) transcripts and the respective gene names to the dataframe."
   ]
  },
  {
   "cell_type": "code",
   "execution_count": 7,
   "id": "abb3a721-6b47-41b4-8299-5d3a41024281",
   "metadata": {},
   "outputs": [
    {
     "data": {
      "text/html": [
       "<div>\n",
       "<style scoped>\n",
       "    .dataframe tbody tr th:only-of-type {\n",
       "        vertical-align: middle;\n",
       "    }\n",
       "\n",
       "    .dataframe tbody tr th {\n",
       "        vertical-align: top;\n",
       "    }\n",
       "\n",
       "    .dataframe thead th {\n",
       "        text-align: right;\n",
       "    }\n",
       "</style>\n",
       "<table border=\"1\" class=\"dataframe\">\n",
       "  <thead>\n",
       "    <tr style=\"text-align: right;\">\n",
       "      <th></th>\n",
       "      <th>guide_seq</th>\n",
       "      <th>genes</th>\n",
       "      <th>n_gids</th>\n",
       "      <th>tids</th>\n",
       "      <th>missed_tx</th>\n",
       "      <th>gene_name</th>\n",
       "    </tr>\n",
       "  </thead>\n",
       "  <tbody>\n",
       "    <tr>\n",
       "      <th>3</th>\n",
       "      <td>AATCATAATG</td>\n",
       "      <td>SPO11</td>\n",
       "      <td>1</td>\n",
       "      <td>ENST00000371263.8,ENST00000345868.8,ENST000004...</td>\n",
       "      <td>1/5</td>\n",
       "      <td>SPO11</td>\n",
       "    </tr>\n",
       "    <tr>\n",
       "      <th>5</th>\n",
       "      <td>ATTAGAATAA</td>\n",
       "      <td>ADNP</td>\n",
       "      <td>1</td>\n",
       "      <td>ENST00000371602.9</td>\n",
       "      <td>8/9</td>\n",
       "      <td>ADNP</td>\n",
       "    </tr>\n",
       "    <tr>\n",
       "      <th>6</th>\n",
       "      <td>TAGGTGTGTA</td>\n",
       "      <td>ENSG00000228293</td>\n",
       "      <td>1</td>\n",
       "      <td>ENST00000418739.1</td>\n",
       "      <td>0/1</td>\n",
       "      <td>ENSG00000228293</td>\n",
       "    </tr>\n",
       "    <tr>\n",
       "      <th>10</th>\n",
       "      <td>GAAATCGTTC</td>\n",
       "      <td>C20orf144</td>\n",
       "      <td>1</td>\n",
       "      <td>ENST00000375222.4</td>\n",
       "      <td>1/2</td>\n",
       "      <td>C20orf144</td>\n",
       "    </tr>\n",
       "    <tr>\n",
       "      <th>13</th>\n",
       "      <td>TATTCTACAA</td>\n",
       "      <td>APCDD1L-DT</td>\n",
       "      <td>1</td>\n",
       "      <td>ENST00000447767.1,ENST00000448374.5</td>\n",
       "      <td>7/9</td>\n",
       "      <td>APCDD1L-DT</td>\n",
       "    </tr>\n",
       "    <tr>\n",
       "      <th>14</th>\n",
       "      <td>TTGAGTTCAG</td>\n",
       "      <td>MACROD2</td>\n",
       "      <td>1</td>\n",
       "      <td>ENST00000490428.5</td>\n",
       "      <td>15/16</td>\n",
       "      <td>MACROD2</td>\n",
       "    </tr>\n",
       "  </tbody>\n",
       "</table>\n",
       "</div>"
      ],
      "text/plain": [
       "     guide_seq            genes  n_gids  \\\n",
       "3   AATCATAATG            SPO11       1   \n",
       "5   ATTAGAATAA             ADNP       1   \n",
       "6   TAGGTGTGTA  ENSG00000228293       1   \n",
       "10  GAAATCGTTC        C20orf144       1   \n",
       "13  TATTCTACAA       APCDD1L-DT       1   \n",
       "14  TTGAGTTCAG          MACROD2       1   \n",
       "\n",
       "                                                 tids missed_tx  \\\n",
       "3   ENST00000371263.8,ENST00000345868.8,ENST000004...       1/5   \n",
       "5                                   ENST00000371602.9       8/9   \n",
       "6                                   ENST00000418739.1       0/1   \n",
       "10                                  ENST00000375222.4       1/2   \n",
       "13                ENST00000447767.1,ENST00000448374.5       7/9   \n",
       "14                                  ENST00000490428.5     15/16   \n",
       "\n",
       "          gene_name  \n",
       "3             SPO11  \n",
       "5              ADNP  \n",
       "6   ENSG00000228293  \n",
       "10        C20orf144  \n",
       "13       APCDD1L-DT  \n",
       "14          MACROD2  "
      ]
     },
     "metadata": {},
     "output_type": "display_data"
    }
   ],
   "source": [
    "missed_tx, gene_names=[],[]\n",
    "for guide, gid, tids in zip(fil['guide_seq'], fil['genes'], fil['tids']):\n",
    "    all_tid={tx.feature_id for tx in t.gene[gid].transcript}\n",
    "    found_tids=set(tids.split(','))\n",
    "    # cmp_sets is a rnalib utility function for set comparison\n",
    "    s,m,w=rna.cmp_sets(all_tid, found_tids)\n",
    "    missed_tx.append(f\"{len(m)}/{len(all_tid)}\")\n",
    "    gene_names.append(t.gene[gid].gene_name)\n",
    "    assert len(w)==0, \"We should not find a tx that was not found before\"\n",
    "fil['missed_tx']=missed_tx\n",
    "fil['gene_name']=gene_names\n",
    "display(fil)"
   ]
  },
  {
   "cell_type": "markdown",
   "id": "3a7e002e-8cdc-4e14-a1a3-6a0408a662f1",
   "metadata": {},
   "source": [
    "We can see that we are not targetting all annotated transcripts except for ENSG00000228293 (we miss zero of 1 total transcripts).\n",
    "In a real scenario, we would possibly do such a check only on tx that are actually expressed in the respective\n",
    "cells (cf. our expression analysis tutorial). "
   ]
  },
  {
   "cell_type": "markdown",
   "id": "efd99557-650c-421c-8b5d-bc4e1eaa3207",
   "metadata": {},
   "source": [
    "## Summary\n",
    "\n",
    "This concludes our small shRNA guide analysis tutorial. This tutorial demonstrated:\n",
    "* How to generate random shRNA guide sequences with given CG% (in a real analysis, thise guides would be predicted by an external tools)\n",
    "* Calculate what genes/transcripts are targeted by a given shRNA guide\n",
    "* Filter for genes thar are uniquely targeted by a shRNA guide and check what fraction of their transcripts are targeted"
   ]
  }
 ],
 "metadata": {
  "kernelspec": {
   "display_name": "rnalib",
   "language": "python",
   "name": "rnalib"
  },
  "language_info": {
   "codemirror_mode": {
    "name": "ipython",
    "version": 3
   },
   "file_extension": ".py",
   "mimetype": "text/x-python",
   "name": "python",
   "nbconvert_exporter": "python",
   "pygments_lexer": "ipython3",
   "version": "3.12.1"
  }
 },
 "nbformat": 4,
 "nbformat_minor": 5
}
