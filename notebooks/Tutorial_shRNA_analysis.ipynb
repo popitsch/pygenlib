{
 "cells": [
  {
   "cell_type": "markdown",
   "id": "0d29f813-68ef-42d2-be54-c3b58d9bd044",
   "metadata": {
    "tags": []
   },
   "source": [
    "# Tutorial: shRNA guide analysis\n",
    "\n",
    "In this small case study we will do the following:\n",
    "    \n",
    "- create a subset of the human transcriptome and load the gene sequences\n",
    "- create a random list of shRNA guide sequences (in a real scenario those would, e.g., predicted by some external tool)\n",
    "- create a pandas dataframe containing \n",
    "    - the guide sequence \n",
    "    - a list of transcript ids that contain this guide (exact match) in their spliced RNA sequence\n",
    "    - a list of gene ids for these transcripts\n",
    "- filter guides that are not found or that target multiple genes\n",
    "- check for untargeted transcripts of the targeted genes\n",
    "\n",
    "Please note that the code in this case study is not optimized and is more explicit than necessary in order to showcase the API and make the example easier to understand. \n",
    "\n",
    "*Required resources (see above for instructions how to download):*\n",
    "- Human genome FASTA (GRCh38), accessible at https://www.ncbi.nlm.nih.gov/datasets/genome/GCF_000001405.26/\n",
    "- Full gencode annotation gff3 file (sorted), available at https://www.gencodegenes.org/human/"
   ]
  },
  {
   "cell_type": "code",
   "execution_count": 9,
   "id": "706905ca-0e0f-409c-b8ab-f455b5f3002b",
   "metadata": {},
   "outputs": [
    {
     "data": {
      "text/plain": [
       "'Running pygenlib on python 3.10.4. Using pygenlib code from /Users/niko/projects/pygenlib'"
      ]
     },
     "metadata": {},
     "output_type": "display_data"
    }
   ],
   "source": [
    "# set path and load pygenlib\n",
    "import os, pathlib, platform\n",
    "PYGENLIB_SRC=pathlib.Path('/Users/niko/projects/pygenlib/') \n",
    "os.chdir(PYGENLIB_SRC)\n",
    "# install libraries. Recommended to run in a venv here!\n",
    "#!{sys.executable} -m pip install -r requirements.txt \n",
    "display(f\"Running pygenlib on python {platform.python_version()}. Using pygenlib code from {PYGENLIB_SRC}\")\n",
    "# load pygenlib\n",
    "import pygenlib as pg\n",
    "from pygenlib import SEP, display_textarea\n",
    "from tqdm.auto import tqdm\n",
    "import matplotlib.pyplot as plt\n",
    "import seaborn as sns\n",
    "from collections import Counter, defaultdict\n",
    "import pandas as pd\n",
    "import numpy as np\n",
    "import traceback\n",
    "import math\n",
    "import random"
   ]
  },
  {
   "cell_type": "markdown",
   "id": "5c9e3fd9-b268-4f2b-abad-20ae02b5e072",
   "metadata": {},
   "source": [
    "First, we download the required resources.\n",
    "NOTE that this needs bedtools, samtools and htslib (bgzip, tabix) installed.\n",
    "Total size of the downloaded data (for all tutorials) is ~150M. Files are only downloaded if not existing already in the `notebooks/large_test_resources/` directory."
   ]
  },
  {
   "cell_type": "code",
   "execution_count": 2,
   "id": "1f3f9c12-14e2-4f73-a6fa-6e4d8c7e3944",
   "metadata": {},
   "outputs": [
    {
     "data": {
      "text/plain": [
       "'Downloading test data files to /Users/niko/projects/pygenlib/notebooks/large_test_resources'"
      ]
     },
     "metadata": {},
     "output_type": "display_data"
    },
    {
     "name": "stdout",
     "output_type": "stream",
     "text": [
      "===========================================\n",
      "Creating testdataset full_gencode_gff\n",
      "Resource already exists, skipping...\n",
      "===========================================\n",
      "Creating testdataset grch38_chr20\n",
      "Resource already exists, skipping...\n"
     ]
    },
    {
     "data": {
      "text/plain": [
       "'All done.'"
      ]
     },
     "metadata": {},
     "output_type": "display_data"
    }
   ],
   "source": [
    "import traceback\n",
    "from pygenlib.testdata import download_bgzip_slice\n",
    "outdir=PYGENLIB_SRC / 'notebooks/large_test_resources' # update to your preferred location\n",
    "large_test_resources = {\n",
    "    \"outdir\": f\"{outdir}\", # update to your preferred location\n",
    "    \"resources\": {\n",
    "        # -------------- Full gencode39 annotation -------------------------------\n",
    "        \"full_gencode_gff\": {\n",
    "            \"uri\": \"https://ftp.ebi.ac.uk/pub/databases/gencode/Gencode_human/release_39/gencode.v39.annotation.gff3.gz\",\n",
    "            \"filename\": \"gencode_39.gff3.gz\",\n",
    "            \"recreate\": False\n",
    "        },\n",
    "        # -------------- GRCh38 chr20 -------------------------------\n",
    "        \"grch38_chr20\": {\n",
    "            \"uri\": \"https://hgdownload.cse.ucsc.edu/goldenpath/hg38/chromosomes/chr20.fa.gz\",\n",
    "            \"filename\": \"grch38_chr20.fa.gz\",\n",
    "            \"recreate\": False\n",
    "        }\n",
    "    }\n",
    "}\n",
    "display(f'Downloading test data files to {outdir}')\n",
    "for resname in large_test_resources['resources']:\n",
    "    try:\n",
    "        download_bgzip_slice(large_test_resources, resname, view_tempdir=False)\n",
    "    except Exception:\n",
    "        display(traceback.format_exc())\n",
    "        display(f\"Error creating resource {resname}. Some tests may not work...\")\n",
    "display(\"All done.\")"
   ]
  },
  {
   "cell_type": "code",
   "execution_count": 7,
   "id": "4954c503-5172-4c2f-8234-a37e34844260",
   "metadata": {},
   "outputs": [
    {
     "data": {
      "application/vnd.jupyter.widget-view+json": {
       "model_id": "4e57fb65c43b46d4bf7737e6f72f99ed",
       "version_major": 2,
       "version_minor": 0
      },
      "text/plain": [
       "Building transcriptome (1 chromosomes)\n",
       ":   0%|          | 0/1 [00:00<?, ?it/s]"
      ]
     },
     "metadata": {},
     "output_type": "display_data"
    },
    {
     "data": {
      "application/vnd.jupyter.widget-view+json": {
       "model_id": "0f4308dca9834509a091fbdda8166bf1",
       "version_major": 2,
       "version_minor": 0
      },
      "text/plain": [
       "Load sequences:   0%|          | 0/1480 [00:00<?, ?it/s]"
      ]
     },
     "metadata": {},
     "output_type": "display_data"
    },
    {
     "data": {
      "application/vnd.jupyter.widget-view+json": {
       "model_id": "b3849f206b474316bae5bead3f9a25ad",
       "version_major": 2,
       "version_minor": 0
      },
      "text/plain": [
       "Build interval trees:   0%|          | 0/1480 [00:00<?, ?it/s]"
      ]
     },
     "metadata": {},
     "output_type": "display_data"
    },
    {
     "data": {
      "text/plain": [
       "Transcriptome with 1480 genes and 5822 tx (+seq)"
      ]
     },
     "metadata": {},
     "output_type": "display_data"
    }
   ],
   "source": [
    "# please update paths accordingly\n",
    "grch38_fasta=pg.get_resource(\"grch38_chr20\", conf=large_test_resources) # see download section above\n",
    "gencode_gff=pg.get_resource(\"full_gencode_gff\", conf=large_test_resources) # see download section above\n",
    "\n",
    "# Build subset of human transcriptome (chr20)\n",
    "config={\n",
    "    'genome_fa': grch38_fasta,\n",
    "    'annotation_gff': gencode_gff,\n",
    "    'annotation_flavour': 'gencode',\n",
    "    'copied_fields': ['gene_type'],\n",
    "    'load_sequences': True\n",
    "}\n",
    "t=pg.Transcriptome(config, pg.TranscriptFilter().include_chromosomes(['chr20']))\n",
    "display(t)"
   ]
  },
  {
   "cell_type": "code",
   "execution_count": 11,
   "id": "4e4ae843-6bd5-4a26-bd2e-bf19fd81aa40",
   "metadata": {},
   "outputs": [
    {
     "name": "stdout",
     "output_type": "stream",
     "text": [
      "['AATGAAATTA', 'TTCTCACTGA', 'AAAACTCAGT', 'AATCATAATG', 'TATTACACCA', 'ATTAGAATAA', 'TAGGTGTGTA', 'CGTATCTTAA', 'CATAGAAATT', 'CAATTTACGC', 'GAAATCGTTC', 'GCGTAAAAAA', 'TACTATAATA', 'TATTCTACAA', 'TTGAGTTCAG', 'TCTTCCCAGC', 'AAAAAGGCAG', 'TTGACACCTC', 'CCTCACACTC', 'TAACACGGTT']\n"
     ]
    }
   ],
   "source": [
    "# create a random set of shRNA guides of length 10. In a real scenario those would, e.g., be predicted by some external tool.\n",
    "# Here, we use rnd_seq, a convenience pygenlib method, to create 3 random guide sequences with low GC%. \n",
    "random.seed(0) # if you change this, different random sequences will be created\n",
    "guides=pg.rnd_seq(10, 'GC'* 30 + 'AT' * 70, 20) \n",
    "print(guides)"
   ]
  },
  {
   "cell_type": "code",
   "execution_count": 12,
   "id": "4d7238b9-a2bd-43a5-8574-5b78bfcbf197",
   "metadata": {},
   "outputs": [
    {
     "data": {
      "application/vnd.jupyter.widget-view+json": {
       "model_id": "0746a8a1edc744d99a47377c9ee6772a",
       "version_major": 2,
       "version_minor": 0
      },
      "text/plain": [
       "analyzing guide:   0%|          | 0/20 [00:00<?, ?it/s]"
      ]
     },
     "metadata": {},
     "output_type": "display_data"
    },
    {
     "data": {
      "text/html": [
       "<div>\n",
       "<style scoped>\n",
       "    .dataframe tbody tr th:only-of-type {\n",
       "        vertical-align: middle;\n",
       "    }\n",
       "\n",
       "    .dataframe tbody tr th {\n",
       "        vertical-align: top;\n",
       "    }\n",
       "\n",
       "    .dataframe thead th {\n",
       "        text-align: right;\n",
       "    }\n",
       "</style>\n",
       "<table border=\"1\" class=\"dataframe\">\n",
       "  <thead>\n",
       "    <tr style=\"text-align: right;\">\n",
       "      <th></th>\n",
       "      <th>guide_seq</th>\n",
       "      <th>gids</th>\n",
       "      <th>n_gids</th>\n",
       "      <th>tids</th>\n",
       "    </tr>\n",
       "  </thead>\n",
       "  <tbody>\n",
       "    <tr>\n",
       "      <th>0</th>\n",
       "      <td>AATGAAATTA</td>\n",
       "      <td>ENSG00000227906.9,ENSG00000125971.17,ENSG00000...</td>\n",
       "      <td>7</td>\n",
       "      <td>ENST00000688800.1,ENST00000666905.1,ENST000006...</td>\n",
       "    </tr>\n",
       "    <tr>\n",
       "      <th>1</th>\n",
       "      <td>TTCTCACTGA</td>\n",
       "      <td>ENSG00000228340.7,ENSG00000101298.15</td>\n",
       "      <td>2</td>\n",
       "      <td>ENST00000614659.1,ENST00000381867.6,ENST000004...</td>\n",
       "    </tr>\n",
       "    <tr>\n",
       "      <th>2</th>\n",
       "      <td>AAAACTCAGT</td>\n",
       "      <td>ENSG00000089101.19,ENSG00000101109.12,ENSG0000...</td>\n",
       "      <td>3</td>\n",
       "      <td>ENST00000499879.6,ENST00000674269.1,ENST000003...</td>\n",
       "    </tr>\n",
       "    <tr>\n",
       "      <th>3</th>\n",
       "      <td>AATCATAATG</td>\n",
       "      <td>ENSG00000054796.13</td>\n",
       "      <td>1</td>\n",
       "      <td>ENST00000345868.8,ENST00000371260.8,ENST000004...</td>\n",
       "    </tr>\n",
       "    <tr>\n",
       "      <th>4</th>\n",
       "      <td>TATTACACCA</td>\n",
       "      <td>ENSG00000088930.8</td>\n",
       "      <td>1</td>\n",
       "      <td>ENST00000377191.5</td>\n",
       "    </tr>\n",
       "    <tr>\n",
       "      <th>5</th>\n",
       "      <td>ATTAGAATAA</td>\n",
       "      <td>ENSG00000101126.18</td>\n",
       "      <td>1</td>\n",
       "      <td>ENST00000371602.9</td>\n",
       "    </tr>\n",
       "    <tr>\n",
       "      <th>6</th>\n",
       "      <td>TAGGTGTGTA</td>\n",
       "      <td>ENSG00000228293.1</td>\n",
       "      <td>1</td>\n",
       "      <td>ENST00000418739.1</td>\n",
       "    </tr>\n",
       "    <tr>\n",
       "      <th>7</th>\n",
       "      <td>CGTATCTTAA</td>\n",
       "      <td></td>\n",
       "      <td>0</td>\n",
       "      <td></td>\n",
       "    </tr>\n",
       "  </tbody>\n",
       "</table>\n",
       "</div>"
      ],
      "text/plain": [
       "    guide_seq                                               gids  n_gids  \\\n",
       "0  AATGAAATTA  ENSG00000227906.9,ENSG00000125971.17,ENSG00000...       7   \n",
       "1  TTCTCACTGA               ENSG00000228340.7,ENSG00000101298.15       2   \n",
       "2  AAAACTCAGT  ENSG00000089101.19,ENSG00000101109.12,ENSG0000...       3   \n",
       "3  AATCATAATG                                 ENSG00000054796.13       1   \n",
       "4  TATTACACCA                                  ENSG00000088930.8       1   \n",
       "5  ATTAGAATAA                                 ENSG00000101126.18       1   \n",
       "6  TAGGTGTGTA                                  ENSG00000228293.1       1   \n",
       "7  CGTATCTTAA                                                          0   \n",
       "\n",
       "                                                tids  \n",
       "0  ENST00000688800.1,ENST00000666905.1,ENST000006...  \n",
       "1  ENST00000614659.1,ENST00000381867.6,ENST000004...  \n",
       "2  ENST00000499879.6,ENST00000674269.1,ENST000003...  \n",
       "3  ENST00000345868.8,ENST00000371260.8,ENST000004...  \n",
       "4                                  ENST00000377191.5  \n",
       "5                                  ENST00000371602.9  \n",
       "6                                  ENST00000418739.1  \n",
       "7                                                     "
      ]
     },
     "metadata": {},
     "output_type": "display_data"
    }
   ],
   "source": [
    "# now we search for transcripts that contain respective kmers in their spliced RNA seq. \n",
    "# To make this fast, we first search for the kmer in the respective gene sequence (candidate_genes) and for those\n",
    "# check all spliced tx sequences (overlapping_tx).\n",
    "# Finally, we are interested whether some guides bind RNAs from multiple genes and create a set of gene ids for the overlapping genes (overlapping_genes).\n",
    "# We combine the results in a pandas dataframe\n",
    "d=[]\n",
    "for guide in tqdm(guides, total=len(guides), desc='analyzing guide'):\n",
    "    candidate_genes={g for g in t.genes if guide in g.sequence}\n",
    "    overlapping_tx={tx for g in candidate_genes for tx in g.transcript if guide in tx.spliced_sequence}\n",
    "    overlapping_genes={tx.parent.feature_id for tx in overlapping_tx}\n",
    "    d.append(\n",
    "        {\n",
    "            'guide_seq': guide,\n",
    "            'gids': ','.join(overlapping_genes),\n",
    "            'n_gids': len(overlapping_genes),\n",
    "            'tids': ','.join([tx.feature_id for tx in overlapping_tx])\n",
    "        }\n",
    "    )\n",
    "df=pd.DataFrame(d)\n",
    "display(df.head(8))"
   ]
  },
  {
   "cell_type": "code",
   "execution_count": 13,
   "id": "73d46887-d426-4b3d-86d1-93ed48c654ab",
   "metadata": {},
   "outputs": [
    {
     "data": {
      "text/html": [
       "<div>\n",
       "<style scoped>\n",
       "    .dataframe tbody tr th:only-of-type {\n",
       "        vertical-align: middle;\n",
       "    }\n",
       "\n",
       "    .dataframe tbody tr th {\n",
       "        vertical-align: top;\n",
       "    }\n",
       "\n",
       "    .dataframe thead th {\n",
       "        text-align: right;\n",
       "    }\n",
       "</style>\n",
       "<table border=\"1\" class=\"dataframe\">\n",
       "  <thead>\n",
       "    <tr style=\"text-align: right;\">\n",
       "      <th></th>\n",
       "      <th>guide_seq</th>\n",
       "      <th>gids</th>\n",
       "      <th>n_gids</th>\n",
       "      <th>tids</th>\n",
       "    </tr>\n",
       "  </thead>\n",
       "  <tbody>\n",
       "    <tr>\n",
       "      <th>3</th>\n",
       "      <td>AATCATAATG</td>\n",
       "      <td>ENSG00000054796.13</td>\n",
       "      <td>1</td>\n",
       "      <td>ENST00000345868.8,ENST00000371260.8,ENST000004...</td>\n",
       "    </tr>\n",
       "    <tr>\n",
       "      <th>4</th>\n",
       "      <td>TATTACACCA</td>\n",
       "      <td>ENSG00000088930.8</td>\n",
       "      <td>1</td>\n",
       "      <td>ENST00000377191.5</td>\n",
       "    </tr>\n",
       "    <tr>\n",
       "      <th>5</th>\n",
       "      <td>ATTAGAATAA</td>\n",
       "      <td>ENSG00000101126.18</td>\n",
       "      <td>1</td>\n",
       "      <td>ENST00000371602.9</td>\n",
       "    </tr>\n",
       "    <tr>\n",
       "      <th>6</th>\n",
       "      <td>TAGGTGTGTA</td>\n",
       "      <td>ENSG00000228293.1</td>\n",
       "      <td>1</td>\n",
       "      <td>ENST00000418739.1</td>\n",
       "    </tr>\n",
       "    <tr>\n",
       "      <th>10</th>\n",
       "      <td>GAAATCGTTC</td>\n",
       "      <td>ENSG00000149609.6</td>\n",
       "      <td>1</td>\n",
       "      <td>ENST00000375222.4</td>\n",
       "    </tr>\n",
       "    <tr>\n",
       "      <th>12</th>\n",
       "      <td>TACTATAATA</td>\n",
       "      <td>ENSG00000088812.18</td>\n",
       "      <td>1</td>\n",
       "      <td>ENST00000262919.10</td>\n",
       "    </tr>\n",
       "    <tr>\n",
       "      <th>13</th>\n",
       "      <td>TATTCTACAA</td>\n",
       "      <td>ENSG00000231290.6</td>\n",
       "      <td>1</td>\n",
       "      <td>ENST00000448374.5,ENST00000447767.1</td>\n",
       "    </tr>\n",
       "    <tr>\n",
       "      <th>14</th>\n",
       "      <td>TTGAGTTCAG</td>\n",
       "      <td>ENSG00000172264.18</td>\n",
       "      <td>1</td>\n",
       "      <td>ENST00000490428.5</td>\n",
       "    </tr>\n",
       "  </tbody>\n",
       "</table>\n",
       "</div>"
      ],
      "text/plain": [
       "     guide_seq                gids  n_gids  \\\n",
       "3   AATCATAATG  ENSG00000054796.13       1   \n",
       "4   TATTACACCA   ENSG00000088930.8       1   \n",
       "5   ATTAGAATAA  ENSG00000101126.18       1   \n",
       "6   TAGGTGTGTA   ENSG00000228293.1       1   \n",
       "10  GAAATCGTTC   ENSG00000149609.6       1   \n",
       "12  TACTATAATA  ENSG00000088812.18       1   \n",
       "13  TATTCTACAA   ENSG00000231290.6       1   \n",
       "14  TTGAGTTCAG  ENSG00000172264.18       1   \n",
       "\n",
       "                                                 tids  \n",
       "3   ENST00000345868.8,ENST00000371260.8,ENST000004...  \n",
       "4                                   ENST00000377191.5  \n",
       "5                                   ENST00000371602.9  \n",
       "6                                   ENST00000418739.1  \n",
       "10                                  ENST00000375222.4  \n",
       "12                                 ENST00000262919.10  \n",
       "13                ENST00000448374.5,ENST00000447767.1  \n",
       "14                                  ENST00000490428.5  "
      ]
     },
     "metadata": {},
     "output_type": "display_data"
    }
   ],
   "source": [
    "# In the DF above, we can see that some guides (e.g., CGTATCTTAA) are not found (no gids) while some target multiple \n",
    "# genes (e.g., AATGAAATTA). This is expected here as we generate short (10bp) sequences with low GC%/sequence complexity\n",
    "# that are likely found in many genomic locations. In a real scenario, one would expect few such cases for guides predicted by SOTA tools.\n",
    "# We continue the analysis by filtering those bad guides...\n",
    "fil=df[df['n_gids']==1].copy() \n",
    "display(fil)"
   ]
  },
  {
   "cell_type": "code",
   "execution_count": 15,
   "id": "abb3a721-6b47-41b4-8299-5d3a41024281",
   "metadata": {},
   "outputs": [
    {
     "data": {
      "text/html": [
       "<div>\n",
       "<style scoped>\n",
       "    .dataframe tbody tr th:only-of-type {\n",
       "        vertical-align: middle;\n",
       "    }\n",
       "\n",
       "    .dataframe tbody tr th {\n",
       "        vertical-align: top;\n",
       "    }\n",
       "\n",
       "    .dataframe thead th {\n",
       "        text-align: right;\n",
       "    }\n",
       "</style>\n",
       "<table border=\"1\" class=\"dataframe\">\n",
       "  <thead>\n",
       "    <tr style=\"text-align: right;\">\n",
       "      <th></th>\n",
       "      <th>guide_seq</th>\n",
       "      <th>gids</th>\n",
       "      <th>n_gids</th>\n",
       "      <th>tids</th>\n",
       "      <th>missed_tx</th>\n",
       "      <th>gene_name</th>\n",
       "    </tr>\n",
       "  </thead>\n",
       "  <tbody>\n",
       "    <tr>\n",
       "      <th>3</th>\n",
       "      <td>AATCATAATG</td>\n",
       "      <td>ENSG00000054796.13</td>\n",
       "      <td>1</td>\n",
       "      <td>ENST00000345868.8,ENST00000371260.8,ENST000004...</td>\n",
       "      <td>1/5</td>\n",
       "      <td>SPO11</td>\n",
       "    </tr>\n",
       "    <tr>\n",
       "      <th>4</th>\n",
       "      <td>TATTACACCA</td>\n",
       "      <td>ENSG00000088930.8</td>\n",
       "      <td>1</td>\n",
       "      <td>ENST00000377191.5</td>\n",
       "      <td>0/1</td>\n",
       "      <td>XRN2</td>\n",
       "    </tr>\n",
       "    <tr>\n",
       "      <th>5</th>\n",
       "      <td>ATTAGAATAA</td>\n",
       "      <td>ENSG00000101126.18</td>\n",
       "      <td>1</td>\n",
       "      <td>ENST00000371602.9</td>\n",
       "      <td>8/9</td>\n",
       "      <td>ADNP</td>\n",
       "    </tr>\n",
       "    <tr>\n",
       "      <th>6</th>\n",
       "      <td>TAGGTGTGTA</td>\n",
       "      <td>ENSG00000228293.1</td>\n",
       "      <td>1</td>\n",
       "      <td>ENST00000418739.1</td>\n",
       "      <td>0/1</td>\n",
       "      <td>ENSG00000228293</td>\n",
       "    </tr>\n",
       "    <tr>\n",
       "      <th>10</th>\n",
       "      <td>GAAATCGTTC</td>\n",
       "      <td>ENSG00000149609.6</td>\n",
       "      <td>1</td>\n",
       "      <td>ENST00000375222.4</td>\n",
       "      <td>1/2</td>\n",
       "      <td>C20orf144</td>\n",
       "    </tr>\n",
       "    <tr>\n",
       "      <th>12</th>\n",
       "      <td>TACTATAATA</td>\n",
       "      <td>ENSG00000088812.18</td>\n",
       "      <td>1</td>\n",
       "      <td>ENST00000262919.10</td>\n",
       "      <td>1/2</td>\n",
       "      <td>ATRN</td>\n",
       "    </tr>\n",
       "    <tr>\n",
       "      <th>13</th>\n",
       "      <td>TATTCTACAA</td>\n",
       "      <td>ENSG00000231290.6</td>\n",
       "      <td>1</td>\n",
       "      <td>ENST00000448374.5,ENST00000447767.1</td>\n",
       "      <td>7/9</td>\n",
       "      <td>APCDD1L-DT</td>\n",
       "    </tr>\n",
       "    <tr>\n",
       "      <th>14</th>\n",
       "      <td>TTGAGTTCAG</td>\n",
       "      <td>ENSG00000172264.18</td>\n",
       "      <td>1</td>\n",
       "      <td>ENST00000490428.5</td>\n",
       "      <td>15/16</td>\n",
       "      <td>MACROD2</td>\n",
       "    </tr>\n",
       "  </tbody>\n",
       "</table>\n",
       "</div>"
      ],
      "text/plain": [
       "     guide_seq                gids  n_gids  \\\n",
       "3   AATCATAATG  ENSG00000054796.13       1   \n",
       "4   TATTACACCA   ENSG00000088930.8       1   \n",
       "5   ATTAGAATAA  ENSG00000101126.18       1   \n",
       "6   TAGGTGTGTA   ENSG00000228293.1       1   \n",
       "10  GAAATCGTTC   ENSG00000149609.6       1   \n",
       "12  TACTATAATA  ENSG00000088812.18       1   \n",
       "13  TATTCTACAA   ENSG00000231290.6       1   \n",
       "14  TTGAGTTCAG  ENSG00000172264.18       1   \n",
       "\n",
       "                                                 tids missed_tx  \\\n",
       "3   ENST00000345868.8,ENST00000371260.8,ENST000004...       1/5   \n",
       "4                                   ENST00000377191.5       0/1   \n",
       "5                                   ENST00000371602.9       8/9   \n",
       "6                                   ENST00000418739.1       0/1   \n",
       "10                                  ENST00000375222.4       1/2   \n",
       "12                                 ENST00000262919.10       1/2   \n",
       "13                ENST00000448374.5,ENST00000447767.1       7/9   \n",
       "14                                  ENST00000490428.5     15/16   \n",
       "\n",
       "          gene_name  \n",
       "3             SPO11  \n",
       "4              XRN2  \n",
       "5              ADNP  \n",
       "6   ENSG00000228293  \n",
       "10        C20orf144  \n",
       "12             ATRN  \n",
       "13       APCDD1L-DT  \n",
       "14          MACROD2  "
      ]
     },
     "metadata": {},
     "output_type": "display_data"
    }
   ],
   "source": [
    "# ...and now we want to check for the remaining ones whether all tx of the respective genes are targeted.\n",
    "# For this, we query the transcriptome for sets of transcript ids annotated for a given gene and use the \n",
    "# pygenlib cmp_sets() method to get shared and unique items when comparing to the set of transcript ids we \n",
    "# found to be targeted by each guide.\n",
    "# Finally, we add the number of missed (untargeted) transcripts and the respective gene names to the dataframe.\n",
    "missed_tx, gene_names=[],[]\n",
    "for guide, gid, tids in zip(fil['guide_seq'], fil['gids'], fil['tids']):\n",
    "    all_tid={tx.feature_id for tx in t.gene[gid].transcript}\n",
    "    found_tids=set(tids.split(','))\n",
    "    # cmp_sets is a pygenlib utility function for set comparison\n",
    "    s,m,w=pg.cmp_sets(all_tid, found_tids)\n",
    "    missed_tx.append(f\"{len(m)}/{len(all_tid)}\")\n",
    "    gene_names.append(t.gene[gid].gene_name)\n",
    "    assert len(w)==0, \"We should not find a tx that was not found before\"\n",
    "fil['missed_tx']=missed_tx\n",
    "fil['gene_name']=gene_names\n",
    "display(fil)"
   ]
  },
  {
   "cell_type": "markdown",
   "id": "3a7e002e-8cdc-4e14-a1a3-6a0408a662f1",
   "metadata": {},
   "source": [
    "We can see that we are not targetting all annotated transcripts except for XRN2 (which has only 1 tx).\n",
    "In a real scenario, we would possssibly do such a check only on tx that are actually expressed in the respective\n",
    "cells. "
   ]
  }
 ],
 "metadata": {
  "kernelspec": {
   "display_name": "Python 3 (ipykernel)",
   "language": "python",
   "name": "python3"
  },
  "language_info": {
   "codemirror_mode": {
    "name": "ipython",
    "version": 3
   },
   "file_extension": ".py",
   "mimetype": "text/x-python",
   "name": "python",
   "nbconvert_exporter": "python",
   "pygments_lexer": "ipython3",
   "version": "3.10.4"
  }
 },
 "nbformat": 4,
 "nbformat_minor": 5
}
