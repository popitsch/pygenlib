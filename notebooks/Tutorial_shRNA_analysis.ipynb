{
 "cells": [
  {
   "cell_type": "markdown",
   "id": "0d29f813-68ef-42d2-be54-c3b58d9bd044",
   "metadata": {
    "tags": []
   },
   "source": [
    "# Tutorial: shRNA guide analysis\n",
    "\n",
    "In this small case study we use _rnalib_ to better understand the potential impact of a set of shRNA guides that were estimated by an (external) prediction tool.\n",
    "Briefly, we will do the following:\n",
    "    \n",
    "- create a subset of the human transcriptome and load the gene sequences\n",
    "- create a random list of shRNA guide sequences (in a real scenario those would be predicted by an external tool like SplashRNA)\n",
    "- create a pandas dataframe containing \n",
    "    - the guide sequence \n",
    "    - a list of transcript ids that contain this guide (exact match) in their spliced RNA sequence\n",
    "    - a list of gene ids for these transcripts\n",
    "- filter guides that are not found or that target multiple genes\n",
    "- check for untargeted transcripts of the targeted genes\n",
    "\n",
    "Please note that the code in this case study is not optimized and is more explicit than necessary in order to showcase the API and make the example easier to understand. "
   ]
  },
  {
   "cell_type": "code",
   "execution_count": 1,
   "id": "706905ca-0e0f-409c-b8ab-f455b5f3002b",
   "metadata": {},
   "outputs": [
    {
     "data": {
      "text/plain": [
       "'Running rnalib 0.0.2 on python 3.12.1'"
      ]
     },
     "metadata": {},
     "output_type": "display_data"
    }
   ],
   "source": [
    "import os, pathlib, platform\n",
    "from tqdm.auto import tqdm\n",
    "import matplotlib.pyplot as plt\n",
    "import seaborn as sns\n",
    "from collections import Counter, defaultdict\n",
    "import pandas as pd\n",
    "import numpy as np\n",
    "import traceback\n",
    "import math\n",
    "import random\n",
    "\n",
    "# load rnalib\n",
    "import rnalib as rna\n",
    "from rnalib import gi, SEP, display_textarea\n",
    "plt.rcParams[\"figure.figsize\"] = (20,3)\n",
    "\n",
    "display(f\"Running rnalib {rna.__version__} on python {platform.python_version()}\")\n",
    "rna.__RNALIB_TESTDATA__ = \"rnalib_testdata/\""
   ]
  },
  {
   "cell_type": "markdown",
   "id": "bea3a5c2-6942-4d5e-b81e-3b1abdcf66f3",
   "metadata": {},
   "source": [
    "## Test datasets\n",
    "\n",
    "This notebook as well as rnalib's testing suite use various test resources (genomics data files and indexing structures) that can be created by \n",
    "running the rnalib `rnalib_create_testdata` script or by calling the `testdata.create_testdata()` method. There are two seperate resource sets:\n",
    "\n",
    "* test_resources: small test datasets that are used by rnalib's test suite\n",
    "* large_test_resources: larger test files that are needed to demonstrate rnalib under realistic conditions. \n",
    "\n",
    "Rnalib knows about the test data directory via the package-global __RNALIB_TESTDATA__ variable. This variable can either be set via the \"RNALIB_TESTDATA\" environment variable or by monkeypatching (rna.__RNALIB_TESTDATA__ = <mydir>) as shown below. Once this is done, test data resources can be accessed via \n",
    "`get_resource(<resource_id>)`. Rnalib will recreate these resources only if they are not found in the provided output folder.\n"
   ]
  },
  {
   "cell_type": "code",
   "execution_count": null,
   "id": "032d9b82-1cb2-44cf-8dd9-bc9a13456121",
   "metadata": {},
   "outputs": [],
   "source": [
    "if not os.path.isdir(rna.__RNALIB_TESTDATA__):\n",
    "    os.mkdir(rna.__RNALIB_TESTDATA__)\n",
    "    display(\"Creating testdata at {rna.__RNALIB_TESTDATA__ }\")\n",
    "    rna.testdata.create_testdata(rna.__RNALIB_TESTDATA__, \n",
    "                                 rna.testdata.large_test_resources)\n",
    "else:\n",
    "    display(f\"Testdata at {rna.__RNALIB_TESTDATA__}\")\n",
    "    rna.print_dir_tree(rna.__RNALIB_TESTDATA__)"
   ]
  },
  {
   "cell_type": "code",
   "execution_count": 2,
   "id": "4954c503-5172-4c2f-8234-a37e34844260",
   "metadata": {},
   "outputs": [
    {
     "data": {
      "application/vnd.jupyter.widget-view+json": {
       "model_id": "d4d7b7ac9cba4d7daa7fc1e837c93322",
       "version_major": 2,
       "version_minor": 0
      },
      "text/plain": [
       "Building transcriptome (1 chromosomes)\n",
       ":   0%|          | 0/1 [00:00<?, ?it/s]"
      ]
     },
     "metadata": {},
     "output_type": "display_data"
    },
    {
     "data": {
      "application/vnd.jupyter.widget-view+json": {
       "model_id": "d5121930d3274f5dbef49382dcbff30e",
       "version_major": 2,
       "version_minor": 0
      },
      "text/plain": [
       "Load sequences:   0%|          | 0/1480 [00:00<?, ?it/s]"
      ]
     },
     "metadata": {},
     "output_type": "display_data"
    },
    {
     "data": {
      "application/vnd.jupyter.widget-view+json": {
       "model_id": "dc1014debf124356a8b5c6e53e47014b",
       "version_major": 2,
       "version_minor": 0
      },
      "text/plain": [
       "Build interval trees:   0%|          | 0/1480 [00:00<?, ?it/s]"
      ]
     },
     "metadata": {},
     "output_type": "display_data"
    },
    {
     "data": {
      "text/plain": [
       "Transcriptome with 1480 genes and 5822 tx (+seq)"
      ]
     },
     "metadata": {},
     "output_type": "display_data"
    }
   ],
   "source": [
    "# Build subset of human transcriptome (chr20)\n",
    "t=rna.Transcriptome(\n",
    "    annotation_gff = rna.get_resource(\"full_gencode_gff\"),\n",
    "    annotation_flavour='gencode',\n",
    "    genome_fa = rna.get_resource(\"grch38_chr20\"),\n",
    "    copied_fields=['gene_type'],\n",
    "    feature_filter = rna.TranscriptFilter().include_chromosomes(['chr20']),\n",
    "    load_sequence_data=True\n",
    ")\n",
    "\n",
    "display(t)"
   ]
  },
  {
   "cell_type": "code",
   "execution_count": 6,
   "id": "4e4ae843-6bd5-4a26-bd2e-bf19fd81aa40",
   "metadata": {},
   "outputs": [
    {
     "name": "stdout",
     "output_type": "stream",
     "text": [
      "['AATGAAATTA', 'TTCTCACTGA', 'AAAACTCAGT', 'AATCATAATG', 'TATTACACCA', 'ATTAGAATAA', 'TAGGTGTGTA', 'CGTATCTTAA', 'CATAGAAATT', 'CAATTTACGC', 'GAAATCGTTC', 'GCGTAAAAAA', 'TACTATAATA', 'TATTCTACAA', 'TTGAGTTCAG', 'TCTTCCCAGC', 'AAAAAGGCAG', 'TTGACACCTC', 'CCTCACACTC', 'TAACACGGTT']\n"
     ]
    }
   ],
   "source": [
    "# create a random set of shRNA guides of length 10. In a real scenario those would be predicted by some external tool such as SplashRNA.\n",
    "# Here, we use rnd_seq, a convenience rnalib method, to create 3 random guide sequences with low GC%. \n",
    "random.seed(0) # if you change this, different random sequences will be created\n",
    "guides=rna.rnd_seq(10, 'GC'* 30 + 'AT' * 70, 20) # create random sequences with expect 30% GC content\n",
    "print(guides)"
   ]
  },
  {
   "cell_type": "code",
   "execution_count": 8,
   "id": "4d7238b9-a2bd-43a5-8574-5b78bfcbf197",
   "metadata": {},
   "outputs": [
    {
     "data": {
      "application/vnd.jupyter.widget-view+json": {
       "model_id": "cdf4fb8b6a4e496595a97de212b1f23a",
       "version_major": 2,
       "version_minor": 0
      },
      "text/plain": [
       "analyzing guide:   0%|          | 0/20 [00:00<?, ?it/s]"
      ]
     },
     "metadata": {},
     "output_type": "display_data"
    },
    {
     "data": {
      "text/html": [
       "<div>\n",
       "<style scoped>\n",
       "    .dataframe tbody tr th:only-of-type {\n",
       "        vertical-align: middle;\n",
       "    }\n",
       "\n",
       "    .dataframe tbody tr th {\n",
       "        vertical-align: top;\n",
       "    }\n",
       "\n",
       "    .dataframe thead th {\n",
       "        text-align: right;\n",
       "    }\n",
       "</style>\n",
       "<table border=\"1\" class=\"dataframe\">\n",
       "  <thead>\n",
       "    <tr style=\"text-align: right;\">\n",
       "      <th></th>\n",
       "      <th>guide_seq</th>\n",
       "      <th>genes</th>\n",
       "      <th>n_gids</th>\n",
       "      <th>tids</th>\n",
       "    </tr>\n",
       "  </thead>\n",
       "  <tbody>\n",
       "    <tr>\n",
       "      <th>0</th>\n",
       "      <td>AATGAAATTA</td>\n",
       "      <td>SNAP25-AS1,NFATC2,DYNLRB1,ITCH,ENSG00000228935...</td>\n",
       "      <td>9</td>\n",
       "      <td>ENST00000603542.6,ENST00000374846.3,ENST000006...</td>\n",
       "    </tr>\n",
       "    <tr>\n",
       "      <th>1</th>\n",
       "      <td>TTCTCACTGA</td>\n",
       "      <td>MKKS,SNPH,MIR646HG,CTSZ</td>\n",
       "      <td>4</td>\n",
       "      <td>ENST00000681011.1,ENST00000399054.6,ENST000003...</td>\n",
       "    </tr>\n",
       "    <tr>\n",
       "      <th>2</th>\n",
       "      <td>AAAACTCAGT</td>\n",
       "      <td>STK4,LINC00261,SYCP2,CFAP61</td>\n",
       "      <td>4</td>\n",
       "      <td>ENST00000377306.5,ENST00000451767.6,ENST000006...</td>\n",
       "    </tr>\n",
       "    <tr>\n",
       "      <th>3</th>\n",
       "      <td>AATCATAATG</td>\n",
       "      <td>SPO11</td>\n",
       "      <td>1</td>\n",
       "      <td>ENST00000345868.8,ENST00000494972.1,ENST000003...</td>\n",
       "    </tr>\n",
       "    <tr>\n",
       "      <th>4</th>\n",
       "      <td>TATTACACCA</td>\n",
       "      <td>SERINC3,XRN2</td>\n",
       "      <td>2</td>\n",
       "      <td>ENST00000255175.5,ENST00000342374.5,ENST000003...</td>\n",
       "    </tr>\n",
       "    <tr>\n",
       "      <th>5</th>\n",
       "      <td>ATTAGAATAA</td>\n",
       "      <td>ADNP</td>\n",
       "      <td>1</td>\n",
       "      <td>ENST00000371602.9</td>\n",
       "    </tr>\n",
       "    <tr>\n",
       "      <th>6</th>\n",
       "      <td>TAGGTGTGTA</td>\n",
       "      <td>ENSG00000228293</td>\n",
       "      <td>1</td>\n",
       "      <td>ENST00000418739.1</td>\n",
       "    </tr>\n",
       "    <tr>\n",
       "      <th>7</th>\n",
       "      <td>CGTATCTTAA</td>\n",
       "      <td></td>\n",
       "      <td>0</td>\n",
       "      <td></td>\n",
       "    </tr>\n",
       "  </tbody>\n",
       "</table>\n",
       "</div>"
      ],
      "text/plain": [
       "    guide_seq                                              genes  n_gids  \\\n",
       "0  AATGAAATTA  SNAP25-AS1,NFATC2,DYNLRB1,ITCH,ENSG00000228935...       9   \n",
       "1  TTCTCACTGA                            MKKS,SNPH,MIR646HG,CTSZ       4   \n",
       "2  AAAACTCAGT                        STK4,LINC00261,SYCP2,CFAP61       4   \n",
       "3  AATCATAATG                                              SPO11       1   \n",
       "4  TATTACACCA                                       SERINC3,XRN2       2   \n",
       "5  ATTAGAATAA                                               ADNP       1   \n",
       "6  TAGGTGTGTA                                    ENSG00000228293       1   \n",
       "7  CGTATCTTAA                                                          0   \n",
       "\n",
       "                                                tids  \n",
       "0  ENST00000603542.6,ENST00000374846.3,ENST000006...  \n",
       "1  ENST00000681011.1,ENST00000399054.6,ENST000003...  \n",
       "2  ENST00000377306.5,ENST00000451767.6,ENST000006...  \n",
       "3  ENST00000345868.8,ENST00000494972.1,ENST000003...  \n",
       "4  ENST00000255175.5,ENST00000342374.5,ENST000003...  \n",
       "5                                  ENST00000371602.9  \n",
       "6                                  ENST00000418739.1  \n",
       "7                                                     "
      ]
     },
     "metadata": {},
     "output_type": "display_data"
    }
   ],
   "source": [
    "# now we search for transcripts that contain respective kmers in their spliced RNA seq. \n",
    "# To make this fast, we first search for the kmer in the respective gene sequence (candidate_genes) and for those\n",
    "# check all spliced tx sequences (overlapping_tx).\n",
    "# Finally, we are interested whether some guides bind RNAs from multiple genes and create a set of gene ids for the overlapping genes (overlapping_genes).\n",
    "# We combine the results in a pandas dataframe\n",
    "d=[]\n",
    "for guide in tqdm(guides, total=len(guides), desc='analyzing guide'):\n",
    "    candidate_genes={g for g in t.genes if guide in g.sequence} # get genes that contain the guide sequence or its reverse complement\n",
    "    candidate_genes|={g for g in t.genes if rna.reverse_complement(guide) in g.sequence} # get genes that contain the guide sequence or its reverse complement\n",
    "    overlapping_tx={tx for g in candidate_genes for tx in g.transcript if guide in tx.spliced_sequence}\n",
    "    overlapping_genes={tx.parent.gene_name for tx in overlapping_tx}\n",
    "    d.append(\n",
    "        {\n",
    "            'guide_seq': guide,\n",
    "            'genes': ','.join(overlapping_genes),\n",
    "            'n_gids': len(overlapping_genes),\n",
    "            'tids': ','.join([tx.feature_id for tx in overlapping_tx])\n",
    "        }\n",
    "    )\n",
    "df=pd.DataFrame(d)\n",
    "display(df.head(8))"
   ]
  },
  {
   "cell_type": "code",
   "execution_count": 9,
   "id": "73d46887-d426-4b3d-86d1-93ed48c654ab",
   "metadata": {},
   "outputs": [
    {
     "data": {
      "text/html": [
       "<div>\n",
       "<style scoped>\n",
       "    .dataframe tbody tr th:only-of-type {\n",
       "        vertical-align: middle;\n",
       "    }\n",
       "\n",
       "    .dataframe tbody tr th {\n",
       "        vertical-align: top;\n",
       "    }\n",
       "\n",
       "    .dataframe thead th {\n",
       "        text-align: right;\n",
       "    }\n",
       "</style>\n",
       "<table border=\"1\" class=\"dataframe\">\n",
       "  <thead>\n",
       "    <tr style=\"text-align: right;\">\n",
       "      <th></th>\n",
       "      <th>guide_seq</th>\n",
       "      <th>genes</th>\n",
       "      <th>n_gids</th>\n",
       "      <th>tids</th>\n",
       "    </tr>\n",
       "  </thead>\n",
       "  <tbody>\n",
       "    <tr>\n",
       "      <th>3</th>\n",
       "      <td>AATCATAATG</td>\n",
       "      <td>SPO11</td>\n",
       "      <td>1</td>\n",
       "      <td>ENST00000345868.8,ENST00000494972.1,ENST000003...</td>\n",
       "    </tr>\n",
       "    <tr>\n",
       "      <th>5</th>\n",
       "      <td>ATTAGAATAA</td>\n",
       "      <td>ADNP</td>\n",
       "      <td>1</td>\n",
       "      <td>ENST00000371602.9</td>\n",
       "    </tr>\n",
       "    <tr>\n",
       "      <th>6</th>\n",
       "      <td>TAGGTGTGTA</td>\n",
       "      <td>ENSG00000228293</td>\n",
       "      <td>1</td>\n",
       "      <td>ENST00000418739.1</td>\n",
       "    </tr>\n",
       "    <tr>\n",
       "      <th>10</th>\n",
       "      <td>GAAATCGTTC</td>\n",
       "      <td>C20orf144</td>\n",
       "      <td>1</td>\n",
       "      <td>ENST00000375222.4</td>\n",
       "    </tr>\n",
       "    <tr>\n",
       "      <th>13</th>\n",
       "      <td>TATTCTACAA</td>\n",
       "      <td>APCDD1L-DT</td>\n",
       "      <td>1</td>\n",
       "      <td>ENST00000448374.5,ENST00000447767.1</td>\n",
       "    </tr>\n",
       "    <tr>\n",
       "      <th>14</th>\n",
       "      <td>TTGAGTTCAG</td>\n",
       "      <td>MACROD2</td>\n",
       "      <td>1</td>\n",
       "      <td>ENST00000490428.5</td>\n",
       "    </tr>\n",
       "  </tbody>\n",
       "</table>\n",
       "</div>"
      ],
      "text/plain": [
       "     guide_seq            genes  n_gids  \\\n",
       "3   AATCATAATG            SPO11       1   \n",
       "5   ATTAGAATAA             ADNP       1   \n",
       "6   TAGGTGTGTA  ENSG00000228293       1   \n",
       "10  GAAATCGTTC        C20orf144       1   \n",
       "13  TATTCTACAA       APCDD1L-DT       1   \n",
       "14  TTGAGTTCAG          MACROD2       1   \n",
       "\n",
       "                                                 tids  \n",
       "3   ENST00000345868.8,ENST00000494972.1,ENST000003...  \n",
       "5                                   ENST00000371602.9  \n",
       "6                                   ENST00000418739.1  \n",
       "10                                  ENST00000375222.4  \n",
       "13                ENST00000448374.5,ENST00000447767.1  \n",
       "14                                  ENST00000490428.5  "
      ]
     },
     "metadata": {},
     "output_type": "display_data"
    }
   ],
   "source": [
    "# In the DF above, we can see that some guides (e.g., CGTATCTTAA) are not found (no gids) while some target multiple \n",
    "# genes (e.g., AATGAAATTA). This is expected here as we generate short (10bp) sequences with low GC% and sequence complexity\n",
    "# that are likely found in many genomic locations. In a real scenario, one would expect few such cases for guides predicted by SOTA tools.\n",
    "# We continue the analysis by filtering those bad guides...\n",
    "fil=df[df['n_gids']==1].copy() \n",
    "display(fil)"
   ]
  },
  {
   "cell_type": "code",
   "execution_count": 10,
   "id": "abb3a721-6b47-41b4-8299-5d3a41024281",
   "metadata": {},
   "outputs": [
    {
     "data": {
      "text/html": [
       "<div>\n",
       "<style scoped>\n",
       "    .dataframe tbody tr th:only-of-type {\n",
       "        vertical-align: middle;\n",
       "    }\n",
       "\n",
       "    .dataframe tbody tr th {\n",
       "        vertical-align: top;\n",
       "    }\n",
       "\n",
       "    .dataframe thead th {\n",
       "        text-align: right;\n",
       "    }\n",
       "</style>\n",
       "<table border=\"1\" class=\"dataframe\">\n",
       "  <thead>\n",
       "    <tr style=\"text-align: right;\">\n",
       "      <th></th>\n",
       "      <th>guide_seq</th>\n",
       "      <th>genes</th>\n",
       "      <th>n_gids</th>\n",
       "      <th>tids</th>\n",
       "      <th>missed_tx</th>\n",
       "      <th>gene_name</th>\n",
       "    </tr>\n",
       "  </thead>\n",
       "  <tbody>\n",
       "    <tr>\n",
       "      <th>3</th>\n",
       "      <td>AATCATAATG</td>\n",
       "      <td>SPO11</td>\n",
       "      <td>1</td>\n",
       "      <td>ENST00000345868.8,ENST00000494972.1,ENST000003...</td>\n",
       "      <td>1/5</td>\n",
       "      <td>SPO11</td>\n",
       "    </tr>\n",
       "    <tr>\n",
       "      <th>5</th>\n",
       "      <td>ATTAGAATAA</td>\n",
       "      <td>ADNP</td>\n",
       "      <td>1</td>\n",
       "      <td>ENST00000371602.9</td>\n",
       "      <td>8/9</td>\n",
       "      <td>ADNP</td>\n",
       "    </tr>\n",
       "    <tr>\n",
       "      <th>6</th>\n",
       "      <td>TAGGTGTGTA</td>\n",
       "      <td>ENSG00000228293</td>\n",
       "      <td>1</td>\n",
       "      <td>ENST00000418739.1</td>\n",
       "      <td>0/1</td>\n",
       "      <td>ENSG00000228293</td>\n",
       "    </tr>\n",
       "    <tr>\n",
       "      <th>10</th>\n",
       "      <td>GAAATCGTTC</td>\n",
       "      <td>C20orf144</td>\n",
       "      <td>1</td>\n",
       "      <td>ENST00000375222.4</td>\n",
       "      <td>1/2</td>\n",
       "      <td>C20orf144</td>\n",
       "    </tr>\n",
       "    <tr>\n",
       "      <th>13</th>\n",
       "      <td>TATTCTACAA</td>\n",
       "      <td>APCDD1L-DT</td>\n",
       "      <td>1</td>\n",
       "      <td>ENST00000448374.5,ENST00000447767.1</td>\n",
       "      <td>7/9</td>\n",
       "      <td>APCDD1L-DT</td>\n",
       "    </tr>\n",
       "    <tr>\n",
       "      <th>14</th>\n",
       "      <td>TTGAGTTCAG</td>\n",
       "      <td>MACROD2</td>\n",
       "      <td>1</td>\n",
       "      <td>ENST00000490428.5</td>\n",
       "      <td>15/16</td>\n",
       "      <td>MACROD2</td>\n",
       "    </tr>\n",
       "  </tbody>\n",
       "</table>\n",
       "</div>"
      ],
      "text/plain": [
       "     guide_seq            genes  n_gids  \\\n",
       "3   AATCATAATG            SPO11       1   \n",
       "5   ATTAGAATAA             ADNP       1   \n",
       "6   TAGGTGTGTA  ENSG00000228293       1   \n",
       "10  GAAATCGTTC        C20orf144       1   \n",
       "13  TATTCTACAA       APCDD1L-DT       1   \n",
       "14  TTGAGTTCAG          MACROD2       1   \n",
       "\n",
       "                                                 tids missed_tx  \\\n",
       "3   ENST00000345868.8,ENST00000494972.1,ENST000003...       1/5   \n",
       "5                                   ENST00000371602.9       8/9   \n",
       "6                                   ENST00000418739.1       0/1   \n",
       "10                                  ENST00000375222.4       1/2   \n",
       "13                ENST00000448374.5,ENST00000447767.1       7/9   \n",
       "14                                  ENST00000490428.5     15/16   \n",
       "\n",
       "          gene_name  \n",
       "3             SPO11  \n",
       "5              ADNP  \n",
       "6   ENSG00000228293  \n",
       "10        C20orf144  \n",
       "13       APCDD1L-DT  \n",
       "14          MACROD2  "
      ]
     },
     "metadata": {},
     "output_type": "display_data"
    }
   ],
   "source": [
    "# ...and now we want to check for the remaining ones whether all tx of the respective genes are targeted.\n",
    "# For this, we query the transcriptome for sets of transcript ids annotated for a given gene and use the \n",
    "# rnalib cmp_sets() method to get shared and unique items when comparing to the set of transcript ids we \n",
    "# found to be targeted by each guide.\n",
    "# Finally, we add the number of missed (untargeted) transcripts and the respective gene names to the dataframe.\n",
    "missed_tx, gene_names=[],[]\n",
    "for guide, gid, tids in zip(fil['guide_seq'], fil['genes'], fil['tids']):\n",
    "    all_tid={tx.feature_id for tx in t.gene[gid].transcript}\n",
    "    found_tids=set(tids.split(','))\n",
    "    # cmp_sets is a rnalib utility function for set comparison\n",
    "    s,m,w=rna.cmp_sets(all_tid, found_tids)\n",
    "    missed_tx.append(f\"{len(m)}/{len(all_tid)}\")\n",
    "    gene_names.append(t.gene[gid].gene_name)\n",
    "    assert len(w)==0, \"We should not find a tx that was not found before\"\n",
    "fil['missed_tx']=missed_tx\n",
    "fil['gene_name']=gene_names\n",
    "display(fil)"
   ]
  },
  {
   "cell_type": "markdown",
   "id": "3a7e002e-8cdc-4e14-a1a3-6a0408a662f1",
   "metadata": {},
   "source": [
    "We can see that we are not targetting all annotated transcripts except for ENSG00000228293 (we miss zero of 1 total transcripts).\n",
    "In a real scenario, we would possibly do such a check only on tx that are actually expressed in the respective\n",
    "cells (see our expression analysis tutorial). "
   ]
  }
 ],
 "metadata": {
  "kernelspec": {
   "display_name": "rnalib",
   "language": "python",
   "name": "rnalib"
  },
  "language_info": {
   "codemirror_mode": {
    "name": "ipython",
    "version": 3
   },
   "file_extension": ".py",
   "mimetype": "text/x-python",
   "name": "python",
   "nbconvert_exporter": "python",
   "pygments_lexer": "ipython3",
   "version": "3.12.1"
  }
 },
 "nbformat": 4,
 "nbformat_minor": 5
}
