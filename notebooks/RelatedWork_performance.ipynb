{
 "cells": [
  {
   "cell_type": "markdown",
   "id": "d859d2aa-385c-4774-a9f9-6ea1756a84dd",
   "metadata": {},
   "source": [
    "# Related Work\n",
    "\n",
    "In this notebook we compare rnalib to related work, namely to\n",
    "* [pybedtools](https://daler.github.io/pybedtools/index.html), a python library wrapping the popular BEDTools utilities and\n",
    "* [bioframe](https://bioframe.readthedocs.io/), a genomics library based on pandas dataframes.\n",
    "\n",
    "Pybedtools enables various set theory operations on genomic dataset (such as intersect, merge, count, complement,\n",
    "and shuffle) in various data formats (BAM, BED, GFF/GTF and VCF) and also supports data streaming.\n",
    "Bioframe is built on top of pandas dataframes and provides a flexible and scalable API for working with genomic\n",
    "intervals. In this regard, the functionality of both libraries overlaps partially with rnalib's genomic iterators\n",
    "that are built on top of the pysam implementation.\n",
    "\n",
    "The three compared libraries implement different approaches, each having with pros and cons in different access scenarios:\n",
    "* Bioframe leverages the efficient implementation of pandas dataframes but needs to load the whole dataset into\n",
    "memory before it can be processed.\n",
    "* Pybedtools is built on the efficient implementation of BEDtools and shows good performance in pure iteration tasks \n",
    "but provides no random access features which means that some filtering tasks require preprocessing the whole dataset \n",
    "when just a small subset is needed.\n",
    "* rnalib is built on the efficient implementation of pysam and leverages indexing data structures of genomics\n",
    "datasets (e.g., BAM or tabix indices) for efficient random access\n",
    "\n",
    "In the [first section](#Performance-comparison) of this notebook, we compare the performance of the three libraries in different scenarios in order to highlighttheir respective strengths and weaknesses. In a summary, rnalib's iterators (based on the respective pysam implementation) are clearly outperformed by other implementations if whole datasets are considered/iterated but are much faster when only subregions are considered due to its efficient random access features.\n",
    "\n",
    "Overall, however, please note that iterating over large interval sets is generally considered slow and is often not needed. In many cases you can use list comprehension, vectorisation or mechanisms such as pandas apply() or pybedtools each(). Nevertheless, there are scenarios in which we consider iteration useful, e.g., if you need to access to contextual data (e.g., annotation results from previous data rows) or if you need (fine-grained) access to multiple synchronized datasets in parallel. Performance drawbacks of iteration approaches are also diminished when integrating multiple iterators in parallel. \n",
    "\n",
    "Another perspective is that during a design/development phase of novel algorithms, code readability and reproducibility are more important than pure \n",
    "code performance. rnalib enables developers to quickly apply their code to either whole datasets or particular (complex) sub-regions. We also hope that rnalib's approach can reduce potential error sources such as the ones discussed in the 'pitfalls' section. \n",
    "\n",
    "Overall, however, we envision that user's would like to mix and match these three and other genomics libraries based on the actual use-case and performance requirements. Users could, for example, use BEDtools set operations on some input file, store these files and then run a rnalib analysis on them. Or they could use rnalib to instantiate an annotated transcriptome, convert it to a pandas dataframe and use bioframe for further analysis.\n",
    "rnalib implements respective interfaces for this purpose (e.g., a `PybedtoolsIterator` that wraps a pybedtools BedTool while providing the same interface (e.g., region filtering, stats  output) as other rnalib iterators or a `to_dataframe()` method for converting an (annotated) transcriptome to a bioframe-compatible pandas dataframe).\n",
    "\n",
    "In the [second section](#Potential-pitfalls) of this notebook, we demonstrate some potential pitfalls of pybedtools and bioframe and discuss rnalib's strategies to avoid those.\n",
    "\n"
   ]
  },
  {
   "cell_type": "code",
   "execution_count": 10,
   "id": "92653179-8d43-4052-8121-134c0cadd804",
   "metadata": {
    "tags": []
   },
   "outputs": [
    {
     "data": {
      "text/plain": [
       "'Running rnalib 1.0.0 on python 3.10.4'"
      ]
     },
     "metadata": {},
     "output_type": "display_data"
    }
   ],
   "source": [
    "# set path and load rnalib\n",
    "import os, pathlib, platform\n",
    "import biotite.sequence as seq\n",
    "from Bio.Align import PairwiseAligner\n",
    "from collections import Counter\n",
    "import matplotlib.pyplot as plt\n",
    "from tqdm.auto import tqdm\n",
    "import pandas as pd\n",
    "import pysam\n",
    "import numpy as np\n",
    "import pprint\n",
    "import pybedtools \n",
    "import bioframe\n",
    "import tempfile\n",
    "import pytest\n",
    "import dataclasses\n",
    "import random\n",
    "\n",
    "# load rnalib\n",
    "import rnalib as rna\n",
    "from rnalib import gi, SEP, display_textarea\n",
    "plt.rcParams[\"figure.figsize\"] = (20,3)\n",
    "\n",
    "display(f\"Running rnalib {rna.__version__} on python {platform.python_version()}\")"
   ]
  },
  {
   "cell_type": "markdown",
   "id": "bc32ea00-f692-458b-9fa7-24883c8db35c",
   "metadata": {},
   "source": [
    "## Test datasets\n",
    "\n",
    "This notebook as well as rnalib's testing suite use various test resources (genomics data files and indexing structures) that can be created by \n",
    "running the rnalib `rnalib_create_testdata` script or by calling the `testdata.create_testdata()` method. There are two seperate resource sets:\n",
    "\n",
    "* test_resources: small test datasets that are used by rnalib's test suite\n",
    "* large_test_resources: larger test files that are needed to demonstrate rnalib under realistic conditions. \n",
    "\n",
    "Rnalib knows about the test data directory via the package-global __RNALIB_TESTDATA__ variable. This variable can either be set via the \"RNALIB_TESTDATA\" environment variable or by monkeypatching (rna.__RNALIB_TESTDATA__ = <mydir>) as shown below. Once this is done, test data resources can be accessed via \n",
    "`get_resource(<resource_id>)`. Rnalib will recreate these resources only if they are not found in the provided output folder.\n"
   ]
  },
  {
   "cell_type": "code",
   "execution_count": 2,
   "id": "a50c0657-d993-4281-bd92-28019ac98baa",
   "metadata": {},
   "outputs": [
    {
     "data": {
      "text/plain": [
       "'Testdata at rnalib_testdata/'"
      ]
     },
     "metadata": {},
     "output_type": "display_data"
    },
    {
     "name": "stdout",
     "output_type": "stream",
     "text": [
      "├── bigfiles\n",
      "│   ├── grch38_chr20.fa.gz.gzi\n",
      "│   ├── chess3.0.1.gtf.gz\n",
      "│   ├── gencode_39.gff3.gz\n",
      "│   ├── hgnc_complete_set.txt\n",
      "│   ├── gencode_39.gff3.gz.tbi\n",
      "│   ├── grch38_chr20.fa.gz\n",
      "│   ├── GRCh38.k24.umap.bedgraph.gz\n",
      "│   ├── grch38_chr20.fa.gz.fai\n",
      "│   ├── chess3.0.1.gtf.gz.tbi\n",
      "│   └── GRCh38.k24.umap.bedgraph.gz.tbi\n",
      "├── bed\n",
      "│   ├── test_bed12.bed.gz.tbi\n",
      "│   ├── test_bed12.bed.gz\n",
      "│   ├── test.bed.gz\n",
      "│   ├── test.bedgraph.gz\n",
      "│   ├── pybedtools_snps.bed.gz\n",
      "│   ├── test_nist.b37_chr20_100kbp_at_10mb.bed\n",
      "│   ├── dmel_randomvalues.bedgraph.gz\n",
      "│   ├── GRCh38.k24.umap.ACTB_ex1+2.bedgraph.gz\n",
      "│   ├── dmel_randomvalues.bedgraph.gz.tbi\n",
      "│   ├── test.bedgraph.gz.tbi\n",
      "│   └── ...\n",
      "├── div\n",
      "│   └── hgnc_complete_set.head.txt.gz\n",
      "├── bam\n",
      "│   ├── NA12878_S1.chr20.10_10p1mb.bam\n",
      "│   ├── mapt.NA12156.altex.small.bam\n",
      "│   ├── NA12878_S1.chr20.10_10p1mb.bam.bai\n",
      "│   ├── mapt.NA12156.altex.small.bam.bai\n",
      "│   ├── rogue_read.bam.bai\n",
      "│   ├── rogue_read.bam\n",
      "│   ├── small.ACTB+SOX2.bam.bai\n",
      "│   ├── small_example.bam\n",
      "│   ├── small_example.bam.bai\n",
      "│   └── small.ACTB+SOX2.bam\n",
      "├── fasta\n",
      "│   ├── ACTB+SOX2.fa.gz.fai\n",
      "│   ├── dmel_r6.36.fa.gz.gzi\n",
      "│   ├── ACTB+SOX2.fa.gz\n",
      "│   ├── ACTB+SOX2.fa.gz.gzi\n",
      "│   ├── dmel_r6.36.fa.gz.fai\n",
      "│   └── dmel_r6.36.fa.gz\n",
      "├── gff\n",
      "│   ├── pybedtools_gff.gff3.gz.tbi\n",
      "│   ├── chess3.GRCh38.ACTB+SOX2.gtf.gz.tbi\n",
      "│   ├── mirgenedb.dme.sorted.gff3.gz.tbi\n",
      "│   ├── gencode_44.ACTB+SOX2.gff3.gz\n",
      "│   ├── chess3.GRCh38.ACTB+SOX2.gtf.gz\n",
      "│   ├── pybedtools_gff.gff3.gz\n",
      "│   ├── flybase_dmel-2L-r6.36.gtf.gz.tbi\n",
      "│   ├── UCSC.hg38.ncbiRefSeq.ACTB+SOX2.sorted.gtf.gz\n",
      "│   ├── chess3.GRCh38.ACTB+SOX2.gff3.gz\n",
      "│   ├── ensembl_Homo_sapiens.GRCh38.110.ACTB+SOX2.gff3.gz\n",
      "│   └── ...\n",
      "├── vcf\n",
      "│   ├── dmelanogaster_6_exported_20230523.vcf.gz.tbi\n",
      "│   ├── test_snps.vcf.gz\n",
      "│   ├── test.vcf.gz.tbi\n",
      "│   ├── dmelanogaster_6_exported_20230523.vcf.gz\n",
      "│   ├── test.vcf.gz\n",
      "│   └── test_snps.vcf.gz.tbi\n",
      "├── .ipynb_checkpoints\n",
      "├── fastq\n",
      "│   ├── Test01_L001_R1_001.top20.fastq\n",
      "│   ├── test.fq.gz\n",
      "│   └── Test01_L001_R2_001.top20.fastq\n",
      "└── fast5\n",
      "    ├── 003c04de-f704-491e-8d0c-33ffa269423d.fast5\n",
      "    └── FAT61995_a1291c8f_5.fast5\n"
     ]
    }
   ],
   "source": [
    "rna.__RNALIB_TESTDATA__ = \"rnalib_testdata/\"\n",
    "\n",
    "if not os.path.isdir(rna.__RNALIB_TESTDATA__):\n",
    "    os.mkdir(rna.__RNALIB_TESTDATA__)\n",
    "    display(\"Creating testdata at {rna.__RNALIB_TESTDATA__ }\")\n",
    "    rna.testdata.create_testdata(rna.__RNALIB_TESTDATA__, \n",
    "                                 rna.testdata.large_test_resources)\n",
    "else:\n",
    "    display(f\"Testdata at {rna.__RNALIB_TESTDATA__}\")\n",
    "    rna.print_dir_tree(rna.__RNALIB_TESTDATA__)"
   ]
  },
  {
   "cell_type": "markdown",
   "id": "6fa4dde0-9002-418d-bd83-8e66d9b9481f",
   "metadata": {},
   "source": [
    "## Supported Data Formats"
   ]
  },
  {
   "cell_type": "markdown",
   "id": "5f9353b9-08b0-4570-90cc-ccbb4f0c8f4c",
   "metadata": {},
   "source": [
    "The following table provides an overview of some popular genomics datasets that are supported\n",
    "by the compared libraries:\n",
    "\n",
    "| format | pybedtools | bioframe | rnalib |\n",
    "|--------|------------|----------|----------|\n",
    "| TSV    | +          | +        | +        |\n",
    "| BED    | +          | +        | +        |\n",
    "| GFF    | +          | +        | +        |\n",
    "| GTF    | +          | +        | +        |\n",
    "| VCF    | +          | +        | +        |\n",
    "| BAM    | +          | +        | +        |\n",
    "| BigBed | +          | +        | -        |\n",
    "| BigWig | -          | +        | -        |\n",
    "| pairix | -          | +        | -        |\n",
    "| FASTA  | -          | +        | +        |\n",
    "| FASTQ  | -          | -        | +        |\n",
    "| FAST5  | -          | -        | /       |"
   ]
  },
  {
   "cell_type": "markdown",
   "id": "a5ae2b3a-2d29-402a-a1d7-a54014a84a39",
   "metadata": {},
   "source": [
    "## Performance comparison\n",
    "In this section we compare iteration speed for various iterators in different scenarios and plot the results.\n",
    "Note that many factors are influencing these benchmarks (such as I/O speed, memory consumption, file composition, etc.) so be careful when drawing conclusions.\n",
    "\n",
    "Due to the efficient implementation of BEDtools, pybedtools is considerably faster than the corresponding rnalib iterators when simply iterating large datasets. \n",
    "\n",
    "\n",
    "\n",
    "\n",
    "While pybedtools is considerably faster than the corresponding 'native' rnalib iterators, it is also a bit 'unsafer' to use them as demonstrated below. Overall, however, we envision that user's would like to mix and match pybedtools and rnalib based on the actual use-case and performance requirements. Users could, for example, use BEDtools set operations on some input file, store these files and then run a rnalib analysis on them.\n",
    "\n",
    "To facilitate seamless workflows that integrate both libraries, we also implemented a `PybedtoolsIterator` that wraps a pybedtools BedTool while providing the same interface (e.g., region filtering, stats  output) as other rnalib iterators. Below we compare the performance of rnalib and pybedtools iterators on various tasks. \n"
   ]
  },
  {
   "cell_type": "markdown",
   "id": "40d9fe79-5d59-4838-9938-233fcd20ec69",
   "metadata": {
    "tags": []
   },
   "source": [
    "### Calculate average feature lengths\n",
    "In this example, we compare different ways to calculate the average feature length in a medium-sized bed file (from the pybedtools testdata repository).\n",
    "- rnalib's BedIterator is a bit slower than pybedtools which relies on the performant bedtools implementation for iterating the full bed file\n",
    "- The bioframe approach is fastest for this task as it first loads the whole dataset into a pandas dataframe that then allows very efficient calculation of mean feature lengths"
   ]
  },
  {
   "cell_type": "code",
   "execution_count": 11,
   "id": "4306ef95-f722-4ab5-95f5-ad0f93d17e95",
   "metadata": {
    "tags": []
   },
   "outputs": [
    {
     "data": {
      "image/png": "[encoded data removed]",
      "text/plain": [
       "<Figure size 640x480 with 1 Axes>"
      ]
     },
     "metadata": {},
     "output_type": "display_data"
    }
   ],
   "source": [
    "dataset='pybedtools_snps'\n",
    "bed_file = rna.get_resource(dataset)\n",
    "times, data=Counter(),Counter()\n",
    "# rnalib BED iterator.\n",
    "with rna.Timer(times, 'rnalib_iter') as timer:\n",
    "    data[timer.name] = []\n",
    "    with rna.BedIterator(bed_file) as it:\n",
    "        data[timer.name]=np.mean([len(loc) for loc,_ in it])\n",
    "        stats=it.stats\n",
    "# pybedtools \n",
    "with rna.Timer(times, 'pybedtools_iter') as timer:\n",
    "    data[timer.name] = np.mean([x.end-x.start for x in pybedtools.BedTool(bed_file)])\n",
    "# bioframe\n",
    "with rna.Timer(times, 'BioframeIterator_iter') as timer:\n",
    "    with rna.BioframeIterator(bed_file) as it:\n",
    "        it.df['len']=it.df['end']-it.df['start']\n",
    "        data[timer.name] = it.df['len'].mean()\n",
    "\n",
    "    \n",
    "# assert that results match\n",
    "assert len({y for y in data.values()})==1, f\"Error in some computation: {data}\"\n",
    "\n",
    "n = stats[('yielded_items', None)]\n",
    "rna.plot_times(f\"Calculating mean feature length in {dataset} (n={n})\",\n",
    "           times, n=n,\n",
    "           reference_method='rnalib_iter')"
   ]
  },
  {
   "cell_type": "markdown",
   "id": "59917840-1be8-4d50-abe3-352358ef7b38",
   "metadata": {},
   "source": [
    "### Grouped aggregation\n",
    "Here we test grouped aggregation of some property using random datasets. First, we create a data frame with random intervals and random values between [0; 1000] and store it as bgzipped+tabixed bedgraph file. Then we test different methods for calculating a chromosome-grouped mean score. \n",
    "\n",
    "- For pybedtools, we intersect the file per chromosome, store the values in a numpy array and calculate the mean\n",
    "- In a second approach, we iterate the whole file and sum and count values in a per-chromosome dict. We then calculate the mean from these values.\n",
    "- For bioframe, we use the rnalib BioframeIterator class just for loading the dataframe and then group/aggregate directly with pandas functionality\n",
    "- We use rnalib's BedGraphIterator for iterating the values per chromosome, store them in a numpy array and calculate the mean\n",
    "\n",
    "Results:\n",
    "- Bioframe is the fastest option for this task due to the effienct pandas data grouping/aggregation functionality.\n",
    "- Pybedtools iteration is second fastest\n",
    "- rnalib's BedGraphIterator iterator comes out third as per-chromosome grouping is more efficiently handled than intersection in pybedtools.\n",
    "- Pybedtools intersection per chromosome is the slowest approach in this scenario"
   ]
  },
  {
   "cell_type": "code",
   "execution_count": 12,
   "id": "85f1801a-aa64-40af-bc4e-931df2e1bb3c",
   "metadata": {
    "tags": []
   },
   "outputs": [
    {
     "data": {
      "image/png": "[encoded data removed]",
      "text/plain": [
       "<Figure size 2000x300 with 3 Axes>"
      ]
     },
     "metadata": {},
     "output_type": "display_data"
    }
   ],
   "source": [
    "# from rnalib.testdata import make_random_intervals\n",
    "sizes=[1e4,1e5,1e6]\n",
    "chroms=['chr' + str(i + 1) for i in range(20)]\n",
    "fig, axes = plt.subplots(ncols=len(sizes), squeeze=True)\n",
    "stats=Counter()\n",
    "for n,ax in zip(sizes,axes):\n",
    "    with tempfile.TemporaryDirectory() as tempdirname:\n",
    "        dataset='random dataset'\n",
    "        bed_file=f'{tempdirname}/data.bedgraph'\n",
    "        # create testdata\n",
    "        rna.testdata.make_random_intervals(n=n, chroms=chroms).to_csv(bed_file, sep='\\t', encoding='utf-8', index=False, header=False)\n",
    "        rna.bgzip_and_tabix(bed_file)\n",
    "        bed_file+='.gz'\n",
    "        times, data, stats=Counter(),Counter(),Counter()        \n",
    "        # rnalib\n",
    "        with rna.Timer(times, 'rnalib') as timer:\n",
    "            data[timer.name] = {}\n",
    "            for chrom in chroms:\n",
    "                with rna.BedGraphIterator(bed_file, chromosome=chrom) as it:\n",
    "                    data[timer.name][chrom]=np.mean([v for _,v in it])\n",
    "                    stats.update(it.stats)\n",
    "        # pybedtools - iterate\n",
    "        with rna.Timer(times, 'pybedtools_iter') as timer:\n",
    "            data[timer.name] = {}\n",
    "            d, s = Counter(), Counter()\n",
    "            for x in pybedtools.BedTool(bed_file):\n",
    "                s[x.chrom]+=float(x.name)\n",
    "                d[x.chrom]+=1\n",
    "            for chrom in chroms:\n",
    "                data[timer.name][chrom] = s[chrom]/d[chrom]\n",
    "        # pybedtools - intersect\n",
    "        with rna.Timer(times, 'pybedtools_isec') as timer:\n",
    "            data[timer.name] = {}\n",
    "            for chrom in chroms:\n",
    "                data[timer.name][chrom] = np.mean([float(x.name) for x in pybedtools.BedTool(bed_file).intersect([gi(chrom).to_pybedtools()], u=True)])\n",
    "        # bioframe\n",
    "        with rna.Timer(times, 'bioframe') as timer:\n",
    "            with rna.BioframeIterator(bed_file) as it:\n",
    "                data[timer.name] = it.df.groupby('chrom')['name'].mean().to_dict()\n",
    "        # assert that results match\n",
    "        for c in chroms:\n",
    "            assert rna.check_list([data[x][c] for x in data.keys()], 'eq'),\\\n",
    "                f\"Error on chrom {c}!\"\n",
    "        # plot the results\n",
    "        rna.plot_times(f\"Calculating mean feature value in {dataset} with n={n}\",\n",
    "                   times, n=np.sum([stats['yielded_items',c] for c in chroms]),\n",
    "                   reference_method='rnalibr',\n",
    "                   ax=ax)\n",
    "plt.tight_layout()\n",
    "plt.show()"
   ]
  },
  {
   "cell_type": "markdown",
   "id": "88120fc1-aa4f-445b-884d-61649a179529",
   "metadata": {},
   "source": [
    "### Value-filtered iteration\n",
    "Here we compare various methods for iterating a bed file and filtering for entries with a given minimum length.\n",
    "\n",
    "We compare bioframe with native pybedtools iterators and various filter options with rnalib's BedIterator and the wrapped PybedtoolsIterator.\n",
    "We also include one approach in which we first filter via pybedtools, save the file and then iterate via a PybedtoolsIterator (pybedtools+rnalib_pybedtoolsiterator).\n",
    "\n",
    "In this scenario, no pre-filtering based on genomic location is possible and bioframe outperforms the other methods.\n"
   ]
  },
  {
   "cell_type": "code",
   "execution_count": 6,
   "id": "a9a20ba0-ac01-4d3c-9f9b-4b3f225d1fbc",
   "metadata": {
    "tags": []
   },
   "outputs": [
    {
     "name": "stdout",
     "output_type": "stream",
     "text": [
      "WARN: Could not create refdict, is file bgzipped+tabixed? 'str' object has no attribute 'close'\n",
      "Filtered BED to create /var/folders/kp/q945z6v94jl3myn35wzsl5n00000gp/T/pybedtools.e3rm7tua.tmp\n"
     ]
    },
    {
     "data": {
      "image/png": "[encoded data removed]",
      "text/plain": [
       "<Figure size 2000x300 with 1 Axes>"
      ]
     },
     "metadata": {},
     "output_type": "display_data"
    }
   ],
   "source": [
    "from pybedtools.featurefuncs import greater_than\n",
    "bed_file = rna.get_resource('pybedtools_snps')  \n",
    "stats,times,data=Counter(),Counter(),Counter()\n",
    "minlen = 5\n",
    "with rna.Timer(times, 'pybedtools_filter') as timer:\n",
    "    # BedTools with filter()\n",
    "    data[timer.name] = [x.name for x in pybedtools.BedTool(bed_file).filter(lambda x: len(x) > minlen)]\n",
    "with rna.Timer(times, 'pybedtools_list_comp') as timer:\n",
    "    # BedTools with list comprehension\n",
    "    data[timer.name] = [x.name for x in pybedtools.BedTool(bed_file) if len(x) > minlen]\n",
    "with rna.Timer(times, 'pybedtools_featurefuncs') as timer:\n",
    "    # BedTools with filter()/featurefuncs\n",
    "    data[timer.name] = [x.name for x in pybedtools.BedTool(bed_file).filter(greater_than, minlen)]\n",
    "with rna.Timer(times, 'rnalib_bediterator') as timer:\n",
    "    # native rnalib iterator. Collect stats from here\n",
    "    with rna.BedIterator(bed_file) as it:\n",
    "        data[timer.name] = [snp.data.name for snp in it if len(snp)>minlen]\n",
    "        stats=it.stats # we also get some stats here...\n",
    "with rna.Timer(times, 'pybedtools+rnalib_pybedtoolsiterator') as timer:\n",
    "    # here we first filter via pybedtools, save the file and then iterate via a PybedtoolsIterator\n",
    "    bt=pybedtools.BedTool(bed_file).filter(greater_than, minlen).saveas()\n",
    "    with rna.PybedtoolsIterator(bt) as it:\n",
    "        print(f\"Filtered BED to create {bt.fn}\")\n",
    "        data[timer.name] = [snp.data.name for snp in it]\n",
    "with rna.Timer(times, 'bioframe') as timer:\n",
    "    with rna.BioframeIterator(rna.get_resource('pybedtools_snps')) as it:\n",
    "        data[timer.name] = it.df.query(f\"end-start>{minlen}\")['name'].to_list()   \n",
    "\n",
    "# check results\n",
    "assert len({len(y) for y in data.values()})==1, f\"Error in some computation: {data}\"\n",
    "\n",
    "# calc speed improvement\n",
    "n = stats[('yielded_items', None)]\n",
    "rna.plot_times(f\"Iterating a filtered bed file with n={n}\",\n",
    "           times, n,\n",
    "           reference_method='rnalib_bediterator')"
   ]
  },
  {
   "cell_type": "markdown",
   "id": "e49b71c4-8317-4c38-86c2-fb0851d14272",
   "metadata": {
    "tags": []
   },
   "source": [
    "### Location-filtered iteration\n",
    "Here we add some more filtering steps and compare different methods for counting minus strand features on one chromosome in a large GFF3 file that is downloaded from gencode to a temporary directory, sorted, bgzipped, index and then analysed. We restrict this analysis to one chromosome only.\n",
    "\n",
    "- for pybedtools, we either intersect the file with the respective region of interest or apply a filter method, then parse the respective fields and count\n",
    "- for bioframe, we init a filtered DataFrame via our BioframeIterator implementation, filter for the proper strand and region using pandas and then iterate+count\n",
    "- we use a chromosome-filtered rnalib GFF3Iterator for comparison, filter by interval strand and count the returned feature_type \n",
    "\n",
    "Results:\n",
    "- The pybedtools_filter option is slowest as it needs to iterate the whole dataset when filtering.\n",
    "- The shown pandas/bioframe approach is also relatively slow as it needs to read the whole dataframe before filtering in two steps for the targeted genomic region and strand. \n",
    "- The pybedtools_intersect option is much faster but also dominated by the intersect (chrom filtering) operation.\n",
    "- Finally, the rnalib GFF3Iterator (based on pysam) is the fastest option due to the fast chromosome filtering based on the leveraged tabix index."
   ]
  },
  {
   "cell_type": "code",
   "execution_count": 13,
   "id": "5bd565c5-b930-4a1a-866c-40ee3a8610d6",
   "metadata": {
    "tags": []
   },
   "outputs": [
    {
     "name": "stdout",
     "output_type": "stream",
     "text": [
      "INFO: filtering dataframe for region chr21:0-2147483647\n"
     ]
    },
    {
     "data": {
      "image/png": "[encoded data removed]",
      "text/plain": [
       "<Figure size 2000x300 with 1 Axes>"
      ]
     },
     "metadata": {},
     "output_type": "display_data"
    }
   ],
   "source": [
    "gff_file=rna.get_resource(\"full_gencode_gff\")\n",
    "roi=gi('chr21') # count on one chromosome only\n",
    "times, data=Counter(),Counter()\n",
    "with rna.Timer(times, 'pybedtools_filter') as timer:\n",
    "    data[timer.name]=Counter()\n",
    "    # Alternatively we could use BedTools with list comprehension or with filter()/featurefuncs\n",
    "    for x in pybedtools.BedTool(gff_file).filter(lambda b: b.chrom == roi.chromosome and b.strand=='-'):\n",
    "        feature_type = x.fields[2]\n",
    "        data[timer.name][feature_type]+=1\n",
    "        data[timer.name]['-']+=1\n",
    "with rna.Timer(times, 'pybedtools_intersect') as timer:\n",
    "    data[timer.name]=Counter()\n",
    "    for x in pybedtools.BedTool(gff_file).intersect([roi.to_pybedtools()], u=True):\n",
    "        strand, feature_type = x.strand, x.fields[2]\n",
    "        if strand == '-':\n",
    "            data[timer.name][feature_type]+=1\n",
    "            data[timer.name][strand]+=1\n",
    "with rna.Timer(times, 'rnalib_GFF3Iterator') as timer:\n",
    "    data[timer.name]=Counter()\n",
    "    with rna.GFF3Iterator(gff_file, region=roi) as it:\n",
    "        for loc, info in it: # now iterate the values\n",
    "            if loc.strand=='-':\n",
    "                data[timer.name][info['feature_type']]+=1\n",
    "                data[timer.name][loc.strand]+=1\n",
    "        stats=it.stats      \n",
    "with rna.Timer(times, 'Bioframe_pandas') as timer:\n",
    "    with rna.BioframeIterator(gff_file, region=roi) as it: # init filtered dataframe\n",
    "        it.df = it.df.query(\"strand=='-'\") # further filter the dataframe with pandas\n",
    "        data[timer.name]=Counter(it.df['strand'])\n",
    "        data[timer.name].update(Counter(it.df['feature']))\n",
    "\n",
    "# check results and assert that they match\n",
    "res=None\n",
    "for k in times.keys():\n",
    "    if res is None:\n",
    "        res = data[k]\n",
    "    else:\n",
    "        assert data[k] == res\n",
    "\n",
    "# plot the timings\n",
    "rna.plot_times(f\"Counting minus-strand feature types on one chromosome in gencode gff\",\n",
    "           times, n=stats[('yielded_items', roi.chromosome)],\n",
    "           reference_method='rnalib_GFF3Iterator')    "
   ]
  },
  {
   "cell_type": "markdown",
   "id": "2ccee1f7-bb4b-4cb0-9a11-9a22e8901c02",
   "metadata": {},
   "source": [
    "### Summary\n",
    "\n",
    "While rnalib is slower than the compared approaches when a whole dataset is considered, it vastly outperforms them when only a subregion of the dataset needs to be iterated due to its efficient random access features that are built on pysam's functionality.\n",
    "\n",
    "Please note that iteration performance was no design goal of rnalib. This performance comparison should solely demonstrate \n",
    "where our implementation standas wrt. other libraries and highlight its benefits when random access is needed."
   ]
  },
  {
   "cell_type": "markdown",
   "id": "c909a560-4fe3-4df8-9328-f0e9dd800d87",
   "metadata": {},
   "source": [
    "## Potential pitfalls\n",
    "\n",
    "In this section we demonstrate common pitfalls that regularly hamper bioinformatics analyses leading to wrong results: \n",
    "- [unsorted input files](#Pybedtools-unsorted-input-example)\n",
    "- [wrongly interpreted coordinate systems](#bioframe-coordinate-mixup-example)\n",
    "- [mutable interval implementations](#Mutable-interval-pitfalls)\n",
    "\n",
    "We showcase those problems below using realistic scenarios.\n",
    "Notably, in most cases *analyses run through and deliver plausible (yet wrong) results* which makes these kinds of errors hard to catch."
   ]
  },
  {
   "cell_type": "markdown",
   "id": "ce4f81cb-c08e-4cea-9852-1a0d2e1f8841",
   "metadata": {
    "tags": []
   },
   "source": [
    "### Pybedtools unsorted input example\n",
    "\n",
    "Here, we demonstrate how unsorted input may lead to wrong analysis results using pybedtools.\n",
    "\n",
    "The following code block was copy-pasted from the [pybedtools page](https://github.com/daler/pybedtools) and the idea of this example is to create a list of gene names that are <5 kb away from intergenic SNPs. However, this code does not work properly (with pybedtools v0.9.1) due to inconsistent chromosome order of the two input files (hg19.gff: chr1, chr21; snps.bed.gz: chr21, chr1; both are pybedtools test resources).\n",
    "\n",
    "As a result, genes.closest reports only -1 as distance which is why all closes genes will be reported, not just the ones at max 5kb distance.\n",
    "Notably, the code runs without errors/warnings and returns a reasonable-sized list of gene names which makes it hard to spot the error. \n",
    "Only when omitting the `stream=True` flag, genes.closest() fails and reports the inconsistent chrom order. \n",
    "\n",
    "Note, that in *rnalib*, input files have to be bgzipped and indexed which requires them to be coordinate sorted and that reference dictionaries are used to ensure consistent chromosome ordering."
   ]
  },
  {
   "cell_type": "code",
   "execution_count": 6,
   "id": "8dc97c02-7310-46d5-b43e-023b6b70dd61",
   "metadata": {
    "tags": []
   },
   "outputs": [
    {
     "data": {
      "text/plain": [
       "'Unsorted input files:'"
      ]
     },
     "metadata": {},
     "output_type": "display_data"
    },
    {
     "data": {
      "text/plain": [
       "'We found 4217 nearby genes. Unique names: 4215'"
      ]
     },
     "metadata": {},
     "output_type": "display_data"
    },
    {
     "data": {
      "text/plain": [
       "'Sorted input files:'"
      ]
     },
     "metadata": {},
     "output_type": "display_data"
    },
    {
     "data": {
      "text/plain": [
       "'We found 2422 nearby genes. Unique names: 2419'"
      ]
     },
     "metadata": {},
     "output_type": "display_data"
    }
   ],
   "source": [
    "def run_pybedtools_example(gff_file, snp_file):\n",
    "    snps = pybedtools.BedTool(snp_file)  \n",
    "    genes = pybedtools.BedTool(gff_file)\n",
    "    intergenic_snps = snps.subtract(genes).saveas()                      \n",
    "    nearby = genes.closest(intergenic_snps, d=True, stream=True).saveas() \n",
    "    nbgenes = [gene.name for gene in nearby if int(gene[-1]) < 5000]\n",
    "    display(f\"We found {len(nbgenes)} nearby genes. Unique names: {len(set(nbgenes))}\")\n",
    "\n",
    "\n",
    "display(\"Unsorted input files:\")\n",
    "run_pybedtools_example(rna.get_resource(\"pybedtools::hg19.gff\"), rna.get_resource(\"pybedtools::snps.bed.gz\"))\n",
    "display(\"Sorted input files:\")\n",
    "run_pybedtools_example(rna.get_resource(\"pybedtools_gff\"), rna.get_resource(\"pybedtools_snps\"))"
   ]
  },
  {
   "cell_type": "markdown",
   "id": "e4f9d8c4-461c-4c1a-aaa3-ad216cbca4b4",
   "metadata": {
    "tags": []
   },
   "source": [
    "### Bioframe coordinate mixup example\n",
    "\n",
    "In bioframe, interval coordinates are \"[... assumed to be 0-based and intervals half-open (1-based ends) i.e. (start, end)](https://bioframe.readthedocs.io/en/latest/guide-definitions.html#definitions)\" as, for example, in the BED file format.\n",
    "However, this is not enforced or validated when reading genomic datasets in different formats (e.g., GFF) which results in bioframe wrongly interpreting 1-based as 0-base coordinates a demonstrated in the following snippet. \n",
    "\n",
    "Such errors shifts start coordinates of misinterpreted datasets by 1bp and may lead to subtle errors in downstream analyses. \n",
    "Note, that *rnalib* provides format-specific iterators that ensure proper coordinate interpretation which makes it harder (yet not impossible) to fall into this pit. "
   ]
  },
  {
   "cell_type": "code",
   "execution_count": 7,
   "id": "cd289173-b942-4504-ae50-b2bd1194f523",
   "metadata": {
    "tags": []
   },
   "outputs": [
    {
     "data": {
      "text/plain": [
       "'bioframe:'"
      ]
     },
     "metadata": {},
     "output_type": "display_data"
    },
    {
     "data": {
      "text/html": [
       "<div>\n",
       "<style scoped>\n",
       "    .dataframe tbody tr th:only-of-type {\n",
       "        vertical-align: middle;\n",
       "    }\n",
       "\n",
       "    .dataframe tbody tr th {\n",
       "        vertical-align: top;\n",
       "    }\n",
       "\n",
       "    .dataframe thead tr th {\n",
       "        text-align: left;\n",
       "    }\n",
       "</style>\n",
       "<table border=\"1\" class=\"dataframe\">\n",
       "  <thead>\n",
       "    <tr>\n",
       "      <th></th>\n",
       "      <th colspan=\"2\" halign=\"left\">start</th>\n",
       "    </tr>\n",
       "    <tr>\n",
       "      <th></th>\n",
       "      <th>self</th>\n",
       "      <th>other</th>\n",
       "    </tr>\n",
       "  </thead>\n",
       "  <tbody>\n",
       "    <tr>\n",
       "      <th>0</th>\n",
       "      <td>180989762</td>\n",
       "      <td>180989761</td>\n",
       "    </tr>\n",
       "    <tr>\n",
       "      <th>1</th>\n",
       "      <td>180989770</td>\n",
       "      <td>180989769</td>\n",
       "    </tr>\n",
       "    <tr>\n",
       "      <th>2</th>\n",
       "      <td>180989770</td>\n",
       "      <td>180989769</td>\n",
       "    </tr>\n",
       "    <tr>\n",
       "      <th>3</th>\n",
       "      <td>180989771</td>\n",
       "      <td>180989770</td>\n",
       "    </tr>\n",
       "    <tr>\n",
       "      <th>4</th>\n",
       "      <td>180989773</td>\n",
       "      <td>180989772</td>\n",
       "    </tr>\n",
       "    <tr>\n",
       "      <th>...</th>\n",
       "      <td>...</td>\n",
       "      <td>...</td>\n",
       "    </tr>\n",
       "    <tr>\n",
       "      <th>340</th>\n",
       "      <td>5562574</td>\n",
       "      <td>5562573</td>\n",
       "    </tr>\n",
       "    <tr>\n",
       "      <th>341</th>\n",
       "      <td>5562574</td>\n",
       "      <td>5562573</td>\n",
       "    </tr>\n",
       "    <tr>\n",
       "      <th>342</th>\n",
       "      <td>5562574</td>\n",
       "      <td>5562573</td>\n",
       "    </tr>\n",
       "    <tr>\n",
       "      <th>343</th>\n",
       "      <td>5563714</td>\n",
       "      <td>5563713</td>\n",
       "    </tr>\n",
       "    <tr>\n",
       "      <th>344</th>\n",
       "      <td>5563714</td>\n",
       "      <td>5563713</td>\n",
       "    </tr>\n",
       "  </tbody>\n",
       "</table>\n",
       "<p>345 rows × 2 columns</p>\n",
       "</div>"
      ],
      "text/plain": [
       "         start           \n",
       "          self      other\n",
       "0    180989762  180989761\n",
       "1    180989770  180989769\n",
       "2    180989770  180989769\n",
       "3    180989771  180989770\n",
       "4    180989773  180989772\n",
       "..         ...        ...\n",
       "340    5562574    5562573\n",
       "341    5562574    5562573\n",
       "342    5562574    5562573\n",
       "343    5563714    5563713\n",
       "344    5563714    5563713\n",
       "\n",
       "[345 rows x 2 columns]"
      ]
     },
     "metadata": {},
     "output_type": "display_data"
    },
    {
     "data": {
      "text/plain": [
       "'rnalib:'"
      ]
     },
     "metadata": {},
     "output_type": "display_data"
    },
    {
     "data": {
      "text/html": [
       "<div>\n",
       "<style scoped>\n",
       "    .dataframe tbody tr th:only-of-type {\n",
       "        vertical-align: middle;\n",
       "    }\n",
       "\n",
       "    .dataframe tbody tr th {\n",
       "        vertical-align: top;\n",
       "    }\n",
       "\n",
       "    .dataframe thead tr th {\n",
       "        text-align: left;\n",
       "    }\n",
       "</style>\n",
       "<table border=\"1\" class=\"dataframe\">\n",
       "  <thead>\n",
       "  </thead>\n",
       "  <tbody>\n",
       "  </tbody>\n",
       "</table>\n",
       "</div>"
      ],
      "text/plain": [
       "Empty DataFrame\n",
       "Columns: []\n",
       "Index: []"
      ]
     },
     "metadata": {},
     "output_type": "display_data"
    }
   ],
   "source": [
    "# let's load a GFF file and a corresponding BED file with the bioframe.read_table() method (you can use igv to check they \n",
    "# are indeed representing the same intervals). The BED file was created with bedops gff2bed: \n",
    "# \"gff2bed -d < gencode_44.ACTB+SOX2.gff3 | cut -f1-6 | bgzip > gencode_44.ACTB+SOX2.bed.gz\"\n",
    "bioframe_gff = bioframe.read_table(rna.get_resource(\"gencode_gff\"), schema='gff')[['chrom','start','end', 'strand']]\n",
    "bioframe_bed = bioframe.read_table(rna.get_resource(\"gencode_bed\"), schema='bed')[['chrom','start','end', 'strand']]\n",
    "assert bioframe.is_bedframe(bioframe_gff) and bioframe.is_bedframe(bioframe_bed) # assert that they are 'bedframes'\n",
    "\n",
    "# let's compare them using pandas compare...\n",
    "display('bioframe:', bioframe_gff.compare(bioframe_bed))\n",
    "# so we see that the start coordinates indeed differ by one\n",
    "\n",
    "# Now load via rnalib\n",
    "rnalib_gff = pd.DataFrame([(loc.chromosome, loc.start, loc.end, loc.strand) \\\n",
    "                             for loc, info in rna.GFF3Iterator(rna.get_resource(\"gencode_gff\"))],\n",
    "                           columns=['chrom','start','end','strand'])\n",
    "rnalib_bed = pd.DataFrame([(loc.chromosome, loc.start, loc.end, loc.strand) \\\n",
    "                             for loc, info in rna.BedIterator(rna.get_resource(\"gencode_bed\"))],\n",
    "                           columns=['chrom','start','end','strand'])\n",
    "\n",
    "display('rnalib:', rnalib_gff.compare(rnalib_bed))\n",
    "# no differences as expected as the iterators will convert the coordinates appropriately"
   ]
  },
  {
   "cell_type": "markdown",
   "id": "2fb0f0c3-1a38-4c76-ac6f-77974438046b",
   "metadata": {
    "tags": []
   },
   "source": [
    "### Mutable interval pitfalls\n",
    "\n",
    "Another, more subtle, pitfall results from how genomic intervals and their annotations are implemented in the different python libraries.\n",
    "In most cases, intervals are implemented as [mutable](https://realpython.com/python-mutable-vs-immutable-types/) objects whose values can be changed at runtime.\n",
    "Often these interval objects also contain associated (mutable) meta-data (such as interval names, scores, etc.). \n",
    "This, however, means that updates of intervals or associated meta-data results in changed hash values of the respective objects as shown below.\n",
    "This makes them unsafe to use as keys in referencing datastructures such as dicts and can lead to unwanted side-effects. \n",
    "\n",
    "In *rnalib*, [genomic intervals](#Genomic-intervals) (locations) and their annotations are modeled separatedly with the former being implemented as [frozen (basically immutable) dataclasses](https://docs.python.org/3/library/dataclasses.html#frozen-instances) while the latter being stored in a dict-like datastructure that is indexed by the respective interval. The following codeblock demonstrates the different approaches."
   ]
  },
  {
   "cell_type": "code",
   "execution_count": 8,
   "id": "616bff54-2733-4418-868e-1ff2d2546115",
   "metadata": {
    "tags": []
   },
   "outputs": [
    {
     "data": {
      "text/plain": [
       "'Pybedtools intervals are mutable:'"
      ]
     },
     "metadata": {},
     "output_type": "display_data"
    },
    {
     "data": {
      "text/plain": [
       "\"Now it's here: interval found in cache. with hash value 7641043220742679463\""
      ]
     },
     "metadata": {},
     "output_type": "display_data"
    },
    {
     "data": {
      "text/plain": [
       "\"Now it isn't: interval found in cache. with hash value 5830617511814246391\""
      ]
     },
     "metadata": {},
     "output_type": "display_data"
    },
    {
     "data": {
      "text/markdown": [
       "---"
      ],
      "text/plain": [
       "<IPython.core.display.Markdown object>"
      ]
     },
     "metadata": {},
     "output_type": "display_data"
    },
    {
     "data": {
      "text/plain": [
       "'rnalib intervals are immutable:'"
      ]
     },
     "metadata": {},
     "output_type": "display_data"
    },
    {
     "data": {
      "text/plain": [
       "\"Now it's here: {'mess': 'interval found in cache.', 'name': 'A'} with hash value 2339145204396979470\""
      ]
     },
     "metadata": {},
     "output_type": "display_data"
    },
    {
     "data": {
      "text/plain": [
       "\"Now it's still here: {'mess': 'interval found in cache.', 'name': 'B'} with hash value 2339145204396979470\""
      ]
     },
     "metadata": {},
     "output_type": "display_data"
    }
   ],
   "source": [
    "display('Pybedtools intervals are mutable:')\n",
    "i = pybedtools.Interval(\"chr1\", 22, 44, strand='-') # create a pybedtools interval\n",
    "i.name='A' # set a metadata attribute of this interval\n",
    "cache = { i : 'interval found in cache.' } # put it in a dict\n",
    "display(f\"Now it's here: {cache.get(i, 'interval not found in cache!')} with hash value {i.__hash__()}\")\n",
    "i.name = 'B' # now we can just mutate the start coordinate, but this will change the hash value of this object\n",
    "display(f\"Now it isn't: {cache.get(i, 'interval not found in cache!')} with hash value {i.__hash__()}\")\n",
    "\n",
    "display(SEP, 'rnalib intervals are immutable:')\n",
    "i = gi(\"chr1\", 22, 44, strand='-') # create a rnalib interval\n",
    "with pytest.raises(dataclasses.FrozenInstanceError):\n",
    "    i.start = 21 # This will raise an 'FrozenInstanceError', you cannot mutate genomic intervals!\n",
    "cache = { i : {'mess':'interval found in cache.', 'name':'A'} } # put it in a dict and add also the interval Name\n",
    "display(f\"Now it's here: {cache.get(i, 'interval not found in cache!')} with hash value {i.__hash__()}\")\n",
    "cache[i]['name']='B'\n",
    "display(f\"Now it's still here: {cache.get(i, 'interval not found in cache!')} with hash value {i.__hash__()}\")"
   ]
  },
  {
   "cell_type": "markdown",
   "id": "2b43ea76-4384-4a63-8d40-629f14d402a9",
   "metadata": {},
   "source": [
    "### Interval definition differences\n",
    "\n",
    "Genomic interval definitions differ between the considered libraries (rnalib, pybedtools and bedframe).\n",
    "Here are some differences:\n",
    "- rnalib supports empty and unbounded intervals. The length of the latter is calculated from the chrom length if possible or zero otherwise.\n",
    "- pybedtools makes little assertions on the parsed intervals. It is possible to provide files with start>end coordinates or empty intervals (start==end) \n"
   ]
  },
  {
   "cell_type": "code",
   "execution_count": 9,
   "id": "6b53e663-a00e-4e78-a163-55104c6a2c4e",
   "metadata": {
    "tags": []
   },
   "outputs": [
    {
     "data": {
      "text/plain": [
       "'Reported lengths for [1; 2] interval: rnalib: 2 pybedtools: 2'"
      ]
     },
     "metadata": {},
     "output_type": "display_data"
    },
    {
     "data": {
      "text/plain": [
       "'Reported lengths for [2; 1] interval: rnalib: 0 pybedtools: 4294967294'"
      ]
     },
     "metadata": {},
     "output_type": "display_data"
    },
    {
     "data": {
      "text/plain": [
       "'Reported lengths for [1; ...] interval: rnalib: 2147483647 pybedtools: 2147483647'"
      ]
     },
     "metadata": {},
     "output_type": "display_data"
    },
    {
     "data": {
      "text/plain": [
       "\"Number of 'empty' intervals in pybedtools_snps (bioframe): 1564\""
      ]
     },
     "metadata": {},
     "output_type": "display_data"
    },
    {
     "data": {
      "text/plain": [
       "\"Number of 'empty' intervals in pybedtools_snps (rnalib): 1564\""
      ]
     },
     "metadata": {},
     "output_type": "display_data"
    },
    {
     "data": {
      "text/plain": [
       "\"Number of 'empty' intervals in pybedtools_snps (pybedtools): 1564\""
      ]
     },
     "metadata": {},
     "output_type": "display_data"
    }
   ],
   "source": [
    "display(f\"Reported lengths for [1; 2] interval: rnalib: {len(gi('chr1', 1, 2))} pybedtools: {len(pybedtools.Interval('chr1',0,2))}\") \n",
    "display(f\"Reported lengths for [2; 1] interval: rnalib: {len(gi('chr1', 2, 1))} pybedtools: {len(pybedtools.Interval('chr1',2,0))}\") \n",
    "display(f\"Reported lengths for [1; ...] interval: rnalib: {len(gi('chr1', 1))} pybedtools: {len(gi('chr1', 1).to_pybedtools())}\") \n",
    "\n",
    "# 3 different methods for counting the number of 'empty' intervals in the pybedtools SNP test file\n",
    "display(f\"Number of 'empty' intervals in pybedtools_snps (bioframe): {len(bioframe.read_table(rna.get_resource('pybedtools_snps'), schema='bed').query('start==end').index)}\")\n",
    "display(f\"Number of 'empty' intervals in pybedtools_snps (rnalib): {len([loc for loc,_ in rna.BedIterator(rna.get_resource('pybedtools_snps')) if loc.is_empty()])}\")\n",
    "display(f\"Number of 'empty' intervals in pybedtools_snps (pybedtools): {len(pybedtools.BedTool(rna.get_resource('pybedtools_snps')).filter(lambda x: x.start==x.end))}\")"
   ]
  }
 ],
 "metadata": {
  "kernelspec": {
   "display_name": "Python 3 (ipykernel)",
   "language": "python",
   "name": "python3"
  },
  "language_info": {
   "codemirror_mode": {
    "name": "ipython",
    "version": 3
   },
   "file_extension": ".py",
   "mimetype": "text/x-python",
   "name": "python",
   "nbconvert_exporter": "python",
   "pygments_lexer": "ipython3",
   "version": "3.10.4"
  }
 },
 "nbformat": 4,
 "nbformat_minor": 5
}
