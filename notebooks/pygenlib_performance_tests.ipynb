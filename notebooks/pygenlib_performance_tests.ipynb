{
 "cells": [
  {
   "cell_type": "code",
   "execution_count": 1,
   "id": "1474387e-b7f8-4207-8154-d496a4938240",
   "metadata": {
    "tags": []
   },
   "outputs": [
    {
     "name": "stderr",
     "output_type": "stream",
     "text": [
      "/Users/niko.popitsch/.virtualenvs/pygenlib/lib/python3.10/site-packages/Bio/pairwise2.py:278: BiopythonDeprecationWarning: Bio.pairwise2 has been deprecated, and we intend to remove it in a future release of Biopython. As an alternative, please consider using Bio.Align.PairwiseAligner as a replacement, and contact the Biopython developers if you still need the Bio.pairwise2 module.\n",
      "  warnings.warn(\n"
     ]
    },
    {
     "name": "stdout",
     "output_type": "stream",
     "text": [
      "/Users/niko.popitsch/git/pygenlib\n"
     ]
    }
   ],
   "source": [
    "PYGENLIB_SRC='/Users/niko.popitsch/git/pygenlib/'\n",
    "import os; os.chdir(PYGENLIB_SRC)\n",
    "from pygenlib.utils import *\n",
    "from pygenlib.iterators import *\n",
    "from pygenlib.genemodel import *\n",
    "!pwd"
   ]
  },
  {
   "cell_type": "markdown",
   "id": "b6c8483c-87ee-4af7-8e2e-6aa4cc1f905a",
   "metadata": {
    "tags": []
   },
   "source": [
    "# Genemodel examples"
   ]
  },
  {
   "cell_type": "code",
   "execution_count": 2,
   "id": "8e471e34-334e-4c7f-af37-222d6df3e15a",
   "metadata": {
    "tags": []
   },
   "outputs": [
    {
     "name": "stdout",
     "output_type": "stream",
     "text": [
      "WARN: Input list have differing order of shared elements ['211000022278279', '211000022278436', '211000022278449', '211000022278760', '211000022279165', '211000022279188', '211000022279264', '211000022279392', '211000022279681', '211000022280328', '211000022280341', '211000022280347', '211000022280481', '211000022280494', '211000022280703', '2L', '2R', '3L', '3R', '4', 'Unmapped_Scaffold_8_D1580_D1567', 'X', 'Y', 'mitochondrion_genome', 'rDNA']\n"
     ]
    },
    {
     "name": "stderr",
     "output_type": "stream",
     "text": [
      "Building transcriptome (Filtered (0 tags, 0 tids, 0 genetypes, 1 chroms, 0 regions).): 100%|█████████████████████████████████████████████████████████████| 1/1 [00:02<00:00,  2.31s/it]\n",
      "Load sequence: 100%|████████████████████████████████████████████████████████████████████████████████████████████████████████████████████████████| 3515/3515 [00:00<00:00, 17209.15it/s]\n",
      "Build interval tree: 100%|██████████████████████████████████████████████████████████████████████████████████████████████████████████████████████| 3515/3515 [00:00<00:00, 38929.26it/s]\n"
     ]
    }
   ],
   "source": [
    "# Create a transcriptome containing dmel chromosome 2L transcripts from a flybase annotation\n",
    "config = {\n",
    "        'genome_fa': 'testdata/dmel_r6.36.fa.gz',\n",
    "        'annotation_gff': 'testdata/flybase.dmel-all-r6.51.sorted.gtf.gz',\n",
    "        'annotation_flavour': 'flybase',\n",
    "        'transcript_filter': {\n",
    "            'included_chrom': ['2L']\n",
    "        },\n",
    "        'load_sequences': True\n",
    "    }\n",
    "t = Transcriptome(config)"
   ]
  },
  {
   "cell_type": "code",
   "execution_count": 3,
   "id": "7219dabf-fba9-4d25-8176-844d93e2cdb6",
   "metadata": {
    "tags": []
   },
   "outputs": [
    {
     "data": {
      "text/plain": [
       "'Built Transcriptome with 3515 genes and 6779 tx'"
      ]
     },
     "metadata": {},
     "output_type": "display_data"
    },
    {
     "data": {
      "text/plain": [
       "\"Transcript types: Counter({'mRNA': 5711, 'ncRNA': 748, 'miRNA': 103, 'pre_miRNA': 56, 'pseudogene': 54, 'snoRNA': 50, 'tRNA': 41, 'snRNA': 16})\""
      ]
     },
     "metadata": {},
     "output_type": "display_data"
    },
    {
     "data": {
      "text/plain": [
       "\"Transcripts of gene 'cold': ['FBtr0310022', 'FBtr0078069'].\""
      ]
     },
     "metadata": {},
     "output_type": "display_data"
    },
    {
     "data": {
      "text/plain": [
       "\"So, the gene of transcript 'FBtr0310022' is cold\""
      ]
     },
     "metadata": {},
     "output_type": "display_data"
    },
    {
     "data": {
      "text/plain": [
       "\"Genes of all transcripts that overlap with gene 'cold': {'Ptth', 'cold'}\""
      ]
     },
     "metadata": {},
     "output_type": "display_data"
    }
   ],
   "source": [
    "# show some data\n",
    "display(f\"Built {t}\")\n",
    "display(f\"Transcript types: {Counter([tx.transcript_type for tx in t.transcripts])}\")\n",
    "display(f\"Transcripts of gene 'cold': {list(tx.transcript_id for tx in t.gene_name['cold'].transcript)}.\")\n",
    "display(f\"So, the gene of transcript 'FBtr0310022' is {t.transcript['FBtr0310022'].parent.name}\")\n",
    "display(f\"Genes of all transcripts that overlap with gene 'cold': {set(tx.parent.name for tx in t.query(t.gene_name['cold'], 'transcript'))}\") # see 2L:574291-575734\n"
   ]
  },
  {
   "cell_type": "code",
   "execution_count": 4,
   "id": "c3b68eb6-d1c2-40fb-9953-aa9da4afa99a",
   "metadata": {
    "tags": []
   },
   "outputs": [
    {
     "data": {
      "text/plain": [
       "['CR11023',\n",
       " 'l(2)gl',\n",
       " 'Ir21a',\n",
       " 'asRNA:CR43609',\n",
       " 'Cda5',\n",
       " 'lncRNA:CR46254',\n",
       " 'lncRNA:CR45339',\n",
       " 'lncRNA:CR45340',\n",
       " 'dbr',\n",
       " 'asRNA:CR44987']"
      ]
     },
     "execution_count": 4,
     "metadata": {},
     "output_type": "execute_result"
    }
   ],
   "source": [
    "# get all gene names and show the first 10\n",
    "[g.name for g in t.genes][:10]"
   ]
  },
  {
   "cell_type": "code",
   "execution_count": 5,
   "id": "a3b9aa10-ef87-4c0c-90bb-feddce3fc31e",
   "metadata": {
    "tags": []
   },
   "outputs": [
    {
     "data": {
      "text/plain": [
       "{'FBtr0310022': 4, 'FBtr0078069': 3}"
      ]
     },
     "execution_count": 5,
     "metadata": {},
     "output_type": "execute_result"
    }
   ],
   "source": [
    "# get number of exons for all cold transcripts\n",
    "{tx.transcript_id:len(tx.exon) for tx in t.gene_name['cold'].transcript}"
   ]
  },
  {
   "cell_type": "code",
   "execution_count": 6,
   "id": "dfaab7f1-1481-4f5c-8ccc-02a923afc530",
   "metadata": {
    "tags": []
   },
   "outputs": [
    {
     "data": {
      "text/plain": [
       "{'Cda5', 'Ir21a', 'asRNA:CR43609', 'l(2)gl'}"
      ]
     },
     "execution_count": 6,
     "metadata": {},
     "output_type": "execute_result"
    }
   ],
   "source": [
    "# list genes where one of the exons overlaps with the given region\n",
    "{ex.parent.parent.name for ex in t.query(gi.from_str(\"2L:20000-30000\"), 'exon')}"
   ]
  },
  {
   "cell_type": "code",
   "execution_count": 7,
   "id": "0f536049-834a-49b8-a179-7299857d9c7f",
   "metadata": {
    "tags": []
   },
   "outputs": [
    {
     "data": {
      "text/plain": [
       "{'CG31869',\n",
       " 'CG4891',\n",
       " 'CG5367',\n",
       " 'CG7806',\n",
       " 'Ca-beta',\n",
       " 'LanB1',\n",
       " 'Or23a',\n",
       " 'Sema1a',\n",
       " 'SoYb',\n",
       " 'aph-1',\n",
       " 'emb',\n",
       " 'l(2)05287'}"
      ]
     },
     "execution_count": 7,
     "metadata": {},
     "output_type": "execute_result"
    }
   ],
   "source": [
    "# list all gene names where the kmer is found in one of the (spliced) transcripts\n",
    "kmer=\"ACTGAGCTA\"\n",
    "{ tx.parent.name for tx in t.transcripts if kmer in t.get_spliced_seq(tx) }"
   ]
  },
  {
   "cell_type": "code",
   "execution_count": 8,
   "id": "327cacc8-dd2c-406b-92a8-150f34145f13",
   "metadata": {
    "tags": []
   },
   "outputs": [
    {
     "data": {
      "text/plain": [
       "{'CG31869',\n",
       " 'CG42238',\n",
       " 'CG42784',\n",
       " 'CG46308',\n",
       " 'Dyrk2',\n",
       " 'Ggamma30A',\n",
       " 'MRP',\n",
       " 'Nlg2',\n",
       " 'RapGAP1',\n",
       " 'Rtnl1',\n",
       " 'Trim9',\n",
       " 'aop',\n",
       " 'jp',\n",
       " 'rdo',\n",
       " 'sick',\n",
       " 'tkv',\n",
       " 'wwk'}"
      ]
     },
     "execution_count": 8,
     "metadata": {},
     "output_type": "execute_result"
    }
   ],
   "source": [
    "# list all gene names where the kmer is found in one of its transcripts introns considering only long (>10kb) introns\n",
    "kmer=\"ACTGAGCTA\"\n",
    "{ tx.parent.name for tx in t.transcripts for intron in tx.intron if len(intron)>10000 and kmer in t.get_sequence(intron) }"
   ]
  },
  {
   "cell_type": "code",
   "execution_count": 9,
   "id": "cd8a08ef-b739-4f22-9fb1-e10c7d082ccc",
   "metadata": {
    "tags": []
   },
   "outputs": [
    {
     "data": {
      "text/plain": [
       "[(None, 'CR11023', 'l(2)gl'),\n",
       " ('CR11023', 'l(2)gl', 'Ir21a'),\n",
       " ('l(2)gl', 'Ir21a', 'asRNA:CR43609'),\n",
       " ('Ir21a', 'asRNA:CR43609', 'Cda5'),\n",
       " ('asRNA:CR43609', 'Cda5', 'lncRNA:CR46254'),\n",
       " ('Cda5', 'lncRNA:CR46254', None),\n",
       " (None, 'lncRNA:CR45339', 'lncRNA:CR45340'),\n",
       " ('lncRNA:CR45339', 'lncRNA:CR45340', 'dbr'),\n",
       " ('lncRNA:CR45340', 'dbr', 'asRNA:CR44987'),\n",
       " ('dbr', 'asRNA:CR44987', 'galectin')]"
      ]
     },
     "execution_count": 9,
     "metadata": {},
     "output_type": "execute_result"
    }
   ],
   "source": [
    "# list all genes and their up/downstream genes within a given max distance (~63ms). Show only first 5 entries\n",
    "def get_name(x):\n",
    "    return None if x is None else x.name\n",
    "[(get_name(x),get_name(y),get_name(z)) for x, y, z in t.gene_triples(max_dist=10000)][:10]"
   ]
  },
  {
   "cell_type": "code",
   "execution_count": 10,
   "id": "1b8ec631-6686-4be8-8871-285732c53395",
   "metadata": {
    "tags": []
   },
   "outputs": [
    {
     "data": {
      "text/plain": [
       "[gene@2L:564163-566472,\n",
       " gene@2L:566366-568121,\n",
       " gene@2L:568340-572907,\n",
       " gene@2L:573033-574264,\n",
       " gene@2L:574291-575734,\n",
       " gene@2L:575711-576896,\n",
       " gene@2L:577486-579549,\n",
       " gene@2L:583540-594685]"
      ]
     },
     "execution_count": 10,
     "metadata": {},
     "output_type": "execute_result"
    }
   ],
   "source": [
    "# report a coordinate-sorted list of genes in a 10kb window around cold:\n",
    "g=t.gene_name['cold']\n",
    "list(t.query(gi(g.chromosome, g.start-10000, g.end+10000), 'gene'))"
   ]
  },
  {
   "cell_type": "code",
   "execution_count": 15,
   "id": "b9597159-9842-4e1f-a53f-768fe329443a",
   "metadata": {
    "tags": []
   },
   "outputs": [
    {
     "data": {
      "text/plain": [
       "{'galectin': {'FBtr0306540': [2L:76012-76211 (+)],\n",
       "  'FBtr0078101': [2L:76012-76211 (+)],\n",
       "  'FBtr0302164': [2L:76012-76211 (+)],\n",
       "  'FBtr0331680': [2L:76012-76211 (+)],\n",
       "  'FBtr0301733': [2L:76012-76211 (+)]},\n",
       " 'CG11374': {'FBtr0306541': [2L:77642-77783 (+), 2L:77526-77583 (+)]},\n",
       " 'net': {'FBtr0330637': [2L:82984-83183 (-)],\n",
       "  'FBtr0290323': [2L:82421-82620 (-)]},\n",
       " 'Zir': {'FBtr0078103': [2L:101887-102086 (+)]},\n",
       " 'Creld': {'FBtr0330636': [2L:103943-104142 (+)],\n",
       "  'FBtr0078104': [2L:103943-104142 (+)]}}"
      ]
     },
     "execution_count": 15,
     "metadata": {},
     "output_type": "execute_result"
    }
   ],
   "source": [
    "# dict of genes and their unique 200bp 3'UTR intervals per tx (multiple intervals if spliced); show for 5 genes only\n",
    "# note that for CG11374/FBtr0306541 2 intervals are reported as the 200bp length requires splicing\n",
    "{g.name: {tx.transcript_id:calc_3end(tx) for tx in g.transcript} for g in t.genes[10:15]}"
   ]
  },
  {
   "cell_type": "markdown",
   "id": "5bf0f52e-1c1f-44c3-af27-e2c2d504718f",
   "metadata": {},
   "source": [
    "# Genomic Iterator examples"
   ]
  },
  {
   "cell_type": "code",
   "execution_count": 16,
   "id": "2d64ed77-f33f-4360-89c2-b80470284243",
   "metadata": {
    "tags": []
   },
   "outputs": [
    {
     "data": {
      "text/plain": [
       "['NNTTG',\n",
       " 'TTGTG',\n",
       " 'GTGCC',\n",
       " 'GCCAT',\n",
       " 'CATTA',\n",
       " '...',\n",
       " 'TTGTA',\n",
       " 'GTATT',\n",
       " 'ATTTT',\n",
       " 'TTTTN',\n",
       " 'TTNNN']"
      ]
     },
     "metadata": {},
     "output_type": "display_data"
    }
   ],
   "source": [
    "# FastaIterator support window/step size and padding\n",
    "fasta_file='testdata/ACTB+SOX2.fa.gz'\n",
    "\n",
    "# get 5mer sliding windows (step sie 2) with padding from a GRCh38 region around ACTB; show first and last 5 results\n",
    "kmers=[s for _,s in FastaIterator(fasta_file, 'chr7', None, None, width=5, step=2, padding=True).take()]\n",
    "display(kmers[:5]+[\"...\"]+kmers[-5:])"
   ]
  },
  {
   "cell_type": "code",
   "execution_count": 17,
   "id": "fa18afb5-5874-46a4-9fdd-80ac25276c92",
   "metadata": {
    "tags": []
   },
   "outputs": [
    {
     "data": {
      "text/plain": [
       "Counter({'exon': 106,\n",
       "         'CDS': 60,\n",
       "         'five_prime_UTR': 33,\n",
       "         'transcript': 24,\n",
       "         'three_prime_UTR': 20,\n",
       "         'start_codon': 17,\n",
       "         'stop_codon': 13,\n",
       "         'gene': 2})"
      ]
     },
     "execution_count": 17,
     "metadata": {},
     "output_type": "execute_result"
    }
   ],
   "source": [
    "# iterate a GFF3 file and collect stats of contained feature_type annotations\n",
    "Counter([info['feature_type'] for _,info in GFF3Iterator('testdata/gencode.v39.ACTB+SOX2.gff3.gz')])"
   ]
  },
  {
   "cell_type": "code",
   "execution_count": 18,
   "id": "714022c6-37c1-4ba6-b300-5fc37e1b9fc3",
   "metadata": {
    "tags": []
   },
   "outputs": [
    {
     "data": {
      "text/plain": [
       "{'all': Counter({('n_reads', '1'): 31678}),\n",
       " 'def': Counter({('n_reads', '1'): 21932, ('n_fil_flag', '1'): 9746}),\n",
       " 'mq20': Counter({('n_reads', '1'): 21626,\n",
       "          ('n_fil_flag', '1'): 9746,\n",
       "          ('n_fil_mq', '1'): 306}),\n",
       " 'tag': Counter({('n_fil_tag', '1'): 14544,\n",
       "          ('n_fil_flag', '1'): 9746,\n",
       "          ('n_reads', '1'): 7388})}"
      ]
     },
     "metadata": {},
     "output_type": "display_data"
    }
   ],
   "source": [
    "# count reads per chromosome in a BAM using different filters\n",
    "stats={x:Counter() for x in ['all', 'def', 'mq20', 'tag']}\n",
    "with open_file_obj('testdata/small_example.bam') as bam:\n",
    "    for chrom in get_reference_dict(bam):\n",
    "        with ReadIterator(bam, chrom, flag_filter=0) as it: # all: no filtering\n",
    "            it.take()\n",
    "            stats['all'].update(it.stats)\n",
    "        with ReadIterator(bam, chrom) as it: # def: default flag filter (as in IGV)\n",
    "            it.take()\n",
    "            stats['def'].update(it.stats)\n",
    "        with ReadIterator(bam, chrom, min_mapping_quality=20) as it: # mq20: default flag filter, mapping quality >= 20\n",
    "            it.take()\n",
    "            stats['mq20'].update(it.stats)\n",
    "        with ReadIterator(bam, chrom, tag_filters=[TagFilter('MD', ['100'])]) as it: # tag: default flag filter, MD tag must be '100'\n",
    "            it.take()\n",
    "            stats['tag'].update(it.stats)\n",
    "display(stats)"
   ]
  },
  {
   "cell_type": "code",
   "execution_count": 19,
   "id": "5cf16172-dda8-4806-8a98-799add99a918",
   "metadata": {
    "tags": []
   },
   "outputs": [
    {
     "data": {
      "text/plain": [
       "{('HWI-ST466_135068617:8:1104:18372:89212', False): [(2, 22379204, 'A', 'G')],\n",
       " ('HWI-ST466_135068617:8:2114:8986:54547', False): [(98, 22404991, 'T', 'C')],\n",
       " ('HWI-ST466_135068617:8:2214:18036:44964', False): [(86, 22404981, 'A', 'G')],\n",
       " ('HWI-ST466_135068617:8:2301:15221:88708', True): [(71, 22404968, 'A', 'G')],\n",
       " ('HWI-ST466_135068617:8:1107:12866:40944', False): [(72, 22404971, 'A', 'G')],\n",
       " ('HWI-ST466_135068617:8:2101:20690:68324', False): [(78, 22404984, 'A', 'G')],\n",
       " ('HWI-ST466_135068617:8:1102:11736:16410', True): [(53, 22404966, 'T', 'C')],\n",
       " ('HWI-ST466_135068617:8:1103:20561:79535', True): [(52, 22404966, 'T', 'C')],\n",
       " ('HWI-ST466_135068617:8:2308:21226:40688', False): [(25, 22404940, 'A', 'G')],\n",
       " ('HWI-ST466_135068617:8:1303:15014:31681', False): [(2, 22379925, 'A', 'G')]}"
      ]
     },
     "metadata": {},
     "output_type": "display_data"
    },
    {
     "data": {
      "text/plain": [
       "25"
      ]
     },
     "metadata": {},
     "output_type": "display_data"
    },
    {
     "data": {
      "text/plain": [
       "[(2, 22443997, 'A', 'G'), (5, 22444000, 'A', 'G')]"
      ]
     },
     "metadata": {},
     "output_type": "display_data"
    }
   ],
   "source": [
    "# count t/c mismatches per read in a BAM file, filtering for minimum base quality\n",
    "tc_conv={}\n",
    "for l,(r,mm) in ReadIterator('testdata/small_example.bam',report_mismatches=True, min_base_quality=10):\n",
    "    if len(mm)>0:\n",
    "        is_rev = not r.is_reverse if r.is_read2 else r.is_reverse\n",
    "        refc = \"A\" if is_rev else \"T\"\n",
    "        altc = \"G\" if is_rev else \"C\"\n",
    "        mm_tc=[(off, pos1, ref, alt) for off, pos1, ref, alt in mm if ref==refc and alt==altc]\n",
    "        if len(mm_tc) > 0:\n",
    "            tc_conv[r.query_name, not r.is_read2]=mm_tc\n",
    "\n",
    "# show the first 10 reads\n",
    "display({k:tc_conv[k] for k in list(tc_conv.keys())[:10]})\n",
    "\n",
    "# count reads with more than one T/C conversion\n",
    "display(len({k:tc_conv[k] for k in list(tc_conv.keys()) if len(tc_conv[k])>1}))\n",
    "\n",
    "# show MM of one such read\n",
    "display(tc_conv['HWI-ST466_135068617:8:2316:4251:54002', False])"
   ]
  },
  {
   "cell_type": "code",
   "execution_count": 20,
   "id": "79113d3d-12d6-4b1b-a230-ec9f51598e3d",
   "metadata": {
    "tags": []
   },
   "outputs": [
    {
     "name": "stdout",
     "output_type": "stream",
     "text": [
      "Iterating refdict: Refset (size: 25): dict_keys(['211000022278279', '211000022278436', '211000022278449', '211000022278760', '211000022279165', '211000022279188', '211000022279264', '211000022279392', '211000022279681', '211000022280328', '211000022280341', '211000022280347', '211000022280481', '211000022280494', '211000022280703', '2L', '2R', '3L', '3R', '4', 'Unmapped_Scaffold_8_D1580_D1567', 'X', 'Y', 'mitochondrion_genome', 'rDNA']), dict_values([None, None, None, None, None, None, None, None, None, None, None, None, None, None, None, None, None, None, None, None, None, None, None, None, None]) name: References from TABIX file b'testdata/flybase.dmel-all-r6.51.sorted.gtf.gz' \n"
     ]
    },
    {
     "data": {
      "text/plain": [
       "'2L:574291-574355 (+) FBgn0031268  []'"
      ]
     },
     "metadata": {},
     "output_type": "display_data"
    },
    {
     "data": {
      "text/plain": [
       "'2L:574291-575734 (+) FBgn0031268  [(2L:574362-574362, 2L:574362A>G), (2L:574390-574390, 2L:574390T>C), (2L:574410-574410, 2L:574410G>T), (2L:574421-574421, 2L:574421T>A), (2L:574429-574429, 2L:574429C>T), (2L:574500-574500, 2L:574500C>A), (2L:574518-574518, 2L:574518G>A), (2L:574707-574707, 2L:574707A>G), (2L:574708-574708, 2L:574708T>A), (2L:574819-574819, 2L:574819C>T), (2L:574825-574825, 2L:574825G>A), (2L:574834-574834, 2L:574834G>C), (2L:574960-574960, 2L:574960G>A), (2L:575011-575011, 2L:575011G>T), (2L:575086-575086, 2L:575086C>G), (2L:575101-575101, 2L:575101G>A), (2L:575130-575130, 2L:575130G>C), (2L:575333-575333, 2L:575333T>A), (2L:575342-575342, 2L:575342A>C), (2L:575454-575454, 2L:575454G>T), (2L:575575-575575, 2L:575575T>G), (2L:575596-575596, 2L:575596A>G), (2L:575645-575645, 2L:575645C>A), (2L:575650-575650, 2L:575650G>A), (2L:575690-575690, 2L:575690T>C)]'"
      ]
     },
     "metadata": {},
     "output_type": "display_data"
    },
    {
     "data": {
      "text/plain": [
       "'2L:574291-575734 (+) FBgn0031268  [(2L:574362-574362, 2L:574362A>G), (2L:574390-574390, 2L:574390T>C), (2L:574410-574410, 2L:574410G>T), (2L:574421-574421, 2L:574421T>A), (2L:574429-574429, 2L:574429C>T), (2L:574500-574500, 2L:574500C>A), (2L:574518-574518, 2L:574518G>A), (2L:574707-574707, 2L:574707A>G), (2L:574708-574708, 2L:574708T>A), (2L:574819-574819, 2L:574819C>T), (2L:574825-574825, 2L:574825G>A), (2L:574834-574834, 2L:574834G>C), (2L:574960-574960, 2L:574960G>A), (2L:575011-575011, 2L:575011G>T), (2L:575086-575086, 2L:575086C>G), (2L:575101-575101, 2L:575101G>A), (2L:575130-575130, 2L:575130G>C), (2L:575333-575333, 2L:575333T>A), (2L:575342-575342, 2L:575342A>C), (2L:575454-575454, 2L:575454G>T), (2L:575575-575575, 2L:575575T>G), (2L:575596-575596, 2L:575596A>G), (2L:575645-575645, 2L:575645C>A), (2L:575650-575650, 2L:575650G>A), (2L:575690-575690, 2L:575690T>C)]'"
      ]
     },
     "metadata": {},
     "output_type": "display_data"
    },
    {
     "data": {
      "text/plain": [
       "'2L:574291-574355 (+) FBgn0031268  []'"
      ]
     },
     "metadata": {},
     "output_type": "display_data"
    },
    {
     "data": {
      "text/plain": [
       "'2L:574508-575734 (+) FBgn0031268  []'"
      ]
     },
     "metadata": {},
     "output_type": "display_data"
    }
   ],
   "source": [
    "# list the genotypes of annotated SNPs for 3 samples that overlap a region in the flybase GTF\n",
    "gff_file='testdata/flybase.dmel-all-r6.51.sorted.gtf.gz'\n",
    "vcf_file='testdata/dmelanogaster_6_exported_20230523.vcf.gz'\n",
    "\n",
    "with AnnotationIterator(GFF3Iterator(gff_file, '2L', 574299, 575733), \n",
    "                        VcfIterator(vcf_file, samples=['DGRP-208', 'DGRP-325', 'DGRP-721'])) as it:\n",
    "    for loc, (v1,v2) in it.take()[:5]:\n",
    "        display(f\"{loc} {v1[0][1]['gene_id']}  {v2}\")"
   ]
  },
  {
   "cell_type": "code",
   "execution_count": 21,
   "id": "8f6c387b-8bde-42fe-9590-ad5c859a9b8d",
   "metadata": {
    "tags": []
   },
   "outputs": [
    {
     "name": "stdout",
     "output_type": "stream",
     "text": [
      "Iterating refdict: Refset (size: 2): dict_keys(['1', '2']), dict_values([None, None]) name: References from TABIX file b'testdata/test.bed.gz' \n"
     ]
    },
    {
     "name": "stderr",
     "output_type": "stream",
     "text": [
      "[W::tbx_parse1] Coordinate <= 0 detected. Did you forget to use the -0 option?\n",
      "[W::tbx_parse1] Coordinate <= 0 detected. Did you forget to use the -0 option?\n",
      "[W::tbx_parse1] Coordinate <= 0 detected. Did you forget to use the -0 option?\n",
      "[W::tbx_parse1] Coordinate <= 0 detected. Did you forget to use the -0 option?\n",
      "[W::tbx_parse1] Coordinate <= 0 detected. Did you forget to use the -0 option?\n",
      "[W::tbx_parse1] Coordinate <= 0 detected. Did you forget to use the -0 option?\n",
      "[W::tbx_parse1] Coordinate <= 0 detected. Did you forget to use the -0 option?\n",
      "[W::tbx_parse1] Coordinate <= 0 detected. Did you forget to use the -0 option?\n",
      "[W::tbx_parse1] Coordinate <= 0 detected. Did you forget to use the -0 option?\n",
      "[W::tbx_parse1] Coordinate <= 0 detected. Did you forget to use the -0 option?\n"
     ]
    },
    {
     "data": {
      "text/plain": [
       "[('int1', 1.408), ('int2', 0.3), ('int3', 0)]"
      ]
     },
     "metadata": {},
     "output_type": "display_data"
    }
   ],
   "source": [
    "# Annotated intervals in a BED file with sum of scores from a bedgraph file; supports bedgraph intervals >1bp: score contribution\n",
    "# is calculated from the interval overlap\n",
    "bed_file = 'testdata/test.bed.gz'\n",
    "bedg_file = 'testdata/test.bedgraph.gz'\n",
    "\n",
    "# overlap with bedgraph file, calculate overlap and sum scores\n",
    "# NOTE bedgraph file contains interval (1:7-10, 0.3)\n",
    "with AnnotationIterator(BedIterator(bed_file), BedGraphIterator(bedg_file)) as it:\n",
    "    display([(i1[0][1].name, sum([x[1]*l.overlap(x[0]) for x in i2])) for l,(i1,i2) in it])"
   ]
  },
  {
   "cell_type": "markdown",
   "id": "544f6fe4-9af7-4e86-ac4c-fb5bca6b8c72",
   "metadata": {
    "tags": []
   },
   "source": [
    "## Pileup performance comparison"
   ]
  },
  {
   "cell_type": "markdown",
   "id": "b435aa12-4161-48fe-b85d-e153ea4f2a56",
   "metadata": {},
   "source": [
    "Here we compare our pileup method to pysam (which adds a lot of boilerplate + additional checks) and reach a 10X performance increase."
   ]
  },
  {
   "cell_type": "code",
   "execution_count": 22,
   "id": "a506a0a3-9256-43cf-970c-ff8eb0b242fa",
   "metadata": {
    "tags": []
   },
   "outputs": [],
   "source": [
    "#chrom,start,stop='1',22418229,22418268\n",
    "#chrom,start,stop='1',22377202,22429853\n",
    "#chrom,start,stop='1',22378966,22379711\n",
    "reg=gi('1',22377202,22429853)"
   ]
  },
  {
   "cell_type": "code",
   "execution_count": 23,
   "id": "72f9135a-9d2a-4a74-b37b-b97546641e7e",
   "metadata": {
    "tags": []
   },
   "outputs": [
    {
     "name": "stdout",
     "output_type": "stream",
     "text": [
      "1.75 s ± 0 ns per loop (mean ± std. dev. of 1 run, 1 loop each)\n"
     ]
    }
   ],
   "source": [
    "%%timeit -n 1 -r 1\n",
    "ac1=Counter()\n",
    "with open_file_obj('testdata/small_example.bam') as bam:\n",
    "    for l,v in FastPileupIterator(bam, reg.chromosome, range(reg.start, reg.end)):\n",
    "        ac1[l.chromosome, l.start]=v\n",
    "#display(ac1)"
   ]
  },
  {
   "cell_type": "code",
   "execution_count": null,
   "id": "83eddd74-84ce-4e0a-9e09-f58ea4dca92e",
   "metadata": {
    "tags": []
   },
   "outputs": [],
   "source": [
    "%%timeit -n 1 -r 1\n",
    "ac2=Counter()\n",
    "with open_file_obj('testdata/small_example.bam') as bam:\n",
    "    for pu in bam.pileup(contig=reg.chromosome, start=reg.start-1, stop=reg.end-1, flag_filter=DEFAULT_FLAG_FILTER, \n",
    "                         truncate=True,mark_ends=True,add_indels=True,min_base_quality=0,min_mapping_quality=0,\n",
    "                         ignore_overlaps=False, ignore_orphans=False,\n",
    "                         max_depth=100000):\n",
    "        pos=(pu.reference_name, pu.reference_pos+1)\n",
    "        ac2[pos]=Counter()\n",
    "        for r in pu.pileups:\n",
    "            if r.is_refskip:\n",
    "                continue\n",
    "            elif r.is_del:\n",
    "                ac2[pos][None]+=1\n",
    "            else:\n",
    "                ac2[pos][r.alignment.query_sequence[r.query_position]]+=1\n",
    "#display(ac2)"
   ]
  },
  {
   "cell_type": "markdown",
   "id": "780d0267-ad14-4a56-8516-be12f432f511",
   "metadata": {},
   "source": [
    "Finally, lets check whether results match (remove %%timeit first)"
   ]
  },
  {
   "cell_type": "code",
   "execution_count": null,
   "id": "52a2dff5-b6ac-4d00-8037-4e55a9bff3bd",
   "metadata": {
    "tags": []
   },
   "outputs": [],
   "source": [
    "for pos in ac1:\n",
    "    if ac2[pos]==0:\n",
    "        ac2[pos]=Counter()\n",
    "if ac1==ac2:\n",
    "    print(\"ALL GOOD\")\n",
    "else:\n",
    "    for pos in ac1:\n",
    "        if ac1[pos]!=ac2[pos]:\n",
    "            print('err', pos, ac1[pos], ac2[pos])"
   ]
  },
  {
   "cell_type": "markdown",
   "id": "10260b7b-f8ac-464d-b212-6334423524e4",
   "metadata": {
    "jp-MarkdownHeadingCollapsed": true,
    "tags": []
   },
   "source": [
    "# Transcriptome tests"
   ]
  },
  {
   "cell_type": "code",
   "execution_count": null,
   "id": "c622eac2-5969-4568-a89b-3322f4920624",
   "metadata": {
    "tags": []
   },
   "outputs": [],
   "source": [
    "config={\n",
    "    'genome_fa': '/Volumes/groups/ameres/Niko/ref/genomes/GRCh38/GCA_000001405.15_GRCh38_full_plus_hs38d1_analysis_set.fna',\n",
    "    'annotation_gff': '/Volumes/groups/ameres/Niko/ref/genomes/GRCh38/annotation/gencode.v39.annotation.sorted.gff3.gz',\n",
    "    'annotation_flavour': 'gencode',\n",
    "    'transcript_filter': {\n",
    "        'included_tags': ['Ensembl_canonical'],\n",
    "        'included_genetypes': ['protein_coding']\n",
    "    },\n",
    "    'copied_fields': ['gene_type'],\n",
    "    'drop_empty_genes': False,\n",
    "    'load_sequences': False\n",
    "}"
   ]
  },
  {
   "cell_type": "code",
   "execution_count": null,
   "id": "beeee47e-4d42-433c-94dc-6d8c299836db",
   "metadata": {
    "tags": []
   },
   "outputs": [],
   "source": [
    "# Build subset of human transcriptome (all protein coding genes, Ensembl canonical only), takes 5-6min\n",
    "t=Transcriptome(config)"
   ]
  },
  {
   "cell_type": "code",
   "execution_count": null,
   "id": "a778e44e-aead-4bab-a883-0444cf67b6de",
   "metadata": {
    "tags": []
   },
   "outputs": [],
   "source": [
    "# We can also save/load annotated transcriptomes dusing dill (pickle). Saving is slow but loading is fast!\n",
    "# save/load takes ~25min, ~3GB\n",
    "# t.save('/Users/niko.popitsch/git/pygenlib/testdata/gencode.v39.pk')\n",
    "t=Transcriptome.load('/Users/niko.popitsch/git/pygenlib/testdata/gencode.v39.pk') # load is fast"
   ]
  },
  {
   "cell_type": "code",
   "execution_count": null,
   "id": "83b38f38-652b-4cb2-b4ef-32c218d0331f",
   "metadata": {
    "tags": []
   },
   "outputs": [],
   "source": [
    "# get all gene names and show the first 10\n",
    "[g.name for g in t.genes.values()][:10]"
   ]
  },
  {
   "cell_type": "code",
   "execution_count": null,
   "id": "7851c212-b1e4-4fc1-8b49-81585cc1cae1",
   "metadata": {
    "tags": []
   },
   "outputs": [],
   "source": [
    "# get number of exons for all ACTB transcripts\n",
    "{tx.tid:len(tx.exons) for tx in t.get_gene('ACTB').transcripts.values()}"
   ]
  },
  {
   "cell_type": "code",
   "execution_count": null,
   "id": "89e1f854-7257-42e8-b539-2b1f28dd4563",
   "metadata": {
    "tags": []
   },
   "outputs": [],
   "source": [
    "# Gene name of tx ENST00000646664.1\n",
    "t.transcripts['ENST00000646664.1'].parent.name"
   ]
  },
  {
   "cell_type": "code",
   "execution_count": null,
   "id": "735a45af-f8d4-4784-bd93-a5458162617e",
   "metadata": {
    "tags": []
   },
   "outputs": [],
   "source": [
    "# Get all transcript ids where an exon overlaps chr7:5529193\n",
    "{e.parent.tid for e in t.query(gi('chr7', 5529193, 5529193), Exon)}"
   ]
  },
  {
   "cell_type": "code",
   "execution_count": null,
   "id": "9ff1b250-d65c-4143-8474-faeef73d78f8",
   "metadata": {
    "tags": []
   },
   "outputs": [],
   "source": [
    "# list all gene names where the kmer is found in one of the transcripts\n",
    "kmer=\"ACTGACTGACTG\"\n",
    "{ tx.parent.name for tx in t.transcripts.values() if kmer in tx.get_spliced_seq() }"
   ]
  },
  {
   "cell_type": "code",
   "execution_count": null,
   "id": "08a61f21-c1db-41a6-9e6e-c1dffb968770",
   "metadata": {
    "tags": []
   },
   "outputs": [],
   "source": [
    "# list transcripts that overlap with the given region\n",
    "[ex.parent for ex in t.query(gi.from_str(\"chr2:241073384-241073423\"), Exon)]"
   ]
  },
  {
   "cell_type": "code",
   "execution_count": null,
   "id": "831b7a25-6592-4d2b-b495-8736d92eca4f",
   "metadata": {
    "tags": []
   },
   "outputs": [],
   "source": [
    "%%timeit\n",
    "# list all genes and their up/downstream genes within a given max distance (~63ms)\n",
    "def get_name(x):\n",
    "    return None if x is None else x.name\n",
    "[(get_name(x),get_name(y),get_name(z)) for x, y, z in t.gene_triples(max_dist=10000)]"
   ]
  },
  {
   "cell_type": "code",
   "execution_count": null,
   "id": "5d45504a-3cdc-4850-84e2-315ab8c87b5a",
   "metadata": {
    "tags": []
   },
   "outputs": [],
   "source": [
    "%%timeit\n",
    "# iterate all genes and query neighbouring genes +/- 10k bases (1-2sec)\n",
    "for g in t.genes.values():\n",
    "    list([(x.location(),x.name) for x in sorted(t.query(gi(g.chromosome, g.start-100000, g.end+100000), Gene))])"
   ]
  },
  {
   "cell_type": "code",
   "execution_count": null,
   "id": "9890c6d8-68a5-46dc-9ea8-547530493c87",
   "metadata": {
    "tags": []
   },
   "outputs": [],
   "source": [
    "# get the transcript ids of all exons that overlap with a given genomic region\n",
    "{e.parent.tid for e in t.query(gi('chr13', 32336891, 32336891), Exon)} "
   ]
  },
  {
   "cell_type": "markdown",
   "id": "56cb43b3-8552-4743-b3aa-c77559bf7f69",
   "metadata": {},
   "source": [
    "# Genomic interval implementation and reference dictionaries"
   ]
  },
  {
   "cell_type": "code",
   "execution_count": 25,
   "id": "35a2c55f-2c33-4610-aaf8-e7d47368f399",
   "metadata": {
    "tags": []
   },
   "outputs": [
    {
     "data": {
      "text/plain": [
       "[None:-inf-1000 (-),\n",
       " chr2:1-100,\n",
       " chr1:5-500 (+),\n",
       " chr3:50-120 (-),\n",
       " chr1:10-20 (-),\n",
       " None:10-1000 (-)]"
      ]
     },
     "metadata": {},
     "output_type": "display_data"
    },
    {
     "data": {
      "text/plain": [
       "'is chr2:1-1>chr1:1-1 defined?: None'"
      ]
     },
     "metadata": {},
     "output_type": "display_data"
    },
    {
     "data": {
      "text/plain": [
       "Refset (size: 3): dict_keys(['chr1', 'chr2', 'chr3']), dict_values([None, None, None]) name: test "
      ]
     },
     "metadata": {},
     "output_type": "display_data"
    },
    {
     "data": {
      "text/plain": [
       "[None:-inf-1000 (-),\n",
       " None:10-1000 (-),\n",
       " chr1:5-500 (+),\n",
       " chr1:10-20 (-),\n",
       " chr2:1-100,\n",
       " chr3:50-120 (-)]"
      ]
     },
     "metadata": {},
     "output_type": "display_data"
    }
   ],
   "source": [
    "# Genomic intervals (gi) in pygenlib are inclusive and 1-based. Points are represented by intervals with same start+stop coordinate.\n",
    "# GIs are implemented as frozen(immutable) dataclasses and can be used, e.g., as keys in a dict.\n",
    "# They can be instantiated by passing chrom/start/stop coordinates or can be parsed form a string. \n",
    "# Intervals can be stranded.\n",
    "# Using None for each component of the coordinates is allowed to represent unbounded intervals\n",
    "locs=[gi('chr2', 1, 100), \n",
    "      gi.from_str('chr1:5-500 (+)'), \n",
    "      gi.from_str('chr3:50-120 (-)'), \n",
    "      gi.from_str('chr1:10-20 (-)'), \n",
    "      gi(None, None, 1000, '-'), \n",
    "      gi(None, 10, 1000, '-')]\n",
    "display(sorted(locs))\n",
    "# Note that chromosome group intervals and the order of intervals from different groups (chromosomes) is left undefined.\n",
    "display(f\"is chr2:1-1>chr1:1-1 defined?: {gi('chr2', 1, 1) > gi('chr1', 1, 1)}\")\n",
    "\n",
    "# To sort also by chromosome, you can use a reference dict which defined the chromosome order:\n",
    "refdict=ReferenceDict({'chr1':None, 'chr2':None, 'chr3':None}, 'test', None)\n",
    "display(refdict)\n",
    "display(sorted(locs, key=lambda x: (refdict.index(x.chromosome), x)))\n",
    "# Unbounded intervals (chromosome=None) will always be at the beginning of the list"
   ]
  },
  {
   "cell_type": "markdown",
   "id": "410c2772-c2ad-454c-831d-9ca289a5ca46",
   "metadata": {
    "tags": []
   },
   "source": [
    "# Utility functions"
   ]
  },
  {
   "cell_type": "code",
   "execution_count": 26,
   "id": "ac210d22-cc7d-4855-8402-cfb35bb2b614",
   "metadata": {
    "tags": []
   },
   "outputs": [
    {
     "name": "stderr",
     "output_type": "stream",
     "text": [
      "INFO:biothings.client:querying 1-2...\n",
      "INFO:biothings.client:done.\n"
     ]
    },
    {
     "data": {
      "text/plain": [
       "{'60': ACTB (actin beta, tax: 9606),\n",
       " 'ENSMUSG00000029580': Actb (actin, beta, tax: 10090)}"
      ]
     },
     "execution_count": 26,
     "metadata": {},
     "output_type": "execute_result"
    }
   ],
   "source": [
    "# Gene symbols are updated regularly and mapping between different id schemas is cumbersome\n",
    "# pygenlib implements an interface to MyGeneInfo for easy translation between ids and symbols \n",
    "# Example: we pass a mixed list of Ensembl and Entrez ids for mouse and human  actin beta:\n",
    "geneid2symbol(['ENSMUSG00000029580', 60])"
   ]
  },
  {
   "cell_type": "code",
   "execution_count": 27,
   "id": "57b83a6e-7f5d-430b-8c58-904612b75b12",
   "metadata": {
    "tags": []
   },
   "outputs": [
    {
     "name": "stderr",
     "output_type": "stream",
     "text": [
      "load gene aliases: 100%|██████████████████████████████████████████████████████████████████████████████████████████████████████████████████████| 43591/43591 [00:02<00:00, 15905.07it/s]\n"
     ]
    },
    {
     "data": {
      "text/plain": [
       "('AADAC', 'AADAC')"
      ]
     },
     "execution_count": 27,
     "metadata": {},
     "output_type": "execute_result"
    }
   ],
   "source": [
    "# Here we use genenames.org data to convert lists containing partially old gene symbols to their current symbol\n",
    "gene_name_alias_file='/Users/niko.popitsch/Desktop/data/projects/Ameres/af2/colabfold_test/annotations/hgnc_complete_set.txt'\n",
    "aliases, current_symbols = read_alias_file(gene_name_alias_file)\n",
    "# now lets translate some previous names of AADAC\n",
    "norm_gn('DAC', current_symbols, aliases), norm_gn('CES5A1', current_symbols, aliases)"
   ]
  },
  {
   "cell_type": "code",
   "execution_count": 28,
   "id": "59a2cabf-8f91-48f5-b38c-f32bd6e06bbc",
   "metadata": {
    "tags": []
   },
   "outputs": [
    {
     "name": "stdout",
     "output_type": "stream",
     "text": [
      "---------ACTGactTTTC--\n",
      "         ||||...||||  \n",
      "AAATTTCCCACTGAAATTTCCC\n",
      "  Score=8\n",
      "\n",
      "We found a match from 9-20 ('ACTGAAATTTC') with normalized alignment score 0.7272727272727273\n"
     ]
    }
   ],
   "source": [
    "# We also provide a wrapper around some useful Biopython methods, e.g., for sequence alignment\n",
    "refseq='AAATTTCCCACTGAAATTTCCC'\n",
    "score, startpos, endpos = align_sequence('ACTGactTTTC', refseq, print_alignment=True)\n",
    "print(f\"We found a match from {startpos}-{endpos} ('{'AAATTTCCCACTGAAATTTCCC'[startpos:endpos]}') with normalized alignment score {score}\")"
   ]
  },
  {
   "cell_type": "code",
   "execution_count": 29,
   "id": "9e064903-9412-44a2-8590-1ed5785a7b04",
   "metadata": {
    "tags": []
   },
   "outputs": [
    {
     "name": "stdout",
     "output_type": "stream",
     "text": [
      "read_00640444-1c5c-495b-b35b-d96f7020b399 ├── Analyses\n",
      "read_00640444-1c5c-495b-b35b-d96f7020b399 │   ├── Basecall_1D_000 {component=b'basecall_1d',model_type=b'flipflop',model_version_id=b'2020-09-07_rna_r9.4.1_minion_256_8f8fc47b',name=b'ONT Guppy basecalling software.',segmentation=b'Segmentation_000',time_stamp=b'2023-02-17T10:21:00Z',version=b'6.1.7+21b93d1'}\n",
      "read_00640444-1c5c-495b-b35b-d96f7020b399 │   │   ├── BaseCalled_template\n",
      "read_00640444-1c5c-495b-b35b-d96f7020b399 │   │   │   ├── Fastq {table_version=b'fastq_record_v0.1'}\n",
      "read_00640444-1c5c-495b-b35b-d96f7020b399 │   │   │   ├── Move {table_version=b'flipflop_move_table_v0.1'}\n",
      "read_00640444-1c5c-495b-b35b-d96f7020b399 │   │   │   └── Trace {offset=0.0,scale=0.003921568859368563,table_version=b'flipflop_trace_table_v0.1'}\n",
      "read_00640444-1c5c-495b-b35b-d96f7020b399 │   │   └── Summary {return_status=b'Workflow Successful'}\n",
      "read_00640444-1c5c-495b-b35b-d96f7020b399 │   │       └── basecall_1d_template {block_stride=10,called_events=1661,mean_qscore=7.398683071136475,scaling_mean_abs_dev=12.189653396606445,scaling_median=105.90579986572266,sequence_length=319,skip_prob=0.0,stay_prob=0.807947039604187,step_prob=0.19205297529697418,strand_score=0.0}\n",
      "read_00640444-1c5c-495b-b35b-d96f7020b399 │   └── Segmentation_000 {component=b'segmentation',name=b'ONT Guppy basecalling software.',time_stamp=b'2023-02-17T10:21:00Z',version=b'6.1.7+21b93d1'}\n",
      "read_00640444-1c5c-495b-b35b-d96f7020b399 │       └── Summary {return_status=b'Workflow Successful'}\n",
      "read_00640444-1c5c-495b-b35b-d96f7020b399 │           └── segmentation {adapter_max=0.0,duration_template=16610,first_sample_template=0,has_complement=0,has_template=1,med_abs_dev_template=12.189653396606445,median_template=105.90579986572266,num_events_template=1661,pt_detect_success=0,pt_median=0.0,pt_sd=0.0}\n",
      "read_00640444-1c5c-495b-b35b-d96f7020b399 ├── Raw\n",
      "read_00640444-1c5c-495b-b35b-d96f7020b399 │   └── Signal\n",
      "read_00640444-1c5c-495b-b35b-d96f7020b399 ├── channel_id\n",
      "read_00640444-1c5c-495b-b35b-d96f7020b399 ├── context_tags\n",
      "read_00640444-1c5c-495b-b35b-d96f7020b399 └── tracking_id\n",
      "---\n"
     ]
    }
   ],
   "source": [
    "# And utilities to work with Nanopore data (FAST5 files)\n",
    "# You can, e.g., inspect the structure of such a file:\n",
    "print_fast5_tree('testdata/FAT61995_a1291c8f_5.fast5', show_attrs=False)"
   ]
  },
  {
   "cell_type": "code",
   "execution_count": 30,
   "id": "6f96d57e-061f-4264-856d-e1bc5f0d3a61",
   "metadata": {
    "tags": []
   },
   "outputs": [
    {
     "data": {
      "text/plain": [
       "['Basecall_1D_000']"
      ]
     },
     "execution_count": 30,
     "metadata": {},
     "output_type": "execute_result"
    }
   ],
   "source": [
    "# Or check the basecalling groups in this file\n",
    "get_bcgs('testdata/FAT61995_a1291c8f_5.fast5')"
   ]
  }
 ],
 "metadata": {
  "kernelspec": {
   "display_name": "pygenlib-venv",
   "language": "python",
   "name": "pygenlib-venv"
  },
  "language_info": {
   "codemirror_mode": {
    "name": "ipython",
    "version": 3
   },
   "file_extension": ".py",
   "mimetype": "text/x-python",
   "name": "python",
   "nbconvert_exporter": "python",
   "pygments_lexer": "ipython3",
   "version": "3.10.4"
  }
 },
 "nbformat": 4,
 "nbformat_minor": 5
}
