{
 "cells": [
  {
   "cell_type": "code",
   "execution_count": 5,
   "id": "1474387e-b7f8-4207-8154-d496a4938240",
   "metadata": {
    "tags": []
   },
   "outputs": [
    {
     "name": "stdout",
     "output_type": "stream",
     "text": [
      "/Users/niko.popitsch/git/pygenlib\n"
     ]
    }
   ],
   "source": [
    "PYGENLIB_SRC='/Users/niko.popitsch/git/pygenlib/'\n",
    "import os; os.chdir(PYGENLIB_SRC)\n",
    "!pwd\n",
    "\n",
    "from pygenlib.utils import *\n",
    "from pygenlib.iterators import *\n"
   ]
  },
  {
   "cell_type": "code",
   "execution_count": 6,
   "id": "a506a0a3-9256-43cf-970c-ff8eb0b242fa",
   "metadata": {
    "tags": []
   },
   "outputs": [],
   "source": [
    "#chrom,start,stop='1',22418229,22418268\n",
    "chrom,start,stop='1',22377202,22429853"
   ]
  },
  {
   "cell_type": "code",
   "execution_count": 7,
   "id": "72f9135a-9d2a-4a74-b37b-b97546641e7e",
   "metadata": {
    "tags": []
   },
   "outputs": [
    {
     "name": "stdout",
     "output_type": "stream",
     "text": [
      "1.54 s ± 243 ms per loop (mean ± std. dev. of 7 runs, 1 loop each)\n"
     ]
    }
   ],
   "source": [
    "%%timeit -n 1 -r 1\n",
    "ac1=Counter()\n",
    "with open_pysam_obj('testdata/small_example.bam') as bam:\n",
    "    for l,v in FastPileupIterator(bam, chrom, range(start,stop)):\n",
    "        ac1[l.chromosome, l.start]=v\n",
    "#display(ac1)"
   ]
  },
  {
   "cell_type": "code",
   "execution_count": null,
   "id": "83eddd74-84ce-4e0a-9e09-f58ea4dca92e",
   "metadata": {
    "tags": []
   },
   "outputs": [],
   "source": [
    "%%timeit -n 1 -r 1\n",
    "ac2=Counter()\n",
    "with open_pysam_obj('testdata/small_example.bam') as bam:\n",
    "    for pu in bam.pileup(contig=chrom, start=start-1, stop=stop-1, flag_filter=DEFAULT_FLAG_FILTER, \n",
    "                         truncate=True,mark_ends=True,add_indels=True,min_base_quality=0,min_mapping_quality=0,\n",
    "                         ignore_overlaps=False, ignore_orphans=False,\n",
    "                         max_depth=100000):\n",
    "        pos=(pu.reference_name, pu.reference_pos+1)\n",
    "        ac2[pos]=Counter()\n",
    "        for r in pu.pileups:\n",
    "            if r.is_refskip:\n",
    "                continue\n",
    "            #print(r.alignment.query_name, r.query_position)\n",
    "            if r.is_del:\n",
    "                ac2[pos][None]+=1\n",
    "            else:\n",
    "                ac2[pos][r.alignment.query_sequence[r.query_position]]+=1\n",
    "#display(ac2)"
   ]
  },
  {
   "cell_type": "code",
   "execution_count": 9,
   "id": "52a2dff5-b6ac-4d00-8037-4e55a9bff3bd",
   "metadata": {
    "tags": []
   },
   "outputs": [
    {
     "ename": "NameError",
     "evalue": "name 'ac2' is not defined",
     "output_type": "error",
     "traceback": [
      "\u001b[0;31m---------------------------------------------------------------------------\u001b[0m",
      "\u001b[0;31mNameError\u001b[0m                                 Traceback (most recent call last)",
      "Cell \u001b[0;32mIn[9], line 1\u001b[0m\n\u001b[0;32m----> 1\u001b[0m \u001b[38;5;28;01mif\u001b[39;00m ac1\u001b[38;5;241m==\u001b[39m\u001b[43mac2\u001b[49m:\n\u001b[1;32m      2\u001b[0m     \u001b[38;5;28mprint\u001b[39m(\u001b[38;5;124m\"\u001b[39m\u001b[38;5;124mALL GOOD\u001b[39m\u001b[38;5;124m\"\u001b[39m)\n\u001b[1;32m      3\u001b[0m \u001b[38;5;28;01mfor\u001b[39;00m pos \u001b[38;5;129;01min\u001b[39;00m ac1:\n",
      "\u001b[0;31mNameError\u001b[0m: name 'ac2' is not defined"
     ]
    }
   ],
   "source": [
    "if ac1==ac2:\n",
    "    print(\"ALL GOOD\")\n",
    "for pos in ac1:\n",
    "    if ac1[pos]!=ac2[pos]:\n",
    "        print('err', pos, ac1[pos], ac2[pos])"
   ]
  }
 ],
 "metadata": {
  "kernelspec": {
   "display_name": "pygenlib-venv",
   "language": "python",
   "name": "pygenlib-venv"
  },
  "language_info": {
   "codemirror_mode": {
    "name": "ipython",
    "version": 3
   },
   "file_extension": ".py",
   "mimetype": "text/x-python",
   "name": "python",
   "nbconvert_exporter": "python",
   "pygments_lexer": "ipython3",
   "version": "3.10.4"
  }
 },
 "nbformat": 4,
 "nbformat_minor": 5
}
