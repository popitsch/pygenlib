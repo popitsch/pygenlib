{
 "cells": [
  {
   "cell_type": "markdown",
   "id": "0580641a-d103-4972-b263-9fcc21959431",
   "metadata": {},
   "source": [
    "# Pygenlib "
   ]
  },
  {
   "cell_type": "markdown",
   "id": "9115b498-61b8-41fb-9a0f-546cb3bebbf1",
   "metadata": {
    "tags": []
   },
   "source": [
    "Pygenlib is a python utilities library for handling genomics data.\n",
    "It is roughly structured into the following modules:\n",
    "\n",
    "- [iterators](#Iterators): efficient iteration over large-scaled genomics datasets. Iterators keep track of the genomic region of the\n",
    "  yielded data enabling their efficient integration with other genomics data\n",
    "- [genemodel](#Transcriptome): python classes for modeling genomics (annotation) data. This includes a '[transcriptome](#Transcriptome)' implementation \n",
    "  that models gene/transcript annotations and many useful querying/annotation methods.\n",
    "- [utils](#Utility-functions): general (low-level) utility functions for working with genomics datasets.\n"
   ]
  },
  {
   "cell_type": "code",
   "execution_count": 1,
   "id": "185a0d6a-f389-43d1-8198-eed73c564a33",
   "metadata": {
    "tags": []
   },
   "outputs": [
    {
     "data": {
      "text/plain": [
       "'Running pygenlib on python 3.9.12. Using pygenlib code from /groups/ameres/Niko/workspace/pygenlib'"
      ]
     },
     "metadata": {},
     "output_type": "display_data"
    }
   ],
   "source": [
    "# set path and install missing libraries\n",
    "import os, pathlib\n",
    "from platform import python_version\n",
    "PYGENLIB_SRC=pathlib.Path().cwd().parent #'/groups/ameres/Niko/workspace/pygenlib/' # '/Users/niko.popitsch/git/pygenlib/' \n",
    "os.chdir(PYGENLIB_SRC)\n",
    "# install libraries. better to use a venv here!\n",
    "#!python -m pip install -r requirements.txt \n",
    "display(f\"Running pygenlib on python {python_version()}. Using pygenlib code from {PYGENLIB_SRC}\")"
   ]
  },
  {
   "cell_type": "code",
   "execution_count": 2,
   "id": "1474387e-b7f8-4207-8154-d496a4938240",
   "metadata": {
    "tags": []
   },
   "outputs": [
    {
     "name": "stdout",
     "output_type": "stream",
     "text": [
      "/groups/ameres/Niko/workspace/pygenlib\n"
     ]
    }
   ],
   "source": [
    "# load libs\n",
    "from IPython.display import Markdown\n",
    "from Bio.Seq import Seq\n",
    "import matplotlib.pyplot as plt\n",
    "from pygenlib.utils import *\n",
    "from pygenlib.iterators import *\n",
    "from pygenlib.genemodel import *\n",
    "import pprint\n",
    "import numpy as np\n",
    "import pandas as pd\n",
    "import pprint\n",
    "SEP=Markdown('---')\n",
    "!pwd"
   ]
  },
  {
   "cell_type": "markdown",
   "id": "728ecb24-235c-48f4-aadf-7d13776b5c69",
   "metadata": {},
   "source": [
    "## Genomic intervals\n",
    "Genomic regions are referenced by *genomic intervals* (gi) in pygenlib:\n",
    "- Genomic intervals (gi) in pygenlib are inclusive and 1-based. \n",
    "- GIs are implemented as frozen (pseudo immutable) dataclasses and can thus be used, e.g., as keys in a dict.\n",
    "- GIs can be instantiated by passing chrom/start/stop coordinates or can be parsed form a string. \n",
    "- GIs can be stranded. Unstranded intervals are represented by setting strand to None (default) \n",
    "- Using None for each component of the coordinates is allowed to represent unbounded intervals. Examples:\n",
    "  - gi('chr1') refers to the whole chromosome\n",
    "  - gi('chr1', 100000) refers to the section of chromosome 1 from (and including) positon 100k on.\n",
    "  - gi(start=100, end=200) refers to positions 100-200 (inclusive) on any chromosome \n",
    "- Points are represented by GIs with same start and end coordinate.\n",
    "- Empty intervals are represented by GIs with start>end coordinates (experimental)\n",
    "\n",
    "Chromosome order in a genome is represented by *ReferenceDict*s (which extend regular python dicts).\n",
    "- ReferenceDicts can be used to properly sort genomic intervals (see example below)\n",
    "- ReferenceDicts keep track of the available chromosomes and their length and are typically directly derived from genomic data files\n",
    "- ReferenceDicts are used in pygenlib to check for compatibility of different genomic datasets"
   ]
  },
  {
   "cell_type": "code",
   "execution_count": 3,
   "id": "2ffd3d62-7b49-473f-9749-1a567872260c",
   "metadata": {
    "tags": []
   },
   "outputs": [
    {
     "data": {
      "text/plain": [
       "'Sorted by start coordinate but order of chromosomes is undefined:'"
      ]
     },
     "metadata": {},
     "output_type": "display_data"
    },
    {
     "data": {
      "text/plain": [
       "[None:-inf-1000 (-),\n",
       " chr2:1-100,\n",
       " chr1:5-500 (+),\n",
       " chr3:50-120 (-),\n",
       " chr1:10-20 (-),\n",
       " None:10-1000 (-)]"
      ]
     },
     "metadata": {},
     "output_type": "display_data"
    },
    {
     "data": {
      "text/markdown": [
       "---"
      ],
      "text/plain": [
       "<IPython.core.display.Markdown object>"
      ]
     },
     "metadata": {},
     "output_type": "display_data"
    },
    {
     "data": {
      "text/plain": [
       "'Is the greater-than comparison chr2:1-1>chr1:1-1 defined? None'"
      ]
     },
     "metadata": {},
     "output_type": "display_data"
    },
    {
     "data": {
      "text/markdown": [
       "---"
      ],
      "text/plain": [
       "<IPython.core.display.Markdown object>"
      ]
     },
     "metadata": {},
     "output_type": "display_data"
    },
    {
     "data": {
      "text/plain": [
       "Refset (size: 3): dict_keys(['chr1', 'chr2', 'chr3']), dict_values([None, None, None]) name: test "
      ]
     },
     "metadata": {},
     "output_type": "display_data"
    },
    {
     "data": {
      "text/markdown": [
       "---"
      ],
      "text/plain": [
       "<IPython.core.display.Markdown object>"
      ]
     },
     "metadata": {},
     "output_type": "display_data"
    },
    {
     "data": {
      "text/plain": [
       "'Properly sorted list:'"
      ]
     },
     "metadata": {},
     "output_type": "display_data"
    },
    {
     "data": {
      "text/plain": [
       "[None:-inf-1000 (-),\n",
       " None:10-1000 (-),\n",
       " chr1:5-500 (+),\n",
       " chr1:10-20 (-),\n",
       " chr2:1-100,\n",
       " chr3:50-120 (-)]"
      ]
     },
     "metadata": {},
     "output_type": "display_data"
    }
   ],
   "source": [
    "# create a list of genomic intervals\n",
    "locs=[gi('chr2', 1, 100), # chr2:1-100, unstranded\n",
    "      gi.from_str('chr1:5-500 (+)'),  # parsed from string, strand='+'\n",
    "      gi.from_str('chr3:50-120 (-)'), \n",
    "      gi.from_str('chr1:10-20 (-)'), \n",
    "      gi(None, None, 1000, '-'), # chromosome and start unbound, end=1000, strand='-'\n",
    "      gi(None, 10, 1000, '-')] # chromosome unbound\n",
    "display('Sorted by start coordinate but order of chromosomes is undefined:', sorted(locs), SEP)\n",
    "\n",
    "# Note that chromosome group intervals and the order of intervals from different groups (chromosomes) is left undefined.\n",
    "display(f\"Is the greater-than comparison chr2:1-1>chr1:1-1 defined? {gi('chr2', 1, 1) > gi('chr1', 1, 1)}\", SEP)\n",
    "\n",
    "# To sort also by chromosome, you can use a reference dict which defined the chromosome order:\n",
    "refdict=ReferenceDict({'chr1':None, 'chr2':None, 'chr3':None}, 'test', None)\n",
    "display(refdict, SEP)\n",
    "display('Properly sorted list:', sorted(locs, key=lambda x: (refdict.index(x.chromosome), x)))\n",
    "# Unbounded intervals (chromosome=None) will always be at the beginning of the list"
   ]
  },
  {
   "cell_type": "markdown",
   "id": "5bf0f52e-1c1f-44c3-af27-e2c2d504718f",
   "metadata": {
    "tags": []
   },
   "source": [
    "# Iterators"
   ]
  },
  {
   "cell_type": "markdown",
   "id": "19601ee3-c724-430e-bec9-411e9e496c85",
   "metadata": {
    "tags": []
   },
   "source": [
    "_pygenlib_ implements several *LocationIterator*s for efficient iteration over (parts of) genomics datasets while keeping track of the [genomic interval](#Genomic-intervals) each yielded item refers to. Most implemented iterators are based on respective [pysam](https://pysam.readthedocs.io/en/latest/api.html) classes but extend them with different filtering/access methods and add sanity checks to avoid common errors when combining different genomics datasets.\n",
    "\n",
    "The primary goal of LocationIterators is to support the synchronization/integration of different genomics datasets. LocationIterators also support chunked I/O where feasible and not supported by the underlying (pysam) implementation.\n",
    "\n",
    "LocationIterators can iterate whole datasets or specific sub-region (e.g., a certain chromosome or genomic region). Yielded data items are sorted by respective [genomic intervals](#Genomic-intervals) where the order of chromosomes is defined by a [ReferenceDict](#Genomic-intervals) that is derived directly from the iterated dataset (e.g., by querying it's tabix index). When multiple LocationIterators are integrated (e.g., by an AnnotationIterator), their ReferenceDicts are checked for compatibility.\n",
    "\n",
    "Sometimes, genomics datasets from different providers used differing chromosome ids to refer to the same chromosomes which hinders their integration. \n",
    "Location iterators support chromosome aliasing as a quick solution for this: users can provide aliasing functions (e.g., for adding/removing 'chr' prefixes from \n",
    "chromosome ids) to dynamically change chromosome ids while keeping the underlying data files untouched.\n",
    "\n",
    "Implemented LocationIterators include:\n",
    "* [FastaIterator](#FastaIterator): iterates FASTA files per position or genomic window (e.g., Tiling/sliding windows).\n",
    "* [GFF3Iterator](#GFF3Iterator): iterates GTF/GFF3 files and parses annotation data. Used for the [Transcriptome](#transcriptome) implementation\n",
    "* [ReadIterator](#ReadIterator): iterates SAM/BAM files and implements various filter options. \n",
    "* [VcfIterator](#AnnotationIterator): iterates VCF files and can filter for samples\n",
    "* [AnnotationIterator](#AnnotationIterator): annotates the items from one LocationIterator with items from others\n",
    "\n",
    "and many more.\n",
    "The following sections showcase some of the implemented iterators:"
   ]
  },
  {
   "cell_type": "markdown",
   "id": "262da942-1ef3-45da-ad9a-3da72463ad8e",
   "metadata": {
    "tags": []
   },
   "source": [
    "## FastaIterator\n",
    "Iterates over a FASTA file but enables also tiling/sliding windows and padding."
   ]
  },
  {
   "cell_type": "code",
   "execution_count": 4,
   "id": "2d64ed77-f33f-4360-89c2-b80470284243",
   "metadata": {
    "tags": []
   },
   "outputs": [
    {
     "data": {
      "text/plain": [
       "\"['NNTTG', 'TTGTG', 'GTGCC', 'GCCAT', 'CATTA']...['TTGTA', 'GTATT', 'ATTTT', 'TTTTN', 'TTNNN']\""
      ]
     },
     "metadata": {},
     "output_type": "display_data"
    }
   ],
   "source": [
    "# FastaIterator that supports window/step size and padding\n",
    "fasta_file='testdata/ACTB+SOX2.fa.gz'\n",
    "\n",
    "# get 5mer sliding windows (step size 2) with padding from a GRCh38 chr7 region around ACTB; show first and last 5 results\n",
    "# <it>.take() consumes the whole iterator and stores the items in a list.\n",
    "# item.data returns the data item returned by this iterator (here: a string containing the kmer)\n",
    "# item.location is a GI describing the genomic location of this sequence\n",
    "kmers=[item.data for item in FastaIterator(fasta_file, 'chr7', None, None, width=5, step=2, padding=True).take()]\n",
    "display(f\"{kmers[:5]}...{kmers[-5:]}\")"
   ]
  },
  {
   "cell_type": "markdown",
   "id": "10b2536d-19fe-4f87-80f8-949b2163441e",
   "metadata": {
    "tags": []
   },
   "source": [
    "## GFF3Iterator\n",
    "Iterates over GFF3 files and yields dicts containing parsed annotation fields."
   ]
  },
  {
   "cell_type": "code",
   "execution_count": 5,
   "id": "fa18afb5-5874-46a4-9fdd-80ac25276c92",
   "metadata": {
    "tags": []
   },
   "outputs": [
    {
     "data": {
      "text/plain": [
       "Counter({'gene': 2,\n",
       "         'transcript': 24,\n",
       "         'exon': 106,\n",
       "         'five_prime_UTR': 33,\n",
       "         'start_codon': 17,\n",
       "         'CDS': 60,\n",
       "         'stop_codon': 13,\n",
       "         'three_prime_UTR': 20})"
      ]
     },
     "execution_count": 5,
     "metadata": {},
     "output_type": "execute_result"
    }
   ],
   "source": [
    "# Show some data from a GFF3 file\n",
    "GFF3Iterator('testdata/gencode.v39.ACTB+SOX2.gff3.gz').take()[:10]\n",
    "\n",
    "# iterate whole GFF3 file and collect stats of contained feature_type annotations\n",
    "Counter([item.data['feature_type'] for item in GFF3Iterator('testdata/gencode.v39.ACTB+SOX2.gff3.gz')])"
   ]
  },
  {
   "cell_type": "markdown",
   "id": "2987a903-200a-4ae4-b536-0c4671bb1757",
   "metadata": {
    "tags": []
   },
   "source": [
    "## ReadIterator\n",
    "Iterates SAM/BAM files and implements several filter options. Also keeps track of how many reads were filtered for what reason.\n",
    "Can also yield mismatches wrt. the reference if MD tags are available (can be added, e.g., by [samtools calmd](http://www.htslib.org/doc/samtools-calmd.html) if not added by the mapper itself).\n"
   ]
  },
  {
   "cell_type": "code",
   "execution_count": 6,
   "id": "714022c6-37c1-4ba6-b300-5fc37e1b9fc3",
   "metadata": {
    "tags": []
   },
   "outputs": [
    {
     "data": {
      "text/plain": [
       "{'all': Counter({('n_reads', '1'): 31678}),\n",
       " 'def': Counter({('n_reads', '1'): 21932, ('n_fil_flag', '1'): 9746}),\n",
       " 'mq20': Counter({('n_reads', '1'): 21626,\n",
       "          ('n_fil_flag', '1'): 9746,\n",
       "          ('n_fil_mq', '1'): 306}),\n",
       " 'tag': Counter({('n_fil_tag', '1'): 14544,\n",
       "          ('n_fil_flag', '1'): 9746,\n",
       "          ('n_reads', '1'): 7388})}"
      ]
     },
     "metadata": {},
     "output_type": "display_data"
    }
   ],
   "source": [
    "# count reads per chromosome in a BAM using different filters\n",
    "stats={x:Counter() for x in ['all', 'def', 'mq20', 'tag']}\n",
    "with open_file_obj('testdata/small_example.bam') as bam:\n",
    "    for chrom in get_reference_dict(bam):\n",
    "        with ReadIterator(bam, chrom, flag_filter=0) as it: # all: no filtering\n",
    "            it.take()\n",
    "            stats['all'].update(it.stats)\n",
    "        with ReadIterator(bam, chrom) as it: # def: default flag filter (as in IGV)\n",
    "            it.take()\n",
    "            stats['def'].update(it.stats)\n",
    "        with ReadIterator(bam, chrom, min_mapping_quality=20) as it: # mq20: default flag filter, mapping quality >= 20\n",
    "            it.take()\n",
    "            stats['mq20'].update(it.stats)\n",
    "        with ReadIterator(bam, chrom, tag_filters=[TagFilter('MD', ['100'])]) as it: # tag: default flag filter, MD tag must be '100'\n",
    "            it.take()\n",
    "            stats['tag'].update(it.stats)\n",
    "display(stats)"
   ]
  },
  {
   "cell_type": "code",
   "execution_count": 7,
   "id": "e02d4acd-b599-43c5-bf30-09ff448aa316",
   "metadata": {
    "tags": []
   },
   "outputs": [
    {
     "data": {
      "image/png": "[encoded data removed]",
      "text/plain": [
       "<Figure size 432x288 with 1 Axes>"
      ]
     },
     "metadata": {
      "needs_background": "light"
     },
     "output_type": "display_data"
    }
   ],
   "source": [
    "# Calculate mismatch profile and plot. \n",
    "# - iterate over alignment and report mismatches, so returned item.data is a tuple (read, mismatches)\n",
    "# - ref/alt alleles are revcomped if read is reversed (strand specific)\n",
    "# - count and plot results\n",
    "profile=Counter()\n",
    "for l,(r,mm) in ReadIterator('testdata/small_example.bam',report_mismatches=True, min_base_quality=10):\n",
    "    is_rev = not r.is_reverse if r.is_read2 else r.is_reverse\n",
    "    for (readpos, genpos, ref, alt) in mm:\n",
    "        if is_rev: # correct for read strand\n",
    "            ref,alt=reverse_complement(ref),reverse_complement(alt)\n",
    "        profile[f\"{ref}/{alt}\"]+=1\n",
    "# plot the data\n",
    "labels, values = zip(*sorted(profile.items()))\n",
    "plt.bar(range(len(labels)), values, 0.8)\n",
    "plt.xticks(range(len(labels)), labels)\n",
    "plt.suptitle(\"Mismatch distribution\")\n",
    "plt.show()"
   ]
  },
  {
   "cell_type": "code",
   "execution_count": 8,
   "id": "fbd60a4f-ed79-481b-98dc-a2e804cc4313",
   "metadata": {
    "tags": []
   },
   "outputs": [
    {
     "name": "stderr",
     "output_type": "stream",
     "text": [
      " 69%|██████▉   | 21932/31678 [00:00<00:00, 48667.35it/s]"
     ]
    },
    {
     "name": "stdout",
     "output_type": "stream",
     "text": [
      "     chromosome ref alt  convertible  converted  count\n",
      "conv                                                  \n",
      "A/G           1   A   G           20          0     41\n",
      "     chromosome ref alt  convertible  converted  count\n",
      "conv                                                  \n",
      "A/G           1   A   G           21          0     37\n",
      "     chromosome ref alt  convertible  converted  count\n",
      "conv                                                  \n",
      "A/G           1   A   G           22          0     48\n",
      "A/G           1   A   G           22          1     11\n",
      "     chromosome ref alt  convertible  converted  count\n",
      "conv                                                  \n",
      "A/G           1   A   G           23          0     56\n",
      "A/G           1   A   G           23          1     12\n",
      "     chromosome ref alt  convertible  converted  count\n",
      "conv                                                  \n",
      "A/G           1   A   G           24          0     97\n",
      "A/G           1   A   G           24          1     17\n",
      "     chromosome ref alt  convertible  converted  count\n",
      "conv                                                  \n",
      "A/G           1   A   G           25          0     86\n",
      "A/G           1   A   G           25          1     14\n",
      "     chromosome ref alt  convertible  converted  count\n",
      "conv                                                  \n",
      "T/C           1   T   C           20          0     21\n",
      "     chromosome ref alt  convertible  converted  count\n",
      "conv                                                  \n",
      "T/C           1   T   C           21          0     44\n",
      "T/C           1   T   C           21          1     44\n",
      "T/C           1   T   C           21          2     14\n",
      "     chromosome ref alt  convertible  converted  count\n",
      "conv                                                  \n",
      "T/C           1   T   C           22          0     56\n",
      "T/C           1   T   C           22          1     41\n",
      "     chromosome ref alt  convertible  converted  count\n",
      "conv                                                  \n",
      "T/C           1   T   C           23          0     42\n",
      "T/C           1   T   C           23          1     19\n",
      "     chromosome ref alt  convertible  converted  count\n",
      "conv                                                  \n",
      "T/C           1   T   C           24          0     49\n",
      "T/C           1   T   C           24          1     33\n",
      "     chromosome ref alt  convertible  converted  count\n",
      "conv                                                  \n",
      "T/C           1   T   C           25          0     73\n",
      "T/C           1   T   C           25          1     35\n"
     ]
    },
    {
     "name": "stderr",
     "output_type": "stream",
     "text": [
      "\n"
     ]
    }
   ],
   "source": [
    "# Count T/C (A/G) mismatches per chromosome.\n",
    "bam_file='testdata/small_example.bam'\n",
    "profile=Counter()\n",
    "for l,(r,mm) in tqdm(ReadIterator(bam_file,report_mismatches=True, min_base_quality=10), total=sum([x.total for x in open_file_obj(bam_file).get_index_statistics()])):\n",
    "    is_rev = not r.is_reverse if r.is_read2 else r.is_reverse\n",
    "    refc = \"A\" if is_rev else \"T\"\n",
    "    altc = \"G\" if is_rev else \"C\"\n",
    "    for (readpos, genpos, ref, alt) in mm:\n",
    "        n_ref = r.query_sequence.count(refc)\n",
    "        mm_tc=[(off, pos1, ref, alt) for off, pos1, ref, alt in mm if ref==refc and alt==altc]\n",
    "        profile[r.reference_name,refc,altc,n_ref,len(mm_tc)]+=1\n",
    "# filter for min number of counts\n",
    "profile=pd.DataFrame([list(k)+[v] for k,v in profile.items()], columns=['chromosome','ref','alt', 'convertible','converted', 'count'])\n",
    "profile=profile[profile['count']>10]\n",
    "\n",
    "# show filtered data, grouped by strand and convertible positions\n",
    "fil=profile.query('20 <= convertible <= 25').sort_values(['convertible', 'converted'])\n",
    "fil['conv']=fil['ref']+\"/\"+fil['alt']\n",
    "grouped=fil.groupby(['conv', 'convertible'])\n",
    "for i, key in enumerate(grouped.groups.keys()):\n",
    "    dat=grouped.get_group(key).set_index('conv')\n",
    "    print(dat)"
   ]
  },
  {
   "cell_type": "code",
   "execution_count": 9,
   "id": "5cf16172-dda8-4806-8a98-799add99a918",
   "metadata": {
    "tags": []
   },
   "outputs": [
    {
     "data": {
      "text/plain": [
       "'10 reads and their mismatches'"
      ]
     },
     "metadata": {},
     "output_type": "display_data"
    },
    {
     "data": {
      "text/plain": [
       "{('HWI-ST466_135068617:8:1104:18372:89212', False): [(2, 22379204, 'A', 'G')],\n",
       " ('HWI-ST466_135068617:8:2114:8986:54547', False): [(98, 22404991, 'T', 'C')],\n",
       " ('HWI-ST466_135068617:8:2214:18036:44964', False): [(86, 22404981, 'A', 'G')],\n",
       " ('HWI-ST466_135068617:8:2301:15221:88708', True): [(71, 22404968, 'A', 'G')],\n",
       " ('HWI-ST466_135068617:8:1107:12866:40944', False): [(72, 22404971, 'A', 'G')],\n",
       " ('HWI-ST466_135068617:8:2101:20690:68324', False): [(78, 22404984, 'A', 'G')],\n",
       " ('HWI-ST466_135068617:8:1102:11736:16410', True): [(53, 22404966, 'T', 'C')],\n",
       " ('HWI-ST466_135068617:8:1103:20561:79535', True): [(52, 22404966, 'T', 'C')],\n",
       " ('HWI-ST466_135068617:8:2308:21226:40688', False): [(25, 22404940, 'A', 'G')],\n",
       " ('HWI-ST466_135068617:8:1303:15014:31681', False): [(2, 22379925, 'A', 'G')]}"
      ]
     },
     "metadata": {},
     "output_type": "display_data"
    },
    {
     "data": {
      "text/markdown": [
       "---"
      ],
      "text/plain": [
       "<IPython.core.display.Markdown object>"
      ]
     },
     "metadata": {},
     "output_type": "display_data"
    },
    {
     "data": {
      "text/plain": [
       "'Number of reads with ore than one T/C conversion'"
      ]
     },
     "metadata": {},
     "output_type": "display_data"
    },
    {
     "data": {
      "text/plain": [
       "25"
      ]
     },
     "metadata": {},
     "output_type": "display_data"
    },
    {
     "data": {
      "text/markdown": [
       "---"
      ],
      "text/plain": [
       "<IPython.core.display.Markdown object>"
      ]
     },
     "metadata": {},
     "output_type": "display_data"
    },
    {
     "data": {
      "text/plain": [
       "'Example read with 2 mismatches:'"
      ]
     },
     "metadata": {},
     "output_type": "display_data"
    },
    {
     "data": {
      "text/plain": [
       "[(2, 22443997, 'A', 'G'), (5, 22444000, 'A', 'G')]"
      ]
     },
     "metadata": {},
     "output_type": "display_data"
    }
   ],
   "source": [
    "# count t/c mismatches per read in a BAM file, filtering for minimum base quality\n",
    "tc_conv={}\n",
    "for l,(r,mm) in ReadIterator('testdata/small_example.bam',report_mismatches=True, min_base_quality=10):\n",
    "#    if len(mm)>0: # at least 1 mismatch - just to speed things up.\n",
    "        is_rev = not r.is_reverse if r.is_read2 else r.is_reverse\n",
    "        refc = \"A\" if is_rev else \"T\"\n",
    "        altc = \"G\" if is_rev else \"C\"\n",
    "        mm_tc=[(off, pos1, ref, alt) for off, pos1, ref, alt in mm if ref==refc and alt==altc] # get only T/C or A/G mismatches (depenging on read strand)\n",
    "        if len(mm_tc) > 0: # at least 1 T/C or A/G mm\n",
    "            tc_conv[r.query_name, not r.is_read2]=mm_tc\n",
    "\n",
    "# show the first 10 reads\n",
    "display('10 reads and their mismatches', {k:tc_conv[k] for k in list(tc_conv.keys())[:10]}, SEP)\n",
    "\n",
    "# count reads with more than one T/C conversion\n",
    "display('Number of reads with ore than one T/C conversion', len({k:tc_conv[k] for k in list(tc_conv.keys()) if len(tc_conv[k])>1}),SEP)\n",
    "\n",
    "# show MM of one such read\n",
    "display('Example read with 2 mismatches:', tc_conv['HWI-ST466_135068617:8:2316:4251:54002', False])"
   ]
  },
  {
   "cell_type": "markdown",
   "id": "d801946b-3d04-473d-a0d9-03f547557fe9",
   "metadata": {
    "tags": []
   },
   "source": [
    "## AnnotationIterator\n",
    "Annotation iterators are meant to annotate the genomic intervals yielded by one location iterator with data from multiple others. "
   ]
  },
  {
   "cell_type": "code",
   "execution_count": 10,
   "id": "79113d3d-12d6-4b1b-a230-ec9f51598e3d",
   "metadata": {
    "tags": []
   },
   "outputs": [
    {
     "name": "stderr",
     "output_type": "stream",
     "text": [
      "100%|██████████| 1/1 [00:00<00:00, 286.22it/s]\n"
     ]
    },
    {
     "data": {
      "text/plain": [
       "\"2L:574291-574355 (+) {'gene_id': 'FBgn0031268', 'gene_symbol': 'cold', 'transcript_id': 'FBtr0310022', 'transcript_symbol': 'cold-RB', 'feature_type': '5UTR', 'source': 'FlyBase', 'score': None, 'phase': None} []\""
      ]
     },
     "metadata": {},
     "output_type": "display_data"
    },
    {
     "data": {
      "text/markdown": [
       "---"
      ],
      "text/plain": [
       "<IPython.core.display.Markdown object>"
      ]
     },
     "metadata": {},
     "output_type": "display_data"
    },
    {
     "data": {
      "text/plain": [
       "\"2L:574291-575734 (+) {'gene_id': 'FBgn0031268', 'gene_symbol': 'cold', 'feature_type': 'gene', 'source': 'FlyBase', 'score': None, 'phase': None} [Item(location=2L:574363-574363, data=2L:574363A>G), Item(location=2L:574391-574391, data=2L:574391T>C), Item(location=2L:574411-574411, data=2L:574411G>T), Item(location=2L:574422-574422, data=2L:574422T>A), Item(location=2L:574430-574430, data=2L:574430C>T), Item(location=2L:574501-574501, data=2L:574501C>A), Item(location=2L:574519-574519, data=2L:574519G>A), Item(location=2L:574708-574708, data=2L:574708A>G), Item(location=2L:574709-574709, data=2L:574709T>A), Item(location=2L:574820-574820, data=2L:574820C>T), Item(location=2L:574826-574826, data=2L:574826G>A), Item(location=2L:574835-574835, data=2L:574835G>C), Item(location=2L:574961-574961, data=2L:574961G>A), Item(location=2L:575012-575012, data=2L:575012G>T), Item(location=2L:575087-575087, data=2L:575087C>G), Item(location=2L:575102-575102, data=2L:575102G>A), Item(location=2L:575131-575131, data=2L:575131G>C), Item(location=2L:575334-575334, data=2L:575334T>A), Item(location=2L:575343-575343, data=2L:575343A>C), Item(location=2L:575455-575455, data=2L:575455G>T), Item(location=2L:575576-575576, data=2L:575576T>G), Item(location=2L:575597-575597, data=2L:575597A>G), Item(location=2L:575646-575646, data=2L:575646C>A), Item(location=2L:575651-575651, data=2L:575651G>A), Item(location=2L:575691-575691, data=2L:575691T>C)]\""
      ]
     },
     "metadata": {},
     "output_type": "display_data"
    },
    {
     "data": {
      "text/markdown": [
       "---"
      ],
      "text/plain": [
       "<IPython.core.display.Markdown object>"
      ]
     },
     "metadata": {},
     "output_type": "display_data"
    },
    {
     "data": {
      "text/plain": [
       "\"2L:574291-575734 (+) {'gene_id': 'FBgn0031268', 'gene_symbol': 'cold', 'transcript_id': 'FBtr0310022', 'transcript_symbol': 'cold-RB', 'feature_type': 'mRNA', 'source': 'FlyBase', 'score': None, 'phase': None} [Item(location=2L:574363-574363, data=2L:574363A>G), Item(location=2L:574391-574391, data=2L:574391T>C), Item(location=2L:574411-574411, data=2L:574411G>T), Item(location=2L:574422-574422, data=2L:574422T>A), Item(location=2L:574430-574430, data=2L:574430C>T), Item(location=2L:574501-574501, data=2L:574501C>A), Item(location=2L:574519-574519, data=2L:574519G>A), Item(location=2L:574708-574708, data=2L:574708A>G), Item(location=2L:574709-574709, data=2L:574709T>A), Item(location=2L:574820-574820, data=2L:574820C>T), Item(location=2L:574826-574826, data=2L:574826G>A), Item(location=2L:574835-574835, data=2L:574835G>C), Item(location=2L:574961-574961, data=2L:574961G>A), Item(location=2L:575012-575012, data=2L:575012G>T), Item(location=2L:575087-575087, data=2L:575087C>G), Item(location=2L:575102-575102, data=2L:575102G>A), Item(location=2L:575131-575131, data=2L:575131G>C), Item(location=2L:575334-575334, data=2L:575334T>A), Item(location=2L:575343-575343, data=2L:575343A>C), Item(location=2L:575455-575455, data=2L:575455G>T), Item(location=2L:575576-575576, data=2L:575576T>G), Item(location=2L:575597-575597, data=2L:575597A>G), Item(location=2L:575646-575646, data=2L:575646C>A), Item(location=2L:575651-575651, data=2L:575651G>A), Item(location=2L:575691-575691, data=2L:575691T>C)]\""
      ]
     },
     "metadata": {},
     "output_type": "display_data"
    },
    {
     "data": {
      "text/markdown": [
       "---"
      ],
      "text/plain": [
       "<IPython.core.display.Markdown object>"
      ]
     },
     "metadata": {},
     "output_type": "display_data"
    },
    {
     "data": {
      "text/plain": [
       "\"2L:574291-574355 (+) {'gene_id': 'FBgn0031268', 'gene_symbol': 'cold', 'transcript_id': 'FBtr0310022', 'transcript_symbol': 'cold-RB', 'feature_type': 'exon', 'source': 'FlyBase', 'score': None, 'phase': None} []\""
      ]
     },
     "metadata": {},
     "output_type": "display_data"
    },
    {
     "data": {
      "text/markdown": [
       "---"
      ],
      "text/plain": [
       "<IPython.core.display.Markdown object>"
      ]
     },
     "metadata": {},
     "output_type": "display_data"
    },
    {
     "data": {
      "text/plain": [
       "\"2L:574508-575734 (+) {'gene_id': 'FBgn0031268', 'gene_symbol': 'cold', 'transcript_id': 'FBtr0078069', 'transcript_symbol': 'cold-RA', 'feature_type': 'mRNA', 'source': 'FlyBase', 'score': None, 'phase': None} [Item(location=2L:574519-574519, data=2L:574519G>A), Item(location=2L:574708-574708, data=2L:574708A>G), Item(location=2L:574709-574709, data=2L:574709T>A), Item(location=2L:574820-574820, data=2L:574820C>T), Item(location=2L:574826-574826, data=2L:574826G>A), Item(location=2L:574835-574835, data=2L:574835G>C), Item(location=2L:574961-574961, data=2L:574961G>A), Item(location=2L:575012-575012, data=2L:575012G>T), Item(location=2L:575087-575087, data=2L:575087C>G), Item(location=2L:575102-575102, data=2L:575102G>A), Item(location=2L:575131-575131, data=2L:575131G>C), Item(location=2L:575334-575334, data=2L:575334T>A), Item(location=2L:575343-575343, data=2L:575343A>C), Item(location=2L:575455-575455, data=2L:575455G>T), Item(location=2L:575576-575576, data=2L:575576T>G), Item(location=2L:575597-575597, data=2L:575597A>G), Item(location=2L:575646-575646, data=2L:575646C>A), Item(location=2L:575651-575651, data=2L:575651G>A), Item(location=2L:575691-575691, data=2L:575691T>C)]\""
      ]
     },
     "metadata": {},
     "output_type": "display_data"
    },
    {
     "data": {
      "text/markdown": [
       "---"
      ],
      "text/plain": [
       "<IPython.core.display.Markdown object>"
      ]
     },
     "metadata": {},
     "output_type": "display_data"
    },
    {
     "name": "stdout",
     "output_type": "stream",
     "text": [
      "Closing iterator <pygenlib.iterators.GFF3Iterator object at 0x2b2d0a850190>\n",
      "Closing iterator <pygenlib.iterators.VcfIterator object at 0x2b2d0a850c10>\n"
     ]
    }
   ],
   "source": [
    "# Iterate over annotations in a genomic subregion of the flybase GTF and \n",
    "# list the genotypes of annotated SNPs for 3 samples that overlap with those annotations\n",
    "\n",
    "gff_file='testdata/flybase.dmel-all-r6.51.sorted.gtf.gz' \n",
    "vcf_file='testdata/dmelanogaster_6_exported_20230523.vcf.gz'\n",
    "\n",
    "with AnnotationIterator(GFF3Iterator(gff_file, '2L', 574299, 575733), \n",
    "                        VcfIterator(vcf_file, samples=['DGRP-208', 'DGRP-325', 'DGRP-721'])) as it:\n",
    "    for loc, (v1,v2) in it.take()[:5]:\n",
    "        display(f\"{loc} {v1} {v2}\", SEP)"
   ]
  },
  {
   "cell_type": "code",
   "execution_count": 11,
   "id": "8f6c387b-8bde-42fe-9590-ad5c859a9b8d",
   "metadata": {
    "tags": []
   },
   "outputs": [
    {
     "name": "stderr",
     "output_type": "stream",
     "text": [
      "  0%|          | 0/2 [00:00<?, ?it/s]"
     ]
    },
    {
     "data": {
      "text/plain": [
       "'int1, sum:1.408'"
      ]
     },
     "metadata": {},
     "output_type": "display_data"
    },
    {
     "data": {
      "text/plain": [
       "'int2, sum:0.3'"
      ]
     },
     "metadata": {},
     "output_type": "display_data"
    },
    {
     "data": {
      "text/plain": [
       "'int3, sum:0'"
      ]
     },
     "metadata": {},
     "output_type": "display_data"
    },
    {
     "name": "stderr",
     "output_type": "stream",
     "text": [
      "100%|██████████| 2/2 [00:00<00:00, 301.98it/s]"
     ]
    },
    {
     "name": "stdout",
     "output_type": "stream",
     "text": [
      "Closing iterator <pygenlib.iterators.BedIterator object at 0x2b2d0a8500d0>\n",
      "Closing iterator <pygenlib.iterators.BedGraphIterator object at 0x2b2d0a871f70>\n"
     ]
    },
    {
     "name": "stderr",
     "output_type": "stream",
     "text": [
      "\n"
     ]
    }
   ],
   "source": [
    "# Annotate all intervals in a BED file with sum of scores from a bedgraph file; supports bedgraph intervals >1bp: score contribution\n",
    "# is calculated from the interval overlap\n",
    "bed_file = 'testdata/test.bed.gz'\n",
    "bedg_file = 'testdata/test.bedgraph.gz'\n",
    "\n",
    "# overlap with bedgraph file, calculate overlap and sum scores\n",
    "# NOTE this bedgraph file contains, e.g., an interval (1:7-10, 0.3)\n",
    "with AnnotationIterator(BedIterator(bed_file), BedGraphIterator(bedg_file), labels=['scores']) as it:\n",
    "    for loc, i in it:\n",
    "        display(f\"{i.anno.name}, sum:{sum([x.data*loc.overlap(x.location) for x in i.scores])}\")"
   ]
  },
  {
   "cell_type": "markdown",
   "id": "b6c8483c-87ee-4af7-8e2e-6aa4cc1f905a",
   "metadata": {
    "tags": []
   },
   "source": [
    "# Transcriptome\n",
    "_Pygenlib_ provides a transcriptome implementation that enables convenient access/filtering of genomic annotations via python. \n",
    "Briefly,a (filtered) input GTF/GFF file is parsed and respective (frozen) dataclasses that derive from the generic Feature class are instantiated. \n",
    "The implementation keeps track of parent/child relationships (e.g., between genes, transcripts and their exons) and enables efficient iteration/querying and annotation of genomic annotations. Data fields and annotations can conveniently be accessed by `<feature>.<attribute>`. \n",
    "\n",
    "Note that the current implementation does not implement the full GFF3 format as specified [here](https://github.com/The-Sequence-Ontology/Specifications/blob/master/gff3.md)\n",
    "but currently rather supports various popular gff 'flavours' as published by encode, ensembl, ucsc and flybase.\n",
    "Here is a brief description of the datamodel depicted below:\n",
    "-   Model contains genes, transcripts and arbitrary sub-features (e.g., exons, intron, 3'/5'-UTRs, CDS) as defined\n",
    "    in the GFF file. Note that intron annotations are calculated automatically from exon annotations unless configured otherwise. \n",
    "    Frozen dataclasses (derived from the 'Feature' class) are created for all parsed feature\n",
    "    types automatically and users may configure which GTF/GFF attributes will be parsed and added to those dataclasses as fields.\n",
    "    \n",
    "-   A transcriptome maintains a dict mapping (frozen) features to dicts of arbitrary annotation values which supports the (incremental) annotation of annotation features.\n",
    "    Annotation values can accesed like GFF-parsed fields via 'dot' notation: `<feature>.<attribute>`. \n",
    "    \n",
    "-   The implementation exploits the hierarchical relationship between genes and their sub-features to optimize storage and computational requirements where posssible.        \n",
    "    Genomic sequences, for example, can be loaded from a reference genome via load_sequences() but will only be directly stored in strings attached to gene feature.\n",
    "    Sequences can then be accessed via transcriptome.get_sequence(). For sub-features (e.g., transcripts, exons, etc.) the respective sequence will be sliced from the \n",
    "    gene sequence on demand.  Note that despite being computed on demand, genomic sequences can still be accessed via `<feature>.sequence` which will call \n",
    "    transcriptome.get_sequence() with default parameters.\n",
    "    \n",
    "-   The get_sequence() method supports several modes:\n",
    "    If `mode='rna'` is passed, the sequence is returned in 5'-3' orientation, i.e., they are reverse-complemented\n",
    "    for minus-strand transcripts. The returned sequence will, however, still use the DNA alphabet (ACTG) to\n",
    "    enable direct alignment/comparison with genomic sequences.\n",
    "    if `mode='spliced'`, the spliced 5'-3' sequence will be returned.\n",
    "    if `mode='translated'`, the spliced 5'-3' CDS sequence will be returned.\n",
    "    \n",
    "-   Genomic range queries via query() are supported by a combination of interval and linear search queries.\n",
    "    A transcriptome object maintains one intervaltree per chromosome built from gene annotations.\n",
    "    Overlap/envelop queries will first be applied to the respective intervaltree and the (typically small\n",
    "    result sets) will then be filtered, e.g., for requested sub-feature types.\n",
    "    \n",
    "-   Transcriptome models can also be built from subsets of GFF/GTF files by filtering contained transcripts with a TranscriptFilter() that can restrict included chromosomes, genomic regions, transcript_ids, gene_types or transcripts with certain 'tag' values (as used in gencode).\n",
    "\n",
    "-   The transcriptome build process is configured by a single JSON file/dict as shown below. \n",
    "\n",
    "The following cells demonstrate some use cases."
   ]
  },
  {
   "cell_type": "markdown",
   "id": "b86ddee9-98a1-4b35-91f6-601fdea264ef",
   "metadata": {},
   "source": [
    "----"
   ]
  },
  {
   "cell_type": "markdown",
   "id": "e3d7f7f7-c82d-4d05-8983-caedd5ff681f",
   "metadata": {},
   "source": [
    "![transcriptome datamodel](pygenlib_transcriptome.png \"Transcriptome datamodel\")"
   ]
  },
  {
   "cell_type": "markdown",
   "id": "22e2df1d-d641-4313-af46-04765d12b41f",
   "metadata": {
    "tags": []
   },
   "source": [
    "## API Examples"
   ]
  },
  {
   "cell_type": "markdown",
   "id": "729131e5-fab9-4cee-930e-40a19019f3d7",
   "metadata": {},
   "source": [
    "### Basic access examples"
   ]
  },
  {
   "cell_type": "code",
   "execution_count": 12,
   "id": "8e471e34-334e-4c7f-af37-222d6df3e15a",
   "metadata": {
    "tags": []
   },
   "outputs": [
    {
     "name": "stdout",
     "output_type": "stream",
     "text": [
      "WARN: Input list have differing order of shared elements ['211000022278279', '211000022278436', '211000022278449', '211000022278760', '211000022279165', '211000022279188', '211000022279264', '211000022279392', '211000022279681', '211000022280328', '211000022280341', '211000022280347', '211000022280481', '211000022280494', '211000022280703', '2L', '2R', '3L', '3R', '4', 'Unmapped_Scaffold_8_D1580_D1567', 'X', 'Y', 'mitochondrion_genome', 'rDNA']\n"
     ]
    },
    {
     "name": "stderr",
     "output_type": "stream",
     "text": [
      "Building transcriptome (Filtered (0 tags, 0 tids, 0 genetypes, 1 chroms, 0 regions).): 100%|██████████| 1/1 [00:02<00:00,  2.12s/it]\n",
      "Load sequences: 100%|██████████| 3515/3515 [00:00<00:00, 12266.85it/s]\n",
      "Build interval tree: 100%|██████████| 3515/3515 [00:00<00:00, 35724.10it/s]\n"
     ]
    }
   ],
   "source": [
    "# First, let's create a transcriptome containing dmel chromosome 2L annotation from a flybase annotation file.\n",
    "config = {\n",
    "        'genome_fa': 'testdata/dmel_r6.36.fa.gz',                          # genome FASTA\n",
    "        'annotation_gff': 'testdata/flybase.dmel-all-r6.51.sorted.gtf.gz', # Gene annotation GTF/GFF file\n",
    "        'annotation_flavour': 'flybase',                                   # flavour of the cnnotation file.\n",
    "        'transcript_filter': {                                             # a simple filter that will include only annotations from 2L\n",
    "            'included_chrom': ['2L']\n",
    "        },\n",
    "        'load_sequences': True # load sequences from configured genome FASTA file\n",
    "    }\n",
    "t = Transcriptome(config)"
   ]
  },
  {
   "cell_type": "code",
   "execution_count": 13,
   "id": "7219dabf-fba9-4d25-8176-844d93e2cdb6",
   "metadata": {
    "tags": []
   },
   "outputs": [
    {
     "data": {
      "text/plain": [
       "'Built Transcriptome with 3515 genes and 6779 tx'"
      ]
     },
     "metadata": {},
     "output_type": "display_data"
    },
    {
     "data": {
      "text/plain": [
       "\"Transcript types: Counter({'mRNA': 5711, 'ncRNA': 748, 'miRNA': 103, 'pre_miRNA': 56, 'pseudogene': 54, 'snoRNA': 50, 'tRNA': 41, 'snRNA': 16})\""
      ]
     },
     "metadata": {},
     "output_type": "display_data"
    },
    {
     "data": {
      "text/plain": [
       "\"Transcripts of gene 'cold': ['FBtr0310022', 'FBtr0078069'].\""
      ]
     },
     "metadata": {},
     "output_type": "display_data"
    },
    {
     "data": {
      "text/plain": [
       "\"Number of exons per cold tx: {'FBtr0310022': 4, 'FBtr0078069': 3}\""
      ]
     },
     "metadata": {},
     "output_type": "display_data"
    },
    {
     "data": {
      "text/plain": [
       "\"So, the gene of transcript 'FBtr0310022' is cold\""
      ]
     },
     "metadata": {},
     "output_type": "display_data"
    }
   ],
   "source": [
    "# Now, lets access some data:\n",
    "display(f\"Built {t}\")                                                                              # show numbers of parsed genes/transcripts\n",
    "display(f\"Transcript types: {Counter([tx.transcript_type for tx in t.transcripts])}\")              # count all transcript_type fields that were parsed from the flybase feature_types\n",
    "display(f\"Transcripts of gene 'cold': {[tx.transcript_id for tx in t.gene['cold'].transcript]}.\")  # query gene by name and get its transcripts\n",
    "display(f\"Number of exons per cold tx: { {tx.transcript_id:len(tx.exon) for tx in t.gene['cold'].transcript} }\") # get number of exons for all cold transcripts\n",
    "display(f\"So, the gene of transcript 'FBtr0310022' is {t.transcript['FBtr0310022'].parent.name}\")  # Access transcript by id and show the name field of its gene (=parent)"
   ]
  },
  {
   "cell_type": "code",
   "execution_count": 14,
   "id": "46dade69-ec27-4745-966f-542ead42a887",
   "metadata": {
    "tags": []
   },
   "outputs": [
    {
     "data": {
      "text/plain": [
       "'The gene cold is located on chromosome 2L at 2L:574291-575734 (+) '"
      ]
     },
     "metadata": {},
     "output_type": "display_data"
    },
    {
     "data": {
      "text/markdown": [
       "---"
      ],
      "text/plain": [
       "<IPython.core.display.Markdown object>"
      ]
     },
     "metadata": {},
     "output_type": "display_data"
    },
    {
     "data": {
      "text/plain": [
       "{'chromosome': '2L',\n",
       " 'start': 574291,\n",
       " 'end': 575734,\n",
       " 'strand': '+',\n",
       " 'transcriptome': Transcriptome with 3515 genes and 6779 tx,\n",
       " 'feature_id': 'FBtr0310022',\n",
       " 'feature_type': 'transcript',\n",
       " 'parent': gene@2L:574291-575734,\n",
       " 'subfeature_types': ('exon',\n",
       "  'intron',\n",
       "  'CDS',\n",
       "  'three_prime_UTR',\n",
       "  'five_prime_UTR'),\n",
       " 'transcript_id': 'FBtr0310022',\n",
       " 'transcript_type': 'mRNA',\n",
       " 'CDS': (CDS@2L:574641-574698, CDS@2L:574780-575090, CDS@2L:575144-575233),\n",
       " 'intron': (intron@2L:574356-574633,\n",
       "  intron@2L:574699-574779,\n",
       "  intron@2L:575091-575143),\n",
       " 'three_prime_UTR': (three_prime_UTR@2L:575237-575734,),\n",
       " 'five_prime_UTR': (five_prime_UTR@2L:574291-574355,\n",
       "  five_prime_UTR@2L:574634-574640),\n",
       " 'exon': (exon@2L:574291-574355,\n",
       "  exon@2L:574634-574698,\n",
       "  exon@2L:574780-575090,\n",
       "  exon@2L:575144-575734)}"
      ]
     },
     "metadata": {},
     "output_type": "display_data"
    },
    {
     "data": {
      "text/markdown": [
       "---"
      ],
      "text/plain": [
       "<IPython.core.display.Markdown object>"
      ]
     },
     "metadata": {},
     "output_type": "display_data"
    },
    {
     "data": {
      "text/plain": [
       "'transcript_id: FBtr0310022, location: 2L:574291-575734 (+), 1st exon rnk: 1'"
      ]
     },
     "metadata": {},
     "output_type": "display_data"
    }
   ],
   "source": [
    "# Some more access examples\n",
    "# genes can be accessed by name or gene id; their location\n",
    "display(f\"The gene {t.gene['cold'].name} is located on chromosome {t.gene['cold'].location.chromosome} at {t.gene['FBgn0031268'].location} \", SEP) \n",
    "\n",
    "# you can inspect the fields of a transcriptome feature with regular python methods, e.g. vars()\n",
    "# Here we show, e.g., the structure of the 1st transcript\n",
    "tx=t.gene['cold'].transcript[0]\n",
    "display(vars(tx),SEP)\n",
    "\n",
    "# fields but also dynamic annotations (see below) can be accessed by <feature>.<attribute/field> notation\n",
    "# this also includes some calculated features such as location and rnk (exon/intron number)\n",
    "display(f\"transcript_id: {tx.feature_id}, location: {tx.location}, 1st exon rnk: {tx.exon[0].rnk}\")\n"
   ]
  },
  {
   "cell_type": "markdown",
   "id": "6b60abc5-91a3-479a-a2d9-3e02d29fd554",
   "metadata": {
    "tags": []
   },
   "source": [
    "### Sequence access"
   ]
  },
  {
   "cell_type": "code",
   "execution_count": 15,
   "id": "6cda166c-385c-42c8-958a-b9afb116585c",
   "metadata": {
    "tags": []
   },
   "outputs": [
    {
     "data": {
      "text/plain": [
       "'Sequence of 1st FBtr0310022 exon: CCTTTTTGGCGGGAACATGTTAGCAAGATGCAATCATTTCAAGGCGACAATGAACTATTAGCTAG'"
      ]
     },
     "metadata": {},
     "output_type": "display_data"
    },
    {
     "data": {
      "text/markdown": [
       "---"
      ],
      "text/plain": [
       "<IPython.core.display.Markdown object>"
      ]
     },
     "metadata": {},
     "output_type": "display_data"
    },
    {
     "data": {
      "text/plain": [
       "'Spliced sequence of FBtr0310022: CCTTTTTGGCGGGAACATGTTAGCAAGATGCAATCATTTCAAGGCGACAATGAACTATTAGCTAGATATACGATGAAATCGTGGGAGATAGCTGTGGTGCTAGTCGCCGCTGTTTACTTGTGTTCGCAAGTAAATTTCGTGGCCGGTCTGGAGTGCTATGTCTGCTCCAACCAGACGGGCAACACGGAGAAGTGCCTGAACACCATCAAGACCTGCGAGCCCTTTGAAAACGTCTGCGGAACGGAGATCCGCTGGGGATCCCAGCCGTACTTCTCGGAGGGTGCTCTTAAGCAATACTACGTGTCCAAGAGGTGCATGACCAAGGAGCAGTGCCAGTCCAAGAGGAAGCGCTATATGCAGCTGTACTGCACCCACATCTGGTACGAGGATTGGGCGTGCAACGAGTGCTGCAAGGGAGATCGGTGCAACTACTTTGTCATTAGTGGCGCTCCTTCAAGACAAGGCTATGGTGTCTGTTTAACCCTGCTCACCGCACTATTAGGACTTGGATCTTGGCTCATTCCACGCTCTTAGCCTCAAGAGCCTTTGCTATACCAAGCACATTTCGCTTTTTGTATTATTTAAACGAAGCCGTCCATAAGCTAAGTAGATTCCACACTCCATTTAAAACTACACCGTCAAAGTGCCTTGACTCAGTTGGGAAGTAATGCCATTTACTATCCTGATGCCTTGCGAAGCGAAGTTTCTTTTCTAATACTTTACATTTTATTTGTAACAAAATTGTTTCTCTGGATTCAAGTTTTTTAGATTTTTTACGTTTATGGGACAGTTTTTATACTCGTGCATCAATGACAACAAGAGCTATTTTGATTATTGCTTTATTTCGAATTTTGCTGATGAATACGAATTGCATCCACGACATATCCTAGACAAATTATCTAAGAGAAAGCTCAAACATGAACATTAAGCTACATATAAGAATCAAAAGAATGCCTTAAAAATAACAATCTGTTTCATATCGAATCTCTCCCACAATAAAGCAACTTTGACGTCTTTTTGGCGCTTTAATAT'"
      ]
     },
     "metadata": {},
     "output_type": "display_data"
    },
    {
     "data": {
      "text/markdown": [
       "---"
      ],
      "text/plain": [
       "<IPython.core.display.Markdown object>"
      ]
     },
     "metadata": {},
     "output_type": "display_data"
    },
    {
     "data": {
      "text/plain": [
       "\"Spliced sequence of FBtr0310022 showing SJ ('*'): CCTTTTTGGCGGGAACATGTTAGCAAGATGCAATCATTTCAAGGCGACAATGAACTATTAGCTAG*ATATACGATGAAATCGTGGGAGATAGCTGTGGTGCTAGTCGCCGCTGTTTACTTGTGTTCGCAAG*TAAATTTCGTGGCCGGTCTGGAGTGCTATGTCTGCTCCAACCAGACGGGCAACACGGAGAAGTGCCTGAACACCATCAAGACCTGCGAGCCCTTTGAAAACGTCTGCGGAACGGAGATCCGCTGGGGATCCCAGCCGTACTTCTCGGAGGGTGCTCTTAAGCAATACTACGTGTCCAAGAGGTGCATGACCAAGGAGCAGTGCCAGTCCAAGAGGAAGCGCTATATGCAGCTGTACTGCACCCACATCTGGTACGAGGATTGGGCGTGCAACGAGTGCTGCAAGGGAGATCGGTGCAACTACTTTGTCATT*AGTGGCGCTCCTTCAAGACAAGGCTATGGTGTCTGTTTAACCCTGCTCACCGCACTATTAGGACTTGGATCTTGGCTCATTCCACGCTCTTAGCCTCAAGAGCCTTTGCTATACCAAGCACATTTCGCTTTTTGTATTATTTAAACGAAGCCGTCCATAAGCTAAGTAGATTCCACACTCCATTTAAAACTACACCGTCAAAGTGCCTTGACTCAGTTGGGAAGTAATGCCATTTACTATCCTGATGCCTTGCGAAGCGAAGTTTCTTTTCTAATACTTTACATTTTATTTGTAACAAAATTGTTTCTCTGGATTCAAGTTTTTTAGATTTTTTACGTTTATGGGACAGTTTTTATACTCGTGCATCAATGACAACAAGAGCTATTTTGATTATTGCTTTATTTCGAATTTTGCTGATGAATACGAATTGCATCCACGACATATCCTAGACAAATTATCTAAGAGAAAGCTCAAACATGAACATTAAGCTACATATAAGAATCAAAAGAATGCCTTAAAAATAACAATCTGTTTCATATCGAATCTCTCCCACAATAAAGCAACTTTGACGTCTTTTTGGCGCTTTAATAT\""
      ]
     },
     "metadata": {},
     "output_type": "display_data"
    },
    {
     "data": {
      "text/markdown": [
       "---"
      ],
      "text/plain": [
       "<IPython.core.display.Markdown object>"
      ]
     },
     "metadata": {},
     "output_type": "display_data"
    },
    {
     "data": {
      "text/plain": [
       "'tx FBtr0079496, exon 1: dnaseq=CTTGTAACGCTCGAAGCCCCTCAAATGAGCCTCCGACAAGTAGCGCATGCAACCCATTTTGTAATTTCAATTTTTCAACTATTCTAATATGTTTTTGCTGTACCACCAAGTGGGTGGCGGCGGCAAGTGATAACAGCGGGAGCGGCAAAGCGGCGACTGGGGGAGTTTGCACTTGGATCGGAAGTGTGATTAGCGCGTATCGGCTTGACCTTTGCTACGGGTCAGTTGGCTAGTTCGGCATATTGTATAACATCTGCGGATCTACACAGATATGTAGGCGATTTACGGATTCGTTCACACGCGGGAGGCTCGCGAGAAGCGGAATGCGGTTGGCTAAATTAAATAATCGGTTTGTCCGCCGCTCTCCAGAACACGCAACACGCAAACAACAGTTACTCCTACTGCACTCGTACAACTGGCGAAGAAGAAGAACCGGACGAAGAGACGAGCACGCAGACGTATATACGACCGCCCCAAAAGATGAAGAGAACACACACGTACTTTATTCCGGACGGACCGGCGTCTGAATGGGAACT, rnaseq=AGTTCCCATTCAGACGCCGGTCCGTCCGGAATAAAGTACGTGTGTGTTCTCTTCATCTTTTGGGGCGGTCGTATATACGTCTGCGTGCTCGTCTCTTCGTCCGGTTCTTCTTCTTCGCCAGTTGTACGAGTGCAGTAGGAGTAACTGTTGTTTGCGTGTTGCGTGTTCTGGAGAGCGGCGGACAAACCGATTATTTAATTTAGCCAACCGCATTCCGCTTCTCGCGAGCCTCCCGCGTGTGAACGAATCCGTAAATCGCCTACATATCTGTGTAGATCCGCAGATGTTATACAATATGCCGAACTAGCCAACTGACCCGTAGCAAAGGTCAAGCCGATACGCGCTAATCACACTTCCGATCCAAGTGCAAACTCCCCCAGTCGCCGCTTTGCCGCTCCCGCTGTTATCACTTGCCGCCGCCACCCACTTGGTGGTACAGCAAAAACATATTAGAATAGTTGAAAAATTGAAATTACAAAATGGGTTGCATGCGCTACTTGTCGGAGGCTCATTTGAGGGGCTTCGAGCGTTACAAG'"
      ]
     },
     "metadata": {},
     "output_type": "display_data"
    },
    {
     "data": {
      "text/markdown": [
       "---"
      ],
      "text/plain": [
       "<IPython.core.display.Markdown object>"
      ]
     },
     "metadata": {},
     "output_type": "display_data"
    }
   ],
   "source": [
    "# Genomic sequences are another example for dynamically calculated fields. They must first be loaded for each gene annotation with load_sequences() \n",
    "# (which is done automatically if 'load_sequences': True is configured).\n",
    "# They can be accessed by the t.get_sequence() method or by <feature>.sequence which calls get_sequence() with default params\n",
    "display(f\"Sequence of 1st FBtr0310022 exon: {t.transcript['FBtr0310022'].exon[0].sequence}\",SEP)\n",
    "display(f\"Spliced sequence of FBtr0310022: {t.transcript['FBtr0310022'].spliced_sequence}\",SEP)\n",
    "\n",
    "# SJs can be displayed by calling get_sequence(mode='spliced', show_exon_boundaries=True)\n",
    "display(f\"Spliced sequence of FBtr0310022 showing SJ ('*'): {t.get_sequence(t.transcript['FBtr0310022'] ,mode='spliced', show_exon_boundaries=True)}\",SEP)\n",
    "\n",
    "# sequences will be reverse complemented for - strand transcripts if mode='rna'\n",
    "# get random minustrand tx\n",
    "tx=random.sample([tx for tx in t.transcripts if tx.strand=='-'], 1)[0]\n",
    "\n",
    "# show sequence of 1st exon in dna and rna mode\n",
    "display(f\"tx {tx.transcript_id}, exon 1: dnaseq={t.get_sequence(tx.exon[0], mode='dna')}, rnaseq={t.get_sequence(tx.exon[0], mode='rna')}\", SEP)"
   ]
  },
  {
   "cell_type": "code",
   "execution_count": 16,
   "id": "5ebd281e-d879-4ce3-a277-c540b8ac001b",
   "metadata": {
    "tags": []
   },
   "outputs": [
    {
     "data": {
      "text/plain": [
       "'Translated sequence of FBtr0310022: ATGAAATCGTGGGAGATAGCTGTGGTGCTAGTCGCCGCTGTTTACTTGTGTTCGCAAGTAAATTTCGTGGCCGGTCTGGAGTGCTATGTCTGCTCCAACCAGACGGGCAACACGGAGAAGTGCCTGAACACCATCAAGACCTGCGAGCCCTTTGAAAACGTCTGCGGAACGGAGATCCGCTGGGGATCCCAGCCGTACTTCTCGGAGGGTGCTCTTAAGCAATACTACGTGTCCAAGAGGTGCATGACCAAGGAGCAGTGCCAGTCCAAGAGGAAGCGCTATATGCAGCTGTACTGCACCCACATCTGGTACGAGGATTGGGCGTGCAACGAGTGCTGCAAGGGAGATCGGTGCAACTACTTTGTCATTAGTGGCGCTCCTTCAAGACAAGGCTATGGTGTCTGTTTAACCCTGCTCACCGCACTATTAGGACTTGGATCTTGGCTCATTCCACGCTCT'"
      ]
     },
     "metadata": {},
     "output_type": "display_data"
    },
    {
     "data": {
      "text/markdown": [
       "---"
      ],
      "text/plain": [
       "<IPython.core.display.Markdown object>"
      ]
     },
     "metadata": {},
     "output_type": "display_data"
    },
    {
     "name": "stdout",
     "output_type": "stream",
     "text": [
      "------------------------------------------------------------------------ATGAAATCGTGGGAGATAGCTGTGGTGCTAGTCGCCGCTGTTTACTTGTGTTCGCAAGTAAATTTCGTGGCCGGTCTGGAGTGCTATGTCTGCTCCAACCAGACGGGCAACACGGAGAAGTGCCTGAACACCATCAAGACCTGCGAGCCCTTTGAAAACGTCTGCGGAACGGAGATCCGCTGGGGATCCCAGCCGTACTTCTCGGAGGGTGCTCTTAAGCAATACTACGTGTCCAAGAGGTGCATGACCAAGGAGCAGTGCCAGTCCAAGAGGAAGCGCTATATGCAGCTGTACTGCACCCACATCTGGTACGAGGATTGGGCGTGCAACGAGTGCTGCAAGGGAGATCGGTGCAACTACTTTGTCATTAGTGGCGCTCCTTCAAGACAAGGCTATGGTGTCTGTTTAACCCTGCTCACCGCACTATTAGGACTTGGATCTTGGCTCATTCCACGCTCT---------------------------------------------------------------------------------------------------------------------------------------------------------------------------------------------------------------------------------------------------------------------------------------------------------------------------------------------------------------------------------------------------------------------------------------------------------------------------------------------------------------------\n",
      "                                                                        |||||||||||||||||||||||||||||||||||||||||||||||||||||||||||||||||||||||||||||||||||||||||||||||||||||||||||||||||||||||||||||||||||||||||||||||||||||||||||||||||||||||||||||||||||||||||||||||||||||||||||||||||||||||||||||||||||||||||||||||||||||||||||||||||||||||||||||||||||||||||||||||||||||||||||||||||||||||||||||||||||||||||||||||||||||||||||||||||||||||||||||||||||||||||||||||||||||||||||||||||||||||||||||||||||||||||||||||||||||||||||||||||||||||||||                                                                                                                                                                                                                                                                                                                                                                                                                                                                                                                     \n",
      "CCTTTTTGGCGGGAACATGTTAGCAAGATGCAATCATTTCAAGGCGACAATGAACTATTAGCTAGATATACGATGAAATCGTGGGAGATAGCTGTGGTGCTAGTCGCCGCTGTTTACTTGTGTTCGCAAGTAAATTTCGTGGCCGGTCTGGAGTGCTATGTCTGCTCCAACCAGACGGGCAACACGGAGAAGTGCCTGAACACCATCAAGACCTGCGAGCCCTTTGAAAACGTCTGCGGAACGGAGATCCGCTGGGGATCCCAGCCGTACTTCTCGGAGGGTGCTCTTAAGCAATACTACGTGTCCAAGAGGTGCATGACCAAGGAGCAGTGCCAGTCCAAGAGGAAGCGCTATATGCAGCTGTACTGCACCCACATCTGGTACGAGGATTGGGCGTGCAACGAGTGCTGCAAGGGAGATCGGTGCAACTACTTTGTCATTAGTGGCGCTCCTTCAAGACAAGGCTATGGTGTCTGTTTAACCCTGCTCACCGCACTATTAGGACTTGGATCTTGGCTCATTCCACGCTCTTAGCCTCAAGAGCCTTTGCTATACCAAGCACATTTCGCTTTTTGTATTATTTAAACGAAGCCGTCCATAAGCTAAGTAGATTCCACACTCCATTTAAAACTACACCGTCAAAGTGCCTTGACTCAGTTGGGAAGTAATGCCATTTACTATCCTGATGCCTTGCGAAGCGAAGTTTCTTTTCTAATACTTTACATTTTATTTGTAACAAAATTGTTTCTCTGGATTCAAGTTTTTTAGATTTTTTACGTTTATGGGACAGTTTTTATACTCGTGCATCAATGACAACAAGAGCTATTTTGATTATTGCTTTATTTCGAATTTTGCTGATGAATACGAATTGCATCCACGACATATCCTAGACAAATTATCTAAGAGAAAGCTCAAACATGAACATTAAGCTACATATAAGAATCAAAAGAATGCCTTAAAAATAACAATCTGTTTCATATCGAATCTCTCCCACAATAAAGCAACTTTGACGTCTTTTTGGCGCTTTAATAT\n",
      "  Score=459\n",
      "\n"
     ]
    },
    {
     "data": {
      "text/plain": [
       "'Alignment scores: (1.0, 72, 531)'"
      ]
     },
     "metadata": {},
     "output_type": "display_data"
    },
    {
     "data": {
      "text/markdown": [
       "---"
      ],
      "text/plain": [
       "<IPython.core.display.Markdown object>"
      ]
     },
     "metadata": {},
     "output_type": "display_data"
    },
    {
     "data": {
      "text/plain": [
       "'Amino acid sequence of FBtr0310022: MKSWEIAVVLVAAVYLCSQVNFVAGLECYVCSNQTGNTEKCLNTIKTCEPFENVCGTEIRWGSQPYFSEGALKQYYVSKRCMTKEQCQSKRKRYMQLYCTHIWYEDWACNECCKGDRCNYFVISGAPSRQGYGVCLTLLTALLGLGSWLIPRS'"
      ]
     },
     "metadata": {},
     "output_type": "display_data"
    },
    {
     "data": {
      "text/markdown": [
       "---"
      ],
      "text/plain": [
       "<IPython.core.display.Markdown object>"
      ]
     },
     "metadata": {},
     "output_type": "display_data"
    }
   ],
   "source": [
    "# The transcriptome implementation also supports (annotated) CDS annotations. Users can directly access the translated sequence:\n",
    "display(f\"Translated sequence of FBtr0310022: {t.transcript['FBtr0310022'].translated_sequence}\",SEP)\n",
    "\n",
    "# align spliced and translated sequence\n",
    "display(f\"Alignment scores: {align_sequence(t.transcript['FBtr0310022'].translated_sequence, t.transcript['FBtr0310022'].spliced_sequence, print_alignment=True)}\", SEP)\n",
    "\n",
    "# translate with biopython\n",
    "display(f\"Amino acid sequence of FBtr0310022: {Seq(t.transcript['FBtr0310022'].translated_sequence).translate()}\", SEP)"
   ]
  },
  {
   "cell_type": "code",
   "execution_count": 17,
   "id": "07e0fc8a-5ec9-4000-a0e2-1a419f90d383",
   "metadata": {
    "tags": []
   },
   "outputs": [
    {
     "data": {
      "text/plain": [
       "\"Genes containing kmer in one of their (spliced) tx: {'Ca-beta', 'SoYb', 'Or23a', 'Sema1a', 'CG4891', 'CG31869', 'CG7806', 'l(2)05287', 'LanB1', 'aph-1', 'emb', 'CG5367'}\""
      ]
     },
     "metadata": {},
     "output_type": "display_data"
    },
    {
     "data": {
      "text/markdown": [
       "---"
      ],
      "text/plain": [
       "<IPython.core.display.Markdown object>"
      ]
     },
     "metadata": {},
     "output_type": "display_data"
    },
    {
     "data": {
      "text/plain": [
       "\"Genes containing kmer in a long (>10kb) intron: {'wwk', 'CG42784', 'CG42238', 'jp', 'tkv', 'Rtnl1', 'rdo', 'CG31869', 'sick', 'aop', 'Trim9', 'Ggamma30A', 'MRP', 'CG46308', 'Dyrk2', 'RapGAP1', 'Nlg2'}\""
      ]
     },
     "metadata": {},
     "output_type": "display_data"
    },
    {
     "data": {
      "text/markdown": [
       "---"
      ],
      "text/plain": [
       "<IPython.core.display.Markdown object>"
      ]
     },
     "metadata": {},
     "output_type": "display_data"
    }
   ],
   "source": [
    "# list all gene names where the kmer is found in one of the (spliced) transcripts\n",
    "display(f\"Genes containing kmer in one of their (spliced) tx: { { tx.parent.name for tx in t.transcripts if 'ACTGAGCTA' in tx.spliced_sequence }}\", SEP)\n",
    "\n",
    "# list all gene names where the kmer is found in one of its transcripts introns considering only long (>10kb) introns\n",
    "display(f\"Genes containing kmer in a long (>10kb) intron: { { tx.parent.name for tx in t.transcripts for intron in tx.intron if len(intron)>10000 and 'ACTGAGCTA' in intron.sequence}}\", SEP)"
   ]
  },
  {
   "cell_type": "markdown",
   "id": "fdcf0328-d9d9-4f70-afb7-fee14a426268",
   "metadata": {},
   "source": [
    "### Range queries"
   ]
  },
  {
   "cell_type": "code",
   "execution_count": 18,
   "id": "dfaab7f1-1481-4f5c-8ccc-02a923afc530",
   "metadata": {
    "tags": []
   },
   "outputs": [
    {
     "data": {
      "text/plain": [
       "\"Genes where an exon overlaps with 2L:20000-30000: {'Ir21a', 'l(2)gl', 'asRNA:CR43609', 'Cda5'}\""
      ]
     },
     "metadata": {},
     "output_type": "display_data"
    },
    {
     "data": {
      "text/markdown": [
       "---"
      ],
      "text/plain": [
       "<IPython.core.display.Markdown object>"
      ]
     },
     "metadata": {},
     "output_type": "display_data"
    },
    {
     "data": {
      "text/plain": [
       "\"Genes of all transcripts that overlap with gene 'cold': {'cold', 'Ptth'}\""
      ]
     },
     "metadata": {},
     "output_type": "display_data"
    },
    {
     "data": {
      "text/markdown": [
       "---"
      ],
      "text/plain": [
       "<IPython.core.display.Markdown object>"
      ]
     },
     "metadata": {},
     "output_type": "display_data"
    },
    {
     "data": {
      "text/plain": [
       "\"Genes near 'cold': ['CG2794', 'Nle', 'Sf3b1', 'Ipk2', 'cold', 'Ptth', 'Pph13', 'Gsc']\""
      ]
     },
     "metadata": {},
     "output_type": "display_data"
    },
    {
     "data": {
      "text/markdown": [
       "---"
      ],
      "text/plain": [
       "<IPython.core.display.Markdown object>"
      ]
     },
     "metadata": {},
     "output_type": "display_data"
    },
    {
     "data": {
      "text/plain": [
       "\"Genes contained in a +/- 10kb window around 'cold': ['Nle', 'Sf3b1', 'Ipk2', 'cold', 'Ptth', 'Pph13']\""
      ]
     },
     "metadata": {},
     "output_type": "display_data"
    }
   ],
   "source": [
    "# Efficient range queries are implemented by intervaltrees:\n",
    "display(f\"Genes where an exon overlaps with 2L:20000-30000: { {ex.parent.parent.name for ex in t.query(gi.from_str('2L:20000-30000'), 'exon')}}\", SEP) \n",
    "\n",
    "# Query all transcripts that overlap with the 'cold' gene (see 2L:574291-575734) and create a set with their gene names.\n",
    "cold=t.gene['cold'] # note that each transcriptome feature is also a genomic interval and can be queried\n",
    "display(f\"Genes of all transcripts that overlap with gene 'cold': {set(tx.parent.name for tx in t.query(cold, 'transcript'))}\", SEP) \n",
    "\n",
    "# report a coordinate-sorted list of genes in a 10kb window around cold:\n",
    "display(f\"Genes near 'cold': { [g.name for g in t.query(gi(cold.chromosome, cold.start-10000, cold.end+10000), 'gene')]}\", SEP)\n",
    "\n",
    "# envelop queries are also supported:\n",
    "display(f\"Genes contained in a +/- 10kb window around 'cold': { [g.name for g in t.query(gi(cold.chromosome, cold.start-10000, cold.end+10000), 'gene', envelop=True)]}\")"
   ]
  },
  {
   "cell_type": "markdown",
   "id": "1b314ed9-1dc4-499b-a645-1125f7c86a76",
   "metadata": {
    "tags": []
   },
   "source": [
    "### Special access methods"
   ]
  },
  {
   "cell_type": "code",
   "execution_count": 19,
   "id": "cd8a08ef-b739-4f22-9fb1-e10c7d082ccc",
   "metadata": {
    "tags": []
   },
   "outputs": [
    {
     "data": {
      "text/plain": [
       "[(None, 'CR11023', 'l(2)gl'),\n",
       " ('CR11023', 'l(2)gl', 'Ir21a'),\n",
       " ('l(2)gl', 'Ir21a', 'asRNA:CR43609'),\n",
       " ('Ir21a', 'asRNA:CR43609', 'Cda5'),\n",
       " ('asRNA:CR43609', 'Cda5', 'lncRNA:CR46254'),\n",
       " ('Cda5', 'lncRNA:CR46254', None),\n",
       " (None, 'lncRNA:CR45339', 'lncRNA:CR45340'),\n",
       " ('lncRNA:CR45339', 'lncRNA:CR45340', 'dbr'),\n",
       " ('lncRNA:CR45340', 'dbr', 'asRNA:CR44987'),\n",
       " ('dbr', 'asRNA:CR44987', 'galectin')]"
      ]
     },
     "execution_count": 19,
     "metadata": {},
     "output_type": "execute_result"
    }
   ],
   "source": [
    "# iterate genes and their up/downstream genes within a given max distance. Show only first 10 entries.\n",
    "def get_name(x):\n",
    "    return None if x is None else x.name\n",
    "[(get_name(x),get_name(y),get_name(z)) for x, y, z in t.gene_triples(max_dist=10000)][:10] # Note that, e.g., for lncRNA:CR46254, there is no downstream gene within 10kb"
   ]
  },
  {
   "cell_type": "code",
   "execution_count": 20,
   "id": "b9597159-9842-4e1f-a53f-768fe329443a",
   "metadata": {
    "tags": []
   },
   "outputs": [
    {
     "data": {
      "text/plain": [
       "{'galectin': {'FBtr0306540': [2L:76012-76211 (+)],\n",
       "  'FBtr0078101': [2L:76012-76211 (+)],\n",
       "  'FBtr0302164': [2L:76012-76211 (+)],\n",
       "  'FBtr0331680': [2L:76012-76211 (+)],\n",
       "  'FBtr0301733': [2L:76012-76211 (+)]},\n",
       " 'CG11374': {'FBtr0306541': [2L:77642-77783 (+), 2L:77526-77583 (+)]},\n",
       " 'net': {'FBtr0330637': [2L:82984-83183 (-)],\n",
       "  'FBtr0290323': [2L:82421-82620 (-)]},\n",
       " 'Zir': {'FBtr0078103': [2L:101887-102086 (+)]},\n",
       " 'Creld': {'FBtr0330636': [2L:103943-104142 (+)],\n",
       "  'FBtr0078104': [2L:103943-104142 (+)]}}"
      ]
     },
     "execution_count": 20,
     "metadata": {},
     "output_type": "execute_result"
    }
   ],
   "source": [
    "# Create a dict of genes and their unique 200bp 3'UTR intervals per tx (multiple intervals if spliced); show for 5 genes only\n",
    "# note that for CG11374/FBtr0306541 2 intervals are reported as the 200bp length requires splicing\n",
    "{g.name: {tx.transcript_id:calc_3end(tx) for tx in g.transcript} for g in t.genes[10:15]}"
   ]
  },
  {
   "cell_type": "code",
   "execution_count": 21,
   "id": "5907f6b1-8b1f-4cdc-a382-f074b3a13944",
   "metadata": {
    "tags": []
   },
   "outputs": [
    {
     "data": {
      "text/plain": [
       "{'CG10348', 'CG10947', 'CG42238', 'Snoo', 'erm', 'lncRNA:CR44980'}"
      ]
     },
     "execution_count": 21,
     "metadata": {},
     "output_type": "execute_result"
    }
   ],
   "source": [
    "# complex query examples\n",
    "# find all minus strand genes with transcripts that have >=2 exons and at least one long (>10kb) intron\n",
    "{tx.parent.name for tx in t.transcripts if tx.strand=='-' and len(tx.exon)==2 and any([len(i)>10000 for i in tx.intron])}"
   ]
  },
  {
   "cell_type": "markdown",
   "id": "cb681a0c-342c-46c1-9487-e441ac8cfc67",
   "metadata": {
    "tags": []
   },
   "source": [
    "### Annotation of features\n",
    "\n",
    "A transcriptome manages an `anno` dict that maps annotation features (e.g., an exon) to a dict containing arbitray annotations.\n",
    "Annotations can be added manually or by using the `transcriptome.annotate()` method that implements a generic method to add feature-based annotations.\n",
    "The following section demonstrates some use cases:"
   ]
  },
  {
   "cell_type": "code",
   "execution_count": 22,
   "id": "6a911370-0c34-48b3-bce6-c3e3114568eb",
   "metadata": {
    "tags": []
   },
   "outputs": [
    {
     "name": "stderr",
     "output_type": "stream",
     "text": [
      "Building transcriptome (unfiltered): 100%|██████████| 2/2 [00:00<00:00, 189.53it/s]\n",
      "Load sequences: 100%|██████████| 2/2 [00:00<00:00, 2830.16it/s]\n",
      "Build interval tree: 100%|██████████| 2/2 [00:00<00:00, 6620.84it/s]\n"
     ]
    }
   ],
   "source": [
    "# First, let's instantiate a small transcriptome that contains only two human genes (ACTB and SOX2) \n",
    "config = {\n",
    "        'genome_fa': 'testdata/ACTB+SOX2.fa.gz',\n",
    "        'genome_offsets': {'chr3': 181711825, 'chr7': 5526309},\n",
    "        'annotation_gff': 'testdata/gencode.v39.ACTB+SOX2.gff3.gz',\n",
    "        'annotation_flavour': 'gencode',\n",
    "        '#transcript_filter': {\n",
    "            'included_tids': ['ENST00000473257.3']\n",
    "        },\n",
    "        'load_sequences': True\n",
    "    }\n",
    "t=Transcriptome(config)"
   ]
  },
  {
   "cell_type": "code",
   "execution_count": 23,
   "id": "0dbf1626-a0f3-4987-9aa3-1bef5b7ab57a",
   "metadata": {
    "tags": []
   },
   "outputs": [
    {
     "name": "stderr",
     "output_type": "stream",
     "text": [
      "0it [00:00, ?it/s]\n",
      "buf=[0]: : 97it [00:00, 961.45it/s]  \u001b[A\n",
      "100%|██████████| 2/2 [00:00<00:00,  9.89it/s]\u001b[A\n",
      "buf=[0]: : 188it [00:00, 911.57it/s]\n"
     ]
    },
    {
     "name": "stdout",
     "output_type": "stream",
     "text": [
      "Closing iterator <pygenlib.iterators.BedGraphIterator object at 0x2b2d09d8ca90>\n"
     ]
    },
    {
     "data": {
      "text/plain": [
       "[('ENST00000417101.2_exon_2', 1.0),\n",
       " ('ENST00000417101.2_exon_1', 0.8161705426356585),\n",
       " ('ENST00000417101.2_exon_0', 0.23016867469879518)]"
      ]
     },
     "metadata": {},
     "output_type": "display_data"
    }
   ],
   "source": [
    "# Now, lets annotate exons and introns with mappability scores that are read from a bedgraph file.\n",
    "# We first create a method for calculating the mean mappability for an annotation based on the scores of\n",
    "# all overlapping intervals from the bedgraph file.\n",
    "def calc_mean(item, label='mappability'):\n",
    "    loc, (anno, scores) = item\n",
    "    anno[label]=sum([score*loc.overlap(sloc) for sloc,score in scores])/len(loc)\n",
    "    return calc_mean\n",
    "\n",
    "# now we can call the annotate method, tell it to get the scores from a bedgraph iterator and\n",
    "# to annotate only exons + introns. Note that this test bedgraph file covers only ~half of ACTB,\n",
    "# see IGV\n",
    "t.annotate(iterators=BedGraphIterator('testdata/GRCh38.k24.umap.ACTB_ex1+2.bedgraph.gz'),\n",
    "           fun_anno=calc_mean,\n",
    "           feature_types=['exon', 'intron'])\n",
    "\n",
    "# Now, lets show the mappability values for exons and introns of one random transcript \n",
    "rnd_tx = random.sample(t.gene['ACTB'].transcript, 1)[0]\n",
    "display([(f.feature_id, f.mappability) for f in rnd_tx.exon])\n",
    "\n",
    "# Note that it would be more efficient to annotate genes with mappability score arrays and then calculate mean/median mappability\n",
    "# for each feature by slicing these arrays (as done, e.g., for sequences) but this is omited here for te sake of simplicity"
   ]
  },
  {
   "cell_type": "code",
   "execution_count": 24,
   "id": "bb9048bd-e9c7-4cb3-986e-ad82b3b918bb",
   "metadata": {},
   "outputs": [
    {
     "data": {
      "text/plain": [
       "'GATGGTTGTCTATTAACTTGTTCAAAAAAGTATCAGGAGTTGTCAAGGCAGAGAAGAGAGTGTTTGCAAAAGGGGGAAAGTAGTTTGCTGCCTCTTTAAGACTAGGACTGAGAGAAAGAAGAGGAGAGAGAAAGAAAGGGAGAGAAGTTTGAGCCCCAGGCTTAAGCCTTTCCAAAAAATAATAATAACAATCATCGGCGGCGGCAGGATCGGCCAGAGGAGGAGGGAAGCGCTTTTTTTGATCCTGATTCCAGTTTGCCTCTCTCTTTTTTTCCCCCAAATTATTCTTCGCCTGATTTTCCTCGCGGAGCCCTGCGCTCCCGACACCCCCGCCCGCCTCCCCTCCTCCTCTCCCCCCGCCCGCGGGCCCCCCAAAGTCCCGGCCGGGCCGAGGGTCGGCGGCCGCCGGCGGGCCGGGCCCGCGCACAGCGCCCGCATGTACAACATGATGGAGACGGAGCTGAAGCCGCCGGGCCCGCAGCAAACTTCGGGGGGCGGCGGCGGCAACTCCACCGCGGCGGCGGCCGGCGGCAACCAGAAAAACAGCCCGGACCGCGTCAAGCGGCCCATGAATGCCTTCATGGTGTGGTCCCGCGGGCAGCGGCGCAAGATGGCCCAGGAGAACCCCAAGATGCACAACTCGGAGATCAGCAAGCGCCTGGGCGCCGAGTGGAAACTTTTGTCGGAGACGGAGAAGCGGCCGTTCATCGACGAGGCTAAGCGGCTGCGAGCGCTGCACATGAAGGAGCACCCGGATTATAAATACCGGCCCCGGCGGAAAACCAAGACGCTCATGAAGAAGGATAAGTACACGCTGCCCGGCGGGCTGCTGGCCCCCGGCGGCAATAGCATGGCGAGCGGGGTCGGGGTGGGCGCCGGCCTGGGCGCGGGCGTGAACCAGCGCATGGACAGTTACGCGCACATGAACGGCTGGAGCAACGGCAGCTACAGCATGATGCAGGACCAGCTGGGCTACCCGCAGCACCCGGGCCTCAATGCGCACGGCGCAGCGCAGATGCAGCCCATGCACCGCTACGACGTGAGCGCCCTGCAGTACAACTCCATGACCAGCTCGCAGACCTACATGAACGGCTCGCCCACCTACAGCATGTCCTACTCGCAGCAGGGCACCCCTGGCATGGCTCTTGGCTCCATGGGTTCGGTGGTCAAGTCCGAGGCCAGCTCCAGCCCCCCTGTGGTTACCTCTTCCTCCCACTCCAGGGCGCCCTGCCAGGCCGGGGACCTCCGGGACATGATCAGCATGTATCTCCCCGGCGCCGAGGTGCCGGAACCCGCCGCCCCCAGCAGACTTCACATGTCCCAGCACTACCAGAGCGGCCCGGTGCCCGGCACGGCCATTAACGGCACACTGCCCCTCTCACACATGTGAGGGCCGGACAGCGAACTGGAGGGGGGAGAAATTTTCAAAGAAAAACGAGGGAAATGGGAGGGGTGCAAAAGAGGAGAGTAAGAAACAGCATGGAGAAAACCCGGTACGCTCAAAAAGAAAAAGGAAAAAAAAAAATCCCATCACCCACAGCAAATGACAGCTGCAAAAGAGAACACCAATCCCATCCACACTCACGCAAAAACCGCGATGCCGACAAGAAAACTTTTATGAGAGAGATCCTGGACTTCTTTTTGGGGGACTATTTTTGTACAGAGAAAACCTGGGGAGGGTGGGGAGGGCGGGGGAATGGACCTTGTATAGATCTGGAGGAAAGAAAGCTACGAAAAACTTTTTAAAAGTTCTAGTGGTACGGTAGGAGCTTTGCAGGAAGTTTGCAAAAGTCTTTACCAATAATATTTAGAGCTAGTCTCCAAGCGACGAAAAAAATGTTTTAATATTTGCAAGCAACTTTTGTACAGTATTTATCGAGATAAACATGGCAATCAAAATGTCCATTGTTTATAAGCTGAGAATTTGCCAATATTTTTCAAGGAGAGGCTTCTTGCTGAATTTTGATTCTGCAGCTGAAATTTAGGACAGTTGCAAACGTGAAAAGAAGAAAATTATTCAAATTTGGACATTTTAATTGTTTAAAAATTGTACAAAAGGAAAAAATTAGAATAAGTACTGGCGAACCATCTCTGTGGTCTTGTTTAAAAAGGGCAAAAGTTTTAGACTGTACTAAATTTTATAACTTACTGTTAAAAGCAAAAATGGCCATGCAGGTTGACACCGTTGGTAATTTATAATAGCTTTTGTTCGATCCCAACTTTCCATTTTGTTCAGATAAAAAAAACCATGAAATTACTGTGTTTGAAATATTTTCTTATGGTTTGTAATATTTCTGTAAATTTATTGTGATATTTTAAGGTTTTCCCCCCTTTATTTTCCGTAGTTGTATTTTAAAAGATTCGGCTCTGTATTATTTGAATCAGTCTGCCGAGAATCCATGTATATATTTGAACTAATATCATCCTTATAACAGGTACATTTTCAACTTAAGTTTTTACTCCATTATGCACAGTTTGAGATAAATAAATTTTTGAAATATGGACACTGAAA'"
      ]
     },
     "metadata": {},
     "output_type": "display_data"
    },
    {
     "data": {
      "text/plain": [
       "'gene has no mappability value: None'"
      ]
     },
     "metadata": {},
     "output_type": "display_data"
    },
    {
     "data": {
      "text/plain": [
       "'exon has mappability value: 0.0'"
      ]
     },
     "metadata": {},
     "output_type": "display_data"
    }
   ],
   "source": [
    "# access with default value\n",
    "display(getattr(t.genes[0],'sequence',None))\n",
    "display(f\"gene has no mappability value: {getattr(t.genes[0],'mappability',None)}\")\n",
    "display(f\"exon has mappability value: {getattr(t.genes[0].transcript[0].exon[0],'mappability',None)}\")"
   ]
  },
  {
   "cell_type": "markdown",
   "id": "544f6fe4-9af7-4e86-ac4c-fb5bca6b8c72",
   "metadata": {
    "tags": []
   },
   "source": [
    "## Pileup performance comparison"
   ]
  },
  {
   "cell_type": "markdown",
   "id": "b435aa12-4161-48fe-b85d-e153ea4f2a56",
   "metadata": {},
   "source": [
    "Here we compare our pileup method to pysam (which adds a lot of boilerplate + additional checks) and reach a 10X performance increase."
   ]
  },
  {
   "cell_type": "code",
   "execution_count": 25,
   "id": "a506a0a3-9256-43cf-970c-ff8eb0b242fa",
   "metadata": {
    "tags": []
   },
   "outputs": [],
   "source": [
    "reg=gi('1',22377202,22429853)"
   ]
  },
  {
   "cell_type": "code",
   "execution_count": 26,
   "id": "72f9135a-9d2a-4a74-b37b-b97546641e7e",
   "metadata": {
    "tags": []
   },
   "outputs": [
    {
     "name": "stdout",
     "output_type": "stream",
     "text": [
      "1.76 s ± 0 ns per loop (mean ± std. dev. of 1 run, 1 loop each)\n"
     ]
    }
   ],
   "source": [
    "%%timeit -n 1 -r 1\n",
    "ac1=Counter()\n",
    "with open_file_obj('testdata/small_example.bam') as bam:\n",
    "    for l,v in FastPileupIterator(bam, reg.chromosome, range(reg.start, reg.end)):\n",
    "        ac1[l.chromosome, l.start]=v\n",
    "#display(ac1)"
   ]
  },
  {
   "cell_type": "code",
   "execution_count": 27,
   "id": "83eddd74-84ce-4e0a-9e09-f58ea4dca92e",
   "metadata": {
    "tags": []
   },
   "outputs": [
    {
     "name": "stdout",
     "output_type": "stream",
     "text": [
      "18.1 s ± 0 ns per loop (mean ± std. dev. of 1 run, 1 loop each)\n"
     ]
    }
   ],
   "source": [
    "%%timeit -n 1 -r 1\n",
    "ac2=Counter()\n",
    "with open_file_obj('testdata/small_example.bam') as bam:\n",
    "    for pu in bam.pileup(contig=reg.chromosome, start=reg.start-1, stop=reg.end-1, flag_filter=DEFAULT_FLAG_FILTER, \n",
    "                         truncate=True,mark_ends=True,add_indels=True,min_base_quality=0,min_mapping_quality=0,\n",
    "                         ignore_overlaps=False, ignore_orphans=False,\n",
    "                         max_depth=100000):\n",
    "        pos=(pu.reference_name, pu.reference_pos+1)\n",
    "        ac2[pos]=Counter()\n",
    "        for r in pu.pileups:\n",
    "            if r.is_refskip:\n",
    "                continue\n",
    "            elif r.is_del:\n",
    "                ac2[pos][None]+=1\n",
    "            else:\n",
    "                ac2[pos][r.alignment.query_sequence[r.query_position]]+=1\n",
    "#display(ac2)"
   ]
  },
  {
   "cell_type": "markdown",
   "id": "780d0267-ad14-4a56-8516-be12f432f511",
   "metadata": {},
   "source": [
    "Finally, lets check whether results match (remove %%timeit first)"
   ]
  },
  {
   "cell_type": "code",
   "execution_count": null,
   "id": "52a2dff5-b6ac-4d00-8037-4e55a9bff3bd",
   "metadata": {
    "tags": []
   },
   "outputs": [],
   "source": [
    "for pos in ac1:\n",
    "    if ac2[pos]==0:\n",
    "        ac2[pos]=Counter()\n",
    "if ac1==ac2:\n",
    "    print(\"ALL GOOD\")\n",
    "else:\n",
    "    for pos in ac1:\n",
    "        if ac1[pos]!=ac2[pos]:\n",
    "            print('err', pos, ac1[pos], ac2[pos])"
   ]
  },
  {
   "cell_type": "markdown",
   "id": "5775ac54-eff3-4616-a61e-abd2b4bee6ea",
   "metadata": {},
   "source": [
    "# Case studies"
   ]
  },
  {
   "cell_type": "markdown",
   "id": "10260b7b-f8ac-464d-b212-6334423524e4",
   "metadata": {
    "tags": []
   },
   "source": [
    "## Complex transcriptome example\n",
    "\n",
    "In this more complex example we will filter and visualize genomic features by read mappability \n",
    "\n",
    "Briefly, we will do the following:\n",
    "- build a transcriptome of canonical protein coding genes from gencode annotations\n",
    "- annotate all gene annotations with a large (3.1G) bedgraph file containing umap mappability values. Takes ~3h\n",
    "- store the results in a pickle file so we can quickly reload later\n",
    "- Query some if the data\n",
    "- Visualize some of the data with matplotlib"
   ]
  },
  {
   "cell_type": "code",
   "execution_count": 3,
   "id": "c622eac2-5969-4568-a89b-3322f4920624",
   "metadata": {
    "tags": []
   },
   "outputs": [
    {
     "name": "stdout",
     "output_type": "stream",
     "text": [
      "WARN: Input list have differing order of shared elements ['chr1', 'chr10', 'chr11', 'chr12', 'chr13', 'chr14', 'chr15', 'chr16', 'chr17', 'chr18', 'chr19', 'chr2', 'chr20', 'chr21', 'chr22', 'chr3', 'chr4', 'chr5', 'chr6', 'chr7', 'chr8', 'chr9', 'chrM', 'chrX', 'chrY']\n"
     ]
    },
    {
     "name": "stderr",
     "output_type": "stream",
     "text": [
      "Building transcriptome (Filtered (1 tags, 0 tids, 1 genetypes, 0 chroms, 0 regions).): 100%|██████████| 25/25 [00:59<00:00,  2.40s/it]\n",
      "Build interval tree: 100%|██████████| 19964/19964 [00:00<00:00, 47923.82it/s]\n"
     ]
    },
    {
     "data": {
      "text/plain": [
       "Transcriptome with 19964 genes and 19964 tx"
      ]
     },
     "metadata": {},
     "output_type": "display_data"
    }
   ],
   "source": [
    "config={\n",
    "    'genome_fa': '/groups/ameres/Niko/ref/genomes/GRCh38/GCA_000001405.15_GRCh38_full_plus_hs38d1_analysis_set.fna',\n",
    "    'annotation_gff': '/groups/ameres/Niko/ref/genomes/GRCh38/annotation/gencode.v39.annotation.sorted.gff3.gz',\n",
    "    'annotation_flavour': 'gencode',\n",
    "    'transcript_filter': {\n",
    "        'included_tags': ['Ensembl_canonical'],\n",
    "        'included_genetypes': ['protein_coding'],\n",
    "        '#included_chrom': ['chr20']\n",
    "    },\n",
    "    'copied_fields': ['gene_type'],\n",
    "    'drop_empty_genes': False,\n",
    "    'load_sequences': False\n",
    "}\n",
    "# Build subset of human transcriptome (all protein coding genes, Ensembl canonical only), takes ~2min on CLIP\n",
    "t=Transcriptome(config)\n",
    "display(t)"
   ]
  },
  {
   "cell_type": "markdown",
   "id": "736adf88-3eaf-40da-826e-09ad5bfb6b1d",
   "metadata": {},
   "source": [
    "## Annotate genes with mappability values"
   ]
  },
  {
   "cell_type": "code",
   "execution_count": 4,
   "id": "824d5e17-9441-48d5-ba74-3005eb77ed22",
   "metadata": {
    "tags": []
   },
   "outputs": [
    {
     "name": "stdout",
     "output_type": "stream",
     "text": [
      "Loading annotations from /groups/ameres/Niko/ref/genomes/GRCh38/annotation/gencode.v39.k24.umap.genes.pk\n",
      "Memory size of the create numpy arrays: 10.964520664 GB\n"
     ]
    }
   ],
   "source": [
    "#%%timeit -n 1 -r 1\n",
    "import numpy as np\n",
    "# Example code that calculates a numpy array containing mappability values for each genomic position of the passed genomic feature (anno).\n",
    "# The respective values are then saved (pickled) to the given output file\n",
    "# if the output file already exists, values will be loaded from there istead of recalculating them.\n",
    "\n",
    "def anno_scores(item, label='mappability'):\n",
    "    \"\"\" \n",
    "        Callback method for creating the mappability array by slicing all overlapping intervals.\n",
    "        loc: genomic interval of the feature that is annotated\n",
    "        anno: the transcriptome anno dict for this feature (so you can also access any other already existing annotations for this feature)\n",
    "        scores: list of (loc, score) tuples containing all overlapping locations (loc) and their scores as read from the bedgraph file.\n",
    "    \"\"\"\n",
    "    loc, (anno, scores) = item\n",
    "    anno[label]=np.zeros(len(loc)) # create empty array\n",
    "    for sloc,score in scores:\n",
    "        anno[label][range(max(loc.start, sloc.start)-loc.start, min(loc.end,sloc.end)+1-loc.start)]=score # update scores\n",
    "\n",
    "pkfile='/groups/ameres/Niko/ref/genomes/GRCh38/annotation/gencode.v39.k24.umap.genes.pk' # NOTE: different chr order: chr1, chr2, ...\n",
    "bedgraph_file='/groups/ameres/Niko/ref/genomes/GRCh38/mappability/GRCh38.k24.umap.bedgraph.gz'\n",
    "\n",
    "if os.path.isfile(pkfile): \n",
    "    t.load_annotations(pkfile) # load from pickle file if existing; use update=True to not lose any previously annotated values \n",
    "else:\n",
    "    roi=None # annotate all; here you could provide a genomic interval to restrict what features should be annotated\n",
    "    #annotate genes with mappability scores\n",
    "    t.annotate(iterators=BedGraphIterator(bedgraph_file, region=roi), \n",
    "               region=roi,\n",
    "               fun_anno=anno_scores,\n",
    "               feature_types=['gene'])\n",
    "    t.save_annotations(pkfile, keys={'mappability'}) # save only the mappability values to disk.\n",
    "\n",
    "# show an estimate of the memory consumption (~10GB so it might make sense to calculate mean/median mappability per annotation instead of keeping all values)\n",
    "print(f\"Memory size of the create numpy arrays: {sum([a['mappability'].nbytes for a in t.anno.values() if 'mappability' in a]) / (1000*1000*1000) } GB\")"
   ]
  },
  {
   "cell_type": "markdown",
   "id": "0d3a1e93-b4a3-4106-8f96-e411ff6e8634",
   "metadata": {
    "tags": []
   },
   "source": [
    "## Query some data"
   ]
  },
  {
   "cell_type": "code",
   "execution_count": 6,
   "id": "818f8f7c-6d39-435a-b685-dbcff3a1c4b5",
   "metadata": {
    "tags": []
   },
   "outputs": [
    {
     "data": {
      "text/plain": [
       "array([1.   , 1.   , 1.   , ..., 0.833, 0.875, 0.917])"
      ]
     },
     "metadata": {},
     "output_type": "display_data"
    },
    {
     "data": {
      "text/plain": [
       "None"
      ]
     },
     "metadata": {},
     "output_type": "display_data"
    },
    {
     "data": {
      "text/plain": [
       "[]"
      ]
     },
     "metadata": {},
     "output_type": "display_data"
    },
    {
     "data": {
      "text/plain": [
       "array([1.   , 1.   , 1.   , ..., 0.75 , 0.792, 0.833])"
      ]
     },
     "metadata": {},
     "output_type": "display_data"
    }
   ],
   "source": [
    "display(t.genes[10].mappability) # direct access to array of mappability values. Safer to user .get('attr', default-value)\n",
    "display(t.genes[10].transcript[0].get('mappability')) # no values assigned to tx: returns None\n",
    "display(t.genes[10].transcript[0].get('mappability', default_value=[])) # no values assigned to tx: returns configured default value\n",
    "# with slice_from_parent=T, pygenlib assumes that the attribute refers to an array that directly corresponds to the genomic coordinates of a feature.\n",
    "# It then searches for this array in the feature hierarchy (e.g., exon->tx->gene) and, if found in a super-feature, slices the values from there.\n",
    "display(t.genes[10].transcript[0].get('mappability', slice_from_parent=True)) "
   ]
  },
  {
   "cell_type": "code",
   "execution_count": 7,
   "id": "88166a21",
   "metadata": {
    "tags": []
   },
   "outputs": [
    {
     "name": "stderr",
     "output_type": "stream",
     "text": [
      "/users/niko.popitsch/.local/lib/python3.9/site-packages/numpy/core/fromnumeric.py:3432: RuntimeWarning: Mean of empty slice.\n",
      "  return _methods._mean(a, axis=axis, dtype=dtype,\n",
      "/users/niko.popitsch/.local/lib/python3.9/site-packages/numpy/core/_methods.py:190: RuntimeWarning: invalid value encountered in double_scalars\n",
      "  ret = ret.dtype.type(ret / rcount)\n"
     ]
    },
    {
     "data": {
      "text/plain": [
       "\"There are 4444/209169 exons with 0 mappability. Here are some example genes: ['GPR42', 'ARHGAP11A', 'RBAK', 'GGTLC2', 'FAM236A', 'LCN1', 'C4A', 'IL3RA', 'PWP2', 'H2BS1']\""
      ]
     },
     "metadata": {},
     "output_type": "display_data"
    }
   ],
   "source": [
    "# query example: \n",
    "# calculate mean exon mappability by slicing values from their parent genes and calculating the mean\n",
    "# NOTE that the bedgraph file does not contain data for chrM and chrY (see tabix -l <file>), so for these we use the default value []\n",
    "ex_map=[(ex, np.mean(ex.get('mappability', default_value=[], slice_from_parent=True))) for ex in t.__iter__(feature_types='exon')]\n",
    "# get all exons with 0 mappability \n",
    "zero_map_ex=[ex for ex,mean_map in ex_map if mean_map==0]\n",
    "# now show 10 random genes that contain at least 1 exon with zero mappability\n",
    "display(f\"There are {len(zero_map_ex)}/{len(ex_map)} exons with 0 mappability. Here are some example genes: { random.sample(list({ex.parent.parent.name for ex in zero_map_ex}), 10) }\")"
   ]
  },
  {
   "cell_type": "markdown",
   "id": "c29b7f5f-40f9-451b-92b8-36c5511eeb87",
   "metadata": {
    "tags": []
   },
   "source": [
    "## Plot some data "
   ]
  },
  {
   "cell_type": "code",
   "execution_count": null,
   "id": "b9f3d1f2-ef61-4e46-b4a6-3f6bcaa27f13",
   "metadata": {
    "tags": []
   },
   "outputs": [],
   "source": [
    "mean_map=[[np.mean(t.slice_from_parent(g, 'mappability', [])) for g in t.genes if g.chromosome==c] for c in t.merged_refdict]"
   ]
  },
  {
   "cell_type": "code",
   "execution_count": 43,
   "id": "cd1f2c4e-99cd-45ba-aec6-80b61bd4958b",
   "metadata": {
    "tags": []
   },
   "outputs": [
    {
     "data": {
      "image/png": "[encoded data removed]",
      "text/plain": [
       "<Figure size 432x288 with 1 Axes>"
      ]
     },
     "metadata": {
      "needs_background": "light"
     },
     "output_type": "display_data"
    }
   ],
   "source": [
    "# fig, ax = plt.subplots()\n",
    "# ax.set_xlabel('chromosome')\n",
    "# ax.set_ylabel('mappability')\n",
    "_=plt.boxplot(mean_map)\n",
    "_=plt.xticks([x+1 for x in range(len(t.merged_refdict))], list(t.merged_refdict.keys()), rotation=90)\n",
    "_=plt.suptitle(\"Gene region mappability per chromosome\")\n",
    "_=plt.title(\"No data for chrY/chrM\")"
   ]
  },
  {
   "cell_type": "code",
   "execution_count": null,
   "id": "05fc1b62-23a3-446b-9a74-45aa100588f8",
   "metadata": {
    "tags": []
   },
   "outputs": [],
   "source": [
    "# quick check that there are really no wrong overlaps reported for chroms M+Y\n",
    "def show_overlap(item):\n",
    "    loc, (anno, scores) = item\n",
    "    print(loc, scores)\n",
    "\n",
    "bedgraph_file='/groups/ameres/Niko/ref/genomes/GRCh38/mappability/GRCh38.k24.umap.bedgraph.gz'\n",
    "for chrom in ['chrY','chrM']:\n",
    "    t.annotate(iterators=BedGraphIterator(bedgraph_file), \n",
    "               region=gi(chrom),\n",
    "               fun_anno=show_overlap,\n",
    "               feature_types=['gene'])"
   ]
  },
  {
   "cell_type": "markdown",
   "id": "410c2772-c2ad-454c-831d-9ca289a5ca46",
   "metadata": {
    "tags": []
   },
   "source": [
    "# Utility functions\n",
    "\n",
    "_Pygenlib_ also contains a number of utility functions which might be useful for handling genomics data. Some of those functions are demonstrated in the following:"
   ]
  },
  {
   "cell_type": "code",
   "execution_count": null,
   "id": "ac210d22-cc7d-4855-8402-cfb35bb2b614",
   "metadata": {
    "tags": []
   },
   "outputs": [],
   "source": [
    "# Gene symbols are updated regularly and mapping between different id schemas is cumbersome\n",
    "# pygenlib implements an interface to MyGeneInfo for easy translation between ids and symbols \n",
    "# Example: we pass a mixed list of Ensembl and Entrez ids for mouse and human  actin beta:\n",
    "geneid2symbol(['ENSMUSG00000029580', 60])"
   ]
  },
  {
   "cell_type": "code",
   "execution_count": null,
   "id": "57b83a6e-7f5d-430b-8c58-904612b75b12",
   "metadata": {
    "tags": []
   },
   "outputs": [],
   "source": [
    "# Here we use genenames.org data to convert lists containing partially old gene symbols to their current symbol\n",
    "#gene_name_alias_file='/Users/niko.popitsch/Desktop/data/projects/Ameres/af2/colabfold_test/annotations/hgnc_complete_set.txt'\n",
    "gene_name_alias_file='/groups/ameres/Niko/ref/genomes/GRCh38/annotation/20230206_hgnc_complete_set.txt'\n",
    "\n",
    "aliases, current_symbols = read_alias_file(gene_name_alias_file)\n",
    "# now lets translate some previous names of AADAC\n",
    "norm_gn('DAC', current_symbols, aliases), norm_gn('CES5A1', current_symbols, aliases)"
   ]
  },
  {
   "cell_type": "code",
   "execution_count": null,
   "id": "59a2cabf-8f91-48f5-b38c-f32bd6e06bbc",
   "metadata": {
    "tags": []
   },
   "outputs": [],
   "source": [
    "# We also provide a wrapper around some useful Biopython methods, e.g., for sequence alignment\n",
    "refseq='AAATTTCCCACTGAAATTTCCC'\n",
    "score, startpos, endpos = align_sequence('ACTGactTTTC', refseq, print_alignment=True)\n",
    "print(f\"We found a match from {startpos}-{endpos} ('{'AAATTTCCCACTGAAATTTCCC'[startpos:endpos]}') with normalized alignment score {score}\")"
   ]
  },
  {
   "cell_type": "code",
   "execution_count": null,
   "id": "9e064903-9412-44a2-8590-1ed5785a7b04",
   "metadata": {
    "tags": []
   },
   "outputs": [],
   "source": [
    "# And utilities to work with Nanopore data (FAST5 files)\n",
    "# You can, e.g., inspect the structure of such a file:\n",
    "fast5_file='/groups/ameres/Niko/projects/Ameres/nanopore/data/NA12878_HG001/0_fast5/Bham_Run1/Bham_Run1.batch0_0.fast5' # testdata/FAT61995_a1291c8f_5.fast5\n",
    "print_fast5_tree(fast5_file, show_attrs=False)"
   ]
  },
  {
   "cell_type": "code",
   "execution_count": null,
   "id": "6f96d57e-061f-4264-856d-e1bc5f0d3a61",
   "metadata": {
    "tags": []
   },
   "outputs": [],
   "source": [
    "# Or check the basecalling groups in this file\n",
    "fast5_file='/groups/ameres/Niko/projects/Ameres/nanopore/data/nanocall_gfp/results/basecalled/wt/FAQ55498_b5ea166b_0.fast5'\n",
    "get_bcgs(fast5_file)"
   ]
  }
 ],
 "metadata": {
  "kernelspec": {
   "display_name": "Python 3 (ipykernel)",
   "language": "python",
   "name": "python3"
  },
  "language_info": {
   "codemirror_mode": {
    "name": "ipython",
    "version": 3
   },
   "file_extension": ".py",
   "mimetype": "text/x-python",
   "name": "python",
   "nbconvert_exporter": "python",
   "pygments_lexer": "ipython3",
   "version": "3.9.12"
  }
 },
 "nbformat": 4,
 "nbformat_minor": 5
}
