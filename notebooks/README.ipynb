{
 "cells": [
  {
   "cell_type": "markdown",
   "id": "0580641a-d103-4972-b263-9fcc21959431",
   "metadata": {},
   "source": [
    "# Introduction"
   ]
  },
  {
   "cell_type": "markdown",
   "id": "9115b498-61b8-41fb-9a0f-546cb3bebbf1",
   "metadata": {
    "tags": []
   },
   "source": [
    "The increasing abundance and complexity of biological data often requires programatic approaches for their analysis that allow for the rapid development of custom yet efficient, well-tested and reproducible analysis pipelines. \n",
    "\n",
    "Traditional approaches (e.g., bash command/perl pipelines), that suffer from low readability, maintainability and reproducibility,\n",
    "are increasingly superseded by complex, containerized (e.g., Singularity) analysis pipelines that combine specialized bioinformatics tools \n",
    "with custom scripts developed in higher programming languages such as *Python*, *R* or *Rust*.\n",
    "\n",
    "Despite not being the fastest option, *Python* is a [popular choice by analysts](https://github.blog/2023-03-02-why-python-keeps-growing-explained/), mainly due to the large number of available (bioinformatics) libraries, its simple and well-documented syntax and its broad utility in the emerging data science field.\n",
    "\n",
    "For this reason an increasing number of python APIs for the handling of genomics data are being developed. \n",
    "While some are mainly wrappers around well-established bioinformatics tools (e.g., pysam/samtools, pybedtools/BEDTools or cyvcf2/htslib) others are builing on efficient data wrangling/analysis libraries such as *pandas* or *numpy* (e.g., bioframe/pandas, pyranges/pandas, bionumpy/numpy).\n",
    "\n",
    "Here, we present *rnalib*, a python utilities library for handling genomics data with a focus on transcriptomics and \n",
    "\n",
    "In a [second notebook](RelatedWork_performance.ipynb), we compare rnalib to a number of related APIs with regard to provided features and performance. We additionally demonstrate some common analysis pitfalls that we tried to address in the design of our library.\n",
    "\n",
    "We provide a set of tutorials for demonstrating rnalib in realistic usage scenarios:\n",
    "* [Tutorial: Read mismatch analysis](Tutorial_mismatch_analysis.ipynb)\n",
    "* [Tutorial: Comparison of gene annotation sets](Tutorial_compare_annotation_sets.ipynb)\n",
    "* [Tutorial: shRNA analysis](Tutorial_shRNA_analysis.ipynb)\n",
    "* [Tutorial: Transcriptome analysis](Tutorial_transcriptome_annotation.ipynb)\n",
    "\n",
    "Finally, we showcase how the combination of (the strengths of) multiple genomics libraries leads to an overall benefit in multiple tutorials:\n",
    "* [Tutorial: CTCF analysis with rnalib and bioframe](Tutorial_CTCF_analysis.ipynb)\n",
    "* [Tutorial: Expression analysis with rnalib and genemunge](Tutorial_expression_analysis.ipynb)\n"
   ]
  },
  {
   "cell_type": "code",
   "execution_count": null,
   "id": "8d0aa5be-fb34-45ca-872b-69dfafc172fa",
   "metadata": {},
   "outputs": [],
   "source": [
    "# install rnlib's requirements\n",
    "#%pip install -r https://raw.githubusercontent.com/popitsch/rnalib/main/requirements.txt\n",
    "# install additional requirements for this notebook\n",
    "#%pip install biopython --upgrade"
   ]
  },
  {
   "cell_type": "code",
   "execution_count": 1,
   "id": "1474387e-b7f8-4207-8154-d496a4938240",
   "metadata": {
    "tags": []
   },
   "outputs": [
    {
     "data": {
      "text/plain": [
       "'Running rnalib 0.0.2 on python 3.12.1'"
      ]
     },
     "metadata": {},
     "output_type": "display_data"
    }
   ],
   "source": [
    "import os, pathlib, platform\n",
    "import biotite.sequence as seq\n",
    "from Bio.Align import PairwiseAligner\n",
    "from collections import Counter, defaultdict\n",
    "import matplotlib.pyplot as plt\n",
    "from tqdm.auto import tqdm\n",
    "import pandas as pd\n",
    "import pysam\n",
    "import numpy as np\n",
    "import pprint\n",
    "import pybedtools \n",
    "import bioframe\n",
    "import tempfile\n",
    "import pytest\n",
    "import dataclasses\n",
    "import arrow\n",
    "import random\n",
    "# load rnalib\n",
    "import rnalib as rna\n",
    "from rnalib import gi, GI, SEP, display_textarea\n",
    "\n",
    "display(f\"Running rnalib {rna.__version__} on python {platform.python_version()}\")\n",
    "rna.__RNALIB_TESTDATA__ = \"rnalib_testdata/\""
   ]
  },
  {
   "cell_type": "markdown",
   "id": "b970a17a-91bd-4a96-9456-7a3e612b86a0",
   "metadata": {},
   "source": [
    "## Test datasets\n",
    "\n",
    "This notebook as well as rnalib's testing suite use various test resources (genomics data files and indexing structures) that can be created by \n",
    "running the rnalib `rnalib_create_testdata` script or by calling the `testdata.create_testdata()` method. There are two seperate resource sets:\n",
    "\n",
    "* test_resources: small test datasets that are used by rnalib's test suite\n",
    "* large_test_resources: larger test files that are needed to demonstrate rnalib under realistic conditions. \n",
    "\n",
    "Rnalib knows about the test data directory via the package-global __RNALIB_TESTDATA__ variable. This variable can either be set via the \"RNALIB_TESTDATA\" environment variable or by monkeypatching (rna.__RNALIB_TESTDATA__ = <mydir>) as shown below. Once this is done, test data resources can be accessed via \n",
    "`get_resource(<resource_id>)`. Rnalib will recreate these resources only if they are not found in the provided output folder.\n"
   ]
  },
  {
   "cell_type": "code",
   "execution_count": 2,
   "id": "07f27272-0b4e-4d70-8752-32199004394a",
   "metadata": {},
   "outputs": [
    {
     "data": {
      "text/plain": [
       "'Testdata at rnalib_testdata/'"
      ]
     },
     "metadata": {},
     "output_type": "display_data"
    },
    {
     "data": {
      "text/html": [
       "<textarea rows='4' cols='120'>├── bigfiles\n",
       "│   ├── grch38_chr20.fa.gz.gzi\n",
       "│   ├── chess3.0.1.gtf.gz\n",
       "│   ├── human_gene_v2.2.h5\n",
       "│   ├── gencode_39.gff3.gz\n",
       "│   ├── hgnc_complete_set.txt\n",
       "│   ├── gencode_39.gff3.gz.tbi\n",
       "│   ├── grch38_chr20.fa.gz\n",
       "│   ├── GRCh38.k24.umap.bedgraph.gz\n",
       "│   ├── grch38_chr20.fa.gz.fai\n",
       "│   ├── chess3.0.1.gtf.gz.tbi\n",
       "│   └── ...\n",
       "├── bed\n",
       "│   ├── test_bed12.bed.gz.tbi\n",
       "│   ├── test_bed12.bed.gz\n",
       "│   ├── test.bed.gz\n",
       "│   ├── test.bedgraph.gz\n",
       "│   ├── pybedtools_snps.bed.gz\n",
       "│   ├── test_nist.b37_chr20_100kbp_at_10mb.bed\n",
       "│   ├── dmel_randomvalues.bedgraph.gz\n",
       "│   ├── GRCh38.k24.umap.ACTB_ex1+2.bedgraph.gz\n",
       "│   ├── dmel_randomvalues.bedgraph.gz.tbi\n",
       "│   ├── test.bedgraph.gz.tbi\n",
       "│   └── ...\n",
       "├── .DS_Store\n",
       "├── div\n",
       "│   └── hgnc_complete_set.head.txt.gz\n",
       "├── bam\n",
       "│   ├── NA12878_S1.chr20.10_10p1mb.bam\n",
       "│   ├── mapt.NA12156.altex.small.bam\n",
       "│   ├── NA12878_S1.chr20.10_10p1mb.bam.bai\n",
       "│   ├── mapt.NA12156.altex.small.bam.bai\n",
       "│   ├── rogue_read.bam.bai\n",
       "│   ├── rogue_read.bam\n",
       "│   ├── small.ACTB+SOX2.bam.bai\n",
       "│   ├── small.ACTB+SOX2.clean.MD.bam\n",
       "│   ├── small_example.bam\n",
       "│   ├── small.ACTB+SOX2.clean.MD.bam.bai\n",
       "│   └── ...\n",
       "├── fasta\n",
       "│   ├── ACTB+SOX2.fa.gz.tbi\n",
       "│   ├── ACTB+SOX2.fa.gz.fai\n",
       "│   ├── dmel_r6.36.fa.gz.gzi\n",
       "│   ├── ACTB+SOX2.fa.gz\n",
       "│   ├── ACTB+SOX2.fa.gz.gzi\n",
       "│   ├── dmel_r6.36.fa.gz.fai\n",
       "│   └── dmel_r6.36.fa.gz\n",
       "├── gff\n",
       "│   ├── pybedtools_gff.gff3.gz.tbi\n",
       "│   ├── chess3.GRCh38.ACTB+SOX2.gtf.gz.tbi\n",
       "│   ├── mirgenedb.dme.sorted.gff3.gz.tbi\n",
       "│   ├── gencode_44.ACTB+SOX2.gff3.gz\n",
       "│   ├── chess3.GRCh38.ACTB+SOX2.gtf.gz\n",
       "│   ├── pybedtools_gff.gff3.gz\n",
       "│   ├── flybase_dmel-2L-r6.36.gtf.gz.tbi\n",
       "│   ├── UCSC.hg38.ncbiRefSeq.ACTB+SOX2.sorted.gtf.gz\n",
       "│   ├── chess3.GRCh38.ACTB+SOX2.gff3.gz\n",
       "│   ├── ensembl_Homo_sapiens.GRCh38.110.ACTB+SOX2.gff3.gz\n",
       "│   └── ...\n",
       "├── vcf\n",
       "│   ├── dmelanogaster_6_exported_20230523.vcf.gz.tbi\n",
       "│   ├── test_snps.vcf.gz\n",
       "│   ├── test.vcf.gz.tbi\n",
       "│   ├── dmelanogaster_6_exported_20230523.vcf.gz\n",
       "│   ├── test.vcf.gz\n",
       "│   └── test_snps.vcf.gz.tbi\n",
       "├── .ipynb_checkpoints\n",
       "├── fastq\n",
       "│   ├── Test01_L001_R1_001.top20.fastq\n",
       "│   ├── test.fq.gz\n",
       "│   └── Test01_L001_R2_001.top20.fastq\n",
       "└── ...</textarea>"
      ],
      "text/plain": [
       "<IPython.core.display.HTML object>"
      ]
     },
     "metadata": {},
     "output_type": "display_data"
    }
   ],
   "source": [
    "if not os.path.isdir(rna.__RNALIB_TESTDATA__):\n",
    "    os.mkdir(rna.__RNALIB_TESTDATA__)\n",
    "    display(\"Creating testdata at {rna.__RNALIB_TESTDATA__ }\")\n",
    "    rna.testdata.create_testdata(rna.__RNALIB_TESTDATA__, rna.testdata.test_resources, show_data_dir=True)\n",
    "else:\n",
    "    display(f\"Testdata at {rna.__RNALIB_TESTDATA__}\")\n",
    "    display_textarea('\\n'.join(rna.dir_tree(pathlib.Path(rna.__RNALIB_TESTDATA__))))"
   ]
  },
  {
   "cell_type": "markdown",
   "id": "454ac0fc-b7f0-4113-99a2-7fd395cd101c",
   "metadata": {},
   "source": [
    "# rnalib\n",
    "\n",
    "rnalib is a python utilities library for handling genomics data with a focus on transcriptomics. \n",
    "It is roughly structured into the following modules:\n",
    "\n",
    "- [iterators](#Iterators): efficient iteration over subregions of large-scaled genomics datasets based on the pysam library. Iterators keep track of the genomic region of the\n",
    "  yielded data enabling their efficient integration with other genomics data\n",
    "- [transcriptome](#Transcriptome): python classes for modeling gene/transcript annotations and many useful querying/annotation methods.\n",
    "- [utils](#Utility-functions): general (low-level) utility functions for working with genomics datasets.\n",
    "\n",
    "\n",
    "rnalib implements a transcriptome data model that preserved parent/child relationships between features (e.g., transcripts and introns) and a secure way for annotating such features by structuring them into immutable genomic locations (that can, e.g., safely be used in lookup tables) and mutatble, arbitrary annotations. \n",
    "\n",
    "\n",
    "Transcriptomics analyses require the integration of various biological data sources (e.g., gene/transcript annotations, sequence alignment data, genomic scores, etc.) which is why rnalib implement variour genomic iterators on top of existing python implementations (pysam, bioframe, pybedtools).\n",
    "\n",
    "This ipython notebook demonstrates some of rnalib's functionality and API using simple and complex access examples. Please also refer to rnalib's test classes for further API examples.\n",
    "\n",
    "Note that this notebook uses various genomics data test files that can be accessed via the `rnalib.testdata.get_resource('<test_resource_id'>` method. See the testdata.py class for details how these files were created.\n"
   ]
  },
  {
   "cell_type": "markdown",
   "id": "728ecb24-235c-48f4-aadf-7d13776b5c69",
   "metadata": {
    "tags": []
   },
   "source": [
    "## Genomic intervals\n",
    "At the heart of rnalib is its representation of genomic regions (intervals), represented by the  *genomic intervals* (gi) class in rnalib:\n",
    "- Genomic intervals (gi) in rnalib are inclusive and 1-based.\n",
    "  - This model was chosen to make interpretation of GIs straightforward: the start and end coordinates represent the first/last included nucleotide as also seen in a genome browser (such as IGV)\n",
    "- GIs are implemented as frozen (pseudo immutable) dataclasses \n",
    "  - GIs can theredore be safely used as keys in a dict.\n",
    "- GIs can be instantiated by passing chrom/start/stop coordinates or can be parsed form a string.\n",
    "- GIs can be stranded. Unstranded intervals are represented by setting strand to None (default) \n",
    "- Using None for each component of the coordinates is allowed to represent unbounded intervals. Examples:\n",
    "  - gi('chr1') refers to the whole chromosome\n",
    "  - gi('chr1', 100000) refers to the section of chromosome 1 from (and including) positon 100k on.\n",
    "  - gi(start=100, end=200) refers to positions 100-200 (inclusive) on any chromosome \n",
    "- Points are represented by GIs with same start and end coordinate.\n",
    "  - Thus are intervals that represent exactly one nucleotide.\n",
    "- Empty intervals are represented by GIs with start>end coordinates (experimental).\n",
    "  - Several real genomics datasets contain (wrongly annotated) empty intervals that can easily be filtered bz rnalib.\n",
    "\n",
    "GIs represent genomic intervals on a chromosome of some reference genome. Chromosome order in such a genome is represented by *ReferenceDict*s (which extend regular python dicts).\n",
    "- ReferenceDicts can be used to properly sort genomic intervals (see example below)\n",
    "- ReferenceDicts keep track of the available chromosomes and their length and are typically directly derived from genomic data (index) files\n",
    "- ReferenceDicts are used in rnalib to check for compatibility of different genomic datasets\n",
    "\n",
    "\n",
    "More documentation can be accessed via\n",
    "`help(gi)`"
   ]
  },
  {
   "cell_type": "code",
   "execution_count": 2,
   "id": "2ffd3d62-7b49-473f-9749-1a567872260c",
   "metadata": {
    "tags": []
   },
   "outputs": [
    {
     "data": {
      "text/plain": [
       "'Sorted by start coordinate but order of chromosomes is undefined:'"
      ]
     },
     "metadata": {},
     "output_type": "display_data"
    },
    {
     "data": {
      "text/plain": [
       "[None:0-1000 (-),\n",
       " chr2:1-100,\n",
       " chr1:5-500 (+),\n",
       " chr3:50-120 (-),\n",
       " chr1:10-20 (-),\n",
       " None:10-1000 (-)]"
      ]
     },
     "metadata": {},
     "output_type": "display_data"
    },
    {
     "data": {
      "text/markdown": [
       "---"
      ],
      "text/plain": [
       "<IPython.core.display.Markdown object>"
      ]
     },
     "metadata": {},
     "output_type": "display_data"
    },
    {
     "data": {
      "text/plain": [
       "RefSet (size: 3): dict_keys(['chr1', 'chr2', 'chr3']), dict_values([None, None, None]) name: test "
      ]
     },
     "metadata": {},
     "output_type": "display_data"
    },
    {
     "data": {
      "text/markdown": [
       "---"
      ],
      "text/plain": [
       "<IPython.core.display.Markdown object>"
      ]
     },
     "metadata": {},
     "output_type": "display_data"
    },
    {
     "data": {
      "text/plain": [
       "'Properly sorted list:'"
      ]
     },
     "metadata": {},
     "output_type": "display_data"
    },
    {
     "data": {
      "text/plain": [
       "[None:0-1000 (-),\n",
       " None:10-1000 (-),\n",
       " chr1:5-500 (+),\n",
       " chr1:10-20 (-),\n",
       " chr2:1-100,\n",
       " chr3:50-120 (-)]"
      ]
     },
     "metadata": {},
     "output_type": "display_data"
    },
    {
     "data": {
      "text/plain": [
       "'Is the greater-than comparison chr2:1-1>chr1:1-1 defined? None'"
      ]
     },
     "metadata": {},
     "output_type": "display_data"
    },
    {
     "data": {
      "text/markdown": [
       "---"
      ],
      "text/plain": [
       "<IPython.core.display.Markdown object>"
      ]
     },
     "metadata": {},
     "output_type": "display_data"
    },
    {
     "data": {
      "text/plain": [
       "'The length of empty interval is 0, the length of unbounded intervals is defined as 2^31-1 (assuming int32): 2147483647'"
      ]
     },
     "metadata": {},
     "output_type": "display_data"
    },
    {
     "data": {
      "text/markdown": [
       "---"
      ],
      "text/plain": [
       "<IPython.core.display.Markdown object>"
      ]
     },
     "metadata": {},
     "output_type": "display_data"
    },
    {
     "data": {
      "text/plain": [
       "'Empty intervals do not overlap/do not envelop any interval including itself (overlap=False)'"
      ]
     },
     "metadata": {},
     "output_type": "display_data"
    },
    {
     "data": {
      "text/plain": [
       "'Empty intervals are considered equal to any other empty interval on the same chromosome: (True)...'"
      ]
     },
     "metadata": {},
     "output_type": "display_data"
    },
    {
     "data": {
      "text/plain": [
       "'...but different from empty intervals on other chromosomes to not break chromsome order (False)'"
      ]
     },
     "metadata": {},
     "output_type": "display_data"
    },
    {
     "data": {
      "text/markdown": [
       "---"
      ],
      "text/plain": [
       "<IPython.core.display.Markdown object>"
      ]
     },
     "metadata": {},
     "output_type": "display_data"
    }
   ],
   "source": [
    "# create a list of genomic intervals\n",
    "locs=[gi('chr2', 1, 100), # chr2:1-100, unstranded\n",
    "      gi('chr1:5-500 (+)'),  # parsed from string, strand='+'\n",
    "      gi('chr3:50-120 (-)'), \n",
    "      gi('chr1:10-20 (-)'), \n",
    "      gi(None, None, 1000, '-'), # chromosome and start unbound, end=1000, strand='-'\n",
    "      gi(None, 10, 1000, '-')] # chromosome unbound\n",
    "display('Sorted by start coordinate but order of chromosomes is undefined:', sorted(locs), SEP)\n",
    "\n",
    "# To sort also by chromosome, you can use a reference dict which defined the chromosome order:\n",
    "refdict=rna.ReferenceDict({'chr1':None, 'chr2':None, 'chr3':None}, 'test', None)\n",
    "display(refdict, SEP)\n",
    "# And then call the gi.sort(...) method which is basically returning \n",
    "# sorted(locs, key=lambda x: (refdict.index(x.chromosome), x))\n",
    "display('Properly sorted list:', GI.sort(locs, refdict))\n",
    "# Note that typically you don't need to do this as rnalib deals with bgzipped+tabixed files that are always \n",
    "# sorted and automatically derived reference dicts from the index. For manually created intervals or interval \n",
    "# sets derived via other sources that allow access to (potentially) unsorted files (e.g., rnalib), you can \n",
    "# use gi.sort() \n",
    "\n",
    "# Unbounded intervals (chromosome=None) will always be at the beginning of the list. \n",
    "# Generally, the order of intervals from different groups (chromosomes) is left undefined.\n",
    "display(f\"Is the greater-than comparison chr2:1-1>chr1:1-1 defined? {gi('chr2', 1, 1) > gi('chr1', 1, 1)}\", SEP)\n",
    "\n",
    "# All intervals with start>end coordinate is considered 'empty'; internally, its coordinates are set to [0, maxint].\n",
    "empty_interval=gi('1',2,1)\n",
    "\n",
    "# Empty intervals have zero length\n",
    "display(f\"The length of empty interval is {len(empty_interval)}, the length of unbounded intervals is defined as 2^31-1 (assuming int32): {len(gi())}\", SEP)\n",
    "display(f\"Empty intervals do not overlap/do not envelop any interval including itself (overlap={empty_interval.overlaps(empty_interval)})\")\n",
    "display(f\"Empty intervals are considered equal to any other empty interval on the same chromosome: ({empty_interval==gi('1',20,19)})...\")\n",
    "display(f\"...but different from empty intervals on other chromosomes to not break chromsome order ({empty_interval==gi('2',20,19)})\", SEP)"
   ]
  },
  {
   "cell_type": "markdown",
   "id": "5bf0f52e-1c1f-44c3-af27-e2c2d504718f",
   "metadata": {
    "tags": []
   },
   "source": [
    "## Iterators"
   ]
  },
  {
   "cell_type": "markdown",
   "id": "19601ee3-c724-430e-bec9-411e9e496c85",
   "metadata": {
    "tags": []
   },
   "source": [
    "_rnalib_ implements several *LocationIterator*s for efficient iteration over (parts of) genomics datasets while keeping track of the [genomic interval](#Genomic-intervals) each yielded item refers to. Most implemented iterators are based on respective [pysam](https://pysam.readthedocs.io/en/latest/api.html) classes but extend them with different filtering/access methods and add sanity checks to avoid common errors when combining different genomics datasets.\n",
    "The primary goal of LocationIterators is to support the synchronization/integration of different genomics datasets. LocationIterators also support chunked I/O where feasible and not supported by the underlying (pysam) implementation.\n",
    "\n",
    "LocationIterators can iterate whole datasets or specific sub-region (e.g., a certain chromosome or genomic region). Yielded data items are sorted by respective [genomic intervals](#Genomic-intervals) where the order of chromosomes is defined by a [ReferenceDict](#Genomic-intervals) that is derived directly from the iterated dataset (e.g., by querying it's tabix index). When multiple LocationIterators are integrated (e.g., by an AnnotationIterator), their ReferenceDicts are checked for compatibility.\n",
    "\n",
    "Sometimes, genomics datasets from different providers used differing chromosome ids to refer to the same chromosomes which hinders their integration. \n",
    "Location iterators support chromosome aliasing as a quick solution for this: users can provide aliasing functions (e.g., for adding/removing 'chr' prefixes from \n",
    "chromosome ids) to dynamically change chromosome ids while keeping the underlying data files untouched.\n",
    "\n",
    "Implemented LocationIterators include:\n",
    "* [MemoryIterator](#MemoryIterator): iterates over genomic interval sets stored in various default python data structures (list, dicts).\n",
    "* [FastaIterator](#FastaIterator): iterates FASTA files per position or genomic window (e.g., Tiling/sliding windows).\n",
    "* [FastqIterator](#FastqIterator): iterates FASTQ entries (NOTE that this is no LocationIterator)\n",
    "* [GFF3Iterator](#GFF3Iterator): iterates GTF/GFF3 files and parses annotation data. Used for the [Transcriptome](#transcriptome) implementation\n",
    "* [ReadIterator](#ReadIterator): iterates SAM/BAM files and implements various filter options. \n",
    "* [FastPileupIterator](#FastPileupIterator): a faster alternative to pysam's pileup method\n",
    "* [VcfIterator](#AnnotationIterator): iterates VCF files and can filter for samples\n",
    "* [AnnotationIterator](#AnnotationIterator): annotates the items from one LocationIterator with items from others\n",
    "\n",
    "and many more (see API documentation).\n",
    "The following sections showcase some of the implemented iterators:"
   ]
  },
  {
   "cell_type": "markdown",
   "id": "10dc22c5-02ca-4b17-8fa0-90aa1c19d69b",
   "metadata": {},
   "source": [
    "### MemoryIterator\n",
    "Iterates over genomic interval sets stored in various default python data structures (list, dicts)."
   ]
  },
  {
   "cell_type": "code",
   "execution_count": 30,
   "id": "341d8bbf-5adc-49a3-8659-916c55cbac8d",
   "metadata": {},
   "outputs": [
    {
     "data": {
      "text/plain": [
       "[Item(location=chr1:10-100, data=2),\n",
       " Item(location=chr1:100-1000, data=0),\n",
       " Item(location=chr1:100-1000, data=1),\n",
       " Item(location=chr2:12-64, data=3)]"
      ]
     },
     "metadata": {},
     "output_type": "display_data"
    },
    {
     "data": {
      "text/markdown": [
       "---"
      ],
      "text/plain": [
       "<IPython.core.display.Markdown object>"
      ]
     },
     "metadata": {},
     "output_type": "display_data"
    },
    {
     "data": {
      "text/plain": [
       "[Item(location=chr1:10-100, data='b'),\n",
       " Item(location=chr1:100-1000, data='a2'),\n",
       " Item(location=chr2:12-64, data='c')]"
      ]
     },
     "metadata": {},
     "output_type": "display_data"
    },
    {
     "data": {
      "text/markdown": [
       "---"
      ],
      "text/plain": [
       "<IPython.core.display.Markdown object>"
      ]
     },
     "metadata": {},
     "output_type": "display_data"
    },
    {
     "data": {
      "text/plain": [
       "[Item(location=chr1:10-100, data='b'),\n",
       " Item(location=chr1:100-1000, data='a1'),\n",
       " Item(location=chr1:100-1000, data='a2'),\n",
       " Item(location=chr2:12-64, data='c')]"
      ]
     },
     "metadata": {},
     "output_type": "display_data"
    }
   ],
   "source": [
    "# Here we iterate over a list. Intervals will be sorted and the index (int the original input list) will be reported in the data section.\n",
    "display(rna.MemoryIterator([gi('chr1:100-1000'), \n",
    "                            gi('chr1:100-1000'), # duplicate interval that will be reported\n",
    "                            gi('chr1:10-100'), \n",
    "                            gi('chr2:12-64')]).to_list(), SEP )\n",
    "# Here we iterate over a dict. The mapped values will be reported in the data section.\n",
    "display(rna.MemoryIterator({gi('chr1:100-1000'): 'a1', \n",
    "                            gi('chr1:100-1000'): 'a2', # This will replace 'a1' in the dict!\n",
    "                            gi('chr1:10-100'): 'b', \n",
    "                            gi('chr2:12-64'): 'c'}).to_list(), SEP )\n",
    "# Here we iterate over a reverse dict. This allows for iterating duplicate intervals with different IDs.\n",
    "display(rna.MemoryIterator({'a1': gi('chr1:100-1000'), \n",
    "                            'a2': gi('chr1:100-1000'),\n",
    "                            'b':  gi('chr1:10-100'), \n",
    "                            'c':  gi('chr2:12-64')}).to_list() )"
   ]
  },
  {
   "cell_type": "markdown",
   "id": "262da942-1ef3-45da-ad9a-3da72463ad8e",
   "metadata": {
    "tags": []
   },
   "source": [
    "### FastaIterator\n",
    "Iterates over a FASTA file but enables also tiling/sliding windows and padding."
   ]
  },
  {
   "cell_type": "code",
   "execution_count": 8,
   "id": "2d64ed77-f33f-4360-89c2-b80470284243",
   "metadata": {
    "tags": []
   },
   "outputs": [
    {
     "data": {
      "text/plain": [
       "\"['NNTTG', 'TTGTG', 'GTGCC', 'GCCAT', 'CATTA']...['ATCAT', 'CATTC', 'TTCAA', 'CAAAN', 'AANNN']\""
      ]
     },
     "metadata": {},
     "output_type": "display_data"
    }
   ],
   "source": [
    "# get 5mer sliding windows (step size 2) with padding from a GRCh38 chr7 region around ACTB; \n",
    "# show first and last 5 results.\n",
    "# item.data returns the data item returned by this iterator (here: a string containing the kmer)\n",
    "# item.location (not used in this example) is a GI describing the genomic location of this sequence\n",
    "with rna.FastaIterator(rna.get_resource('ACTB+SOX2_genome'), # a sliced version of the reference genome.\n",
    "                      region=gi('chr7', 0, 1000), # iterated region\n",
    "                      width=5, # report 5-mers\n",
    "                      step=2,  # step size: 2\n",
    "                      padding=True) as it:\n",
    "    kmers = [kmer for loc,kmer in it] # take consumes all items from the iterator\n",
    "display(f\"{kmers[:5]}...{kmers[-5:]}\")"
   ]
  },
  {
   "cell_type": "markdown",
   "id": "a6d1b71d-897f-4b2a-a2b5-0aa61eca7243",
   "metadata": {},
   "source": [
    "### FastqIterator\n",
    "Iterates over a FASTQ file and returns named tuples (name seq qual) containing read names, sequence \n",
    "and quality strings. Note that this is no Location iterator as unaligned reads have no (known) genomic location."
   ]
  },
  {
   "cell_type": "code",
   "execution_count": 9,
   "id": "c924ba95-275d-415a-8f4c-91ac318ca8d1",
   "metadata": {
    "tags": []
   },
   "outputs": [
    {
     "data": {
      "text/plain": [
       "'@M01558:94:000000000-B4PB4:1:1101:16988:1392 1:N:0:20, @M01558:94:000000000-B4PB4:1:1101:16988:1392 2:N:0:20'"
      ]
     },
     "metadata": {},
     "output_type": "display_data"
    },
    {
     "data": {
      "text/plain": [
       "'len r1: 251, len r2: 250'"
      ]
     },
     "metadata": {},
     "output_type": "display_data"
    },
    {
     "data": {
      "text/plain": [
       "'@M01558:94:000000000-B4PB4:1:1101:16905:1394 1:N:0:20, @M01558:94:000000000-B4PB4:1:1101:16905:1394 2:N:0:20'"
      ]
     },
     "metadata": {},
     "output_type": "display_data"
    },
    {
     "data": {
      "text/plain": [
       "'len r1: 251, len r2: 251'"
      ]
     },
     "metadata": {},
     "output_type": "display_data"
    },
    {
     "data": {
      "text/plain": [
       "'@M01558:94:000000000-B4PB4:1:1101:16922:1403 1:N:0:20, @M01558:94:000000000-B4PB4:1:1101:16922:1403 2:N:0:20'"
      ]
     },
     "metadata": {},
     "output_type": "display_data"
    },
    {
     "data": {
      "text/plain": [
       "'len r1: 251, len r2: 250'"
      ]
     },
     "metadata": {},
     "output_type": "display_data"
    },
    {
     "data": {
      "text/plain": [
       "'@M01558:94:000000000-B4PB4:1:1101:15249:1404 1:N:0:20, @M01558:94:000000000-B4PB4:1:1101:15249:1404 2:N:0:20'"
      ]
     },
     "metadata": {},
     "output_type": "display_data"
    },
    {
     "data": {
      "text/plain": [
       "'len r1: 251, len r2: 250'"
      ]
     },
     "metadata": {},
     "output_type": "display_data"
    },
    {
     "data": {
      "text/plain": [
       "'@M01558:94:000000000-B4PB4:1:1101:15251:1423 1:N:0:20, @M01558:94:000000000-B4PB4:1:1101:15251:1423 2:N:0:20'"
      ]
     },
     "metadata": {},
     "output_type": "display_data"
    },
    {
     "data": {
      "text/plain": [
       "'len r1: 251, len r2: 250'"
      ]
     },
     "metadata": {},
     "output_type": "display_data"
    }
   ],
   "source": [
    "# iterate over PE reads in two FASTQ files and display their read names and sequence lengths.\n",
    "# We use pythons zip() method to access tuples of read mates\n",
    "for r1,r2 in zip(rna.FastqIterator(rna.get_resource('small_PE_fastq1')), \n",
    "                 rna.FastqIterator(rna.get_resource('small_PE_fastq2'))):\n",
    "    display(f\"{r1.name}, {r2.name}\")\n",
    "    display(f\"len r1: {len(r1.seq)}, len r2: {len(r2.seq)}\")"
   ]
  },
  {
   "cell_type": "markdown",
   "id": "5404c692-c861-4919-8413-c781ac347856",
   "metadata": {},
   "source": [
    "### VCFIterator\n",
    "Iterates over VCF files and yields VcfRecords that wrap (and partially parse) pysam VcfProxy objects.\n",
    "It provides convenience methods to access and filter contained samples and enables filtering based on called \n",
    "genotype, number of calls across samples or zygosity. Additional format columns are automatically parsed and accessible via dot-notation. "
   ]
  },
  {
   "cell_type": "code",
   "execution_count": 10,
   "id": "8fd4d258-7327-44f0-9a6c-0cb2dac074e4",
   "metadata": {},
   "outputs": [
    {
     "data": {
      "text/plain": [
       "\"Contained samples: 159, e.g., ['DGRP-738', 'DGRP-859', 'DGRP-59']\""
      ]
     },
     "metadata": {},
     "output_type": "display_data"
    },
    {
     "data": {
      "text/plain": [
       "'all variants:'"
      ]
     },
     "metadata": {},
     "output_type": "display_data"
    },
    {
     "data": {
      "text/plain": [
       "Counter({'C/T': 3, 'A/G': 2, 'G/T': 1, 'G/A': 1})"
      ]
     },
     "metadata": {},
     "output_type": "display_data"
    },
    {
     "data": {
      "text/markdown": [
       "---"
      ],
      "text/plain": [
       "<IPython.core.display.Markdown object>"
      ]
     },
     "metadata": {},
     "output_type": "display_data"
    },
    {
     "data": {
      "text/plain": [
       "'3 sample variants:'"
      ]
     },
     "metadata": {},
     "output_type": "display_data"
    },
    {
     "data": {
      "text/plain": [
       "Counter({'C/T': 3,\n",
       "         'T/A': 3,\n",
       "         'T/C': 2,\n",
       "         'G/A': 1,\n",
       "         'C/A': 1,\n",
       "         'A/G': 1,\n",
       "         'G/C': 1,\n",
       "         'C/G': 1})"
      ]
     },
     "metadata": {},
     "output_type": "display_data"
    },
    {
     "data": {
      "text/markdown": [
       "---"
      ],
      "text/plain": [
       "<IPython.core.display.Markdown object>"
      ]
     },
     "metadata": {},
     "output_type": "display_data"
    },
    {
     "data": {
      "text/plain": [
       "\"chr1:100001C><DEL>, ID: TEST-127, END: 100126, CS: {'SAMPLE': 'A'}\""
      ]
     },
     "metadata": {},
     "output_type": "display_data"
    },
    {
     "data": {
      "text/plain": [
       "\"chr1:200001C><DEL>, ID: TEST-126, END: 200125, CS: {'SAMPLE': 'B'}\""
      ]
     },
     "metadata": {},
     "output_type": "display_data"
    },
    {
     "data": {
      "text/plain": [
       "\"chr1:300001C><DEL>, ID: TEST-128, END: 300127, CS: {'SAMPLE': 'C'}\""
      ]
     },
     "metadata": {},
     "output_type": "display_data"
    },
    {
     "data": {
      "text/plain": [
       "\"chr2:1000A>T, ID: None, END: NA, CS: {'SAMPLE': 'D'}\""
      ]
     },
     "metadata": {},
     "output_type": "display_data"
    }
   ],
   "source": [
    "stats=Counter()\n",
    "with rna.VcfIterator(rna.get_resource('dmel_multisample_vcf')) as it:\n",
    "    # show included samples\n",
    "    display(f'Contained samples: {len(it.allsamples)}, e.g., {it.allsamples[:3]}')\n",
    "    for loc,vr in it:\n",
    "        # include only variants that are called (i.e., not './.') in more than half of the samples\n",
    "        if vr.n_calls/len(vr.GT)>0.5:\n",
    "            stats[f\"{vr.ref}/{vr.alt}\"] += 1\n",
    "display('all variants:', stats, SEP)\n",
    "\n",
    "# repeat analysis , this time considering 3 samples only\n",
    "stats=Counter()\n",
    "with rna.VcfIterator(rna.get_resource('dmel_multisample_vcf'), \n",
    "                    samples=['DGRP-738', 'DGRP-859', 'DGRP-59']) as it:\n",
    "    for loc,vr in it: # this will skip all entries that are uncalled in the 3 samples\n",
    "        stats[f\"{vr.ref}/{vr.alt}\"] += 1\n",
    "display('3 sample variants:', stats, SEP)\n",
    "\n",
    "# show access to ID column, INFO dict and FORMAT data (per sample!)\n",
    "with rna.VcfIterator(rna.get_resource('test_vcf')) as it:\n",
    "    for loc,vr in it: \n",
    "        display(f\"{vr}, ID: {vr.id}, END: {vr.info.get('END', 'NA')}, CS: {vr.CS}\")\n"
   ]
  },
  {
   "cell_type": "markdown",
   "id": "10b2536d-19fe-4f87-80f8-949b2163441e",
   "metadata": {
    "tags": []
   },
   "source": [
    "### GFF3Iterator\n",
    "Iterates over GFF3 files and yields dicts containing parsed annotation fields. This iterator\n",
    "is used for building transcriptome features as discussed below."
   ]
  },
  {
   "cell_type": "code",
   "execution_count": 11,
   "id": "fa18afb5-5874-46a4-9fdd-80ac25276c92",
   "metadata": {
    "tags": []
   },
   "outputs": [
    {
     "data": {
      "text/html": [
       "<ul>"
      ],
      "text/plain": [
       "<IPython.core.display.HTML object>"
      ]
     },
     "metadata": {},
     "output_type": "display_data"
    },
    {
     "data": {
      "text/html": [
       "<li>Item(location=chr3:180989762-181836880 (+), data={'ID': 'ENSG00000242808.12', 'gene_id': 'ENSG00000242808.12', 'gene_type': 'lncRNA', 'gene_name': 'SOX2-OT', 'level': '2', 'hgnc_id': 'HGNC:20209', 'tag': 'ncRNA_host,overlapping_locus', 'havana_gene': 'OTTHUMG00000158186.13', 'feature_type': 'gene', 'source': 'HAVANA', 'score': None, 'phase': None})</li>"
      ],
      "text/plain": [
       "<IPython.core.display.HTML object>"
      ]
     },
     "metadata": {},
     "output_type": "display_data"
    },
    {
     "data": {
      "text/html": [
       "<li>Item(location=chr3:180989770-181791029 (+), data={'ID': 'ENST00000626948.3', 'Parent': 'ENSG00000242808.12', 'gene_id': 'ENSG00000242808.12', 'transcript_id': 'ENST00000626948.3', 'gene_type': 'lncRNA', 'gene_name': 'SOX2-OT', 'transcript_type': 'lncRNA', 'transcript_name': 'SOX2-OT-240', 'level': '2', 'transcript_support_level': '5', 'hgnc_id': 'HGNC:20209', 'tag': 'nested_454_RNA_Seq_supported,basic,Ensembl_canonical,TAGENE', 'havana_gene': 'OTTHUMG00000158186.13', 'havana_transcript': 'OTTHUMT00000481527.1', 'feature_type': 'transcript', 'source': 'HAVANA', 'score': None, 'phase': None})</li>"
      ],
      "text/plain": [
       "<IPython.core.display.HTML object>"
      ]
     },
     "metadata": {},
     "output_type": "display_data"
    },
    {
     "data": {
      "text/html": [
       "</ul>"
      ],
      "text/plain": [
       "<IPython.core.display.HTML object>"
      ]
     },
     "metadata": {},
     "output_type": "display_data"
    },
    {
     "data": {
      "text/plain": [
       "Counter({'exon': 108,\n",
       "         'transcript': 89,\n",
       "         'CDS': 60,\n",
       "         'five_prime_UTR': 33,\n",
       "         'three_prime_UTR': 20,\n",
       "         'start_codon': 17,\n",
       "         'stop_codon': 13,\n",
       "         'gene': 5})"
      ]
     },
     "metadata": {},
     "output_type": "display_data"
    },
    {
     "data": {
      "text/plain": [
       "Counter({'lncRNA': 64,\n",
       "         'protein_coding': 16,\n",
       "         'retained_intron': 4,\n",
       "         'nonsense_mediated_decay': 2,\n",
       "         'protein_coding_CDS_not_defined': 2,\n",
       "         'processed_pseudogene': 1})"
      ]
     },
     "metadata": {},
     "output_type": "display_data"
    }
   ],
   "source": [
    "# Show first two data items from a GFF3 file\n",
    "rna.display_list(rna.GFF3Iterator(rna.get_resource('gencode_gff')).to_list()[:2])\n",
    "\n",
    "# iterate whole GFF3 file and collect stats of contained feature_type annotations\n",
    "display(Counter([item.data['feature_type'] for item in rna.GFF3Iterator(rna.get_resource('gencode_gff'))]))\n",
    "\n",
    "# iterate transcripts and collect stats of contained transcript_type annotations\n",
    "display(Counter([item.data.get('transcript_type', 'NA') for item in \\\n",
    "                 rna.GFF3Iterator(rna.get_resource('gencode_gff')) if item.data['feature_type']=='transcript']))"
   ]
  },
  {
   "cell_type": "markdown",
   "id": "caf30a99-af8a-4289-8512-234523f4c05e",
   "metadata": {},
   "source": [
    "## GroupedLocationIterator\n",
    "Iterates 'blocks' of items sharing (parts of) the same location given a matching strategy \n",
    "(e.g., same start, same end, same coords, overlapping).\n",
    "The iterator yields tuples of (merged) block location and a (locations, items) tuple containing lists of locations/items yielded from the wrapped iterator. Block strategies are LEFT (only start coordinate match), RIGHT (end coordinate match), BOTH (complete match; default), OVERLAP (coordinate overlap).\n",
    "\n",
    "In this example, we simply count how many features in a give GFF file share the same location (e.g., gene and transcript annotations)."
   ]
  },
  {
   "cell_type": "code",
   "execution_count": 31,
   "id": "457d310c-b0c7-40c1-b61c-9e3319939a62",
   "metadata": {},
   "outputs": [
    {
     "data": {
      "text/html": [
       "<textarea rows='4' cols='120'>chr3:180989779-181742884 (+): 2 items with feature_types {'transcript'}\n",
       "chr3:181699598-181836880 (+): 2 items with feature_types {'transcript'}\n",
       "chr3:181711925-181714436 (+): 3 items with feature_types {'exon', 'transcript', 'gene'}\n",
       "chr7:5527147-5527891 (-): 2 items with feature_types {'three_prime_UTR', 'exon'}\n",
       "chr7:5527147-5530604 (-): 2 items with feature_types {'transcript'}\n",
       "chr7:5527147-5527867 (-): 2 items with feature_types {'exon', 'three_prime_UTR'}\n",
       "chr7:5527151-5527611 (-): 2 items with feature_types {'exon', 'three_prime_UTR'}\n",
       "chr7:5527156-5527891 (-): 2 items with feature_types {'exon', 'three_prime_UTR'}\n",
       "chr7:5527748-5527891 (-): 3 items with feature_types {'CDS'}\n",
       "chr7:5527748-5527750 (-): 3 items with feature_types {'stop_codon'}\n",
       "chr7:5527748-5527891 (-): 2 items with feature_types {'CDS'}\n",
       "chr7:5527748-5527750 (-): 2 items with feature_types {'stop_codon'}\n",
       "chr7:5528004-5528185 (-): 12 items with feature_types {'exon', 'three_prime_UTR', 'CDS'}\n",
       "chr7:5528004-5528098 (-): 2 items with feature_types {'exon', 'CDS'}\n",
       "chr7:5528004-5528185 (-): 6 items with feature_types {'exon', 'CDS'}\n",
       "chr7:5528011-5528185 (-): 2 items with feature_types {'exon', 'CDS'}\n",
       "chr7:5528150-5528185 (-): 2 items with feature_types {'exon', 'CDS'}\n",
       "chr7:5528281-5528671 (-): 2 items with feature_types {'exon', 'CDS'}\n",
       "chr7:5528281-5528719 (-): 15 items with feature_types {'exon', 'CDS'}\n",
       "chr7:5528717-5528719 (-): 2 items with feature_types {'exon', 'five_prime_UTR'}\n",
       "chr7:5529019-5529059 (-): 2 items with feature_types {'exon'}\n",
       "chr7:5529150-5529400 (-): 2 items with feature_types {'exon', 'CDS'}\n",
       "chr7:5529161-5529400 (-): 6 items with feature_types {'exon', 'CDS'}\n",
       "chr7:5529161-5529400 (-): 10 items with feature_types {'exon', 'CDS'}\n",
       "chr7:5529161-5529400 (-): 5 items with feature_types {'exon', 'CDS'}\n",
       "chr7:5529216-5529400 (-): 2 items with feature_types {'exon', 'CDS'}\n",
       "chr7:5529235-5529400 (-): 2 items with feature_types {'exon', 'CDS'}\n",
       "chr7:5529535-5529657 (-): 2 items with feature_types {'CDS'}\n",
       "chr7:5529535-5529663 (-): 4 items with feature_types {'exon'}\n",
       "chr7:5529535-5529657 (-): 2 items with feature_types {'CDS'}\n",
       "chr7:5529535-5529663 (-): 2 items with feature_types {'exon'}\n",
       "chr7:5529535-5529657 (-): 2 items with feature_types {'CDS'}\n",
       "chr7:5529655-5529657 (-): 14 items with feature_types {'start_codon'}\n",
       "chr7:5529658-5529663 (-): 2 items with feature_types {'five_prime_UTR'}\n",
       "chr7:5529658-5529663 (-): 5 items with feature_types {'five_prime_UTR'}\n",
       "chr7:5529658-5529663 (-): 2 items with feature_types {'five_prime_UTR'}\n",
       "chr7:5529658-5529663 (-): 2 items with feature_types {'five_prime_UTR'}\n",
       "chr7:5529806-5529982 (-): 2 items with feature_types {'exon', 'five_prime_UTR'}\n",
       "chr7:5530524-5530604 (-): 3 items with feature_types {'exon', 'five_prime_UTR'}\n",
       "chr7:5530524-5530604 (-): 4 items with feature_types {'exon', 'five_prime_UTR'}\n",
       "chr7:5530524-5530601 (-): 2 items with feature_types {'exon'}\n",
       "chr7:5530524-5530627 (-): 2 items with feature_types {'exon', 'five_prime_UTR'}\n",
       "chr7:5530542-5530601 (-): 2 items with feature_types {'exon', 'five_prime_UTR'}\n",
       "chr7:5540676-5540771 (-): 2 items with feature_types {'exon', 'five_prime_UTR'}\n",
       "chr7:5556731-5557245 (+): 3 items with feature_types {'exon', 'transcript', 'gene'}\n",
       "chr7:5560743-5561055 (+): 3 items with feature_types {'exon', 'transcript', 'gene'}\n",
       "chr7:5562574-5562828 (-): 2 items with feature_types {'exon', 'five_prime_UTR'}\n",
       "chr7:5563714-5563902 (-): 2 items with feature_types {'exon', 'five_prime_UTR'}</textarea>"
      ],
      "text/plain": [
       "<IPython.core.display.HTML object>"
      ]
     },
     "metadata": {},
     "output_type": "display_data"
    }
   ],
   "source": [
    "lines=[] # for output\n",
    "with rna.GroupedLocationIterator(rna.GFF3Iterator(rna.get_resource('gencode_gff')),strategy=rna.BlockStrategy.BOTH) as it:\n",
    "    for bloc, (locs, items) in it:\n",
    "        if len(items) > 1: # print the locations with  more than 1 feature\n",
    "            lines.append(f\"{bloc}: {len(items)} items with feature_types { {i['feature_type'] for i in items}}\")  \n",
    "display_textarea('\\n'.join(lines))"
   ]
  },
  {
   "cell_type": "markdown",
   "id": "2987a903-200a-4ae4-b536-0c4671bb1757",
   "metadata": {
    "tags": []
   },
   "source": [
    "### ReadIterator\n",
    "Iterates SAM/BAM files and implements several filter options. Also keeps track of how many reads were filtered for what reason.\n",
    "Can also yield mismatches wrt. the reference if MD tags are available (can be added, e.g., by [samtools calmd](http://www.htslib.org/doc/samtools-calmd.html) if not added by the mapper itself). See the respective tutorial \n",
    "for more information."
   ]
  },
  {
   "cell_type": "code",
   "execution_count": 32,
   "id": "15b6f14e-cf57-4f9e-b100-4ed82a0f9944",
   "metadata": {
    "tags": []
   },
   "outputs": [
    {
     "data": {
      "application/vnd.jupyter.widget-view+json": {
       "model_id": "bb71e0c8298d4b7e9efb096e9b150e23",
       "version_major": 2,
       "version_minor": 0
      },
      "text/plain": [
       "  0%|          | 0/84 [00:00<?, ?it/s]"
      ]
     },
     "metadata": {},
     "output_type": "display_data"
    },
    {
     "data": {
      "text/plain": [
       "{'all': Counter({('iterated_items', '1'): 31678,\n",
       "          ('yielded_items', '1'): 31678}),\n",
       " 'def': Counter({('iterated_items', '1'): 31678,\n",
       "          ('yielded_items', '1'): 21932,\n",
       "          ('n_fil_flag', '1'): 9746}),\n",
       " 'mq20': Counter({('iterated_items', '1'): 31678,\n",
       "          ('yielded_items', '1'): 21626,\n",
       "          ('n_fil_flag', '1'): 9746,\n",
       "          ('n_fil_mq', '1'): 306}),\n",
       " 'tag': Counter({('iterated_items', '1'): 31678,\n",
       "          ('n_fil_tag', '1'): 14544,\n",
       "          ('n_fil_flag', '1'): 9746,\n",
       "          ('yielded_items', '1'): 7388})}"
      ]
     },
     "metadata": {},
     "output_type": "display_data"
    }
   ],
   "source": [
    "# count reads per chromosome in a BAM using different filters\n",
    "stats={x:Counter() for x in ['all', 'def', 'mq20', 'tag']}\n",
    "with rna.open_file_obj(rna.get_resource('small_example_bam')) as bam:\n",
    "    for chrom in tqdm(rna.ReferenceDict.load(bam)):\n",
    "        with rna.ReadIterator(bam, chrom, flag_filter=0) as it: # all: no filtering\n",
    "            it.to_list()\n",
    "            stats['all'].update(it.stats)\n",
    "        with rna.ReadIterator(bam, chrom) as it: # def: default flag filter (as in IGV)\n",
    "            it.to_list()\n",
    "            stats['def'].update(it.stats)\n",
    "        with rna.ReadIterator(bam, chrom, min_mapping_quality=20) as it: # mq20: default flag filter, mapping quality >= 20\n",
    "            it.to_list()\n",
    "            stats['mq20'].update(it.stats)\n",
    "        with rna.ReadIterator(bam, chrom, tag_filters=[rna.TagFilter('MD', ['100'])]) as it: # tag: default flag filter, MD tag must be '100'\n",
    "            it.to_list()\n",
    "            stats['tag'].update(it.stats)\n",
    "display(stats)"
   ]
  },
  {
   "cell_type": "markdown",
   "id": "9fdf7876-3d0f-475b-a5bf-2ea3bea35a09",
   "metadata": {
    "tags": []
   },
   "source": [
    "### FastPileupIterator\n",
    "rnalib contains a `FastPileupIterator` for fast and lightweight pileup-style access to alignment columns (i.e., all reads at a particular genomic position).\n",
    "Here we compare it to [pysam](https://pysam.readthedocs.io/en/latest/)'s pileup method (which adds a lot of boilerplate + additional checks) and reach a ~10-20X performance increase. "
   ]
  },
  {
   "cell_type": "code",
   "execution_count": 14,
   "id": "72f9135a-9d2a-4a74-b37b-b97546641e7e",
   "metadata": {
    "tags": []
   },
   "outputs": [
    {
     "data": {
      "application/vnd.jupyter.widget-view+json": {
       "model_id": "4b3f11d1239a41b3a0d295ce0bb34ca1",
       "version_major": 2,
       "version_minor": 0
      },
      "text/plain": [
       "0it [00:00, ?it/s]"
      ]
     },
     "metadata": {},
     "output_type": "display_data"
    },
    {
     "data": {
      "application/vnd.jupyter.widget-view+json": {
       "model_id": "551f0a0c812f4f599f553b2e26af6704",
       "version_major": 2,
       "version_minor": 0
      },
      "text/plain": [
       "0it [00:00, ?it/s]"
      ]
     },
     "metadata": {},
     "output_type": "display_data"
    },
    {
     "data": {
      "text/plain": [
       "Counter({('1', 22379015): Counter({'T': 1}),\n",
       "         ('1', 22379016): Counter({'C': 1}),\n",
       "         ('1', 22379017): Counter({'A': 1}),\n",
       "         ('1', 22379018): Counter({'C': 1}),\n",
       "         ('1', 22379019): Counter({'G': 1}),\n",
       "         ('1', 22379020): Counter({'A': 1}),\n",
       "         ('1', 22379021): Counter({'G': 1}),\n",
       "         ('1', 22379022): Counter({'C': 1}),\n",
       "         ('1', 22379023): Counter({'T': 1})})"
      ]
     },
     "metadata": {},
     "output_type": "display_data"
    },
    {
     "data": {
      "text/html": [
       "[...]"
      ],
      "text/plain": [
       "<IPython.core.display.HTML object>"
      ]
     },
     "metadata": {},
     "output_type": "display_data"
    },
    {
     "data": {
      "image/png": "[encoded data removed]",
      "text/plain": [
       "<Figure size 640x480 with 1 Axes>"
      ]
     },
     "metadata": {},
     "output_type": "display_data"
    }
   ],
   "source": [
    "reg=gi('1',22377202,22429853) # the iterated region\n",
    "times=defaultdict(Counter) \n",
    "# Counter for storing the results. Will contain one GI entry per position which is itself an {allele:count} Counter.\n",
    "with rna.Timer(times, 'FastPileupIterator') as timer:\n",
    "    ac1=Counter()\n",
    "    with rna.open_file_obj(rna.get_resource('small_example_bam')) as bam:\n",
    "        for l,v in tqdm(rna.FastPileupIterator(bam, reg.chromosome, range(reg.start, reg.end))):\n",
    "            ac1[l.chromosome, l.start]=v\n",
    "with rna.Timer(times, 'PysamPileup') as timer:\n",
    "    ac2=Counter()\n",
    "    with rna.open_file_obj(rna.get_resource('small_example_bam')) as bam:\n",
    "        for pu in tqdm(bam.pileup(contig=reg.chromosome, start=reg.start-1, stop=reg.end-1, \n",
    "                                  flag_filter=rna.DEFAULT_FLAG_FILTER, truncate=True, mark_ends=True,\n",
    "                                  add_indels=True, min_base_quality=0, min_mapping_quality=0,\n",
    "                                  ignore_overlaps=False, ignore_orphans=False, max_depth=100000)):\n",
    "            pos=(pu.reference_name, pu.reference_pos+1)\n",
    "            ac2[pos]=Counter()\n",
    "            for r in pu.pileups:\n",
    "                if r.is_refskip:\n",
    "                    continue\n",
    "                elif r.is_del:\n",
    "                    ac2[pos][None]+=1\n",
    "                else:\n",
    "                    ac2[pos][r.alignment.query_sequence[r.query_position]]+=1\n",
    "\n",
    "# PysamPileup will not iterate/report uncovered alignment columns. So, here we add empty Counters for those positions\n",
    "for p in (ac1.keys() - ac2.keys()):\n",
    "    ac2[p]=Counter()\n",
    "          \n",
    "# now compare the resulting counters\n",
    "assert ac1==ac2\n",
    "\n",
    "# plot the times\n",
    "rna.plot_times('Pileup performance', times, n=len(reg), reference_method='FastPileupIterator')\n",
    "\n",
    "# show some example columns\n",
    "rna.head_counter(ac1)"
   ]
  },
  {
   "cell_type": "markdown",
   "id": "d801946b-3d04-473d-a0d9-03f547557fe9",
   "metadata": {
    "tags": []
   },
   "source": [
    "### AnnotationIterator\n",
    "\n",
    "Data integration is a central use case for genomic libraries which often requires the annotation of genomic intervals with data derived from other, overlapping genomic intervals. One example is to calculate a score baed on data associated with all overlapping intervals from one or multiple other dataset(s).\n",
    "\n",
    "There are many different approaches to achieve these tasks:\n",
    "- in [pybedtools](https://daler.github.io/pybedtools), which is based on BEDTools, you could:\n",
    "    - [intersect](https://daler.github.io/pybedtools/autodocs/pybedtools.bedtool.BedTool.intersect.html#pybedtools.bedtool.BedTool.intersect) the respective interval sets\n",
    "    - apply a custom annotation method via [map()](https://daler.github.io/pybedtools/autodocs/pybedtools.bedtool.BedTool.map.html#pybedtools.bedtool.BedTool.map) or [each()](https://daler.github.io/pybedtools/autodocs/pybedtools.bedtool.BedTool.each.html#pybedtools.bedtool.BedTool.each) method\n",
    "- In [bioframe](https://bioframe.readthedocs.io/), which is based on pandas dataframes, you could:\n",
    "    - first use [overlap()](https://bioframe.readthedocs.io/en/latest/guide-intervalops.html#overlap) to intersect the interval sets\n",
    "    - then group on the annotated feature location using pandas [groupby](https://pandas.pydata.org/docs/reference/api/pandas.DataFrame.groupby.html) method\n",
    "    - and finally apply some [user defined mutate methods](https://pandas.pydata.org/docs/user_guide/gotchas.html#gotchas-udf-mutation) via apply() or aggregate().\n",
    "\n",
    "`rnalib` contains an `AnnotationIterator` for annotating genomic intervals with data from one or *multiple* other genomic location iterators.\n",
    "This iterator synchronizes genomic locations of the primary iterator (iterating the intervals to be annotated) with all annotating iterators and yields respective locations and data for all overlapping intervals. In the example below, we iterate over annotations in a genomic subregion of a flybase GTF file and annotate all features with  (i) a list of SNPs that were called in 3 particular samples of a multi-sample VCF file and (ii) values from bedgraph file.\n",
    "\n",
    "**Note** that iterating over large interval sets is generally considered slow and is often not needed. \n",
    "In many cases you can use list [comprehension, vectorisation](https://stackoverflow.com/questions/16476924/how-to-iterate-over-rows-in-a-pandas-dataframe/)\n",
    "or mechanisms such as [pandas apply()](https://pandas.pydata.org/docs/reference/api/pandas.DataFrame.apply.html) or [pybedtools each()](https://daler.github.io/pybedtools/each.html) as described above. \n",
    "Nevertheless, there are scenarios in which we consider AnnotationIterators  useful, e.g., if you need to access to contextual data (e.g., annotation results from previous data rows) or if you need (fine-grained) access to multiple synchronized datasets in parallel. Performance drawbacks of iteration approaches are also diminished when integrating multiple iterators in parallel. The overall goal of AnnotationIterators is to improve code readability and reduce potential error sources such as [the ones discussed in the 'RelatedWork' notebook](RelatedWork_performance.ipynb#Potential-pifalls). AnnotationIterators are also used by rnalib's [`transcriptome.annotate()`](#Annotation-of-features) method for incremental transcriptome annotation as shown below."
   ]
  },
  {
   "cell_type": "code",
   "execution_count": 33,
   "id": "79113d3d-12d6-4b1b-a230-ec9f51598e3d",
   "metadata": {
    "tags": []
   },
   "outputs": [
    {
     "data": {
      "text/plain": [
       "'gene@2L:7529-9484 (+) NA (gene CR11023)'"
      ]
     },
     "metadata": {},
     "output_type": "display_data"
    },
    {
     "data": {
      "text/plain": [
       "'SNPs: [2L:7556T>C, 2L:7902A>G, 2L:8124A>C, 2L:8263G>A, 2L:9204T>C]'"
      ]
     },
     "metadata": {},
     "output_type": "display_data"
    },
    {
     "data": {
      "text/plain": [
       "\"3'-value: 870, 5'-value: 319\""
      ]
     },
     "metadata": {},
     "output_type": "display_data"
    },
    {
     "data": {
      "text/markdown": [
       "---"
      ],
      "text/plain": [
       "<IPython.core.display.Markdown object>"
      ]
     },
     "metadata": {},
     "output_type": "display_data"
    },
    {
     "data": {
      "text/plain": [
       "'pseudogene@2L:7529-9484 (+) FBtr0475186 (gene CR11023)'"
      ]
     },
     "metadata": {},
     "output_type": "display_data"
    },
    {
     "data": {
      "text/plain": [
       "'SNPs: [2L:7556T>C, 2L:7902A>G, 2L:8124A>C, 2L:8263G>A, 2L:9204T>C]'"
      ]
     },
     "metadata": {},
     "output_type": "display_data"
    },
    {
     "data": {
      "text/plain": [
       "\"3'-value: 870, 5'-value: 319\""
      ]
     },
     "metadata": {},
     "output_type": "display_data"
    },
    {
     "data": {
      "text/markdown": [
       "---"
      ],
      "text/plain": [
       "<IPython.core.display.Markdown object>"
      ]
     },
     "metadata": {},
     "output_type": "display_data"
    },
    {
     "data": {
      "text/plain": [
       "'exon@2L:7529-8116 (+) FBtr0475186 (gene CR11023)'"
      ]
     },
     "metadata": {},
     "output_type": "display_data"
    },
    {
     "data": {
      "text/plain": [
       "'SNPs: [2L:7556T>C, 2L:7902A>G]'"
      ]
     },
     "metadata": {},
     "output_type": "display_data"
    },
    {
     "data": {
      "text/plain": [
       "\"3'-value: 870, 5'-value: 146\""
      ]
     },
     "metadata": {},
     "output_type": "display_data"
    },
    {
     "data": {
      "text/markdown": [
       "---"
      ],
      "text/plain": [
       "<IPython.core.display.Markdown object>"
      ]
     },
     "metadata": {},
     "output_type": "display_data"
    },
    {
     "data": {
      "text/plain": [
       "'exon@2L:8193-9484 (+) FBtr0475186 (gene CR11023)'"
      ]
     },
     "metadata": {},
     "output_type": "display_data"
    },
    {
     "data": {
      "text/plain": [
       "'SNPs: [2L:8263G>A, 2L:9204T>C]'"
      ]
     },
     "metadata": {},
     "output_type": "display_data"
    },
    {
     "data": {
      "text/plain": [
       "\"3'-value: 622, 5'-value: 319\""
      ]
     },
     "metadata": {},
     "output_type": "display_data"
    },
    {
     "data": {
      "text/markdown": [
       "---"
      ],
      "text/plain": [
       "<IPython.core.display.Markdown object>"
      ]
     },
     "metadata": {},
     "output_type": "display_data"
    },
    {
     "data": {
      "text/plain": [
       "'exon@2L:9839-11344 (-) FBtr0078171 (gene l(2)gl)'"
      ]
     },
     "metadata": {},
     "output_type": "display_data"
    },
    {
     "data": {
      "text/plain": [
       "'SNPs: [2L:10018G>A, 2L:10089G>A, 2L:10610G>T]'"
      ]
     },
     "metadata": {},
     "output_type": "display_data"
    },
    {
     "data": {
      "text/plain": [
       "\"3'-value: 932, 5'-value: 856\""
      ]
     },
     "metadata": {},
     "output_type": "display_data"
    },
    {
     "data": {
      "text/markdown": [
       "---"
      ],
      "text/plain": [
       "<IPython.core.display.Markdown object>"
      ]
     },
     "metadata": {},
     "output_type": "display_data"
    }
   ],
   "source": [
    "# Annotate flybase GTF annotation with (i) a list of the genotypes of overlapping SNPs for \n",
    "# 3 samples and (ii) the maximum value from a bedgraph track\n",
    "with rna.AnnotationIterator(\n",
    "    rna.GFF3Iterator(rna.get_resource('flybase_gtf'), '2L', 1, 30000), # iterate over 2L:1-30000 in the flybase GTF\n",
    "    [ rna.VcfIterator(rna.get_resource('dmel_multisample_vcf'), # annotate with overlapping SNPs but consider 3 samples only\n",
    "                     samples=['DGRP-208', 'DGRP-325', 'DGRP-721']),\n",
    "      rna.BedGraphIterator(rna.get_resource('dmel_randomvalues')) ], # annotate with a bedgraph file\n",
    "    disable_progressbar=True) as it:\n",
    "    for loc, (gff_feature, overlapping_snps, rand_values) in it.to_list()[:5]: # here we show just the first 5 features...\n",
    "        # Remember that rnalib iterators return named (location, data) tuples. Here, 'snps' is a list of such \n",
    "        # items and we can access the respective VCFRecord objects via the data field:\n",
    "        overlapping_snps=[x.data for x in overlapping_snps]\n",
    "        # rand_values is a sorted list (by genomic location) of overlapping values from the Bedgraph file.\n",
    "        # We use min/max to get the first/last items from this list and access the value via the \n",
    "        # data field and convert from float (as returned by the bedgraph iterator) to int:        \n",
    "        tp_value, fp_value = int(min(rand_values).data), int(max(rand_values).data) \n",
    "        # now we can display some data\n",
    "        display(f\"{gff_feature['feature_type']}@{loc} {gff_feature.get('transcript_id','NA')} (gene {gff_feature['gene_symbol']})\")\n",
    "        display(f\"SNPs: {overlapping_snps}\")\n",
    "        display(f\"3'-value: {tp_value}, 5'-value: {fp_value}\", SEP)"
   ]
  },
  {
   "cell_type": "markdown",
   "id": "1a6a23c9-69a3-4449-8968-edab8988e154",
   "metadata": {
    "tags": []
   },
   "source": [
    "#### Genomic interval arithmetic\n",
    "Here is another example in which we simply annotate intervals from a BED file with the sum of scores or all overlapping intervals from a bedgraph file.\n",
    "As all rnalib `LocationIterators` yield their current genomic interval in a uniform format, it is straightforward to use interval arithmetic in the annotation method (in this example we calculate the overlap fraction to calculate the actual score contributions of overlapping bedgraph intervals)."
   ]
  },
  {
   "cell_type": "code",
   "execution_count": 34,
   "id": "8f6c387b-8bde-42fe-9590-ad5c859a9b8d",
   "metadata": {
    "tags": []
   },
   "outputs": [
    {
     "name": "stdout",
     "output_type": "stream",
     "text": [
      "rnalib annotation iterator wrapping a Bed- and a BedGraphiterator\n"
     ]
    },
    {
     "data": {
      "text/plain": [
       "'Annotation 1:6-10 (int1), sum:1.408'"
      ]
     },
     "metadata": {},
     "output_type": "display_data"
    },
    {
     "data": {
      "text/plain": [
       "'Annotation 1:10-15 (int2), sum:0.3'"
      ]
     },
     "metadata": {},
     "output_type": "display_data"
    },
    {
     "data": {
      "text/plain": [
       "'Annotation 2:10-150 (int3), sum:0'"
      ]
     },
     "metadata": {},
     "output_type": "display_data"
    },
    {
     "data": {
      "text/plain": [
       "Counter({('yielded_items', '1'): 2, ('yielded_items', '2'): 1})"
      ]
     },
     "metadata": {},
     "output_type": "display_data"
    },
    {
     "data": {
      "text/markdown": [
       "---"
      ],
      "text/plain": [
       "<IPython.core.display.Markdown object>"
      ]
     },
     "metadata": {},
     "output_type": "display_data"
    },
    {
     "name": "stdout",
     "output_type": "stream",
     "text": [
      "rnalib annotation iterator wrapping two PybedtoolsIterators\n"
     ]
    },
    {
     "data": {
      "text/plain": [
       "'Annotation 1\\t5\\t10\\tint1\\n, sum:1.408'"
      ]
     },
     "metadata": {},
     "output_type": "display_data"
    },
    {
     "data": {
      "text/plain": [
       "'Annotation 1\\t9\\t15\\tint2\\n, sum:0.3'"
      ]
     },
     "metadata": {},
     "output_type": "display_data"
    },
    {
     "data": {
      "text/plain": [
       "'Annotation 2\\t9\\t150\\tint3\\n, sum:0'"
      ]
     },
     "metadata": {},
     "output_type": "display_data"
    },
    {
     "data": {
      "text/plain": [
       "Counter({('yielded_items', '1'): 2, ('yielded_items', '2'): 1})"
      ]
     },
     "metadata": {},
     "output_type": "display_data"
    }
   ],
   "source": [
    "# Annotate all intervals in a BED file with sum of scores from a bedgraph file; supports bedgraph intervals >1bp: \n",
    "# score contribution is calculated from the interval overlap (this bedgraph file contains, e.g., an interval (1:7-10, 0.3))\n",
    "print('rnalib annotation iterator wrapping a Bed- and a BedGraphiterator')\n",
    "with rna.AnnotationIterator(rna.BedIterator(rna.get_resource('test_bed')), \n",
    "                            rna.BedGraphIterator(rna.get_resource('test_bedgraph')), \n",
    "                            labels=['scores'], disable_progressbar=True) as it:\n",
    "    for loc, i in it:\n",
    "        display(f\"Annotation {i.anno}, sum:{sum([x.data*loc.overlap(x.location) for x in i.scores])}\")\n",
    "    display(it.stats())\n",
    "display(SEP)\n",
    "    \n",
    "    \n",
    "# Same as above, just for demonstration purposes, but now using pybedtools iterators that wrap a pybedtools BedTool\n",
    "print('rnalib annotation iterator wrapping two PybedtoolsIterators')\n",
    "with rna.AnnotationIterator(rna.PybedtoolsIterator(rna.get_resource('test_bed')), \n",
    "                            rna.PybedtoolsIterator(rna.get_resource('test_bedgraph')), \n",
    "                            labels=['scores'], disable_progressbar=True) as it:\n",
    "    for loc, i in it:\n",
    "        # Note the slight differences. The returned data is now a pybedtools item, access to the \n",
    "        # bedgraph score is via the name attribute (but its a string, so we need to convert to float). \n",
    "        display(f\"Annotation {i.anno}, sum:{sum([float(x.data.name)*loc.overlap(x.location) for x in i.scores])}\")\n",
    "    display(it.stats())"
   ]
  },
  {
   "cell_type": "markdown",
   "id": "9017d21e-7c47-4777-b7dd-590e7c2adc67",
   "metadata": {},
   "source": [
    "### TiledIterator for splitting large datasets\n",
    "A common practice of many genomics applications is to break up analyses into continuous blocks (genomic intervals or tiles), e.g., to parallelize computation or just to deal with large datasets. Splitting a reference dict (i.e., a genome representation) into such blocks can easily be done using its `iter_blocks()` method. Iterating over a large BAM file, handling non-overlapping genomic intervals, for example, can be done as shown below.\n",
    "\n",
    "*Note that you could also use an AnnotationIterator for this task as demonstrated above. In this case the region list must be sorted though!*"
   ]
  },
  {
   "cell_type": "code",
   "execution_count": 35,
   "id": "e97b8136-0e72-43f8-bc9d-487255c4b3ab",
   "metadata": {
    "tags": []
   },
   "outputs": [
    {
     "data": {
      "text/plain": [
       "{chr1:1-100000000: 31678,\n",
       " chr1:100000001-200000000: 0,\n",
       " chr1:200000001-249250621: 0,\n",
       " chr2:1-100000000: 0,\n",
       " chr2:100000001-200000000: 0,\n",
       " chr2:200000001-243199373: 0,\n",
       " chr3:1-100000000: 0,\n",
       " chr3:100000001-198022430: 0,\n",
       " chr4:1-100000000: 0,\n",
       " chr4:100000001-191154276: 0}"
      ]
     },
     "metadata": {},
     "output_type": "display_data"
    },
    {
     "data": {
      "text/plain": [
       "'...'"
      ]
     },
     "metadata": {},
     "output_type": "display_data"
    }
   ],
   "source": [
    "# Create a read iterator and add a 'chr' prefix to the chromosome names (via fun_alias)\n",
    "with rna.ReadIterator(rna.get_resource('small_example_bam'), flag_filter=0, fun_alias=rna.toggle_chr) as it: \n",
    "    # Iterate the alignments and count the number of reads per tile.\n",
    "    with rna.TiledIterator(it, tile_size=int(1e8)) as tit: \n",
    "        # Store the results in a dict, but ony for 'canonical' GRCh38 chromosomes\n",
    "        stats={loc: len(dat) for loc, dat in tit if loc.chromosome in rna.CANONICAL_CHROMOSOMES['GRCh38']}\n",
    "# show first 10 entries of the results dict. There are reads only at the beginning of chromosome 1 in this file.\n",
    "display(dict(list(stats.items())[0:10]), '...')"
   ]
  },
  {
   "cell_type": "markdown",
   "id": "c72384e7-3495-4cc7-a9b3-d9108b1e63ad",
   "metadata": {
    "tags": []
   },
   "source": [
    "Here is another example in which we bin data from a begraph file by tiling it into blocks and iterating the respective scores and the locations of the intervals they stem from. "
   ]
  },
  {
   "cell_type": "code",
   "execution_count": 36,
   "id": "2568a3de-455b-418c-a7a8-681faa3b40ac",
   "metadata": {
    "tags": []
   },
   "outputs": [
    {
     "data": {
      "text/html": [
       "<div>\n",
       "<style scoped>\n",
       "    .dataframe tbody tr th:only-of-type {\n",
       "        vertical-align: middle;\n",
       "    }\n",
       "\n",
       "    .dataframe tbody tr th {\n",
       "        vertical-align: top;\n",
       "    }\n",
       "\n",
       "    .dataframe thead th {\n",
       "        text-align: right;\n",
       "    }\n",
       "</style>\n",
       "<table border=\"1\" class=\"dataframe\">\n",
       "  <thead>\n",
       "    <tr style=\"text-align: right;\">\n",
       "      <th></th>\n",
       "      <th>Chromosome</th>\n",
       "      <th>Start</th>\n",
       "      <th>End</th>\n",
       "      <th>Strand</th>\n",
       "      <th>Value</th>\n",
       "    </tr>\n",
       "  </thead>\n",
       "  <tbody>\n",
       "    <tr>\n",
       "      <th>0</th>\n",
       "      <td>1</td>\n",
       "      <td>1</td>\n",
       "      <td>1</td>\n",
       "      <td>.</td>\n",
       "      <td>0.0</td>\n",
       "    </tr>\n",
       "    <tr>\n",
       "      <th>1</th>\n",
       "      <td>1</td>\n",
       "      <td>2</td>\n",
       "      <td>2</td>\n",
       "      <td>.</td>\n",
       "      <td>0.042</td>\n",
       "    </tr>\n",
       "    <tr>\n",
       "      <th>2</th>\n",
       "      <td>1</td>\n",
       "      <td>3</td>\n",
       "      <td>3</td>\n",
       "      <td>.</td>\n",
       "      <td>0.083</td>\n",
       "    </tr>\n",
       "    <tr>\n",
       "      <th>3</th>\n",
       "      <td>1</td>\n",
       "      <td>4</td>\n",
       "      <td>4</td>\n",
       "      <td>.</td>\n",
       "      <td>0.125</td>\n",
       "    </tr>\n",
       "    <tr>\n",
       "      <th>4</th>\n",
       "      <td>1</td>\n",
       "      <td>5</td>\n",
       "      <td>5</td>\n",
       "      <td>.</td>\n",
       "      <td>0.167</td>\n",
       "    </tr>\n",
       "    <tr>\n",
       "      <th>5</th>\n",
       "      <td>1</td>\n",
       "      <td>6</td>\n",
       "      <td>6</td>\n",
       "      <td>.</td>\n",
       "      <td>0.208</td>\n",
       "    </tr>\n",
       "    <tr>\n",
       "      <th>6</th>\n",
       "      <td>1</td>\n",
       "      <td>7</td>\n",
       "      <td>10</td>\n",
       "      <td>.</td>\n",
       "      <td>0.3</td>\n",
       "    </tr>\n",
       "    <tr>\n",
       "      <th>7</th>\n",
       "      <td>1</td>\n",
       "      <td>16</td>\n",
       "      <td>17</td>\n",
       "      <td>.</td>\n",
       "      <td>0.7</td>\n",
       "    </tr>\n",
       "    <tr>\n",
       "      <th>8</th>\n",
       "      <td>1</td>\n",
       "      <td>18</td>\n",
       "      <td>19</td>\n",
       "      <td>.</td>\n",
       "      <td>0.8</td>\n",
       "    </tr>\n",
       "    <tr>\n",
       "      <th>9</th>\n",
       "      <td>1</td>\n",
       "      <td>21</td>\n",
       "      <td>40</td>\n",
       "      <td>.</td>\n",
       "      <td>0.1</td>\n",
       "    </tr>\n",
       "  </tbody>\n",
       "</table>\n",
       "</div>"
      ],
      "text/plain": [
       "  Chromosome  Start  End Strand  Value\n",
       "0          1      1    1      .    0.0\n",
       "1          1      2    2      .  0.042\n",
       "2          1      3    3      .  0.083\n",
       "3          1      4    4      .  0.125\n",
       "4          1      5    5      .  0.167\n",
       "5          1      6    6      .  0.208\n",
       "6          1      7   10      .    0.3\n",
       "7          1     16   17      .    0.7\n",
       "8          1     18   19      .    0.8\n",
       "9          1     21   40      .    0.1"
      ]
     },
     "metadata": {},
     "output_type": "display_data"
    },
    {
     "data": {
      "text/plain": [
       "'1:1-7: scores: (0.0, 0.042, 0.083, 0.125, 0.167, 0.208, 0.3) locations: (1:1-1, 1:2-2, 1:3-3, 1:4-4, 1:5-5, 1:6-6, 1:7-10), sum: 0.925'"
      ]
     },
     "metadata": {},
     "output_type": "display_data"
    },
    {
     "data": {
      "text/plain": [
       "'1:8-14: scores: (0.3,) locations: (1:7-10,), sum: 0.8999999999999999'"
      ]
     },
     "metadata": {},
     "output_type": "display_data"
    },
    {
     "data": {
      "text/plain": [
       "'1:15-21: scores: (0.7, 0.8, 0.1) locations: (1:16-17, 1:18-19, 1:21-40), sum: 3.1'"
      ]
     },
     "metadata": {},
     "output_type": "display_data"
    },
    {
     "data": {
      "text/plain": [
       "'1:22-28: scores: (0.1,) locations: (1:21-40,), sum: 0.7000000000000001'"
      ]
     },
     "metadata": {},
     "output_type": "display_data"
    },
    {
     "data": {
      "text/plain": [
       "'1:29-35: scores: (0.1,) locations: (1:21-40,), sum: 0.7000000000000001'"
      ]
     },
     "metadata": {},
     "output_type": "display_data"
    },
    {
     "data": {
      "text/plain": [
       "'1:36-40: scores: (0.1,) locations: (1:21-40,), sum: 0.5'"
      ]
     },
     "metadata": {},
     "output_type": "display_data"
    }
   ],
   "source": [
    "# show the 'raw' data as a dataframe\n",
    "display(rna.BedGraphIterator(rna.get_resource('test_bedgraph')).to_dataframe())\n",
    "# Create a bedgraph iterator. As we cannot retrieve chromosome lengths from tabix files, \n",
    "# we set `calc_chromlen=True` to estimate them from iterating the file. We can then \n",
    "# calculate tiles that cover all covered regions. \n",
    "with rna.BedGraphIterator(rna.get_resource('test_bedgraph'), calc_chromlen=True) as it:\n",
    "    # Create a list of non-overlapping intervals (tiles) of size 7 from the iterator's refdict.\n",
    "    regions = it.refdict.iter_blocks(block_size=7)\n",
    "    # Iterate the alignments and display the tile interval, the data from the bedgraph file, the respective interval locations and a weighted sum\n",
    "    with rna.TiledIterator(it, regions) as tit:\n",
    "        for loc, dat in tit:\n",
    "            display(f\"{loc}: scores: {dat} locations: {tit.tile_locations}, sum: {sum([x*loc.overlap(y) for x,y in zip(dat, tit.tile_locations)])}\")"
   ]
  },
  {
   "cell_type": "markdown",
   "id": "b6c8483c-87ee-4af7-8e2e-6aa4cc1f905a",
   "metadata": {
    "tags": []
   },
   "source": [
    "## Transcriptome implementation\n",
    "_rnalib_ provides a `transcriptome` implementation that enables convenient access/filtering of genomic annotations via python. \n",
    "Briefly, a (filtered) input GTF/GFF file is parsed and respective (frozen) dataclasses that derive from the generic `Feature` class are instantiated. \n",
    "The implementation keeps track of parent/child relationships (e.g., between genes, transcripts and their exons) and enables efficient iteration/querying and annotation of genomic annotations. Data fields and annotations can conveniently be accessed via 'dot' notation (i.e., `<feature>.<attribute>`). \n",
    "\n",
    "Note that the current implementation does not implement the full GFF3 format as specified [here](https://github.com/The-Sequence-Ontology/Specifications/blob/master/gff3.md)\n",
    "but currently rather supports various popular gff 'flavours' as published by encode, ensembl, ucsc, chess, mirgenedb and flybase.\n",
    "It also supports a 'generic' GFF3 format where all parsed features are interpreted as 'transcript' objects irrespecting the actual feature_type column.\n",
    "Respective parent 'gene' annotations are automatically added, no sub-features (exons, introns, etc.) are created.\n",
    "\n",
    "Here is a brief description of the datamodel depicted below:\n",
    "-   Model contains `genes`, `transcripts` and arbitrary sub-features (e.g., `exons`, `introns`, 3'/5'-`UTR`s, `CDS`) as defined\n",
    "    in the GFF file. Note that `intron` annotations are calculated automatically from exon annotations unless configured otherwise. \n",
    "    Frozen dataclasses (derived from the 'Feature' class) are created for all parsed feature types automatically and users may configure which \n",
    "    GTF/GFF attributes will be parsed and added to those dataclasses as fields.\n",
    "    Gene intervals must envelop transcript intervals which must envelop sub-feature intervals.\n",
    "    \n",
    "-   A transcriptome maintains an `anno` dict that maps (frozen) features to dicts of arbitrary annotation values which supports the (incremental) annotation of annotation features. Annotation values can be accessed like GFF-parsed fields via 'dot' notation: `<feature>.<attribute>`. \n",
    "    \n",
    "-   The implementation exploits the hierarchical relationship between genes and their sub-features to optimize storage and computational requirements where possible.        \n",
    "    Genomic sequences, for example, can be loaded from a reference genome via load_sequence_datas() but will only be directly stored in strings attached to gene feature.\n",
    "    Sequences can then be accessed via transcriptome.get_sequence(). For sub-features (e.g., transcripts, exons, etc.) the respective sequence will be sliced from the \n",
    "    gene sequence on demand.  Note that despite being computed on demand, genomic sequences can still be accessed via `<feature>.sequence` which will call \n",
    "    transcriptome.get_sequence() with default parameters.\n",
    "    \n",
    "-   The get_sequence() method supports several modes:\n",
    "    If `mode='rna'` is passed, the sequence is returned in 5'-3' orientation, i.e., they are reverse-complemented\n",
    "    for minus-strand transcripts. The returned sequence will, however, still use the DNA alphabet (ACTG) to\n",
    "    enable direct alignment/comparison with genomic sequences.\n",
    "    if `mode='spliced'`, the spliced 5'-3' sequence will be returned.\n",
    "    if `mode='translated'`, the spliced 5'-3' CDS sequence will be returned.\n",
    "    \n",
    "-   Genomic range queries via query() are supported by a combination of interval and linear search queries.\n",
    "    A transcriptome object maintains one intervaltree per chromosome built from gene annotations.\n",
    "    Overlap/envelop queries will first be applied to the respective intervaltree and the (typically small\n",
    "    result sets) will then be filtered, e.g., for requested sub-feature types.\n",
    "    \n",
    "-   Transcriptome models can also be built from subsets of GFF/GTF files by filtering contained transcripts with a TranscriptFilter() that can restrict, e.g., included chromosomes, genomic regions, transcript_ids, gene_types or transcripts with certain 'tag' values (as used in gencode).\n",
    "\n",
    "-   A transcriptome object keeps track of the numbers of filtered GFF entries in a `log` Counter object that is, e.g., useful for debugging. The 'structure' of the parsed features can be accessed via the `get_struct()` method.\n",
    "\n",
    "The following cells demonstrate some use cases."
   ]
  },
  {
   "cell_type": "markdown",
   "id": "e3d7f7f7-c82d-4d05-8983-caedd5ff681f",
   "metadata": {},
   "source": [
    "![transcriptome datamodel](../docs/_static/rnalib_transcriptome.png \"Transcriptome datamodel\")"
   ]
  },
  {
   "cell_type": "markdown",
   "id": "729131e5-fab9-4cee-930e-40a19019f3d7",
   "metadata": {},
   "source": [
    "### Basic access examples"
   ]
  },
  {
   "cell_type": "code",
   "execution_count": 37,
   "id": "8e471e34-334e-4c7f-af37-222d6df3e15a",
   "metadata": {
    "tags": []
   },
   "outputs": [
    {
     "data": {
      "text/plain": [
       "Transcriptome with 14 genes and 41 tx (+seq)"
      ]
     },
     "metadata": {},
     "output_type": "display_data"
    },
    {
     "data": {
      "text/plain": [
       "{'gene': {'transcript'},\n",
       " 'transcript': {'CDS', 'exon', 'five_prime_UTR', 'intron', 'three_prime_UTR'},\n",
       " 'intron': set(),\n",
       " 'exon': set(),\n",
       " 'three_prime_UTR': set(),\n",
       " 'CDS': set(),\n",
       " 'five_prime_UTR': set()}"
      ]
     },
     "metadata": {},
     "output_type": "display_data"
    },
    {
     "data": {
      "text/plain": [
       "Counter({'parsed_gff_lines': 749})"
      ]
     },
     "metadata": {},
     "output_type": "display_data"
    }
   ],
   "source": [
    "# First, let's create a transcriptome containing dmel chromosome 2L annotation from a flybase annotation file.\n",
    "t = rna.Transcriptome(\n",
    "        genome_fa=rna.get_resource('dmel_genome'),      # genome FASTA\n",
    "        annotation_gff=rna.get_resource('flybase_gtf'), # Gene annotation GTF/GFF file\n",
    "        annotation_flavour='flybase',                   # flavour of the annotation file.\n",
    "        load_sequence_data=True,                        # load sequences from configured genome FASTA file\n",
    "        disable_progressbar=True,                       # no progressbars,\n",
    "        feature_filter={'location': { 'included': { 'chromosomes': ['2L'] } }} # a simple filter that will include only annotations from 2L\n",
    "    ) \n",
    "# show some stats/debugging information\n",
    "display(t) # show some basic info (#genes, #tx)\n",
    "display(t.get_struct()) # Show the hierarchical structure encoded in the GFF\n",
    "display(t.log) # show stats (such as parsed and filtered lines)"
   ]
  },
  {
   "cell_type": "code",
   "execution_count": 39,
   "id": "7219dabf-fba9-4d25-8176-844d93e2cdb6",
   "metadata": {
    "tags": []
   },
   "outputs": [
    {
     "data": {
      "text/plain": [
       "\"Gene names: ['CR11023', 'l(2)gl', 'Ir21a', 'asRNA:CR43609', 'Cda5', 'lncRNA:CR46254', 'lncRNA:CR45339', 'lncRNA:CR45340', 'dbr', 'asRNA:CR44987', 'galectin', 'CG11374', 'net', 'Zir']\""
      ]
     },
     "metadata": {},
     "output_type": "display_data"
    },
    {
     "data": {
      "text/markdown": [
       "---"
      ],
      "text/plain": [
       "<IPython.core.display.Markdown object>"
      ]
     },
     "metadata": {},
     "output_type": "display_data"
    },
    {
     "data": {
      "text/plain": [
       "\"Transcripts of gene 'l(2)gl': ['FBtr0306591', 'FBtr0078169', 'FBtr0078168', 'FBtr0078170', 'FBtr0306592', 'FBtr0306590', 'FBtr0078167', 'FBtr0330655', 'FBtr0078171', 'FBtr0078166', 'FBtr0306589'].\""
      ]
     },
     "metadata": {},
     "output_type": "display_data"
    },
    {
     "data": {
      "text/markdown": [
       "---"
      ],
      "text/plain": [
       "<IPython.core.display.Markdown object>"
      ]
     },
     "metadata": {},
     "output_type": "display_data"
    },
    {
     "data": {
      "text/plain": [
       "\"Number of exons per Cda5 tx: {'FBtr0309227': 12, 'FBtr0309228': 14, 'FBtr0309226': 14, 'FBtr0309229': 15, 'FBtr0078163': 13, 'FBtr0078164': 14, 'FBtr0113416': 13, 'FBtr0309225': 11}\""
      ]
     },
     "metadata": {},
     "output_type": "display_data"
    },
    {
     "data": {
      "text/markdown": [
       "---"
      ],
      "text/plain": [
       "<IPython.core.display.Markdown object>"
      ]
     },
     "metadata": {},
     "output_type": "display_data"
    },
    {
     "data": {
      "text/plain": [
       "\"The parent gene of transcript 'FBtr0330655' is l(2)gl\""
      ]
     },
     "metadata": {},
     "output_type": "display_data"
    },
    {
     "data": {
      "text/markdown": [
       "---"
      ],
      "text/plain": [
       "<IPython.core.display.Markdown object>"
      ]
     },
     "metadata": {},
     "output_type": "display_data"
    }
   ],
   "source": [
    "# Now, we can access some data:                              \n",
    "# show gene names that were parsed from the flybase 'gene_symbol' field\n",
    "display(f\"Gene names: {[g.gene_name for g in t.genes]}\",SEP) \n",
    "# query gene by name and get the ids of its transcripts\n",
    "display(f\"Transcripts of gene 'l(2)gl': {[tx.feature_id for tx in t['l(2)gl'].transcript]}.\",SEP) \n",
    "# create a dict with number of exons per transcripts\n",
    "display(f\"Number of exons per Cda5 tx: { {tx.feature_id:len(tx.exon) for tx in t['Cda5'].transcript} }\",SEP) \n",
    "# Access transcript by id and show the name field of its gene (=parent)\n",
    "display(f\"The parent gene of transcript 'FBtr0330655' is {t['FBtr0330655'].parent.gene_name}\",SEP) "
   ]
  },
  {
   "cell_type": "code",
   "execution_count": 40,
   "id": "cb590265-9737-458b-a22b-0c192f653f2a",
   "metadata": {},
   "outputs": [
    {
     "data": {
      "text/plain": [
       "'directly associated annotations:'"
      ]
     },
     "metadata": {},
     "output_type": "display_data"
    },
    {
     "data": {
      "text/plain": [
       "{'transcriptome': Transcriptome with 14 genes and 41 tx (+seq),\n",
       " 'feature_id': 'FBtr0330655_exon_6',\n",
       " 'feature_type': 'exon',\n",
       " 'parent': transcript@2L:9839-21376,\n",
       " 'subfeature_types': (),\n",
       " 'gene_type': None,\n",
       " 'source': 'FlyBase',\n",
       " 'gff_feature_type': 'exon'}"
      ]
     },
     "metadata": {},
     "output_type": "display_data"
    },
    {
     "data": {
      "text/plain": [
       "'implicitly modeled annotations: rnk=3'"
      ]
     },
     "metadata": {},
     "output_type": "display_data"
    },
    {
     "data": {
      "text/plain": [
       "'via inheritance hierarchy: tid=FBtr0330655'"
      ]
     },
     "metadata": {},
     "output_type": "display_data"
    },
    {
     "data": {
      "text/plain": [
       "'derived annotations: seq=CTTACGATAA...'"
      ]
     },
     "metadata": {},
     "output_type": "display_data"
    },
    {
     "data": {
      "text/plain": [
       "\"custom annotations: {'my_great_annotation': 24.9}\""
      ]
     },
     "metadata": {},
     "output_type": "display_data"
    }
   ],
   "source": [
    "# Different access modes\n",
    "ex = t['FBtr0330655'].exon[2]                                     # get the 3rd exon of this transcript.\n",
    "t[ex]['my_great_annotation'] = 24.9                               # add arbitrary annotations (e.g., via AnnotationIterator)\n",
    "display(f'directly associated annotations:', vars(ex))            # show the data that is directly associated with the exon object\n",
    "display(f'implicitly modeled annotations: rnk={ex.rnk}')          # rank is the index in the list of exons of the parent transcript\n",
    "display(f'via inheritance hierarchy: tid={ex.parent.feature_id}') # access a feature of the parent transcript\n",
    "display(f'derived annotations: seq={ex.sequence[:10]}...')        # accesses gene-associated sequence data and slices exon coordinates \n",
    "display(f'custom annotations: {t[ex]}')                           # direct access to features (via name/id) or annotations (via features) supported"
   ]
  },
  {
   "cell_type": "markdown",
   "id": "6b60abc5-91a3-479a-a2d9-3e02d29fd554",
   "metadata": {
    "tags": []
   },
   "source": [
    "### Sequence access"
   ]
  },
  {
   "cell_type": "code",
   "execution_count": 41,
   "id": "6cda166c-385c-42c8-958a-b9afb116585c",
   "metadata": {
    "tags": []
   },
   "outputs": [
    {
     "data": {
      "text/plain": [
       "'Selected tx: FBtr0078169'"
      ]
     },
     "metadata": {},
     "output_type": "display_data"
    },
    {
     "data": {
      "text/html": [
       "<textarea rows='4' cols='120'>DNA sequence of 1st exon: AAAGTCGCGATCGGTGGGTCTAGTGTGC</textarea>"
      ],
      "text/plain": [
       "<IPython.core.display.HTML object>"
      ]
     },
     "metadata": {},
     "output_type": "display_data"
    },
    {
     "data": {
      "text/html": [
       "<textarea rows='4' cols='120'>Spliced sequence: GCACACTAGACCCACCGATCGCGACTTTCAACGATGTGAAGAACAGTGCGGGCGTTTCTCAACATAAGAATACATACAAACTTATGCGTGATGGTGAGCAAATAAAATAGTTCAAAAAATTACTCGGCCACCGCCTTAACCGTACAAACGGAAATACATAAAGTTTAGAATAAATTCGGCCACAATTAATATACTTATTTATTCATCAAAACCAAACCACCACAAGAGCATAACCAATCATGTTAAAGTTTATCAGAGGAAAAGGGCAGCAGCCCAGTGCTGACAGACAACGCTACATCGTAAGACGGCACAGCATGGCTTTCCTCATAAGCCTTCGGCTCTTGCGTATGATCCAGTTTTGAAACTTATGGCAATAGGGACGCAAACAGGGGCTTTAAAAGTTTTCGGTCAACCCGGAGTTGAATTGTACGGTCAGCATACTTTGTTAAACAATTCAGCATCGGAGCTTAATGTACAATTACTTGAATGGGTGTATGGAACTGGTCGCATACTTTCGTTGACGGCAGCGAATCAATTAATTCTATGGGAGCCAGTTGGAGCAACGTTGCTGCCAATCAAAACACTACCGTTTGACGGCAAACTTAAAAAAGTTTCATCGCTGTGCTGTTCTCTCAGTAAGGATCTGCTATGGATTGGAACAGAAGGTGGAAACATCTATCAACTGGATTTACATACATTTACCATTAAGGAGCCTGTAATTTACCATGACGTTGTGCTAGAGCAGGTGCCACCAGCCTACAAGCTAAATCCTGGTGCAATTGAGTCAATCCGCCAACTTCCAAACTCCCCTAGCAAACTTCTAGTTGCATACAATCGCGGCCTTTGTGTTTTGTGGGATTTTGAAAGCGCATCTGTCCAGCGAGCATACATAGCCCCTGGACATGGACAGAGCGTTGGTCTTACAGTGAACTTCGAAGGATCTGAATTTACCTGGTACCACGCTGATGGTTCATACGCCACTTGGAGCATAGATAACCCAGAACCGCCGTCGAATGTTAATTATGTGCCTTATGGACCTGATCCATGCAAAAGCATAAATCGACTGTACAAAGGCAAGCGAAGATCCAACGATGTAATTGTTTTTTCCGGCGGCATGCCACGGTCAGCATATGGTGATCACAATTGTGTGTCCGTTCACGCCAGCGATGGACACAAAGTGTGTCTTGACTTTACGTCTAAAGTGATTGACTTTTTTGTGACCTTTGAAAATAATAGAGATGTCGCTGAAGTTCTTGTTGTACTACTTGAAGAGGAACTCTGCGCTTACGATCTTACTGACCCTAATATTTGTGCTATCAAAGCGCCATATCTTCACTCTGTCCATGCATCAGCTGTCACTTGCAATTACCTTGCTTCTGAAGTCGTACAGTCGGTATATGAAAGTATTTTAAGAGCTGGAGATGAACAAGACATTGACTATAGCAATATTAGCTGGCCTATCACTGGCGGTACTCTCCCGGATAACTTAGAAGAATCTGTAGAAGAGGACGCGACTAAGCTTTATGAGATTTTGTTAACTGGTCACGAAGATGGTTCTGTTAAATTTTGGGACTGCACTGGAGTGTTGCTTAAACCAATTTATAATTTTAAAACTAGCAGCATTTTTGGAAGTGAGTCAGACTTCCGAGATGACGCAGCTGCAGATATGAGTGCGGAACAAGTCGATGAAGGAGAACCGCCATTTCGGAAATCAGGACTTTTTGATCCTTATTCAGATGACCCTCGTTTAGCAGTGAAGAAAATAGCATTCTGCCCAAAAACCGGACAACTTATTGTTGGTGGCACAGCGGGCCAAATAGTTATAGCCGACTTCATAGACTTACCCGAAAAAGTGTCTTTAAAATACATTTCAATGAATTTGGTCAGCGATCGTGATGGATTTGTGTGGAAGGGTCACGATCAGTTAAACGTGCGATCGAACTTATTAGACGGAGAAGCAATTCCTACGACGGAACGTGGTGTAAATATATCGGGAGTACTGCAAGTTTTGCCGCCAGCCAGCATAACATGCATGGCACTCGAAGCAAGCTGGGGCCTAGTATCTGGTGGGACTGCGCACGGCTTAGTTCTCTTTGACTTCAAAAACTTTGTTCCAGTATTTCATCGCTGCACTTTAAACCCAAATGATCTTACTGGAGCAGGAGAGCAGCTGTCTCGTCGAAAGTCTTTTAAGAAATCATTGAGGGAGTCATTTAGAAAGCTTCGCAAGGGTCGATCGACCAGGACCAACCAGAGCAATCAAGTACCAACAACGCTGGAAGCAAGACCCGTCGAGAGGCAAATAGAGGCTCGTTGTGCAGATGACGGGCTAGGATCCATGGTGCGATGTTTACTATTTGCCAAAACTTATGTTACTAATGTCAACATAACGTCGCCAACTTTGTGGTCAGCAACAAATGCCAGTACAGTCTCGGTTTTCCTTCTGCATTTGCCACCAGCGCAGACCGCGGCAACTGCCGTCCCGTCGGCAAGTGGCAATGCACCACCACACATGCCCCGCCGAATTTCTGCGCAGCTTGCTAAAGAAATACAATTAAAACATCGTGCTCCTGTGGTGGGTATTTCTATTTTTGATCAGGCGGGTAGCCCTGTCGATCAGCTGAACGCCGGTGAAAACGGGAGTCCACCGCATCGTGTACTTATTGCTTCCGAGGAACAGTTCAAGGTGTTTTCACTTCCGCAACTAAAGCCGATTAACAAATATAAGCTTACCGCTAACGAAGGTGCTCGGATTCGCCGCATCCATTTTGGTTCGTTTAGTTGTCGCATATCCCCGGAAACACTGCAGAGTATGCACGGTTGTAGCCCAACTAAGTCCACGCGTTCACATGGCGATGGAGAGGCGGATCCTAATATCAGTGGAAGCTTGGCTGTAAGTCGTGGAGATGTATATAACGAAACAGCATTGATATGTTTAACGAATATGGGCGATATCATGGTTTTATCAGTACCTGAATTAAAAAGACAGCTGAATGCCGCAGCAGTGCGACGGGAAGACATTAATGGAGTTTCGTCACTTTGCTTTACAAACTCTGGAGAAGCACTGTATATGATGTCTTCTTCTGAACTGCAGCGTATTGCTTTAGCCACGTCCAGAGTCGTGCAACCCACTGGCGTTGTTCCAGTAGAACCATTAGAAAATGAAGAGTCTGTGTTGGAAGAAAATGATGCAGAGAATAATAAGGAAACCTACGCATGTGATGAAGTTGTGAATACATATGAAATTAAAAATCCATCAGGCATTTCAATATGCACAAGGCCTGCAGAGGAAAACGTTGGAAGAAATAGTGTTCAGCAAGTTAATGGAGTCAACATTTCAAATTCACCTAATCAAGCTAACGAGACTATCAGCAGCTCTATTGGCGATATTACCGTTGACTCGGTGCGCGACCATTTAAATATGACGACCACCACTTTGTGTTCTATTAATACAGAGGAAACCATTGGTCGCCTATCTGTACTTAGCACGCAAACCAACAAAGCCAGTACTACCGTAAACATGAGTGAAATTCCAAATATTAATATTTCTAATTTAGAGGACTTGGAATCGAAAAGAAATACGACGGAAACGAGTACTAGTTCTGTTGTAATTAAATCTATAATTACAAACATTTCTCATGAAAAAACGAACGGAGACAACAAAATAGGAACGCCAAAAACAGCGCCTGAAGAAAGCCAATTTTAACATTGACAGAAGCCGTAACCTACTAATTATTTTATACCTTTACAGAAATACGACGCAAACGAGTACTAGTCCTGATGTAATTTAATCTATAATTACAAACATGTCTCACTAAAAATCGAACGGGGACAGCAAAATAGGAACGCAAAAAAATTAAATTAAATTAAACGCGATTTACATACAAACAGAAATGACAGAATGATAATATAAAATATTCATTTTTTATTTGGCTTAAGCGATGTTGTTGTTCCAAAACCATATAATTATTTATGATTTTATGTAATGTTTTCATGTATTTTCGCGTAGTGACTTTATACCCTTTACCCGTATGATGAAACGAAACATGATATTTGTAGAAAGGTACAAAGGATAAAAGTTGACATTTAAGGCCGATTGTAAAATATTAAAACGCAACCTGGATAACATGCCGATTAATTACTTCTGTTCGTCCGTATAAACACAAATACCGATAAATTGGTCCGTCCCCATTTAATAAATTGTATATTAAAATGGTCTTTATTTTGGATAAATAATTCAAATTATATAGGAACATTTGGGTTTTAAGGGATAGAAACAGCGCTGGTGTCTTTCATTTCCGTTCGTATGACCGTTCAAAGATTATAAAAAAATTGTCGTGCCCACATTTTTTAAATTTCTTTTATTTTCGGTTAAAATATTGTGATACAAAAAAATGCCCTTACAAAATTAGGACAACAACAATTTGCTTTATTATGATGAACAAATTAGGAGTACAAAAAATAGCCTGATGCAAGGATGGGGAGAAAAAAGACCTTGAAGTTCAAAAGAATTTGTTGTATCAAATCCTCAATAAGAAAACTACTTAAAATTAAAAGCGTGTTTCAAATTAATTGTAGAATATTTCGTAAAATGAAATTGCAAACTTTTTTAGCACGAAATTACATGTATTTAATTCTTTGGCTAATACGTCAGTTAAAAAAGGCTACATTTTGATGATACTCACAAATGTAATTTTTGCATTCTACACAGGTGCAATTAAAAAATTATGGTTTTTATGAGTTTTAGAGGGAAGAAAATATGTCAATATGAGAAGTAAGTTAATGAGCCTTCAAGTACTTTAGTACATAATGTAATTTAATTTTAGAAATCCTACGGCTTTATATTCAATTGTAAAGTATTTTAAAATTCCTGACGATTTGTAGTAATTGTTTTGTTCTTAGCTTTTTTGCATTCTCCTCCGTTACTCCGTTACTCGTATAGTAAAAGGTATAGTATATACAATAGTATTGTAGATTCGTTGAGAAGTATGTTACAGGCAGAAGGAAGCTTTTCCGACCATATAAAGTATATAATTGAGTATTTAGCTTAGGATTATTAATAAAACATGTATTTTATTTAAC</textarea>"
      ],
      "text/plain": [
       "<IPython.core.display.HTML object>"
      ]
     },
     "metadata": {},
     "output_type": "display_data"
    },
    {
     "data": {
      "text/html": [
       "<textarea rows='4' cols='120'>Spliced sequence showing SJ ('*'): GCACACTAGACCCACCGATCGCGACTTT*CAACGATGTGAAGAACAGTGCGGGCGTTTCTCAACATAAGAATACATACAAACTTATGCGTGATGGTGAGCAAATAAAATAGTTCAAAAAATTACTCGGCCACCGCCTTAACCGTACAAACGGAAATACATAAAG*TTTAGAATAAATTCGGCCACAATTAATATACTTATTTATTCATCAAAACCAAACCACCACAAGAGCATAACCAATCATGTTAAAGTTTATCAGAGGAAAAGGGCAGCAGCCCAGTGCTGACAGACAACGCTACATCGTAAG*ACGGCACAGCATGGCTTTCCTCATAAGCCTTCGGCTCTTGCGTATGATCCAGTTTTGAAACTTATGGCAATAGGGACGCAAACAGGGGCTTTAAAAGTTTTCGGTCAACCCGGAGTTGAATTGTACGGTCAGCATACTTTGTTAAACAATTCAGCATCGGAGCTTAATGTACAATTACTTGAATGGGTGTATGGAACTGGTCGCATACTTTCGTTGACGGCAGCGAATCAATTAATTCTATGGGAGCCAGTTGGAGCAACGTTGCTGCCAATCAAAACACTACCGTTTGACGGCAAACTTAAAAAAGTTTCATCGCTGTGCTGTTCTCTCAGTAAGGATCTGCTATGGATTGGAACAGAAGGTGGAAACATCTATCAACTGGATTTACATACATTTACCATTAAGGAGCCTGTAATTTACCATGACGTTGTGCTAGAGCAGGTGCCACCAGCCTACAAGCTAAATCCTGGTGCAATTGAGTCAATCCGCCAACTTCCAAACTCCCCTAGCAAACTTCTAGTTGCATACAATCGCGGCCTTTGTGTTTTGTGGGATTTTGAAAGCGCATCTGTCCAGCGAGCATACATAGCCCCTGGACATGGACAGAGCGTTGGTCTTACAGTGAACTTCGAAGGATCTGAATTTACCTGGTACCACGCTGATGGTTCATACGCCACTTGGAGCATAGATAACCCAGAACCGCCGTCGAATGTTAATTATGTGCCTTATGGACCTGATCCATGCAAAAGCATAAATCGACTGTACAAAGGCAAGCGAAG*ATCCAACGATGTAATTGTTTTTTCCGGCGGCATGCCACGGTCAGCATATGGTGATCACAATTGTGTGTCCGTTCACGCCAGCGATGGACACAAAGTGTGTCTTGACTTTACGTCTAAAGTGATTGACTTTTTTGTGACCTTTGAAAATAATAGAGATGTCGCTGAAGTTCTTGTTGTACTACTTGAAGAGGAACTCTGCGCTTACGATCTTACTGACCCTAATATTTGTGCTATCAAAGCGCCATATCTTCACTCTGTCCATGCATCAGCTGTCACTTGCAATTACCTTGCTTCTGAAGTCGTACAGTCGGTATATGAAAGTATTTTAAGAGCTGGAGATGAACAAGACATTGACTATAGCAATATTAGCTGGCCTATCACTGGCGGTACTCTCCCGGATAACTTAGAAGAATCTGTAGAAGAGGACGCGACTAAGCTTTATGAGATTTTGTTAACTGGTCACGAAGATGGTTCTGTTAAATTTTGGGACTGCACTGGAGTGTTGCTTAAACCAATTTATAATTTTAAAACTAGCAGCATTTTTGGAAGTGAGTCAGACTTCCGAGATGACGCAGCTGCAGATATGAGTGCGGAACAAGTCGATGAAGGAGAACCGCCATTTCGGAAATCAGGACTTTTTGATCCTTATTCAGATGACCCTCGTTTAGCAGTGAAGAAAATAGCATTCTGCCCAAAAACCGGACAACTTATTGTTGGTGGCACAGCGGGCCAAATAGTTATAGCCGACTTCATAGACTTACCCGAAAAAGTGTCTTTAAAATACATTTCAATGAATTTGGTCAGCGATCGTGATGGATTTGTGTGGAAGGGTCACGATCAGTTAAACGTGCGATCGAACTTATTAGACGGAGAAGCAATTCCTACGACGGAACGTGGTGTAAATATATCGGGAGTACTGCAAGTTTTGCCGCCAGCCAGCATAACATGCATGGCACTCGAAGCAAGCTGGGGCCTAGTATCTGGTGGGACTGCGCACGGCTTAGTTCTCTTTGACTTCAAAAACTTTGTTCCAGTATTTCATCGCTGCACTTTAAACCCAAATGATCTTACTGGAGCAGGAGAGCAGCTGTCTCGTCGAAAGTCTTTTAAGAAATCATTGAGGGAGTCATTTAGAAAGCTTCGCAAGGGTCGATCGACCAGGACCAACCAGAGCAATCAAGTACCAACAACG*CTGGAAGCAAGACCCGTCGAGAGGCAAATAGAGGCTCGTTGTGCAGATGACGGGCTAGGATCCATGGTGCGATGTTTACTATTTGCCAAAACTTATGTTACTAATG*TCAACATAACGTCGCCAACTTTGTGGTCAGCAACAAATGCCAGTACAGTCTCGGTTTTCCTTCTGCATTTGCCACCAGCGCAGACCGCGGCAACTGCCGTCCCGTCGGCAAGTGGCAATGCACCACCACACATGCCCCGCCGAATTTCTGCGCAGCTTGCTAAAGAAATACAATTAAAACATCGTGCTCCTGTGGTGGGTATTTCTATTTTTGATCAGGCGGGTAGCCCTGTCGATCAGCTGAACGCCGGTGAAAACGGGAGTCCACCGCATCGTGTACTTATTGCTTCCGAGGAACAGTTCAAGGTGTTTTCACTTCCGCAACTAAAGCCGATTAACAAATATAAGCTTACCGCTAACGAAGGTGCTCGGATTCGCCGCATCCATTTTGGTTCGTTTAGTTGTCGCATATCCCCGGAAACACTGCAGAGTATGCACGGTTGTAGCCCAACTAAGTCCACGCGTTCACATGGCGATGGAGAGGCGGATCCTAATATCAGTGGAAGCTTGGCTGTAAGTCGTGGAGATGTATATAACGAAACAGCATTGATATGTTTAACGAATATGGGCGATATCATGGTTTTATCAGTACCTGAATTAAAAAGACAGCTGAATGCCGCAGCAGTGCGACGGGAAGACATTAA*TGGAGTTTCGTCACTTTGCTTTACAAACTCTGGAGAAGCACTGTATATGATGTCTTCTTCTGAACTGCAGCGTATTGCTTTAGCCACGTCCAGAGTCGTGCAACCCACTGGCGTTGTTCCAGTAGAACCATTAGAAAATGAAGAGTCTGTGTTGGAAGAAAATGATGCAGAGAATAATAAGGAAACCTACGCATGTGATGAAGTTGTGAATACATATGAAATTAAAAATCCATCAGGCATTTCAATATGCACAAGGCCTGCAGAGGAAAACGTTGGAAGAAATAGTGTTCAGCAAGTTAATGGAGTCAACATTTCAAATTCACCTAATCAAGCTAACGAGACTATCAGCAGCTCTATTGGCGATATTACCGTTGACTCGGTGCGCGACCATTTAAATATGACGACCACCACTTTGTGTTCTATTAATACAGAGGAAACCATTG*GTCGCCTATCTGTACTTAGCACGCAAACCAACAAAGCCAGTACTACCGTAAACATGAGTGAAATTCCAAATATTAATATTTCTAATTTAGAGGACTTGGAATCGAAAAG*AAATACGACGGAAACGAGTACTAGTTCTGTTGTAATTAAATCTATAATTACAAACATTTCTCATGAAAAAACGAACGGAGACAACAAAATAGGAACGCCAAAAACAGCGCCTGAAGAAAGCCAATTTTAACATTGACAGAAGCCGTAACCTACTAATTATTTTATACCTTTACAGAAATACGACGCAAACGAGTACTAGTCCTGATGTAATTTAATCTATAATTACAAACATGTCTCACTAAAAATCGAACGGGGACAGCAAAATAGGAACGCAAAAAAATTAAATTAAATTAAACGCGATTTACATACAAACAGAAATGACAGAATGATAATATAAAATATTCATTTTTTATTTGGCTTAAGCGATGTTGTTGTTCCAAAACCATATAATTATTTATGATTTTATGTAATGTTTTCATGTATTTTCGCGTAGTGACTTTATACCCTTTACCCGTATGATGAAACGAAACATGATATTTGTAGAAAGGTACAAAGGATAAAAGTTGACATTTAAGGCCGATTGTAAAATATTAAAACGCAACCTGGATAACATGCCGATTAATTACTTCTGTTCGTCCGTATAAACACAAATACCGATAAATTGGTCCGTCCCCATTTAATAAATTGTATATTAAAATGGTCTTTATTTTGGATAAATAATTCAAATTATATAGGAACATTTGGGTTTTAAGGGATAGAAACAGCGCTGGTGTCTTTCATTTCCGTTCGTATGACCGTTCAAAGATTATAAAAAAATTGTCGTGCCCACATTTTTTAAATTTCTTTTATTTTCGGTTAAAATATTGTGATACAAAAAAATGCCCTTACAAAATTAGGACAACAACAATTTGCTTTATTATGATGAACAAATTAGGAGTACAAAAAATAGCCTGATGCAAGGATGGGGAGAAAAAAGACCTTGAAGTTCAAAAGAATTTGTTGTATCAAATCCTCAATAAGAAAACTACTTAAAATTAAAAGCGTGTTTCAAATTAATTGTAGAATATTTCGTAAAATGAAATTGCAAACTTTTTTAGCACGAAATTACATGTATTTAATTCTTTGGCTAATACGTCAGTTAAAAAAGGCTACATTTTGATGATACTCACAAATGTAATTTTTGCATTCTACACAGGTGCAATTAAAAAATTATGGTTTTTATGAGTTTTAGAGGGAAGAAAATATGTCAATATGAGAAGTAAGTTAATGAGCCTTCAAGTACTTTAGTACATAATGTAATTTAATTTTAGAAATCCTACGGCTTTATATTCAATTGTAAAGTATTTTAAAATTCCTGACGATTTGTAGTAATTGTTTTGTTCTTAGCTTTTTTGCATTCTCCTCCGTTACTCCGTTACTCGTATAGTAAAAGGTATAGTATATACAATAGTATTGTAGATTCGTTGAGAAGTATGTTACAGGCAGAAGGAAGCTTTTCCGACCATATAAAGTATATAATTGAGTATTTAGCTTAGGATTATTAATAAAACATGTATTTTATTTAAC</textarea>"
      ],
      "text/plain": [
       "<IPython.core.display.HTML object>"
      ]
     },
     "metadata": {},
     "output_type": "display_data"
    },
    {
     "data": {
      "text/plain": [
       "'tx FBtr0330637, exon 1: dnaseq=CTTTCATAATAATTGCTGATAATTCCGATGCGCTTAGTTGCATGTAAAGTTTTTCTGTGTTGGTATTCGCCATAGCCGCGAAGGACATTCAAGAACTTTAAAAGTAGCGCGTATCCGAAAACGGTATTTGAATAGTTTTGTGGGCTTATATTTTATTTATTCACAATTACGGGCTTTATGTTAACATAAACCTATTGAAATGTCACGTATTGTTTAAAGGCACTTTTTTAATTTGTGGTTTGGTTAAGCCGTATGTGAGCTTTGGCACTATCTTCAACTTATTAGAACTTTTTATTTTCACGATTTCTCGTAAAATCTTCTGACCGGAGCACGACTGTTCACAACGAAAGTATCTGACGGATTGAAAA, rnaseq=TTTTCAATCCGTCAGATACTTTCGTTGTGAACAGTCGTGCTCCGGTCAGAAGATTTTACGAGAAATCGTGAAAATAAAAAGTTCTAATAAGTTGAAGATAGTGCCAAAGCTCACATACGGCTTAACCAAACCACAAATTAAAAAAGTGCCTTTAAACAATACGTGACATTTCAATAGGTTTATGTTAACATAAAGCCCGTAATTGTGAATAAATAAAATATAAGCCCACAAAACTATTCAAATACCGTTTTCGGATACGCGCTACTTTTAAAGTTCTTGAATGTCCTTCGCGGCTATGGCGAATACCAACACAGAAAAACTTTACATGCAACTAAGCGCATCGGAATTATCAGCAATTATTATGAAAG'"
      ]
     },
     "metadata": {},
     "output_type": "display_data"
    },
    {
     "data": {
      "text/markdown": [
       "---"
      ],
      "text/plain": [
       "<IPython.core.display.Markdown object>"
      ]
     },
     "metadata": {},
     "output_type": "display_data"
    }
   ],
   "source": [
    "# Genomic sequences are another example for dynamically calculated annotations. \n",
    "# They must first be loaded for each gene annotation with load_sequence_data() \n",
    "# which is done automatically if 'load_sequence_data=True' is configured.\n",
    "# They can be accessed by the t.get_sequence() method or by <feature>.sequence which calls \n",
    "# get_sequence() with default params.\n",
    "# We demonstrate this by accessing some data of a random transcript of the 'l(2)gl (FBgn0002121)' gene:\n",
    "rand_tx = random.sample(t['l(2)gl'].transcript,1)[0]\n",
    "display(f\"Selected tx: {rand_tx.feature_id}\")\n",
    "display_textarea(f\"DNA sequence of 1st exon: {rand_tx.exon[0].sequence}\")\n",
    "display_textarea(f\"Spliced sequence: {rand_tx.spliced_sequence}\")\n",
    "\n",
    "# SJs can be displayed by calling get_sequence(mode='spliced', show_exon_boundaries=True)\n",
    "display_textarea(f\"Spliced sequence showing SJ ('*'): {t.get_sequence(rand_tx, mode='spliced', show_exon_boundaries=True)}\")\n",
    "\n",
    "# sequences will be reverse complemented for - strand transcripts if mode='rna'\n",
    "# get some random minustrand tx\n",
    "tx=random.sample([tx for tx in t.transcripts if tx.strand=='-'], 1)[0]\n",
    "\n",
    "# show sequence of 1st exon in dna and rna mode (reverse complement as the gene is on the - strand)\n",
    "display(f\"tx {tx.feature_id}, exon 1: dnaseq={t.get_sequence(tx.exon[0], mode='dna')}, rnaseq={t.get_sequence(tx.exon[0], mode='rna')}\", SEP)"
   ]
  },
  {
   "cell_type": "code",
   "execution_count": 9,
   "id": "5ebd281e-d879-4ce3-a277-c540b8ac001b",
   "metadata": {
    "tags": []
   },
   "outputs": [
    {
     "data": {
      "text/html": [
       "<textarea rows='4' cols='120'>Translated sequence of FBtr0330655: ATGTTAAAGTTTATCAGAGGAAAAGGGCAGCAGCCCAGTGCTGACAGACACCGCCTACAGAAGGACCTTTTTGCTTATCGTAAGACGGCACAGCATGGCTTTCCTCATAAGCCTTCGGCTCTTGCGTATGATCCAGTTTTGAAACTTATGGCAATAGGGACGCAAACAGGGGCTTTAAAAGTTTTCGGTCAACCCGGAGTTGAATTGTACGGTCAGCATACTTTGTTAAACAATTCAGCATCGGAGCTTAATGTACAATTACTTGAATGGGTGTATGGAACTGGTCGCATACTTTCGTTGACGGCAGCGAATCAATTAATTCTATGGGAGCCAGTTGGAGCAACGTTGCTGCCAATCAAAACACTACCGTTTGACGGCAAACTTAAAAAAGTTTCATCGCTGTGCTGTTCTCTCAGTAAGGATCTGCTATGGATTGGAACAGAAGGTGGAAACATCTATCAACTGGATTTACATACATTTACCATTAAGGAGCCTGTAATTTACCATGACGTTGTGCTAGAGCAGGTGCCACCAGCCTACAAGCTAAATCCTGGTGCAATTGAGTCAATCCGCCAACTTCCAAACTCCCCTAGCAAACTTCTAGTTGCATACAATCGCGGCCTTTGTGTTTTGTGGGATTTTGAAAGCGCATCTGTCCAGCGAGCATACATAGCCCCTGGACATGGACAGAGCGTTGGTCTTACAGTGAACTTCGAAGGATCTGAATTTACCTGGTACCACGCTGATGGTTCATACGCCACTTGGAGCATAGATAACCCAGAACCGCCGTCGAATGTTAATTATGTGCCTTATGGACCTGATCCATGCAAAAGCATAAATCGACTGTACAAAGGCAAGCGAAGATCCAACGATGTAATTGTTTTTTCCGGCGGCATGCCACGGTCAGCATATGGTGATCACAATTGTGTGTCCGTTCACGCCAGCGATGGACACAAAGTGTGTCTTGACTTTACGTCTAAAGTGATTGACTTTTTTGTGACCTTTGAAAATAATAGAGATGTCGCTGAAGTTCTTGTTGTACTACTTGAAGAGGAACTCTGCGCTTACGATCTTACTGACCCTAATATTTGTGCTATCAAAGCGCCATATCTTCACTCTGTCCATGCATCAGCTGTCACTTGCAATTACCTTGCTTCTGAAGTCGTACAGTCGGTATATGAAAGTATTTTAAGAGCTGGAGATGAACAAGACATTGACTATAGCAATATTAGCTGGCCTATCACTGGCGGTACTCTCCCGGATAACTTAGAAGAATCTGTAGAAGAGGACGCGACTAAGCTTTATGAGATTTTGTTAACTGGTCACGAAGATGGTTCTGTTAAATTTTGGGACTGCACTGGAGTGTTGCTTAAACCAATTTATAATTTTAAAACTAGCAGCATTTTTGGAAGTGAGTCAGACTTCCGAGATGACGCAGCTGCAGATATGAGTGCGGAACAAGTCGATGAAGGAGAACCGCCATTTCGGAAATCAGGACTTTTTGATCCTTATTCAGATGACCCTCGTTTAGCAGTGAAGAAAATAGCATTCTGCCCAAAAACCGGACAACTTATTGTTGGTGGCACAGCGGGCCAAATAGTTATAGCCGACTTCATAGACTTACCCGAAAAAGTGTCTTTAAAATACATTTCAATGAATTTGGTCAGCGATCGTGATGGATTTGTGTGGAAGGGTCACGATCAGTTAAACGTGCGATCGAACTTATTAGACGGAGAAGCAATTCCTACGACGGAACGTGGTGTAAATATATCGGGAGTACTGCAAGTTTTGCCGCCAGCCAGCATAACATGCATGGCACTCGAAGCAAGCTGGGGCCTAGTATCTGGTGGGACTGCGCACGGCTTAGTTCTCTTTGACTTCAAAAACTTTGTTCCAGTATTTCATCGCTGCACTTTAAACCCAAATGATCTTACTGGAGCAGGAGAGCAGCTGTCTCGTCGAAAGTCTTTTAAGAAATCATTGAGGGAGTCATTTAGAAAGCTTCGCAAGGGTCGATCGACCAGGACCAACCAGAGCAATCAAGTACCAACAACGCTGGAAGCAAGACCCGTCGAGAGGCAAATAGAGGCTCGTTGTGCAGATGACGGGCTAGGATCCATGGTGCGATGTTTACTATTTGCCAAAACTTATGTTACTAATGTCAACATAACGTCGCCAACTTTGTGGTCAGCAACAAATGCCAGTACAGTCTCGGTTTTCCTTCTGCATTTGCCACCAGCGCAGACCGCGGCAACTGCCGTCCCGTCGGCAAGTGGCAATGCACCACCACACATGCCCCGCCGAATTTCTGCGCAGCTTGCTAAAGAAATACAATTAAAACATCGTGCTCCTGTGGTGGGTATTTCTATTTTTGATCAGGCGGGTAGCCCTGTCGATCAGCTGAACGCCGGTGAAAACGGGAGTCCACCGCATCGTGTACTTATTGCTTCCGAGGAACAGTTCAAGGTGTTTTCACTTCCGCAACTAAAGCCGATTAACAAATATAAGCTTACCGCTAACGAAGGTGCTCGGATTCGCCGCATCCATTTTGGTTCGTTTAGTTGTCGCATATCCCCGGAAACACTGCAGAGTATGCACGGTTGTAGCCCAACTAAGTCCACGCGTTCACATGGCGATGGAGAGGCGGATCCTAATATCAGTGGAAGCTTGGCTGTAAGTCGTGGAGATGTATATAACGAAACAGCATTGATATGTTTAACGAATATGGGCGATATCATGGTTTTATCAGTACCTGAATTAAAAAGACAGCTGAATGCCGCAGCAGTGCGACGGGAAGACATTAATGGAGTTTCGTCACTTTGCTTTACAAACTCTGGAGAAGCACTGTATATGATGTCTTCTTCTGAACTGCAGCGTATTGCTTTAGCCACGTCCAGAGTCGTGCAACCCACTGGCGTTGTTCCAGTAGAACCATTAGAAAATGAAGAGTCTGTGTTGGAAGAAAATGATGCAGAGAATAATAAGGAAACCTACGCATGTGATGAAGTTGTGAATACATATGAAATTAAAAATCCATCAGGCATTTCAATATGCACAAGGCCTGCAGAGGAAAACGTTGGAAGAAATAGTGTTCAGCAAGTTAATGGAGTCAACATTTCAAATTCACCTAATCAAGCTAACGAGACTATCAGCAGCTCTATTGGCGATATTACCGTTGACTCGGTGCGCGACCATTTAAATATGACGACCACCACTTTGTGTTCTATTAATACAGAGGAAACCATTGAAATACGACGGAAACGAGTACTAGTTCTGTTG</textarea>"
      ],
      "text/plain": [
       "<IPython.core.display.HTML object>"
      ]
     },
     "metadata": {},
     "output_type": "display_data"
    },
    {
     "data": {
      "text/html": [
       "<textarea rows='4' cols='120'>target            0 ------------------------------------------------------------\n",
       "                  0 ------------------------------------------------------------\n",
       "query             0 GCACACTAGACCCACCGATCGCGACTTTGTGTGTGTTAAAATGACGCGCATATCGTTTTG\n",
       "\n",
       "target            0 ------------------------------------------------------------\n",
       "                 60 ------------------------------------------------------------\n",
       "query            60 GGCTAATAATATTGTTCACGTTTTATAAAACAGATACACGGTTAAGCTCTGACCGGTCGT\n",
       "\n",
       "target            0 ------------------------------------------------------------\n",
       "                120 ------------------------------------------------------------\n",
       "query           120 ATTATTATCTGTGTGTTCTTGGTTGACACGTTTATTTCATTTATTCTCATTTAAAGCAAC\n",
       "\n",
       "target            0 ------------------------------------------------------------\n",
       "                180 ------------------------------------------------------------\n",
       "query           180 GATGTGAAGAACAGTGCGGGCGTTTCTCAACATAAGAATACATACAAACTTATGCGTGAT\n",
       "\n",
       "target            0 ------------------------------------------------------------\n",
       "                240 ------------------------------------------------------------\n",
       "query           240 GGTGAGCAAATAAAATAGTTCAAAAAATTACTCGGCCACCGCCTTAACCGTACAAACGGA\n",
       "\n",
       "target            0 ------------------------------------------------------------\n",
       "                300 ------------------------------------------------------------\n",
       "query           300 AATACATAAAGTTTAGAATAAATTCGGCCACAATTAATATACTTATTTATTCATCAAAAC\n",
       "\n",
       "target            0 ------------------------------------------------------------\n",
       "                360 ------------------------------------------------------------\n",
       "query           360 CAAACCACCACAAGAGCATAACCAATCATGTTAAAGTTTATCAGAGGAAAAGGGCAGCAG\n",
       "\n",
       "target            0 ------------------------------------------------------------\n",
       "                420 ------------------------------------------------------------\n",
       "query           420 CCCAGTGCTGACAGACAACGCTACATCGTAAGTTTAGAATAAATACGGCCACAATTAGTA\n",
       "\n",
       "target            0 ------------------------------------------------ATGTTAAAGTTT\n",
       "                480 ------------------------------------------------||||||||||||\n",
       "query           480 TACATATTTATTCATCGAAACCAACCCACCACAAGAGCATAACCAATTATGTTAAAGTTT\n",
       "\n",
       "target           12 ATCAGAGGAAAAGGGCAGCAGCCCAGTGCTGACAGACACCGCCTACAGAAGGACCTTTTT\n",
       "                540 ||||||||||||||||||||||||||||||||||||||||||||||||||||||||||||\n",
       "query           540 ATCAGAGGAAAAGGGCAGCAGCCCAGTGCTGACAGACACCGCCTACAGAAGGACCTTTTT\n",
       "\n",
       "target           72 GCTTATCGTAAGACGGCACAGCATGGCTTTCCTCATAAGCCTTCGGCTCTTGCGTATGAT\n",
       "                600 ||||||||||||||||||||||||||||||||||||||||||||||||||||||||||||\n",
       "query           600 GCTTATCGTAAGACGGCACAGCATGGCTTTCCTCATAAGCCTTCGGCTCTTGCGTATGAT\n",
       "\n",
       "target          132 CCAGTTTTGAAACTTATGGCAATAGGGACGCAAACAGGGGCTTTAAAAGTTTTCGGTCAA\n",
       "                660 ||||||||||||||||||||||||||||||||||||||||||||||||||||||||||||\n",
       "query           660 CCAGTTTTGAAACTTATGGCAATAGGGACGCAAACAGGGGCTTTAAAAGTTTTCGGTCAA\n",
       "\n",
       "target          192 CCCGGAGTTGAATTGTACGGTCAGCATACTTTGTTAAACAATTCAGCATCGGAGCTTAAT\n",
       "                720 ||||||||||||||||||||||||||||||||||||||||||||||||||||||||||||\n",
       "query           720 CCCGGAGTTGAATTGTACGGTCAGCATACTTTGTTAAACAATTCAGCATCGGAGCTTAAT\n",
       "\n",
       "target          252 GTACAATTACTTGAATGGGTGTATGGAACTGGTCGCATACTTTCGTTGACGGCAGCGAAT\n",
       "                780 ||||||||||||||||||||||||||||||||||||||||||||||||||||||||||||\n",
       "query           780 GTACAATTACTTGAATGGGTGTATGGAACTGGTCGCATACTTTCGTTGACGGCAGCGAAT\n",
       "\n",
       "target          312 CAATTAATTCTATGGGAGCCAGTTGGAGCAACGTTGCTGCCAATCAAAACACTACCGTTT\n",
       "                840 ||||||||||||||||||||||||||||||||||||||||||||||||||||||||||||\n",
       "query           840 CAATTAATTCTATGGGAGCCAGTTGGAGCAACGTTGCTGCCAATCAAAACACTACCGTTT\n",
       "\n",
       "target          372 GACGGCAAACTTAAAAAAGTTTCATCGCTGTGCTGTTCTCTCAGTAAGGATCTGCTATGG\n",
       "                900 ||||||||||||||||||||||||||||||||||||||||||||||||||||||||||||\n",
       "query           900 GACGGCAAACTTAAAAAAGTTTCATCGCTGTGCTGTTCTCTCAGTAAGGATCTGCTATGG\n",
       "\n",
       "target          432 ATTGGAACAGAAGGTGGAAACATCTATCAACTGGATTTACATACATTTACCATTAAGGAG\n",
       "                960 ||||||||||||||||||||||||||||||||||||||||||||||||||||||||||||\n",
       "query           960 ATTGGAACAGAAGGTGGAAACATCTATCAACTGGATTTACATACATTTACCATTAAGGAG\n",
       "\n",
       "target          492 CCTGTAATTTACCATGACGTTGTGCTAGAGCAGGTGCCACCAGCCTACAAGCTAAATCCT\n",
       "               1020 ||||||||||||||||||||||||||||||||||||||||||||||||||||||||||||\n",
       "query          1020 CCTGTAATTTACCATGACGTTGTGCTAGAGCAGGTGCCACCAGCCTACAAGCTAAATCCT\n",
       "\n",
       "target          552 GGTGCAATTGAGTCAATCCGCCAACTTCCAAACTCCCCTAGCAAACTTCTAGTTGCATAC\n",
       "               1080 ||||||||||||||||||||||||||||||||||||||||||||||||||||||||||||\n",
       "query          1080 GGTGCAATTGAGTCAATCCGCCAACTTCCAAACTCCCCTAGCAAACTTCTAGTTGCATAC\n",
       "\n",
       "target          612 AATCGCGGCCTTTGTGTTTTGTGGGATTTTGAAAGCGCATCTGTCCAGCGAGCATACATA\n",
       "               1140 ||||||||||||||||||||||||||||||||||||||||||||||||||||||||||||\n",
       "query          1140 AATCGCGGCCTTTGTGTTTTGTGGGATTTTGAAAGCGCATCTGTCCAGCGAGCATACATA\n",
       "\n",
       "target          672 GCCCCTGGACATGGACAGAGCGTTGGTCTTACAGTGAACTTCGAAGGATCTGAATTTACC\n",
       "               1200 ||||||||||||||||||||||||||||||||||||||||||||||||||||||||||||\n",
       "query          1200 GCCCCTGGACATGGACAGAGCGTTGGTCTTACAGTGAACTTCGAAGGATCTGAATTTACC\n",
       "\n",
       "target          732 TGGTACCACGCTGATGGTTCATACGCCACTTGGAGCATAGATAACCCAGAACCGCCGTCG\n",
       "               1260 ||||||||||||||||||||||||||||||||||||||||||||||||||||||||||||\n",
       "query          1260 TGGTACCACGCTGATGGTTCATACGCCACTTGGAGCATAGATAACCCAGAACCGCCGTCG\n",
       "\n",
       "target          792 AATGTTAATTATGTGCCTTATGGACCTGATCCATGCAAAAGCATAAATCGACTGTACAAA\n",
       "               1320 ||||||||||||||||||||||||||||||||||||||||||||||||||||||||||||\n",
       "query          1320 AATGTTAATTATGTGCCTTATGGACCTGATCCATGCAAAAGCATAAATCGACTGTACAAA\n",
       "\n",
       "target          852 GGCAAGCGAAGATCCAACGATGTAATTGTTTTTTCCGGCGGCATGCCACGGTCAGCATAT\n",
       "               1380 ||||||||||||||||||||||||||||||||||||||||||||||||||||||||||||\n",
       "query          1380 GGCAAGCGAAGATCCAACGATGTAATTGTTTTTTCCGGCGGCATGCCACGGTCAGCATAT\n",
       "\n",
       "target          912 GGTGATCACAATTGTGTGTCCGTTCACGCCAGCGATGGACACAAAGTGTGTCTTGACTTT\n",
       "               1440 ||||||||||||||||||||||||||||||||||||||||||||||||||||||||||||\n",
       "query          1440 GGTGATCACAATTGTGTGTCCGTTCACGCCAGCGATGGACACAAAGTGTGTCTTGACTTT\n",
       "\n",
       "target          972 ACGTCTAAAGTGATTGACTTTTTTGTGACCTTTGAAAATAATAGAGATGTCGCTGAAGTT\n",
       "               1500 ||||||||||||||||||||||||||||||||||||||||||||||||||||||||||||\n",
       "query          1500 ACGTCTAAAGTGATTGACTTTTTTGTGACCTTTGAAAATAATAGAGATGTCGCTGAAGTT\n",
       "\n",
       "target         1032 CTTGTTGTACTACTTGAAGAGGAACTCTGCGCTTACGATCTTACTGACCCTAATATTTGT\n",
       "               1560 ||||||||||||||||||||||||||||||||||||||||||||||||||||||||||||\n",
       "query          1560 CTTGTTGTACTACTTGAAGAGGAACTCTGCGCTTACGATCTTACTGACCCTAATATTTGT\n",
       "\n",
       "target         1092 GCTATCAAAGCGCCATATCTTCACTCTGTCCATGCATCAGCTGTCACTTGCAATTACCTT\n",
       "               1620 ||||||||||||||||||||||||||||||||||||||||||||||||||||||||||||\n",
       "query          1620 GCTATCAAAGCGCCATATCTTCACTCTGTCCATGCATCAGCTGTCACTTGCAATTACCTT\n",
       "\n",
       "target         1152 GCTTCTGAAGTCGTACAGTCGGTATATGAAAGTATTTTAAGAGCTGGAGATGAACAAGAC\n",
       "               1680 ||||||||||||||||||||||||||||||||||||||||||||||||||||||||||||\n",
       "query          1680 GCTTCTGAAGTCGTACAGTCGGTATATGAAAGTATTTTAAGAGCTGGAGATGAACAAGAC\n",
       "\n",
       "target         1212 ATTGACTATAGCAATATTAGCTGGCCTATCACTGGCGGTACTCTCCCGGATAACTTAGAA\n",
       "               1740 ||||||||||||||||||||||||||||||||||||||||||||||||||||||||||||\n",
       "query          1740 ATTGACTATAGCAATATTAGCTGGCCTATCACTGGCGGTACTCTCCCGGATAACTTAGAA\n",
       "\n",
       "target         1272 GAATCTGTAGAAGAGGACGCGACTAAGCTTTATGAGATTTTGTTAACTGGTCACGAAGAT\n",
       "               1800 ||||||||||||||||||||||||||||||||||||||||||||||||||||||||||||\n",
       "query          1800 GAATCTGTAGAAGAGGACGCGACTAAGCTTTATGAGATTTTGTTAACTGGTCACGAAGAT\n",
       "\n",
       "target         1332 GGTTCTGTTAAATTTTGGGACTGCACTGGAGTGTTGCTTAAACCAATTTATAATTTTAAA\n",
       "               1860 ||||||||||||||||||||||||||||||||||||||||||||||||||||||||||||\n",
       "query          1860 GGTTCTGTTAAATTTTGGGACTGCACTGGAGTGTTGCTTAAACCAATTTATAATTTTAAA\n",
       "\n",
       "target         1392 ACTAGCAGCATTTTTGGAAGTGAGTCAGACTTCCGAGATGACGCAGCTGCAGATATGAGT\n",
       "               1920 ||||||||||||||||||||||||||||||||||||||||||||||||||||||||||||\n",
       "query          1920 ACTAGCAGCATTTTTGGAAGTGAGTCAGACTTCCGAGATGACGCAGCTGCAGATATGAGT\n",
       "\n",
       "target         1452 GCGGAACAAGTCGATGAAGGAGAACCGCCATTTCGGAAATCAGGACTTTTTGATCCTTAT\n",
       "               1980 ||||||||||||||||||||||||||||||||||||||||||||||||||||||||||||\n",
       "query          1980 GCGGAACAAGTCGATGAAGGAGAACCGCCATTTCGGAAATCAGGACTTTTTGATCCTTAT\n",
       "\n",
       "target         1512 TCAGATGACCCTCGTTTAGCAGTGAAGAAAATAGCATTCTGCCCAAAAACCGGACAACTT\n",
       "               2040 ||||||||||||||||||||||||||||||||||||||||||||||||||||||||||||\n",
       "query          2040 TCAGATGACCCTCGTTTAGCAGTGAAGAAAATAGCATTCTGCCCAAAAACCGGACAACTT\n",
       "\n",
       "target         1572 ATTGTTGGTGGCACAGCGGGCCAAATAGTTATAGCCGACTTCATAGACTTACCCGAAAAA\n",
       "               2100 ||||||||||||||||||||||||||||||||||||||||||||||||||||||||||||\n",
       "query          2100 ATTGTTGGTGGCACAGCGGGCCAAATAGTTATAGCCGACTTCATAGACTTACCCGAAAAA\n",
       "\n",
       "target         1632 GTGTCTTTAAAATACATTTCAATGAATTTGGTCAGCGATCGTGATGGATTTGTGTGGAAG\n",
       "               2160 ||||||||||||||||||||||||||||||||||||||||||||||||||||||||||||\n",
       "query          2160 GTGTCTTTAAAATACATTTCAATGAATTTGGTCAGCGATCGTGATGGATTTGTGTGGAAG\n",
       "\n",
       "target         1692 GGTCACGATCAGTTAAACGTGCGATCGAACTTATTAGACGGAGAAGCAATTCCTACGACG\n",
       "               2220 ||||||||||||||||||||||||||||||||||||||||||||||||||||||||||||\n",
       "query          2220 GGTCACGATCAGTTAAACGTGCGATCGAACTTATTAGACGGAGAAGCAATTCCTACGACG\n",
       "\n",
       "target         1752 GAACGTGGTGTAAATATATCGGGAGTACTGCAAGTTTTGCCGCCAGCCAGCATAACATGC\n",
       "               2280 ||||||||||||||||||||||||||||||||||||||||||||||||||||||||||||\n",
       "query          2280 GAACGTGGTGTAAATATATCGGGAGTACTGCAAGTTTTGCCGCCAGCCAGCATAACATGC\n",
       "\n",
       "target         1812 ATGGCACTCGAAGCAAGCTGGGGCCTAGTATCTGGTGGGACTGCGCACGGCTTAGTTCTC\n",
       "               2340 ||||||||||||||||||||||||||||||||||||||||||||||||||||||||||||\n",
       "query          2340 ATGGCACTCGAAGCAAGCTGGGGCCTAGTATCTGGTGGGACTGCGCACGGCTTAGTTCTC\n",
       "\n",
       "target         1872 TTTGACTTCAAAAACTTTGTTCCAGTATTTCATCGCTGCACTTTAAACCCAAATGATCTT\n",
       "               2400 ||||||||||||||||||||||||||||||||||||||||||||||||||||||||||||\n",
       "query          2400 TTTGACTTCAAAAACTTTGTTCCAGTATTTCATCGCTGCACTTTAAACCCAAATGATCTT\n",
       "\n",
       "target         1932 ACTGGAGCAGGAGAGCAGCTGTCTCGTCGAAAGTCTTTTAAGAAATCATTGAGGGAGTCA\n",
       "               2460 ||||||||||||||||||||||||||||||||||||||||||||||||||||||||||||\n",
       "query          2460 ACTGGAGCAGGAGAGCAGCTGTCTCGTCGAAAGTCTTTTAAGAAATCATTGAGGGAGTCA\n",
       "\n",
       "target         1992 TTTAGAAAGCTTCGCAAGGGTCGATCGACCAGGACCAACCAGAGCAATCAAGTACCAACA\n",
       "               2520 ||||||||||||||||||||||||||||||||||||||||||||||||||||||||||||\n",
       "query          2520 TTTAGAAAGCTTCGCAAGGGTCGATCGACCAGGACCAACCAGAGCAATCAAGTACCAACA\n",
       "\n",
       "target         2052 ACGCTGGAAGCAAGACCCGTCGAGAGGCAAATAGAGGCTCGTTGTGCAGATGACGGGCTA\n",
       "               2580 ||||||||||||||||||||||||||||||||||||||||||||||||||||||||||||\n",
       "query          2580 ACGCTGGAAGCAAGACCCGTCGAGAGGCAAATAGAGGCTCGTTGTGCAGATGACGGGCTA\n",
       "\n",
       "target         2112 GGATCCATGGTGCGATGTTTACTATTTGCCAAAACTTATGTTACTAATGTCAACATAACG\n",
       "               2640 ||||||||||||||||||||||||||||||||||||||||||||||||||||||||||||\n",
       "query          2640 GGATCCATGGTGCGATGTTTACTATTTGCCAAAACTTATGTTACTAATGTCAACATAACG\n",
       "\n",
       "target         2172 TCGCCAACTTTGTGGTCAGCAACAAATGCCAGTACAGTCTCGGTTTTCCTTCTGCATTTG\n",
       "               2700 ||||||||||||||||||||||||||||||||||||||||||||||||||||||||||||\n",
       "query          2700 TCGCCAACTTTGTGGTCAGCAACAAATGCCAGTACAGTCTCGGTTTTCCTTCTGCATTTG\n",
       "\n",
       "target         2232 CCACCAGCGCAGACCGCGGCAACTGCCGTCCCGTCGGCAAGTGGCAATGCACCACCACAC\n",
       "               2760 ||||||||||||||||||||||||||||||||||||||||||||||||||||||||||||\n",
       "query          2760 CCACCAGCGCAGACCGCGGCAACTGCCGTCCCGTCGGCAAGTGGCAATGCACCACCACAC\n",
       "\n",
       "target         2292 ATGCCCCGCCGAATTTCTGCGCAGCTTGCTAAAGAAATACAATTAAAACATCGTGCTCCT\n",
       "               2820 ||||||||||||||||||||||||||||||||||||||||||||||||||||||||||||\n",
       "query          2820 ATGCCCCGCCGAATTTCTGCGCAGCTTGCTAAAGAAATACAATTAAAACATCGTGCTCCT\n",
       "\n",
       "target         2352 GTGGTGGGTATTTCTATTTTTGATCAGGCGGGTAGCCCTGTCGATCAGCTGAACGCCGGT\n",
       "               2880 ||||||||||||||||||||||||||||||||||||||||||||||||||||||||||||\n",
       "query          2880 GTGGTGGGTATTTCTATTTTTGATCAGGCGGGTAGCCCTGTCGATCAGCTGAACGCCGGT\n",
       "\n",
       "target         2412 GAAAACGGGAGTCCACCGCATCGTGTACTTATTGCTTCCGAGGAACAGTTCAAGGTGTTT\n",
       "               2940 ||||||||||||||||||||||||||||||||||||||||||||||||||||||||||||\n",
       "query          2940 GAAAACGGGAGTCCACCGCATCGTGTACTTATTGCTTCCGAGGAACAGTTCAAGGTGTTT\n",
       "\n",
       "target         2472 TCACTTCCGCAACTAAAGCCGATTAACAAATATAAGCTTACCGCTAACGAAGGTGCTCGG\n",
       "               3000 ||||||||||||||||||||||||||||||||||||||||||||||||||||||||||||\n",
       "query          3000 TCACTTCCGCAACTAAAGCCGATTAACAAATATAAGCTTACCGCTAACGAAGGTGCTCGG\n",
       "\n",
       "target         2532 ATTCGCCGCATCCATTTTGGTTCGTTTAGTTGTCGCATATCCCCGGAAACACTGCAGAGT\n",
       "               3060 ||||||||||||||||||||||||||||||||||||||||||||||||||||||||||||\n",
       "query          3060 ATTCGCCGCATCCATTTTGGTTCGTTTAGTTGTCGCATATCCCCGGAAACACTGCAGAGT\n",
       "\n",
       "target         2592 ATGCACGGTTGTAGCCCAACTAAGTCCACGCGTTCACATGGCGATGGAGAGGCGGATCCT\n",
       "               3120 ||||||||||||||||||||||||||||||||||||||||||||||||||||||||||||\n",
       "query          3120 ATGCACGGTTGTAGCCCAACTAAGTCCACGCGTTCACATGGCGATGGAGAGGCGGATCCT\n",
       "\n",
       "target         2652 AATATCAGTGGAAGCTTGGCTGTAAGTCGTGGAGATGTATATAACGAAACAGCATTGATA\n",
       "               3180 ||||||||||||||||||||||||||||||||||||||||||||||||||||||||||||\n",
       "query          3180 AATATCAGTGGAAGCTTGGCTGTAAGTCGTGGAGATGTATATAACGAAACAGCATTGATA\n",
       "\n",
       "target         2712 TGTTTAACGAATATGGGCGATATCATGGTTTTATCAGTACCTGAATTAAAAAGACAGCTG\n",
       "               3240 ||||||||||||||||||||||||||||||||||||||||||||||||||||||||||||\n",
       "query          3240 TGTTTAACGAATATGGGCGATATCATGGTTTTATCAGTACCTGAATTAAAAAGACAGCTG\n",
       "\n",
       "target         2772 AATGCCGCAGCAGTGCGACGGGAAGACATTAATGGAGTTTCGTCACTTTGCTTTACAAAC\n",
       "               3300 ||||||||||||||||||||||||||||||||||||||||||||||||||||||||||||\n",
       "query          3300 AATGCCGCAGCAGTGCGACGGGAAGACATTAATGGAGTTTCGTCACTTTGCTTTACAAAC\n",
       "\n",
       "target         2832 TCTGGAGAAGCACTGTATATGATGTCTTCTTCTGAACTGCAGCGTATTGCTTTAGCCACG\n",
       "               3360 ||||||||||||||||||||||||||||||||||||||||||||||||||||||||||||\n",
       "query          3360 TCTGGAGAAGCACTGTATATGATGTCTTCTTCTGAACTGCAGCGTATTGCTTTAGCCACG\n",
       "\n",
       "target         2892 TCCAGAGTCGTGCAACCCACTGGCGTTGTTCCAGTAGAACCATTAGAAAATGAAGAGTCT\n",
       "               3420 ||||||||||||||||||||||||||||||||||||||||||||||||||||||||||||\n",
       "query          3420 TCCAGAGTCGTGCAACCCACTGGCGTTGTTCCAGTAGAACCATTAGAAAATGAAGAGTCT\n",
       "\n",
       "target         2952 GTGTTGGAAGAAAATGATGCAGAGAATAATAAGGAAACCTACGCATGTGATGAAGTTGTG\n",
       "               3480 ||||||||||||||||||||||||||||||||||||||||||||||||||||||||||||\n",
       "query          3480 GTGTTGGAAGAAAATGATGCAGAGAATAATAAGGAAACCTACGCATGTGATGAAGTTGTG\n",
       "\n",
       "target         3012 AATACATATGAAATTAAAAATCCATCAGGCATTTCAATATGCACAAGGCCTGCAGAGGAA\n",
       "               3540 ||||||||||||||||||||||||||||||||||||||||||||||||||||||||||||\n",
       "query          3540 AATACATATGAAATTAAAAATCCATCAGGCATTTCAATATGCACAAGGCCTGCAGAGGAA\n",
       "\n",
       "target         3072 AACGTTGGAAGAAATAGTGTTCAGCAAGTTAATGGAGTCAACATTTCAAATTCACCTAAT\n",
       "               3600 ||||||||||||||||||||||||||||||||||||||||||||||||||||||||||||\n",
       "query          3600 AACGTTGGAAGAAATAGTGTTCAGCAAGTTAATGGAGTCAACATTTCAAATTCACCTAAT\n",
       "\n",
       "target         3132 CAAGCTAACGAGACTATCAGCAGCTCTATTGGCGATATTACCGTTGACTCGGTGCGCGAC\n",
       "               3660 ||||||||||||||||||||||||||||||||||||||||||||||||||||||||||||\n",
       "query          3660 CAAGCTAACGAGACTATCAGCAGCTCTATTGGCGATATTACCGTTGACTCGGTGCGCGAC\n",
       "\n",
       "target         3192 CATTTAAATATGACGACCACCACTTTGTGTTCTATTAATACAGAGGAAACCATTGAAATA\n",
       "               3720 ||||||||||||||||||||||||||||||||||||||||||||||||||||||||||||\n",
       "query          3720 CATTTAAATATGACGACCACCACTTTGTGTTCTATTAATACAGAGGAAACCATTGAAATA\n",
       "\n",
       "target         3252 CGACGGAAACGAGTACTAGTTCTGTTG---------------------------------\n",
       "               3780 |||||||||||||||||||||||||||---------------------------------\n",
       "query          3780 CGACGGAAACGAGTACTAGTTCTGTTGTAATTAAATCTATAATTACAAACATTTCTCATG\n",
       "\n",
       "target         3279 ------------------------------------------------------------\n",
       "               3840 ------------------------------------------------------------\n",
       "query          3840 AAAAAACGAACGGAGACAACAAAATAGGAACGCCAAAAACAGCGCCTGAAGAAAGCCAAT\n",
       "\n",
       "target         3279 ------------------------------------------------------------\n",
       "               3900 ------------------------------------------------------------\n",
       "query          3900 TTTAACATTGACAGAAGCCGTAACCTACTAATTATTTTATACCTTTACAGAAATACGACG\n",
       "\n",
       "target         3279 ------------------------------------------------------------\n",
       "               3960 ------------------------------------------------------------\n",
       "query          3960 CAAACGAGTACTAGTCCTGATGTAATTTAATCTATAATTACAAACATGTCTCACTAAAAA\n",
       "\n",
       "target         3279 ------------------------------------------------------------\n",
       "               4020 ------------------------------------------------------------\n",
       "query          4020 TCGAACGGGGACAGCAAAATAGGAACGCAAAAAAATTAAATTAAATTAAACGCGATTTAC\n",
       "\n",
       "target         3279 ------------------------------------------------------------\n",
       "               4080 ------------------------------------------------------------\n",
       "query          4080 ATACAAACAGAAATGACAGAATGATAATATAAAATATTCATTTTTTATTTGGCTTAAGCG\n",
       "\n",
       "target         3279 ------------------------------------------------------------\n",
       "               4140 ------------------------------------------------------------\n",
       "query          4140 ATGTTGTTGTTCCAAAACCATATAATTATTTATGATTTTATGTAATGTTTTCATGTATTT\n",
       "\n",
       "target         3279 ------------------------------------------------------------\n",
       "               4200 ------------------------------------------------------------\n",
       "query          4200 TCGCGTAGTGACTTTATACCCTTTACCCGTATGATGAAACGAAACATGATATTTGTAGAA\n",
       "\n",
       "target         3279 ------------------------------------------------------------\n",
       "               4260 ------------------------------------------------------------\n",
       "query          4260 AGGTACAAAGGATAAAAGTTGACATTTAAGGCCGATTGTAAAATATTAAAACGCAACCTG\n",
       "\n",
       "target         3279 ------------------------------------------------------------\n",
       "               4320 ------------------------------------------------------------\n",
       "query          4320 GATAACATGCCGATTAATTACTTCTGTTCGTCCGTATAAACACAAATACCGATAAATTGG\n",
       "\n",
       "target         3279 ------------------------------------------------------------\n",
       "               4380 ------------------------------------------------------------\n",
       "query          4380 TCCGTCCCCATTTAATAAATTGTATATTAAAATGGTCTTTATTTTGGATAAATAATTCAA\n",
       "\n",
       "target         3279 ------------------------------------------------------------\n",
       "               4440 ------------------------------------------------------------\n",
       "query          4440 ATTATATAGGAACATTTGGGTTTTAAGGGATAGAAACAGCGCTGGTGTCTTTCATTTCCG\n",
       "\n",
       "target         3279 ------------------------------------------------------------\n",
       "               4500 ------------------------------------------------------------\n",
       "query          4500 TTCGTATGACCGTTCAAAGATTATAAAAAAATTGTCGTGCCCACATTTTTTAAATTTCTT\n",
       "\n",
       "target         3279 ------------------------------------------------------------\n",
       "               4560 ------------------------------------------------------------\n",
       "query          4560 TTATTTTCGGTTAAAATATTGTGATACAAAAAAATGCCCTTACAAAATTAGGACAACAAC\n",
       "\n",
       "target         3279 ------------------------------------------------------------\n",
       "               4620 ------------------------------------------------------------\n",
       "query          4620 AATTTGCTTTATTATGATGAACAAATTAGGAGTACAAAAAATAGCCTGATGCAAGGATGG\n",
       "\n",
       "target         3279 ------------------------------------------------------------\n",
       "               4680 ------------------------------------------------------------\n",
       "query          4680 GGAGAAAAAAGACCTTGAAGTTCAAAAGAATTTGTTGTATCAAATCCTCAATAAGAAAAC\n",
       "\n",
       "target         3279 ------------------------------------------------------------\n",
       "               4740 ------------------------------------------------------------\n",
       "query          4740 TACTTAAAATTAAAAGCGTGTTTCAAATTAATTGTAGAATATTTCGTAAAATGAAATTGC\n",
       "\n",
       "target         3279 ------------------------------------------------------------\n",
       "               4800 ------------------------------------------------------------\n",
       "query          4800 AAACTTTTTTAGCACGAAATTACATGTATTTAATTCTTTGGCTAATACGTCAGTTAAAAA\n",
       "\n",
       "target         3279 ------------------------------------------------------------\n",
       "               4860 ------------------------------------------------------------\n",
       "query          4860 AGGCTACATTTTGATGATACTCACAAATGTAATTTTTGCATTCTACACAGGTGCAATTAA\n",
       "\n",
       "target         3279 ------------------------------------------------------------\n",
       "               4920 ------------------------------------------------------------\n",
       "query          4920 AAAATTATGGTTTTTATGAGTTTTAGAGGGAAGAAAATATGTCAATATGAGAAGTAAGTT\n",
       "\n",
       "target         3279 ------------------------------------------------------------\n",
       "               4980 ------------------------------------------------------------\n",
       "query          4980 AATGAGCCTTCAAGTACTTTAGTACATAATGTAATTTAATTTTAGAAATCCTACGGCTTT\n",
       "\n",
       "target         3279 ------------------------------------------------------------\n",
       "               5040 ------------------------------------------------------------\n",
       "query          5040 ATATTCAATTGTAAAGTATTTTAAAATTCCTGACGATTTGTAGTAATTGTTTTGTTCTTA\n",
       "\n",
       "target         3279 ------------------------------------------------------------\n",
       "               5100 ------------------------------------------------------------\n",
       "query          5100 GCTTTTTTGCATTCTCCTCCGTTACTCCGTTACTCGTATAGTAAAAGGTATAGTATATAC\n",
       "\n",
       "target         3279 ------------------------------------------------------------\n",
       "               5160 ------------------------------------------------------------\n",
       "query          5160 AATAGTATTGTAGATTCGTTGAGAAGTATGTTACAGGCAGAAGGAAGCTTTTCCGACCAT\n",
       "\n",
       "target         3279 ------------------------------------------------------------\n",
       "               5220 ------------------------------------------------------------\n",
       "query          5220 ATAAAGTATATAATTGAGTATTTAGCTTAGGATTATTAATAAAACATGTATTTTATTTAA\n",
       "\n",
       "target         3279 - 3279\n",
       "               5280 - 5281\n",
       "query          5280 C 5281\n",
       "</textarea>"
      ],
      "text/plain": [
       "<IPython.core.display.HTML object>"
      ]
     },
     "metadata": {},
     "output_type": "display_data"
    },
    {
     "data": {
      "text/html": [
       "<textarea rows='4' cols='120'>Amino acid sequence of FBtr0078164:     MLKFIRGKGQQPSADRHRLQKDLFAYRKTAQHGFPHKPSALAYDPVLKLMAIGTQTGALKVFGQPGVELYGQHTLLNNSASELNVQLLEWVYGTGRILSLTAANQLILWEPVGATLLPIKTLPFDGKLKKVSSLCCSLSKDLLWIGTEGGNIYQLDLHTFTIKEPVIYHDVVLEQVPPAYKLNPGAIESIRQLPNSPSKLLVAYNRGLCVLWDFESASVQRAYIAPGHGQSVGLTVNFEGSEFTWYHADGSYATWSIDNPEPPSNVNYVPYGPDPCKSINRLYKGKRRSNDVIVFSGGMPRSAYGDHNCVSVHASDGHKVCLDFTSKVIDFFVTFENNRDVAEVLVVLLEEELCAYDLTDPNICAIKAPYLHSVHASAVTCNYLASEVVQSVYESILRAGDEQDIDYSNISWPITGGTLPDNLEESVEEDATKLYEILLTGHEDGSVKFWDCTGVLLKPIYNFKTSSIFGSESDFRDDAAADMSAEQVDEGEPPFRKSGLFDPYSDDPRLAVKKIAFCPKTGQLIVGGTAGQIVIADFIDLPEKVSLKYISMNLVSDRDGFVWKGHDQLNVRSNLLDGEAIPTTERGVNISGVLQVLPPASITCMALEASWGLVSGGTAHGLVLFDFKNFVPVFHRCTLNPNDLTGAGEQLSRRKSFKKSLRESFRKLRKGRSTRTNQSNQVPTTLEARPVERQIEARCADDGLGSMVRCLLFAKTYVTNVNITSPTLWSATNASTVSVFLLHLPPAQTAATAVPSASGNAPPHMPRRISAQLAKEIQLKHRAPVVGISIFDQAGSPVDQLNAGENGSPPHRVLIASEEQFKVFSLPQLKPINKYKLTANEGARIRRIHFGSFSCRISPETLQSMHGCSPTKSTRSHGDGEADPNISGSLAVSRGDVYNETALICLTNMGDIMVLSVPELKRQLNAAAVRREDINGVSSLCFTNSGEALYMMSSSELQRIALATSRVVQPTGVVPVEPLENEESVLEENDAENNKETYACDEVVNTYEIKNPSGISICTRPAEENVGRNSVQQVNGVNISNSPNQANETISSSIGDITVDSVRDHLNMTTTTLCSINTEETIEIRRKRVLVLL</textarea>"
      ],
      "text/plain": [
       "<IPython.core.display.HTML object>"
      ]
     },
     "metadata": {},
     "output_type": "display_data"
    }
   ],
   "source": [
    "# The transcriptome implementation also supports (annotated) CDS annotations. \n",
    "# Users can directly access the translated sequence:\n",
    "display_textarea(f\"Translated sequence of FBtr0330655: {t.transcript['FBtr0330655'].translated_sequence}\")\n",
    "\n",
    "# align spliced (including 5'/3' UTRs) and translated sequence using biopython\n",
    "display_textarea(next(PairwiseAligner(mode='global', open_gap_score=-3).align(\n",
    "        t.transcript['FBtr0330655'].translated_sequence, \n",
    "        t.transcript['FBtr0330655'].spliced_sequence)))\n",
    "    \n",
    "# translate with biotite\n",
    "display_textarea(f\"Amino acid sequence of FBtr0078164: \\\n",
    "    {seq.NucleotideSequence(t.transcript['FBtr0330655'].translated_sequence).translate(complete=True)}\")"
   ]
  },
  {
   "cell_type": "markdown",
   "id": "c78d9d92-3f63-48ad-bbf6-100c3a67aeff",
   "metadata": {},
   "source": [
    "Exact kmer search in sequences can be performed by standard python methods"
   ]
  },
  {
   "cell_type": "code",
   "execution_count": 10,
   "id": "07e0fc8a-5ec9-4000-a0e2-1a419f90d383",
   "metadata": {
    "tags": []
   },
   "outputs": [
    {
     "data": {
      "text/plain": [
       "\"Genes containing ATGC kmer in one of their (spliced) tx: {'dbr', 'asRNA:CR43609', 'Zir', 'lncRNA:CR46254', 'galectin', 'net', 'lncRNA:CR45340', 'CG11374', 'Cda5', 'lncRNA:CR45339', 'Ir21a', 'CR11023', 'l(2)gl', 'asRNA:CR44987'}\""
      ]
     },
     "metadata": {},
     "output_type": "display_data"
    },
    {
     "data": {
      "text/markdown": [
       "---"
      ],
      "text/plain": [
       "<IPython.core.display.Markdown object>"
      ]
     },
     "metadata": {},
     "output_type": "display_data"
    },
    {
     "data": {
      "text/plain": [
       "\"Genes containing ATGC kmer in a long (>1kb) intron: {'net', 'Cda5', 'galectin', 'l(2)gl'}\""
      ]
     },
     "metadata": {},
     "output_type": "display_data"
    },
    {
     "data": {
      "text/markdown": [
       "---"
      ],
      "text/plain": [
       "<IPython.core.display.Markdown object>"
      ]
     },
     "metadata": {},
     "output_type": "display_data"
    }
   ],
   "source": [
    "# list all gene names where the kmer is found in one of the (spliced) transcripts\n",
    "display(f\"Genes containing ATGC kmer in one of their (spliced) tx: { { tx.parent.gene_name for tx in t.transcripts if 'ATGC' in tx.spliced_sequence }}\", SEP)\n",
    "\n",
    "# list all gene names where the kmer is found in one of its transcripts introns considering only long (>1kb) introns\n",
    "display(f\"Genes containing ATGC kmer in a long (>1kb) intron: { { tx.parent.gene_name for tx in t.transcripts for intron in tx.intron if len(intron)>1000 and 'ATGC' in intron.sequence}}\", SEP)"
   ]
  },
  {
   "cell_type": "markdown",
   "id": "b5716575-f662-454e-a9c4-75c279115bb8",
   "metadata": {},
   "source": [
    "### Querying\n",
    "Transcriptome features can be efficiently queried via python list comprehension or \n",
    "via interval-tree based range queries.\n",
    "    \n",
    "In the following example, we demonstrate both approaches:"
   ]
  },
  {
   "cell_type": "code",
   "execution_count": 42,
   "id": "3db73c29-b1dd-4ade-ae8f-1e058e6a3a29",
   "metadata": {},
   "outputs": [
    {
     "data": {
      "text/plain": [
       "{'Cda5', 'l(2)gl', 'net'}"
      ]
     },
     "execution_count": 42,
     "metadata": {},
     "output_type": "execute_result"
    }
   ],
   "source": [
    "# find all minus strand genes with transcripts that have >=2 exons and at least one long (>1kb) intron via list comprehension\n",
    "{tx.parent.gene_name for tx in t.transcripts if tx.strand=='-' and len(tx.exon)>=2 and any([len(i)>1000 for i in tx.intron])}"
   ]
  },
  {
   "cell_type": "markdown",
   "id": "fdcf0328-d9d9-4f70-afb7-fee14a426268",
   "metadata": {},
   "source": [
    "#### Range queries\n",
    "\n",
    "Efficient range queries are implemented by prefiltering the data using per-chromosome [intervaltrees](https://github.com/chaimleib/intervaltree). \n",
    "The respective interval trees are built automatically by the transcriptome class and can be queried via the `query()` method which is demonstrated below.\n"
   ]
  },
  {
   "cell_type": "code",
   "execution_count": 43,
   "id": "dfaab7f1-1481-4f5c-8ccc-02a923afc530",
   "metadata": {
    "tags": []
   },
   "outputs": [
    {
     "data": {
      "text/plain": [
       "\"Genes where an exon overlaps with 2L:10000-20000:     {'l(2)gl'}\""
      ]
     },
     "metadata": {},
     "output_type": "display_data"
    },
    {
     "data": {
      "text/markdown": [
       "---"
      ],
      "text/plain": [
       "<IPython.core.display.Markdown object>"
      ]
     },
     "metadata": {},
     "output_type": "display_data"
    },
    {
     "data": {
      "text/plain": [
       "\"Genes of all transcripts that overlap with gene 'l(2)gl':     {'l(2)gl'}\""
      ]
     },
     "metadata": {},
     "output_type": "display_data"
    },
    {
     "data": {
      "text/markdown": [
       "---"
      ],
      "text/plain": [
       "<IPython.core.display.Markdown object>"
      ]
     },
     "metadata": {},
     "output_type": "display_data"
    },
    {
     "data": {
      "text/plain": [
       "\"Genes near 'l(2)gl': ['CR11023', 'l(2)gl', 'Ir21a', 'asRNA:CR43609']\""
      ]
     },
     "metadata": {},
     "output_type": "display_data"
    },
    {
     "data": {
      "text/markdown": [
       "---"
      ],
      "text/plain": [
       "<IPython.core.display.Markdown object>"
      ]
     },
     "metadata": {},
     "output_type": "display_data"
    },
    {
     "data": {
      "text/plain": [
       "\"Genes contained in a +/- 3kb window around 'l(2)gl':     ['CR11023', 'l(2)gl', 'asRNA:CR43609']\""
      ]
     },
     "metadata": {},
     "output_type": "display_data"
    },
    {
     "data": {
      "text/markdown": [
       "---"
      ],
      "text/plain": [
       "<IPython.core.display.Markdown object>"
      ]
     },
     "metadata": {},
     "output_type": "display_data"
    },
    {
     "data": {
      "text/plain": [
       "\"Genes at 2L:20000: ['FBgn0002121']\""
      ]
     },
     "metadata": {},
     "output_type": "display_data"
    }
   ],
   "source": [
    "# Efficient range queries are implemented by intervaltrees:\n",
    "display(f\"Genes where an exon overlaps with 2L:10000-20000: \\\n",
    "    { {ex.parent.parent.gene_name for ex in t.query('2L:10000-20000', 'exon')}}\", SEP) \n",
    "\n",
    "# Query all transcripts that overlap with the 'l(2)gl' gene and create a set with their gene names.\n",
    "l2gl=t.gene['l(2)gl'] # note that each transcriptome feature is also a genomic interval and can be queried\n",
    "display(f\"Genes of all transcripts that overlap with gene 'l(2)gl': \\\n",
    "    {set(tx.parent.gene_name for tx in t.query(l2gl, 'transcript'))}\", SEP) \n",
    "\n",
    "# report a coordinate-sorted list of genes in a 3kb window around l(2)gl:\n",
    "display(f\"Genes near 'l(2)gl': { [g.gene_name for g in t.query(l2gl.get_extended(3000), 'gene')]}\", SEP)\n",
    "\n",
    "# envelop queries are also supported:\n",
    "display(f\"Genes contained in a +/- 3kb window around 'l(2)gl': \\\n",
    "    { [g.gene_name for g in t.query(l2gl.get_extended(3000), 'gene', envelop=True)]}\", SEP)\n",
    "\n",
    "# Direct access to the interval trees is possible via the chr2itree attribute. Here, we query intervals\n",
    "# at position 2L:20000. The respective gene object can be accessed via the data slot.\n",
    "display(f\"Genes at 2L:20000: {[x.data.feature_id for x in t.chr2itree['2L'].at(20000)]}\")"
   ]
  },
  {
   "cell_type": "markdown",
   "id": "1b314ed9-1dc4-499b-a645-1125f7c86a76",
   "metadata": {
    "tags": []
   },
   "source": [
    "#### Accessing up/downstream genes\n",
    "The gene_triples() method yields genes and their neighbouring (up-/downstream) within a given maximum distance:"
   ]
  },
  {
   "cell_type": "code",
   "execution_count": 44,
   "id": "cd8a08ef-b739-4f22-9fb1-e10c7d082ccc",
   "metadata": {
    "tags": []
   },
   "outputs": [
    {
     "data": {
      "text/plain": [
       "[(None, 'CR11023', 'l(2)gl'),\n",
       " ('CR11023', 'l(2)gl', 'Ir21a'),\n",
       " ('l(2)gl', 'Ir21a', 'asRNA:CR43609'),\n",
       " ('Ir21a', 'asRNA:CR43609', 'Cda5'),\n",
       " ('asRNA:CR43609', 'Cda5', 'lncRNA:CR46254'),\n",
       " ('Cda5', 'lncRNA:CR46254', None),\n",
       " (None, 'lncRNA:CR45339', 'lncRNA:CR45340'),\n",
       " ('lncRNA:CR45339', 'lncRNA:CR45340', 'dbr'),\n",
       " ('lncRNA:CR45340', 'dbr', 'asRNA:CR44987'),\n",
       " ('dbr', 'asRNA:CR44987', 'galectin')]"
      ]
     },
     "metadata": {},
     "output_type": "display_data"
    },
    {
     "data": {
      "text/plain": [
       "'Distance between lncRNA:CR46254 and lncRNA:CR45339: 10232'"
      ]
     },
     "metadata": {},
     "output_type": "display_data"
    }
   ],
   "source": [
    "# iterate genes and their up/downstream genes within a given max distance. Show only first 10 entries.\n",
    "def get_name(x):\n",
    "    return None if x is None else x.gene_name\n",
    "display([(get_name(x),get_name(y),get_name(z)) for x, y, z in t.gene_triples(max_dist=10000)][:10])\n",
    "\n",
    "# Note that the distance between lncRNA:CR46254 and lncRNA:CR45339 is > 10kb\n",
    "display(f\"Distance between lncRNA:CR46254 and lncRNA:CR45339: {t['lncRNA:CR46254'].distance(t['lncRNA:CR45339'])}\")"
   ]
  },
  {
   "cell_type": "markdown",
   "id": "04e2dbe4-458f-47dd-9edf-fe30ae35cccf",
   "metadata": {},
   "source": [
    "#### Accessing 3'-ends\n",
    "The calc_3end() method returns a list of genomic interval(s) containing the last <width> bases\n",
    "of a passed transcript."
   ]
  },
  {
   "cell_type": "code",
   "execution_count": 45,
   "id": "b9597159-9842-4e1f-a53f-768fe329443a",
   "metadata": {
    "tags": []
   },
   "outputs": [
    {
     "data": {
      "text/plain": [
       "{'CR11023': {'FBtr0475186': [2L:8485-9484 (+)]},\n",
       " 'l(2)gl': {'FBtr0306591': [2L:9839-10838 (-)],\n",
       "  'FBtr0078169': [2L:9839-10838 (-)],\n",
       "  'FBtr0078168': [2L:9839-10838 (-)],\n",
       "  'FBtr0078170': [2L:9839-10838 (-)],\n",
       "  'FBtr0306592': [2L:9839-10838 (-)],\n",
       "  'FBtr0306590': [2L:9839-10838 (-)],\n",
       "  'FBtr0078167': [2L:9839-10838 (-)],\n",
       "  'FBtr0330655': [2L:9839-10838 (-)],\n",
       "  'FBtr0078171': [2L:9839-10838 (-)],\n",
       "  'FBtr0078166': [2L:9839-10838 (-)],\n",
       "  'FBtr0306589': [2L:9839-10838 (-)]},\n",
       " 'Ir21a': {'FBtr0113008': [2L:21823-22687 (-), 2L:22743-22877 (-)]},\n",
       " 'asRNA:CR43609': {'FBtr0309810': [2L:23238-24237 (+)]},\n",
       " 'Cda5': {'FBtr0309227': [2L:25402-26401 (-)],\n",
       "  'FBtr0309228': [2L:25402-26401 (-)],\n",
       "  'FBtr0309226': [2L:25402-26401 (-)],\n",
       "  'FBtr0309229': [2L:25402-26401 (-)],\n",
       "  'FBtr0078163': [2L:25402-26401 (-)],\n",
       "  'FBtr0078164': [2L:25402-26401 (-)],\n",
       "  'FBtr0113416': [2L:25402-26401 (-)],\n",
       "  'FBtr0309225': [2L:25402-26401 (-)]},\n",
       " 'lncRNA:CR46254': {'FBtr0347585': None},\n",
       " 'lncRNA:CR45339': {'FBtr0345732': None},\n",
       " 'lncRNA:CR45340': {'FBtr0345733': None},\n",
       " 'dbr': {'FBtr0306539': [2L:70607-71390 (+), 2L:70334-70549 (+)],\n",
       "  'FBtr0306536': [2L:70607-71081 (+), 2L:70025-70549 (+)],\n",
       "  'FBtr0306538': [2L:70607-71081 (+), 2L:70025-70549 (+)],\n",
       "  'FBtr0306537': [2L:70607-71390 (+), 2L:70334-70549 (+)],\n",
       "  'FBtr0078100': [2L:70607-71390 (+), 2L:70334-70549 (+)]},\n",
       " 'asRNA:CR44987': {'FBtr0344053': [2L:71039-72038 (-)],\n",
       "  'FBtr0344052': [2L:71039-72038 (-)]},\n",
       " 'galectin': {'FBtr0306540': [2L:75212-76211 (+)],\n",
       "  'FBtr0078101': [2L:75212-76211 (+)],\n",
       "  'FBtr0302164': [2L:75212-76211 (+)],\n",
       "  'FBtr0331680': [2L:75212-76211 (+)],\n",
       "  'FBtr0301733': [2L:75212-76211 (+)]},\n",
       " 'CG11374': {'FBtr0306541': [2L:77642-77783 (+), 2L:76726-77583 (+)]},\n",
       " 'net': {'FBtr0330637': [2L:82984-83983 (-)],\n",
       "  'FBtr0290323': [2L:82421-83420 (-)]},\n",
       " 'Zir': {'FBtr0078103': [2L:99785-100516 (+), 2L:99456-99723 (+)]}}"
      ]
     },
     "metadata": {},
     "output_type": "display_data"
    }
   ],
   "source": [
    "# Create a dict of genes and their unique 1000bp 3'UTR intervals per tx (multiple intervals if spliced); \n",
    "# note that for, e.g., Ir21a/FBtr0113008 2 intervals are reported as the 1000bp UTR overlaps a splice junction\n",
    "display({g.gene_name: {tx.feature_id:rna.calc_3end(tx, width=1000) for tx in g.transcript} for g in t.genes})"
   ]
  },
  {
   "cell_type": "markdown",
   "id": "7116befa-db0d-4d9d-8a73-3245cb3e1dae",
   "metadata": {
    "tags": []
   },
   "source": [
    "#### Accessing up-/downstream windows\n",
    "Here we iterate all transcripts and calculate a downstream (3') genomic window and its dna sequence. \n",
    "For demonstration purposes, we show only the first three 3'-end bases.\n",
    "(NOTE: For adding 5'-end windows, just use 'upstream' as window_type)"
   ]
  },
  {
   "cell_type": "code",
   "execution_count": 46,
   "id": "f935c39b-d1e7-4c85-a708-e1ea00850df0",
   "metadata": {
    "tags": []
   },
   "outputs": [
    {
     "data": {
      "application/vnd.jupyter.widget-view+json": {
       "model_id": "c9e0b6a21cb54008bf2d34a3decc26ed",
       "version_major": 2,
       "version_minor": 0
      },
      "text/plain": [
       "Load downstream window sequences:   0%|          | 0/41 [00:00<?, ?it/s]"
      ]
     },
     "metadata": {},
     "output_type": "display_data"
    },
    {
     "data": {
      "text/plain": [
       "'downstream: CR11023,FBtr0475186, 2L:9485-9487 (+), AAA'"
      ]
     },
     "metadata": {},
     "output_type": "display_data"
    },
    {
     "data": {
      "text/plain": [
       "'downstream: l(2)gl,FBtr0078170, 2L:9836-9838 (-), TTT'"
      ]
     },
     "metadata": {},
     "output_type": "display_data"
    },
    {
     "data": {
      "text/plain": [
       "'downstream: l(2)gl,FBtr0078171, 2L:9836-9838 (-), TTT'"
      ]
     },
     "metadata": {},
     "output_type": "display_data"
    },
    {
     "data": {
      "text/plain": [
       "'downstream: l(2)gl,FBtr0306591, 2L:9836-9838 (-), TTT'"
      ]
     },
     "metadata": {},
     "output_type": "display_data"
    },
    {
     "data": {
      "text/plain": [
       "'downstream: l(2)gl,FBtr0078169, 2L:9836-9838 (-), TTT'"
      ]
     },
     "metadata": {},
     "output_type": "display_data"
    },
    {
     "data": {
      "text/plain": [
       "'downstream: l(2)gl,FBtr0078168, 2L:9836-9838 (-), TTT'"
      ]
     },
     "metadata": {},
     "output_type": "display_data"
    },
    {
     "data": {
      "text/plain": [
       "'downstream: l(2)gl,FBtr0306592, 2L:9836-9838 (-), TTT'"
      ]
     },
     "metadata": {},
     "output_type": "display_data"
    },
    {
     "data": {
      "text/plain": [
       "'downstream: l(2)gl,FBtr0306590, 2L:9836-9838 (-), TTT'"
      ]
     },
     "metadata": {},
     "output_type": "display_data"
    },
    {
     "data": {
      "text/plain": [
       "'downstream: l(2)gl,FBtr0078167, 2L:9836-9838 (-), TTT'"
      ]
     },
     "metadata": {},
     "output_type": "display_data"
    },
    {
     "data": {
      "text/plain": [
       "'downstream: l(2)gl,FBtr0330655, 2L:9836-9838 (-), TTT'"
      ]
     },
     "metadata": {},
     "output_type": "display_data"
    },
    {
     "data": {
      "text/plain": [
       "'downstream: l(2)gl,FBtr0078166, 2L:9836-9838 (-), TTT'"
      ]
     },
     "metadata": {},
     "output_type": "display_data"
    },
    {
     "data": {
      "text/plain": [
       "'downstream: l(2)gl,FBtr0306589, 2L:9836-9838 (-), TTT'"
      ]
     },
     "metadata": {},
     "output_type": "display_data"
    },
    {
     "data": {
      "text/plain": [
       "'downstream: Ir21a,FBtr0113008, 2L:21820-21822 (-), TGT'"
      ]
     },
     "metadata": {},
     "output_type": "display_data"
    },
    {
     "data": {
      "text/plain": [
       "'downstream: asRNA:CR43609,FBtr0309810, 2L:24238-24240 (+), ACC'"
      ]
     },
     "metadata": {},
     "output_type": "display_data"
    },
    {
     "data": {
      "text/plain": [
       "'downstream: Cda5,FBtr0309227, 2L:25399-25401 (-), ATT'"
      ]
     },
     "metadata": {},
     "output_type": "display_data"
    },
    {
     "data": {
      "text/plain": [
       "'downstream: Cda5,FBtr0309228, 2L:25399-25401 (-), ATT'"
      ]
     },
     "metadata": {},
     "output_type": "display_data"
    },
    {
     "data": {
      "text/plain": [
       "'downstream: Cda5,FBtr0309229, 2L:25399-25401 (-), ATT'"
      ]
     },
     "metadata": {},
     "output_type": "display_data"
    },
    {
     "data": {
      "text/plain": [
       "'downstream: Cda5,FBtr0078163, 2L:25399-25401 (-), ATT'"
      ]
     },
     "metadata": {},
     "output_type": "display_data"
    },
    {
     "data": {
      "text/plain": [
       "'downstream: Cda5,FBtr0078164, 2L:25399-25401 (-), ATT'"
      ]
     },
     "metadata": {},
     "output_type": "display_data"
    },
    {
     "data": {
      "text/plain": [
       "'downstream: Cda5,FBtr0113416, 2L:25399-25401 (-), ATT'"
      ]
     },
     "metadata": {},
     "output_type": "display_data"
    },
    {
     "data": {
      "text/plain": [
       "'downstream: Cda5,FBtr0309225, 2L:25399-25401 (-), ATT'"
      ]
     },
     "metadata": {},
     "output_type": "display_data"
    },
    {
     "data": {
      "text/plain": [
       "'downstream: Cda5,FBtr0309226, 2L:25399-25401 (-), ATT'"
      ]
     },
     "metadata": {},
     "output_type": "display_data"
    },
    {
     "data": {
      "text/plain": [
       "'downstream: lncRNA:CR46254,FBtr0347585, 2L:55768-55770 (+), AAA'"
      ]
     },
     "metadata": {},
     "output_type": "display_data"
    },
    {
     "data": {
      "text/plain": [
       "'downstream: lncRNA:CR45339,FBtr0345732, 2L:66243-66245 (+), TAC'"
      ]
     },
     "metadata": {},
     "output_type": "display_data"
    },
    {
     "data": {
      "text/plain": [
       "'downstream: lncRNA:CR45340,FBtr0345733, 2L:66525-66527 (+), CAA'"
      ]
     },
     "metadata": {},
     "output_type": "display_data"
    },
    {
     "data": {
      "text/plain": [
       "'downstream: dbr,FBtr0306539, 2L:71391-71393 (+), AAC'"
      ]
     },
     "metadata": {},
     "output_type": "display_data"
    },
    {
     "data": {
      "text/plain": [
       "'downstream: dbr,FBtr0306536, 2L:71082-71084 (+), AAT'"
      ]
     },
     "metadata": {},
     "output_type": "display_data"
    },
    {
     "data": {
      "text/plain": [
       "'downstream: dbr,FBtr0306538, 2L:71082-71084 (+), AAT'"
      ]
     },
     "metadata": {},
     "output_type": "display_data"
    },
    {
     "data": {
      "text/plain": [
       "'downstream: dbr,FBtr0306537, 2L:71391-71393 (+), AAC'"
      ]
     },
     "metadata": {},
     "output_type": "display_data"
    },
    {
     "data": {
      "text/plain": [
       "'downstream: dbr,FBtr0078100, 2L:71391-71393 (+), AAC'"
      ]
     },
     "metadata": {},
     "output_type": "display_data"
    },
    {
     "data": {
      "text/plain": [
       "'downstream: asRNA:CR44987,FBtr0344053, 2L:71036-71038 (-), TTT'"
      ]
     },
     "metadata": {},
     "output_type": "display_data"
    },
    {
     "data": {
      "text/plain": [
       "'downstream: asRNA:CR44987,FBtr0344052, 2L:71036-71038 (-), TTT'"
      ]
     },
     "metadata": {},
     "output_type": "display_data"
    },
    {
     "data": {
      "text/plain": [
       "'downstream: galectin,FBtr0306540, 2L:76212-76214 (+), ATT'"
      ]
     },
     "metadata": {},
     "output_type": "display_data"
    },
    {
     "data": {
      "text/plain": [
       "'downstream: galectin,FBtr0078101, 2L:76212-76214 (+), ATT'"
      ]
     },
     "metadata": {},
     "output_type": "display_data"
    },
    {
     "data": {
      "text/plain": [
       "'downstream: galectin,FBtr0302164, 2L:76212-76214 (+), ATT'"
      ]
     },
     "metadata": {},
     "output_type": "display_data"
    },
    {
     "data": {
      "text/plain": [
       "'downstream: galectin,FBtr0331680, 2L:76212-76214 (+), ATT'"
      ]
     },
     "metadata": {},
     "output_type": "display_data"
    },
    {
     "data": {
      "text/plain": [
       "'downstream: galectin,FBtr0301733, 2L:76212-76214 (+), ATT'"
      ]
     },
     "metadata": {},
     "output_type": "display_data"
    },
    {
     "data": {
      "text/plain": [
       "'downstream: CG11374,FBtr0306541, 2L:77784-77786 (+), AAT'"
      ]
     },
     "metadata": {},
     "output_type": "display_data"
    },
    {
     "data": {
      "text/plain": [
       "'downstream: net,FBtr0290323, 2L:82418-82420 (-), CCT'"
      ]
     },
     "metadata": {},
     "output_type": "display_data"
    },
    {
     "data": {
      "text/plain": [
       "'downstream: net,FBtr0330637, 2L:82981-82983 (-), ATT'"
      ]
     },
     "metadata": {},
     "output_type": "display_data"
    },
    {
     "data": {
      "text/plain": [
       "'downstream: Zir,FBtr0078103, 2L:102087-102089 (+), AAA'"
      ]
     },
     "metadata": {},
     "output_type": "display_data"
    }
   ],
   "source": [
    "window_type='downstream'\n",
    "ws=3\n",
    "# NOTE that if you use a sliced genome sequence, you have to correct coordinates using the respective 'genome_offsets' \n",
    "# values. We have added the respective code here although this example works with a full dmel genome sequence.\n",
    "with pysam.Fastafile(t.genome_fa) as fasta:\n",
    "    for tx in tqdm(t.transcripts, desc=f'Load {window_type} window sequences', total=len(t.transcripts)):\n",
    "        strand = tx.strand\n",
    "        assert strand is not None, f\"Undefined strand for tx {tx}\"\n",
    "        loc = tx.get_upstream(ws) if window_type == 'upstream' else tx.get_downstream(ws)  # get up/downstream windows of given size\n",
    "        dna_seq=''\n",
    "        s = loc.start - t.genome_offsets.get(loc.chromosome, 1) \n",
    "        if s<0: # Pad with N's if required\n",
    "            dna_seq='N'*(-s)\n",
    "            s=0\n",
    "        e = loc.end - t.genome_offsets.get(loc.chromosome, 1) + 1\n",
    "        dna_seq+=fasta.fetch(reference=loc.chromosome,start=s,end=e) # get sequence from FASTA\n",
    "        display(f\"{window_type}: {tx.parent.gene_name},{tx.feature_id}, {loc}, {dna_seq}\")"
   ]
  },
  {
   "cell_type": "markdown",
   "id": "cb681a0c-342c-46c1-9487-e441ac8cfc67",
   "metadata": {
    "tags": []
   },
   "source": [
    "### Feature Annotation\n",
    "\n",
    "A transcriptome manages an `anno` dict that maps annotation features (e.g., an exon) to a dict containing arbitray annotations.\n",
    "Annotations can be added manually or by using the `transcriptome.annotate()` method that implements a generic method to add feature-based annotations based on rnalib's [`AnnotationIterator`](#AnnotationIterator). The following section demonstrates some use cases:"
   ]
  },
  {
   "cell_type": "code",
   "execution_count": 47,
   "id": "6a911370-0c34-48b3-bce6-c3e3114568eb",
   "metadata": {
    "tags": []
   },
   "outputs": [
    {
     "data": {
      "application/vnd.jupyter.widget-view+json": {
       "model_id": "8a8d800d51184d4eaea7173e8e9e7a26",
       "version_major": 2,
       "version_minor": 0
      },
      "text/plain": [
       "Building transcriptome (2 chromosomes)\n",
       ":   0%|          | 0/2 [00:00<?, ?it/s]"
      ]
     },
     "metadata": {},
     "output_type": "display_data"
    },
    {
     "data": {
      "application/vnd.jupyter.widget-view+json": {
       "model_id": "2051887cb3534b75b92a578501b1ddd9",
       "version_major": 2,
       "version_minor": 0
      },
      "text/plain": [
       "Load sequences:   0%|          | 0/5 [00:00<?, ?it/s]"
      ]
     },
     "metadata": {},
     "output_type": "display_data"
    },
    {
     "data": {
      "application/vnd.jupyter.widget-view+json": {
       "model_id": "772c09213b2a4898889ed8c1e10ccbc4",
       "version_major": 2,
       "version_minor": 0
      },
      "text/plain": [
       "Build interval trees:   0%|          | 0/5 [00:00<?, ?it/s]"
      ]
     },
     "metadata": {},
     "output_type": "display_data"
    },
    {
     "data": {
      "text/plain": [
       "Transcriptome with 5 genes and 89 tx (+seq)"
      ]
     },
     "metadata": {},
     "output_type": "display_data"
    }
   ],
   "source": [
    "# First, let's instantiate a small transcriptome that contains only a few human genes (near ACTB and SOX2) \n",
    "t=rna.Transcriptome(\n",
    "    genome_fa=rna.get_resource('ACTB+SOX2_genome'),       # reference genome FASTA\n",
    "    genome_offsets= {'chr3': 181711825, 'chr7': 5526309}, # This is a sliced reference sequence. To match the gencode annotations we provide respective offset coordinates for the 2 chroms\n",
    "    annotation_gff=rna.get_resource('gencode_gff'),       # gene annotation GFF\n",
    "    annotation_flavour='gencode',                         # this is a gencode flavoured GFF\n",
    "    load_sequence_data=True                               # load gene sequences from reference genome)\n",
    ")\n",
    "display(t)"
   ]
  },
  {
   "cell_type": "code",
   "execution_count": 50,
   "id": "0dbf1626-a0f3-4987-9aa3-1bef5b7ab57a",
   "metadata": {
    "tags": []
   },
   "outputs": [
    {
     "data": {
      "application/vnd.jupyter.widget-view+json": {
       "model_id": "f806305508264ea082ddd05d59cce40a",
       "version_major": 2,
       "version_minor": 0
      },
      "text/plain": [
       "  0%|          | 0/2 [00:00<?, ?it/s]"
      ]
     },
     "metadata": {},
     "output_type": "display_data"
    },
    {
     "data": {
      "text/markdown": [
       "---"
      ],
      "text/plain": [
       "<IPython.core.display.Markdown object>"
      ]
     },
     "metadata": {},
     "output_type": "display_data"
    },
    {
     "data": {
      "text/plain": [
       "'Mappability for a random ACTB transcript:'"
      ]
     },
     "metadata": {},
     "output_type": "display_data"
    },
    {
     "data": {
      "text/plain": [
       "[(1, 'ENST00000473257.3_exon_4', 0.9753950617283951),\n",
       " (2, 'ENST00000473257.3_exon_3', 0.28020416666666664),\n",
       " (3, 'ENST00000473257.3_exon_2', 0.0),\n",
       " (4, 'ENST00000473257.3_exon_1', 0.0),\n",
       " (5, 'ENST00000473257.3_exon_0', 0.0)]"
      ]
     },
     "metadata": {},
     "output_type": "display_data"
    },
    {
     "data": {
      "text/markdown": [
       "---"
      ],
      "text/plain": [
       "<IPython.core.display.Markdown object>"
      ]
     },
     "metadata": {},
     "output_type": "display_data"
    },
    {
     "data": {
      "text/plain": [
       "'Some annotated values:'"
      ]
     },
     "metadata": {},
     "output_type": "display_data"
    },
    {
     "data": {
      "text/plain": [
       "'exon mappability value: 0.9702537313432836'"
      ]
     },
     "metadata": {},
     "output_type": "display_data"
    },
    {
     "data": {
      "text/plain": [
       "'gene mappability value: None'"
      ]
     },
     "metadata": {},
     "output_type": "display_data"
    },
    {
     "data": {
      "text/html": [
       "<textarea rows='4' cols='120'>exon sequence: CTGGCGGCGGGTGTGGACGGGCGGCGGATCGGCAAAGGCGAGGCTCTGTGCTCGCGGGGCGGACGCG</textarea>"
      ],
      "text/plain": [
       "<IPython.core.display.HTML object>"
      ]
     },
     "metadata": {},
     "output_type": "display_data"
    },
    {
     "data": {
      "text/markdown": [
       "---"
      ],
      "text/plain": [
       "<IPython.core.display.Markdown object>"
      ]
     },
     "metadata": {},
     "output_type": "display_data"
    },
    {
     "data": {
      "text/plain": [
       "\"Dataframe representation, filtered for gene_type=='protein_coding' & mappability>0\""
      ]
     },
     "metadata": {},
     "output_type": "display_data"
    },
    {
     "data": {
      "text/html": [
       "<div>\n",
       "<style scoped>\n",
       "    .dataframe tbody tr th:only-of-type {\n",
       "        vertical-align: middle;\n",
       "    }\n",
       "\n",
       "    .dataframe tbody tr th {\n",
       "        vertical-align: top;\n",
       "    }\n",
       "\n",
       "    .dataframe thead th {\n",
       "        text-align: right;\n",
       "    }\n",
       "</style>\n",
       "<table border=\"1\" class=\"dataframe\">\n",
       "  <thead>\n",
       "    <tr style=\"text-align: right;\">\n",
       "      <th></th>\n",
       "      <th>Chromosome</th>\n",
       "      <th>Start</th>\n",
       "      <th>End</th>\n",
       "      <th>Strand</th>\n",
       "      <th>feature_id</th>\n",
       "      <th>feature_type</th>\n",
       "      <th>mappability</th>\n",
       "      <th>source</th>\n",
       "      <th>gff_feature_type</th>\n",
       "      <th>gene_name</th>\n",
       "      <th>gene_type</th>\n",
       "    </tr>\n",
       "  </thead>\n",
       "  <tbody>\n",
       "    <tr>\n",
       "      <th>119</th>\n",
       "      <td>chr7</td>\n",
       "      <td>5527784</td>\n",
       "      <td>5529570</td>\n",
       "      <td>-</td>\n",
       "      <td>ENST00000676319.1_intron_0</td>\n",
       "      <td>intron</td>\n",
       "      <td>0.373112</td>\n",
       "      <td>HAVANA</td>\n",
       "      <td>exon</td>\n",
       "      <td>None</td>\n",
       "      <td>protein_coding</td>\n",
       "    </tr>\n",
       "    <tr>\n",
       "      <th>203</th>\n",
       "      <td>chr7</td>\n",
       "      <td>5528281</td>\n",
       "      <td>5529059</td>\n",
       "      <td>-</td>\n",
       "      <td>ENST00000477812.2_exon_2</td>\n",
       "      <td>exon</td>\n",
       "      <td>0.432606</td>\n",
       "      <td>HAVANA</td>\n",
       "      <td>exon</td>\n",
       "      <td>None</td>\n",
       "      <td>protein_coding</td>\n",
       "    </tr>\n",
       "    <tr>\n",
       "      <th>204</th>\n",
       "      <td>chr7</td>\n",
       "      <td>5528281</td>\n",
       "      <td>5529400</td>\n",
       "      <td>-</td>\n",
       "      <td>ENST00000462494.5_exon_2</td>\n",
       "      <td>exon</td>\n",
       "      <td>0.451115</td>\n",
       "      <td>HAVANA</td>\n",
       "      <td>exon</td>\n",
       "      <td>None</td>\n",
       "      <td>protein_coding</td>\n",
       "    </tr>\n",
       "    <tr>\n",
       "      <th>206</th>\n",
       "      <td>chr7</td>\n",
       "      <td>5528672</td>\n",
       "      <td>5529160</td>\n",
       "      <td>-</td>\n",
       "      <td>ENST00000645576.1_intron_1</td>\n",
       "      <td>intron</td>\n",
       "      <td>0.895706</td>\n",
       "      <td>HAVANA</td>\n",
       "      <td>exon</td>\n",
       "      <td>None</td>\n",
       "      <td>protein_coding</td>\n",
       "    </tr>\n",
       "    <tr>\n",
       "      <th>207</th>\n",
       "      <td>chr7</td>\n",
       "      <td>5528708</td>\n",
       "      <td>5529149</td>\n",
       "      <td>-</td>\n",
       "      <td>ENST00000676189.1_intron_2</td>\n",
       "      <td>intron</td>\n",
       "      <td>0.966063</td>\n",
       "      <td>HAVANA</td>\n",
       "      <td>exon</td>\n",
       "      <td>None</td>\n",
       "      <td>protein_coding</td>\n",
       "    </tr>\n",
       "    <tr>\n",
       "      <th>...</th>\n",
       "      <td>...</td>\n",
       "      <td>...</td>\n",
       "      <td>...</td>\n",
       "      <td>...</td>\n",
       "      <td>...</td>\n",
       "      <td>...</td>\n",
       "      <td>...</td>\n",
       "      <td>...</td>\n",
       "      <td>...</td>\n",
       "      <td>...</td>\n",
       "      <td>...</td>\n",
       "    </tr>\n",
       "    <tr>\n",
       "      <th>369</th>\n",
       "      <td>chr7</td>\n",
       "      <td>5530524</td>\n",
       "      <td>5530604</td>\n",
       "      <td>-</td>\n",
       "      <td>ENST00000676319.1_exon_2</td>\n",
       "      <td>exon</td>\n",
       "      <td>0.975395</td>\n",
       "      <td>HAVANA</td>\n",
       "      <td>exon</td>\n",
       "      <td>None</td>\n",
       "      <td>protein_coding</td>\n",
       "    </tr>\n",
       "    <tr>\n",
       "      <th>371</th>\n",
       "      <td>chr7</td>\n",
       "      <td>5530524</td>\n",
       "      <td>5530604</td>\n",
       "      <td>-</td>\n",
       "      <td>ENST00000676189.1_exon_5</td>\n",
       "      <td>exon</td>\n",
       "      <td>0.975395</td>\n",
       "      <td>HAVANA</td>\n",
       "      <td>exon</td>\n",
       "      <td>None</td>\n",
       "      <td>protein_coding</td>\n",
       "    </tr>\n",
       "    <tr>\n",
       "      <th>373</th>\n",
       "      <td>chr7</td>\n",
       "      <td>5530524</td>\n",
       "      <td>5530604</td>\n",
       "      <td>-</td>\n",
       "      <td>ENST00000473257.3_exon_4</td>\n",
       "      <td>exon</td>\n",
       "      <td>0.975395</td>\n",
       "      <td>HAVANA</td>\n",
       "      <td>exon</td>\n",
       "      <td>None</td>\n",
       "      <td>protein_coding</td>\n",
       "    </tr>\n",
       "    <tr>\n",
       "      <th>375</th>\n",
       "      <td>chr7</td>\n",
       "      <td>5530524</td>\n",
       "      <td>5530627</td>\n",
       "      <td>-</td>\n",
       "      <td>ENST00000432588.6_exon_4</td>\n",
       "      <td>exon</td>\n",
       "      <td>0.980837</td>\n",
       "      <td>HAVANA</td>\n",
       "      <td>exon</td>\n",
       "      <td>None</td>\n",
       "      <td>protein_coding</td>\n",
       "    </tr>\n",
       "    <tr>\n",
       "      <th>377</th>\n",
       "      <td>chr7</td>\n",
       "      <td>5530542</td>\n",
       "      <td>5530601</td>\n",
       "      <td>-</td>\n",
       "      <td>ENST00000674681.1_exon_5</td>\n",
       "      <td>exon</td>\n",
       "      <td>0.988233</td>\n",
       "      <td>HAVANA</td>\n",
       "      <td>exon</td>\n",
       "      <td>None</td>\n",
       "      <td>protein_coding</td>\n",
       "    </tr>\n",
       "  </tbody>\n",
       "</table>\n",
       "<p>110 rows × 11 columns</p>\n",
       "</div>"
      ],
      "text/plain": [
       "    Chromosome    Start      End Strand                  feature_id  \\\n",
       "119       chr7  5527784  5529570      -  ENST00000676319.1_intron_0   \n",
       "203       chr7  5528281  5529059      -    ENST00000477812.2_exon_2   \n",
       "204       chr7  5528281  5529400      -    ENST00000462494.5_exon_2   \n",
       "206       chr7  5528672  5529160      -  ENST00000645576.1_intron_1   \n",
       "207       chr7  5528708  5529149      -  ENST00000676189.1_intron_2   \n",
       "..         ...      ...      ...    ...                         ...   \n",
       "369       chr7  5530524  5530604      -    ENST00000676319.1_exon_2   \n",
       "371       chr7  5530524  5530604      -    ENST00000676189.1_exon_5   \n",
       "373       chr7  5530524  5530604      -    ENST00000473257.3_exon_4   \n",
       "375       chr7  5530524  5530627      -    ENST00000432588.6_exon_4   \n",
       "377       chr7  5530542  5530601      -    ENST00000674681.1_exon_5   \n",
       "\n",
       "    feature_type  mappability  source gff_feature_type gene_name  \\\n",
       "119       intron     0.373112  HAVANA             exon      None   \n",
       "203         exon     0.432606  HAVANA             exon      None   \n",
       "204         exon     0.451115  HAVANA             exon      None   \n",
       "206       intron     0.895706  HAVANA             exon      None   \n",
       "207       intron     0.966063  HAVANA             exon      None   \n",
       "..           ...          ...     ...              ...       ...   \n",
       "369         exon     0.975395  HAVANA             exon      None   \n",
       "371         exon     0.975395  HAVANA             exon      None   \n",
       "373         exon     0.975395  HAVANA             exon      None   \n",
       "375         exon     0.980837  HAVANA             exon      None   \n",
       "377         exon     0.988233  HAVANA             exon      None   \n",
       "\n",
       "          gene_type  \n",
       "119  protein_coding  \n",
       "203  protein_coding  \n",
       "204  protein_coding  \n",
       "206  protein_coding  \n",
       "207  protein_coding  \n",
       "..              ...  \n",
       "369  protein_coding  \n",
       "371  protein_coding  \n",
       "373  protein_coding  \n",
       "375  protein_coding  \n",
       "377  protein_coding  \n",
       "\n",
       "[110 rows x 11 columns]"
      ]
     },
     "metadata": {},
     "output_type": "display_data"
    },
    {
     "data": {
      "text/markdown": [
       "---"
      ],
      "text/plain": [
       "<IPython.core.display.Markdown object>"
      ]
     },
     "metadata": {},
     "output_type": "display_data"
    },
    {
     "data": {
      "image/png": "[encoded data removed]",
      "text/plain": [
       "<Figure size 2000x300 with 1 Axes>"
      ]
     },
     "metadata": {},
     "output_type": "display_data"
    }
   ],
   "source": [
    "# Now, lets annotate exons and introns with mappability scores that are read from a bedgraph file.\n",
    "# We first create a method for calculating the mean mappability for an annotation based on the scores of\n",
    "# all overlapping intervals from the bedgraph file.\n",
    "def calc_mean(item, label='mappability'):\n",
    "    loc, (anno, scores) = item\n",
    "    anno[label]=sum([score*loc.overlap(sloc) for sloc,score in scores])/len(loc)\n",
    "    return calc_mean\n",
    "\n",
    "# now we can call the annotate method, tell it to get the scores from a bedgraph iterator and\n",
    "# to annotate only exons + introns. Note that this test bedgraph file covers only ~half of ACTB,\n",
    "# (use a genome  browser like IGV to confirm this). So the mappability of the uncovered regions will \n",
    "# be set to zero.\n",
    "t.annotate(iterators=rna.BedGraphIterator(rna.get_resource('human_umap_k24')),\n",
    "           fun_anno=calc_mean,\n",
    "           feature_types=['exon', 'intron'])\n",
    "\n",
    "# Now, lets show the mappability values for exons and introns of one random transcript \n",
    "rnd_tx = random.sample(t.gene['ACTB'].transcript, 1)[0]\n",
    "display(SEP, \"Mappability for a random ACTB transcript:\", [(f.rnk, f.feature_id, f.mappability) for f in rnd_tx.exon])\n",
    "# Note that it would be more efficient to annotate genes with mappability score arrays and then calculate mean/median mappability\n",
    "# for each feature by slicing these arrays (as done, e.g., for sequences) but this is omitted here for the sake of simplicity\n",
    "\n",
    "\n",
    "# use get/getattr to provide sensible default values for missing data:\n",
    "display(SEP, \"Some annotated values:\")\n",
    "display(f\"exon mappability value: {t.transcript['ENST00000477812.2'].exon[0].get('mappability',None)}\") # show some mappability value\n",
    "display(f\"gene mappability value: {t.gene['ACTB'].get('mappability',None)}\") # only exons/introns were annotated above\n",
    "display_textarea(f\"exon sequence: {t.transcript['ENST00000477812.2'].exon[0].get('sequence',None)}\") # here, the sequence is sliced from the parent gene\n",
    "\n",
    "# We can also convert results to a dataframe (but note that we lose the parent/child relationships here).\n",
    "df = rna.TranscriptomeIterator(t).to_dataframe()\n",
    "# let's use the pandas query method to show features from protein_coding genes with non-zero mappability...\n",
    "display(SEP, \"Dataframe representation, filtered for gene_type=='protein_coding' & mappability>0\", df.query('gene_type==\"protein_coding\" & mappability>0'),SEP)\n",
    "# ...and plot the overall mappability distribution...\n",
    "_ = df['mappability'].plot(kind='hist', title='mappability histogram')"
   ]
  },
  {
   "cell_type": "markdown",
   "id": "0159fe67-cc93-428b-acb2-a47a47cac59f",
   "metadata": {},
   "source": [
    "#### Example: Calculate number of overlapping features\n",
    "In this example, we calculate the number of overlapping introns per exon."
   ]
  },
  {
   "cell_type": "code",
   "execution_count": 18,
   "id": "d10d594c-4c4a-4f02-a8b3-db6cbd1a67c3",
   "metadata": {
    "tags": []
   },
   "outputs": [
    {
     "data": {
      "application/vnd.jupyter.widget-view+json": {
       "model_id": "dd7650d4396d4fbb9042ecd83903df1e",
       "version_major": 2,
       "version_minor": 0
      },
      "text/plain": [
       "  0%|          | 0/2 [00:00<?, ?it/s]"
      ]
     },
     "metadata": {},
     "output_type": "display_data"
    },
    {
     "data": {
      "text/plain": [
       "\"Example exon@chr7:5529067-5529663 with 33 overlapping introns: {'ENST00000443528.5_intron_0', 'ENST00000432588.6_intron_1', 'ENST00000417101.2_intron_0', 'ENST00000425660.5_intron_4', 'ENST00000642480.2_intron_2', 'ENST00000646664.1_intron_2', 'ENST00000675515.1_intron_2', 'ENST00000645576.1_intron_1', 'ENST00000462494.5_intron_2', 'ENST00000676397.1_intron_3', 'ENST00000645025.1_intron_0', 'ENST00000674681.1_intron_3', 'ENST00000646664.1_intron_3', 'ENST00000645025.1_intron_1', 'ENST00000493945.6_intron_2', 'ENST00000484841.6_intron_1', 'ENST00000674681.1_intron_2', 'ENST00000425660.5_intron_3', 'ENST00000645576.1_intron_2', 'ENST00000473257.3_intron_3', 'ENST00000484841.6_intron_2', 'ENST00000676189.1_intron_2', 'ENST00000675515.1_intron_3', 'ENST00000676189.1_intron_3', 'ENST00000473257.3_intron_2', 'ENST00000493945.6_intron_3', 'ENST00000676397.1_intron_2', 'ENST00000477812.2_intron_2', 'ENST00000642480.2_intron_3', 'ENST00000676319.1_intron_0', 'ENST00000432588.6_intron_2', 'ENST00000414620.1_intron_0', 'ENST00000647275.1_intron_1'}, tids: {'ENST00000676189.1', 'ENST00000676397.1', 'ENST00000414620.1', 'ENST00000676319.1', 'ENST00000425660.5', 'ENST00000473257.3', 'ENST00000645576.1', 'ENST00000443528.5', 'ENST00000642480.2', 'ENST00000417101.2', 'ENST00000646664.1', 'ENST00000484841.6', 'ENST00000462494.5', 'ENST00000674681.1', 'ENST00000647275.1', 'ENST00000675515.1', 'ENST00000645025.1', 'ENST00000493945.6', 'ENST00000477812.2', 'ENST00000432588.6'}\""
      ]
     },
     "metadata": {},
     "output_type": "display_data"
    },
    {
     "data": {
      "image/png": "[encoded data removed]",
      "text/plain": [
       "<Figure size 640x480 with 1 Axes>"
      ]
     },
     "metadata": {},
     "output_type": "display_data"
    }
   ],
   "source": [
    "# Here we calculate the number of overlapping introns per exon.\n",
    "def count_anno(item):\n",
    "    loc, (anno, overlapping) = item\n",
    "    # Here we simply count the number of overlapping intron annotations but we could also group\n",
    "    # by tx or gene, etc.\n",
    "    anno['n_overlapping_introns']=len(overlapping)\n",
    "    anno['overlapping_introns']=overlapping\n",
    "\n",
    "# now we can call the annotate method for all exons of this transcriptome and tell it to \n",
    "# annotate with all introns of this transcriptome. In the passed annotation method (count_anno) we \n",
    "# simply count the number of overlapping annotations (introns).\n",
    "# Its easy to check in IGV (loading the GFF3 file) whether the numbers are correct.\n",
    "t.clear_annotations() # make sure to remove previously added annotations\n",
    "t.annotate(iterators=t.iterator(feature_types=['intron']),\n",
    "           fun_anno=count_anno,\n",
    "           feature_types=['exon'])\n",
    "\n",
    "# Here we create a histogram ...\n",
    "intron_hist=Counter()\n",
    "for ex,_ in t.iterator(feature_types=['exon']):\n",
    "    intron_hist[ex.n_overlapping_introns]+=1\n",
    "\n",
    "# ... and plot it\n",
    "x, y = zip(*intron_hist.items())\n",
    "_=plt.bar(x,y)\n",
    "plt.xlabel(\"# overlapping introns\")\n",
    "plt.ylabel(\"n\")\n",
    "_=plt.suptitle(\"Number of overlapping intron annotations\")\n",
    "\n",
    "# Here we show one example with max number of overlapping introns\n",
    "# NOTE that there can be multiple introns per transcript that overlap with a given exon.\n",
    "for ex,info in rna.TranscriptomeIterator(t,feature_types=['exon']):\n",
    "    if info.get('n_overlapping_introns', 0)==max(intron_hist):\n",
    "        tids = {i.parent.feature_id for i,_ in info['overlapping_introns']}\n",
    "        display(f\"Example {ex} with {info['n_overlapping_introns']} overlapping introns: { {i.feature_id for i,_ in info['overlapping_introns']} }, tids: {tids}\")\n",
    "        break    "
   ]
  },
  {
   "cell_type": "markdown",
   "id": "abd903e5-474b-420e-8a38-031e835d1add",
   "metadata": {},
   "source": [
    "### Conversion to a dataframe\n",
    "Finally, we want to convert the data to a dataframe for further analysis with pandas and pandas-based libraries (e.g., bioframe as demonstrated below).\n",
    "\n",
    "The to_dataframe() method supports the flexible construction of such dataframes.\n",
    "Here, we first create a simple dataframe containing all intron intervals and all annotated data."
   ]
  },
  {
   "cell_type": "code",
   "execution_count": null,
   "id": "767c6cd0-db65-4be7-8c70-6418dd33c89c",
   "metadata": {},
   "outputs": [],
   "source": [
    "# Create a df of all intron annotations\n",
    "df = t.iterator(feature_types='intron').to_dataframe()\n",
    "df.head()"
   ]
  },
  {
   "cell_type": "markdown",
   "id": "b819031c-a480-49b1-8b15-44d5c6c91a6e",
   "metadata": {},
   "source": [
    "Now, we convert to pandas dataframe with a custom conversion function that adds one column containig the feature length and another containing \n",
    "the respective gene name. We iterate over all exons and add custom data columns to the created dataframe:\n",
    "* it retrieves the 'gene_name' via the transcriptome model.\n",
    "* it calculates a 'feature length' from the exon interval\n",
    "* it converts the previously annotated 'overlapping_introns' list to a comma-separated string\n",
    " \n",
    "Finally, we add the new columns to the dataframe and drop some other columns we do not need. We also use bioframe-compatible column names for genomic coordinates which enables direct post-processing with the bioframe library."
   ]
  },
  {
   "cell_type": "code",
   "execution_count": 51,
   "id": "3f438d79-6285-4565-aaae-3c6b72822f38",
   "metadata": {
    "tags": []
   },
   "outputs": [
    {
     "data": {
      "text/html": [
       "<div>\n",
       "<style scoped>\n",
       "    .dataframe tbody tr th:only-of-type {\n",
       "        vertical-align: middle;\n",
       "    }\n",
       "\n",
       "    .dataframe tbody tr th {\n",
       "        vertical-align: top;\n",
       "    }\n",
       "\n",
       "    .dataframe thead th {\n",
       "        text-align: right;\n",
       "    }\n",
       "</style>\n",
       "<table border=\"1\" class=\"dataframe\">\n",
       "  <thead>\n",
       "    <tr style=\"text-align: right;\">\n",
       "      <th></th>\n",
       "      <th>chrom</th>\n",
       "      <th>start</th>\n",
       "      <th>end</th>\n",
       "      <th>strand</th>\n",
       "      <th>feature_type</th>\n",
       "      <th>mappability</th>\n",
       "      <th>gene_name</th>\n",
       "      <th>gene_type</th>\n",
       "      <th>feature_len</th>\n",
       "    </tr>\n",
       "  </thead>\n",
       "  <tbody>\n",
       "    <tr>\n",
       "      <th>0</th>\n",
       "      <td>chr3</td>\n",
       "      <td>181711925</td>\n",
       "      <td>181714436</td>\n",
       "      <td>+</td>\n",
       "      <td>exon</td>\n",
       "      <td>0.0</td>\n",
       "      <td>SOX2</td>\n",
       "      <td>protein_coding</td>\n",
       "      <td>2512</td>\n",
       "    </tr>\n",
       "    <tr>\n",
       "      <th>1</th>\n",
       "      <td>chr7</td>\n",
       "      <td>5526409</td>\n",
       "      <td>5527891</td>\n",
       "      <td>-</td>\n",
       "      <td>exon</td>\n",
       "      <td>0.0</td>\n",
       "      <td>ACTB</td>\n",
       "      <td>protein_coding</td>\n",
       "      <td>1483</td>\n",
       "    </tr>\n",
       "    <tr>\n",
       "      <th>2</th>\n",
       "      <td>chr7</td>\n",
       "      <td>5527147</td>\n",
       "      <td>5527783</td>\n",
       "      <td>-</td>\n",
       "      <td>exon</td>\n",
       "      <td>0.0</td>\n",
       "      <td>ACTB</td>\n",
       "      <td>protein_coding</td>\n",
       "      <td>637</td>\n",
       "    </tr>\n",
       "  </tbody>\n",
       "</table>\n",
       "</div>"
      ],
      "text/plain": [
       "  chrom      start        end strand feature_type  mappability gene_name  \\\n",
       "0  chr3  181711925  181714436      +         exon          0.0      SOX2   \n",
       "1  chr7    5526409    5527891      -         exon          0.0      ACTB   \n",
       "2  chr7    5527147    5527783      -         exon          0.0      ACTB   \n",
       "\n",
       "        gene_type  feature_len  \n",
       "0  protein_coding         2512  \n",
       "1  protein_coding         1483  \n",
       "2  protein_coding          637  "
      ]
     },
     "execution_count": 51,
     "metadata": {},
     "output_type": "execute_result"
    }
   ],
   "source": [
    "# Convert to pandas dataframe with a custom conversion function:\n",
    "def my_fun(loc, item, fun_col, default_value): \n",
    "    return [loc.parent.parent.gene_name if col=='gene_name' else # get the gene_name from the grand-parent (=gene) feature \\\n",
    "            len(loc) if col=='feature_len' else # calc feature length \\\n",
    "            # convert list of items to comma-separated string \\\n",
    "            ','.join([str(x.location.feature_id) for x in loc.get(col, default_value)]) if col=='overlapping_introns' else \n",
    "            loc.get(col, default_value) # get annotation from the feature directly \\\n",
    "            for col in fun_col]\n",
    "\n",
    "df = t.iterator(feature_types='exon').to_dataframe( \\\n",
    "         fun=my_fun, # passes our annotation function\n",
    "         included_columns=('feature_len',), # include our new column\n",
    "         excluded_columns=('dna_seq', 'source', 'gff_feature_type', 'feature_id'), # columns that are dropped\n",
    "         coord_colnames=('chrom', 'start', 'end', 'strand'), # use bioframe-compatible column names\n",
    "         default_value='NA'\n",
    "        )\n",
    "\n",
    "df.head(3)  # report max 3 items"
   ]
  },
  {
   "cell_type": "code",
   "execution_count": 52,
   "id": "7759abdd-b5a8-4374-b37d-79dd3b00a805",
   "metadata": {},
   "outputs": [
    {
     "data": {
      "image/png": "[encoded data removed]",
      "text/plain": [
       "<Figure size 2000x300 with 1 Axes>"
      ]
     },
     "metadata": {},
     "output_type": "display_data"
    }
   ],
   "source": [
    "# now, we can, e.g., use bioframe to merge the intervals and use pandas to plot a histogram of the overlap counts\n",
    "_ = bioframe.merge(df)['n_intervals'].plot.hist(title='Exon overlap histogram')"
   ]
  },
  {
   "cell_type": "markdown",
   "id": "c80f8f88-6f3c-453c-b991-07e7234f6e93",
   "metadata": {},
   "source": [
    "We can also 'describe' a dataset which converts it to a pandas dataframe and calls df.describe().\n",
    "Additionally it calculates some stats such as whether this dataset contains overlapping or empty intervals."
   ]
  },
  {
   "cell_type": "code",
   "execution_count": 53,
   "id": "0f44a6fb-0556-4cac-8bb2-a1f8f0ee8ce5",
   "metadata": {},
   "outputs": [
    {
     "data": {
      "text/html": [
       "<div>\n",
       "<style scoped>\n",
       "    .dataframe tbody tr th:only-of-type {\n",
       "        vertical-align: middle;\n",
       "    }\n",
       "\n",
       "    .dataframe tbody tr th {\n",
       "        vertical-align: top;\n",
       "    }\n",
       "\n",
       "    .dataframe thead th {\n",
       "        text-align: right;\n",
       "    }\n",
       "</style>\n",
       "<table border=\"1\" class=\"dataframe\">\n",
       "  <thead>\n",
       "    <tr style=\"text-align: right;\">\n",
       "      <th></th>\n",
       "      <th>Chromosome</th>\n",
       "      <th>Start</th>\n",
       "      <th>End</th>\n",
       "      <th>Strand</th>\n",
       "      <th>feature_id</th>\n",
       "      <th>feature_type</th>\n",
       "      <th>mappability</th>\n",
       "      <th>source</th>\n",
       "      <th>gff_feature_type</th>\n",
       "      <th>gene_name</th>\n",
       "      <th>gene_type</th>\n",
       "    </tr>\n",
       "  </thead>\n",
       "  <tbody>\n",
       "    <tr>\n",
       "      <th>count</th>\n",
       "      <td>108</td>\n",
       "      <td>1.080000e+02</td>\n",
       "      <td>1.080000e+02</td>\n",
       "      <td>108</td>\n",
       "      <td>108</td>\n",
       "      <td>108</td>\n",
       "      <td>108.000000</td>\n",
       "      <td>108</td>\n",
       "      <td>108</td>\n",
       "      <td>108</td>\n",
       "      <td>108</td>\n",
       "    </tr>\n",
       "    <tr>\n",
       "      <th>unique</th>\n",
       "      <td>2</td>\n",
       "      <td>NaN</td>\n",
       "      <td>NaN</td>\n",
       "      <td>2</td>\n",
       "      <td>108</td>\n",
       "      <td>1</td>\n",
       "      <td>NaN</td>\n",
       "      <td>1</td>\n",
       "      <td>1</td>\n",
       "      <td>4</td>\n",
       "      <td>3</td>\n",
       "    </tr>\n",
       "    <tr>\n",
       "      <th>top</th>\n",
       "      <td>chr7</td>\n",
       "      <td>NaN</td>\n",
       "      <td>NaN</td>\n",
       "      <td>-</td>\n",
       "      <td>ENST00000325404.3_exon_0</td>\n",
       "      <td>exon</td>\n",
       "      <td>NaN</td>\n",
       "      <td>HAVANA</td>\n",
       "      <td>exon</td>\n",
       "      <td>ACTB</td>\n",
       "      <td>protein_coding</td>\n",
       "    </tr>\n",
       "    <tr>\n",
       "      <th>freq</th>\n",
       "      <td>107</td>\n",
       "      <td>NaN</td>\n",
       "      <td>NaN</td>\n",
       "      <td>105</td>\n",
       "      <td>1</td>\n",
       "      <td>108</td>\n",
       "      <td>NaN</td>\n",
       "      <td>108</td>\n",
       "      <td>108</td>\n",
       "      <td>105</td>\n",
       "      <td>106</td>\n",
       "    </tr>\n",
       "    <tr>\n",
       "      <th>mean</th>\n",
       "      <td>NaN</td>\n",
       "      <td>7.162412e+06</td>\n",
       "      <td>7.162717e+06</td>\n",
       "      <td>NaN</td>\n",
       "      <td>NaN</td>\n",
       "      <td>NaN</td>\n",
       "      <td>0.372571</td>\n",
       "      <td>NaN</td>\n",
       "      <td>NaN</td>\n",
       "      <td>NaN</td>\n",
       "      <td>NaN</td>\n",
       "    </tr>\n",
       "  </tbody>\n",
       "</table>\n",
       "</div>"
      ],
      "text/plain": [
       "       Chromosome         Start           End Strand  \\\n",
       "count         108  1.080000e+02  1.080000e+02    108   \n",
       "unique          2           NaN           NaN      2   \n",
       "top          chr7           NaN           NaN      -   \n",
       "freq          107           NaN           NaN    105   \n",
       "mean          NaN  7.162412e+06  7.162717e+06    NaN   \n",
       "\n",
       "                      feature_id feature_type  mappability  source  \\\n",
       "count                        108          108   108.000000     108   \n",
       "unique                       108            1          NaN       1   \n",
       "top     ENST00000325404.3_exon_0         exon          NaN  HAVANA   \n",
       "freq                           1          108          NaN     108   \n",
       "mean                         NaN          NaN     0.372571     NaN   \n",
       "\n",
       "       gff_feature_type gene_name       gene_type  \n",
       "count               108       108             108  \n",
       "unique                1         4               3  \n",
       "top                exon      ACTB  protein_coding  \n",
       "freq                108       105             106  \n",
       "mean                NaN       NaN             NaN  "
      ]
     },
     "metadata": {},
     "output_type": "display_data"
    },
    {
     "data": {
      "text/plain": [
       "{'contains_overlapping': True, 'contains_empty': False}"
      ]
     },
     "metadata": {},
     "output_type": "display_data"
    }
   ],
   "source": [
    "df, stats = rna.TranscriptomeIterator(t, feature_types='exon').describe(fun=my_fun)\n",
    "display(df.head(5))\n",
    "display(stats)"
   ]
  },
  {
   "cell_type": "markdown",
   "id": "3bef3a12-902c-4b3a-93eb-e3acd9ed842d",
   "metadata": {},
   "source": [
    "Here, for example, we iterate over the first 100 reads of a BAM file and collect some summary statistics for the \n",
    "NM (number of mismatches) and NH (number of hits) tags"
   ]
  },
  {
   "cell_type": "code",
   "execution_count": 54,
   "id": "3398f9e4-099c-4761-8642-08b0dc403d67",
   "metadata": {},
   "outputs": [
    {
     "data": {
      "text/html": [
       "<div>\n",
       "<style scoped>\n",
       "    .dataframe tbody tr th:only-of-type {\n",
       "        vertical-align: middle;\n",
       "    }\n",
       "\n",
       "    .dataframe tbody tr th {\n",
       "        vertical-align: top;\n",
       "    }\n",
       "\n",
       "    .dataframe thead th {\n",
       "        text-align: right;\n",
       "    }\n",
       "</style>\n",
       "<table border=\"1\" class=\"dataframe\">\n",
       "  <thead>\n",
       "    <tr style=\"text-align: right;\">\n",
       "      <th></th>\n",
       "      <th>Chromosome</th>\n",
       "      <th>Start</th>\n",
       "      <th>End</th>\n",
       "      <th>Strand</th>\n",
       "      <th>NM</th>\n",
       "      <th>NH</th>\n",
       "    </tr>\n",
       "  </thead>\n",
       "  <tbody>\n",
       "    <tr>\n",
       "      <th>count</th>\n",
       "      <td>100</td>\n",
       "      <td>100.00</td>\n",
       "      <td>100.0</td>\n",
       "      <td>100</td>\n",
       "      <td>100.00</td>\n",
       "      <td>100.00</td>\n",
       "    </tr>\n",
       "    <tr>\n",
       "      <th>unique</th>\n",
       "      <td>1</td>\n",
       "      <td>NaN</td>\n",
       "      <td>NaN</td>\n",
       "      <td>2</td>\n",
       "      <td>NaN</td>\n",
       "      <td>NaN</td>\n",
       "    </tr>\n",
       "    <tr>\n",
       "      <th>top</th>\n",
       "      <td>1</td>\n",
       "      <td>NaN</td>\n",
       "      <td>NaN</td>\n",
       "      <td>+</td>\n",
       "      <td>NaN</td>\n",
       "      <td>NaN</td>\n",
       "    </tr>\n",
       "    <tr>\n",
       "      <th>freq</th>\n",
       "      <td>100</td>\n",
       "      <td>NaN</td>\n",
       "      <td>NaN</td>\n",
       "      <td>78</td>\n",
       "      <td>NaN</td>\n",
       "      <td>NaN</td>\n",
       "    </tr>\n",
       "    <tr>\n",
       "      <th>mean</th>\n",
       "      <td>NaN</td>\n",
       "      <td>22379157.79</td>\n",
       "      <td>22403099.2</td>\n",
       "      <td>NaN</td>\n",
       "      <td>0.66</td>\n",
       "      <td>1.02</td>\n",
       "    </tr>\n",
       "  </tbody>\n",
       "</table>\n",
       "</div>"
      ],
      "text/plain": [
       "       Chromosome        Start         End Strand      NM      NH\n",
       "count         100       100.00       100.0    100  100.00  100.00\n",
       "unique          1          NaN         NaN      2     NaN     NaN\n",
       "top             1          NaN         NaN      +     NaN     NaN\n",
       "freq          100          NaN         NaN     78     NaN     NaN\n",
       "mean          NaN  22379157.79  22403099.2    NaN    0.66    1.02"
      ]
     },
     "metadata": {},
     "output_type": "display_data"
    },
    {
     "data": {
      "text/plain": [
       "{'contains_overlapping': True, 'contains_empty': False}"
      ]
     },
     "metadata": {},
     "output_type": "display_data"
    }
   ],
   "source": [
    "df, stats = rna.ReadIterator(rna.get_resource('small_example_bam')).describe(\\\n",
    "         # custom column creation; Note that 'item' is a pysam read object in this case\n",
    "         fun=lambda loc, item, fun_col, default_value:[item.get_tag(col) for col in fun_col] , \\\n",
    "         fun_col=('NM', 'NH'), # include our new columns: NM (number of mismatches) and NH (number of hits)\n",
    "         max_items=100) # report max 100 items. The iterator will stop after this.\n",
    "display(df.head(5))\n",
    "display(stats)"
   ]
  },
  {
   "cell_type": "markdown",
   "id": "410c2772-c2ad-454c-831d-9ca289a5ca46",
   "metadata": {
    "tags": []
   },
   "source": [
    "# Utility functions\n",
    "\n",
    "_rnalib_ also contains a number of utility functions which might be useful for handling genomics data. Some of those functions were demonstrated already in the context of this notebook. Here we present and document them in more detail:"
   ]
  },
  {
   "cell_type": "code",
   "execution_count": 23,
   "id": "ac210d22-cc7d-4855-8402-cfb35bb2b614",
   "metadata": {
    "tags": []
   },
   "outputs": [
    {
     "data": {
      "text/plain": [
       "{'ENSMUSG00000029580': Actb (actin, beta, tax: 10090),\n",
       " '60': ACTB (actin beta, tax: 9606)}"
      ]
     },
     "execution_count": 23,
     "metadata": {},
     "output_type": "execute_result"
    }
   ],
   "source": [
    "# Gene symbols are updated regularly and mapping between different id schemas is cumbersome\n",
    "# rnalib implements an interface to MyGeneInfo for easy translation between ids and symbols \n",
    "# Example: we pass a mixed list of Ensembl and Entrez ids for mouse and human  actin beta:\n",
    "rna.geneid2symbol(['ENSMUSG00000029580', 60])"
   ]
  },
  {
   "cell_type": "code",
   "execution_count": 24,
   "id": "57b83a6e-7f5d-430b-8c58-904612b75b12",
   "metadata": {
    "tags": []
   },
   "outputs": [
    {
     "data": {
      "application/vnd.jupyter.widget-view+json": {
       "model_id": "8dadbfadb63d41009e1af7e138290396",
       "version_major": 2,
       "version_minor": 0
      },
      "text/plain": [
       "load gene aliases:   0%|          | 0/9 [00:00<?, ?it/s]"
      ]
     },
     "metadata": {},
     "output_type": "display_data"
    },
    {
     "data": {
      "text/plain": [
       "'A2MP1'"
      ]
     },
     "metadata": {},
     "output_type": "display_data"
    },
    {
     "data": {
      "text/plain": [
       "'A1BG-AS1'"
      ]
     },
     "metadata": {},
     "output_type": "display_data"
    },
    {
     "data": {
      "text/plain": [
       "'A2MP1'"
      ]
     },
     "metadata": {},
     "output_type": "display_data"
    }
   ],
   "source": [
    "# Another possibility is to use alias files that provide a mapping from previous (outdated) to current gene symbols.\n",
    "# rnalib supports such alias files and here we showcase this by loading a small subset of genenames.org data \n",
    "# and using it to convert lists containing partially old gene symbols to their current symbol.\n",
    "aliases, current_symbols = rna.read_alias_file(rna.get_resource('hgnc_gene_aliases'))\n",
    "# now lets translate some gene symbols\n",
    "display(rna.norm_gn('A2MP', current_symbols, aliases), \n",
    "        rna.norm_gn('FLJ23569', current_symbols, aliases),\n",
    "        rna.norm_gn('A2MP1', current_symbols, aliases)) \n",
    "# Please note that the transcriptome implementation has implicit support for gene name aliasing, all you need to do is to pass a file path refering to a\n",
    "# genenames.org like file via the 'gene_name_alias_file' config property."
   ]
  },
  {
   "cell_type": "code",
   "execution_count": 25,
   "id": "9e064903-9412-44a2-8590-1ed5785a7b04",
   "metadata": {
    "tags": []
   },
   "outputs": [
    {
     "name": "stdout",
     "output_type": "stream",
     "text": [
      "Raw └── Reads\n",
      "Raw     └── Read_205344 {duration=21211,median_before=217.6046905517578,read_id=b'003c04de-f704-491e-8d0c-33ffa269423d',read_number=205344,start_mux=4,start_time=364905104}\n",
      "Raw         └── Signal\n",
      "---\n"
     ]
    }
   ],
   "source": [
    "# And utilities to work with Nanopore data (FAST5 files)\n",
    "# You can, e.g., inspect the structure of such a file:\n",
    "fast5_file=rna.get_resource('nanoseq_fast5_raw')\n",
    "rna.print_fast5_tree(fast5_file, show_attrs=False)"
   ]
  },
  {
   "cell_type": "code",
   "execution_count": 26,
   "id": "6f96d57e-061f-4264-856d-e1bc5f0d3a61",
   "metadata": {
    "tags": []
   },
   "outputs": [
    {
     "data": {
      "text/plain": [
       "['Basecall_1D_000']"
      ]
     },
     "execution_count": 26,
     "metadata": {},
     "output_type": "execute_result"
    }
   ],
   "source": [
    "# Or list the basecalling groups in this file\n",
    "fast5_file=rna.get_resource('nanoseq_fast5_basecalled')#'testdata/fast5/FAT61995_a1291c8f_5.fast5'\n",
    "rna.get_bcgs(fast5_file)"
   ]
  },
  {
   "cell_type": "code",
   "execution_count": 27,
   "id": "6b7d947d-1612-4706-a9ba-61d89cd90580",
   "metadata": {},
   "outputs": [
    {
     "data": {
      "text/plain": [
       "{'1'}"
      ]
     },
     "execution_count": 27,
     "metadata": {},
     "output_type": "execute_result"
    }
   ],
   "source": [
    "# the get_covered_contigs() method accesses a BAM index and quickly calculates which\n",
    "# contigs contain reads:\n",
    "rna.get_covered_contigs(rna.get_resource('small_example_bam'))"
   ]
  },
  {
   "cell_type": "code",
   "execution_count": 28,
   "id": "6820b95a-b7cf-4be5-93f4-9d1a3c2edecd",
   "metadata": {},
   "outputs": [
    {
     "data": {
      "text/plain": [
       "'Supported distributions: beta,binomial,bit_generator,bytes,chisquare,choice,dirichlet,exponential,f,gamma,geometric,gumbel,hypergeometric,integers,laplace,logistic,lognormal,logseries,multinomial,multivariate_hypergeometric,multivariate_normal,negative_binomial,noncentral_chisquare,noncentral_f,normal,pareto,permutation,permuted,poisson,power,random,rayleigh,shuffle,spawn,standard_cauchy,standard_exponential,standard_gamma,standard_normal,standard_t,triangular,uniform,vonmises,wald,weibull,zipf'"
      ]
     },
     "metadata": {},
     "output_type": "display_data"
    },
    {
     "data": {
      "image/png": "[encoded data removed]",
      "text/plain": [
       "<Figure size 640x480 with 3 Axes>"
      ]
     },
     "metadata": {},
     "output_type": "display_data"
    }
   ],
   "source": [
    "# draw random samples with numpy\n",
    "fig, (ax1, ax2, ax3) = plt.subplots(1,3)\n",
    "plt.rcParams[\"figure.figsize\"] = (20,3)\n",
    "# plot 5 histograms of a normal distribution (10k values each)\n",
    "for x in rna.random_sample('normal(3000,10,size=(5,10000))'):\n",
    "    ax1.hist(x, 30, density=True, histtype=u'step') # plot 5 histograms\n",
    "    ax1.set_title('normal distribution')\n",
    "for x in rna.random_sample('standard_exponential(size=(5,10000))'):\n",
    "    ax2.hist(x, 30, density=True, histtype=u'step') # plot 5 histograms\n",
    "    ax2.set_title('exponential distribution')\n",
    "for x in rna.random_sample('binomial(20, 0.05, size=(5,10000))'):\n",
    "    ax3.hist(x, 30, density=True, histtype=u'step') # plot 5 histograms\n",
    "    ax3.set_title('binomial distribution')\n",
    "display(f\"Supported distributions: {','.join([x for x in dir(np.random.default_rng()) if not x.startswith(\"_\")])}\")"
   ]
  },
  {
   "cell_type": "markdown",
   "id": "89886344-7074-472a-a2ab-a2bafbdf634a",
   "metadata": {},
   "source": [
    "Please refer to the test_utils.py script for usage scenarios of other rnalib utility methods."
   ]
  }
 ],
 "metadata": {
  "kernelspec": {
   "display_name": "rnalib",
   "language": "python",
   "name": "rnalib"
  },
  "language_info": {
   "codemirror_mode": {
    "name": "ipython",
    "version": 3
   },
   "file_extension": ".py",
   "mimetype": "text/x-python",
   "name": "python",
   "nbconvert_exporter": "python",
   "pygments_lexer": "ipython3",
   "version": "3.12.1"
  },
  "toc-autonumbering": false,
  "toc-showcode": false,
  "toc-showmarkdowntxt": false,
  "toc-showtags": false
 },
 "nbformat": 4,
 "nbformat_minor": 5
}
