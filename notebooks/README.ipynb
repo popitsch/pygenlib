{
 "cells": [
  {
   "cell_type": "markdown",
   "id": "0580641a-d103-4972-b263-9fcc21959431",
   "metadata": {},
   "source": [
    "# Introduction"
   ]
  },
  {
   "cell_type": "markdown",
   "id": "9115b498-61b8-41fb-9a0f-546cb3bebbf1",
   "metadata": {
    "tags": []
   },
   "source": [
    "The increasing abundance and complexity of biological data often requires programatic approaches for their analysis that allow for the rapid development of custom yet efficient, well-tested and reproducible analysis pipelines. \n",
    "\n",
    "Traditional approaches (e.g., bash command/perl pipelines), that suffer from low readability, maintainability and reproducibility,\n",
    "are increasingly superseded by complex, containerized (e.g., Singularity) analysis pipelines that combine specialized bioinformatics tools \n",
    "with custom scripts developed in higher programming languages such as *Python*, *R* or *Rust*.\n",
    "\n",
    "Despite not being the fastest option, *Python* is a [popular choice by analysts](https://github.blog/2023-03-02-why-python-keeps-growing-explained/), mainly due to the large number of available (bioinformatics) libraries, its simple and well-documented syntax and its broad utility in the emerging data science field.\n",
    "\n",
    "For this reason an increasing number of python APIs for the handling of genomics data are being developed. \n",
    "While some are mainly wrappers around well-established bioinformatics tools (e.g., pysam/samtools, pybedtools/BEDTools or cyvcf2/htslib) others are builing on efficient data wrangling/analysis libraries such as *pandas* or *numpy* (e.g., bioframe/pandas, pyranges/pandas, bionumpy/numpy).\n",
    "\n",
    "Here, we present *pygenlib*, a python utilities library for handling genomics data with a focus on transcriptomics and compare it to \n",
    "a number of related APIs with regard to provided features and performance. We additionally demonstrate some common analysis pitfalls that \n",
    "we tried to address in the design of our library.\n",
    "\n",
    "Finally, we showcase how the combination of (the strengths of) multiple genomics libraries leads to an overall benefit.\n"
   ]
  },
  {
   "cell_type": "code",
   "execution_count": 63,
   "id": "1474387e-b7f8-4207-8154-d496a4938240",
   "metadata": {
    "tags": []
   },
   "outputs": [
    {
     "data": {
      "text/plain": [
       "'Running pygenlib on python 3.10.4. Using pygenlib code from /Users/niko.popitsch/git/pygenlib/'"
      ]
     },
     "metadata": {},
     "output_type": "display_data"
    }
   ],
   "source": [
    "# set path and  load pygenlib\n",
    "import os, pathlib, platform\n",
    "PYGENLIB_SRC='/Users/niko.popitsch/git/pygenlib/'  #'/groups/ameres/Niko/workspace/pygenlib/' # '/Users/niko.popitsch/git/pygenlib/' \n",
    "os.chdir(PYGENLIB_SRC)\n",
    "# install libraries. Recommended to run in a venv here!\n",
    "#!{sys.executable} -m pip install -r requirements.txt \n",
    "display(f\"Running pygenlib on python {platform.python_version()}. Using pygenlib code from {PYGENLIB_SRC}\")\n",
    "# load libs\n",
    "from IPython.display import Markdown\n",
    "from Bio.Seq import Seq\n",
    "import matplotlib.pyplot as plt\n",
    "from pygenlib.utils import *\n",
    "from pygenlib.iterators import *\n",
    "from pygenlib.genemodel import *\n",
    "from pygenlib.testdata import get_resource, list_resources, make_random_intervals\n",
    "from itertools import islice\n",
    "import pprint\n",
    "\n",
    "import pandas as pd\n",
    "import numpy as np\n",
    "import pprint\n",
    "import pybedtools \n",
    "import bioframe\n",
    "import tempfile\n",
    "import pytest\n",
    "import dataclasses\n",
    "\n",
    "# helper methods\n",
    "SEP=Markdown('---')\n",
    "from IPython.display import display, HTML\n",
    "def display_textarea(txt):\n",
    "    \"\"\" Display a (long) text in a scrollable HTML text area \"\"\"\n",
    "    display(HTML(f\"<textarea rows='4' cols='120'>{txt}</textarea>\"))\n",
    "def head_counter(cnt, non_empty=True):\n",
    "    \"\"\"Displays n items from the passed counter. If non_empty is true then only items with len>0 are shown\"\"\"\n",
    "    if non_empty:\n",
    "        cnt=Counter({k: ac1.get(k, 0) for k in ac1.keys() if len(ac1.get(k))>0})\n",
    "    display(Counter({k:v for k,v in islice(cnt.items(),1,10)}), \"[...]\")\n",
    "def plot_times(title, times, n=None, \n",
    "               our_method='pygenlib_iter', \n",
    "               show_speed=True,\n",
    "               ax=None\n",
    "              ):\n",
    "    \"\"\" Helper method to plot the timings \"\"\"\n",
    "    ax = ax or plt.gca()\n",
    "    labels, values = zip(*sorted(times.items()))\n",
    "    if show_speed:\n",
    "        values=[n/v for v in values]\n",
    "        speed_fastest = n/min(times.values())\n",
    "        speed_our_method = n/times[our_method]\n",
    "        ax.set_title(f\"{title}\\nThe fastest method is {(speed_fastest/speed_our_method-1)*100}%\\nfaster than {our_method}\", fontsize=10)\n",
    "        ax.set_ylabel(\"it/s\")\n",
    "    else:\n",
    "        ax.set_title(f\"{title}\")\n",
    "        ax.set_ylabel(\"seconds\")\n",
    "    ax.bar(range(len(labels)), values, 0.8)\n",
    "    ax.set_xticks(range(len(labels)), labels, rotation=90)\n",
    "    #display(f\"For iterating+filtering {n} items, The fastest method ({speed_fastest} it/s) is {speed_fastest/speed_our_method}X\")\n",
    "    #display(f\"({(speed_fastest/speed_our_method-1)*100}%) faster than pygenlib ({speed_our_method} it/s).\")\n",
    "    #return(fig)"
   ]
  },
  {
   "cell_type": "markdown",
   "id": "454ac0fc-b7f0-4113-99a2-7fd395cd101c",
   "metadata": {},
   "source": [
    "# Pygenlib\n",
    "\n",
    "Pygenlib is a python utilities library for handling genomics data with a focus on transcriptomics. \n",
    "It is roughly structured into the following modules:\n",
    "\n",
    "- [genemodel](#Transcriptome): python classes for modeling genomics (annotation) data. This includes a '[transcriptome](#Transcriptome)' implementation that models gene/transcript annotations and many useful querying/annotation methods.\n",
    "- [iterators](#Iterators): efficient iteration over large-scaled genomics datasets. Iterators keep track of the genomic region of the\n",
    "  yielded data enabling their efficient integration with other genomics data\n",
    "- [utils](#Utility-functions): general (low-level) utility functions for working with genomics datasets.\n",
    "\n",
    "\n",
    "Pygenlib implements a transcriptome data model that preserved parent/child relationships between features (e.g., transcripts and introns) and a secure way for annotating such features by structuring them into immutable genomic locations (that can, e.g., safely be used in lookup tables) and mutatble, arbitrary annotations. \n",
    "\n",
    "\n",
    "Transcriptomics analyses require the integration of various biological data sources (e.g., gene/transcript annotations, sequence alignment data, genomic scores, etc.) which is why pygenlib implement variour genomic iterators on top of existing python implementations (pysam, bioframe, pybedtools).\n",
    "\n",
    "This ipython notebook demonstrates some of pygenlib's functionality and API using simple and complex access examples. Please also refer to pygenlib's test classes for further API examples.\n",
    "\n",
    "Note that this notebook uses various genomics data test files that can be accessed via the `pygenlib.testdata.get_resource('<test_resource_id'>` method. See the testdata.py class for details how these files were created.\n"
   ]
  },
  {
   "cell_type": "markdown",
   "id": "728ecb24-235c-48f4-aadf-7d13776b5c69",
   "metadata": {
    "tags": []
   },
   "source": [
    "## Genomic intervals\n",
    "Genomic regions and positions are referenced by the  *genomic intervals* (gi) class in pygenlib:\n",
    "- Genomic intervals (gi) in pygenlib are inclusive and 1-based. \n",
    "- GIs are implemented as frozen (pseudo immutable) dataclasses and can thus be used, e.g., as keys in a dict.\n",
    "- GIs can be instantiated by passing chrom/start/stop coordinates or can be parsed form a string. \n",
    "- GIs can be stranded. Unstranded intervals are represented by setting strand to None (default) \n",
    "- Using None for each component of the coordinates is allowed to represent unbounded intervals. Examples:\n",
    "  - gi('chr1') refers to the whole chromosome\n",
    "  - gi('chr1', 100000) refers to the section of chromosome 1 from (and including) positon 100k on.\n",
    "  - gi(start=100, end=200) refers to positions 100-200 (inclusive) on any chromosome \n",
    "- Points are represented by GIs with same start and end coordinate.\n",
    "- Empty intervals are represented by GIs with start>end coordinates (experimental)\n",
    "\n",
    "Chromosome order in a genome is represented by *ReferenceDict*s (which extend regular python dicts).\n",
    "- ReferenceDicts can be used to properly sort genomic intervals (see example below)\n",
    "- ReferenceDicts keep track of the available chromosomes and their length and are typically directly derived from genomic data files\n",
    "- ReferenceDicts are used in pygenlib to check for compatibility of different genomic datasets\n",
    "\n",
    "More documentation can be accessed via\n",
    "`help(gi)`"
   ]
  },
  {
   "cell_type": "code",
   "execution_count": 64,
   "id": "2ffd3d62-7b49-473f-9749-1a567872260c",
   "metadata": {
    "tags": []
   },
   "outputs": [
    {
     "data": {
      "text/plain": [
       "'Sorted by start coordinate but order of chromosomes is undefined:'"
      ]
     },
     "metadata": {},
     "output_type": "display_data"
    },
    {
     "data": {
      "text/plain": [
       "[None:-inf-1000 (-),\n",
       " chr2:1-100,\n",
       " chr1:5-500 (+),\n",
       " chr3:50-120 (-),\n",
       " chr1:10-20 (-),\n",
       " None:10-1000 (-)]"
      ]
     },
     "metadata": {},
     "output_type": "display_data"
    },
    {
     "data": {
      "text/markdown": [
       "---"
      ],
      "text/plain": [
       "<IPython.core.display.Markdown object>"
      ]
     },
     "metadata": {},
     "output_type": "display_data"
    },
    {
     "data": {
      "text/plain": [
       "'Is the greater-than comparison chr2:1-1>chr1:1-1 defined? None'"
      ]
     },
     "metadata": {},
     "output_type": "display_data"
    },
    {
     "data": {
      "text/markdown": [
       "---"
      ],
      "text/plain": [
       "<IPython.core.display.Markdown object>"
      ]
     },
     "metadata": {},
     "output_type": "display_data"
    },
    {
     "data": {
      "text/plain": [
       "Refset (size: 3): dict_keys(['chr1', 'chr2', 'chr3']), dict_values([None, None, None]) name: test "
      ]
     },
     "metadata": {},
     "output_type": "display_data"
    },
    {
     "data": {
      "text/markdown": [
       "---"
      ],
      "text/plain": [
       "<IPython.core.display.Markdown object>"
      ]
     },
     "metadata": {},
     "output_type": "display_data"
    },
    {
     "data": {
      "text/plain": [
       "'Properly sorted list:'"
      ]
     },
     "metadata": {},
     "output_type": "display_data"
    },
    {
     "data": {
      "text/plain": [
       "[None:-inf-1000 (-),\n",
       " None:10-1000 (-),\n",
       " chr1:5-500 (+),\n",
       " chr1:10-20 (-),\n",
       " chr2:1-100,\n",
       " chr3:50-120 (-)]"
      ]
     },
     "metadata": {},
     "output_type": "display_data"
    }
   ],
   "source": [
    "# create a list of genomic intervals\n",
    "locs=[gi('chr2', 1, 100), # chr2:1-100, unstranded\n",
    "      gi.from_str('chr1:5-500 (+)'),  # parsed from string, strand='+'\n",
    "      gi.from_str('chr3:50-120 (-)'), \n",
    "      gi.from_str('chr1:10-20 (-)'), \n",
    "      gi(None, None, 1000, '-'), # chromosome and start unbound, end=1000, strand='-'\n",
    "      gi(None, 10, 1000, '-')] # chromosome unbound\n",
    "display('Sorted by start coordinate but order of chromosomes is undefined:', sorted(locs), SEP)\n",
    "\n",
    "# Note that chromosome group intervals and the order of intervals from different groups (chromosomes) is left undefined.\n",
    "display(f\"Is the greater-than comparison chr2:1-1>chr1:1-1 defined? {gi('chr2', 1, 1) > gi('chr1', 1, 1)}\", SEP)\n",
    "\n",
    "# To sort also by chromosome, you can use a reference dict which defined the chromosome order:\n",
    "refdict=ReferenceDict({'chr1':None, 'chr2':None, 'chr3':None}, 'test', None)\n",
    "display(refdict, SEP)\n",
    "display('Properly sorted list:', sorted(locs, key=lambda x: (refdict.index(x.chromosome), x)))\n",
    "# Unbounded intervals (chromosome=None) will always be at the beginning of the list"
   ]
  },
  {
   "cell_type": "markdown",
   "id": "5bf0f52e-1c1f-44c3-af27-e2c2d504718f",
   "metadata": {
    "tags": []
   },
   "source": [
    "## Iterators"
   ]
  },
  {
   "cell_type": "markdown",
   "id": "19601ee3-c724-430e-bec9-411e9e496c85",
   "metadata": {
    "tags": []
   },
   "source": [
    "_pygenlib_ implements several *LocationIterator*s for efficient iteration over (parts of) genomics datasets while keeping track of the [genomic interval](#Genomic-intervals) each yielded item refers to. Most implemented iterators are based on respective [pysam](https://pysam.readthedocs.io/en/latest/api.html) classes but extend them with different filtering/access methods and add sanity checks to avoid common errors when combining different genomics datasets.\n",
    "\n",
    "The primary goal of LocationIterators is to support the synchronization/integration of different genomics datasets. LocationIterators also support chunked I/O where feasible and not supported by the underlying (pysam) implementation.\n",
    "\n",
    "LocationIterators can iterate whole datasets or specific sub-region (e.g., a certain chromosome or genomic region). Yielded data items are sorted by respective [genomic intervals](#Genomic-intervals) where the order of chromosomes is defined by a [ReferenceDict](#Genomic-intervals) that is derived directly from the iterated dataset (e.g., by querying it's tabix index). When multiple LocationIterators are integrated (e.g., by an AnnotationIterator), their ReferenceDicts are checked for compatibility.\n",
    "\n",
    "Sometimes, genomics datasets from different providers used differing chromosome ids to refer to the same chromosomes which hinders their integration. \n",
    "Location iterators support chromosome aliasing as a quick solution for this: users can provide aliasing functions (e.g., for adding/removing 'chr' prefixes from \n",
    "chromosome ids) to dynamically change chromosome ids while keeping the underlying data files untouched.\n",
    "\n",
    "Implemented LocationIterators include:\n",
    "* [FastaIterator](#FastaIterator): iterates FASTA files per position or genomic window (e.g., Tiling/sliding windows).\n",
    "* [FastqIterator](#FastqIterator): iterates FASTQ entries (NOTE that this is no LocationIterator)\n",
    "* [GFF3Iterator](#GFF3Iterator): iterates GTF/GFF3 files and parses annotation data. Used for the [Transcriptome](#transcriptome) implementation\n",
    "* [ReadIterator](#ReadIterator): iterates SAM/BAM files and implements various filter options. \n",
    "* [FastPileupIterator](#FastPileupIterator): a faster alternative to pysam's pileup method\n",
    "* [VcfIterator](#AnnotationIterator): iterates VCF files and can filter for samples\n",
    "* [AnnotationIterator](#AnnotationIterator): annotates the items from one LocationIterator with items from others\n",
    "\n",
    "and many more.\n",
    "The following sections showcase some of the implemented iterators:"
   ]
  },
  {
   "cell_type": "markdown",
   "id": "262da942-1ef3-45da-ad9a-3da72463ad8e",
   "metadata": {
    "tags": []
   },
   "source": [
    "### FastaIterator\n",
    "Iterates over a FASTA file but enables also tiling/sliding windows and padding."
   ]
  },
  {
   "cell_type": "code",
   "execution_count": 4,
   "id": "2d64ed77-f33f-4360-89c2-b80470284243",
   "metadata": {
    "tags": []
   },
   "outputs": [
    {
     "data": {
      "text/plain": [
       "\"['NNTTG', 'TTGTG', 'GTGCC', 'GCCAT', 'CATTA']...['TTGTA', 'GTATT', 'ATTTT', 'TTTTN', 'TTNNN']\""
      ]
     },
     "metadata": {},
     "output_type": "display_data"
    }
   ],
   "source": [
    "# FastaIterator that supports window/step size and padding\n",
    "fasta_file=get_resource('ACTB+SOX2_genome')\n",
    "\n",
    "# get 5mer sliding windows (step size 2) with padding from a GRCh38 chr7 region around ACTB; show first and last 5 results\n",
    "# <it>.take() consumes the whole iterator and stores the items in a list.\n",
    "# item.data returns the data item returned by this iterator (here: a string containing the kmer)\n",
    "# item.location is a GI describing the genomic location of this sequence\n",
    "kmers=[item.data for item in FastaIterator(get_resource('ACTB+SOX2_genome'), \n",
    "                                           'chr7', None, None, # iterate only over chr7\n",
    "                                           width=5, # report 5-mers\n",
    "                                           step=2,  # step size: 2\n",
    "                                           padding=True) # pad with N's at the sequence boundaries\n",
    "       .take()] # take consumes all items from the iterator; this is useful for small tests\n",
    "display(f\"{kmers[:5]}...{kmers[-5:]}\")"
   ]
  },
  {
   "cell_type": "markdown",
   "id": "a6d1b71d-897f-4b2a-a2b5-0aa61eca7243",
   "metadata": {},
   "source": [
    "### FastqIterator\n",
    "Iterates over a FASTQ file and returns named tuples (name seq qual) containing read names, sequence and quality strings"
   ]
  },
  {
   "cell_type": "code",
   "execution_count": 5,
   "id": "c924ba95-275d-415a-8f4c-91ac318ca8d1",
   "metadata": {
    "tags": []
   },
   "outputs": [
    {
     "data": {
      "text/plain": [
       "'@M01558:94:000000000-B4PB4:1:1101:16988:1392 1:N:0:20, @M01558:94:000000000-B4PB4:1:1101:16988:1392 2:N:0:20'"
      ]
     },
     "metadata": {},
     "output_type": "display_data"
    },
    {
     "data": {
      "text/plain": [
       "'251, 250'"
      ]
     },
     "metadata": {},
     "output_type": "display_data"
    },
    {
     "data": {
      "text/plain": [
       "'@M01558:94:000000000-B4PB4:1:1101:16905:1394 1:N:0:20, @M01558:94:000000000-B4PB4:1:1101:16905:1394 2:N:0:20'"
      ]
     },
     "metadata": {},
     "output_type": "display_data"
    },
    {
     "data": {
      "text/plain": [
       "'251, 251'"
      ]
     },
     "metadata": {},
     "output_type": "display_data"
    },
    {
     "data": {
      "text/plain": [
       "'@M01558:94:000000000-B4PB4:1:1101:16922:1403 1:N:0:20, @M01558:94:000000000-B4PB4:1:1101:16922:1403 2:N:0:20'"
      ]
     },
     "metadata": {},
     "output_type": "display_data"
    },
    {
     "data": {
      "text/plain": [
       "'251, 250'"
      ]
     },
     "metadata": {},
     "output_type": "display_data"
    },
    {
     "data": {
      "text/plain": [
       "'@M01558:94:000000000-B4PB4:1:1101:15249:1404 1:N:0:20, @M01558:94:000000000-B4PB4:1:1101:15249:1404 2:N:0:20'"
      ]
     },
     "metadata": {},
     "output_type": "display_data"
    },
    {
     "data": {
      "text/plain": [
       "'251, 250'"
      ]
     },
     "metadata": {},
     "output_type": "display_data"
    },
    {
     "data": {
      "text/plain": [
       "'@M01558:94:000000000-B4PB4:1:1101:15251:1423 1:N:0:20, @M01558:94:000000000-B4PB4:1:1101:15251:1423 2:N:0:20'"
      ]
     },
     "metadata": {},
     "output_type": "display_data"
    },
    {
     "data": {
      "text/plain": [
       "'251, 250'"
      ]
     },
     "metadata": {},
     "output_type": "display_data"
    }
   ],
   "source": [
    "# iterate over PE reads in two FASTQ files and display their read names and sequence lengths\n",
    "for r1,r2 in zip(FastqIterator(get_resource('small_PE_fastq1')), FastqIterator(get_resource('small_PE_fastq2'))):\n",
    "    display(f\"{r1.name}, {r2.name}\")\n",
    "    display(f\"{len(r1.seq)}, {len(r2.seq)}\")"
   ]
  },
  {
   "cell_type": "markdown",
   "id": "10b2536d-19fe-4f87-80f8-949b2163441e",
   "metadata": {
    "tags": []
   },
   "source": [
    "### GFF3Iterator\n",
    "Iterates over GFF3 files and yields dicts containing parsed annotation fields."
   ]
  },
  {
   "cell_type": "code",
   "execution_count": 6,
   "id": "fa18afb5-5874-46a4-9fdd-80ac25276c92",
   "metadata": {
    "tags": []
   },
   "outputs": [
    {
     "data": {
      "text/plain": [
       "[Item(location=chr3:180989762-181836880 (+), data={'ID': 'ENSG00000242808.12', 'gene_id': 'ENSG00000242808.12', 'gene_type': 'lncRNA', 'gene_name': 'SOX2-OT', 'level': '2', 'hgnc_id': 'HGNC:20209', 'tag': 'ncRNA_host,overlapping_locus', 'havana_gene': 'OTTHUMG00000158186.13', 'feature_type': 'gene', 'source': 'HAVANA', 'score': None, 'phase': None}),\n",
       " Item(location=chr3:180989770-181791029 (+), data={'ID': 'ENST00000626948.3', 'Parent': 'ENSG00000242808.12', 'gene_id': 'ENSG00000242808.12', 'transcript_id': 'ENST00000626948.3', 'gene_type': 'lncRNA', 'gene_name': 'SOX2-OT', 'transcript_type': 'lncRNA', 'transcript_name': 'SOX2-OT-240', 'level': '2', 'transcript_support_level': '5', 'hgnc_id': 'HGNC:20209', 'tag': 'nested_454_RNA_Seq_supported,basic,Ensembl_canonical,TAGENE', 'havana_gene': 'OTTHUMG00000158186.13', 'havana_transcript': 'OTTHUMT00000481527.1', 'feature_type': 'transcript', 'source': 'HAVANA', 'score': None, 'phase': None})]"
      ]
     },
     "metadata": {},
     "output_type": "display_data"
    },
    {
     "data": {
      "text/plain": [
       "Counter({'exon': 108,\n",
       "         'transcript': 89,\n",
       "         'CDS': 60,\n",
       "         'five_prime_UTR': 33,\n",
       "         'three_prime_UTR': 20,\n",
       "         'start_codon': 17,\n",
       "         'stop_codon': 13,\n",
       "         'gene': 5})"
      ]
     },
     "execution_count": 6,
     "metadata": {},
     "output_type": "execute_result"
    }
   ],
   "source": [
    "# Show two data items from a GFF3 file\n",
    "display(GFF3Iterator(get_resource('gencode_gff')).take()[:2])\n",
    "\n",
    "# iterate whole GFF3 file and collect stats of contained feature_type annotations\n",
    "Counter([item.data['feature_type'] for item in GFF3Iterator(get_resource('gencode_gff'))])"
   ]
  },
  {
   "cell_type": "markdown",
   "id": "2987a903-200a-4ae4-b536-0c4671bb1757",
   "metadata": {
    "tags": []
   },
   "source": [
    "### ReadIterator\n",
    "Iterates SAM/BAM files and implements several filter options. Also keeps track of how many reads were filtered for what reason.\n",
    "Can also yield mismatches wrt. the reference if MD tags are available (can be added, e.g., by [samtools calmd](http://www.htslib.org/doc/samtools-calmd.html) if not added by the mapper itself).\n"
   ]
  },
  {
   "cell_type": "code",
   "execution_count": 7,
   "id": "15b6f14e-cf57-4f9e-b100-4ed82a0f9944",
   "metadata": {
    "tags": []
   },
   "outputs": [
    {
     "data": {
      "text/plain": [
       "{'all': Counter({('iterated_items', '1'): 31678,\n",
       "          ('yielded_items', '1'): 31678}),\n",
       " 'def': Counter({('iterated_items', '1'): 31678,\n",
       "          ('yielded_items', '1'): 21932,\n",
       "          ('n_fil_flag', '1'): 9746}),\n",
       " 'mq20': Counter({('iterated_items', '1'): 31678,\n",
       "          ('yielded_items', '1'): 21626,\n",
       "          ('n_fil_flag', '1'): 9746,\n",
       "          ('n_fil_mq', '1'): 306}),\n",
       " 'tag': Counter({('iterated_items', '1'): 31678,\n",
       "          ('n_fil_tag', '1'): 14544,\n",
       "          ('n_fil_flag', '1'): 9746,\n",
       "          ('yielded_items', '1'): 7388})}"
      ]
     },
     "metadata": {},
     "output_type": "display_data"
    }
   ],
   "source": [
    "# count reads per chromosome in a BAM using different filters\n",
    "stats={x:Counter() for x in ['all', 'def', 'mq20', 'tag']}\n",
    "with open_file_obj(get_resource('small_example_bam')) as bam:\n",
    "    for chrom in get_reference_dict(bam):\n",
    "        with ReadIterator(bam, chrom, flag_filter=0) as it: # all: no filtering\n",
    "            it.take()\n",
    "            stats['all'].update(it.stats)\n",
    "        with ReadIterator(bam, chrom) as it: # def: default flag filter (as in IGV)\n",
    "            it.take()\n",
    "            stats['def'].update(it.stats)\n",
    "        with ReadIterator(bam, chrom, min_mapping_quality=20) as it: # mq20: default flag filter, mapping quality >= 20\n",
    "            it.take()\n",
    "            stats['mq20'].update(it.stats)\n",
    "        with ReadIterator(bam, chrom, tag_filters=[TagFilter('MD', ['100'])]) as it: # tag: default flag filter, MD tag must be '100'\n",
    "            it.take()\n",
    "            stats['tag'].update(it.stats)\n",
    "display(stats)"
   ]
  },
  {
   "cell_type": "markdown",
   "id": "87fe04cd-e606-4131-9214-865e9da4a51a",
   "metadata": {
    "tags": []
   },
   "source": [
    "#### Splitting large datasets\n",
    "A common practice of many genomics applications is to break up analyses into continuous blocks (genomic intervals or tiles), e.g., to parallelize computation or just to deal with large datasets. Splitting a reference dict (i.e., a genome representation) into such blocks can easily be done using its `iter_blocks()` method. Iterating over a large BAM file, handling non-overlapping genomic intervals, for example, can be done as follow:"
   ]
  },
  {
   "cell_type": "code",
   "execution_count": 8,
   "id": "72bfcec9-c0c5-4671-8a90-2c2b7f29f8ca",
   "metadata": {
    "tags": []
   },
   "outputs": [
    {
     "data": {
      "text/plain": [
       "Counter({'1:1-100000000': 31678,\n",
       "         '1:100000001-200000000': 0,\n",
       "         '1:200000001-249250621': 0,\n",
       "         '2:1-100000000': 0,\n",
       "         '2:100000001-200000000': 0,\n",
       "         '2:200000001-243199373': 0,\n",
       "         '3:1-100000000': 0,\n",
       "         '3:100000001-198022430': 0,\n",
       "         '4:1-100000000': 0,\n",
       "         '4:100000001-191154276': 0,\n",
       "         '5:1-100000000': 0,\n",
       "         '5:100000001-180915260': 0,\n",
       "         '6:1-100000000': 0,\n",
       "         '6:100000001-171115067': 0,\n",
       "         '7:1-100000000': 0,\n",
       "         '7:100000001-159138663': 0,\n",
       "         '8:1-100000000': 0,\n",
       "         '8:100000001-146364022': 0,\n",
       "         '9:1-100000000': 0,\n",
       "         '9:100000001-141213431': 0,\n",
       "         '10:1-100000000': 0,\n",
       "         '10:100000001-135534747': 0,\n",
       "         '11:1-100000000': 0,\n",
       "         '11:100000001-135006516': 0,\n",
       "         '12:1-100000000': 0,\n",
       "         '12:100000001-133851895': 0,\n",
       "         '13:1-100000000': 0,\n",
       "         '13:100000001-115169878': 0,\n",
       "         '14:1-100000000': 0,\n",
       "         '14:100000001-107349540': 0,\n",
       "         '15:1-100000000': 0,\n",
       "         '15:100000001-102531392': 0,\n",
       "         '16:1-90354753': 0,\n",
       "         '17:1-81195210': 0,\n",
       "         '18:1-78077248': 0,\n",
       "         '19:1-59128983': 0,\n",
       "         '20:1-63025520': 0,\n",
       "         '21:1-48129895': 0,\n",
       "         '22:1-51304566': 0,\n",
       "         'X:1-100000000': 0,\n",
       "         'X:100000001-155270560': 0,\n",
       "         'Y:1-59373566': 0})"
      ]
     },
     "metadata": {},
     "output_type": "display_data"
    }
   ],
   "source": [
    "stats=Counter()\n",
    "with open_file_obj(get_resource('small_example_bam')) as bam:\n",
    "    # we iterate of blocks (genomic intervals) with a maximum size of 100Mio bases\n",
    "    for block in get_reference_dict(bam).iter_blocks(int(1e8)):\n",
    "        # This BAM file was mapped to a GRCh37 version with chromosome names that were not prefixed by 'chr'.\n",
    "        # Here, we add this 'chr' prefix and then check whether this is a canonical chromosome name (chr1-22,X,Y,M)\n",
    "        if toggle_chr(block.chromosome) in canonical_chromosomes['GRCh38']:\n",
    "            # now we iterate over all reads overlapping with a block annd count the reads\n",
    "            with ReadIterator(bam, region=block, flag_filter=0) as it: # all: no filtering                \n",
    "                # here we record the considered genomic interval (block) and the number of iterated reads\n",
    "                stats[str(block)]=len(it.take())\n",
    "display(stats)"
   ]
  },
  {
   "cell_type": "markdown",
   "id": "9fdf7876-3d0f-475b-a5bf-2ea3bea35a09",
   "metadata": {
    "tags": []
   },
   "source": [
    "### FastPileupIterator\n",
    "Pygenlib contains a `FastPileupIterator` for fast pileup-style access to alignment columns. \n",
    "Here we compare it to [pysam](https://pysam.readthedocs.io/en/latest/)'s pileup method (which adds a lot of boilerplate + additional checks) and reach a >10X performance increase."
   ]
  },
  {
   "cell_type": "code",
   "execution_count": 43,
   "id": "72f9135a-9d2a-4a74-b37b-b97546641e7e",
   "metadata": {
    "tags": []
   },
   "outputs": [
    {
     "data": {
      "text/plain": [
       "Counter({('1', 22379015): Counter({'T': 1}),\n",
       "         ('1', 22379016): Counter({'C': 1}),\n",
       "         ('1', 22379017): Counter({'A': 1}),\n",
       "         ('1', 22379018): Counter({'C': 1}),\n",
       "         ('1', 22379019): Counter({'G': 1}),\n",
       "         ('1', 22379020): Counter({'A': 1}),\n",
       "         ('1', 22379021): Counter({'G': 1}),\n",
       "         ('1', 22379022): Counter({'C': 1}),\n",
       "         ('1', 22379023): Counter({'T': 1})})"
      ]
     },
     "metadata": {},
     "output_type": "display_data"
    },
    {
     "data": {
      "text/plain": [
       "'[...]'"
      ]
     },
     "metadata": {},
     "output_type": "display_data"
    },
    {
     "data": {
      "image/png": "[encoded data removed]",
      "text/plain": [
       "<Figure size 640x480 with 1 Axes>"
      ]
     },
     "metadata": {},
     "output_type": "display_data"
    }
   ],
   "source": [
    "reg=gi('1',22377202,22429853) # the iterated region\n",
    "times=Counter()\n",
    "with Timer(times, 'FastPileupIterator') as timer:\n",
    "    ac1=Counter()\n",
    "    with open_file_obj(get_resource('small_example_bam')) as bam:\n",
    "        for l,v in FastPileupIterator(bam, reg.chromosome, range(reg.start, reg.end)):\n",
    "            ac1[l.chromosome, l.start]=v\n",
    "with Timer(times, 'PysamPileup') as timer:\n",
    "    ac2=Counter()\n",
    "    with open_file_obj(get_resource('small_example_bam')) as bam:\n",
    "        for pu in bam.pileup(contig=reg.chromosome, start=reg.start-1, stop=reg.end-1, flag_filter=DEFAULT_FLAG_FILTER, \n",
    "                             truncate=True,mark_ends=True,add_indels=True,min_base_quality=0,min_mapping_quality=0,\n",
    "                             ignore_overlaps=False, ignore_orphans=False,\n",
    "                             max_depth=100000):\n",
    "            pos=(pu.reference_name, pu.reference_pos+1)\n",
    "            ac2[pos]=Counter()\n",
    "            for r in pu.pileups:\n",
    "                if r.is_refskip:\n",
    "                    continue\n",
    "                elif r.is_del:\n",
    "                    ac2[pos][None]+=1\n",
    "                else:\n",
    "                    ac2[pos][r.alignment.query_sequence[r.query_position]]+=1\n",
    "\n",
    "# PysamPileup will not iterate/report uncovered alignment columns. So, here we add an empty Counters for those positions\n",
    "for p in (ac1.keys() - ac2.keys()):\n",
    "    ac2[p]=Counter()\n",
    "          \n",
    "# now compare the resulting counters\n",
    "assert ac1==ac2\n",
    "\n",
    "# plot the times\n",
    "plot_times('Pileup performance', times, n=len(reg), our_method='FastPileupIterator')\n",
    "\n",
    "# show some example columns\n",
    "head_counter(ac1)"
   ]
  },
  {
   "cell_type": "markdown",
   "id": "d801946b-3d04-473d-a0d9-03f547557fe9",
   "metadata": {
    "tags": []
   },
   "source": [
    "### AnnotationIterator\n",
    "Annotation iterators are meant to annotate the genomic intervals yielded by one location iterator with data from multiple others. "
   ]
  },
  {
   "cell_type": "code",
   "execution_count": 9,
   "id": "79113d3d-12d6-4b1b-a230-ec9f51598e3d",
   "metadata": {
    "tags": []
   },
   "outputs": [
    {
     "name": "stderr",
     "output_type": "stream",
     "text": [
      "100%|███████████████████████████████████████████████████████████████████████████████████████████████████████████████████████████████████████████████████████| 1/1 [00:00<00:00, 25.61it/s]\n"
     ]
    },
    {
     "data": {
      "text/plain": [
       "'NA,CR11023@2L:7529-9484 (+) [2L:7556T>C, 2L:7902A>G, 2L:8124A>C, 2L:8263G>A, 2L:9204T>C]'"
      ]
     },
     "metadata": {},
     "output_type": "display_data"
    },
    {
     "data": {
      "text/markdown": [
       "---"
      ],
      "text/plain": [
       "<IPython.core.display.Markdown object>"
      ]
     },
     "metadata": {},
     "output_type": "display_data"
    },
    {
     "data": {
      "text/plain": [
       "'NA,CR11023@2L:7529-9484 (+) [2L:7556T>C, 2L:7902A>G, 2L:8124A>C, 2L:8263G>A, 2L:9204T>C]'"
      ]
     },
     "metadata": {},
     "output_type": "display_data"
    },
    {
     "data": {
      "text/markdown": [
       "---"
      ],
      "text/plain": [
       "<IPython.core.display.Markdown object>"
      ]
     },
     "metadata": {},
     "output_type": "display_data"
    },
    {
     "data": {
      "text/plain": [
       "'NA,CR11023@2L:7529-8116 (+) [2L:7556T>C, 2L:7902A>G]'"
      ]
     },
     "metadata": {},
     "output_type": "display_data"
    },
    {
     "data": {
      "text/markdown": [
       "---"
      ],
      "text/plain": [
       "<IPython.core.display.Markdown object>"
      ]
     },
     "metadata": {},
     "output_type": "display_data"
    },
    {
     "data": {
      "text/plain": [
       "'NA,CR11023@2L:8193-9484 (+) [2L:8263G>A, 2L:9204T>C]'"
      ]
     },
     "metadata": {},
     "output_type": "display_data"
    },
    {
     "data": {
      "text/markdown": [
       "---"
      ],
      "text/plain": [
       "<IPython.core.display.Markdown object>"
      ]
     },
     "metadata": {},
     "output_type": "display_data"
    },
    {
     "data": {
      "text/plain": [
       "'NA,l(2)gl@2L:9839-11344 (-) [2L:10018G>A, 2L:10089G>A, 2L:10610G>T]'"
      ]
     },
     "metadata": {},
     "output_type": "display_data"
    },
    {
     "data": {
      "text/markdown": [
       "---"
      ],
      "text/plain": [
       "<IPython.core.display.Markdown object>"
      ]
     },
     "metadata": {},
     "output_type": "display_data"
    }
   ],
   "source": [
    "# Iterate over annotations in a genomic subregion of the flybase GTF and \n",
    "# list the genotypes of annotated SNPs for 3 samples that overlap with those annotations\n",
    "gff_file=get_resource('flybase_gtf')\n",
    "vcf_file=get_resource('dmel_multisample_vcf')\n",
    "\n",
    "with AnnotationIterator(GFF3Iterator(gff_file, '2L', 1, 30000), \n",
    "                        VcfIterator(vcf_file, samples=['DGRP-208', 'DGRP-325', 'DGRP-721'])) as it:\n",
    "    for loc, (v1,v2) in it.take()[:5]:\n",
    "        display(f\"{v1.get('feature_id','NA')},{v1['gene_symbol']}@{loc} {[x.data for x in v2]}\", SEP)"
   ]
  },
  {
   "cell_type": "code",
   "execution_count": 6,
   "id": "8f6c387b-8bde-42fe-9590-ad5c859a9b8d",
   "metadata": {
    "tags": []
   },
   "outputs": [
    {
     "name": "stderr",
     "output_type": "stream",
     "text": [
      "  0%|                                                                                                                                                               | 0/2 [00:00<?, ?it/s]"
     ]
    },
    {
     "data": {
      "text/plain": [
       "'Annotation 1:6-10 (int1), sum:1.408'"
      ]
     },
     "metadata": {},
     "output_type": "display_data"
    },
    {
     "data": {
      "text/plain": [
       "'Annotation 1:10-15 (int2), sum:0.3'"
      ]
     },
     "metadata": {},
     "output_type": "display_data"
    },
    {
     "data": {
      "text/plain": [
       "'Annotation 2:10-150 (int3), sum:0'"
      ]
     },
     "metadata": {},
     "output_type": "display_data"
    },
    {
     "name": "stderr",
     "output_type": "stream",
     "text": [
      "100%|██████████████████████████████████████████████████████████████████████████████████████████████████████████████████████████████████████████████████████| 2/2 [00:00<00:00, 204.25it/s]\n"
     ]
    },
    {
     "data": {
      "text/plain": [
       "Counter({('iterated_items', '1'): 2, ('iterated_items', '2'): 1})"
      ]
     },
     "metadata": {},
     "output_type": "display_data"
    }
   ],
   "source": [
    "# Annotate all intervals in a BED file with sum of scores from a bedgraph file; supports bedgraph intervals >1bp: \n",
    "# score contribution is calculated from the interval overlap (this bedgraph file contains, e.g., an interval (1:7-10, 0.3))\n",
    "with AnnotationIterator(BedIterator(get_resource('test_bed')), \n",
    "                        BedGraphIterator(get_resource('test_bedgraph')), \n",
    "                        labels=['scores']) as it:\n",
    "    for loc, i in it:\n",
    "        display(f\"Annotation {i.anno}, sum:{sum([x.data*loc.overlap(x.location) for x in i.scores])}\")\n",
    "    display(it.stats)"
   ]
  },
  {
   "cell_type": "code",
   "execution_count": 7,
   "id": "0df5ed8a-61df-4475-ac37-50f4641d16e0",
   "metadata": {
    "tags": []
   },
   "outputs": [
    {
     "name": "stderr",
     "output_type": "stream",
     "text": [
      "  0%|                                                                                                                                                               | 0/2 [00:00<?, ?it/s]"
     ]
    },
    {
     "data": {
      "text/plain": [
       "'Annotation 1\\t5\\t10\\tint1\\n, sum:1.408'"
      ]
     },
     "metadata": {},
     "output_type": "display_data"
    },
    {
     "data": {
      "text/plain": [
       "'Annotation 1\\t9\\t15\\tint2\\n, sum:0.3'"
      ]
     },
     "metadata": {},
     "output_type": "display_data"
    },
    {
     "data": {
      "text/plain": [
       "'Annotation 2\\t9\\t150\\tint3\\n, sum:0'"
      ]
     },
     "metadata": {},
     "output_type": "display_data"
    },
    {
     "name": "stderr",
     "output_type": "stream",
     "text": [
      "100%|███████████████████████████████████████████████████████████████████████████████████████████████████████████████████████████████████████████████████████| 2/2 [00:00<00:00, 23.85it/s]\n"
     ]
    },
    {
     "data": {
      "text/plain": [
       "Counter({('yielded_items', '1'): 2, ('yielded_items', '2'): 1})"
      ]
     },
     "metadata": {},
     "output_type": "display_data"
    }
   ],
   "source": [
    "# Same as above, but now using pybedtools iterators\n",
    "with AnnotationIterator(PybedtoolsIterator(get_resource('test_bed')), \n",
    "                        PybedtoolsIterator(get_resource('test_bedgraph')), labels=['scores']) as it:\n",
    "    for loc, i in it:\n",
    "        # Note the slight differences. The returned data is now a pybedtools item, access to the bedgraph score is via the name\n",
    "        # attribute (but its a string, so we need to convert to float). \n",
    "        display(f\"Annotation {i.anno}, sum:{sum([float(x.data.name)*loc.overlap(x.location) for x in i.scores])}\")\n",
    "    display(it.stats) # Note that the PybedtoolsIterator also reports the actually yielded items"
   ]
  },
  {
   "cell_type": "markdown",
   "id": "b6c8483c-87ee-4af7-8e2e-6aa4cc1f905a",
   "metadata": {
    "tags": []
   },
   "source": [
    "## Transcriptome implementation\n",
    "_Pygenlib_ provides a transcriptome implementation that enables convenient access/filtering of genomic annotations via python. \n",
    "Briefly,a (filtered) input GTF/GFF file is parsed and respective (frozen) dataclasses that derive from the generic Feature class are instantiated. \n",
    "The implementation keeps track of parent/child relationships (e.g., between genes, transcripts and their exons) and enables efficient iteration/querying and annotation of genomic annotations. Data fields and annotations can conveniently be accessed by `<feature>.<attribute>`. \n",
    "\n",
    "Note that the current implementation does not implement the full GFF3 format as specified [here](https://github.com/The-Sequence-Ontology/Specifications/blob/master/gff3.md)\n",
    "but currently rather supports various popular gff 'flavours' as published by encode, ensembl, ucsc, mirgenedb and flybase.\n",
    "It also supports a 'generic' GFF3 format where all parsed features are interpreted as 'transcript' objects irrespecting the actual feature_type column.\n",
    "Respective parent 'gene' annotations are automatically added, no sub-features (exons, introns, etc.) are created.\n",
    "\n",
    "Here is a brief description of the datamodel depicted below:\n",
    "-   Model contains genes, transcripts and arbitrary sub-features (e.g., exons, intron, 3'/5'-UTRs, CDS) as defined\n",
    "    in the GFF file. Note that intron annotations are calculated automatically from exon annotations unless configured otherwise. \n",
    "    Frozen dataclasses (derived from the 'Feature' class) are created for all parsed feature\n",
    "    types automatically and users may configure which GTF/GFF attributes will be parsed and added to those dataclasses as fields.\n",
    "    \n",
    "-   A transcriptome maintains an `anno` dict that maps (frozen) features to dicts of arbitrary annotation values which supports the (incremental) annotation of annotation features. Annotation values can be accessed like GFF-parsed fields via 'dot' notation: `<feature>.<attribute>`. \n",
    "    \n",
    "-   The implementation exploits the hierarchical relationship between genes and their sub-features to optimize storage and computational requirements where posssible.        \n",
    "    Genomic sequences, for example, can be loaded from a reference genome via load_sequences() but will only be directly stored in strings attached to gene feature.\n",
    "    Sequences can then be accessed via transcriptome.get_sequence(). For sub-features (e.g., transcripts, exons, etc.) the respective sequence will be sliced from the \n",
    "    gene sequence on demand.  Note that despite being computed on demand, genomic sequences can still be accessed via `<feature>.sequence` which will call \n",
    "    transcriptome.get_sequence() with default parameters.\n",
    "    \n",
    "-   The get_sequence() method supports several modes:\n",
    "    If `mode='rna'` is passed, the sequence is returned in 5'-3' orientation, i.e., they are reverse-complemented\n",
    "    for minus-strand transcripts. The returned sequence will, however, still use the DNA alphabet (ACTG) to\n",
    "    enable direct alignment/comparison with genomic sequences.\n",
    "    if `mode='spliced'`, the spliced 5'-3' sequence will be returned.\n",
    "    if `mode='translated'`, the spliced 5'-3' CDS sequence will be returned.\n",
    "    \n",
    "-   Genomic range queries via query() are supported by a combination of interval and linear search queries.\n",
    "    A transcriptome object maintains one intervaltree per chromosome built from gene annotations.\n",
    "    Overlap/envelop queries will first be applied to the respective intervaltree and the (typically small\n",
    "    result sets) will then be filtered, e.g., for requested sub-feature types.\n",
    "    \n",
    "-   Transcriptome models can also be built from subsets of GFF/GTF files by filtering contained transcripts with a TranscriptFilter() that can restrict included chromosomes, genomic regions, transcript_ids, gene_types or transcripts with certain 'tag' values (as used in gencode).\n",
    "\n",
    "-   The transcriptome build process is configured by a single JSON file/dict as shown below. The transcriptome object keeps track of the numbers of filtered GFF entries in a `log` Counter object that is, e.g., useful for debugging. The 'structure' of the parsed features can be accessed via the `get_struct()` method.\n",
    "\n",
    "The following cells demonstrate some use cases."
   ]
  },
  {
   "cell_type": "markdown",
   "id": "b86ddee9-98a1-4b35-91f6-601fdea264ef",
   "metadata": {},
   "source": [
    "----"
   ]
  },
  {
   "cell_type": "markdown",
   "id": "e3d7f7f7-c82d-4d05-8983-caedd5ff681f",
   "metadata": {},
   "source": [
    "![transcriptome datamodel](pygenlib_transcriptome.png \"Transcriptome datamodel\")"
   ]
  },
  {
   "cell_type": "markdown",
   "id": "729131e5-fab9-4cee-930e-40a19019f3d7",
   "metadata": {},
   "source": [
    "### Basic access examples"
   ]
  },
  {
   "cell_type": "code",
   "execution_count": 12,
   "id": "8e471e34-334e-4c7f-af37-222d6df3e15a",
   "metadata": {
    "tags": []
   },
   "outputs": [
    {
     "name": "stderr",
     "output_type": "stream",
     "text": [
      "Building transcriptome (Filtered (0 tags, 0 tids, 0 genetypes, 1 chroms, 0 regions).): 100%|████████████████████████████████████████████████████████████████| 1/1 [00:00<00:00, 31.14it/s]\n",
      "Load sequences: 100%|█████████████████████████████████████████████████████████████████████████████████████████████████████████████████████████████████████| 5/5 [00:00<00:00, 2439.12it/s]\n",
      "Build interval tree: 100%|███████████████████████████████████████████████████████████████████████████████████████████████████████████████████████████████| 5/5 [00:00<00:00, 12249.72it/s]\n"
     ]
    },
    {
     "data": {
      "text/plain": [
       "Transcriptome with 5 genes and 22 tx (+seq)"
      ]
     },
     "metadata": {},
     "output_type": "display_data"
    },
    {
     "data": {
      "text/plain": [
       "Counter({'transcript': {'CDS',\n",
       "          'exon',\n",
       "          'five_prime_UTR',\n",
       "          'gene',\n",
       "          'intron',\n",
       "          'three_prime_UTR',\n",
       "          'transcript'},\n",
       "         'gene': {'transcript'},\n",
       "         'exon': set(),\n",
       "         'intron': set(),\n",
       "         'three_prime_UTR': set(),\n",
       "         'CDS': set(),\n",
       "         'five_prime_UTR': set()})"
      ]
     },
     "metadata": {},
     "output_type": "display_data"
    },
    {
     "data": {
      "text/plain": [
       "Counter({'parsed_gff_lines': 411})"
      ]
     },
     "metadata": {},
     "output_type": "display_data"
    }
   ],
   "source": [
    "# First, let's create a transcriptome containing dmel chromosome 2L annotation from a flybase annotation file.\n",
    "config = {\n",
    "        'genome_fa': get_resource('dmel_genome'),      # genome FASTA\n",
    "        'annotation_gff': get_resource('flybase_gtf'), # Gene annotation GTF/GFF file\n",
    "        'annotation_flavour': 'flybase',               # flavour of the annotation file.\n",
    "        'transcript_filter': {                         # a simple filter that will include only annotations from 2L\n",
    "            'included_chrom': ['2L']\n",
    "        },\n",
    "        'load_sequences': True # load sequences from configured genome FASTA file\n",
    "    }\n",
    "t = Transcriptome(config)\n",
    "# show some stats/debugging information\n",
    "display(t)\n",
    "display(t.get_struct())\n",
    "display(t.log)"
   ]
  },
  {
   "cell_type": "code",
   "execution_count": 13,
   "id": "7219dabf-fba9-4d25-8176-844d93e2cdb6",
   "metadata": {
    "tags": []
   },
   "outputs": [
    {
     "data": {
      "text/plain": [
       "\"Transcript types: Counter({'transcript': 22})\""
      ]
     },
     "metadata": {},
     "output_type": "display_data"
    },
    {
     "data": {
      "text/plain": [
       "\"Transcripts of gene 'l(2)gl': ['FBtr0306591', 'FBtr0078169', 'FBtr0078168', 'FBtr0078170', 'FBtr0306592', 'FBtr0306590', 'FBtr0078167', 'FBtr0330655', 'FBtr0078171', 'FBtr0078166', 'FBtr0306589'].\""
      ]
     },
     "metadata": {},
     "output_type": "display_data"
    },
    {
     "data": {
      "text/plain": [
       "\"Number of exons per l(2)gl tx: {'FBtr0306591': 10, 'FBtr0078169': 10, 'FBtr0078168': 9, 'FBtr0078170': 9, 'FBtr0306592': 11, 'FBtr0306590': 9, 'FBtr0078167': 9, 'FBtr0330655': 9, 'FBtr0078171': 10, 'FBtr0078166': 9, 'FBtr0306589': 10}\""
      ]
     },
     "metadata": {},
     "output_type": "display_data"
    },
    {
     "data": {
      "text/plain": [
       "\"So, the gene of transcript 'FBtr0330655' is l(2)gl\""
      ]
     },
     "metadata": {},
     "output_type": "display_data"
    }
   ],
   "source": [
    "# Now, lets access some data:                                                                          \n",
    "display(f\"Transcript types: {Counter([tx.feature_type for tx in t.transcripts])}\") # count all transcript_type fields that were parsed from the flybase feature_types\n",
    "display(f\"Transcripts of gene 'l(2)gl': {[tx.feature_id for tx in t.gene['l(2)gl'].transcript]}.\") # query gene by name and get its transcripts\n",
    "display(f\"Number of exons per l(2)gl tx: { {tx.feature_id:len(tx.exon) for tx in t.gene['l(2)gl'].transcript} }\") # get number of exons for all l(2)gl transcripts\n",
    "display(f\"So, the gene of transcript 'FBtr0330655' is {t.transcript['FBtr0330655'].parent.gene_name}\") # Access transcript by id and show the name field of its gene (=parent)"
   ]
  },
  {
   "cell_type": "code",
   "execution_count": 14,
   "id": "46dade69-ec27-4745-966f-542ead42a887",
   "metadata": {
    "tags": []
   },
   "outputs": [
    {
     "data": {
      "text/plain": [
       "'The gene l(2)gl is located on chromosome 2L at 2L:9839-21376 (-) '"
      ]
     },
     "metadata": {},
     "output_type": "display_data"
    },
    {
     "data": {
      "text/markdown": [
       "---"
      ],
      "text/plain": [
       "<IPython.core.display.Markdown object>"
      ]
     },
     "metadata": {},
     "output_type": "display_data"
    },
    {
     "data": {
      "text/html": [
       "<textarea rows='4' cols='120'>{'CDS': (CDS@2L:17053-17136,\n",
       "         CDS@2L:14933-15711,\n",
       "         CDS@2L:13683-14874,\n",
       "         CDS@2L:13520-13625,\n",
       "         CDS@2L:12286-12928,\n",
       "         CDS@2L:11779-12221,\n",
       "         CDS@2L:11410-11518,\n",
       "         CDS@2L:11218-11344),\n",
       " 'chromosome': '2L',\n",
       " 'end': 21376,\n",
       " 'exon': (exon@2L:21066-21376,\n",
       "          exon@2L:19880-20020,\n",
       "          exon@2L:17053-17212,\n",
       "          exon@2L:14933-15711,\n",
       "          exon@2L:13683-14874,\n",
       "          exon@2L:13520-13625,\n",
       "          exon@2L:12286-12928,\n",
       "          exon@2L:11779-12221,\n",
       "          exon@2L:11410-11518,\n",
       "          exon@2L:9839-11344),\n",
       " 'feature_id': 'FBtr0306591',\n",
       " 'feature_type': 'transcript',\n",
       " 'five_prime_UTR': (five_prime_UTR@2L:21066-21376,\n",
       "                    five_prime_UTR@2L:19880-20020,\n",
       "                    five_prime_UTR@2L:17137-17212),\n",
       " 'gene': (),\n",
       " 'gene_type': None,\n",
       " 'gff_feature_type': 'mRNA',\n",
       " 'intron': (intron@2L:20021-21065,\n",
       "            intron@2L:17213-19879,\n",
       "            intron@2L:15712-17052,\n",
       "            intron@2L:14875-14932,\n",
       "            intron@2L:13626-13682,\n",
       "            intron@2L:12929-13519,\n",
       "            intron@2L:12222-12285,\n",
       "            intron@2L:11519-11778,\n",
       "            intron@2L:11345-11409),\n",
       " 'parent': gene@2L:9839-21376,\n",
       " 'source': 'FlyBase',\n",
       " 'start': 9839,\n",
       " 'strand': '-',\n",
       " 'subfeature_types': ('transcript',\n",
       "                      'five_prime_UTR',\n",
       "                      'CDS',\n",
       "                      'exon',\n",
       "                      'three_prime_UTR',\n",
       "                      'gene',\n",
       "                      'intron'),\n",
       " 'three_prime_UTR': (three_prime_UTR@2L:9839-11214,),\n",
       " 'transcript': (),\n",
       " 'transcriptome': Transcriptome with 5 genes and 22 tx (+seq)}</textarea>"
      ],
      "text/plain": [
       "<IPython.core.display.HTML object>"
      ]
     },
     "metadata": {},
     "output_type": "display_data"
    },
    {
     "data": {
      "text/plain": [
       "'transcript_id: FBtr0306591, location: 2L:9839-21376 (-), 1st exon rnk: 1'"
      ]
     },
     "metadata": {},
     "output_type": "display_data"
    }
   ],
   "source": [
    "# Some more access examples\n",
    "# genes can be accessed by name or gene id; their location\n",
    "display(f\"The gene {t.gene['l(2)gl'].gene_name} is located on chromosome {t.gene['l(2)gl'].location.chromosome} at {t.gene['FBgn0002121'].location} \", SEP) \n",
    "\n",
    "# you can inspect the fields of a transcriptome feature with regular python methods, e.g. vars()\n",
    "# Here we show, e.g., the structure of the 1st transcript\n",
    "tx=t.gene['l(2)gl'].transcript[0]\n",
    "display_textarea(pprint.pformat(vars(tx)))\n",
    "\n",
    "# fields as well as dynamic annotations (see below) can be accessed by <feature>.<attribute/field> notation\n",
    "# this includes calculated annotations such as location and rnk (exon/intron number)\n",
    "display(f\"transcript_id: {tx.feature_id}, location: {tx.location}, 1st exon rnk: {tx.exon[0].rnk}\")\n"
   ]
  },
  {
   "cell_type": "markdown",
   "id": "6b60abc5-91a3-479a-a2d9-3e02d29fd554",
   "metadata": {
    "tags": []
   },
   "source": [
    "### Sequence access"
   ]
  },
  {
   "cell_type": "code",
   "execution_count": 15,
   "id": "6cda166c-385c-42c8-958a-b9afb116585c",
   "metadata": {
    "tags": []
   },
   "outputs": [
    {
     "data": {
      "text/html": [
       "<textarea rows='4' cols='120'>Sequence of 1st FBtr0330655 exon: CTTTATGTATTTCCGTTTGTACGGTTAAGGCGGTGGCCGAGTAATTTTTTGAACTATTTTATTTGCTCACCATCACGCATAAGTTTGTATGTATTCTTATGTTGAGAAACGCCCGCACTGTTCTTCACATCGTTGCTTTAAATGAGAATAAATGAAATAAACGTGTCAACCAAGAACACACAGATAATAATACGACCGGTCAGAGCTTAACCGTGTATCTGTTTTATAAAACGTGAACAATATTATTAGCCCAAAACGATATGCGCGTCATTTTAACACACACAAAGTCGCGATCGGTGGGTCTAGTGTGC</textarea>"
      ],
      "text/plain": [
       "<IPython.core.display.HTML object>"
      ]
     },
     "metadata": {},
     "output_type": "display_data"
    },
    {
     "data": {
      "text/html": [
       "<textarea rows='4' cols='120'>Spliced sequence of FBtr0330655: GCACACTAGACCCACCGATCGCGACTTTGTGTGTGTTAAAATGACGCGCATATCGTTTTGGGCTAATAATATTGTTCACGTTTTATAAAACAGATACACGGTTAAGCTCTGACCGGTCGTATTATTATCTGTGTGTTCTTGGTTGACACGTTTATTTCATTTATTCTCATTTAAAGCAACGATGTGAAGAACAGTGCGGGCGTTTCTCAACATAAGAATACATACAAACTTATGCGTGATGGTGAGCAAATAAAATAGTTCAAAAAATTACTCGGCCACCGCCTTAACCGTACAAACGGAAATACATAAAGTTTAGAATAAATTCGGCCACAATTAATATACTTATTTATTCATCAAAACCAAACCACCACAAGAGCATAACCAATCATGTTAAAGTTTATCAGAGGAAAAGGGCAGCAGCCCAGTGCTGACAGACAACGCTACATCGTAAGTTTAGAATAAATACGGCCACAATTAGTATACATATTTATTCATCGAAACCAACCCACCACAAGAGCATAACCAATTATGTTAAAGTTTATCAGAGGAAAAGGGCAGCAGCCCAGTGCTGACAGACACCGCCTACAGAAGGACCTTTTTGCTTATCGTAAGACGGCACAGCATGGCTTTCCTCATAAGCCTTCGGCTCTTGCGTATGATCCAGTTTTGAAACTTATGGCAATAGGGACGCAAACAGGGGCTTTAAAAGTTTTCGGTCAACCCGGAGTTGAATTGTACGGTCAGCATACTTTGTTAAACAATTCAGCATCGGAGCTTAATGTACAATTACTTGAATGGGTGTATGGAACTGGTCGCATACTTTCGTTGACGGCAGCGAATCAATTAATTCTATGGGAGCCAGTTGGAGCAACGTTGCTGCCAATCAAAACACTACCGTTTGACGGCAAACTTAAAAAAGTTTCATCGCTGTGCTGTTCTCTCAGTAAGGATCTGCTATGGATTGGAACAGAAGGTGGAAACATCTATCAACTGGATTTACATACATTTACCATTAAGGAGCCTGTAATTTACCATGACGTTGTGCTAGAGCAGGTGCCACCAGCCTACAAGCTAAATCCTGGTGCAATTGAGTCAATCCGCCAACTTCCAAACTCCCCTAGCAAACTTCTAGTTGCATACAATCGCGGCCTTTGTGTTTTGTGGGATTTTGAAAGCGCATCTGTCCAGCGAGCATACATAGCCCCTGGACATGGACAGAGCGTTGGTCTTACAGTGAACTTCGAAGGATCTGAATTTACCTGGTACCACGCTGATGGTTCATACGCCACTTGGAGCATAGATAACCCAGAACCGCCGTCGAATGTTAATTATGTGCCTTATGGACCTGATCCATGCAAAAGCATAAATCGACTGTACAAAGGCAAGCGAAGATCCAACGATGTAATTGTTTTTTCCGGCGGCATGCCACGGTCAGCATATGGTGATCACAATTGTGTGTCCGTTCACGCCAGCGATGGACACAAAGTGTGTCTTGACTTTACGTCTAAAGTGATTGACTTTTTTGTGACCTTTGAAAATAATAGAGATGTCGCTGAAGTTCTTGTTGTACTACTTGAAGAGGAACTCTGCGCTTACGATCTTACTGACCCTAATATTTGTGCTATCAAAGCGCCATATCTTCACTCTGTCCATGCATCAGCTGTCACTTGCAATTACCTTGCTTCTGAAGTCGTACAGTCGGTATATGAAAGTATTTTAAGAGCTGGAGATGAACAAGACATTGACTATAGCAATATTAGCTGGCCTATCACTGGCGGTACTCTCCCGGATAACTTAGAAGAATCTGTAGAAGAGGACGCGACTAAGCTTTATGAGATTTTGTTAACTGGTCACGAAGATGGTTCTGTTAAATTTTGGGACTGCACTGGAGTGTTGCTTAAACCAATTTATAATTTTAAAACTAGCAGCATTTTTGGAAGTGAGTCAGACTTCCGAGATGACGCAGCTGCAGATATGAGTGCGGAACAAGTCGATGAAGGAGAACCGCCATTTCGGAAATCAGGACTTTTTGATCCTTATTCAGATGACCCTCGTTTAGCAGTGAAGAAAATAGCATTCTGCCCAAAAACCGGACAACTTATTGTTGGTGGCACAGCGGGCCAAATAGTTATAGCCGACTTCATAGACTTACCCGAAAAAGTGTCTTTAAAATACATTTCAATGAATTTGGTCAGCGATCGTGATGGATTTGTGTGGAAGGGTCACGATCAGTTAAACGTGCGATCGAACTTATTAGACGGAGAAGCAATTCCTACGACGGAACGTGGTGTAAATATATCGGGAGTACTGCAAGTTTTGCCGCCAGCCAGCATAACATGCATGGCACTCGAAGCAAGCTGGGGCCTAGTATCTGGTGGGACTGCGCACGGCTTAGTTCTCTTTGACTTCAAAAACTTTGTTCCAGTATTTCATCGCTGCACTTTAAACCCAAATGATCTTACTGGAGCAGGAGAGCAGCTGTCTCGTCGAAAGTCTTTTAAGAAATCATTGAGGGAGTCATTTAGAAAGCTTCGCAAGGGTCGATCGACCAGGACCAACCAGAGCAATCAAGTACCAACAACGCTGGAAGCAAGACCCGTCGAGAGGCAAATAGAGGCTCGTTGTGCAGATGACGGGCTAGGATCCATGGTGCGATGTTTACTATTTGCCAAAACTTATGTTACTAATGTCAACATAACGTCGCCAACTTTGTGGTCAGCAACAAATGCCAGTACAGTCTCGGTTTTCCTTCTGCATTTGCCACCAGCGCAGACCGCGGCAACTGCCGTCCCGTCGGCAAGTGGCAATGCACCACCACACATGCCCCGCCGAATTTCTGCGCAGCTTGCTAAAGAAATACAATTAAAACATCGTGCTCCTGTGGTGGGTATTTCTATTTTTGATCAGGCGGGTAGCCCTGTCGATCAGCTGAACGCCGGTGAAAACGGGAGTCCACCGCATCGTGTACTTATTGCTTCCGAGGAACAGTTCAAGGTGTTTTCACTTCCGCAACTAAAGCCGATTAACAAATATAAGCTTACCGCTAACGAAGGTGCTCGGATTCGCCGCATCCATTTTGGTTCGTTTAGTTGTCGCATATCCCCGGAAACACTGCAGAGTATGCACGGTTGTAGCCCAACTAAGTCCACGCGTTCACATGGCGATGGAGAGGCGGATCCTAATATCAGTGGAAGCTTGGCTGTAAGTCGTGGAGATGTATATAACGAAACAGCATTGATATGTTTAACGAATATGGGCGATATCATGGTTTTATCAGTACCTGAATTAAAAAGACAGCTGAATGCCGCAGCAGTGCGACGGGAAGACATTAATGGAGTTTCGTCACTTTGCTTTACAAACTCTGGAGAAGCACTGTATATGATGTCTTCTTCTGAACTGCAGCGTATTGCTTTAGCCACGTCCAGAGTCGTGCAACCCACTGGCGTTGTTCCAGTAGAACCATTAGAAAATGAAGAGTCTGTGTTGGAAGAAAATGATGCAGAGAATAATAAGGAAACCTACGCATGTGATGAAGTTGTGAATACATATGAAATTAAAAATCCATCAGGCATTTCAATATGCACAAGGCCTGCAGAGGAAAACGTTGGAAGAAATAGTGTTCAGCAAGTTAATGGAGTCAACATTTCAAATTCACCTAATCAAGCTAACGAGACTATCAGCAGCTCTATTGGCGATATTACCGTTGACTCGGTGCGCGACCATTTAAATATGACGACCACCACTTTGTGTTCTATTAATACAGAGGAAACCATTGAAATACGACGGAAACGAGTACTAGTTCTGTTGTAATTAAATCTATAATTACAAACATTTCTCATGAAAAAACGAACGGAGACAACAAAATAGGAACGCCAAAAACAGCGCCTGAAGAAAGCCAATTTTAACATTGACAGAAGCCGTAACCTACTAATTATTTTATACCTTTACAGAAATACGACGCAAACGAGTACTAGTCCTGATGTAATTTAATCTATAATTACAAACATGTCTCACTAAAAATCGAACGGGGACAGCAAAATAGGAACGCAAAAAAATTAAATTAAATTAAACGCGATTTACATACAAACAGAAATGACAGAATGATAATATAAAATATTCATTTTTTATTTGGCTTAAGCGATGTTGTTGTTCCAAAACCATATAATTATTTATGATTTTATGTAATGTTTTCATGTATTTTCGCGTAGTGACTTTATACCCTTTACCCGTATGATGAAACGAAACATGATATTTGTAGAAAGGTACAAAGGATAAAAGTTGACATTTAAGGCCGATTGTAAAATATTAAAACGCAACCTGGATAACATGCCGATTAATTACTTCTGTTCGTCCGTATAAACACAAATACCGATAAATTGGTCCGTCCCCATTTAATAAATTGTATATTAAAATGGTCTTTATTTTGGATAAATAATTCAAATTATATAGGAACATTTGGGTTTTAAGGGATAGAAACAGCGCTGGTGTCTTTCATTTCCGTTCGTATGACCGTTCAAAGATTATAAAAAAATTGTCGTGCCCACATTTTTTAAATTTCTTTTATTTTCGGTTAAAATATTGTGATACAAAAAAATGCCCTTACAAAATTAGGACAACAACAATTTGCTTTATTATGATGAACAAATTAGGAGTACAAAAAATAGCCTGATGCAAGGATGGGGAGAAAAAAGACCTTGAAGTTCAAAAGAATTTGTTGTATCAAATCCTCAATAAGAAAACTACTTAAAATTAAAAGCGTGTTTCAAATTAATTGTAGAATATTTCGTAAAATGAAATTGCAAACTTTTTTAGCACGAAATTACATGTATTTAATTCTTTGGCTAATACGTCAGTTAAAAAAGGCTACATTTTGATGATACTCACAAATGTAATTTTTGCATTCTACACAGGTGCAATTAAAAAATTATGGTTTTTATGAGTTTTAGAGGGAAGAAAATATGTCAATATGAGAAGTAAGTTAATGAGCCTTCAAGTACTTTAGTACATAATGTAATTTAATTTTAGAAATCCTACGGCTTTATATTCAATTGTAAAGTATTTTAAAATTCCTGACGATTTGTAGTAATTGTTTTGTTCTTAGCTTTTTTGCATTCTCCTCCGTTACTCCGTTACTCGTATAGTAAAAGGTATAGTATATACAATAGTATTGTAGATTCGTTGAGAAGTATGTTACAGGCAGAAGGAAGCTTTTCCGACCATATAAAGTATATAATTGAGTATTTAGCTTAGGATTATTAATAAAACATGTATTTTATTTAAC</textarea>"
      ],
      "text/plain": [
       "<IPython.core.display.HTML object>"
      ]
     },
     "metadata": {},
     "output_type": "display_data"
    },
    {
     "data": {
      "text/html": [
       "<textarea rows='4' cols='120'>Spliced sequence of FBtr0330655 showing SJ ('*'): GCACACTAGACCCACCGATCGCGACTTTGTGTGTGTTAAAATGACGCGCATATCGTTTTGGGCTAATAATATTGTTCACGTTTTATAAAACAGATACACGGTTAAGCTCTGACCGGTCGTATTATTATCTGTGTGTTCTTGGTTGACACGTTTATTTCATTTATTCTCATTTAAAGCAACGATGTGAAGAACAGTGCGGGCGTTTCTCAACATAAGAATACATACAAACTTATGCGTGATGGTGAGCAAATAAAATAGTTCAAAAAATTACTCGGCCACCGCCTTAACCGTACAAACGGAAATACATAAAG*TTTAGAATAAATTCGGCCACAATTAATATACTTATTTATTCATCAAAACCAAACCACCACAAGAGCATAACCAATCATGTTAAAGTTTATCAGAGGAAAAGGGCAGCAGCCCAGTGCTGACAGACAACGCTACATCGTAAG*TTTAGAATAAATACGGCCACAATTAGTATACATATTTATTCATCGAAACCAACCCACCACAAGAGCATAACCAATTATGTTAAAGTTTATCAGAGGAAAAGGGCAGCAGCCCAGTGCTGACAGACACCGCCTACAGAAGGACCTTTTTGCTTATCGTAAG*ACGGCACAGCATGGCTTTCCTCATAAGCCTTCGGCTCTTGCGTATGATCCAGTTTTGAAACTTATGGCAATAGGGACGCAAACAGGGGCTTTAAAAGTTTTCGGTCAACCCGGAGTTGAATTGTACGGTCAGCATACTTTGTTAAACAATTCAGCATCGGAGCTTAATGTACAATTACTTGAATGGGTGTATGGAACTGGTCGCATACTTTCGTTGACGGCAGCGAATCAATTAATTCTATGGGAGCCAGTTGGAGCAACGTTGCTGCCAATCAAAACACTACCGTTTGACGGCAAACTTAAAAAAGTTTCATCGCTGTGCTGTTCTCTCAGTAAGGATCTGCTATGGATTGGAACAGAAGGTGGAAACATCTATCAACTGGATTTACATACATTTACCATTAAGGAGCCTGTAATTTACCATGACGTTGTGCTAGAGCAGGTGCCACCAGCCTACAAGCTAAATCCTGGTGCAATTGAGTCAATCCGCCAACTTCCAAACTCCCCTAGCAAACTTCTAGTTGCATACAATCGCGGCCTTTGTGTTTTGTGGGATTTTGAAAGCGCATCTGTCCAGCGAGCATACATAGCCCCTGGACATGGACAGAGCGTTGGTCTTACAGTGAACTTCGAAGGATCTGAATTTACCTGGTACCACGCTGATGGTTCATACGCCACTTGGAGCATAGATAACCCAGAACCGCCGTCGAATGTTAATTATGTGCCTTATGGACCTGATCCATGCAAAAGCATAAATCGACTGTACAAAGGCAAGCGAAG*ATCCAACGATGTAATTGTTTTTTCCGGCGGCATGCCACGGTCAGCATATGGTGATCACAATTGTGTGTCCGTTCACGCCAGCGATGGACACAAAGTGTGTCTTGACTTTACGTCTAAAGTGATTGACTTTTTTGTGACCTTTGAAAATAATAGAGATGTCGCTGAAGTTCTTGTTGTACTACTTGAAGAGGAACTCTGCGCTTACGATCTTACTGACCCTAATATTTGTGCTATCAAAGCGCCATATCTTCACTCTGTCCATGCATCAGCTGTCACTTGCAATTACCTTGCTTCTGAAGTCGTACAGTCGGTATATGAAAGTATTTTAAGAGCTGGAGATGAACAAGACATTGACTATAGCAATATTAGCTGGCCTATCACTGGCGGTACTCTCCCGGATAACTTAGAAGAATCTGTAGAAGAGGACGCGACTAAGCTTTATGAGATTTTGTTAACTGGTCACGAAGATGGTTCTGTTAAATTTTGGGACTGCACTGGAGTGTTGCTTAAACCAATTTATAATTTTAAAACTAGCAGCATTTTTGGAAGTGAGTCAGACTTCCGAGATGACGCAGCTGCAGATATGAGTGCGGAACAAGTCGATGAAGGAGAACCGCCATTTCGGAAATCAGGACTTTTTGATCCTTATTCAGATGACCCTCGTTTAGCAGTGAAGAAAATAGCATTCTGCCCAAAAACCGGACAACTTATTGTTGGTGGCACAGCGGGCCAAATAGTTATAGCCGACTTCATAGACTTACCCGAAAAAGTGTCTTTAAAATACATTTCAATGAATTTGGTCAGCGATCGTGATGGATTTGTGTGGAAGGGTCACGATCAGTTAAACGTGCGATCGAACTTATTAGACGGAGAAGCAATTCCTACGACGGAACGTGGTGTAAATATATCGGGAGTACTGCAAGTTTTGCCGCCAGCCAGCATAACATGCATGGCACTCGAAGCAAGCTGGGGCCTAGTATCTGGTGGGACTGCGCACGGCTTAGTTCTCTTTGACTTCAAAAACTTTGTTCCAGTATTTCATCGCTGCACTTTAAACCCAAATGATCTTACTGGAGCAGGAGAGCAGCTGTCTCGTCGAAAGTCTTTTAAGAAATCATTGAGGGAGTCATTTAGAAAGCTTCGCAAGGGTCGATCGACCAGGACCAACCAGAGCAATCAAGTACCAACAACG*CTGGAAGCAAGACCCGTCGAGAGGCAAATAGAGGCTCGTTGTGCAGATGACGGGCTAGGATCCATGGTGCGATGTTTACTATTTGCCAAAACTTATGTTACTAATG*TCAACATAACGTCGCCAACTTTGTGGTCAGCAACAAATGCCAGTACAGTCTCGGTTTTCCTTCTGCATTTGCCACCAGCGCAGACCGCGGCAACTGCCGTCCCGTCGGCAAGTGGCAATGCACCACCACACATGCCCCGCCGAATTTCTGCGCAGCTTGCTAAAGAAATACAATTAAAACATCGTGCTCCTGTGGTGGGTATTTCTATTTTTGATCAGGCGGGTAGCCCTGTCGATCAGCTGAACGCCGGTGAAAACGGGAGTCCACCGCATCGTGTACTTATTGCTTCCGAGGAACAGTTCAAGGTGTTTTCACTTCCGCAACTAAAGCCGATTAACAAATATAAGCTTACCGCTAACGAAGGTGCTCGGATTCGCCGCATCCATTTTGGTTCGTTTAGTTGTCGCATATCCCCGGAAACACTGCAGAGTATGCACGGTTGTAGCCCAACTAAGTCCACGCGTTCACATGGCGATGGAGAGGCGGATCCTAATATCAGTGGAAGCTTGGCTGTAAGTCGTGGAGATGTATATAACGAAACAGCATTGATATGTTTAACGAATATGGGCGATATCATGGTTTTATCAGTACCTGAATTAAAAAGACAGCTGAATGCCGCAGCAGTGCGACGGGAAGACATTAA*TGGAGTTTCGTCACTTTGCTTTACAAACTCTGGAGAAGCACTGTATATGATGTCTTCTTCTGAACTGCAGCGTATTGCTTTAGCCACGTCCAGAGTCGTGCAACCCACTGGCGTTGTTCCAGTAGAACCATTAGAAAATGAAGAGTCTGTGTTGGAAGAAAATGATGCAGAGAATAATAAGGAAACCTACGCATGTGATGAAGTTGTGAATACATATGAAATTAAAAATCCATCAGGCATTTCAATATGCACAAGGCCTGCAGAGGAAAACGTTGGAAGAAATAGTGTTCAGCAAGTTAATGGAGTCAACATTTCAAATTCACCTAATCAAGCTAACGAGACTATCAGCAGCTCTATTGGCGATATTACCGTTGACTCGGTGCGCGACCATTTAAATATGACGACCACCACTTTGTGTTCTATTAATACAGAGGAAACCATTG*AAATACGACGGAAACGAGTACTAGTTCTGTTGTAATTAAATCTATAATTACAAACATTTCTCATGAAAAAACGAACGGAGACAACAAAATAGGAACGCCAAAAACAGCGCCTGAAGAAAGCCAATTTTAACATTGACAGAAGCCGTAACCTACTAATTATTTTATACCTTTACAGAAATACGACGCAAACGAGTACTAGTCCTGATGTAATTTAATCTATAATTACAAACATGTCTCACTAAAAATCGAACGGGGACAGCAAAATAGGAACGCAAAAAAATTAAATTAAATTAAACGCGATTTACATACAAACAGAAATGACAGAATGATAATATAAAATATTCATTTTTTATTTGGCTTAAGCGATGTTGTTGTTCCAAAACCATATAATTATTTATGATTTTATGTAATGTTTTCATGTATTTTCGCGTAGTGACTTTATACCCTTTACCCGTATGATGAAACGAAACATGATATTTGTAGAAAGGTACAAAGGATAAAAGTTGACATTTAAGGCCGATTGTAAAATATTAAAACGCAACCTGGATAACATGCCGATTAATTACTTCTGTTCGTCCGTATAAACACAAATACCGATAAATTGGTCCGTCCCCATTTAATAAATTGTATATTAAAATGGTCTTTATTTTGGATAAATAATTCAAATTATATAGGAACATTTGGGTTTTAAGGGATAGAAACAGCGCTGGTGTCTTTCATTTCCGTTCGTATGACCGTTCAAAGATTATAAAAAAATTGTCGTGCCCACATTTTTTAAATTTCTTTTATTTTCGGTTAAAATATTGTGATACAAAAAAATGCCCTTACAAAATTAGGACAACAACAATTTGCTTTATTATGATGAACAAATTAGGAGTACAAAAAATAGCCTGATGCAAGGATGGGGAGAAAAAAGACCTTGAAGTTCAAAAGAATTTGTTGTATCAAATCCTCAATAAGAAAACTACTTAAAATTAAAAGCGTGTTTCAAATTAATTGTAGAATATTTCGTAAAATGAAATTGCAAACTTTTTTAGCACGAAATTACATGTATTTAATTCTTTGGCTAATACGTCAGTTAAAAAAGGCTACATTTTGATGATACTCACAAATGTAATTTTTGCATTCTACACAGGTGCAATTAAAAAATTATGGTTTTTATGAGTTTTAGAGGGAAGAAAATATGTCAATATGAGAAGTAAGTTAATGAGCCTTCAAGTACTTTAGTACATAATGTAATTTAATTTTAGAAATCCTACGGCTTTATATTCAATTGTAAAGTATTTTAAAATTCCTGACGATTTGTAGTAATTGTTTTGTTCTTAGCTTTTTTGCATTCTCCTCCGTTACTCCGTTACTCGTATAGTAAAAGGTATAGTATATACAATAGTATTGTAGATTCGTTGAGAAGTATGTTACAGGCAGAAGGAAGCTTTTCCGACCATATAAAGTATATAATTGAGTATTTAGCTTAGGATTATTAATAAAACATGTATTTTATTTAAC</textarea>"
      ],
      "text/plain": [
       "<IPython.core.display.HTML object>"
      ]
     },
     "metadata": {},
     "output_type": "display_data"
    },
    {
     "data": {
      "text/plain": [
       "'tx FBtr0309226, exon 1: dnaseq=GGAGGATGAGTTCCGCGGTTGGGCGTGGATATCACGTCTCGATCCTGATTACTGTACATGGCACTGCCCCGGTTCCTGTTGTTGTTT, rnaseq=AAACAACAACAGGAACCGGGGCAGTGCCATGTACAGTAATCAGGATCGAGACGTGATATCCACGCCCAACCGCGGAACTCATCCTCC'"
      ]
     },
     "metadata": {},
     "output_type": "display_data"
    },
    {
     "data": {
      "text/markdown": [
       "---"
      ],
      "text/plain": [
       "<IPython.core.display.Markdown object>"
      ]
     },
     "metadata": {},
     "output_type": "display_data"
    }
   ],
   "source": [
    "# Genomic sequences are another example for dynamically calculated annotations. \n",
    "# They must first be loaded for each gene annotation with load_sequences() \n",
    "# which is done automatically if 'load_sequences': True is configured.\n",
    "# They can be accessed by the t.get_sequence() method or by <feature>.sequence which calls \n",
    "# get_sequence() with default params.\n",
    "# W demonstrate this by accessing some data of a transcript of the 'l(2)gl-RJ (FBgn0002121)' gene\n",
    "\n",
    "display_textarea(f\"Sequence of 1st FBtr0330655 exon: {t.transcript['FBtr0330655'].exon[0].sequence}\")\n",
    "display_textarea(f\"Spliced sequence of FBtr0330655: {t.transcript['FBtr0330655'].spliced_sequence}\")\n",
    "\n",
    "# SJs can be displayed by calling get_sequence(mode='spliced', show_exon_boundaries=True)\n",
    "display_textarea(f\"Spliced sequence of FBtr0330655 showing SJ ('*'): {t.get_sequence(t.transcript['FBtr0330655'] ,mode='spliced', show_exon_boundaries=True)}\")\n",
    "\n",
    "# sequences will be reverse complemented for - strand transcripts if mode='rna'\n",
    "# get random minustrand tx\n",
    "tx=random.sample([tx for tx in t.transcripts if tx.strand=='-'], 1)[0]\n",
    "\n",
    "# show sequence of 1st exon in dna and rna mode\n",
    "display(f\"tx {tx.feature_id}, exon 1: dnaseq={t.get_sequence(tx.exon[0], mode='dna')}, rnaseq={t.get_sequence(tx.exon[0], mode='rna')}\", SEP)"
   ]
  },
  {
   "cell_type": "code",
   "execution_count": 16,
   "id": "5ebd281e-d879-4ce3-a277-c540b8ac001b",
   "metadata": {
    "tags": []
   },
   "outputs": [
    {
     "data": {
      "text/html": [
       "<textarea rows='4' cols='120'>Translated sequence of FBtr0330655: ATGTTAAAGTTTATCAGAGGAAAAGGGCAGCAGCCCAGTGCTGACAGACACCGCCTACAGAAGGACCTTTTTGCTTATCGTAAGACGGCACAGCATGGCTTTCCTCATAAGCCTTCGGCTCTTGCGTATGATCCAGTTTTGAAACTTATGGCAATAGGGACGCAAACAGGGGCTTTAAAAGTTTTCGGTCAACCCGGAGTTGAATTGTACGGTCAGCATACTTTGTTAAACAATTCAGCATCGGAGCTTAATGTACAATTACTTGAATGGGTGTATGGAACTGGTCGCATACTTTCGTTGACGGCAGCGAATCAATTAATTCTATGGGAGCCAGTTGGAGCAACGTTGCTGCCAATCAAAACACTACCGTTTGACGGCAAACTTAAAAAAGTTTCATCGCTGTGCTGTTCTCTCAGTAAGGATCTGCTATGGATTGGAACAGAAGGTGGAAACATCTATCAACTGGATTTACATACATTTACCATTAAGGAGCCTGTAATTTACCATGACGTTGTGCTAGAGCAGGTGCCACCAGCCTACAAGCTAAATCCTGGTGCAATTGAGTCAATCCGCCAACTTCCAAACTCCCCTAGCAAACTTCTAGTTGCATACAATCGCGGCCTTTGTGTTTTGTGGGATTTTGAAAGCGCATCTGTCCAGCGAGCATACATAGCCCCTGGACATGGACAGAGCGTTGGTCTTACAGTGAACTTCGAAGGATCTGAATTTACCTGGTACCACGCTGATGGTTCATACGCCACTTGGAGCATAGATAACCCAGAACCGCCGTCGAATGTTAATTATGTGCCTTATGGACCTGATCCATGCAAAAGCATAAATCGACTGTACAAAGGCAAGCGAAGATCCAACGATGTAATTGTTTTTTCCGGCGGCATGCCACGGTCAGCATATGGTGATCACAATTGTGTGTCCGTTCACGCCAGCGATGGACACAAAGTGTGTCTTGACTTTACGTCTAAAGTGATTGACTTTTTTGTGACCTTTGAAAATAATAGAGATGTCGCTGAAGTTCTTGTTGTACTACTTGAAGAGGAACTCTGCGCTTACGATCTTACTGACCCTAATATTTGTGCTATCAAAGCGCCATATCTTCACTCTGTCCATGCATCAGCTGTCACTTGCAATTACCTTGCTTCTGAAGTCGTACAGTCGGTATATGAAAGTATTTTAAGAGCTGGAGATGAACAAGACATTGACTATAGCAATATTAGCTGGCCTATCACTGGCGGTACTCTCCCGGATAACTTAGAAGAATCTGTAGAAGAGGACGCGACTAAGCTTTATGAGATTTTGTTAACTGGTCACGAAGATGGTTCTGTTAAATTTTGGGACTGCACTGGAGTGTTGCTTAAACCAATTTATAATTTTAAAACTAGCAGCATTTTTGGAAGTGAGTCAGACTTCCGAGATGACGCAGCTGCAGATATGAGTGCGGAACAAGTCGATGAAGGAGAACCGCCATTTCGGAAATCAGGACTTTTTGATCCTTATTCAGATGACCCTCGTTTAGCAGTGAAGAAAATAGCATTCTGCCCAAAAACCGGACAACTTATTGTTGGTGGCACAGCGGGCCAAATAGTTATAGCCGACTTCATAGACTTACCCGAAAAAGTGTCTTTAAAATACATTTCAATGAATTTGGTCAGCGATCGTGATGGATTTGTGTGGAAGGGTCACGATCAGTTAAACGTGCGATCGAACTTATTAGACGGAGAAGCAATTCCTACGACGGAACGTGGTGTAAATATATCGGGAGTACTGCAAGTTTTGCCGCCAGCCAGCATAACATGCATGGCACTCGAAGCAAGCTGGGGCCTAGTATCTGGTGGGACTGCGCACGGCTTAGTTCTCTTTGACTTCAAAAACTTTGTTCCAGTATTTCATCGCTGCACTTTAAACCCAAATGATCTTACTGGAGCAGGAGAGCAGCTGTCTCGTCGAAAGTCTTTTAAGAAATCATTGAGGGAGTCATTTAGAAAGCTTCGCAAGGGTCGATCGACCAGGACCAACCAGAGCAATCAAGTACCAACAACGCTGGAAGCAAGACCCGTCGAGAGGCAAATAGAGGCTCGTTGTGCAGATGACGGGCTAGGATCCATGGTGCGATGTTTACTATTTGCCAAAACTTATGTTACTAATGTCAACATAACGTCGCCAACTTTGTGGTCAGCAACAAATGCCAGTACAGTCTCGGTTTTCCTTCTGCATTTGCCACCAGCGCAGACCGCGGCAACTGCCGTCCCGTCGGCAAGTGGCAATGCACCACCACACATGCCCCGCCGAATTTCTGCGCAGCTTGCTAAAGAAATACAATTAAAACATCGTGCTCCTGTGGTGGGTATTTCTATTTTTGATCAGGCGGGTAGCCCTGTCGATCAGCTGAACGCCGGTGAAAACGGGAGTCCACCGCATCGTGTACTTATTGCTTCCGAGGAACAGTTCAAGGTGTTTTCACTTCCGCAACTAAAGCCGATTAACAAATATAAGCTTACCGCTAACGAAGGTGCTCGGATTCGCCGCATCCATTTTGGTTCGTTTAGTTGTCGCATATCCCCGGAAACACTGCAGAGTATGCACGGTTGTAGCCCAACTAAGTCCACGCGTTCACATGGCGATGGAGAGGCGGATCCTAATATCAGTGGAAGCTTGGCTGTAAGTCGTGGAGATGTATATAACGAAACAGCATTGATATGTTTAACGAATATGGGCGATATCATGGTTTTATCAGTACCTGAATTAAAAAGACAGCTGAATGCCGCAGCAGTGCGACGGGAAGACATTAATGGAGTTTCGTCACTTTGCTTTACAAACTCTGGAGAAGCACTGTATATGATGTCTTCTTCTGAACTGCAGCGTATTGCTTTAGCCACGTCCAGAGTCGTGCAACCCACTGGCGTTGTTCCAGTAGAACCATTAGAAAATGAAGAGTCTGTGTTGGAAGAAAATGATGCAGAGAATAATAAGGAAACCTACGCATGTGATGAAGTTGTGAATACATATGAAATTAAAAATCCATCAGGCATTTCAATATGCACAAGGCCTGCAGAGGAAAACGTTGGAAGAAATAGTGTTCAGCAAGTTAATGGAGTCAACATTTCAAATTCACCTAATCAAGCTAACGAGACTATCAGCAGCTCTATTGGCGATATTACCGTTGACTCGGTGCGCGACCATTTAAATATGACGACCACCACTTTGTGTTCTATTAATACAGAGGAAACCATTGAAATACGACGGAAACGAGTACTAGTTCTGTTG</textarea>"
      ],
      "text/plain": [
       "<IPython.core.display.HTML object>"
      ]
     },
     "metadata": {},
     "output_type": "display_data"
    },
    {
     "data": {
      "text/html": [
       "<textarea rows='4' cols='120'>Alignment scores: (1.0, 528, 3807, '------------------------------------------------------------------------------------------------------------------------------------------------------------------------------------------------------------------------------------------------------------------------------------------------------------------------------------------------------------------------------------------------------------------------------------------------------------------------------------------------------------------------------------------------ATGTTAAAGTTTATCAGAGGAAAAGGGCAGCAGCCCAGTGCTGACAGACACCGCCTACAGAAGGACCTTTTTGCTTATCGTAAGACGGCACAGCATGGCTTTCCTCATAAGCCTTCGGCTCTTGCGTATGATCCAGTTTTGAAACTTATGGCAATAGGGACGCAAACAGGGGCTTTAAAAGTTTTCGGTCAACCCGGAGTTGAATTGTACGGTCAGCATACTTTGTTAAACAATTCAGCATCGGAGCTTAATGTACAATTACTTGAATGGGTGTATGGAACTGGTCGCATACTTTCGTTGACGGCAGCGAATCAATTAATTCTATGGGAGCCAGTTGGAGCAACGTTGCTGCCAATCAAAACACTACCGTTTGACGGCAAACTTAAAAAAGTTTCATCGCTGTGCTGTTCTCTCAGTAAGGATCTGCTATGGATTGGAACAGAAGGTGGAAACATCTATCAACTGGATTTACATACATTTACCATTAAGGAGCCTGTAATTTACCATGACGTTGTGCTAGAGCAGGTGCCACCAGCCTACAAGCTAAATCCTGGTGCAATTGAGTCAATCCGCCAACTTCCAAACTCCCCTAGCAAACTTCTAGTTGCATACAATCGCGGCCTTTGTGTTTTGTGGGATTTTGAAAGCGCATCTGTCCAGCGAGCATACATAGCCCCTGGACATGGACAGAGCGTTGGTCTTACAGTGAACTTCGAAGGATCTGAATTTACCTGGTACCACGCTGATGGTTCATACGCCACTTGGAGCATAGATAACCCAGAACCGCCGTCGAATGTTAATTATGTGCCTTATGGACCTGATCCATGCAAAAGCATAAATCGACTGTACAAAGGCAAGCGAAGATCCAACGATGTAATTGTTTTTTCCGGCGGCATGCCACGGTCAGCATATGGTGATCACAATTGTGTGTCCGTTCACGCCAGCGATGGACACAAAGTGTGTCTTGACTTTACGTCTAAAGTGATTGACTTTTTTGTGACCTTTGAAAATAATAGAGATGTCGCTGAAGTTCTTGTTGTACTACTTGAAGAGGAACTCTGCGCTTACGATCTTACTGACCCTAATATTTGTGCTATCAAAGCGCCATATCTTCACTCTGTCCATGCATCAGCTGTCACTTGCAATTACCTTGCTTCTGAAGTCGTACAGTCGGTATATGAAAGTATTTTAAGAGCTGGAGATGAACAAGACATTGACTATAGCAATATTAGCTGGCCTATCACTGGCGGTACTCTCCCGGATAACTTAGAAGAATCTGTAGAAGAGGACGCGACTAAGCTTTATGAGATTTTGTTAACTGGTCACGAAGATGGTTCTGTTAAATTTTGGGACTGCACTGGAGTGTTGCTTAAACCAATTTATAATTTTAAAACTAGCAGCATTTTTGGAAGTGAGTCAGACTTCCGAGATGACGCAGCTGCAGATATGAGTGCGGAACAAGTCGATGAAGGAGAACCGCCATTTCGGAAATCAGGACTTTTTGATCCTTATTCAGATGACCCTCGTTTAGCAGTGAAGAAAATAGCATTCTGCCCAAAAACCGGACAACTTATTGTTGGTGGCACAGCGGGCCAAATAGTTATAGCCGACTTCATAGACTTACCCGAAAAAGTGTCTTTAAAATACATTTCAATGAATTTGGTCAGCGATCGTGATGGATTTGTGTGGAAGGGTCACGATCAGTTAAACGTGCGATCGAACTTATTAGACGGAGAAGCAATTCCTACGACGGAACGTGGTGTAAATATATCGGGAGTACTGCAAGTTTTGCCGCCAGCCAGCATAACATGCATGGCACTCGAAGCAAGCTGGGGCCTAGTATCTGGTGGGACTGCGCACGGCTTAGTTCTCTTTGACTTCAAAAACTTTGTTCCAGTATTTCATCGCTGCACTTTAAACCCAAATGATCTTACTGGAGCAGGAGAGCAGCTGTCTCGTCGAAAGTCTTTTAAGAAATCATTGAGGGAGTCATTTAGAAAGCTTCGCAAGGGTCGATCGACCAGGACCAACCAGAGCAATCAAGTACCAACAACGCTGGAAGCAAGACCCGTCGAGAGGCAAATAGAGGCTCGTTGTGCAGATGACGGGCTAGGATCCATGGTGCGATGTTTACTATTTGCCAAAACTTATGTTACTAATGTCAACATAACGTCGCCAACTTTGTGGTCAGCAACAAATGCCAGTACAGTCTCGGTTTTCCTTCTGCATTTGCCACCAGCGCAGACCGCGGCAACTGCCGTCCCGTCGGCAAGTGGCAATGCACCACCACACATGCCCCGCCGAATTTCTGCGCAGCTTGCTAAAGAAATACAATTAAAACATCGTGCTCCTGTGGTGGGTATTTCTATTTTTGATCAGGCGGGTAGCCCTGTCGATCAGCTGAACGCCGGTGAAAACGGGAGTCCACCGCATCGTGTACTTATTGCTTCCGAGGAACAGTTCAAGGTGTTTTCACTTCCGCAACTAAAGCCGATTAACAAATATAAGCTTACCGCTAACGAAGGTGCTCGGATTCGCCGCATCCATTTTGGTTCGTTTAGTTGTCGCATATCCCCGGAAACACTGCAGAGTATGCACGGTTGTAGCCCAACTAAGTCCACGCGTTCACATGGCGATGGAGAGGCGGATCCTAATATCAGTGGAAGCTTGGCTGTAAGTCGTGGAGATGTATATAACGAAACAGCATTGATATGTTTAACGAATATGGGCGATATCATGGTTTTATCAGTACCTGAATTAAAAAGACAGCTGAATGCCGCAGCAGTGCGACGGGAAGACATTAATGGAGTTTCGTCACTTTGCTTTACAAACTCTGGAGAAGCACTGTATATGATGTCTTCTTCTGAACTGCAGCGTATTGCTTTAGCCACGTCCAGAGTCGTGCAACCCACTGGCGTTGTTCCAGTAGAACCATTAGAAAATGAAGAGTCTGTGTTGGAAGAAAATGATGCAGAGAATAATAAGGAAACCTACGCATGTGATGAAGTTGTGAATACATATGAAATTAAAAATCCATCAGGCATTTCAATATGCACAAGGCCTGCAGAGGAAAACGTTGGAAGAAATAGTGTTCAGCAAGTTAATGGAGTCAACATTTCAAATTCACCTAATCAAGCTAACGAGACTATCAGCAGCTCTATTGGCGATATTACCGTTGACTCGGTGCGCGACCATTTAAATATGACGACCACCACTTTGTGTTCTATTAATACAGAGGAAACCATTGAAATACGACGGAAACGAGTACTAGTTCTGTTG----------------------------------------------------------------------------------------------------------------------------------------------------------------------------------------------------------------------------------------------------------------------------------------------------------------------------------------------------------------------------------------------------------------------------------------------------------------------------------------------------------------------------------------------------------------------------------------------------------------------------------------------------------------------------------------------------------------------------------------------------------------------------------------------------------------------------------------------------------------------------------------------------------------------------------------------------------------------------------------------------------------------------------------------------------------------------------------------------------------------------------------------------------------------------------------------------------------------------------------------------------------------------------------------------------------------------------------------------------------------------------------------------------------------------------------------------------------------------------------------------------------------------------\\n                                                                                                                                                                                                                                                                                                                                                                                                                                                                                                                                                |||||||||||||||||||||||||||||||||||||||||||||||||||||||||||||||||||||||||||||||||||||||||||||||||||||||||||||||||||||||||||||||||||||||||||||||||||||||||||||||||||||||||||||||||||||||||||||||||||||||||||||||||||||||||||||||||||||||||||||||||||||||||||||||||||||||||||||||||||||||||||||||||||||||||||||||||||||||||||||||||||||||||||||||||||||||||||||||||||||||||||||||||||||||||||||||||||||||||||||||||||||||||||||||||||||||||||||||||||||||||||||||||||||||||||||||||||||||||||||||||||||||||||||||||||||||||||||||||||||||||||||||||||||||||||||||||||||||||||||||||||||||||||||||||||||||||||||||||||||||||||||||||||||||||||||||||||||||||||||||||||||||||||||||||||||||||||||||||||||||||||||||||||||||||||||||||||||||||||||||||||||||||||||||||||||||||||||||||||||||||||||||||||||||||||||||||||||||||||||||||||||||||||||||||||||||||||||||||||||||||||||||||||||||||||||||||||||||||||||||||||||||||||||||||||||||||||||||||||||||||||||||||||||||||||||||||||||||||||||||||||||||||||||||||||||||||||||||||||||||||||||||||||||||||||||||||||||||||||||||||||||||||||||||||||||||||||||||||||||||||||||||||||||||||||||||||||||||||||||||||||||||||||||||||||||||||||||||||||||||||||||||||||||||||||||||||||||||||||||||||||||||||||||||||||||||||||||||||||||||||||||||||||||||||||||||||||||||||||||||||||||||||||||||||||||||||||||||||||||||||||||||||||||||||||||||||||||||||||||||||||||||||||||||||||||||||||||||||||||||||||||||||||||||||||||||||||||||||||||||||||||||||||||||||||||||||||||||||||||||||||||||||||||||||||||||||||||||||||||||||||||||||||||||||||||||||||||||||||||||||||||||||||||||||||||||||||||||||||||||||||||||||||||||||||||||||||||||||||||||||||||||||||||||||||||||||||||||||||||||||||||||||||||||||||||||||||||||||||||||||||||||||||||||||||||||||||||||||||||||||||||||||||||||||||||||||||||||||||||||||||||||||||||||||||||||||||||||||||||||||||||||||||||||||||||||||||||||||||||||||||||||||||||||||||||||||||||||||||||||||||||||||||||||||||||||||||||||||||||||||||||||||||||||||||||||||||||||||||||||||||||||||||||||||||||||||||||||||||||||||||||||||||||||||||||||||||||||||||||||||||||||||||||||||||||||||||||||||||||||||||||||||||||||||||||||||||||||||||||||||||||||||||||||||||||||||||||||||||||||||||||||||||||||||||||||||||||||||||||||||||||||||||||||||||||||||||||||||||||||||||||||||||||||||||||||||||||||||||||||||||||||||||||||||||||||||||||||||||||||||||||||||||||||||||||||||||||||||||||||||||||||||||||||||||||||||||||||||||||||||||||||||||||||||||||||||||||||||||||||||||||||||||||||||||||||||||||||||||||||||||||||||||||||||||||||||||||||||||||||||||||||||||||||||||||||||||||||||||||||||||||||||||||||||||||||||||||||||||||||||||||||||||||||||||||||||||||||||||||||||||||||||||||||||||||||||||||||||||||||||||||||||||||||||||||||||||||||||||||||||||||||||||||||||||||||||||||||||||||||||||||||||||||||||||||||||||||||||||||||||||||||||||||||||||||||||||||||||||||||||||||||||||||||||||||||||||||||||||||||||||||||||||||||||||||||||||||||||||||||||||||||||||||||||||||||||||||||||||||||||||||||||||||||||||||||||||||||||||||||||||||||||||||||||||||||||||||||||||||||||||||||||||||||||||||||||||||||||||||||||||||||||||||||||||||||||||||||||||||||||||||||||||||||||||||||||||||||||||||||||||||||||||||||||||||||||||||||||||||||||||||||||||||||||||||||||||||||||||||||                                                                                                                                                                                                                                                                                                                                                                                                                                                                                                                                                                                                                                                                                                                                                                                                                                                                                                                                                                                                                                                                                                                                                                                                                                                                                                                                                                                                                                                                                                                                  \\nGCACACTAGACCCACCGATCGCGACTTTGTGTGTGTTAAAATGACGCGCATATCGTTTTGGGCTAATAATATTGTTCACGTTTTATAAAACAGATACACGGTTAAGCTCTGACCGGTCGTATTATTATCTGTGTGTTCTTGGTTGACACGTTTATTTCATTTATTCTCATTTAAAGCAACGATGTGAAGAACAGTGCGGGCGTTTCTCAACATAAGAATACATACAAACTTATGCGTGATGGTGAGCAAATAAAATAGTTCAAAAAATTACTCGGCCACCGCCTTAACCGTACAAACGGAAATACATAAAGTTTAGAATAAATTCGGCCACAATTAATATACTTATTTATTCATCAAAACCAAACCACCACAAGAGCATAACCAATCATGTTAAAGTTTATCAGAGGAAAAGGGCAGCAGCCCAGTGCTGACAGACAACGCTACATCGTAAGTTTAGAATAAATACGGCCACAATTAGTATACATATTTATTCATCGAAACCAACCCACCACAAGAGCATAACCAATTATGTTAAAGTTTATCAGAGGAAAAGGGCAGCAGCCCAGTGCTGACAGACACCGCCTACAGAAGGACCTTTTTGCTTATCGTAAGACGGCACAGCATGGCTTTCCTCATAAGCCTTCGGCTCTTGCGTATGATCCAGTTTTGAAACTTATGGCAATAGGGACGCAAACAGGGGCTTTAAAAGTTTTCGGTCAACCCGGAGTTGAATTGTACGGTCAGCATACTTTGTTAAACAATTCAGCATCGGAGCTTAATGTACAATTACTTGAATGGGTGTATGGAACTGGTCGCATACTTTCGTTGACGGCAGCGAATCAATTAATTCTATGGGAGCCAGTTGGAGCAACGTTGCTGCCAATCAAAACACTACCGTTTGACGGCAAACTTAAAAAAGTTTCATCGCTGTGCTGTTCTCTCAGTAAGGATCTGCTATGGATTGGAACAGAAGGTGGAAACATCTATCAACTGGATTTACATACATTTACCATTAAGGAGCCTGTAATTTACCATGACGTTGTGCTAGAGCAGGTGCCACCAGCCTACAAGCTAAATCCTGGTGCAATTGAGTCAATCCGCCAACTTCCAAACTCCCCTAGCAAACTTCTAGTTGCATACAATCGCGGCCTTTGTGTTTTGTGGGATTTTGAAAGCGCATCTGTCCAGCGAGCATACATAGCCCCTGGACATGGACAGAGCGTTGGTCTTACAGTGAACTTCGAAGGATCTGAATTTACCTGGTACCACGCTGATGGTTCATACGCCACTTGGAGCATAGATAACCCAGAACCGCCGTCGAATGTTAATTATGTGCCTTATGGACCTGATCCATGCAAAAGCATAAATCGACTGTACAAAGGCAAGCGAAGATCCAACGATGTAATTGTTTTTTCCGGCGGCATGCCACGGTCAGCATATGGTGATCACAATTGTGTGTCCGTTCACGCCAGCGATGGACACAAAGTGTGTCTTGACTTTACGTCTAAAGTGATTGACTTTTTTGTGACCTTTGAAAATAATAGAGATGTCGCTGAAGTTCTTGTTGTACTACTTGAAGAGGAACTCTGCGCTTACGATCTTACTGACCCTAATATTTGTGCTATCAAAGCGCCATATCTTCACTCTGTCCATGCATCAGCTGTCACTTGCAATTACCTTGCTTCTGAAGTCGTACAGTCGGTATATGAAAGTATTTTAAGAGCTGGAGATGAACAAGACATTGACTATAGCAATATTAGCTGGCCTATCACTGGCGGTACTCTCCCGGATAACTTAGAAGAATCTGTAGAAGAGGACGCGACTAAGCTTTATGAGATTTTGTTAACTGGTCACGAAGATGGTTCTGTTAAATTTTGGGACTGCACTGGAGTGTTGCTTAAACCAATTTATAATTTTAAAACTAGCAGCATTTTTGGAAGTGAGTCAGACTTCCGAGATGACGCAGCTGCAGATATGAGTGCGGAACAAGTCGATGAAGGAGAACCGCCATTTCGGAAATCAGGACTTTTTGATCCTTATTCAGATGACCCTCGTTTAGCAGTGAAGAAAATAGCATTCTGCCCAAAAACCGGACAACTTATTGTTGGTGGCACAGCGGGCCAAATAGTTATAGCCGACTTCATAGACTTACCCGAAAAAGTGTCTTTAAAATACATTTCAATGAATTTGGTCAGCGATCGTGATGGATTTGTGTGGAAGGGTCACGATCAGTTAAACGTGCGATCGAACTTATTAGACGGAGAAGCAATTCCTACGACGGAACGTGGTGTAAATATATCGGGAGTACTGCAAGTTTTGCCGCCAGCCAGCATAACATGCATGGCACTCGAAGCAAGCTGGGGCCTAGTATCTGGTGGGACTGCGCACGGCTTAGTTCTCTTTGACTTCAAAAACTTTGTTCCAGTATTTCATCGCTGCACTTTAAACCCAAATGATCTTACTGGAGCAGGAGAGCAGCTGTCTCGTCGAAAGTCTTTTAAGAAATCATTGAGGGAGTCATTTAGAAAGCTTCGCAAGGGTCGATCGACCAGGACCAACCAGAGCAATCAAGTACCAACAACGCTGGAAGCAAGACCCGTCGAGAGGCAAATAGAGGCTCGTTGTGCAGATGACGGGCTAGGATCCATGGTGCGATGTTTACTATTTGCCAAAACTTATGTTACTAATGTCAACATAACGTCGCCAACTTTGTGGTCAGCAACAAATGCCAGTACAGTCTCGGTTTTCCTTCTGCATTTGCCACCAGCGCAGACCGCGGCAACTGCCGTCCCGTCGGCAAGTGGCAATGCACCACCACACATGCCCCGCCGAATTTCTGCGCAGCTTGCTAAAGAAATACAATTAAAACATCGTGCTCCTGTGGTGGGTATTTCTATTTTTGATCAGGCGGGTAGCCCTGTCGATCAGCTGAACGCCGGTGAAAACGGGAGTCCACCGCATCGTGTACTTATTGCTTCCGAGGAACAGTTCAAGGTGTTTTCACTTCCGCAACTAAAGCCGATTAACAAATATAAGCTTACCGCTAACGAAGGTGCTCGGATTCGCCGCATCCATTTTGGTTCGTTTAGTTGTCGCATATCCCCGGAAACACTGCAGAGTATGCACGGTTGTAGCCCAACTAAGTCCACGCGTTCACATGGCGATGGAGAGGCGGATCCTAATATCAGTGGAAGCTTGGCTGTAAGTCGTGGAGATGTATATAACGAAACAGCATTGATATGTTTAACGAATATGGGCGATATCATGGTTTTATCAGTACCTGAATTAAAAAGACAGCTGAATGCCGCAGCAGTGCGACGGGAAGACATTAATGGAGTTTCGTCACTTTGCTTTACAAACTCTGGAGAAGCACTGTATATGATGTCTTCTTCTGAACTGCAGCGTATTGCTTTAGCCACGTCCAGAGTCGTGCAACCCACTGGCGTTGTTCCAGTAGAACCATTAGAAAATGAAGAGTCTGTGTTGGAAGAAAATGATGCAGAGAATAATAAGGAAACCTACGCATGTGATGAAGTTGTGAATACATATGAAATTAAAAATCCATCAGGCATTTCAATATGCACAAGGCCTGCAGAGGAAAACGTTGGAAGAAATAGTGTTCAGCAAGTTAATGGAGTCAACATTTCAAATTCACCTAATCAAGCTAACGAGACTATCAGCAGCTCTATTGGCGATATTACCGTTGACTCGGTGCGCGACCATTTAAATATGACGACCACCACTTTGTGTTCTATTAATACAGAGGAAACCATTGAAATACGACGGAAACGAGTACTAGTTCTGTTGTAATTAAATCTATAATTACAAACATTTCTCATGAAAAAACGAACGGAGACAACAAAATAGGAACGCCAAAAACAGCGCCTGAAGAAAGCCAATTTTAACATTGACAGAAGCCGTAACCTACTAATTATTTTATACCTTTACAGAAATACGACGCAAACGAGTACTAGTCCTGATGTAATTTAATCTATAATTACAAACATGTCTCACTAAAAATCGAACGGGGACAGCAAAATAGGAACGCAAAAAAATTAAATTAAATTAAACGCGATTTACATACAAACAGAAATGACAGAATGATAATATAAAATATTCATTTTTTATTTGGCTTAAGCGATGTTGTTGTTCCAAAACCATATAATTATTTATGATTTTATGTAATGTTTTCATGTATTTTCGCGTAGTGACTTTATACCCTTTACCCGTATGATGAAACGAAACATGATATTTGTAGAAAGGTACAAAGGATAAAAGTTGACATTTAAGGCCGATTGTAAAATATTAAAACGCAACCTGGATAACATGCCGATTAATTACTTCTGTTCGTCCGTATAAACACAAATACCGATAAATTGGTCCGTCCCCATTTAATAAATTGTATATTAAAATGGTCTTTATTTTGGATAAATAATTCAAATTATATAGGAACATTTGGGTTTTAAGGGATAGAAACAGCGCTGGTGTCTTTCATTTCCGTTCGTATGACCGTTCAAAGATTATAAAAAAATTGTCGTGCCCACATTTTTTAAATTTCTTTTATTTTCGGTTAAAATATTGTGATACAAAAAAATGCCCTTACAAAATTAGGACAACAACAATTTGCTTTATTATGATGAACAAATTAGGAGTACAAAAAATAGCCTGATGCAAGGATGGGGAGAAAAAAGACCTTGAAGTTCAAAAGAATTTGTTGTATCAAATCCTCAATAAGAAAACTACTTAAAATTAAAAGCGTGTTTCAAATTAATTGTAGAATATTTCGTAAAATGAAATTGCAAACTTTTTTAGCACGAAATTACATGTATTTAATTCTTTGGCTAATACGTCAGTTAAAAAAGGCTACATTTTGATGATACTCACAAATGTAATTTTTGCATTCTACACAGGTGCAATTAAAAAATTATGGTTTTTATGAGTTTTAGAGGGAAGAAAATATGTCAATATGAGAAGTAAGTTAATGAGCCTTCAAGTACTTTAGTACATAATGTAATTTAATTTTAGAAATCCTACGGCTTTATATTCAATTGTAAAGTATTTTAAAATTCCTGACGATTTGTAGTAATTGTTTTGTTCTTAGCTTTTTTGCATTCTCCTCCGTTACTCCGTTACTCGTATAGTAAAAGGTATAGTATATACAATAGTATTGTAGATTCGTTGAGAAGTATGTTACAGGCAGAAGGAAGCTTTTCCGACCATATAAAGTATATAATTGAGTATTTAGCTTAGGATTATTAATAAAACATGTATTTTATTTAAC\\n  Score=3279\\n')</textarea>"
      ],
      "text/plain": [
       "<IPython.core.display.HTML object>"
      ]
     },
     "metadata": {},
     "output_type": "display_data"
    },
    {
     "data": {
      "text/html": [
       "<textarea rows='4' cols='120'>Amino acid sequence of FBtr0078164: MLKFIRGKGQQPSADRHRLQKDLFAYRKTAQHGFPHKPSALAYDPVLKLMAIGTQTGALKVFGQPGVELYGQHTLLNNSASELNVQLLEWVYGTGRILSLTAANQLILWEPVGATLLPIKTLPFDGKLKKVSSLCCSLSKDLLWIGTEGGNIYQLDLHTFTIKEPVIYHDVVLEQVPPAYKLNPGAIESIRQLPNSPSKLLVAYNRGLCVLWDFESASVQRAYIAPGHGQSVGLTVNFEGSEFTWYHADGSYATWSIDNPEPPSNVNYVPYGPDPCKSINRLYKGKRRSNDVIVFSGGMPRSAYGDHNCVSVHASDGHKVCLDFTSKVIDFFVTFENNRDVAEVLVVLLEEELCAYDLTDPNICAIKAPYLHSVHASAVTCNYLASEVVQSVYESILRAGDEQDIDYSNISWPITGGTLPDNLEESVEEDATKLYEILLTGHEDGSVKFWDCTGVLLKPIYNFKTSSIFGSESDFRDDAAADMSAEQVDEGEPPFRKSGLFDPYSDDPRLAVKKIAFCPKTGQLIVGGTAGQIVIADFIDLPEKVSLKYISMNLVSDRDGFVWKGHDQLNVRSNLLDGEAIPTTERGVNISGVLQVLPPASITCMALEASWGLVSGGTAHGLVLFDFKNFVPVFHRCTLNPNDLTGAGEQLSRRKSFKKSLRESFRKLRKGRSTRTNQSNQVPTTLEARPVERQIEARCADDGLGSMVRCLLFAKTYVTNVNITSPTLWSATNASTVSVFLLHLPPAQTAATAVPSASGNAPPHMPRRISAQLAKEIQLKHRAPVVGISIFDQAGSPVDQLNAGENGSPPHRVLIASEEQFKVFSLPQLKPINKYKLTANEGARIRRIHFGSFSCRISPETLQSMHGCSPTKSTRSHGDGEADPNISGSLAVSRGDVYNETALICLTNMGDIMVLSVPELKRQLNAAAVRREDINGVSSLCFTNSGEALYMMSSSELQRIALATSRVVQPTGVVPVEPLENEESVLEENDAENNKETYACDEVVNTYEIKNPSGISICTRPAEENVGRNSVQQVNGVNISNSPNQANETISSSIGDITVDSVRDHLNMTTTTLCSINTEETIEIRRKRVLVLL</textarea>"
      ],
      "text/plain": [
       "<IPython.core.display.HTML object>"
      ]
     },
     "metadata": {},
     "output_type": "display_data"
    }
   ],
   "source": [
    "# The transcriptome implementation also supports (annotated) CDS annotations. Users can directly access the translated sequence:\n",
    "display_textarea(f\"Translated sequence of FBtr0330655: {t.transcript['FBtr0330655'].translated_sequence}\")\n",
    "\n",
    "# align spliced and translated sequence\n",
    "display_textarea(f\"Alignment scores: {align_sequence(t.transcript['FBtr0330655'].translated_sequence, t.transcript['FBtr0330655'].spliced_sequence, report_alignment=True)}\")\n",
    "\n",
    "# translate with biopythons\n",
    "display_textarea(f\"Amino acid sequence of FBtr0078164: {Seq(t.transcript['FBtr0330655'].translated_sequence).translate()}\")"
   ]
  },
  {
   "cell_type": "markdown",
   "id": "c78d9d92-3f63-48ad-bbf6-100c3a67aeff",
   "metadata": {},
   "source": [
    "Exact kmer search in sequences can be performed by standard python methods"
   ]
  },
  {
   "cell_type": "code",
   "execution_count": 17,
   "id": "07e0fc8a-5ec9-4000-a0e2-1a419f90d383",
   "metadata": {
    "tags": []
   },
   "outputs": [
    {
     "data": {
      "text/plain": [
       "\"Genes containing kmer in one of their (spliced) tx: {'l(2)gl', 'Cda5', 'Ir21a', 'CR11023', 'asRNA:CR43609'}\""
      ]
     },
     "metadata": {},
     "output_type": "display_data"
    },
    {
     "data": {
      "text/markdown": [
       "---"
      ],
      "text/plain": [
       "<IPython.core.display.Markdown object>"
      ]
     },
     "metadata": {},
     "output_type": "display_data"
    },
    {
     "data": {
      "text/plain": [
       "\"Genes containing kmer in a long (>1kb) intron: {'l(2)gl'}\""
      ]
     },
     "metadata": {},
     "output_type": "display_data"
    },
    {
     "data": {
      "text/markdown": [
       "---"
      ],
      "text/plain": [
       "<IPython.core.display.Markdown object>"
      ]
     },
     "metadata": {},
     "output_type": "display_data"
    }
   ],
   "source": [
    "# list all gene names where the kmer is found in one of the (spliced) transcripts\n",
    "display(f\"Genes containing kmer in one of their (spliced) tx: { { tx.parent.gene_name for tx in t.transcripts if 'ATGC' in tx.spliced_sequence }}\", SEP)\n",
    "\n",
    "# list all gene names where the kmer is found in one of its transcripts introns considering only long (>1kb) introns\n",
    "display(f\"Genes containing kmer in a long (>1kb) intron: { { tx.parent.gene_name for tx in t.transcripts for intron in tx.intron if len(intron)>1000 and 'ATGC' in intron.sequence}}\", SEP)"
   ]
  },
  {
   "cell_type": "markdown",
   "id": "fdcf0328-d9d9-4f70-afb7-fee14a426268",
   "metadata": {},
   "source": [
    "### Range queries"
   ]
  },
  {
   "cell_type": "code",
   "execution_count": 18,
   "id": "dfaab7f1-1481-4f5c-8ccc-02a923afc530",
   "metadata": {
    "tags": []
   },
   "outputs": [
    {
     "data": {
      "text/plain": [
       "\"Genes where an exon overlaps with 2L:10000-20000: {'l(2)gl'}\""
      ]
     },
     "metadata": {},
     "output_type": "display_data"
    },
    {
     "data": {
      "text/markdown": [
       "---"
      ],
      "text/plain": [
       "<IPython.core.display.Markdown object>"
      ]
     },
     "metadata": {},
     "output_type": "display_data"
    },
    {
     "data": {
      "text/plain": [
       "\"Genes of all transcripts that overlap with gene 'l(2)gl': {'l(2)gl'}\""
      ]
     },
     "metadata": {},
     "output_type": "display_data"
    },
    {
     "data": {
      "text/markdown": [
       "---"
      ],
      "text/plain": [
       "<IPython.core.display.Markdown object>"
      ]
     },
     "metadata": {},
     "output_type": "display_data"
    },
    {
     "data": {
      "text/plain": [
       "\"Genes near 'l(2)gl': ['CR11023', 'l(2)gl', 'Ir21a', 'asRNA:CR43609']\""
      ]
     },
     "metadata": {},
     "output_type": "display_data"
    },
    {
     "data": {
      "text/markdown": [
       "---"
      ],
      "text/plain": [
       "<IPython.core.display.Markdown object>"
      ]
     },
     "metadata": {},
     "output_type": "display_data"
    },
    {
     "data": {
      "text/plain": [
       "\"Genes contained in a +/- 10kb window around 'l(2)gl': ['CR11023', 'l(2)gl', 'asRNA:CR43609']\""
      ]
     },
     "metadata": {},
     "output_type": "display_data"
    }
   ],
   "source": [
    "# Efficient range queries are implemented by intervaltrees:\n",
    "display(f\"Genes where an exon overlaps with 2L:10000-20000: { {ex.parent.parent.gene_name for ex in t.query(gi.from_str('2L:10000-20000'), 'exon')}}\", SEP) \n",
    "\n",
    "# Query all transcripts that overlap with the 'l(2)gl' gene and create a set with their gene names.\n",
    "l2gl=t.gene['l(2)gl'] # note that each transcriptome feature is also a genomic interval and can be queried\n",
    "display(f\"Genes of all transcripts that overlap with gene 'l(2)gl': {set(tx.parent.gene_name for tx in t.query(l2gl, 'transcript'))}\", SEP) \n",
    "\n",
    "# report a coordinate-sorted list of genes in a 10kb window around cold:\n",
    "display(f\"Genes near 'l(2)gl': { [g.gene_name for g in t.query(gi(l2gl.chromosome, l2gl.start-3000, l2gl.end+3000), 'gene')]}\", SEP)\n",
    "\n",
    "# envelop queries are also supported:\n",
    "display(f\"Genes contained in a +/- 10kb window around 'l(2)gl': { [g.gene_name for g in t.query(gi(l2gl.chromosome, l2gl.start-3000, l2gl.end+3000), 'gene', envelop=True)]}\")"
   ]
  },
  {
   "cell_type": "markdown",
   "id": "1b314ed9-1dc4-499b-a645-1125f7c86a76",
   "metadata": {
    "tags": []
   },
   "source": [
    "### Advanced Examples"
   ]
  },
  {
   "cell_type": "code",
   "execution_count": 19,
   "id": "cd8a08ef-b739-4f22-9fb1-e10c7d082ccc",
   "metadata": {
    "tags": []
   },
   "outputs": [
    {
     "data": {
      "text/plain": [
       "[(None, 'CR11023', 'l(2)gl'),\n",
       " ('CR11023', 'l(2)gl', 'Ir21a'),\n",
       " ('l(2)gl', 'Ir21a', 'asRNA:CR43609'),\n",
       " ('Ir21a', 'asRNA:CR43609', 'Cda5'),\n",
       " ('asRNA:CR43609', 'Cda5', None)]"
      ]
     },
     "execution_count": 19,
     "metadata": {},
     "output_type": "execute_result"
    }
   ],
   "source": [
    "# iterate genes and their up/downstream genes within a given max distance. Show only first 10 entries.\n",
    "# gene_triples is a convenience method that yields genes and their neighbouring (up-/downstream) genes\n",
    "def get_name(x):\n",
    "    return None if x is None else x.gene_name\n",
    "[(get_name(x),get_name(y),get_name(z)) for x, y, z in t.gene_triples(max_dist=10000)][:10] # Note that, e.g., for lncRNA:CR46254, there is no downstream gene within 10kb"
   ]
  },
  {
   "cell_type": "code",
   "execution_count": 20,
   "id": "b9597159-9842-4e1f-a53f-768fe329443a",
   "metadata": {
    "tags": []
   },
   "outputs": [
    {
     "data": {
      "text/plain": [
       "{'CR11023': {'FBtr0475186': [2L:8485-9484 (+)]},\n",
       " 'l(2)gl': {'FBtr0306591': [2L:9839-10838 (-)],\n",
       "  'FBtr0078169': [2L:9839-10838 (-)],\n",
       "  'FBtr0078168': [2L:9839-10838 (-)],\n",
       "  'FBtr0078170': [2L:9839-10838 (-)],\n",
       "  'FBtr0306592': [2L:9839-10838 (-)],\n",
       "  'FBtr0306590': [2L:9839-10838 (-)],\n",
       "  'FBtr0078167': [2L:9839-10838 (-)],\n",
       "  'FBtr0330655': [2L:9839-10838 (-)],\n",
       "  'FBtr0078171': [2L:9839-10838 (-)],\n",
       "  'FBtr0078166': [2L:9839-10838 (-)],\n",
       "  'FBtr0306589': [2L:9839-10838 (-)]},\n",
       " 'Ir21a': {'FBtr0113008': [2L:21823-22687 (-), 2L:22743-22877 (-)]},\n",
       " 'asRNA:CR43609': {'FBtr0309810': [2L:23238-24237 (+)]},\n",
       " 'Cda5': {'FBtr0309227': [2L:25402-26401 (-)],\n",
       "  'FBtr0309228': [2L:25402-26401 (-)],\n",
       "  'FBtr0309226': [2L:25402-26401 (-)],\n",
       "  'FBtr0309229': [2L:25402-26401 (-)],\n",
       "  'FBtr0078163': [2L:25402-26401 (-)],\n",
       "  'FBtr0078164': [2L:25402-26401 (-)],\n",
       "  'FBtr0113416': [2L:25402-26401 (-)],\n",
       "  'FBtr0309225': [2L:25402-26401 (-)]}}"
      ]
     },
     "execution_count": 20,
     "metadata": {},
     "output_type": "execute_result"
    }
   ],
   "source": [
    "# Create a dict of genes and their unique 1000bp 3'UTR intervals per tx (multiple intervals if spliced); \n",
    "# note that for Ir21a/FBtr0113008 2 intervals are reported as the 1000bp UTR overlaps a splice junction\n",
    "{g.gene_name: {tx.feature_id:calc_3end(tx, width=1000) for tx in g.transcript} for g in t.genes}"
   ]
  },
  {
   "cell_type": "code",
   "execution_count": 21,
   "id": "5907f6b1-8b1f-4cdc-a382-f074b3a13944",
   "metadata": {
    "tags": []
   },
   "outputs": [
    {
     "data": {
      "text/plain": [
       "{'l(2)gl'}"
      ]
     },
     "execution_count": 21,
     "metadata": {},
     "output_type": "execute_result"
    }
   ],
   "source": [
    "# complex query examples\n",
    "# find all minus strand genes with transcripts that have >=2 exons and at least one long (>1kb) intron\n",
    "{tx.parent.gene_name for tx in t.transcripts if tx.strand=='-' and len(tx.exon)>=2 and any([len(i)>1000 for i in tx.intron])}"
   ]
  },
  {
   "cell_type": "markdown",
   "id": "7116befa-db0d-4d9d-8a73-3245cb3e1dae",
   "metadata": {
    "tags": []
   },
   "source": [
    "#### Example: get downstream windows\n",
    "Here we iterate all transcripts and calculate a downstream (3') genomic window and its dna sequence. \n",
    "(NB: For adding 5'-end windows, just use 'upstream' as window_type)"
   ]
  },
  {
   "cell_type": "code",
   "execution_count": 22,
   "id": "f935c39b-d1e7-4c85-a708-e1ea00850df0",
   "metadata": {
    "tags": []
   },
   "outputs": [
    {
     "name": "stderr",
     "output_type": "stream",
     "text": [
      "Load downstream window sequences:   0%|                                                                                                                            | 0/22 [00:00<?, ?it/s]"
     ]
    },
    {
     "data": {
      "text/plain": [
       "'downstream: CR11023,FBtr0475186, 2L:9485-9487 (+), AAA'"
      ]
     },
     "metadata": {},
     "output_type": "display_data"
    },
    {
     "data": {
      "text/plain": [
       "'downstream: l(2)gl,FBtr0078170, 2L:9836-9838 (-), TTT'"
      ]
     },
     "metadata": {},
     "output_type": "display_data"
    },
    {
     "data": {
      "text/plain": [
       "'downstream: l(2)gl,FBtr0078171, 2L:9836-9838 (-), TTT'"
      ]
     },
     "metadata": {},
     "output_type": "display_data"
    },
    {
     "data": {
      "text/plain": [
       "'downstream: l(2)gl,FBtr0306591, 2L:9836-9838 (-), TTT'"
      ]
     },
     "metadata": {},
     "output_type": "display_data"
    },
    {
     "data": {
      "text/plain": [
       "'downstream: l(2)gl,FBtr0078169, 2L:9836-9838 (-), TTT'"
      ]
     },
     "metadata": {},
     "output_type": "display_data"
    },
    {
     "data": {
      "text/plain": [
       "'downstream: l(2)gl,FBtr0078168, 2L:9836-9838 (-), TTT'"
      ]
     },
     "metadata": {},
     "output_type": "display_data"
    },
    {
     "data": {
      "text/plain": [
       "'downstream: l(2)gl,FBtr0306592, 2L:9836-9838 (-), TTT'"
      ]
     },
     "metadata": {},
     "output_type": "display_data"
    },
    {
     "data": {
      "text/plain": [
       "'downstream: l(2)gl,FBtr0306590, 2L:9836-9838 (-), TTT'"
      ]
     },
     "metadata": {},
     "output_type": "display_data"
    },
    {
     "data": {
      "text/plain": [
       "'downstream: l(2)gl,FBtr0078167, 2L:9836-9838 (-), TTT'"
      ]
     },
     "metadata": {},
     "output_type": "display_data"
    },
    {
     "data": {
      "text/plain": [
       "'downstream: l(2)gl,FBtr0330655, 2L:9836-9838 (-), TTT'"
      ]
     },
     "metadata": {},
     "output_type": "display_data"
    },
    {
     "data": {
      "text/plain": [
       "'downstream: l(2)gl,FBtr0078166, 2L:9836-9838 (-), TTT'"
      ]
     },
     "metadata": {},
     "output_type": "display_data"
    },
    {
     "data": {
      "text/plain": [
       "'downstream: l(2)gl,FBtr0306589, 2L:9836-9838 (-), TTT'"
      ]
     },
     "metadata": {},
     "output_type": "display_data"
    },
    {
     "data": {
      "text/plain": [
       "'downstream: Ir21a,FBtr0113008, 2L:21820-21822 (-), TGT'"
      ]
     },
     "metadata": {},
     "output_type": "display_data"
    },
    {
     "data": {
      "text/plain": [
       "'downstream: asRNA:CR43609,FBtr0309810, 2L:24238-24240 (+), ACC'"
      ]
     },
     "metadata": {},
     "output_type": "display_data"
    },
    {
     "data": {
      "text/plain": [
       "'downstream: Cda5,FBtr0309227, 2L:25399-25401 (-), ATT'"
      ]
     },
     "metadata": {},
     "output_type": "display_data"
    },
    {
     "data": {
      "text/plain": [
       "'downstream: Cda5,FBtr0309228, 2L:25399-25401 (-), ATT'"
      ]
     },
     "metadata": {},
     "output_type": "display_data"
    },
    {
     "data": {
      "text/plain": [
       "'downstream: Cda5,FBtr0309229, 2L:25399-25401 (-), ATT'"
      ]
     },
     "metadata": {},
     "output_type": "display_data"
    },
    {
     "data": {
      "text/plain": [
       "'downstream: Cda5,FBtr0078163, 2L:25399-25401 (-), ATT'"
      ]
     },
     "metadata": {},
     "output_type": "display_data"
    },
    {
     "data": {
      "text/plain": [
       "'downstream: Cda5,FBtr0078164, 2L:25399-25401 (-), ATT'"
      ]
     },
     "metadata": {},
     "output_type": "display_data"
    },
    {
     "data": {
      "text/plain": [
       "'downstream: Cda5,FBtr0113416, 2L:25399-25401 (-), ATT'"
      ]
     },
     "metadata": {},
     "output_type": "display_data"
    },
    {
     "data": {
      "text/plain": [
       "'downstream: Cda5,FBtr0309225, 2L:25399-25401 (-), ATT'"
      ]
     },
     "metadata": {},
     "output_type": "display_data"
    },
    {
     "data": {
      "text/plain": [
       "'downstream: Cda5,FBtr0309226, 2L:25399-25401 (-), ATT'"
      ]
     },
     "metadata": {},
     "output_type": "display_data"
    },
    {
     "name": "stderr",
     "output_type": "stream",
     "text": [
      "Load downstream window sequences: 100%|██████████████████████████████████████████████████████████████████████████████████████████████████████████████████| 22/22 [00:00<00:00, 547.49it/s]\n"
     ]
    }
   ],
   "source": [
    "window_type='downstream'\n",
    "ws=3\n",
    "genome_offsets = get_config(t.config, 'genome_offsets', default_value={}) # get genome offsets from config (if any)\n",
    "# NOTE that you can also load sliced genome sequences and correct coordinates using the 'genome_offsets' config key\n",
    "# see below for an example\n",
    "with pysam.Fastafile(get_config(t.config, 'genome_fa', required=True)) as fasta:\n",
    "    for tx in tqdm(t.transcripts, desc=f'Load {window_type} window sequences', total=len(t.transcripts)):\n",
    "        strand = tx.strand\n",
    "        assert strand is not None, f\"Undefined strand for tx {tx}\"\n",
    "        loc = tx.get_upstream(ws) if window_type == 'upstream' else tx.get_downstream(ws)  # get up/downstream windows of given size\n",
    "        dna_seq=''\n",
    "        s = loc.start - genome_offsets.get(loc.chromosome, 1) \n",
    "        if s<0: # Pad with N's if required\n",
    "            dna_seq='N'*(-s)\n",
    "            s=0\n",
    "        e = loc.end - genome_offsets.get(loc.chromosome, 1) + 1\n",
    "        dna_seq+=fasta.fetch(reference=loc.chromosome,start=s,end=e) # get sequence from FASTA\n",
    "        display(f\"{window_type}: {tx.parent.gene_name},{tx.feature_id}, {loc}, {dna_seq}\")"
   ]
  },
  {
   "cell_type": "markdown",
   "id": "cb681a0c-342c-46c1-9487-e441ac8cfc67",
   "metadata": {
    "tags": []
   },
   "source": [
    "### Annotation of features\n",
    "\n",
    "A transcriptome manages an `anno` dict that maps annotation features (e.g., an exon) to a dict containing arbitray annotations.\n",
    "Annotations can be added manually or by using the `transcriptome.annotate()` method that implements a generic method to add feature-based annotations.\n",
    "The following section demonstrates some use cases:"
   ]
  },
  {
   "cell_type": "code",
   "execution_count": 23,
   "id": "6a911370-0c34-48b3-bce6-c3e3114568eb",
   "metadata": {
    "tags": []
   },
   "outputs": [
    {
     "name": "stderr",
     "output_type": "stream",
     "text": [
      "Building transcriptome (unfiltered): 100%|██████████████████████████████████████████████████████████████████████████████████████████████████████████████████| 2/2 [00:00<00:00, 46.03it/s]\n",
      "Load sequences: 100%|█████████████████████████████████████████████████████████████████████████████████████████████████████████████████████████████████████| 5/5 [00:00<00:00, 2148.06it/s]\n",
      "Build interval tree: 100%|███████████████████████████████████████████████████████████████████████████████████████████████████████████████████████████████| 5/5 [00:00<00:00, 15923.71it/s]\n"
     ]
    }
   ],
   "source": [
    "# First, let's instantiate a small transcriptome that contains only two human genes (ACTB and SOX2) \n",
    "config = {\n",
    "        'genome_fa': get_resource('ACTB+SOX2_genome'),  # get_resource('ACTB+SOX2_genome'),\n",
    "        # this is a sliced reference sequence. To match the gencode annotations we provide respective offset coordinates for the 2 chroms\n",
    "        'genome_offsets': {'chr3': 181711825, 'chr7': 5526309}, \n",
    "        'annotation_gff': get_resource('gencode_gff'),  # get_resource('gencode_gff'),,\n",
    "        'annotation_flavour': 'gencode',\n",
    "        '#transcript_filter': {\n",
    "            'included_genetypes': ['protein_coding']\n",
    "        },\n",
    "        'load_sequences': True\n",
    "    }\n",
    "\n",
    "t=Transcriptome(config)"
   ]
  },
  {
   "cell_type": "code",
   "execution_count": 24,
   "id": "0dbf1626-a0f3-4987-9aa3-1bef5b7ab57a",
   "metadata": {
    "tags": []
   },
   "outputs": [
    {
     "name": "stderr",
     "output_type": "stream",
     "text": [
      "0it [00:00, ?it/s]\n",
      "buf=[0]: : 86it [00:00, 849.34it/s]                                                                                                                                 | 0/2 [00:00<?, ?it/s]\u001b[A\n",
      "100%|███████████████████████████████████████████████████████████████████████████████████████████████████████████████████████████████████████████████████████| 2/2 [00:00<00:00, 10.06it/s]\u001b[A\n",
      "buf=[0]: : 190it [00:00, 931.51it/s]\n"
     ]
    },
    {
     "data": {
      "text/plain": [
       "[(1, 'ENST00000646664.1_exon_5', 0.974448717948718),\n",
       " (2, 'ENST00000646664.1_exon_4', 0.8161705426356585),\n",
       " (3, 'ENST00000646664.1_exon_3', 0.28020416666666664),\n",
       " (4, 'ENST00000646664.1_exon_2', 0.0),\n",
       " (5, 'ENST00000646664.1_exon_1', 0.0),\n",
       " (6, 'ENST00000646664.1_exon_0', 0.0)]"
      ]
     },
     "metadata": {},
     "output_type": "display_data"
    }
   ],
   "source": [
    "# Now, lets annotate exons and introns with mappability scores that are read from a bedgraph file.\n",
    "# We first create a method for calculating the mean mappability for an annotation based on the scores of\n",
    "# all overlapping intervals from the bedgraph file.\n",
    "def calc_mean(item, label='mappability'):\n",
    "    loc, (anno, scores) = item\n",
    "    anno[label]=sum([score*loc.overlap(sloc) for sloc,score in scores])/len(loc)\n",
    "    return calc_mean\n",
    "\n",
    "# now we can call the annotate method, tell it to get the scores from a bedgraph iterator and\n",
    "# to annotate only exons + introns. Note that this test bedgraph file covers only ~half of ACTB,\n",
    "# (use a genome  browser like IGV to confirm this). So the mappability of the uncovered regions will \n",
    "# be set to zero.\n",
    "t.annotate(iterators=BedGraphIterator(get_resource('human_umap_k24')),\n",
    "           fun_anno=calc_mean,\n",
    "           feature_types=['exon', 'intron'])\n",
    "\n",
    "# Now, lets show the mappability values for exons and introns of one random transcript \n",
    "rnd_tx = random.sample(t.gene['ACTB'].transcript, 1)[0]\n",
    "display([(f.rnk, f.feature_id, f.mappability) for f in rnd_tx.exon])\n",
    "\n",
    "# Note that it would be more efficient to annotate genes with mappability score arrays and then calculate mean/median mappability\n",
    "# for each feature by slicing these arrays (as done, e.g., for sequences) but this is omited here for the sake of simplicity"
   ]
  },
  {
   "cell_type": "code",
   "execution_count": 25,
   "id": "bb9048bd-e9c7-4cb3-986e-ad82b3b918bb",
   "metadata": {
    "tags": []
   },
   "outputs": [
    {
     "data": {
      "text/html": [
       "<textarea rows='4' cols='120'>Sequence of ACTB: CTGGGTATCTCCCTCTGCAGCATGGGTCACGAACAAACTGGGCCCTCAGAGGCCACGGGATGGCGCCCAGTCTCCAGTCACAAGGCAGAATCCAGACCTCAGCCCATAGCTAACCAGAGCTGTCTGCAGGCCAGATATGGCCCCATGGACCCCCTACCCCAACTTGACTTTGATTCCAGGTCCCCCTCTGTCTGGATGAACAGGTAGGAATTGCGGCCTCTCCTAAGCCTATGGGAGCCTGGGCCAGGCTGACCCTCAAGGCTGACAGCCACGATCCCATAGGTGAAGGCAAAGGCGTGGCAGCTAGGAACACCCACTACACCCCCACTCAAGGGAACACCGTGCCCAGCTACCCTGAGACAGCCCCACTCCCAGGAAATGCAGGTGCCAACCAGCCCCAGTGAGGCATGGCACCTGAGCCAGACACCCCCAAATAGTCCCTTCCCACCTCCTCAAGCATCTGCACTCTGGGTGAACCCAGAAAAACTGGGGTACCTGGGGAGACATAGAAGGGCCAGGCCAGGAACTCCCCAATAAGCAGGAACAGAGACCTGACCCCTGAGCCTCCCCCACCCTCTAAGGCTGCTCAATGTCAAGGCAGGAGGGATCTCCACACACCTGCACTCTGGGTAAGGACAAGTTGGCCCCCACTGCCCCACCCTTTTGCAGGGTTCACCCTCCTGCAGGGTTCACCCTCTGCTGCCCCCAACCCAGCCACACCACAAAGTCACACTTGGCCTCATTTTTAAGGTGTGCACTTTTATTCAACTGGTCTCAAGTCAGTGTACAGGTAAGCCCTGGCTGCCTCCACCCACTCCCAGGGAGACCAAAAGCCTTCATACATCTCAAGTTGGGGGACAAAAAAGGGGGAAGGGGGGGCACGAAGGCTCATCATTCAAAATAAAACAAAATAAAAAAGTATTAAGGCGAAGATTAAAAAAATTTTGCATTACATAATTTACACGAAAGCAATGCTATCACCTCCCCTGTGTGGACTTGGGAGAGGACTGGGCCATTCTCCTTAGAGAGAAGTGGGGTGGCTTTTAGGATGGCAAGGGACTTCCTGTAACAACGCATCTCATATTTGGAATGACTATTAAAAAAACAACAATGTGCAATCAAAGTCCTCGGCCACATTGTGAACTTTGGGGGATGCTCGCTCCAACCGACTGCTGTCACCTTCACCGTTCCAGTTTTTAAATCCTGAGTCAAGCCAAAAAAAAAAAAAAAACCAAAACAAAACAAAAAAAACAAATAAAGCCATGCCAATCTCATCTTGTTTTCTGCGCAAGTTAGGTTTTGTCAAGAAAGGGTGTAACGCAACTAAGTCATAGTCCGCCTAGAAGCATTTGCGGTGGACGATGGAGGGGCCGGACTCGTCATACTCCTGCTTGCTGATCCACATCTGCTGGAAGGTGGACAGCGAGGCCAGGATGGAGCCGCCGATCCACACGGAGTACTTGCGCTCAGGAGGAGCAATGATCTGAGGAGGGAAGGGGACAGGCAGTGAGGACCCTGGATGTGACAGCTCCCCACACACCACAGGACCCCACAGCCGACCTGCCCAGGTCAGCTCAGGCAGGAAAGACACCCACCTTGATCTTCATTGTGCTGGGTGCCAGGGCAGTGATCTCCTTCTGCATCCTGTCGGCAATGCCAGGGTACATGGTGGTGCCGCCAGACAGCACTGTGTTGGCGTACAGGTCTTTGCGGATGTCCACGTCACACTTCATGATGGAGTTGAAGGTAGTTTCGTGGATGCCACAGGACTCCATGCCTGAGAGGGAAATGAGGGCAGGACTTAGCTTCCACAGCACAGCCCCGAGGGGTAACCCTCATGTCAGGCAGAGCCGGGAGACAGTCTCCACTCACCCAGGAAGGAAGGCTGGAAGAGTGCCTCAGGGCAGCGGAACCGCTCATTGCCAATGGTGATGACCTGGCCGTCAGGCAGCTCGTAGCTCTTCTCCAGGGAGGAGCTGGAAGCAGCCGTGGCCATCTCTTGCTCGAAGTCCAGGGCGACGTAGCACAGCTTCTCCTTAATGTCACGCACGATTTCCCGCTCGGCCGTGGTGGTGAAGCTGTAGCCGCGCTCGGTGAGGATCTTCATGAGGTAGTCAGTCAGGTCCCGGCCAGCCAGGTCCAGACGCAGGATGGCATGGGGGAGGGCATACCCCTCGTAGATGGGCACAGTGTGGGTGACCCCGTCACCGGAGTCCATCACGATGCCAGTGGTACGGCCAGAGGCGTACAGGGATAGCACAGCCTGGATAGCAACGTACATGGCTGGGGTGTTGAAGGTCTCAAACATGATCTGTAAGGCAGAGATACACCATGTCACACTGGGGAAGCCACTGGGGACAGCCAGGCCAGACGGGGGACATGCAGAAAGTGCAAAGAACACGGCTAAGTGTGCTGGGGTCTTGGGATGGGGAGTCTGTTCAGACCTACTGTGCACCTACTTAATACACACTCCAAGGCCGCTTTACACCAGCCTCATGGCCTTGTCACACGAGCCAGTGTTAGTACCTACACCCACAACACTGTCTTAGACACCTAGTCAGAGAGACAAACACCAGAAAAAGAGCTCATCTGGGAAAAAGCAAATAGAACCTGCAGAGTTCCAAAGGAGACTCAGGTCAGAGAAGAGAGTCCTACGGAAAACGGCAGAAGAGAGAACCAGTGAGAAAGGGCGCAGCTCCGGGAGGCCAGGAAGGAGGGAGGCGGCCACCAGAAGAGGTAGCGGGCCACTCACCTGGGTCATCTTCTCGCGGTTGGCCTTGGGGTTCAGGGGGGCCTCGGTCAGCAGCACGGGGTGCTCCTCGGGAGCCACACGCAGCTCATTGTAGAAGGTGTGGTGCCAGATTTTCTCCATGTCGTCCCAGTTGGTGACGATGCCGTGCTCGATGGGGTACTTCAGGGTGAGGATGCCTCTCTTGCTCTGGGCCTCGTCGCCCACATAGGAATCCTTCTGACCCATGCCCACCATCACGCCCTGGGAAGGAAAGGACAAGAAGCCCTGAGCACGGGCGCAGCCCCCACCCCGGAAACCGGGAGGCTCCTGTGCAGAGAAAGCGCCCTTGCCTCCCGCCCGCTCCCGGGGCTGCCCCACCCAGCCAGCTCCCCTACCTGGTGCCTGGGGCGCCCCACGATGGAGGGGAAGACGGCCCGGGGGGCATCGTCGCCCGCGAAGCCGGCCTTGCACATGCCGGAGCCGTTGTCGACGACGAGCGCGGCGATATCATCATCCATGGTGAGCTGCGAGAATAGCCGGGCGCGCTGTGAGCCGAGGTCGCCCCCGCCCTGGCCACTTCCGGCGCGCCGAGTCCTTAGGCCGCCAGGGGGCGCCGGCGCGCGCCCAGATTGGGGACAAAGGAAGCCGGGCCGGCCGCGTTATTACCATAAAAGGCAAACACTGGTCGGAGGCGTCCCCGCGGCGCGCGGCAGGAAGCCAGGCCCCAACCCCCTCCCAACCGGGCGCCAGCCCCGCCTCCGCCCGGTTCAAACAGCGCCGGGTCGGCGCGCGCGCACGCAGCGGCCACACCCTCGGGCGGCCAGCGGCTCGGGCAGGAAGTGCGCGCAAGCGCCCGGGAGCCGCGGCGACCCCACCCCTTCCGGCCGAGCCCGCCTTCGCCCCAGCCCAGGCCGCGGCACCCCGGGCCCCAGAACGCACGCGCAGTTAGCGCCTTGAGTCCCAGCGCGCACGCGCAATTAGCGCCAATTCCCAGCGCGCACGCAGTTAGCGCCCAAAGGACCAGCGCGCACGCGCAATGGCGCCCCAGCCCCCACCGGGCCTGGCGGGGGCTCCGCCGCGCCCACCCTGCGATCCCCATTGGCAAGAGCCCGGCTCAGACAAAGACCCCGCCGGTTGCCCCCGCCCCGAGAGCGGCACCCCCGGAGCGCGCCTCCCGAGCGCGGCCTCGCGCCTCCGAACTGGCGTGGGGTGTCCCCCATCTCCGGAGGCCCAGGGGCTTCTCCCGCGCCCCCCACGGCGGTCCGGTTCCCCCCCCATGCGCCCCCCGCTGCGGCCCAGACGGCGGCTCTGCACGGGCGAAGGGGCCGCGGCCGCCTGCGGCCGGGCCGTGAGCCGCCTGCCCCGGTCGGCTGGCCGGGCTTACCTGGCGGCGGGTGTGGACGGGCGGCGGATCGGCAAAGGCGAGGCTCTGTGCTCGCGGGGCGGACGCGGTCTCGGCGGTGGTGGCGCGTCGCGCCGCTGGGTTTTATAGGGCGCCGCCGCGGCCGCTCGAGCCATAAAAGGCAACTTTCGGAACGGCGCACGCTGATTGGCCCCGCGCCGCTCACTCACCGGCTTCGCCGCACAGTGCAGCATTTTTTTACCCCCTCTCCCCTCCTTTTGCGAAAAAAAAAAAGAGCGAGAGCGAGATTGAGGAAGAGGAGGAGGGAGAGTTTTGGCGTTGGCCGCCTTGGGGTGCTGGGCCCGGGGGCTGGGGGCGCGCGCCGTGGCCCCCGCGCCCCACGCTGGGCAGTGCCCGGTTCGGCCCCGCATGGCCAGGCCTGCCCCCGGCCTGCCCGTCTCTCGGGCCCCCCACCCACCGCGGGACATCCTAGGTGTGGACATCTCTTGGGCACTGAGCGCCCAGGTGGGGTGGGCCAGGGTCTGCACGGGTGCCAGGGCCCTGGGTTCTGTACGCTCCTGCAGAAGGAGCTCTTGGAGGGCATGGAGTGGCCAGGCAGTCACTCCCCCTTGCCGACTTCAGAGCAACTGCCCTGAAAGCAGGGCCTGAGGACCTCTGGCTGTGGGGCTCAGCTAGCTAAATGTGCTGGGTGGGTCACTAGGGAGAGACCTGGGCTTGAGAGGTAGAGTGTGGTGTTGGGGGAGTCAGGTGGCTTGCGGCCACTTAGAAGTCGCAGGACCACACTCCCCAGGACAGGGCAGGGGCCAGCGGTCCAGTGGCTGGAGGTGGCCCGTGATGAAGGCTACAAACCTACCCAGCCGCAGCCCTGGGAAGGAAGGTGGGCTCTACAGGGCAGGGCACCTTTTACCCTGGAGCTGCCTGCTTTTGAGGGTAACAGTCACGCCCAGCCAAGACAAGGCCTGGGGCGTTAGTGGGTGACCTAGGCACTGCGGGGCGGGGGGGCTGGGTCTACACAGCCTGGGTCTGGGCCCACCGTCCGTTGTATGTCTGCTATGCGCAGCCACAGCTGAACTGCCCTCCCAGACCATCTGGAGGCCGCTGGGGGACTCTGGGGACCAAGACTCCATGTGCCACAGAGGATTGGGGGCGGGGCGGTGCTAGGAACTCAAAGCCAGCCTGGGAAGACCCTGTCCTTGTCACCCTTTCTTGCCTTGGGTCTGTCCACTGAGTAGCACACAAGACCGGGTGGGCAGGGTCCGTTCTGCTCCGGGAATCACAGACTGTGTGTACCCAGGTGGTGGGCATGCAGCGATCAGTGGCGTGGGACCACAGAGGGGCATTCGGCTCAGCCTAGAGGAACCTGCCTTCCTCCTCCTCCCCCTCCTTGGAGGTGGTGACAAGAAGCTGGATTTTTACACAAAAATAGGAAGAGTGGTGAGGTGGGGGCACCTCAGGCCTGCGGGGCTCTTTGCAGCGCGTAGTAGGTGTTCACTGAGTGTGTGTCGCAATAGGCAAAGATGAGTCCATATAAGGACATGGAACCTGTGGCCAGGAAGGAGGCTGCTTGTTCCAGTTCACGGTACAAGGCTGTGCTCAGCCAATGGGACCTGCTCCTCCCTTGAAGGTTGCAGAGGCCACAGCCTGGTGGGAAAGATGACCACCACCCAGCACACAGTGGCAGACACAGGTTCACAGTCCAGAAGACTTGCTGAGCCTCCTCCATCACCACCCCACGCAAGGGCAAACTTCCCCAGCCTGTATACTCCCTGCCTCCTGGGGATGGGACTGTCCTGTCCCTGGCCTTGTATCTTTCAGCTGCAGGCGTCTTGCCAGCTGCCTCAGGACCTGCCAACGTTCACCCGGCTGGCGTTGTGGGGCGATGGGCGGGGGGCCCTTCTTGCTGCCTGTTGATGAGGGCTGGTTCTGGGGGTTCGTGGAACGTTGAACTGGGTGGAGTGCTGGGGGGGTGGGGTGGGCAGTGGGGATGGGACCGGATCTGCAGAGCAGGGATGAGAGGTTGTCAGGTGGGCGGCTCCAGGCAGCAAGGTGGGGTGCAGAGCAGACCTGATCCCCAGGCAGGACCTGTGTTGCCACTGGGCCTCCATTCAGCTGGCCAAGAGACAGGAGCTCCAGCCCCACCCCGCCCCGGGCTGCAGCATTCCTGGCCTGTCCTCCTGGCTTGTGGTTCCCTCTGTCTGCAGCGGCCACTTCCTAGTGCTCTCCTATGCACCCTTCAAGTCCCATCCCAGAAAGCCCCTCTTTGGGGAAGCGTTTTAGCCTCTGCAGCCACGCCTTCCTCCCTACCTCAGACCAAGGCTTGCAGCTGGCATTTAGAACTGGGCCTCAGCCACCAGGCTGCGAGCCCTCCCAGGGTCTCCGTCACCCCCACTCCTTCCCACTACACCCACCCCAGGGCTCCTCGCTGTTGAATGAGTGACTGCCTGGGTGTCCTCAGGTGGCAGGTTGGAGGTGGCCGAGCAGCCTGGGGTGAGGGGCAGGGAGGAGCTGAAGAGAGAAAGCAAGCAGCGGAGCAGGAAAAGAGGAAGTAGAGGTGCCTGGCCAGGGGGCGGGCCGAGCAGGGGAGAAGTGAACAGGTTCTCTTCTGTGCTTGGGAACTTTGCCCTGTAAGGGAGCTTTCGGAGCTGTCACTGGGGCACGCACGCAGCCCCCGGAGAACCCTCGGTTGAACTCAGCCAAGGGGACTCCACCTGCCTGGCTGGGACTTTTGTTTTTTCCCCTCCAAGCCTTTGCTTTGGTGACACCCCCACCCTGCAAGGCCTCCAGGCAACCAACTCTTACAGCGCAGACCCAGGGACCACTCCTTGGCCCTCCCGCAAAACAACCACCCAGCCACCTTGCCCTGGGCACTGCAGCGCCCTCCCTATCCTGCCAGGAGGGAATCCAACCTCCTTTTTATTATTATTACTATTTTTGATACAAGGTCTTGCTGTGATGCCCAGGCTGGAGTGCGATCACAGCTCACTGCAGCCTCGACCTCCTGGGCTCAAAGCCTTCACGAGTAGCTGGGACTATAGGCACACACTTCCAAGCCTGGCTAATTTTTAAATTATCTGTAGAGGTATGGCTTCTCACCATGTTGCCCAGGCTGGTCTCCAGCTCCGGGGGGCTCAAGCGATCCTCCCACCTCAGCCTCCCAAAGTCCTGGGATTACAGGCATGAGCCACCGTGCCCGTCCTCAAGCTCCATTTTGTAGAGGAAGGAACTGAGACAGAGCTTCCCTCCAAGACTTGAGTTAGCTCTAGGAGGACAGGGACCCTGAACACGGTAGGTGCTCAGTGAGAGGAGAATGAATGAATGAGGGGGGGCAACATTCCAGGAGACACACCCCCATTCACAGACTAGGAAACTGAGTCAGGACTGGTGAAGTGCTCAAGTCCCCAAATGCGGTGGGAAGGACTCTAGCCTCAGGGTCCCTGAGGCGGCAGCCCTGCCTCCTGCCTCACACTGCCCCTCCCTGGTAAAGGGTCCCCTGGAATGTCCCCAAGGCCTGAGTCCAAAGGCTGTTTGAAAGTCGGAATTCCTGGGCCCTACCTCCCTCCTCAGAATTTATCACCTGAGGCCCAGAGAGGACACCATCAGCCCATGGTCACGTGGCAGCAAGTGGGGTCTCTCCCACTGGGGTGTGATGGCTTGTACCTGTAATCCCAGCATTTTGGGAGGCCGAGGAGGGAAGATCGCTCGAGCCCAGGAGTTGGAGACAAGCTTGGGCAACACGGGAGATCCTATCTCTACAAAATCAGCTGGGTGTTGTGGCACGTGCCTGTACTCCCAGCTAATTGGGAGGCTGGGGCAGGAGCATTGCTTCAGCGTGGAAGGTCAAGGTTATAGTGAGCTATGATCAAGTCACTGCATTCCAGCTTGGATGACAGAGGAAGACCCTGTCTCAAAAAAAAAAAAAAAAGAAAAGAAAAATTAAATTTAAAAATTAGGTGCTCCAGGCTGGGCGTGGTGGCTCACGCCTGTAATCCCTGCACTTTGGGAGGTCAAGGCGGGTGGATCACCTGAGGTCAAAAATTCAAGATCAGCCTGGCAAACATGATGAAACCTTGTCTCTACTAAAAATACAAAATATTAGCTGGGCATAGTGGCGCGTGCCTGTAATCCCAGCTACTCAGGAGGCTGAGGCAGGAGAATCGCTTGAACCCGGGAGGCAGAGGTTGCAGTGGGCCGAGATTGCGCCGCTGCACTCCAGCCTGGGTGACGAGCAAAACTCTGTCTCAGAAAAACAACAACAAAAAAGTTGGGTGCTCCAGCTTTTATTCATTTAAAAATAAAATAGCCGGGCACAGCGGCTCACACCGTAATCCCAGCATTTTGGGAGGCCGAGGCAGGAGGATCTCTCGAGTCCAGGAGTTTTGAGGAGCATGGTGAGACCCTGTCTCTACCAAAAAAAAAAAAAAAGACAAAATTAGCCGGGCATGGTGGCATGTGCCTGTAGTCCCAGCTACTGGGGAGGCTAAGGTGGGAGAACTGCCTGAGCCTGAGGGGTCGAGGCTGCAGTGAACCAAGATCATGCCACCGCACTCCAGCCTGGGTGATAGAGACCCTGTCTCCAAAAAAAAAAAAAAAAAGTAAAAGAAAAAGAAAAAGTAGGTGCTCCCGGTTTATTTATTTAATTTATTTTTAGAGATAAGGTCTCTAAAAATTTTAGAGACAGGGTCTAGCTCTGTGGCCCAGGCTGGAGTGCAGTGGCATGATCACAGCTCACTGCAGCCTTGACCTCCTGGGCTCAAGCGATCCTCCTGTCTCAGCCTCCTGAGTAGCTGGGACGGCAGGGATGCCACCACATCTGACTAATATTTTTATATTTTGTGGAGATGGGGTCTCTCTGCAATATAACAGGGTCTGTCTCCCTGTGTTGCCTGGGCTGGTCTCGAACTGCTGAGCTGAAGTGATCCTCTCACCTCAGCCTCCCAAATTGCTGGGATTAGAGGTGTGAGCCACTGCACCTGGCCTCAGTTTTTTGTTGTTGTTGTTGTTCGTTTTTAGTTGTTGTTGTTTTGAGATGGAGTCTTGCTCTGTCGCCCAGGCTGGACTGCAGTGGCACAATCTCAGCTCACTGCAACCTCTGCCTCCCGGGTTCAGGGTTCAAGCGATTCTCCTGCCTCAGCCTCCTGAGTAGCTGGGACTACTGGCTCGCACCACCACGCCCAGCTAGTTTTTTTTTTTTTTGTATTTTTAGTAGAGATGGAGTTTCACCATGTTGGCCAGGCTGGTCTCAAACTCCTAACTTCAGCTGATCTGCCCACCTTAGCCTCCCAAAGTGCTGAGATTACAGGTGTGAGCCACCATGCCTGGATAGTTTATTTATTTATTTATTTATTTTCCTTTTTTTTTTTTTTTTGAGCTGGAGTCTTGCTCTGTCACCCAGGCTGGAGTGCAGTGGCACGATCTCCGCTCACTGCAAGCTCCACCCCCCTGGGTTCGCGCCATTCTCCTGCCTCAGCCTCCCCAGTAGCTGGGACTACAGGCGCCCGCCACCACGCCCGGCTAATTTTTTGTATTTTCAGTAGAGACGGGGTTTCACTGTGTTAGCCAGGATGGTCTCGATCTCCTGACCTTGTGATCCGACCGCCTCGGCCTCCCAAAGTGCTGGGATTACAGGCGTGAGCCACCGTGCGTGGCCTATTTTTTCCTTTTTTGAGACAGAGTCTTGCTCTGTCGCCCAGGCTGGAGTGCAATGGCGCCATCTTGGCTCACTGCAACCTCTGCCTCCCGGGTTCAAGCGATTCTCCTGCCTCAGCCTCCTGAGTAGCTGGGATTACAGGCACCCACCACCCCACCCAGGTAATTTTGTATTTTTAGTAGAGATGGGGTTTCACCATGTTGGCCAGGCTGGTCTCAAACTCCCGACCTCAGGTGATCCGTCTGCCTTGGCCTCCCAAAGTGGTGGGATTACAGGTGTAAGCCACCACACCCGGCCTTTATTTATTTATTTATTTATTTATTTATTTATTTATTTATTTATTTTGAGATGGCGTCTCGCCCTCTGTCACCAGGCTGGAGTGCAATGGTGCCATCTCAGCTCACTGCAACCTCCACCTCCCGAGTTCAAGCGATTCCCCTGCCTCAGCCTACTGAGTAGCTGGGACTACAGGCGCGTGCCACCACGCCCAGCTAATTTTGTTTGTATTTTAGTAGAGACGGGGTTTCACCATGTTGGCCAGGATGGTCTCCGTCTCCATCTCCTGACCTTGTGATCCGCCCGCCTCAGCCTCCCAAAGTGCTGGGATTACAGGCATGAGCCACCGTGCCCAGCCTATTTTATTTTTTAAAATAAAACAGAGTGGGGTCTCTCTGCCTCCTGGCCACCTTCTCAGCCTTAAGGGCCAGCTTCAGGCTGCCTTCTCCAGGAAGCCTGCCATGACTTCCTCCCTCTTCTACTCTAACAGCAGAAGGTTTCCTGCTCAGAAAGGGGCAGTGACCCAGCCAGGATCACCCAGTAAGGGCACAGCCAGGAGCTGAAGGGCCTTTTGCCTGGAGCAGCTCCTGGATCACACTGCTCCTGCATGCAGCACACCGTCACTGACCAGCCGGACATGCTTCCAGAGTTAACTGGCACTGTTTTGAGAAATGAGAAAAGCACCCTGAAGAAAGCAAGCACAATTCCTAAGACAGATCTTAAATGAGAGAGAGAGCAAGAGAACAACAAGTTTAATGGCATCAGGAGGAAAAGCAACAGGTTTCCTTCAGAATGAGGTATTAGGGGGTGCTGGGTGTAGTGGCTCATGCCTGTAATCCCAGCACTTTGGGAGGCTGAGGCAGGCAGATCACGAGGTCAAGAGTTTAAGACCAGCCTGGCCAACATAATGAAACCCCACCTCTACTAAAAGTACAAAAATTAACCGAGTATGGTGGTGCACACCTATAGTCCCAGCTACTCGGGAGGCTGGGGCAGGAGAATCGCTTGAACCTGGGAGGCGGAGGTTTCAGTGAGCCAAGATCGTGCCACCGCACTCCAGCCTGGGCTATAGAGCGAGACTCTGTCTCAAAAAAAAAAAAAAAAAAAAAAAAAAAAAGGAGGGTGTTGGGCCGAGTGTGGTGGCTCACGCCCATAATCCCAACACTTTGGGAAGACAAGGTAGGAGGATCACTTGAGTCCAGGAGTTCAAGACCAGCCTGGGCAACATAGCAAGACCTTGTCTCTATATTTAAAAAAAAAAAAAAAAAAAAGGAAGGTGCTTTTTTTTATTTTTCGAGTCAGGGTCTCACTTTGTCACCAGGCTGGAGTGCAGTGGTGGAATCTCAGCTCACTCCAGGCTCAACCTTTTGGCCTCCATTGATCCTCCTACCTCAGCCTCCTGACTTACTGGTACTACAGGTGTGTACCACCATGCCCAGCTAATGTTTTGTAGAGACAAAGTTTTGCCATTTGCCCAGGCTGGCCTCCAACTCCTGGGTTAAAGCAATCCACCTGCCTCAGCCTCCCAAAGTGCTGGGATTACAGGCATGAGCCACTGCACGCAGCAGAGAGTGCTGCTTAGAAAGCAGTCAGGGGGCCAGGCGTGGTGGCTCACGCCTGTAATCTCAGCACTTTGGGAGGCTGAGGAGGGTGGATCACGAGGTCAGGAGATCCAGACCATCCTGGCTAACACGGTGAAACCCCGTCTCTACTAAAAATATAAAAAATTAGCCAGGCATGGTAGCGGGCACCTGTAGTCCCAGCTACTTGGGAGGCTGAGGCAGGAGAATGGCATGAACTTGGGAGGTGGAGTTTGCGGTGAGACGAGATCGTGCCACTGCACTCCAGCCTGGGCGACAGAGCAAGACTCCATCTAAAAAAAAAAAAGAAAAGCAGTCAGGGAGGGCTCCTCAGAGGAGGTGACCAGCAGAGCCTTGGTCCCCACATACACCTGGCCTCCAGACATAGCCTGGGGTGGTCACTTGGCTGCCTTCAGTAGCTCTGCCCTGGGCCTCTGCAGCTCCTTGGCAGAGGCACCAGGCTAAGGGGAATCCCTGCCCCAGAGGAAGTGGGAACTTCTAACACTTCTTGGGAGAGTTTTAAAAAATCCTTAAAAACTACCCTCTGTCTCCAGCCCGCAGGGTACCCGGAGAAACCCTTCCAGCCTTCCTAGGGAGTTCCTGGACTTGCTTATTTGATTGAATTATTCAGAAAAAGAAAATGCGGTTTCCTGGGCTTCCCCCTTACACACACACACACACACACACACACCACACCACACACACACCCCACACACACACACCCCACACACACCACACACACACACCACACACACCCCACACACACACATCCCACACACACACCACACACACACACACCACACACACACCCCACACCCACACACCACACACACACCACACACACACACTGAACGCTTTTTGCTTTCTCTGGACCCATCTGCTGTAGGGCCAGCTCTCCCCCTTCTCCAGATGAGAAAGAGACCACATGTGCAGAGAGGAACTGGATCCTTTGGGGCCTGCAGGCCTAGGCTGTGGGCGCTTGGAGGGGGAGGCTGCGGGCACCCTCATCCTCCCCGGGACTCACAACCACTCTCCTAGAGGCCAAGGTAGCCCTTGGGACTCAGGACCCTTCTGGTTGTCCCGAGTGGGGCCTCAGAAGCTGGGTGACAAGTTGGGCCAGGAGAGATGGGGGTCAGTAGCAAGTTCAAGTTCAGGTCAAGTGGGGTTCCCGAGGCCCTGGCTCTGACACCCTCTTGGGGTGCTGCACAGGCCAAGGGTGGGTCCTTCCCATGCTAAGGACTGTCCCAGGCAGTGGCTTCCCTGCCCTGGGCCTCTTGCCCTCAGCTGTGAAAAGGGGCAGGGGGTTACCTAGCTCCCAGGTGGCCCCTGAGAGGGGCCAGTGAGGCGGGGTCTGCAGTCCAGGCCCAGGGTCAGTGCGAGGGACTCGCCCCTTCCTGGCTGGCTGGGCTTATCCCTGACGCTCTCCTGCCTGGCCTGGGACCTCAGAAATGCCCCTTGGAGCTGGGCATAGTGGCTCATGCCTATAATCCCAGCACTTTGGAAGGCTGAGGCGGGCAGATCACCTGAGGTCAGGAGTTCAAGACCAGTCTGGGCAACATGGTGAAACCCCATCTCTACCAAAAATACAAAAAATTAGCTGGGTGTGGTGGCGGGCACCTGTATTCCCAGCTACTCGGGAGGCGGAGGCAGGAGAATCAGTTGAACCCAGGAGGTGGAGGTTGCAGCCAGCTGAGATCGAGATCACGCCATTGCACTCCAGCCTGGGCGAGAAGAGCAAAACTCAGTCTTAAAGAAAAAGAAAGAAAGAGACAAAGAGAGAAAGAGAGGCTGGGCACGGTGGCTCACACCTGTAATCCCAGCACTTTGGGAGGCTGAGGCGGGCAGGATCGCCTGAGGTCAGGAGTTCGAGACCAGCCTGGCCAACAGGGTGATACCCCATCTCTACTAAAAATACAAAAATTAGCTGCGTGTGGTGGCGGGCACCTGTAATCCCAGCTACTCGGGAAGCTGAGGCAGGAGAATCCCTTGAACCCGGGAGGTGGAGGTTGCAGTGAGCCGAGATCGCGCCATTGCACTCCAGCCTGGGCGACAAAGAGCGAAATTCCATCTCAAAAAAAAAAAGAGAGAGAGAGAAGGAAGGAAGGAAGGCAGGCAGGCAAGCAGGCCCCTTGGGAGGCCAGGCACCTCTCAGCCTCAGTCTCCCTTGTTCTGAGGTGGGGTGAAGATTCCCACCCGTGGTTCTGATATGGGGGACACGTGATTGGGCTGGGATGGAGCTCACATCCTTCAGCCCCTCGGGGTGCCTGAAGAACTAAGAACGGAGGCCGAAGCACAGTGGCTCACGCCTGTAATCCCAGCAAGCAGGTAGGTGGCTAAATACAAAAATTAGCTGGGCGTGGCGGCACATGCCAGTAATCCCAGCTACTCGGGAGGCTAAGGTGGGAGAATTGCTTGGACCCAGGAGGCAGAGGTTGCAGTGAGCCGACATAGCGCCATTGCACTCCAGCCTGGGCAACAAGAGCAAAACTCCATCTCAAAAAAAAAAAGAAAAGAAAAGAAAAAAAGGGATGATTGCCTGAGCCCAGCAGTTTGAGGCTGCAGTGAGCCATGATCGTACCTCTGCACATCAGCCTGGGAGACAAAGCGAGACCCTTTCTCTAAAAAATAAGTTTTAAAATAAATAAAATAGTCTGGGGCACTGGCTCCTACCTGTAATCCCAGCACTTTGGGAGGCCATGGTGGGTGGATCACTTGTGGTCACGAGTTCAAGACCAGCCTGGACAACATGTTGAAACTCCATCTCTACTAAAAAAATACAAAAATTACCCAGGTATGGTGGCAGGTGCCTGTAATCCCAGCTACTCGGGAGGCTGAGGCAGGAGAATCGCTTGAACCCAGGAGGTGGAGGTTGCAGTGAGCTGAGATCACACCACTGCACTCCAGCCTAGGCAACAGAGCAAGACTCCACCACACACACACACACACACTTTTTTATTTAAAAATTTAAAAAAATGTCCCTTGGAGGTGGGGCAGTGGCGGTATGGGTGAGGCCCCCTTGGAGGGGTGGAGAAGGAGAGAAAAGGGAGGTGTTGGGAGGTGCAGGCGGACGGGGCAGCTGCTGACTGAGGAGGCCACTGGCTCACCTGCCTTGGGGCTCAGCCTGTCCTCCTGGCCACCCCCAGTCCAGAGAGGAGAAGGGAAGACAGAGGCCCCAAGGGCCTACTGTGTGCTGGGCGCGTGTCAGGGTGGTGCCCACGTCACCTCATCAAAAGCACCCCACACCCCTGTCGGCCAAGTGGGACTCTCCCATTTCTCAGATGAGTAAACCGAGGCCAGGGAAAGTGAGAGACTTGGCCCTATAGTTAACACGGTTTGGCTATTACCAGGATGTTCTGGAACATGATTATCCAGGTCCTGGCCCAGGGCCACCATTCATGGCGAGCTTCCAAGGGCCCACCAAGTCCTTCAGCCTCTATGTGGTTGTTGTTCTCAGCCCCATGTTTCAGATGGGTAAACTGAGGTTTGGAGTGGCCAGTGGGAAGAGGCAGAGCCAGGCTCGGTGGCTGCAGTTGGCCTCGCTGCCCTGCCGTGGGGCGCATTCAGGGTTCACTTGGTGCTCCTGAGCTGGCGTGGGCTCCTGCAGTCCCGGGGCCTGCCTGCCCAAGGGGAAATCCGATCACAGCCACCGCGCAGCATCACCAGGCCCTCCTCAGCCAGAAATCTCTGCCACTGCTGGGCTTGCCAGGAACCTGAGCCGGCCCGTGGGGGACAGGCCCAGCTGTCTGGGCTTCCTGAGGTGTCTCCCATACGCTGCCCCGTGCCAGGTGCTGGGGACAGGAGGGGACCTCCCTGGCATGCACTGTCCACTGGGGACAGGGGCACAGAGCTGGCCAGCCCTGATCCCATGAGACTGGTCCTGTGCAAACCCAGGGAAAGCCCCAGACCCAGCCTCAGTGCAGGGAGAGTCCCAGAGGCCTCCTGGTCTTCGATTTTGCCGGCTCAGGCAAGAAGGGGTTTGGGGTTTCTCTTGGGACTTCGGCTTCTGCTGGGGACAAGGCACAGGCAGGGCTCCCTGACCTCCCTGAGGAAGCCCCGCCGCTCCGTTTCCCAGGTCTCTAGGGGGTAATTTTTTTTTTTAGACGGAGTCTCGCTCTGTCACCCAGGCTGGAGTGCAGTGGCGCGATCTAGGCTCACTGTAAGCTCCGCCTCCCGGGTTCACGCCATTCTCCTGCCTCAGCCTTCCGAGTAGCCTATAGGTGCCCGCCACCACGCCCGGCTAACTTTTTTTTGTATTTTTAGTAGAGATGGGGTTTCACCATGTTAACCAGGATGGTCTCGATCTCCTGACCTCGTGATCTGCCCGCCTCGGCCTCCCAAAGTGCTGGGATTACAGGCTTGAGCCACTGCGCCCGGCCTCTAGGCGGTAATTTTTGCTACTTAAGTCACCTTGTCTGGCACGGTGGCTCATGCCTGTAATCCTAGCACTTTGGAAGGCCTAGGCGGGCAGTTCACATAAGGCCAGAAGTTCAAGACCAGCCTGGCCAACATGGCGAAATCCCATCTCTACTAAAAATATAAAAATTAGCAGGGTGTGGTGGCACATGTCTATAATCCCAACTACTCAGGAGGCTGAGGCATGAGAATTGCTTGAAATGGGGAGGTGGAGGTTGCAGTGAGCTGAGATCACACCACTGCACTCCAGCCTGGGCAACAGTAGAGACACCGTCTCAAATAATAATAATAATAATGTCACGTGGGCTCTCCGATAGCCAAGGGCCATCAAGGCCAGAGATGACCAAGGCCCAATGTTGGGACCTCCATACCTTTGTCCCTGGGGCCACCTGGGCTGCACAGACATGTAGCATTGGGGGTGACAGTGGAGAAAGGCACACAGATGTCCCTGAGGCTGTGACCCGGGACATGTAAGGCTGGAGGGCTGGTCCAGGCTCAGGTGGGACTTAGCAGTGAGCCAGCTGTGCACAGGCCAGGGTGCTAAGCGTTGGGCCCTCTTAGCTCAGCAAAGCCGGAATGAAGCCGGGCGCGGTGGCTCACATCTGTAATCCCAGCACTTTGGGAGGCCGAGGCAGGCAGATCACCCGAGATTGGGAGTTCAAGACCAGCCTGACCAACATGGAGAAACCTCGTCTCTACTAAAAATACAAAAAAATTAGCCGGGCTTGGTGGCACATGCCTGTAATCCCAGCTATTCCAGAGGCTGAGGCAGAAGAATTGCTTGAACCTGGGAGGCGGAGGTTTCGGTGAGCCAAGATTGCACCATTGCACTCCAGCCTGGGCAACAAGAGCGAAACTCTGTCTCAAAAAAAAAAAAAAAAAAAGCCACAGTGAAGAGCGCCCCAGATCCGGTGGGGCTCTACAGAAATAGGCATAGCATCCTTCCCACGCTGCGAGACCCCCAGAATAGTCTTTTGAGGAACCTGATCTTTCCTACTCGGAGCCACTTTCAGGCTTTATATTAAGTAGGGTTCAGCCATGCCACTCACACACTGGATGTCCTTGGAAAGTGACTCAGCCTCTTCAAGCCCACAAGCCTCAGCAAGGCCCTGTGTGGGTCAGGTGCAGCGGCTCATGCCTCTAATCCCAGTCCTTTGGGAGGCTGAGTTGGGAGGTTCGCTTGAGGCCAGGAATTTGAGACTAGCCTGGGCAACATAGTGAGACCCCATTTCTACAGAAAAAATTTTAAAAGTTAGCTGTGTGTGATAACATGTGCCTATGGCCCCAGCTACTCAGGAGGCTGAGGCAGGAGGATCGCTTGAGGCCAGGAGTTAGAGACTAGCGTGGTAAACATGGCAAGACCCCTGTCTCTACAAAAACAAAAAAAGACAAAAAAACATGACCCCATGTGTATGACACTGACTGGGGAGGCGGGGCTTCCAGGCCTTTCAGGGACTTGTCACAGACCCTCTAGAAGCTGGACACAAAATGAGGAAACCAGGCCAGGCTTGGTGGCTCTTGCCTGTAACCCCAACACTTTGGGGGGCCAAGGCAGGTGGATCACTTAAGGTCAGGAGTTCAAGACCATCCTGGCCAACATGGTGAAACTCCATCTCTACTGAAAATGCAAAAAGTAGCTGGGCACAGTGGCGCATGCCTGTAATCCCAGCTATTAGGGAGGCTGAGGCAGGAGAATCGCTTGAACCCAGGAGGCGGAGGTTGCAGTGAGCCAAGATCACGCCACTGCACTCCAGCCTGGGCGACAGAGCGAGACTGTCTCAAATTAAAAAAAGGGGAGGGCCGGGCGCGGTGGCTCACGCCTGTAATCCCAGCACTTTGGGAGGCCGAGGCGGGCGGATCACGAGGTCAGAAGATCGAGACCCTCCTGGCTAACACGGTGAAACCCCGTCTCTACTAAAATATAAAAAATTAGCCGGGCATGGTGGCGGGCGCCTATAGTCCCAGCTACTCGGGAGGCTGAGGCAGGAGAATGGCGTGAACCTGGGAGGTGGAGCTTGCAGTGAGCCGAGATTGCGCCACTACACTCCAGGCTGGGCGACAGAGTGAAACTCCGTCTCAAAAAAAAAAAAAAAAAGGTGGGGGAAACCAGGCTCAGAGATGATCGAAGTCTCAGCCAGAATCACACAGCACACGTGGCGAGCCAGAGCCCAGGCCTGGAGGGCCGGGTAGGGGGATGCACCTTGCATGCCGCTGGGATATTGAGGACAATTTGAATCTTCTTTTTTTATTTTTATTTATTTATTTATTGATAACAGAGTCGCTCTGTCGCCCAGGCTGGAGTGCAGTGGCACCATCTCAGCTCACTGCAACCTCTACCTCCCGGGTTCAACTGATTCTCCTGCCTCAGCCTCCCGAGTAGCTGGGACTACAGACGCCTGCCACCATGCCCAGCTAATTTTTGTATTTTTAGTAGAGATGGGGTTTCACCATGTTGGCCAGGCTGCTCTTGAACTCCTGACCTCAGGTGATCTGCCCACCTCGGCCTCCCAAAGGGCTGGGATTACAGGTGTGAGCCACCAAGCCCGGCCGCAATTTGAATCTTCTGCTGGGCCAGGCTGGTCTGTCCAGGGGGGATGCAGGACCCCGAAGCCGGGTGTGGTGGTGCATGCCTGTGGTCCCAGCCACTTGGGAAACTGAGGTGGGAGGATTGCTCAAGCCCAGGAGGTCAAGGCTGCTGTGAGCTATGATTGTGACACTGCACTCCAGCCTGGGCAACAAAGGGAGACCCCTTAACTAACTAAATGAATGAATGAATGAATGAATGAAGGCAACCTGAGCTGCATTCCTTGGCCTGCCAACCTGCCCAGCCCCATCCCTCAGCCCTCCCTGAGTCTGAGGGCCCTGCAGGTCCCACACAGGGCCAGGCTCCATCTTGTTTCTGCAAATTTGCACCTTCCGTTCCATTCCCTGCCACACTGCTCACGGGTCACCATGGATGCTGGATAACTGCCACCGTCTCCTTGGAGAAGCCCTCCGTCATCTCAGCCCCTGATGTCAGGTATTCAACCTGCAAATCCTCCCTGTAGGTGCTGGGCTCTCCAGAGCCCTGGGCTGTGTGCAGGGGACTCAGGGGAGAACGGGCCCCACCCAGCTCCTTCCTCACAGAGCTTTCAGAGGCTGGGGGCCTCCCTGATCCCCTCCCAGATCCCAAGGCCCCTGCTGCCCCCACCCTGCAGACTGGGACTCCGTGAGGCTGGGCTCTGACTTGGATATTGTGGTTCCAGCACACAGCAGGCACCGTGGCTGTAGTAGGCGTGCATGGGAAGTCAGGAGGAGCAGACCTGTCATCTCCCCTGCTGAGGACACAGCCCGGTCAGCGTGTCTTGGCGGCCTGGGGCCAGTGACTGAGCCTCTTGGCCCAGTTCCTTGCCCACCTTGAAGATCTGTAGGGAGGGATAAAGAGATCAGGTCCAAGGCCAGGTGCGGTGGTTCACGCCTGTAATCCCAGCACTTTGGGAGGCCGAGCCAGGCAGATCGCGAGGTCAGGAGTTCGAGACGAGCCTGGCCATCATGGTGAAACCCCGTCTCTACTAAAAATACAAAAATTGGCCAGGCATGGTGGCAGGCGCCTGTAATCCCAGCTGAGGCAGGAGAATCGCTTGAACCCGGGAGGTGGAGGTTGCAGTGAGCCGAGAGCGAGCCACTGCACTCCTGCCTGGGTAACAAAGCAAGACTCCATCTCAAAAAAAAAAAAAAAAAAAAAAATCAAGTCTGGCGCAGCCCCAGGAAGCAATCTTGGGCTGGGCACACCGCATTTCTGTGACATGAAGGCAGCGACACCTCGTCGCTGTCACAGGGTTGCTGGGGTTGGGGGCTAGAGGAGAGGAGGAGCCTCTGTTGAGGGCTCCAAGAAGGGACAGAGAGGTGGTGCTCATGGGTCCTGGAGACACCTTTTGGGTGGTTCGTGCCCTCCATCCTGGGCCACTTTGGGGAGGTGAAGGAGGGAAGCATTAAGGGACAAGACCCCCCGTTCCCAATTTCTCTCCGGAGCCAGGGTTTCTCTGATTCGAAGAAACAGGTGTCACAACCCAGGAAGTCCACTGATGGCATCTGCCCTGGGGCATCAGCATTTAGGGCTGATCACTGAGGTCTGCACCTCCCAAGGCTGCTGTGCCCATTCCTGGGCGCCCCAAAGGGGAAGAAAAACTCCTGAATGTGCACCGGGACAGGACCCATCCCATGCGGTGACAGAACCTCATGATAGCGCCCGGCGCTCTGGATATTCAAACTGTGGAGCCCAGCAAGGGAGCGCCGGTGGTCGGGCAGGGTCAGAGGGGTTTTGAGGGTGTGCGATGGCTGCTGTGGTGAGCCACTGGCATGCCTAATACATGCAAGACCTGTTGCCAGGCCCTGAGCTGCAGAGCCACCTGGACCAAGGTCACTGTGGTGGCAGGGTGCCCACATCCATCAGCTGCTGGCCACAGGATTGCGAGCCCTGGCCATCTCTGCCCAATGCCAGGCACCTCTGAAGGGCCTTCCGGCTACAGAGCTCCTGCGGGATGGGCCGGGGTGTCCCTGGCCATCATGGTGTCCCTGGGCCTGCATTGAAGCTCAACTTCTGTTGACCCCAAGGGCACTTCTTAATAGATGTCCTACTCTTTTTTTTTTTTTTTTTGAAACAGAATCTCACTCTGTCACCCAGGCTGGAGTGCAGTGGTATGATCTTGGCTCACTGCAACCTCTGCCTCCTGGGTTCAGGCAATTCTCCTGCCGCAGCCTCCCGAGTAGCTGGGATTACAGGCTCATGACACCATGCCCGGCTAATTTTTTGTATTTTTAGTAGAGACGGATCGGGGGTCTGTTGCCCAGGCTAGTGTGGCACTCCTGGGCTCAAGCAGTCCACCTGCCTTGGCCTCTCAAAGTGCTGAGATTACAGGCATGAATCACCACACCCAGCCTACATCCATCCATCCATCGATCCATTCATCCATCCATCCATCCATCCATTTAGACAAAGTCTGGCTCTCTGGCTGTGTTGCCCAGGCTGGAGCGCAGTGGTATGATCTCAGCTCACTGACCTCCTGGGTTTGACCTCAGCCTTGACCTCCTGGGTTCAAGCAATCTCCCTGCCTCAGCATCCCAAGTCGCTGAGACTACAGGTACACACCACTATGTCTGACTGTTTTATTTTTTGTAAAGATGGGATCTTGCTGTGTTGTCCAGGCTGGTCTCAGGTGATACTCCAGCCTGGGCCTCCCAAAGTGCTGGGATTACAGGCGTGAGCCACTGTGCCTGGTCGTCTCTAGTCCTTGGAGCACCAAACTCCTGCCTGCCACAGGGCCTTTGCACTTGCTGTGCCCCCGACATACCCTCCTGTCAGGCTCTCCCTAAATTGTCTCCTTGGTGGACTCCTATTCAGACTTCAAGGCCCAGCCCAAAAGACCCCTCCCTCTCTGGAAAGCCTTGCCAGTTCTACCACACAGAGCTTTTTTAGCTCTTTCTTACTTATCCTTCAGGGCTCAGTGTCAGCATCACCTCCTACAGCAAGTCTTCCCTGATCCCTAGACTGGGTCGGGACTCTTGTAGTATTTTTTGTCATACTGGTCACAGTGGATAACTAAGTGTATCTGTGTGATGATGGGTTTATGCTCTGCCTCGCTGCTCCACAGGCAGGAATGACATTTGTTTGTTTCTTTTTTGAGACAGGGTCTCACTCTTGGCCCAGGCTGGAGTGCAGTGGTTCAATCATAGCTCACTGCAGCCTCAAACTCCGGGGCTCAGGTGATCCTCCCACCTCAGCCTCCGGAGTAGCTAGGACTACAAGTATACAACACCACACCTGGCTAATTTCTTTTTTTTTTTTTTTTTTTTTTTTTTGAGATGGAGTCTTGCCCTGTCGCCCAGGCTGGAGTGCAGTGGTGTAATCTTTGGCTCACTGCAACCTCCACCTCCAAGGTTCAGGGCAATTCTCCTGCCTCAGCCTCCTGAATAGCTGGGACTACAGGCGTGCATCACTAGGCCTGGCTAATTTTTGTCTCAACTATGAGACAGGGTTTCACAATGTTGGCCAGGCTGGTCTCGAACTCCTGACCTTGTGATCCACCCGCCTCAGCCTCCCAAAGTGCTGGGATTACAGGTGTTAGCCACCACGCCCGGCCAAATTTCTTGTACTTTTTGTAGAGATGGGGCCTTCCCTTGTTGTCCAGGCTGGTCTCAAACTCCTGGGCTCAAGCAATCCCCCTGCCTCAGCCTCCCAAAGTCTGGGATTACAGGTACAAGCCACCACATCTGGCCTTGATACCTGTTTTGATCACTTTGGGATCATGGCATGTAGTTAGGACTCAGTAAACTCAGCTCCTACTTGCAAATAGGAAGAAAGGAAGGAAGGAAGGAGGAAGGGAAGGAAGGAAGGGAAGGAGGGAGGAGGGAGGAGGGAAGGAATAAAGGAAGGAAAGAAGGAGGGAGGGAGGAAGGAAGGAATAAAGGAAGGAAGGAGAGAGGGAAGGAAGGGAGGGAGGGAAGGAAGGGAGGGAGGGAAGGAAGGAGGGAGGGAAGGAAGGAGGGAGGGAAGGAAGGAGGGAGGGAAGGAAGGAGGGAGGGAAGGAAGGGAGGGAGGGAAGGAAGGAGGGAGGGAAGGAAGGAGGGAGGGAAGGAAGGGAGGGAGGGAAGGAAGGGAGGGAGGGAAGGAAGGAGGGAGGGAAGGAAGGGAGGGAGGGAAGGAAGGGAGGGAGGGAAGGAAGGGAGGGAGGGAAGGAAGGAGGGAGGGAAGGAAGGGAAGAAGGAAGGAGGAAGGGAGGGAGAGAGGGAAGAAGGAGAGGGAAGGAGAGGAAAGGAAAGGAGAGGAGAGAGGGAGAGAGGGCAGACCCCGTTCTATGTCAGAAGGGACAGAAGTAACATCCGGAAGGGATGTGTTATCTGTCAAGTGAGTGAGCATCCTGTCCCAGGAGTGTGTCCCAGGAGGGTGTGGGCACACCCTTGGCAGGAATGGTGTCCCGGGACTGCCAGAGCTGTTGAGGAATAGCGCTAGGGAGGAAAGGGCTGGGCCGGCTTCGGGCTCACACCTTCCAAGGATGTCAGAGAGGAGGGTGTGTCACAGGAAGTGCCTGGGTCTCTGGGCTGTAACTGACTCACCGGGACTCTGATAATATTAATACTCAGACGCCAGACTGCAGCCTGTTCTCCAGAGGCCCCCAGGGGAATGAATCAATGACTGTCTGATATCCTGAATGTGTGTTAGAGGCTGACCTGGAGGAGGCAGCTAACCCAGCTTGAGGAACTGGCAAGGCTTTCCTGAGGAAGGGTCTTTTGGGCTGGGCCTTGAAGTCTGAATAGGAGTCCACCAAAGAGACAATTTAGGGAGGGGTTGACACGGGGGGATGTTGGGGAAACTGCAAGTATCTGATGTGCCTGGGCTCTTTGGGAAGCGTCTGGAGAGACTTTGGTGGGGAGGTCTGGACTGGACACCATTTCTATCCTGGCCAGTACCCAGCAAAGTAAGTGAAGAGGCCGGGCGCGGTGGCTCACGCCTGTAATCCCAGCTATTTGGGAGGCTGAGGCAGGAGAATTGCTCCAACCCGGGAGGCCGAGGTTGCAGTGAGCCAAGTTCGCACTACTGCACTCCAGCACTCCAGCCTGGGCAGCAGAGCAAGACTCTGTCTCAAAAAAAAAAAAAAAAAAAAAAAAAAAAAAAGGCTGGGTGCCGTGGCTCACACCTGTAATCCCACCACTTTGGGAGGCCGAGGCGGGCGGATCACGGGGTCAGGGGATCGAGACCATCCTGGCTAACACAGTGAAACCCCGTCTCTACTAAAAATACAAAAAATTAGCCGGGCATGGTGGCGGGCGCCTGTAGTCCCAGCTACTCGGCAGGCTGAGGCAGGAGAATGGCGTGAACCCAGGAGGCGGAGCTTGCAGTGAGCCGAGATCGCGCCTCTGCACTCCAGCCTGGGTGACAGAGCGAGACTCCGACTCAAAAAAAAAAAAAAAAAGGTGTTGGGGAGATCTGGAGTGAGAAAGTCTAGTTGGACAAACTCCATTGAGAAAGTCTAGTTGGATGAGGAGGCTTGTGGGGGCATGGGCGCTGGGTGAGCCCTCTTAGCACTGCCTACCCCTTTCTCTCTGCCCTGATCCATCCCAAGACACAGCGTGGGACAAGAAGTCAGAGGGGACCCTGGGTGCTCGAAGCAATGGACCGGACCCATTGTACAGATGGGAAGACTGAGGTGGGCAGGGACAGAGCCCACGCTTACACACCTAAGCTCAGCTTGGGTTCTGGAGCCCATGAAGGCAAGAGACAGGCTCCCCTGGAGTTAGGCTCCACATAGAGGCAAGTTGACTGGGCCAGCTTCTGGGCCCAGCGCTGGGGCACTGGAAGACCTGCCAAAAAACTTAGCAGAAAGTAGGTACTAGAACTCTGGATCAGGCCTCCCAGCTAACAGCCGCGGGACCTCTGGGCTTCCTTCCCCCAAAGCTGGGGGAAGGTGAGCTTTTCCTCCCCCTCAGCCCTGGCCCAGAGAAGAAAACAGAGCTTGCAAGGTCACACAGCAAGAATGTGGCACTGGAACTCAGCTAAGAGGTGGGAGAGGGCCTTGGAATCTAGAGATTAGCCGGTGTCTGGAATGCGTGGGGCAGGAGTGTCCTCAGAGGAGGACCGCAGGGCTGGGCATGGGCTCAGGAGCTTCGGCTTTGTTCCCTAAGGGCAATGGGGAGCCATGGAGGGTATGAGAGCAGGAGAGAAGCAAAAGATGTTTCAGGAGGTGGCTCTACATTATAAAGGACCCAAGAGGAGTCCAACACAGACCCTGTGACCTTGGATTTCAGATTTCTGTCCGCCTCTGGCCAAGTAAAAGTTTGTGTTAGAAGTTGTAATCATGGGCCGGGCGTGGTGGCTCACACCTGTAATCCCAGTACTTTGGGAGGCCAAGGCATGTGGATCACGAGGTCAAGAGATAGAGACCATCCTGGCCAACTTGGTGAAACCCCGTCTCTACTAAAAATACAAAAATTAGCCAGGCATGGTGGCGCATACCTCTAGTCCCAGTTACTCAGGAGGCTGAGGCAGGAGAATTGTTTGAATCCGGGAGGTAGAGGTTGCAATGAGCTGAGATTGCGCCACTGCACTCCAGCCTGCCAATAGAGCAAGACTCCGTCTCAAATAAAAAAAAAAAAAAAAAAAAGAAGTTGTAATAATAGGTTGGGTGCAGTGGCTCACGCCTGTAATCCCGGCATTTTGGGAGGCCGAGGAGGACAGATCACTTGAGGTCAAGAGTTCAAGACCAGCCTGGCCAACATGGCAAAACCCCATCTCTACTAAAAATACAAAATTAGCCAGGGGTGATGGCACATGCCTATAATCCTAGCTACTCCGGAGGCTGAGGCAGGAGAATCGCTTGAACCCGGGAGGCAGAGGTTGTGGTGAGCCAAGATGGTGCCATTGCACTCCAGCCTGGGCAACACAGTGAAACTCCATCTCAAAAAAAAAAAAAAAAAATAATAATAATAATACTAACAACCTGTGTGTCTGTGTTGCTTTTTCCGTTTTTTGATGCTTTATAATTTGATTTTGCCCCCATGGCAACTCCGAGATGTAGGCAGGGCAGCTGTCATCACACCAGTTTATTTTATATTTTATTTTATTCTATTTTTATAGAGATGGCTAGGGGGAGTCTCACTATGTTGGCCACGCTGGTCTTGAACTCCTGGCCCCAAGCAATCCTCCCACCTCAGCCTCCCAAAGTCATCACGTCATTTTATAGCTGCGGGTCCCTGGGCCAGTAGTTGCAGTCGGTGTGTGCAGCTCCCACGCCTTCCATCAGGGCGTTGCCCACCTGGATGAGGGGAGGTGGTGAGCCCCTGCCTAAGACCCCCTGTCCCCTCTGGCCCAGACATCCTTCAAAGGTCATCAGGAGCCAGGCCCTGTCCTGCTCTGTCCCTGTCAATTCCCAACAGAGGCACAGGCCCCTGTTTTCTCATCTGTAAAATGGGGTGGGCCGAGCGCAGTGGCTCATGCCTGTAATCCCAGCTCTTTGGGAGGCTGAGGTGGGTGGATCACTAGAGTTCAGGAGTTCAAGACCACCTGGTCAACATGGTGAAATCCTGTCTCTACTAAAAATACAAAAAAATTAGCCAGGCACGGTGGCACGCGCCTGTAATCCCAGCTACTTGGGAGGCTGAGACAGGAGAATCGCTTGAACCCAGGAGGCGGAGGTTGCAGTGAGCCGAGATCACGCCACTGGACTGCAGCCTGGGCGACAGAATGAGACTCTGTCTCAAAAAATAAAATAAAATAAAATAAAATAAAATAAAATGGGGTGGAAACCTGCTGTATGGAGTTCCTGGGAGGACAACGCCAGCGTGTCCAGGAATCAGACCAGCGCTGCCCGCAGCTCCCGTGTTAGTAAAACGTTAGCTGTCATTACTGCTTACGTGCCCGGGGAGGGAGGAATCAGGAGCCACTGGCCTCTCTGTGGGTTCCAGGGAAGGAGGGCAGGGGAGGTACAGAGAGAAGGAGCAGAGTGTTCAAGGATCGGATGGAGGCTGAGCTTCCTGGCCATGCCTTAGCTCACACCCAGCGACCTGAGTCCAGCGCAGAGGACAAAGGGCAAAAGGCAAAAGGCAGGGTCTGGAGTCTGGCCTCTCCCTGTCATCCAGGGGCCACTCCGGGCATTATCTAGGTTTTTTTTGAGACGGAGTCTCGCTCTGGCGCCCAGGCTGGAGTACAGTGGCGCGATCTCGGCTCACTGCAAGCTCTCCCTCCCAGGTTCATGCCATTCTCCTGCCTCAGCCTCCGGAGTGGCTGGGACTACAGGCGCCCGCCACCATGCCCGGCTACTTTTTTGTATTTTTAGTAGAGACGGGGTTTCACCGTGTTAGCCAGGATGGTCTTGATCTCCTGACCTTGTGATCCGCCTGTCTCGGCCTCCCAAAGTGGTGGGATTACAGCCACTGTGCCTCGCCTATCTAGGCTTAATCATGACAGCCATCCTTCCCTAAGGGTGCACCGGGTGGGGTGCGGGCCCTCTATCTCTGAGCTTTTGCAAGCAGGCCCCCTCTGCCCCCACCTGCCCACTGAACCATCACCCTCAGCCTGGGGGCAGGGAGCAGATATGTTACTGTCCAGAAATGGAGGCCCGGAGGCTCCCAGAAGAGGGAGGTGTCAAAATGCCACAGTGCATTCCTTCCTTGGGGAGCTGAACCAGAGGCCACGCCCAGCCACAGCCCTGACACCCTGACACTGGACATTTCTGGGTGGGTCATAAGAAGTCACAGCCTGAGGCCGGGCACGGTGGCTCAGGCCTGTAATCCCAGCACTTCGGGAAGGTGAGGCAGGAGGGTCACTTGAGCCTGTAATCCCAGCAATTTGGGAAGCTGAGGCAGGAGGATCACTTGAACCCAGGAGTTTGAGACCAGCCTGGGCAACATGGTGAGACCCCATCTCTACAAAAAAAATACAAAAATTAGCTGGGTGTGGTGGCACGTGCCTGTAGTCCCAGCTACTCGGGAGGCTGAGGTGGGAGAAACACCTGAGCCCGTGAAGTTGAGGCTGCAGTGAGCCATGATCACACCACTGCACTCTAGCCTGGGTGACAGAGCAAGATCCTGTCTCTAAAAAAACCAAACAAAAACAAACAAACAAAAATTAGCCTGATGTGGTGTCAGACGCCTGTAGTCCCAGCTACTCAGGAGGCTAAGGTGGGAAGATCACTTGAACCCAGTAGTTTAAGACCAGCCTAGGCAATATAGCGAGACCCCATCTCTACCAAAAAAAATTAAAAATTACATGCACGTGGTGGCTCACACCTGTAATCCCAGCACTTTGGGAGGTCAAGGTAGGAGGATCACTTGAGCCCAAGAGTTTGAAACCAGCCTGGGCCACAAAGCGAGACCCTCTCTCTATAGAAAATCTAAAAATCTAAAAATTAGCTGGGTGTGGTGGCACTCGCCTGTGGTCCCAGCTACTAGGGAGGCTGAGGTGGGAGGATCATTTGAGCCTGGGAGGTGAAGGCTACATGAGCCGTGATCAGACCACTGCACTCCAGCCTGGGTGAGAGAGTGAGACCCTGTCTCAAAAGAAGAAAAAAGCAAGAAAAGAAAACCAATAAATCACAGCCTGTCAGGCGGCTCATGGGGACCCTCCTTGGGAATATCTAGAACAACATTCCTGGTGTCTGGAGCTGTCTAGTCAGTCCTTACGGCCCAGCAGCAGGAGATCAGAACTTTTGCCTCATCCAGGGTTAGCCCTGCCGTGTCTGGCCTCAAAGTGCCCATCTGTATAATGGAGCCAACGGCCTCCTAGGGCCCTAGGTGGACGCTGGACAACCTGGGTGGGGCGGAGCGGGTGGCATTTGGAGCAAGATTTCCCTACTGGGAGTCCCTGGCCCCAGACAAGAGTCCTTCTGGAGTCCCAGAGCTGTGTGTGTGTGTGTGTGTGTGTGTGTGTGTGTGTGTGTACACACAAGTGCACTGGGGGGGGTGCTCGTTCAGAGCTAATTAGAGGTGTTGGCCCCATCTGCCCCCAAGTCGGTGATCCCTCAGATCTCTCTGCTGCCCGAGAAGAGACTGTTTCGCCCCCTTCCCCAGACGGGCCTTCTGGCATGGTTGGGGTTCGAACCCGGGGCCAGGGCTAGAGTCTCAGCTTGGGGTGCGGGGGCCGACTCTGCCCGGGCTGGGTGGATAGTTGTTATCGGGAGCTCCCAGGCCCGCGCGGCTCACGTGGGCCGCAGCTCGCGGCGCCTCCCGCGTCCCAGGGCCGCGAGGCGCTCCGGGAGATAAGCCAGGCCCCGTGCGAGTCCAGCGCGGACCCGGCCGGCCCCCAGCCCGCCCCTCACCGGCCCCCACCCCGCCCCTCGGCCGGCCCGGCCCACTTGGCCCGAGTTCCTCTCCATAAAAGGCGAGGTTTGGGAGCGCCCGGGGAGGGGGCGTTGGGTCCACGGGCCGCCCCCGCCCACCGTGTTCCCCTCCCTCACTGCGAGCCCTCGCCGGCCCGGGGGTGCAGCCCAGCCCCCCTGCCGCGACCCCCACGCCGGGCCCGTAGACCACGACCCTGACCCCAGTCCCCACTCCGGATCGGGCCCACAGCACCCCCCGCCGGTCCCCGCGAGTCCCGCGCTCTGTCCCCATTTTGCGATTGAAGAAATTGAGGCCCGCAGCGTGCGTAGCCCGGCTGGGGCCACGGGGTTGGGGACTGAACGGCCGGAAACGCCACACGTGCCTCCAGGTGGCAAGCCAGCTCCTCATAGACGCACACGAACCCTTCTGCAAGTGGGGTGCATGTGTATATTTACACCTATAGGGATTGGGGGCCTCAGGGATGGGGGGCCCTCCCCCGCACTTAGACTAGAATCCCCCCTCCCCGCAGCGCTGCCACTTAGCTCTTACGTGACCCTGGGCACACGATACTTTTACTCACAGCCTCAGTTTCCCTGTCTGTTAAATGGGGGGAGGTTTGCATCTGCCGGGTTTGCACAACGGGTTGTGCAAAGTACAACACCCAGCCAAGGGTCAGTGCAGGGGAACAGGAGGAATGGGGCAAGGGCGGGGCCCGGCGCACCCCCAGCCCCCGCCCTGCCGCACACCCCTCTCAGAAGAACCTGCATTTAGGGTGAGACGGATCGGACCTAAGCCCGCCCCGGCGAGACTGCAGTGAGACTTAGACATAAGGCACACCATCAAGCAAACACCGGGTGCTCCATAAATGCAGCTGCGCCCTCCCGCCCCACCCCACTGGGGAGCGTGAGTCAGCTCGGTCCAGGCGAGGCTGGGAAGCCGAGCCTTGGCTCTCATGTGGCTCCACCCGCCTGGCTCTGGGGCCGGGGCAGGTCTCGCCTCTCTCTGGGCCTCAGTTTCCCCTCTGCCTGCTGCAGGCCAGGGCCGGGCCTGACCCCCTAGGGGGAGGAGGGCGGCGAGGAGCCGGGCAGCGGGGAGCCCGGGGGTCCCTCGGGGGAGCGCGCCCCCTCCCGCCCCCGGCCCGCGGCCCCTGTGGCTCAGAGGCAGGGTGGGCCCTGAGCCGGCCACGTCCGCGGCCCACGAGTCCGCCATAAAAGGCAAACGGCGCGGGTCGCTCTGCCAAACTTAGTCATCCGGCCCGCCGGCAGCCGCAGCGACTTCCTCCGCGGGCTTCCCGTTTTCGGAGCGGGGCCCGGAGGGGGTCCGAGGTGTGGCCGCGACTTTCGAAATGCCCGGCTGCTTCTCCGAAGGGGCGGCGGAGGGGGCGCCCTCGGAGCCATGGGGGGAAGGGGGTATCGGCCGGGTGGGGGAGGGGATCTCCCCCGCCCTGCCCCGCCCTCCGGAATGATCCCGCGGCTCCTTAACCCCTGAGCTGCCGGGAGCGGGGGAAGGGGCTGGGCTCCGGCCGGGGTCGGGGCGTCCCTGGGTCCAGCAGGGAGTGGCCTCCCGGAAGACGCCGGCGAGGGAGGCCCAAGTGCCTGCTCCGAGAAATCTCAGCGAGGCCTCCTTGGGAGAAAAGTGCAAGGCGGTGACGTCCAGTCTGTAAAATGTGAAAAACGCCCAGGCCGAAACCACCCAGAACCCGTTCCTGCAGGGAGGAGGGTGGGTGGGACCAACAGGGGATCAGTCACTGCGCCAAGGCAGGGACTAGGGCCATGGTGGACAACGGGGGTCTACCTCAGTGTTCCCCAGACACAGACGGGTTCCTACTGTCTGGCCCCACTTATGTGAAGTTCTAGAACAAGCCCCACATTTTCTGGTGACAGCAAACAGGTGGCATTATTTATAGATGTAGGGGCAGGTATTTATGGGAGGGGGCACAGAGAAGAGCATGAGCTGGGGGTGGAGGGGGGCATCCACTGATTCTGAGATCCTATATTTCTTTGAGAAAACAACTGAATAAAACATAGCAAAATAATAATTGCTTCATTCGGGGTGTATTATAGTACCTTCTGTACTTTTCTGTATCTTTGAAATATTTCGGCTGGGCGCGGTGGCTCCTGCCTGTAATCCCAGCACTTTGGGAGGCCAAGGTGAGCGGATCACCTGAGGTCGAAAGTTCGAGACCACCCTGACTGACATGGAGAAACCAATTAGCCGGGCGTGGCGGCGCATGCCTGTAATCCCACCTACTCGGAGGCTGAGGCAGGAGAATCGCTTGAACCTGGGAGGCAGAGGTTGTGGTGAGCCGAGAACAGGCCATTGCACTCCAGCCTGGACAACAAGAGCAAAACTCCGTCTCAAAAAAAAAAAAAAAAGATTTCACACTTTCCAAAAAAGGGAAGAAAGCGAAAGGACAAAGGCTCAGAGTTGGACATGGTGGTCAACCACTGTGACCCTCAGTTTCTTCTTCTATACTCATGGGGCAATAATCTCTTTGGGGGTAATTAAAATGATATGCGATAATGCAGGCAAAGTGCTAAGTACGAGGCTTGGGCATAGAGTAGGTGCTCAGCAAAGGCGTCTGGTGAGGGGCTGCCCTTTCTCCCCGGGGGAAGGGGAGGACTTGCTGGGGTGAGGGTCCTGGATGGGAAGGTTCTCTGCCCACAGCTCTCTGCACCCAGCTCCTGCCTGGCCCGACCTGGCCTGGTTGGGAAGGCTTGTGTTTCTGACAAATGGGGCCAGCCAATCCCAGGCCCTGCCTGTGCTGTTCCATCCTGTCCTGTCTTGTCCCCGGGGCCAGGGTCACTCCGGGTGAGACTCAGAGCCAGTGTACCCAACGGGACACAGGCAGGCAGGTCACCAGACCTCCGATTCCAGGCGGCCGGATCTTCAGGCAGCCTGTCTGGGCAGTGAGGACACTGGGGTGGCAGGTGCCAGCCGGTCAGGCCTAGAGCCCTGGCCGGAGCACTGTTGCGGGATCTTAGCCCAGAGAGCCCCAGAAGGCTGTGGGCGGCCAGAGCCGGCCTGGGAGGAGGGCAGGAGAGGGTGGGGTTAGGGGAAGGACGAGAAAAGAGAAAGTAAAAGGAGAACAGCTACTTTTCCTGATGTTATTTTTGAACACCTGTGGGTATTGAGCCCTGCACCCAGGCTCTCTGAGAAAAGTCCCCCATGACCCTGATAGGGGAATTAAGACCCCAAGGCAAGGCACAGTGGCGTGTGCCTGTAATCTCAGCACTTTGGGAGGTCAAGGCAGGAGGATTGCTTGAAGCTGGGAGTTTGAGACCAGCCTTGGTAATGTAGCAAGACCCCATCTCTACAAAAAAATTTAAAAATTAGCCAAGCATGGTGGTGCACATCTGTAGTCCCAGCTACTAGGGAGGCTACAACAGGAGGATCACTTGAGTCCAGGAGGTCAAGGCTACAGTGAGCGGTGATTGTGCCACCGCACTTCCAACCTGGGCAACACAGTGAGACCCCGTCTCCAAAAAAAGAAAAGACTCCCAAATACAGCAAGGTCAAGCAGCTTGACCAAGGTGACCAGCTGAGAAGGGCAGTCAGGGGAAGCTGGGACCCAGGGAGAGAAAAAGAGAGATTGACAGACACATGGCTGGGGGGACTTGCAAGCCCTCGGGAGGGGGTAGGAAGCAGCTGCCGGGAATGGGTGCCCAAAGAAGCAGGAATGAGGGGTGGAGGGAAGGGCCTCATTTCTGGGGAAGGCCCAGGGAAGGGCCTCATTTCTGGGGAAGGCCCAGGGAAGGGCCAGGGTGCAGAGAAGCCAATGACAGCTGGAGAGTTGGGACTGCTGCCAGGACAGACTAGACGGAGACTGCTCTTGGGTGCCACCTAGTGGGAACCTTCTTTACTGTCATCCCTGGAGAGATGGACCTGTGACGTCCCCACCGGATGCCCCGCCCACCATGGGCATCCCCATCCCAATCATCCCTCACCACCCCCAGGCTCGGGTCGCGTCCCCCCAGGCTTTGATGGACAAGTGGCCATGGAAAGCATCCTCAGCTGCCCCAGGGTTCTGCCATCACCCATCCACTAAATGGTCCAGGGACCCTGGGAGGTATTGCTTTCCCCTTTACACAGATGAGGAAACTGGTTGGGCACGGTGGCTCATGCCTGTAATCCCAGCACTTTGGGAGGCTGAAGCGGGTGGATCACCTGAGGTCAGGAGTTCGAGACCAGACTGGCTAACACAGTGAAACTCCATCTCTATTAAAATTACAAAAAGGAGCCCGGCGTGGTGGCAGGAGCCTCTAACCCCAGCTACTCAGGAAGCTGAGGCAGAAGAACTGCTTGAACCCAGGAGATGATGGAGGTTGCAGTGAGCCAAGATGGCACCATTGCACTCCAGCCTGGACGACAGAGCGAGACTCTGTCTCAAACAACAACAACAATAAAACACAGATGAGGAAACTGAGGTCTAGAGGGGCGGCAGCACTTGTCCAGGGTCGTGGCCGACAAGTCGCCAAGCTGGGGAGTTTCCATGGGATCCAAGCCTATCCCCAAGCAGCCCAGGGGACACAGACAGCATGCAGGCACACAATCGCACACCCTGCCCCGCCACCCCTGAGCCTGCCGCATCGTCATTCCTGTGCAACTAGGCACCCTGAGTCTCCACATCGGGGTGGCTCTGGGGTACACAGACGAAGCAGAGAGCCGGCACCCCATCCTGCGTCTGAGGAATCCAGCTTTCCCTGGCTGGAAGACCCGGTCATGGTAACGCCCTGTCCTGCAGGTTCCGCCTCTGCTGTGACCTCCACCCCTTACCTAAATGCAGATTTCAGATTTCCGAGGTTAGCCTGGAAGGAAATAGCTTATACTGTACAGCTGAAGCATGGCAAAGGAAGCAATCTCCATCAACAGGAGTCTGTGGGCTGGGTGTGGTGGCTCACGCTTGTAATACCAGTAGCTTGGGAGGTTGATGCAGGACTGCTTGAAGCCAGGAGGCTGAGGCTGCAGTGAGCTATGATTGTACCACTGCACTCTAGCCTGGGAAACAGAGTGAGACTGTGTCCCCCAAAAACACATAAATTAATAAAATTAAACTAAATAAGAGACGGGGTTTTTTTTTTGGTTTTTTTTTTGAGACAGAGCCTCACTCTGTCACCCAGGCTGGAGTGCAGTGGCACGATATCGGCTCACCGCAACCACCACTTCCCGAGTTTAAGCGATTCTCCTACCTCAGTCTCCCAAGTAGCTGGGACTACAGGCGCCCGCCACCACGCCTGGCTAATTTTTTGGATTTTTAGTAGAGATGGGGTTTCGCCATGTTGGCCAGGCTGGTCTCGAACTCTCAAGCTCAGGCAATCCACCCGCCTCGGCCTCCCAAAGTGCTGGGATTACAGGTGTGAGCCACCACGCCCAGCCATGAGACAGAGTCTTGTCATGTTGTCCAGACTGGTCTCAGACTCCCCAGCTCAAGCAATCCTTTTACCTCGGCCTCCCGAAGTGCTGAGGTTACAGGTGTGAGGCACTGCACCCAGCCAGGAAACTTTGATTAAGGCTCCCACGCCTTGCTCAGCTCCAGCCCTGCAAAAATCTCCAGCCCTGCAGAGACTGAGCATCGAGTCCCTGATTTCTCTTTTCCAGAAGTATGTGGGAAAGGGTGGTTATAACTGCACTCTCTCCAAGACGGAGTTCCTAAGCTTCATGAATGCAGAACTGGCTGCCTTCACAAAGAACCAGAAGGACCCCGGGGTCCTTCACCGCATGATGAAGAAACTGGGCACCAACAATGACGGGCAGCTAGATTTCTCAGAATTTCTTAATCTGATTGGCGGCCTAGCTATGGCTTGCCATGACTCCTTCCTCAAGGCTGTCCCTTCCCAGAAGCGGACCTGAGGACCCCTTGGGCCTAGCCTTCAAACCCACCCCCTTTTCTTCCAACCTTTCTGTCATCATCTCCACAGCCCACACATCCCCTGAGCCCAGCACACCAACCACCTCATGCAGGTCCCACCTGCGGATGGTAATACAACAATGTCACTTTTTTAAAACATGAAAAAAAAATTTTTTTAAAAAGACAGGCCAGAACTAGTGGCTCATGCCTGTAATCCCAGCACTTTGGGAGGCCGAGGCGGGCGCATCGCCTGGGGTTAGGAGTTCAAGACCAGCCTGGCCAACATGGTGAAACCCTGTCTCTACTAAAAATACAAAAATTAGCTGAGCGTGGTGGGCACCTGTAATCCCAGCTACTTGGGAGGCTGAGGCAGGAGAATCGCTTGAACACGGGAGGCAGAGGCTGCAGGGAGCCGAGACAGCACCACTGCACTCCAGCCTGGGCAACAGAGCAAGACTCCATCTCCAAAAAAATAAACAAATAAACAAAATGCCAAGAGTATGCTGATGTAAAGGTTTAAGTAGAAACTCTGGTTGTTTTACTCATGTGTGTAAACCAAGCCCCCAAGATGTGCCACCAAAATACAGAGTTTGTGGGTGGATCAGCCTGTACCTGAGCCCCCTCTGCCACACTGACATGATCCTCATTAAAGAAAGAAAAGAGGGGGCAGGTGGATCACTTGAGGTCAGCAGTTTGAGACCAGAATGGCCAACATAACGAAAACCTCCTCTACTAAAAATACGAAAAACTAGCCGGGTGTGGTGGCCTGCACCTGTAATCCCAGCTACTCGGGAGGCTGAGGCAGGAGAATCACTGGAACCCGGGAGGCAGAGGTTGCAGTGAACCGAGATCACACCACTGCACTCCAGCCTGGGCGACAGAGGGAGACTCCATCTAAAAAAAAAAAAAAAATGTTACAATGGTAAACTTTATGTTATGTATCTTTTACTACAATTTTTTTTAACCTTGATTCTGAGAAGGGGTCCCTAAGCGTCATCAAATGCTAATCGCGTCCACGCCCCTGAAAGCTTACAGCCCTGGTACTTCCTATTGGTCCAGCCTAGCAGGAAGCTGGCAGCCATGAATTCTGGGAAATGTAGTGTGCAGCCCCCATGCCGGAGTCACGCGCCCGCTGTGATGGGTGGGCTCGGAGCTGGCACACAATAGTTCTGTGGCCGACATCCAGCTCAGCAGGGAAATTGTGAAAGGCACACTCGGTGCCCCTATTCCCACGCTGCCCACGAGCAGTCTCGCGCACGGCCACACAGACCTGGGCGCACACCTGTCCCCTAGTACCATCCAGCCTGTGGGCGCTCCAGGTCTGCAGTTTGTACCTGGACACCGTTGCCAATCTAAGTGCCAATCCGAGCCGCCTGCGGATCAGGCTCGCAGACGCTCGCTCGCTCTTCCCTGACGCAGCCTCAGCGGGAGCAGGGGCCTTCGCAGTGAGGGTGGGAGGATGTACAGGCTACAGGTGCCCCGGCGGGAAGGAGGTATCAGGCATGCAACACAAGTTACTGCAAAGACCCTGACGTGGGAGCCCGATTGGCCCAGGGTGTGGCCGGGGGAGACGATAGGGGTGAGGTGGGGTTGGCCACGTTGTCCATGAAGAGGCTTCTAACAAGAGACCGTGGCCAAGTCCCCCAGGTGAGCGCTGGGACGCTGCCTAGTGAATTGAATGACTCGTATTGTTCCCAAGGTTGCAGCTGTGGCCTCCGAAGTGACTCAGCAGAATTCCTGGGAGTTGGGGTGGGGGCGAGGCTTACTCCAGACGGGCTGGGGGAGGGGGCGTTGCCCGCGCGCTAGCCCCTCCTCCCAGCTCCTGCGGACCGCGGAGCTCGCCCACTCTCGCGTTCTCCCCTCCGCCCAGACATCTACAGGCACCAGCGGCGACGAGGCGGGGATGATGCTGGAAGACTTAGGGTGGGACGGCCCCATCCTCTCGGAACCTCCGTCCCTGCAACCGATTTTAGGGTGGGGATGGGGTGGGGGCTGAGTCTGCCCTCAAAACGGGGCTCAAGGCTCTTGGCTTGGAGCAGGCAGGGTTGGCCCTGTCCGGGCCCCCGGAGTGACTCAGCCCAGTCCTGGCCCTCTCCGGGACTAACTCTCTTCCTCTAAATAAAGGGAATCTTTCACCCAGCAGCCTGGAGTGGGTCCGCGGAGATAAAACAGGCCCTCCAGAGTGATCCCTTCCCTGGTGGCTGATGGGGCATGTGTGTGTTGGGAGAGAGGGAGAGGGCAGCCCTCCACCTCAGGCTGGGGCAGGCTGGAGTGAAGGTCCAAGCGCTGGACCCGAGCAGCAGCCTCAGCCCCAATCTAAAAGCTCAGCCCGTTTTCCCATGCATACAATGGGCATAACTGTCCCAAGAATGAGGCTTGCTGGAGTTACTGGCAAGCTGCGCGCTGTCCGCCTAATTCACCTAATTCAGGGCAAGAACCGCTCTCTGGCCCCTGCACCTGGGAGAGGTGGGGTGCTGGACCGAGGGCGAAGTAACAGCGTCCTGAGGGCCCATCCCCAAATCGCCTTCCTTAGGGAAGCCGGAACAAACGATGCAGCGGGGCGGCCCTGGATCTGTTCCTTCCTAAGAGCTGGAGCAGGTACAGCCCCATCCTAGACCCCAGCAACCCGCGCGCCCTCCCTCGCACCATCTCCCCTACCTGGTTGGTTGGGTTGTGGGGTTCCAGGCGACCGCCAGGTGGCGCAACCGACGCGCCTGCCGCGCCAAGCTGGGTGGGGCTGGACTCGTCCGGTGATGGGGCCCTTTGGGCAGCCAGACACATTTTTTTTTCAGAGTTTCACTCTTGTTGCCCAGGCTGGAGTGCAATGGCGCGATCTCGGCTGACTGC</textarea>"
      ],
      "text/plain": [
       "<IPython.core.display.HTML object>"
      ]
     },
     "metadata": {},
     "output_type": "display_data"
    },
    {
     "data": {
      "text/plain": [
       "'gene has no mappability value: None'"
      ]
     },
     "metadata": {},
     "output_type": "display_data"
    },
    {
     "data": {
      "text/plain": [
       "'exon has mappability value: 0.9702537313432836'"
      ]
     },
     "metadata": {},
     "output_type": "display_data"
    }
   ],
   "source": [
    "# If unsure whether a feature has a respective annotation, you can access it via the python getattr() method and\n",
    "# provide a default value in case it does not exist.\n",
    "display_textarea(f\"Sequence of ACTB: {getattr(t.gene['ACTB'],'sequence',None)}\")\n",
    "display(f\"gene has no mappability value: {getattr(t.gene['ACTB'],'mappability',None)}\")\n",
    "display(f\"exon has mappability value: {getattr(t.transcript['ENST00000477812.2'].exon[0],'mappability',None)}\")"
   ]
  },
  {
   "cell_type": "markdown",
   "id": "0159fe67-cc93-428b-acb2-a47a47cac59f",
   "metadata": {},
   "source": [
    "#### Example: Calculate number of overlapping features\n",
    "In this example, we calculate the number of overlapping introns per exon."
   ]
  },
  {
   "cell_type": "code",
   "execution_count": 26,
   "id": "d10d594c-4c4a-4f02-a8b3-db6cbd1a67c3",
   "metadata": {
    "tags": []
   },
   "outputs": [
    {
     "name": "stderr",
     "output_type": "stream",
     "text": [
      "0it [00:00, ?it/s]\n",
      "100%|███████████████████████████████████████████████████████████████████████████████████████████████████████████████████████████████████████████████████████| 2/2 [00:00<00:00, 23.72it/s]\u001b[A\n",
      "buf=[0]: : 108it [00:00, 1200.96it/s]\n"
     ]
    },
    {
     "data": {
      "text/plain": [
       "\"Example exon@chr7:5529067-5529663 with 33 overlapping introns: {'ENST00000676397.1_intron_3', 'ENST00000417101.2_intron_0', 'ENST00000473257.3_intron_2', 'ENST00000642480.2_intron_3', 'ENST00000674681.1_intron_3', 'ENST00000473257.3_intron_3', 'ENST00000646664.1_intron_3', 'ENST00000462494.5_intron_2', 'ENST00000443528.5_intron_0', 'ENST00000676189.1_intron_2', 'ENST00000432588.6_intron_1', 'ENST00000484841.6_intron_1', 'ENST00000432588.6_intron_2', 'ENST00000676397.1_intron_2', 'ENST00000647275.1_intron_1', 'ENST00000674681.1_intron_2', 'ENST00000425660.5_intron_4', 'ENST00000645576.1_intron_2', 'ENST00000477812.2_intron_2', 'ENST00000645025.1_intron_0', 'ENST00000645025.1_intron_1', 'ENST00000642480.2_intron_2', 'ENST00000493945.6_intron_3', 'ENST00000646664.1_intron_2', 'ENST00000675515.1_intron_3', 'ENST00000493945.6_intron_2', 'ENST00000414620.1_intron_0', 'ENST00000425660.5_intron_3', 'ENST00000484841.6_intron_2', 'ENST00000676319.1_intron_0', 'ENST00000645576.1_intron_1', 'ENST00000675515.1_intron_2', 'ENST00000676189.1_intron_3'}, tids: {'ENST00000477812.2', 'ENST00000484841.6', 'ENST00000425660.5', 'ENST00000646664.1', 'ENST00000493945.6', 'ENST00000645576.1', 'ENST00000645025.1', 'ENST00000676189.1', 'ENST00000675515.1', 'ENST00000647275.1', 'ENST00000443528.5', 'ENST00000674681.1', 'ENST00000676397.1', 'ENST00000676319.1', 'ENST00000414620.1', 'ENST00000432588.6', 'ENST00000642480.2', 'ENST00000417101.2', 'ENST00000462494.5', 'ENST00000473257.3'}\""
      ]
     },
     "metadata": {},
     "output_type": "display_data"
    },
    {
     "data": {
      "image/png": "[encoded data removed]",
      "text/plain": [
       "<Figure size 640x480 with 1 Axes>"
      ]
     },
     "metadata": {},
     "output_type": "display_data"
    }
   ],
   "source": [
    "# Here we calculate the number of overlapping introns per exon.\n",
    "def count_anno(item):\n",
    "    loc, (anno, overlapping) = item\n",
    "    # Here we simply count the number of overlapping intron annotations but we could also group\n",
    "    # by tx or gene, etc.\n",
    "    anno['n_overlapping_introns']=len(overlapping)\n",
    "    anno['overlapping_introns']=overlapping\n",
    "\n",
    "# now we can call the annotate method for all exons of this transcriptome and tell it to \n",
    "# annotate with all introns of this transcriptome. In the passed annotation method (count_anno) we \n",
    "# simply count the number of overlapping annotations (introns).\n",
    "# Its easy to check in IGV (loading the GFF3 file) whether the numbers are correct.\n",
    "t.clear_annotations()\n",
    "t.annotate(iterators=TranscriptomeIterator(t,feature_types=['intron']),\n",
    "           fun_anno=count_anno,\n",
    "           feature_types=['exon'])\n",
    "\n",
    "# Here we create a histogram ...\n",
    "intron_hist=Counter()\n",
    "for ex in TranscriptomeIterator(t,feature_types=['exon']):\n",
    "    intron_hist[ex.data['n_overlapping_introns']]+=1\n",
    "\n",
    "# ... and plot it\n",
    "x, y = zip(*intron_hist.items())\n",
    "_=plt.bar(x,y)\n",
    "plt.xlabel(\"# overlapping introns\")\n",
    "plt.ylabel(\"n\")\n",
    "_=plt.suptitle(\"Number of overlapping intron annotations\")\n",
    "\n",
    "# Here we show one example with max number of overlapping introns\n",
    "# NOTE that there can be multiple introns per transcript that overlap with a given exon.\n",
    "for ex,info in TranscriptomeIterator(t,feature_types=['exon']):\n",
    "    if info.get('n_overlapping_introns', 0)==max(intron_hist):\n",
    "        tids = {i.parent.feature_id for i,_ in info['overlapping_introns']}\n",
    "        display(f\"Example {ex} with {info['n_overlapping_introns']} overlapping introns: { {i.feature_id for i,_ in info['overlapping_introns']} }, tids: {tids}\")\n",
    "        break    "
   ]
  },
  {
   "cell_type": "markdown",
   "id": "72b7feda-4f90-46e1-ad97-a52532f9f66b",
   "metadata": {
    "tags": []
   },
   "source": [
    "# Related Work\n",
    "\n",
    "Recently, a number of different python libraries for the efficient manipulation/querying of genomic interval sets were developed.\n",
    "This includes [pybedtools](https://daler.github.io/pybedtools/index.html), a python library wrapping the popular BEDTools utilities, and \n",
    "[bioframe](https://bioframe.readthedocs.io/en/latest/index.html), a python library enabling flexible and scalable operations on genomic intervals built on top of pandas dataframes. \n",
    "\n",
    "These as well as related libraries (e.g., [pyranges](https://pyranges.readthedocs.io/en/latest/index.html) or [pygenomics](https://gitlab.com/gtamazian/pygenomics))\n",
    "enable efficent set operations (e.g., intersect, merge, count, complement) on genomic intervals but differ in various aspects of design and implementation. In this regard, their functionality overlaps partially with pygenlib's genomic iterators that are mainly built on the [pysam](https://pysam.readthedocs.io/en/latest/) implementation.\n",
    "\n",
    "While using these libraries on large datasets is often considerably faster than the corresponding 'native' pygenlib iterators, it is also a bit 'unsafer' to use them as [demonstrated below](#) as ...\n",
    "\n",
    "After highlighting such potential pitfalls, we show some [performance comparisons](#Performance-comparison) for various scenarios and show that speed benefits are often anulled when considering only subsets of large datasets (such as features of certain types on certain chromosomes) as the compared libraries either load the whole dataset before filtering can be applied (e.g., bioframe) or need to apply relatively costly preprocessing operations (such as pybedtools intersect) that are efficiently solved by pygenlib's pysam-based iterators that leverage the respective indexing structures for this purpose.\n",
    "\n",
    "Overall, however, we envision that user's would like to mix and match these APIs for maximum overall benefit. Users could, for example, first use pybedtools or bioframe operations on some input file and then run custom pygenlib transcriptomics analyses on them. We showcase a realistic scenario for [such a cooperation](#Combined-Bioframe-and-Pygenlib-example) below.\n",
    "\n"
   ]
  },
  {
   "cell_type": "markdown",
   "id": "593e2b1b-9e45-4715-a51b-6c9cf7fea71e",
   "metadata": {},
   "source": [
    "## Performance comparison\n",
    "Here we compare iteration speed for various iterators in different scenarios and plot the results.\n",
    "Note that many factors are influencing these benchmarks (such as I/O speed, memory consumption, file composition, etc.) so be careful about the drawn conclusions."
   ]
  },
  {
   "cell_type": "markdown",
   "id": "0e470ced-42b3-4d3c-8258-0e51cde71317",
   "metadata": {
    "tags": []
   },
   "source": [
    "### Calculate average feature lengths\n",
    "In this exampl, we compare different ways to calculate the average feature length in a medium-sized bed file (from the pybedtools testdata repository).\n",
    "- pygenlib's PybedtoolsIterator is slowest due to additional overhead of converting bedtools data to pygenlib representations\n",
    "- pygenlib's BedIterator is a lot faster but still slower than the pybedtools approach\n",
    "- The pybedtools approach is slighly faster as it relies on the performant bedtools implementation\n",
    "- the bioframe approach is fastest for this task as it first loads the whole dataset into a pandas dataframe that then allows very efficient calculation of mean feature lengths"
   ]
  },
  {
   "cell_type": "code",
   "execution_count": 5,
   "id": "a7ec49f8-07bb-4030-8fe4-d876d3e58ca9",
   "metadata": {
    "tags": []
   },
   "outputs": [
    {
     "data": {
      "text/html": [
       "<div>\n",
       "<style scoped>\n",
       "    .dataframe tbody tr th:only-of-type {\n",
       "        vertical-align: middle;\n",
       "    }\n",
       "\n",
       "    .dataframe tbody tr th {\n",
       "        vertical-align: top;\n",
       "    }\n",
       "\n",
       "    .dataframe thead th {\n",
       "        text-align: right;\n",
       "    }\n",
       "</style>\n",
       "<table border=\"1\" class=\"dataframe\">\n",
       "  <thead>\n",
       "    <tr style=\"text-align: right;\">\n",
       "      <th></th>\n",
       "      <th>chrom</th>\n",
       "      <th>start</th>\n",
       "      <th>end</th>\n",
       "      <th>name</th>\n",
       "      <th>score</th>\n",
       "      <th>strand</th>\n",
       "      <th>fc</th>\n",
       "      <th>-log10p</th>\n",
       "      <th>-log10q</th>\n",
       "      <th>relSummit</th>\n",
       "    </tr>\n",
       "  </thead>\n",
       "  <tbody>\n",
       "    <tr>\n",
       "      <th>0</th>\n",
       "      <td>chr19</td>\n",
       "      <td>48309541</td>\n",
       "      <td>48309911</td>\n",
       "      <td>.</td>\n",
       "      <td>1000</td>\n",
       "      <td>.</td>\n",
       "      <td>5.04924</td>\n",
       "      <td>-1.0</td>\n",
       "      <td>0.00438</td>\n",
       "      <td>185</td>\n",
       "    </tr>\n",
       "    <tr>\n",
       "      <th>1</th>\n",
       "      <td>chr4</td>\n",
       "      <td>130563716</td>\n",
       "      <td>130564086</td>\n",
       "      <td>.</td>\n",
       "      <td>993</td>\n",
       "      <td>.</td>\n",
       "      <td>5.05052</td>\n",
       "      <td>-1.0</td>\n",
       "      <td>0.00432</td>\n",
       "      <td>185</td>\n",
       "    </tr>\n",
       "    <tr>\n",
       "      <th>2</th>\n",
       "      <td>chr1</td>\n",
       "      <td>200622507</td>\n",
       "      <td>200622877</td>\n",
       "      <td>.</td>\n",
       "      <td>591</td>\n",
       "      <td>.</td>\n",
       "      <td>5.05489</td>\n",
       "      <td>-1.0</td>\n",
       "      <td>0.00400</td>\n",
       "      <td>185</td>\n",
       "    </tr>\n",
       "    <tr>\n",
       "      <th>3</th>\n",
       "      <td>chr5</td>\n",
       "      <td>112848447</td>\n",
       "      <td>112848817</td>\n",
       "      <td>.</td>\n",
       "      <td>869</td>\n",
       "      <td>.</td>\n",
       "      <td>5.05841</td>\n",
       "      <td>-1.0</td>\n",
       "      <td>0.00441</td>\n",
       "      <td>185</td>\n",
       "    </tr>\n",
       "    <tr>\n",
       "      <th>4</th>\n",
       "      <td>chr1</td>\n",
       "      <td>145960616</td>\n",
       "      <td>145960986</td>\n",
       "      <td>.</td>\n",
       "      <td>575</td>\n",
       "      <td>.</td>\n",
       "      <td>5.05955</td>\n",
       "      <td>-1.0</td>\n",
       "      <td>0.00439</td>\n",
       "      <td>185</td>\n",
       "    </tr>\n",
       "    <tr>\n",
       "      <th>...</th>\n",
       "      <td>...</td>\n",
       "      <td>...</td>\n",
       "      <td>...</td>\n",
       "      <td>...</td>\n",
       "      <td>...</td>\n",
       "      <td>...</td>\n",
       "      <td>...</td>\n",
       "      <td>...</td>\n",
       "      <td>...</td>\n",
       "      <td>...</td>\n",
       "    </tr>\n",
       "    <tr>\n",
       "      <th>40582</th>\n",
       "      <td>chr8</td>\n",
       "      <td>22574315</td>\n",
       "      <td>22574744</td>\n",
       "      <td>.</td>\n",
       "      <td>1000</td>\n",
       "      <td>.</td>\n",
       "      <td>561.11939</td>\n",
       "      <td>-1.0</td>\n",
       "      <td>4.90268</td>\n",
       "      <td>243</td>\n",
       "    </tr>\n",
       "    <tr>\n",
       "      <th>40583</th>\n",
       "      <td>chr15</td>\n",
       "      <td>56246029</td>\n",
       "      <td>56246402</td>\n",
       "      <td>.</td>\n",
       "      <td>1000</td>\n",
       "      <td>.</td>\n",
       "      <td>569.05663</td>\n",
       "      <td>-1.0</td>\n",
       "      <td>4.90268</td>\n",
       "      <td>191</td>\n",
       "    </tr>\n",
       "    <tr>\n",
       "      <th>40584</th>\n",
       "      <td>chr1</td>\n",
       "      <td>150979463</td>\n",
       "      <td>150979845</td>\n",
       "      <td>.</td>\n",
       "      <td>1000</td>\n",
       "      <td>.</td>\n",
       "      <td>580.28482</td>\n",
       "      <td>-1.0</td>\n",
       "      <td>4.90268</td>\n",
       "      <td>194</td>\n",
       "    </tr>\n",
       "    <tr>\n",
       "      <th>40585</th>\n",
       "      <td>chr16</td>\n",
       "      <td>57649040</td>\n",
       "      <td>57649402</td>\n",
       "      <td>.</td>\n",
       "      <td>1000</td>\n",
       "      <td>.</td>\n",
       "      <td>602.95266</td>\n",
       "      <td>-1.0</td>\n",
       "      <td>4.90268</td>\n",
       "      <td>173</td>\n",
       "    </tr>\n",
       "    <tr>\n",
       "      <th>40586</th>\n",
       "      <td>chr12</td>\n",
       "      <td>54379625</td>\n",
       "      <td>54380042</td>\n",
       "      <td>.</td>\n",
       "      <td>1000</td>\n",
       "      <td>.</td>\n",
       "      <td>627.60723</td>\n",
       "      <td>-1.0</td>\n",
       "      <td>4.90268</td>\n",
       "      <td>203</td>\n",
       "    </tr>\n",
       "  </tbody>\n",
       "</table>\n",
       "<p>40587 rows × 10 columns</p>\n",
       "</div>"
      ],
      "text/plain": [
       "       chrom      start        end name  score strand         fc  -log10p   \n",
       "0      chr19   48309541   48309911    .   1000      .    5.04924     -1.0  \\\n",
       "1       chr4  130563716  130564086    .    993      .    5.05052     -1.0   \n",
       "2       chr1  200622507  200622877    .    591      .    5.05489     -1.0   \n",
       "3       chr5  112848447  112848817    .    869      .    5.05841     -1.0   \n",
       "4       chr1  145960616  145960986    .    575      .    5.05955     -1.0   \n",
       "...      ...        ...        ...  ...    ...    ...        ...      ...   \n",
       "40582   chr8   22574315   22574744    .   1000      .  561.11939     -1.0   \n",
       "40583  chr15   56246029   56246402    .   1000      .  569.05663     -1.0   \n",
       "40584   chr1  150979463  150979845    .   1000      .  580.28482     -1.0   \n",
       "40585  chr16   57649040   57649402    .   1000      .  602.95266     -1.0   \n",
       "40586  chr12   54379625   54380042    .   1000      .  627.60723     -1.0   \n",
       "\n",
       "       -log10q  relSummit  \n",
       "0      0.00438        185  \n",
       "1      0.00432        185  \n",
       "2      0.00400        185  \n",
       "3      0.00441        185  \n",
       "4      0.00439        185  \n",
       "...        ...        ...  \n",
       "40582  4.90268        243  \n",
       "40583  4.90268        191  \n",
       "40584  4.90268        194  \n",
       "40585  4.90268        173  \n",
       "40586  4.90268        203  \n",
       "\n",
       "[40587 rows x 10 columns]"
      ]
     },
     "execution_count": 5,
     "metadata": {},
     "output_type": "execute_result"
    }
   ],
   "source": [
    "ssl._create_default_https_context = ssl._create_unverified_context # to avoid invalid certificate problems\n",
    "BioframeIterator('https://www.encodeproject.org/files/ENCFF401MQL/@@download/ENCFF401MQL.bed.gz', schema='narrowPeak').df"
   ]
  },
  {
   "cell_type": "code",
   "execution_count": 38,
   "id": "f5d80d16-0eab-4cb6-9b9b-be18557d3ea6",
   "metadata": {
    "tags": []
   },
   "outputs": [
    {
     "name": "stdout",
     "output_type": "stream",
     "text": [
      "DF filter string: start>=(@self.region.start+@coord_off[0])&end<=(@self.region.end+@coord_off[1]), region: None:-inf-inf\n"
     ]
    },
    {
     "data": {
      "image/png": "[encoded data removed]",
      "text/plain": [
       "<Figure size 2000x300 with 1 Axes>"
      ]
     },
     "metadata": {},
     "output_type": "display_data"
    }
   ],
   "source": [
    "dataset='pybedtools_snps'\n",
    "bed_file = get_resource(dataset)\n",
    "times, data=Counter(),Counter()\n",
    "with Timer(times, 'pygenlib_iter') as timer:\n",
    "    data[timer.name] = []\n",
    "    with BedIterator(bed_file) as it:\n",
    "        data[timer.name]=np.mean([len(loc) for loc,_ in it])\n",
    "        stats=it.stats\n",
    "with Timer(times, 'pybedtools_iter') as timer:\n",
    "    data[timer.name] = np.mean([x.end-x.start for x in pybedtools.BedTool(bed_file)])\n",
    "with Timer(times, 'PybedtoolsIterator_iter') as timer:\n",
    "    with PybedtoolsIterator(pybedtools.BedTool(bed_file)) as it:\n",
    "        data[timer.name]=np.mean([len(loc) for loc,_ in it])\n",
    "with Timer(times, 'BioframeIterator_iter') as timer:\n",
    "    with BioframeIterator(bed_file) as it:\n",
    "        it.df['len']=it.df['end']-it.df['start']\n",
    "        data[timer.name] = it.df['len'].mean()\n",
    "\n",
    "    \n",
    "# assert that results match\n",
    "assert len({y for y in data.values()})==1, f\"Error in some computation: {data}\"\n",
    "\n",
    "plot_times(f\"Calculating mean feature length in {dataset}\",\n",
    "           times, n=stats[('yielded_items', None)],\n",
    "           our_method='pygenlib_iter')"
   ]
  },
  {
   "cell_type": "markdown",
   "id": "e6a88500-9b00-4a59-a9fa-4b06f5c2bb22",
   "metadata": {},
   "source": [
    "### Random intervals\n",
    "Here we test grouped aggregation of some property using random datasets. First, we create a data frame with random intervals and random values between [0; 1000] and store it as bgzipped+tabixed bedgraph file. Then we test different methods for calculating the mean score a grouped mean score. \n",
    "\n",
    "- For pybedtools, we intersect the file per chromosome, store the values in a numpy array and calculate the mean\n",
    "- For bioframe, we use the pygenlib BioframeIterator class to load the dataframe and group/aggregate with pandas functionality\n",
    "- We use pygenlib's BedGraphIterator to iterate the values per chromosome, store them in a numpy array and calculate the mean\n",
    "\n",
    "Bioframe is the fastest option for this task due to the effienct pandas data grouping/aggregation functionality. Pygenlib's BedGraphIterator iterator comes out second as per-chromosome grouping is more efficiently handled than in pybedtools."
   ]
  },
  {
   "cell_type": "code",
   "execution_count": 39,
   "id": "74c7c48d-dee0-4c78-be67-77b9e1957a99",
   "metadata": {
    "tags": []
   },
   "outputs": [
    {
     "name": "stdout",
     "output_type": "stream",
     "text": [
      "Detected file format for index creation: bed\n"
     ]
    },
    {
     "data": {
      "text/plain": [
       "'Evaluating dataset with size n=1000.0'"
      ]
     },
     "metadata": {},
     "output_type": "display_data"
    },
    {
     "name": "stdout",
     "output_type": "stream",
     "text": [
      "DF filter string: start>=(@self.region.start+@coord_off[0])&end<=(@self.region.end+@coord_off[1]), region: None:-inf-inf\n",
      "Detected file format for index creation: bed\n"
     ]
    },
    {
     "data": {
      "text/plain": [
       "'Evaluating dataset with size n=10000.0'"
      ]
     },
     "metadata": {},
     "output_type": "display_data"
    },
    {
     "name": "stdout",
     "output_type": "stream",
     "text": [
      "DF filter string: start>=(@self.region.start+@coord_off[0])&end<=(@self.region.end+@coord_off[1]), region: None:-inf-inf\n",
      "Detected file format for index creation: bed\n"
     ]
    },
    {
     "data": {
      "text/plain": [
       "'Evaluating dataset with size n=100000.0'"
      ]
     },
     "metadata": {},
     "output_type": "display_data"
    },
    {
     "name": "stdout",
     "output_type": "stream",
     "text": [
      "DF filter string: start>=(@self.region.start+@coord_off[0])&end<=(@self.region.end+@coord_off[1]), region: None:-inf-inf\n"
     ]
    },
    {
     "data": {
      "image/png": "[encoded data removed]",
      "text/plain": [
       "<Figure size 2000x300 with 3 Axes>"
      ]
     },
     "metadata": {},
     "output_type": "display_data"
    }
   ],
   "source": [
    "# from pygenlib.testdata import make_random_intervals\n",
    "sizes=[1e3,1e4,1e5]#,1e6]\n",
    "chroms=['chr' + str(i + 1) for i in range(20)]\n",
    "fig, axes = plt.subplots(ncols=len(sizes), squeeze=True)\n",
    "stats=Counter()\n",
    "for n,ax in zip(sizes,axes):\n",
    "    with tempfile.TemporaryDirectory() as tempdirname:\n",
    "        dataset='random dataset'\n",
    "        bed_file=f'{tempdirname}/data.bedgraph'\n",
    "        # create testdata\n",
    "        make_random_intervals(n=n, chroms=chroms).to_csv(bed_file, sep='\\t', encoding='utf-8', index=False, header=False)\n",
    "        bgzip_and_tabix(bed_file)\n",
    "        bed_file+='.gz'\n",
    "        display(f\"Evaluating dataset with size n={n}\")\n",
    "        times, data, stats=Counter(),Counter(),Counter()        \n",
    "        with Timer(times, 'pygenlib_iter') as timer:\n",
    "            data[timer.name] = {}\n",
    "            for chrom in chroms:\n",
    "                with BedGraphIterator(bed_file, chromosome=chrom) as it:\n",
    "                    data[timer.name][chrom]=np.mean([v for loc,v in it])\n",
    "                    stats.update(it.stats)\n",
    "        with Timer(times, 'pybedtools_iter') as timer:\n",
    "            data[timer.name] = {}\n",
    "            for chrom in chroms:\n",
    "                data[timer.name][chrom] = np.mean([float(x.name) for x in pybedtools.BedTool(bed_file).intersect([gi(chrom).to_pybedtools()], u=True)])\n",
    "        with Timer(times, 'BioframeIterator_iter') as timer:\n",
    "            with BioframeIterator(bed_file) as it:\n",
    "                data[timer.name] = it.df.groupby('chrom')['name'].mean().to_dict()\n",
    "        # assert that results match\n",
    "        for c in chroms:\n",
    "            assert check_list([data['pygenlib_iter'][c], data['pybedtools_iter'][c], data['BioframeIterator_iter'][c]], 'eq'),\\\n",
    "                f\"Error on chrom {c}: {data['pygenlib_iter'][c], data['pybedtools_iter'][c], data['BioframeIterator_iter'][c]}\"\n",
    "        # plot the results\n",
    "        plot_times(f\"Calculating mean feature length in {dataset} with n={n}\",\n",
    "                   times, n=np.sum([stats['yielded_items',c] for c in chroms]),\n",
    "                   our_method='pygenlib_iter',\n",
    "                   ax=ax)\n",
    "plt.rcParams[\"figure.figsize\"] = (20,3)\n",
    "plt.show()"
   ]
  },
  {
   "cell_type": "markdown",
   "id": "3ff85625-294c-465a-813c-4a6d33a79d33",
   "metadata": {
    "tags": []
   },
   "source": [
    "### Filtered iteration\n",
    "Here we add some more filtering steps and compare different methods for counting minus strand features on one chromosome in a large GFF3 file that is downloaded from gencode to a temporary directory, sorted, bgzipped, index and then analysed.\n",
    "\n",
    "- for pybedtools, we either intersect the file or apply a filter method, then parse the respective fields and count\n",
    "- for bioframe, we init a filtered DataFrame via our BioframeIterator implementation, filter for the proper strand using pandas and then iterate+count\n",
    "- we use a chromosome-filtered pygenlib GFF3Iterator for comparison, filter by interval strand and count the returned feature_type \n",
    "\n",
    "The pybedtools_filter option is slowest as it needs to iterate the whole dataset when filtering.\n",
    "The pybedtools_intersect option is much faster but also dominated by the intersect (chrom filtering) operation.\n",
    "The shown pandas/bioframe approach is also relatively slow as it also needs to read the whole dataframe before filtering in two steps for the targeted genomic region and strand. \n",
    "Finally, the pygenlib GFF3Iterator (based on pysam) is the fastest option in this benchmark, probably due to the fast chromosome filtering based on the leveraged tabix index.\n"
   ]
  },
  {
   "cell_type": "code",
   "execution_count": 40,
   "id": "9054ad55-209a-402d-8443-d9ab455c274d",
   "metadata": {
    "tags": []
   },
   "outputs": [
    {
     "name": "stdout",
     "output_type": "stream",
     "text": [
      "DF filter string: chrom==@self.region.chromosome&start>=(@self.region.start+@coord_off[0])&end<=(@self.region.end+@coord_off[1]), region: chr21:-inf-inf\n"
     ]
    },
    {
     "data": {
      "image/png": "[encoded data removed]",
      "text/plain": [
       "<Figure size 2000x300 with 1 Axes>"
      ]
     },
     "metadata": {},
     "output_type": "display_data"
    }
   ],
   "source": [
    "import subprocess\n",
    "dataset='gencode.v44'\n",
    "with tempfile.TemporaryDirectory() as tempdirname:\n",
    "    # download, sort, bgzip and index gencode v44 annotation GFF3 file\n",
    "    gff_file=f\"{tempdirname}/gencode.v44.annotation.gff3.gz\"\n",
    "    tmpfile = download_file(\"https://ftp.ebi.ac.uk/pub/databases/gencode/Gencode_human/release_44/gencode.v44.annotation.gff3.gz\", \n",
    "                                       f\"{tempdirname}/unsorted.gff3.gz\")\n",
    "    subprocess.call(f'bedtools sort -header -i {tmpfile} | bgzip > {gff_file}', shell=True)  # index\n",
    "    subprocess.call(f'tabix {gff_file}', shell=True)  # index\n",
    "\n",
    "    roi=gi('chr21') # count on one chromosome only\n",
    "    times, data=Counter(),Counter()\n",
    "    with Timer(times, 'pybedtools_filter') as timer:\n",
    "        data[timer.name]=Counter()\n",
    "        for x in pybedtools.BedTool(gff_file).filter(lambda b: b.chrom == roi.chromosome and b.strand=='-'):\n",
    "            feature_type = x.fields[2]\n",
    "            data[timer.name][feature_type]+=1\n",
    "            data[timer.name]['-']+=1\n",
    "    with Timer(times, 'pybedtools_intersect') as timer:\n",
    "        data[timer.name]=Counter()\n",
    "        for x in pybedtools.BedTool(gff_file).intersect([roi.to_pybedtools()], u=True):\n",
    "            strand, feature_type = x.strand, x.fields[2]\n",
    "            if strand == '-':\n",
    "                data[timer.name][feature_type]+=1\n",
    "                data[timer.name][strand]+=1\n",
    "    with Timer(times, 'pygenlib_GFF3Iterator') as timer:\n",
    "        data[timer.name]=Counter()\n",
    "        with GFF3Iterator(gff_file, region=roi) as it:\n",
    "            for loc, info in it: # now iterate the values\n",
    "                if loc.strand=='-':\n",
    "                    data[timer.name][info['feature_type']]+=1\n",
    "                    data[timer.name][loc.strand]+=1\n",
    "            stats=it.stats      \n",
    "    with Timer(times, 'Bioframe_pandas') as timer:\n",
    "        with BioframeIterator(gff_file, region=roi) as it: # init filtered dataframe\n",
    "            it.df = it.df.query(\"strand=='-'\") # further filter the dataframe with pandas\n",
    "            data[timer.name]=Counter(it.df['strand'])\n",
    "            data[timer.name].update(Counter(it.df['feature']))\n",
    "\n",
    "# check results and assert that they match\n",
    "for k in list(times.keys())[0]:\n",
    "    assert len(set([data[x][k] for x in data.keys()]))==1\n",
    "\n",
    "# plot the timings\n",
    "plot_times(f\"Counting minus-strand feature types on one chromosome in {dataset}\",\n",
    "           times, n=stats[('yielded_items', roi.chromosome)],\n",
    "           our_method='pygenlib_GFF3Iterator')    "
   ]
  },
  {
   "cell_type": "markdown",
   "id": "a42e9c1f-7cae-48eb-8826-cc819a55e65e",
   "metadata": {},
   "source": [
    "### PyBedtools comparison\n",
    "\n",
    "[Pybedtools](https://daler.github.io/pybedtools/index.html) is a python library wrapping the popular BEDTools utilities. It enables various set theory operations on genomic dataset (such as intersect, merge, count, complement, and shuffle) in various data formats (BAM, BED, GFF/GTF and VCF) and also supports data streaming. In this regard, its functionality overlaps partially with pygenlib's genomic iterators that are mainly built on the pysam implementation. \n",
    "\n",
    "While pybedtools is considerably faster than the corresponding 'native' pygenlib iterators, it is also a bit 'unsafer' to use them as demonstrated below. Overall, however, we envision that user's would like to mix and match pybedtools and pygenlib based on the actual use-case and performance requirements. Users could, for example, use BEDtools set operations on some input file, store these files and then run a pygenlib analysis on them.\n",
    "\n",
    "To facilitate seamless workflows that integrate both libraries, we also implemented a `PybedtoolsIterator` that wraps a pybedtools BedTool while providing the same interface (e.g., region filtering, stats  output) as other pygenlib iterators. Below we compare the performance of pygenlib and pybedtools iterators on various tasks. \n",
    "\n",
    "## Iteration\n",
    "Here we compare iteration performance between a native `pybedtools` and a `pygenlib` bed iterator. On our test system, pybedtools was ~40-60% faster."
   ]
  },
  {
   "cell_type": "code",
   "execution_count": 58,
   "id": "e859b679-df93-4d2c-9eb4-853e5f5140c9",
   "metadata": {
    "tags": []
   },
   "outputs": [
    {
     "data": {
      "image/png": "[encoded data removed]",
      "text/plain": [
       "<Figure size 640x480 with 1 Axes>"
      ]
     },
     "metadata": {},
     "output_type": "display_data"
    },
    {
     "data": {
      "text/plain": [
       "'For iterating+filtering 800000 items, The fastest method (82141.01514562813 it/s) is 1.314703577164709X'"
      ]
     },
     "metadata": {},
     "output_type": "display_data"
    },
    {
     "data": {
      "text/plain": [
       "'(31.470357716470907%) faster than pygenlib (62478.734044957506 it/s).'"
      ]
     },
     "metadata": {},
     "output_type": "display_data"
    }
   ],
   "source": [
    "times, data=Counter(),Counter()\n",
    "bed_file= get_resource('pybedtools_snps')  \n",
    "with Timer(times, 'pygenlib_iter') as timer:\n",
    "    with BedIterator(bed_file, chromosome='chr21') as it:\n",
    "        data[timer.name] = len([x for x in it])\n",
    "        stats = it.stats()\n",
    "with Timer(times, 'pybedtools_iter') as timer:\n",
    "    data[timer.name] = len([x for x in pybedtools.BedTool(bed_file)])\n",
    "with Timer(times, 'PybedtoolsIterator_iter') as timer:\n",
    "    data[timer.name] = len([x for x in PybedtoolsIterator(pybedtools.BedTool(bed_file))])\n",
    "\n",
    "# check results\n",
    "assert len({y for y in data.values()})==1, f\"Error in some computation: {data}\"\n",
    "\n",
    "# plot the data\n",
    "labels, values = zip(*sorted(times.items()))\n",
    "plt.bar(range(len(labels)), values, 0.8)\n",
    "plt.xticks(range(len(labels)), labels)\n",
    "plt.xticks(rotation=90)\n",
    "plt.suptitle(\"Time to iterate\")\n",
    "plt.show()\n",
    "\n",
    "n = stats[('yielded_items', None)]\n",
    "speed_fastest = n/min(times.values())\n",
    "speed_fastest = n/min(times.values())\n",
    "speed_pygenlib = n/(times['pygenlib_iter'])\n",
    "\n",
    "display(f\"For iterating+filtering {n} items, The fastest method ({speed_pybedtools} it/s) is {speed_pybedtools/speed_pygenlib}X\")\n",
    "display(f\"({(speed_pybedtools/speed_pygenlib-1)*100}%) faster than pygenlib ({speed_pygenlib} it/s).\")"
   ]
  },
  {
   "cell_type": "markdown",
   "id": "f89495d0-f0d9-4fd1-850e-6f8a0d36c720",
   "metadata": {},
   "source": [
    "## Filtered iteration\n",
    "Here we compare various methods for iterating a bed file and filtering for entries with a given minimum length.\n",
    "We compare native pybedtools iterators with various filter options with pygenlib's BedIterator and the wrapped PybedtoolsIterator.\n",
    "Note that this provides just approximate timings and there are many factors (CPU and I/O speed, etc.) that influence this."
   ]
  },
  {
   "cell_type": "code",
   "execution_count": 57,
   "id": "3d65d348-d04e-4d55-a4d0-ea971d364866",
   "metadata": {
    "tags": []
   },
   "outputs": [
    {
     "name": "stdout",
     "output_type": "stream",
     "text": [
      "WARN: Could not create refdict, is file bgzipped+tabixed? Unsupported input format for file /var/folders/1b/f_v7b42173763b830kvj5xdh0000gq/T/pybedtools.a48gxgn5.tmp\n",
      "Filtered BED to create /var/folders/1b/f_v7b42173763b830kvj5xdh0000gq/T/pybedtools.a48gxgn5.tmp\n"
     ]
    },
    {
     "data": {
      "text/plain": [
       "'For iterating+filtering 800000 items, The fastest method (133978.43700658626 it/s) is 1.2693372084644972X'"
      ]
     },
     "metadata": {},
     "output_type": "display_data"
    },
    {
     "data": {
      "text/plain": [
       "'(26.933720846449717%) faster than pygenlib (105549.91700641823 it/s).'"
      ]
     },
     "metadata": {},
     "output_type": "display_data"
    },
    {
     "data": {
      "image/png": "[encoded data removed]",
      "text/plain": [
       "<Figure size 640x480 with 1 Axes>"
      ]
     },
     "metadata": {},
     "output_type": "display_data"
    }
   ],
   "source": [
    "from pybedtools.featurefuncs import greater_than\n",
    "stats,times,data=Counter(),Counter(),Counter()\n",
    "with Timer(times, 'bedtools_filter') as timer:\n",
    "    # BedTools with filter()\n",
    "    data[timer.name] = [x.name for x in pybedtools.BedTool(get_resource(\"pybedtools_snps\") ).filter(lambda x: len(x) > 1)]\n",
    "with Timer(times, 'bedtools_list_comp') as timer:\n",
    "    # BedTools with list comprehension\n",
    "    data[timer.name] = [x.name for x in pybedtools.BedTool(get_resource(\"pybedtools_snps\")) if len(x) > 1]\n",
    "with Timer(times, 'bedtools_featurefuncs') as timer:\n",
    "    # BedTools with filter()/featurefuncs\n",
    "    data[timer.name] = [x.name for x in pybedtools.BedTool(get_resource(\"pybedtools_snps\") ).filter(greater_than, 1)]\n",
    "with Timer(times, 'pygenlib_bediterator') as timer:\n",
    "    # native pygenlib iterator. Collect stats from here\n",
    "    with BedIterator(get_resource(\"pybedtools_snps\")) as it:\n",
    "        data[timer.name] = [snp.data.name for snp in it if len(snp)>1]\n",
    "        stats=it.stats\n",
    "with Timer(times, 'pygenlib_pybedtoolsiterator') as timer:\n",
    "    # pygenlib PybedtoolsIterator with list comprehension\n",
    "    # This is the slowest option as we convert all intervals to GIs and then filter for length.\n",
    "    # not recommended.\n",
    "    data[timer.name] = [snp.data.name for snp in PybedtoolsIterator(get_resource(\"pybedtools_snps\") ) if len(snp)>1]\n",
    "with Timer(times, 'pygenlib_pybedtoolsiterator2') as timer:\n",
    "    # here we first filter via pybedtools, save the file and then iterate via a PybedtoolsIterator\n",
    "    bt=pybedtools.BedTool(get_resource(\"pybedtools_snps\") ).filter(greater_than, 1).saveas()\n",
    "    with PybedtoolsIterator(bt) as it:\n",
    "        print(f\"Filtered BED to create {bt.fn}\")\n",
    "        data[timer.name] = [snp.data.name for snp in it]\n",
    "\n",
    "# check results\n",
    "assert len({len(y) for y in data.values()})==1, f\"Error in some computation: {data}\"\n",
    "\n",
    "# calc speed improvement\n",
    "n = stats[('yielded_items', None)]\n",
    "speed_fastest = n/min(times.values())\n",
    "speed_pygenlib = n/times['pygenlib_bediterator']\n",
    "\n",
    "display(f\"For iterating+filtering {n} items, The fastest method ({speed_fastest} it/s) is {speed_fastest/speed_pygenlib}X\")\n",
    "display(f\"({(speed_fastest/speed_pygenlib-1)*100}%) faster than pygenlib ({speed_pygenlib} it/s).\")\n",
    "\n",
    "# plot the timings\n",
    "labels, values = zip(*sorted(times.items()))\n",
    "plt.bar(range(len(labels)), values, 0.8)\n",
    "plt.xticks(range(len(labels)), labels)\n",
    "plt.xticks(rotation=90)\n",
    "plt.ylabel(\"Time [s]\")\n",
    "plt.suptitle(f\"n={n}\")\n",
    "plt.show()"
   ]
  },
  {
   "cell_type": "markdown",
   "id": "07963982-7360-4ffb-8e62-3a849b6bda6d",
   "metadata": {},
   "source": [
    "## Potential pitfalls\n",
    "In this section we demonstrate two common pitfalls that regularly hamper bioinformatics analyses leading to wrong results: \n",
    "- [unsorted input files](#Pybedtools-unsorted input-example) and \n",
    "- [wrongly interpreted coordinate systems](#bioframe-coordinate-mixup-example).\n",
    "\n",
    "We showcase both problems below using realistic scenarios.\n",
    "Notably, in both cases analyses run through and deliver plausible (yet wrong) results which makes these kinds of errors hard to catch."
   ]
  },
  {
   "cell_type": "markdown",
   "id": "3b2446ce-9eb2-4b23-b97a-efec0c5c8267",
   "metadata": {
    "tags": []
   },
   "source": [
    "### Pybedtools unsorted input example\n",
    "\n",
    "Here, we demonstrate how unsorted input may lead to wrong analysis results using pybedtools.\n",
    "\n",
    "The following code block was copy-pasted from the [pybedtools page](https://github.com/daler/pybedtools) and the idea of this example is to create a list of gene names that are <5 kb away from intergenic SNPs. However, this code does not work properly (with pybedtools v0.9.1) due to inconsistent chromosome order of the two input files (hg19.gff: chr1, chr21; snps.bed.gz: chr21, chr1; both are pybedtools test resources).\n",
    "\n",
    "As a result, genes.closest reports only -1 as distance which is why all closes genes will be reported, not just the ones at max 5kb distance.\n",
    "Notably, the code runs without errors/warnings and returns a reasonable-sized list of gene names which makes it hard to spot the error. \n",
    "Only when omitting the `stream=True flag`, genes.closest() fails and reports the inconsistent chrom order. \n",
    "\n",
    "Note, that in *pygenlib*, input files have to be bgzipped and indexed which requires them to be coordinate sorted and that reference dictionaries are used to ensure consistent chromosome ordering."
   ]
  },
  {
   "cell_type": "code",
   "execution_count": 33,
   "id": "7af4a510-e366-4654-8988-01df3906d70c",
   "metadata": {
    "tags": []
   },
   "outputs": [
    {
     "data": {
      "text/plain": [
       "'Unsorted input files:'"
      ]
     },
     "metadata": {},
     "output_type": "display_data"
    },
    {
     "data": {
      "text/plain": [
       "'We found 4217 nearby genes. Unique names: 4215'"
      ]
     },
     "metadata": {},
     "output_type": "display_data"
    },
    {
     "data": {
      "text/plain": [
       "'Sorted input files:'"
      ]
     },
     "metadata": {},
     "output_type": "display_data"
    },
    {
     "data": {
      "text/plain": [
       "'We found 2422 nearby genes. Unique names: 2419'"
      ]
     },
     "metadata": {},
     "output_type": "display_data"
    }
   ],
   "source": [
    "def run_pybedtools_example(gff_file, snp_file):\n",
    "    snps = pybedtools.BedTool(snp_file)  \n",
    "    genes = pybedtools.BedTool(gff_file)\n",
    "    intergenic_snps = snps.subtract(genes).saveas()                      \n",
    "    nearby = genes.closest(intergenic_snps, d=True, stream=True).saveas() \n",
    "    nbgenes = [gene.name for gene in nearby if int(gene[-1]) < 5000]\n",
    "    display(f\"We found {len(nbgenes)} nearby genes. Unique names: {len(set(nbgenes))}\")\n",
    "\n",
    "\n",
    "display(\"Unsorted input files:\")\n",
    "run_pybedtools_example(get_resource(\"pybedtools::hg19.gff\"), get_resource(\"pybedtools::snps.bed.gz\"))\n",
    "display(\"Sorted input files:\")\n",
    "run_pybedtools_example(get_resource(\"pybedtools_gff\"), get_resource(\"pybedtools_snps\"))"
   ]
  },
  {
   "cell_type": "markdown",
   "id": "0eb72111-873f-4a67-94d8-1070be26a691",
   "metadata": {
    "tags": []
   },
   "source": [
    "### Bioframe coordinate mixup example\n",
    "\n",
    "In bioframe, interval coordinates are \"[... assumed to be 0-based and intervals half-open (1-based ends) i.e. (start, end)](https://bioframe.readthedocs.io/en/latest/guide-definitions.html#definitions)\" as, for example, in the BED file format.\n",
    "However, this is not enforced or validated when reading genomic datasets in different formats which is why it is rather easy to make bioframe interpret 1-based as 0-base coordinates a demonstrated in the following snippet. \n",
    "\n",
    "This shifts start coordinates of misinterpreted datasets by 1bp and may lead to subtle errors in downstream analyses. \n",
    "Note, that *pygenlib* provides format-specific iterators that ensure proper coordinate interpretation which makes it harder (yet not impossible) to fall into this pit. "
   ]
  },
  {
   "cell_type": "code",
   "execution_count": 57,
   "id": "197dfc01-1b8a-466d-9438-9c5ac22b2d81",
   "metadata": {
    "tags": []
   },
   "outputs": [
    {
     "data": {
      "text/plain": [
       "'bioframe:'"
      ]
     },
     "metadata": {},
     "output_type": "display_data"
    },
    {
     "data": {
      "text/html": [
       "<div>\n",
       "<style scoped>\n",
       "    .dataframe tbody tr th:only-of-type {\n",
       "        vertical-align: middle;\n",
       "    }\n",
       "\n",
       "    .dataframe tbody tr th {\n",
       "        vertical-align: top;\n",
       "    }\n",
       "\n",
       "    .dataframe thead tr th {\n",
       "        text-align: left;\n",
       "    }\n",
       "</style>\n",
       "<table border=\"1\" class=\"dataframe\">\n",
       "  <thead>\n",
       "    <tr>\n",
       "      <th></th>\n",
       "      <th colspan=\"2\" halign=\"left\">start</th>\n",
       "    </tr>\n",
       "    <tr>\n",
       "      <th></th>\n",
       "      <th>self</th>\n",
       "      <th>other</th>\n",
       "    </tr>\n",
       "  </thead>\n",
       "  <tbody>\n",
       "    <tr>\n",
       "      <th>0</th>\n",
       "      <td>180989762</td>\n",
       "      <td>180989761</td>\n",
       "    </tr>\n",
       "    <tr>\n",
       "      <th>1</th>\n",
       "      <td>180989770</td>\n",
       "      <td>180989769</td>\n",
       "    </tr>\n",
       "    <tr>\n",
       "      <th>2</th>\n",
       "      <td>180989770</td>\n",
       "      <td>180989769</td>\n",
       "    </tr>\n",
       "    <tr>\n",
       "      <th>3</th>\n",
       "      <td>180989771</td>\n",
       "      <td>180989770</td>\n",
       "    </tr>\n",
       "    <tr>\n",
       "      <th>4</th>\n",
       "      <td>180989773</td>\n",
       "      <td>180989772</td>\n",
       "    </tr>\n",
       "    <tr>\n",
       "      <th>...</th>\n",
       "      <td>...</td>\n",
       "      <td>...</td>\n",
       "    </tr>\n",
       "    <tr>\n",
       "      <th>340</th>\n",
       "      <td>5562574</td>\n",
       "      <td>5562573</td>\n",
       "    </tr>\n",
       "    <tr>\n",
       "      <th>341</th>\n",
       "      <td>5562574</td>\n",
       "      <td>5562573</td>\n",
       "    </tr>\n",
       "    <tr>\n",
       "      <th>342</th>\n",
       "      <td>5562574</td>\n",
       "      <td>5562573</td>\n",
       "    </tr>\n",
       "    <tr>\n",
       "      <th>343</th>\n",
       "      <td>5563714</td>\n",
       "      <td>5563713</td>\n",
       "    </tr>\n",
       "    <tr>\n",
       "      <th>344</th>\n",
       "      <td>5563714</td>\n",
       "      <td>5563713</td>\n",
       "    </tr>\n",
       "  </tbody>\n",
       "</table>\n",
       "<p>345 rows × 2 columns</p>\n",
       "</div>"
      ],
      "text/plain": [
       "         start           \n",
       "          self      other\n",
       "0    180989762  180989761\n",
       "1    180989770  180989769\n",
       "2    180989770  180989769\n",
       "3    180989771  180989770\n",
       "4    180989773  180989772\n",
       "..         ...        ...\n",
       "340    5562574    5562573\n",
       "341    5562574    5562573\n",
       "342    5562574    5562573\n",
       "343    5563714    5563713\n",
       "344    5563714    5563713\n",
       "\n",
       "[345 rows x 2 columns]"
      ]
     },
     "metadata": {},
     "output_type": "display_data"
    },
    {
     "data": {
      "text/plain": [
       "'pygenlib:'"
      ]
     },
     "metadata": {},
     "output_type": "display_data"
    },
    {
     "data": {
      "text/html": [
       "<div>\n",
       "<style scoped>\n",
       "    .dataframe tbody tr th:only-of-type {\n",
       "        vertical-align: middle;\n",
       "    }\n",
       "\n",
       "    .dataframe tbody tr th {\n",
       "        vertical-align: top;\n",
       "    }\n",
       "\n",
       "    .dataframe thead tr th {\n",
       "        text-align: left;\n",
       "    }\n",
       "</style>\n",
       "<table border=\"1\" class=\"dataframe\">\n",
       "  <thead>\n",
       "  </thead>\n",
       "  <tbody>\n",
       "  </tbody>\n",
       "</table>\n",
       "</div>"
      ],
      "text/plain": [
       "Empty DataFrame\n",
       "Columns: []\n",
       "Index: []"
      ]
     },
     "metadata": {},
     "output_type": "display_data"
    }
   ],
   "source": [
    "# let's load a GFF file and a corresponding BED file with the bioframe.read_table() method (you can use igv to check they are representing the same intervals)\n",
    "# the file was created with bedops gff2bed: \"gff2bed -d < gencode_44.ACTB+SOX2.gff3 | cut -f1-6 | bgzip > gencode_44.ACTB+SOX2.bed.gz\"\n",
    "bioframe_gff = bioframe.read_table(get_resource(\"gencode_gff\"), schema='gff')[['chrom','start','end', 'strand']]\n",
    "bioframe_bed = bioframe.read_table(get_resource(\"gencode_bed\"), schema='bed')[['chrom','start','end', 'strand']]\n",
    "assert bioframe.is_bedframe(bioframe_gff) and bioframe.is_bedframe(bioframe_bed) # assert that they are 'bedframes'\n",
    "\n",
    "# let's compare them using pandas compare...\n",
    "display('bioframe:', bioframe_gff.compare(bioframe_bed))\n",
    "# so we see that the start coordinates differ by one\n",
    "\n",
    "# Now load via pygenlib\n",
    "pygenlib_gff = pd.DataFrame([(loc.chromosome, loc.start, loc.end, loc.strand) for loc, info in GFF3Iterator(get_resource(\"gencode_gff\"))],\n",
    "                           columns=['chrom','start','end','strand'])\n",
    "pygenlib_bed = pd.DataFrame([(loc.chromosome, loc.start, loc.end, loc.strand) for loc, info in BedIterator(get_resource(\"gencode_bed\"))],\n",
    "                           columns=['chrom','start','end','strand'])\n",
    "\n",
    "display('pygenlib:', pygenlib_gff.compare(pygenlib_bed))\n",
    "# no differences as expected as the BedIterator will convert the coordinates appropriately"
   ]
  },
  {
   "cell_type": "markdown",
   "id": "51dc720f-0482-44cf-9335-3f299acac391",
   "metadata": {
    "tags": []
   },
   "source": [
    "### Mutable interval pitfalls\n",
    "\n",
    "Another, more subtle, pitfall results from how genomic intervals and their annotations are implemented in the different python libraries.\n",
    "In most cases, intervals are implemented as [mutable](https://realpython.com/python-mutable-vs-immutable-types/) objects whose values can be changed at runtime.\n",
    "Often these interval objects also contain associated (mutable) meta-data (such as interval names, scores, etc.). \n",
    "This, however, means that updates of intervals or associated meta-data results in changes hash values of the respective objects as shown below.\n",
    "This makes them unsafe to use as keys in referencing datastructures such as dicts and can lead to unwanted side-effects. \n",
    "\n",
    "In *pygenlib*, [genomic intervals](#Genomic-intervals) (locations) and their annotations are modeled separatedly with the former being implemented as [frozen (basically immutable) dataclasses](https://docs.python.org/3/library/dataclasses.html#frozen-instances) while the latter being stored in a dict-like datastructure that is indexed by the respective interval. \n",
    "\n",
    "The following codeblock demonstrates the different approaches."
   ]
  },
  {
   "cell_type": "code",
   "execution_count": 75,
   "id": "a89271fd-73d7-4ede-82b3-510014e5560a",
   "metadata": {
    "tags": []
   },
   "outputs": [
    {
     "data": {
      "text/plain": [
       "'Now its here: interval found in cache. with hash value -1715468265238973917'"
      ]
     },
     "metadata": {},
     "output_type": "display_data"
    },
    {
     "data": {
      "text/plain": [
       "\"Now it isn't: interval not found in cache! with hash value -3006432686961990100\""
      ]
     },
     "metadata": {},
     "output_type": "display_data"
    }
   ],
   "source": [
    "i = pybedtools.Interval(\"chr1\", 22, 44, strand='-') # create a pybedtools interval\n",
    "i.name='A' # set a metadata attribute of this interval\n",
    "cache = { i : 'interval found in cache.' } # put it in a dict\n",
    "display(f\"Now it's here: {cache.get(i, 'interval not found in cache!')} with hash value {i.__hash__()}\")\n",
    "i.name = 'B' # now we can just mutate the start coordinate, but this will change the hash value of this object\n",
    "display(f\"Now it isn't: {cache.get(i, 'interval not found in cache!')} with hash value {i.__hash__()}\")"
   ]
  },
  {
   "cell_type": "code",
   "execution_count": 79,
   "id": "25156afd-46dc-4d5f-bfef-d2356c65eabd",
   "metadata": {
    "tags": []
   },
   "outputs": [
    {
     "data": {
      "text/plain": [
       "\"Now it's here: {'mess': 'interval found in cache.', 'name': 'A'} with hash value -5667284585577806300\""
      ]
     },
     "metadata": {},
     "output_type": "display_data"
    },
    {
     "data": {
      "text/plain": [
       "\"Now it's still here: {'mess': 'interval found in cache.', 'name': 'B'} with hash value -5667284585577806300\""
      ]
     },
     "metadata": {},
     "output_type": "display_data"
    }
   ],
   "source": [
    "i = gi(\"chr1\", 22, 44, strand='-') # create a pygenlib interval\n",
    "with pytest.raises(dataclasses.FrozenInstanceError):\n",
    "    i.start = 21 # This will raise an 'FrozenInstanceError', you cannot mutate genomic intervals!\n",
    "cache = { i : {'mess':'interval found in cache.', 'name':'A'} } # put it in a dict and add also the interval Name\n",
    "display(f\"Now it's here: {cache.get(i, 'interval not found in cache!')} with hash value {i.__hash__()}\")\n",
    "cache[i]['name']='B'\n",
    "display(f\"Now it's still here: {cache.get(i, 'interval not found in cache!')} with hash value {i.__hash__()}\")\n"
   ]
  },
  {
   "cell_type": "markdown",
   "id": "09c07271-7660-4f15-a0db-71657d8d048f",
   "metadata": {
    "jp-MarkdownHeadingCollapsed": true,
    "tags": []
   },
   "source": [
    "## Other related work \n",
    "\n",
    "- [pyranges](https://pyranges.readthedocs.io/en/latest/index.html) is a python library for efficient and intuitive manipulation of genomic intervals\n",
    "- [pygenomics](https://gitlab.com/gtamazian/pygenomics) is another general python genomics library\n",
    "- [biopython](https://biopython.org/) is a general bioinformatics library and `pygenlib` provides a few utility functions (e.g., `align_sequence()`) based on biopython functionality\n",
    "- [biocantor](https://biocantor.readthedocs.io/en/latest/) is another API targeted at transcriptomics analyses but it is unclear whether it is still supported.\n",
    "- [BioNumPy](https://bionumpy.github.io/bionumpy/) A python library for efficient representation and analysis of biological data byuilt on top of NumPy\n",
    "- [RNAlysis](https://guyteichman.github.io/RNAlysis/build/index.html) Python based RNA-seq analysis software \n"
   ]
  },
  {
   "cell_type": "markdown",
   "id": "be39f40f-a7c5-40ee-9d2f-339904e11096",
   "metadata": {
    "tags": []
   },
   "source": [
    "# Case studies\n",
    "\n",
    "In this section we present some more complex application scenarios for *pygenlib* theby showcasing the API and performance of our library.\n",
    "Some of these case_studies need access to large genomics datasets (e.g., reference genomes) that should be cached locally. Respective download links are provided, file paths need to be updated manually after download."
   ]
  },
  {
   "cell_type": "markdown",
   "id": "d1214f47-2329-4ae5-92ae-0b4736534582",
   "metadata": {
    "tags": []
   },
   "source": [
    "## CTCF motif annotation with bioframe and pygenlib\n",
    "\n",
    "In this example we use pygenlib to instantiate a human Transcriptome (canonical protein-coding transcripts on chromosome 2 only), download an  CTCF motif dataset with bioframe and annotate all transcripts with those motifs. We then report all genes/transcripts with at least one overlapping CTCF motif.\n",
    "This example demonstrates how to use these two libaries together for maximum benefit.\n",
    "\n",
    "We show two scenarios and compare their runtimes.\n",
    "\n",
    "- scenario1\n",
    "    - we instantiate a filtered pygenlib transcriptome\n",
    "    - we then annotate with the JASPAR motifs loaded via bioframe\n",
    "    - for annotation we use a custom callback method which is very flexible.\n",
    "    - finally, we build a pandas dataframe with results containing one row per tx\n",
    "- scenario2\n",
    "    - we read the GFF with bioframe and correct the start coordinate due to the issue described above\n",
    "    - we overlap tx and ctcf sites with the bioframe overlap method (NOTE that we cannot use the inner join as it would change the order of the ctcf sites)\n",
    "    - we create a results dataframe while filtering for the respective transcripts. This is done base on GFF attributes parsed from the 'attributes' column.\n",
    "    \n",
    "Scenario1 is faster (probably due to early filtering) and more flexible in our opinion. \n",
    "In the callback annotation method users have access to genomic locations and all data attributes of transcripts and the overlapping CTCF motifs as well as external data. \n",
    "They are also free to chose the created annotation data structures (here a list of location/score tuples). Together, this enables the implementation of complex annotation scenarios."
   ]
  },
  {
   "cell_type": "code",
   "execution_count": null,
   "id": "87532591-2e87-4eaf-a27c-36f479a26988",
   "metadata": {},
   "outputs": [
    {
     "name": "stderr",
     "output_type": "stream",
     "text": [
      "Building transcriptome (Filtered (1 tags, 0 tids, 1 genetypes, 1 chroms, 0 regions).): 100%|██████████████████████████████████████████████████████████████████████████████████████████████████| 1/1 [00:13<00:00, 13.59s/it]\n",
      "Build interval tree: 100%|███████████████████████████████████████████████████████████████████████████████████████████████████████████████████████████████████████████████████████████| 1244/1244 [00:00<00:00, 36877.95it/s]\n"
     ]
    },
    {
     "data": {
      "text/plain": [
       "'Annotating transcriptome'"
      ]
     },
     "metadata": {},
     "output_type": "display_data"
    },
    {
     "name": "stderr",
     "output_type": "stream",
     "text": [
      "0it [00:00, ?it/s]\n",
      "buf=[0]: : 1208it [00:01, 671.49it/s]                                                                                                                                                                 | 0/1 [00:00<?, ?it/s]\u001b[A\n",
      "100%|█████████████████████████████████████████████████████████████████████████████████████████████████████████████████████████████████████████████████████████████████████████████████████████| 1/1 [00:01<00:00,  1.79s/it]\u001b[A\n",
      "buf=[0]: : 1244it [00:01, 691.84it/s]\n"
     ]
    },
    {
     "data": {
      "image/png": "[encoded data removed]",
      "text/plain": [
       "<Figure size 640x480 with 1 Axes>"
      ]
     },
     "metadata": {},
     "output_type": "display_data"
    }
   ],
   "source": [
    "from pygenlib.utils import parse_gff_attributes # needed to parse GFF attributes in the bioframe scenario\n",
    "\n",
    "# please update paths accordingly\n",
    "gencode_gff='/Volumes/groups/ameres/Niko/ref/genomes/GRCh38/annotation/gencode.v39.annotation.sorted.gff3.gz'\n",
    "jaspar_uri='http://expdata.cmmt.ubc.ca/JASPAR/downloads/UCSC_tracks/2022/hg38/MA0139.1.tsv.gz'\n",
    "\n",
    "# we use this for both approaches and do not time it. Here, itervals are correct\n",
    "ssl._create_default_https_context = ssl._create_unverified_context # to avoid invalid certificate problems\n",
    "ctcf = bioframe.read_table(jaspar_uri, schema='jaspar').query(\"chrom=='chr2' & pval>500\")\n",
    "\n",
    "times, results=Counter(),Counter()\n",
    "with Timer(times, 'hybrid_approach1') as timer:\n",
    "    # Build subset of human transcriptome (canonical protein coding genes on chrom 2)\n",
    "    t=Transcriptome({\n",
    "        'annotation_gff': gencode_gff,\n",
    "        'annotation_flavour': 'gencode',\n",
    "        'transcript_filter': {\n",
    "            'included_tags': ['Ensembl_canonical'],\n",
    "            'included_genetypes': ['protein_coding'],\n",
    "            'included_chrom': ['chr2']\n",
    "        }\n",
    "    })\n",
    "    # custom annotation method\n",
    "    def anno_ctcf(item, label='ctcf_scores'):\n",
    "        \"\"\" \n",
    "            Callback method for annotating transcripts.\n",
    "\n",
    "            loc: genomic interval of the feature that is annotated\n",
    "            anno: the transcriptome anno dict for this feature (so you can also access any other already existing annotations for this feature)\n",
    "            dfrows: list of (loc, row) tuples containing all overlapping locations (loc) and the respective dataframe rows\n",
    "\n",
    "            This method adds 'ctcf' annotations comprising of a list of (location, score) tuples that are overlapping the annotated transcript\n",
    "        \"\"\"\n",
    "        loc, (anno, dfrows) = item\n",
    "        if label not in anno:\n",
    "            anno[label]=[]\n",
    "        for sloc,dfrow in dfrows:\n",
    "            anno[label].append((sloc,dfrow['score'])) # add ctcf motif annotations\n",
    "    # anotate all transcripts using the above defined anno_ctcf method\n",
    "    display(\"Annotating transcriptome\")     \n",
    "    t.annotate(iterators=BioframeIterator(ctcf), \n",
    "               fun_anno=anno_ctcf, \n",
    "               feature_types=['transcript'])\n",
    "    # build dataframe of transcripts with at least one overlapping CTCF peak\n",
    "    results[timer.name]= pd.DataFrame([(tx.parent.gene_name, \n",
    "                                        tx.feature_id,\n",
    "                                        str(tx.location),\n",
    "                                        ','.join([str(l) for l,_ in tx.ctcf_scores]),\n",
    "                                        ','.join([str(s) for _,s in tx.ctcf_scores])) for tx in t.transcript.values() if len(tx.ctcf_scores)>0], \n",
    "                                      columns=['gene','tid','location','ctcf_locations','ctcf_scores'])\n",
    "\n",
    "    \n",
    "with Timer(times, 'hybrid_approach2') as timer:\n",
    "    tx = bioframe.read_table(gencode_gff, schema='gff', comment='#').query(\"chrom=='chr2' & feature=='transcript'\")\n",
    "    tx['start']=tx['start']-1 # we need to correct start coordinates as bioframe coordinates are assumed to be 0-based and no correction is done (see above)\n",
    "    over=bioframe.overlap(tx, ctcf, suffixes=('','_ctcf'), how='left', return_index=True) # NOTE: cannot use inner here as it will change order :/\n",
    "    data={'gene':[], 'tid':[], 'location':[], 'ctcf_locations':[], 'ctcf_scores':[]}\n",
    "    for loc, row in BioframeIterator(over):\n",
    "        info = parse_gff_attributes(row['attributes']) # parse gff attributes from attributes column.\n",
    "        if not info.get('gene_type', 'NA') == 'protein_coding':\n",
    "            continue\n",
    "        if 'Ensembl_canonical' not in info.get('tag','NA'):\n",
    "            continue\n",
    "        if pd.isnull(row['start_ctcf']): # filter tx w/o ctcf site\n",
    "            continue\n",
    "        data['gene'].append(info['gene_name'])\n",
    "        data['tid'].append(info['transcript_id'])\n",
    "        data['location'].append(str(loc))\n",
    "        ctcf_loc = gi(row['chrom_ctcf'], row['start_ctcf']+1, row['end_ctcf'], strand=row['strand_ctcf'])\n",
    "        data['ctcf_locations'].append(str(ctcf_loc)) # coorect coords\n",
    "        data['ctcf_scores'].append(str(int(row['score_ctcf'])))\n",
    "    df = pd.DataFrame.from_dict(data) # create dataframe\n",
    "    df = df.groupby(['gene','tid','location'], sort=False).agg(','.join).reset_index() # colapse rows while keeping sort order\n",
    "    results[timer.name]=df\n",
    "\n",
    "plot_times(f\"Collecting overlapping ctcf motifs\",\n",
    "       times, our_method='hybrid_approach1', show_speed=False)\n",
    "\n",
    "# assert that1'].compare(results['hybrid_approach2']).index)==0 we get same results\n",
    "assert len(results['hybrid_approach"
   ]
  },
  {
   "cell_type": "markdown",
   "id": "d3b4a205-8ab9-49d2-94b1-a5da7237127d",
   "metadata": {
    "tags": []
   },
   "source": [
    "## Read mismatch analysis\n",
    "In this example we are showcasing the ReadIterator's `report_mismatches` feature which reports reference/read mismatches (possibly filtered by minimum basecalling quality). Briefly, we do the following:\n",
    "\n",
    "- iterate over alignment and report mismatches, so returned item.data is a tuple (read, mismatches)\n",
    "- ref/alt alleles are revcomped if read is reversed (strand specific)\n",
    "- count and plot results"
   ]
  },
  {
   "cell_type": "code",
   "execution_count": 44,
   "id": "e02d4acd-b599-43c5-bf30-09ff448aa316",
   "metadata": {
    "tags": []
   },
   "outputs": [
    {
     "data": {
      "image/png": "[encoded data removed]",
      "text/plain": [
       "<Figure size 640x480 with 1 Axes>"
      ]
     },
     "metadata": {},
     "output_type": "display_data"
    }
   ],
   "source": [
    "# Calculate mismatch profile and plot. \n",
    "profile=Counter()\n",
    "for l,(r,mm) in ReadIterator(get_resource('small_example_bam'),report_mismatches=True, min_base_quality=10):\n",
    "    is_rev = not r.is_reverse if r.is_read2 else r.is_reverse # properly deal with PE data\n",
    "    for (readpos, genpos, ref, alt) in mm: # reported mismatches contain position in read, genomic position, reference and alternate allele\n",
    "        if is_rev: # correct for read strand\n",
    "            ref,alt=reverse_complement(ref),reverse_complement(alt)\n",
    "        profile[f\"{ref}/{alt}\"]+=1\n",
    "# plot the data\n",
    "labels, values = zip(*sorted(profile.items()))\n",
    "plt.bar(range(len(labels)), values, 0.8)\n",
    "plt.xticks(range(len(labels)), labels)\n",
    "plt.suptitle(\"Mismatch distribution\")\n",
    "plt.show()"
   ]
  },
  {
   "cell_type": "markdown",
   "id": "8d72dd7c-2259-4ffd-b20e-218add578992",
   "metadata": {},
   "source": [
    "Using this feature, we  can  also easily count mismatches of a certain type (e.g., T/C mismatches as found in a SLAMseq dataset)"
   ]
  },
  {
   "cell_type": "code",
   "execution_count": 45,
   "id": "5cf16172-dda8-4806-8a98-799add99a918",
   "metadata": {
    "tags": []
   },
   "outputs": [
    {
     "data": {
      "text/plain": [
       "'10 reads and their mismatches'"
      ]
     },
     "metadata": {},
     "output_type": "display_data"
    },
    {
     "data": {
      "text/plain": [
       "{('HWI-ST466_135068617:8:1104:18372:89212', False): [(2, 22379204, 'A', 'G')],\n",
       " ('HWI-ST466_135068617:8:2114:8986:54547', False): [(98, 22404991, 'T', 'C')],\n",
       " ('HWI-ST466_135068617:8:2214:18036:44964', False): [(86, 22404981, 'A', 'G')],\n",
       " ('HWI-ST466_135068617:8:2301:15221:88708', True): [(71, 22404968, 'A', 'G')],\n",
       " ('HWI-ST466_135068617:8:1107:12866:40944', False): [(72, 22404971, 'A', 'G')],\n",
       " ('HWI-ST466_135068617:8:2101:20690:68324', False): [(78, 22404984, 'A', 'G')],\n",
       " ('HWI-ST466_135068617:8:1102:11736:16410', True): [(53, 22404966, 'T', 'C')],\n",
       " ('HWI-ST466_135068617:8:1103:20561:79535', True): [(52, 22404966, 'T', 'C')],\n",
       " ('HWI-ST466_135068617:8:2308:21226:40688', False): [(25, 22404940, 'A', 'G')],\n",
       " ('HWI-ST466_135068617:8:1303:15014:31681', False): [(2, 22379925, 'A', 'G')]}"
      ]
     },
     "metadata": {},
     "output_type": "display_data"
    },
    {
     "data": {
      "text/markdown": [
       "---"
      ],
      "text/plain": [
       "<IPython.core.display.Markdown object>"
      ]
     },
     "metadata": {},
     "output_type": "display_data"
    },
    {
     "data": {
      "text/plain": [
       "'Number of reads with more than one T/C conversion'"
      ]
     },
     "metadata": {},
     "output_type": "display_data"
    },
    {
     "data": {
      "text/plain": [
       "25"
      ]
     },
     "metadata": {},
     "output_type": "display_data"
    },
    {
     "data": {
      "text/markdown": [
       "---"
      ],
      "text/plain": [
       "<IPython.core.display.Markdown object>"
      ]
     },
     "metadata": {},
     "output_type": "display_data"
    },
    {
     "data": {
      "text/plain": [
       "'Example read with 2 mismatches:'"
      ]
     },
     "metadata": {},
     "output_type": "display_data"
    },
    {
     "data": {
      "text/plain": [
       "[(2, 22443997, 'A', 'G'), (5, 22444000, 'A', 'G')]"
      ]
     },
     "metadata": {},
     "output_type": "display_data"
    },
    {
     "data": {
      "text/markdown": [
       "---"
      ],
      "text/plain": [
       "<IPython.core.display.Markdown object>"
      ]
     },
     "metadata": {},
     "output_type": "display_data"
    }
   ],
   "source": [
    "# count t/c mismatches per read in a BAM file, filtering for minimum base quality\n",
    "tc_conv={}\n",
    "for l,(r,mm) in ReadIterator(get_resource('small_example_bam'),report_mismatches=True, min_base_quality=10):\n",
    "    if len(mm)>0: # at least 1 mismatch - just to speed things up.\n",
    "        is_rev = not r.is_reverse if r.is_read2 else r.is_reverse\n",
    "        refc = \"A\" if is_rev else \"T\"\n",
    "        altc = \"G\" if is_rev else \"C\"\n",
    "        mm_tc=[(off, pos1, ref, alt) for off, pos1, ref, alt in mm if ref==refc and alt==altc] # get only T/C or A/G mismatches (depending on read strand)\n",
    "        if len(mm_tc) > 0: # at least 1 T/C or A/G mm\n",
    "            tc_conv[r.query_name, not r.is_read2]=mm_tc\n",
    "\n",
    "# show the first 10 reads\n",
    "display('10 reads and their mismatches', {k:tc_conv[k] for k in list(tc_conv.keys())[:10]}, SEP)\n",
    "\n",
    "# count reads with more than one T/C conversion\n",
    "display('Number of reads with more than one T/C conversion', len({k:tc_conv[k] for k in list(tc_conv.keys()) if len(tc_conv[k])>1}),SEP)\n",
    "\n",
    "# show MM of one such read\n",
    "display('Example read with 2 mismatches:', tc_conv['HWI-ST466_135068617:8:2316:4251:54002', False],  SEP)"
   ]
  },
  {
   "cell_type": "markdown",
   "id": "a57dcaf1-0e15-4a3d-9584-4ef246383ed6",
   "metadata": {
    "tags": []
   },
   "source": [
    "Now, we slightly extend this simple example by\n",
    "\n",
    "- counting only T/C (A/G on reverse strand) mismatches per chromosome\n",
    "- count also the number of unconverted (i.e., ref==T) positions\n",
    "- Create a pandas dataframe with these counts and filter rows for minimum couts\n",
    "- Show a filtered dataset of entries with 20-22 convertible positions, the number of converted positions and the number of such reads  found"
   ]
  },
  {
   "cell_type": "code",
   "execution_count": 46,
   "id": "fbd60a4f-ed79-481b-98dc-a2e804cc4313",
   "metadata": {
    "tags": []
   },
   "outputs": [
    {
     "name": "stderr",
     "output_type": "stream",
     "text": [
      " 69%|████████████████████████████████████████████████████████████████████████████████████████████████▉                                           | 21932/31678 [00:00<00:00, 37707.05it/s]\n"
     ]
    },
    {
     "data": {
      "text/html": [
       "<div>\n",
       "<style scoped>\n",
       "    .dataframe tbody tr th:only-of-type {\n",
       "        vertical-align: middle;\n",
       "    }\n",
       "\n",
       "    .dataframe tbody tr th {\n",
       "        vertical-align: top;\n",
       "    }\n",
       "\n",
       "    .dataframe thead th {\n",
       "        text-align: right;\n",
       "    }\n",
       "</style>\n",
       "<table border=\"1\" class=\"dataframe\">\n",
       "  <thead>\n",
       "    <tr style=\"text-align: right;\">\n",
       "      <th></th>\n",
       "      <th>chromosome</th>\n",
       "      <th>ref</th>\n",
       "      <th>alt</th>\n",
       "      <th>convertible</th>\n",
       "      <th>converted</th>\n",
       "      <th>count</th>\n",
       "    </tr>\n",
       "    <tr>\n",
       "      <th>conv</th>\n",
       "      <th></th>\n",
       "      <th></th>\n",
       "      <th></th>\n",
       "      <th></th>\n",
       "      <th></th>\n",
       "      <th></th>\n",
       "    </tr>\n",
       "  </thead>\n",
       "  <tbody>\n",
       "    <tr>\n",
       "      <th>A/G</th>\n",
       "      <td>1</td>\n",
       "      <td>A</td>\n",
       "      <td>G</td>\n",
       "      <td>20</td>\n",
       "      <td>0</td>\n",
       "      <td>41</td>\n",
       "    </tr>\n",
       "  </tbody>\n",
       "</table>\n",
       "</div>"
      ],
      "text/plain": [
       "     chromosome ref alt  convertible  converted  count\n",
       "conv                                                  \n",
       "A/G           1   A   G           20          0     41"
      ]
     },
     "metadata": {},
     "output_type": "display_data"
    },
    {
     "data": {
      "text/html": [
       "<div>\n",
       "<style scoped>\n",
       "    .dataframe tbody tr th:only-of-type {\n",
       "        vertical-align: middle;\n",
       "    }\n",
       "\n",
       "    .dataframe tbody tr th {\n",
       "        vertical-align: top;\n",
       "    }\n",
       "\n",
       "    .dataframe thead th {\n",
       "        text-align: right;\n",
       "    }\n",
       "</style>\n",
       "<table border=\"1\" class=\"dataframe\">\n",
       "  <thead>\n",
       "    <tr style=\"text-align: right;\">\n",
       "      <th></th>\n",
       "      <th>chromosome</th>\n",
       "      <th>ref</th>\n",
       "      <th>alt</th>\n",
       "      <th>convertible</th>\n",
       "      <th>converted</th>\n",
       "      <th>count</th>\n",
       "    </tr>\n",
       "    <tr>\n",
       "      <th>conv</th>\n",
       "      <th></th>\n",
       "      <th></th>\n",
       "      <th></th>\n",
       "      <th></th>\n",
       "      <th></th>\n",
       "      <th></th>\n",
       "    </tr>\n",
       "  </thead>\n",
       "  <tbody>\n",
       "    <tr>\n",
       "      <th>A/G</th>\n",
       "      <td>1</td>\n",
       "      <td>A</td>\n",
       "      <td>G</td>\n",
       "      <td>21</td>\n",
       "      <td>0</td>\n",
       "      <td>37</td>\n",
       "    </tr>\n",
       "  </tbody>\n",
       "</table>\n",
       "</div>"
      ],
      "text/plain": [
       "     chromosome ref alt  convertible  converted  count\n",
       "conv                                                  \n",
       "A/G           1   A   G           21          0     37"
      ]
     },
     "metadata": {},
     "output_type": "display_data"
    },
    {
     "data": {
      "text/html": [
       "<div>\n",
       "<style scoped>\n",
       "    .dataframe tbody tr th:only-of-type {\n",
       "        vertical-align: middle;\n",
       "    }\n",
       "\n",
       "    .dataframe tbody tr th {\n",
       "        vertical-align: top;\n",
       "    }\n",
       "\n",
       "    .dataframe thead th {\n",
       "        text-align: right;\n",
       "    }\n",
       "</style>\n",
       "<table border=\"1\" class=\"dataframe\">\n",
       "  <thead>\n",
       "    <tr style=\"text-align: right;\">\n",
       "      <th></th>\n",
       "      <th>chromosome</th>\n",
       "      <th>ref</th>\n",
       "      <th>alt</th>\n",
       "      <th>convertible</th>\n",
       "      <th>converted</th>\n",
       "      <th>count</th>\n",
       "    </tr>\n",
       "    <tr>\n",
       "      <th>conv</th>\n",
       "      <th></th>\n",
       "      <th></th>\n",
       "      <th></th>\n",
       "      <th></th>\n",
       "      <th></th>\n",
       "      <th></th>\n",
       "    </tr>\n",
       "  </thead>\n",
       "  <tbody>\n",
       "    <tr>\n",
       "      <th>A/G</th>\n",
       "      <td>1</td>\n",
       "      <td>A</td>\n",
       "      <td>G</td>\n",
       "      <td>22</td>\n",
       "      <td>0</td>\n",
       "      <td>50</td>\n",
       "    </tr>\n",
       "    <tr>\n",
       "      <th>A/G</th>\n",
       "      <td>1</td>\n",
       "      <td>A</td>\n",
       "      <td>G</td>\n",
       "      <td>22</td>\n",
       "      <td>1</td>\n",
       "      <td>11</td>\n",
       "    </tr>\n",
       "  </tbody>\n",
       "</table>\n",
       "</div>"
      ],
      "text/plain": [
       "     chromosome ref alt  convertible  converted  count\n",
       "conv                                                  \n",
       "A/G           1   A   G           22          0     50\n",
       "A/G           1   A   G           22          1     11"
      ]
     },
     "metadata": {},
     "output_type": "display_data"
    },
    {
     "data": {
      "text/html": [
       "<div>\n",
       "<style scoped>\n",
       "    .dataframe tbody tr th:only-of-type {\n",
       "        vertical-align: middle;\n",
       "    }\n",
       "\n",
       "    .dataframe tbody tr th {\n",
       "        vertical-align: top;\n",
       "    }\n",
       "\n",
       "    .dataframe thead th {\n",
       "        text-align: right;\n",
       "    }\n",
       "</style>\n",
       "<table border=\"1\" class=\"dataframe\">\n",
       "  <thead>\n",
       "    <tr style=\"text-align: right;\">\n",
       "      <th></th>\n",
       "      <th>chromosome</th>\n",
       "      <th>ref</th>\n",
       "      <th>alt</th>\n",
       "      <th>convertible</th>\n",
       "      <th>converted</th>\n",
       "      <th>count</th>\n",
       "    </tr>\n",
       "    <tr>\n",
       "      <th>conv</th>\n",
       "      <th></th>\n",
       "      <th></th>\n",
       "      <th></th>\n",
       "      <th></th>\n",
       "      <th></th>\n",
       "      <th></th>\n",
       "    </tr>\n",
       "  </thead>\n",
       "  <tbody>\n",
       "    <tr>\n",
       "      <th>T/C</th>\n",
       "      <td>1</td>\n",
       "      <td>T</td>\n",
       "      <td>C</td>\n",
       "      <td>20</td>\n",
       "      <td>0</td>\n",
       "      <td>21</td>\n",
       "    </tr>\n",
       "  </tbody>\n",
       "</table>\n",
       "</div>"
      ],
      "text/plain": [
       "     chromosome ref alt  convertible  converted  count\n",
       "conv                                                  \n",
       "T/C           1   T   C           20          0     21"
      ]
     },
     "metadata": {},
     "output_type": "display_data"
    },
    {
     "data": {
      "text/html": [
       "<div>\n",
       "<style scoped>\n",
       "    .dataframe tbody tr th:only-of-type {\n",
       "        vertical-align: middle;\n",
       "    }\n",
       "\n",
       "    .dataframe tbody tr th {\n",
       "        vertical-align: top;\n",
       "    }\n",
       "\n",
       "    .dataframe thead th {\n",
       "        text-align: right;\n",
       "    }\n",
       "</style>\n",
       "<table border=\"1\" class=\"dataframe\">\n",
       "  <thead>\n",
       "    <tr style=\"text-align: right;\">\n",
       "      <th></th>\n",
       "      <th>chromosome</th>\n",
       "      <th>ref</th>\n",
       "      <th>alt</th>\n",
       "      <th>convertible</th>\n",
       "      <th>converted</th>\n",
       "      <th>count</th>\n",
       "    </tr>\n",
       "    <tr>\n",
       "      <th>conv</th>\n",
       "      <th></th>\n",
       "      <th></th>\n",
       "      <th></th>\n",
       "      <th></th>\n",
       "      <th></th>\n",
       "      <th></th>\n",
       "    </tr>\n",
       "  </thead>\n",
       "  <tbody>\n",
       "    <tr>\n",
       "      <th>T/C</th>\n",
       "      <td>1</td>\n",
       "      <td>T</td>\n",
       "      <td>C</td>\n",
       "      <td>21</td>\n",
       "      <td>0</td>\n",
       "      <td>44</td>\n",
       "    </tr>\n",
       "    <tr>\n",
       "      <th>T/C</th>\n",
       "      <td>1</td>\n",
       "      <td>T</td>\n",
       "      <td>C</td>\n",
       "      <td>21</td>\n",
       "      <td>1</td>\n",
       "      <td>44</td>\n",
       "    </tr>\n",
       "    <tr>\n",
       "      <th>T/C</th>\n",
       "      <td>1</td>\n",
       "      <td>T</td>\n",
       "      <td>C</td>\n",
       "      <td>21</td>\n",
       "      <td>2</td>\n",
       "      <td>14</td>\n",
       "    </tr>\n",
       "  </tbody>\n",
       "</table>\n",
       "</div>"
      ],
      "text/plain": [
       "     chromosome ref alt  convertible  converted  count\n",
       "conv                                                  \n",
       "T/C           1   T   C           21          0     44\n",
       "T/C           1   T   C           21          1     44\n",
       "T/C           1   T   C           21          2     14"
      ]
     },
     "metadata": {},
     "output_type": "display_data"
    },
    {
     "data": {
      "text/html": [
       "<div>\n",
       "<style scoped>\n",
       "    .dataframe tbody tr th:only-of-type {\n",
       "        vertical-align: middle;\n",
       "    }\n",
       "\n",
       "    .dataframe tbody tr th {\n",
       "        vertical-align: top;\n",
       "    }\n",
       "\n",
       "    .dataframe thead th {\n",
       "        text-align: right;\n",
       "    }\n",
       "</style>\n",
       "<table border=\"1\" class=\"dataframe\">\n",
       "  <thead>\n",
       "    <tr style=\"text-align: right;\">\n",
       "      <th></th>\n",
       "      <th>chromosome</th>\n",
       "      <th>ref</th>\n",
       "      <th>alt</th>\n",
       "      <th>convertible</th>\n",
       "      <th>converted</th>\n",
       "      <th>count</th>\n",
       "    </tr>\n",
       "    <tr>\n",
       "      <th>conv</th>\n",
       "      <th></th>\n",
       "      <th></th>\n",
       "      <th></th>\n",
       "      <th></th>\n",
       "      <th></th>\n",
       "      <th></th>\n",
       "    </tr>\n",
       "  </thead>\n",
       "  <tbody>\n",
       "    <tr>\n",
       "      <th>T/C</th>\n",
       "      <td>1</td>\n",
       "      <td>T</td>\n",
       "      <td>C</td>\n",
       "      <td>22</td>\n",
       "      <td>0</td>\n",
       "      <td>58</td>\n",
       "    </tr>\n",
       "    <tr>\n",
       "      <th>T/C</th>\n",
       "      <td>1</td>\n",
       "      <td>T</td>\n",
       "      <td>C</td>\n",
       "      <td>22</td>\n",
       "      <td>1</td>\n",
       "      <td>41</td>\n",
       "    </tr>\n",
       "  </tbody>\n",
       "</table>\n",
       "</div>"
      ],
      "text/plain": [
       "     chromosome ref alt  convertible  converted  count\n",
       "conv                                                  \n",
       "T/C           1   T   C           22          0     58\n",
       "T/C           1   T   C           22          1     41"
      ]
     },
     "metadata": {},
     "output_type": "display_data"
    }
   ],
   "source": [
    "# Count T/C (A/G) mismatches per chromosome.\n",
    "bam_file=get_resource('small_example_bam')\n",
    "profile=Counter()\n",
    "for l,(r,mm) in tqdm(ReadIterator(bam_file,report_mismatches=True, min_base_quality=10), total=sum([x.total for x in open_file_obj(bam_file).get_index_statistics()])):\n",
    "    is_rev = not r.is_reverse if r.is_read2 else r.is_reverse\n",
    "    refc = \"A\" if is_rev else \"T\"\n",
    "    altc = \"G\" if is_rev else \"C\"\n",
    "    for (readpos, genpos, ref, alt) in mm:\n",
    "        n_ref = r.query_sequence.count(refc)\n",
    "        mm_tc=[(off, pos1, ref, alt) for off, pos1, ref, alt in mm if ref==refc and alt==altc]\n",
    "        profile[r.reference_name,refc,altc,n_ref,len(mm_tc)]+=1\n",
    "# filter for min number of counts\n",
    "profile=pd.DataFrame([list(k)+[v] for k,v in profile.items()], columns=['chromosome','ref','alt', 'convertible','converted', 'count'])\n",
    "profile=profile[profile['count']>10]\n",
    "\n",
    "# show filtered data, grouped by strand and convertible positions\n",
    "fil=profile.query('20 <= convertible <= 22').sort_values(['convertible', 'converted'])\n",
    "fil['conv']=fil['ref']+\"/\"+fil['alt']\n",
    "grouped=fil.groupby(['conv', 'convertible'])\n",
    "for i, key in enumerate(grouped.groups.keys()):\n",
    "    dat=grouped.get_group(key).set_index('conv')\n",
    "    display(dat)"
   ]
  },
  {
   "cell_type": "markdown",
   "id": "a08dbfa5-8b60-4b9d-b0e9-2d1d064334ae",
   "metadata": {},
   "source": [
    "Please note that such an analysis can easily be combined with the transcriptome annotation scenario shown below, e.g., to count converted reads per transcript/exon."
   ]
  },
  {
   "cell_type": "markdown",
   "id": "5745e433-14e2-4898-8628-47139602bc83",
   "metadata": {
    "tags": []
   },
   "source": [
    "## shRNA guide example\n",
    "\n",
    "In this small case study we will do the following:\n",
    "    \n",
    "- create a subset of the human transcriptome and load the gene sequences\n",
    "- create a random list of shRNA guide sequences (in a real scenario those would, e.g., predicted by some external tool)\n",
    "- create a pandas dataframe containing \n",
    "    - the guide sequence \n",
    "    - a list of transcript ids that contain this guide (exact match) in their spliced RNA sequence\n",
    "    - a list of gene ids for these transcripts\n",
    "- filter guides that are not found or that target multiple genes\n",
    "- check for untargeted transcripts of the targeted genes\n",
    "\n",
    "Please note that the code in this case study is not optimized and is more explicit than necessary in order to showcase the API and make the example easier to understand. \n",
    "\n",
    "*Required resources:*\n",
    "- Human genome FASTA (GRCh38), accessible at https://www.ncbi.nlm.nih.gov/datasets/genome/GCF_000001405.26/\n",
    "- Full gencode annotation gff3 file (sorted), available at https://www.gencodegenes.org/human/"
   ]
  },
  {
   "cell_type": "code",
   "execution_count": 53,
   "id": "1ee67107-39b1-4b12-8334-8064696c98d9",
   "metadata": {},
   "outputs": [
    {
     "name": "stdout",
     "output_type": "stream",
     "text": [
      "WARN: Input list have differing order of shared elements ['chr1', 'chr10', 'chr11', 'chr12', 'chr13', 'chr14', 'chr15', 'chr16', 'chr17', 'chr18', 'chr19', 'chr2', 'chr20', 'chr21', 'chr22', 'chr3', 'chr4', 'chr5', 'chr6', 'chr7', 'chr8', 'chr9', 'chrM', 'chrX', 'chrY']\n"
     ]
    },
    {
     "name": "stderr",
     "output_type": "stream",
     "text": [
      "Building transcriptome (Filtered (0 tags, 0 tids, 0 genetypes, 1 chroms, 0 regions).): 100%|████████████████████████████████████████████████████████████████| 1/1 [00:04<00:00,  4.70s/it]\n",
      "Load sequences: 100%|█████████████████████████████████████████████████████████████████████████████████████████████████████████████████████████████████| 1480/1480 [00:21<00:00, 70.19it/s]\n",
      "Build interval tree: 100%|█████████████████████████████████████████████████████████████████████████████████████████████████████████████████████████| 1480/1480 [00:00<00:00, 34400.12it/s]\n"
     ]
    },
    {
     "data": {
      "text/plain": [
       "Transcriptome with 1480 genes and 5822 tx (+seq)"
      ]
     },
     "metadata": {},
     "output_type": "display_data"
    }
   ],
   "source": [
    "# please update paths accordingly\n",
    "grch38_fasta='/Volumes/groups/ameres/Niko/ref/genomes/GRCh38/GCA_000001405.15_GRCh38_full_plus_hs38d1_analysis_set.fna'\n",
    "gencode_gff='/Volumes/groups/ameres/Niko/ref/genomes/GRCh38/annotation/gencode.v39.annotation.sorted.gff3.gz'\n",
    "\n",
    "# Build subset of human transcriptome (chr20)\n",
    "config={\n",
    "    'genome_fa': grch38_fasta,\n",
    "    'annotation_gff': gencode_gff,\n",
    "    'annotation_flavour': 'gencode',\n",
    "    'transcript_filter': {\n",
    "        'included_chrom': ['chr20']\n",
    "    },\n",
    "    'copied_fields': ['gene_type'],\n",
    "    'load_sequences': True\n",
    "}\n",
    "t=Transcriptome(config)\n",
    "display(t)"
   ]
  },
  {
   "cell_type": "code",
   "execution_count": 54,
   "id": "95f8e6a4-cdf7-4063-ac0c-0b61e7294730",
   "metadata": {},
   "outputs": [
    {
     "name": "stdout",
     "output_type": "stream",
     "text": [
      "['AATGAAATTA', 'TTCTCACTGA', 'AAAACTCAGT', 'AATCATAATG', 'TATTACACCA', 'ATTAGAATAA', 'TAGGTGTGTA', 'CGTATCTTAA', 'CATAGAAATT', 'CAATTTACGC', 'GAAATCGTTC', 'GCGTAAAAAA', 'TACTATAATA', 'TATTCTACAA', 'TTGAGTTCAG', 'TCTTCCCAGC', 'AAAAAGGCAG', 'TTGACACCTC', 'CCTCACACTC', 'TAACACGGTT']\n"
     ]
    }
   ],
   "source": [
    "# create a random set of shRNA guides of length 10. In a real scenario those would, e.g., be predicted by some external tool.\n",
    "# Here, we use rnd_seq, a convenience pygenlib method, to create 3 random guide sequences with low GC%. \n",
    "random.seed(0) # if you change this, different random sequences will be created\n",
    "guides=rnd_seq(10, 'GC'* 30 + 'AT' * 70, 20) \n",
    "print(guides)"
   ]
  },
  {
   "cell_type": "code",
   "execution_count": 55,
   "id": "a8798d75-d610-4d09-b807-b8a67d831e7a",
   "metadata": {},
   "outputs": [
    {
     "name": "stderr",
     "output_type": "stream",
     "text": [
      "analyzing guide: 100%|████████████████████████████████████████████████████████████████████████████████████████████████████████████████████████████████████| 20/20 [00:03<00:00,  6.45it/s]\n"
     ]
    },
    {
     "data": {
      "text/html": [
       "<div>\n",
       "<style scoped>\n",
       "    .dataframe tbody tr th:only-of-type {\n",
       "        vertical-align: middle;\n",
       "    }\n",
       "\n",
       "    .dataframe tbody tr th {\n",
       "        vertical-align: top;\n",
       "    }\n",
       "\n",
       "    .dataframe thead th {\n",
       "        text-align: right;\n",
       "    }\n",
       "</style>\n",
       "<table border=\"1\" class=\"dataframe\">\n",
       "  <thead>\n",
       "    <tr style=\"text-align: right;\">\n",
       "      <th></th>\n",
       "      <th>guide_seq</th>\n",
       "      <th>gids</th>\n",
       "      <th>n_gids</th>\n",
       "      <th>tids</th>\n",
       "    </tr>\n",
       "  </thead>\n",
       "  <tbody>\n",
       "    <tr>\n",
       "      <th>0</th>\n",
       "      <td>AATGAAATTA</td>\n",
       "      <td>ENSG00000289072.1,ENSG00000089048.15,ENSG00000...</td>\n",
       "      <td>9</td>\n",
       "      <td>ENST00000266069.5,ENST00000688325.1,ENST000006...</td>\n",
       "    </tr>\n",
       "    <tr>\n",
       "      <th>1</th>\n",
       "      <td>TTCTCACTGA</td>\n",
       "      <td>ENSG00000101298.15,ENSG00000286087.1,ENSG00000...</td>\n",
       "      <td>3</td>\n",
       "      <td>ENST00000381873.7,ENST00000651029.1,ENST000006...</td>\n",
       "    </tr>\n",
       "    <tr>\n",
       "      <th>2</th>\n",
       "      <td>AAAACTCAGT</td>\n",
       "      <td>ENSG00000196074.13,ENSG00000101109.12,ENSG0000...</td>\n",
       "      <td>3</td>\n",
       "      <td>ENST00000377306.5,ENST00000451767.6,ENST000004...</td>\n",
       "    </tr>\n",
       "    <tr>\n",
       "      <th>3</th>\n",
       "      <td>AATCATAATG</td>\n",
       "      <td>ENSG00000054796.13,ENSG00000276627.3</td>\n",
       "      <td>2</td>\n",
       "      <td>ENST00000494972.1,ENST00000666054.1,ENST000003...</td>\n",
       "    </tr>\n",
       "    <tr>\n",
       "      <th>4</th>\n",
       "      <td>TATTACACCA</td>\n",
       "      <td>ENSG00000088930.8</td>\n",
       "      <td>1</td>\n",
       "      <td>ENST00000377191.5</td>\n",
       "    </tr>\n",
       "    <tr>\n",
       "      <th>5</th>\n",
       "      <td>ATTAGAATAA</td>\n",
       "      <td>ENSG00000101126.18</td>\n",
       "      <td>1</td>\n",
       "      <td>ENST00000371602.9</td>\n",
       "    </tr>\n",
       "    <tr>\n",
       "      <th>6</th>\n",
       "      <td>TAGGTGTGTA</td>\n",
       "      <td>ENSG00000228293.1,ENSG00000125868.16</td>\n",
       "      <td>2</td>\n",
       "      <td>ENST00000246069.12,ENST00000418739.1</td>\n",
       "    </tr>\n",
       "    <tr>\n",
       "      <th>7</th>\n",
       "      <td>CGTATCTTAA</td>\n",
       "      <td></td>\n",
       "      <td>0</td>\n",
       "      <td></td>\n",
       "    </tr>\n",
       "  </tbody>\n",
       "</table>\n",
       "</div>"
      ],
      "text/plain": [
       "    guide_seq                                               gids  n_gids   \n",
       "0  AATGAAATTA  ENSG00000289072.1,ENSG00000089048.15,ENSG00000...       9  \\\n",
       "1  TTCTCACTGA  ENSG00000101298.15,ENSG00000286087.1,ENSG00000...       3   \n",
       "2  AAAACTCAGT  ENSG00000196074.13,ENSG00000101109.12,ENSG0000...       3   \n",
       "3  AATCATAATG               ENSG00000054796.13,ENSG00000276627.3       2   \n",
       "4  TATTACACCA                                  ENSG00000088930.8       1   \n",
       "5  ATTAGAATAA                                 ENSG00000101126.18       1   \n",
       "6  TAGGTGTGTA               ENSG00000228293.1,ENSG00000125868.16       2   \n",
       "7  CGTATCTTAA                                                          0   \n",
       "\n",
       "                                                tids  \n",
       "0  ENST00000266069.5,ENST00000688325.1,ENST000006...  \n",
       "1  ENST00000381873.7,ENST00000651029.1,ENST000006...  \n",
       "2  ENST00000377306.5,ENST00000451767.6,ENST000004...  \n",
       "3  ENST00000494972.1,ENST00000666054.1,ENST000003...  \n",
       "4                                  ENST00000377191.5  \n",
       "5                                  ENST00000371602.9  \n",
       "6               ENST00000246069.12,ENST00000418739.1  \n",
       "7                                                     "
      ]
     },
     "metadata": {},
     "output_type": "display_data"
    }
   ],
   "source": [
    "# now we search for transcripts that contain respective kmers in their spliced RNA seq. \n",
    "# To make this fast, we first search for the kmer in the respective gene sequence (candidate_genes) and for those\n",
    "# check all spliced tx sequences (overlapping_tx).\n",
    "# Finally, we are interested whether some guides bind RNAs from multiple genes and create a set of gene ids for the overlapping genes (overlapping_genes).\n",
    "# We combine the results in a pandas dataframe\n",
    "d=[]\n",
    "for guide in tqdm(guides, total=len(guides), desc='analyzing guide'):\n",
    "    candidate_genes={g for g in t.genes if guide in g.sequence}\n",
    "    overlapping_tx={tx for g in candidate_genes for tx in g.transcript if guide in tx.spliced_sequence}\n",
    "    overlapping_genes={tx.parent.feature_id for tx in overlapping_tx}\n",
    "    d.append(\n",
    "        {\n",
    "            'guide_seq': guide,\n",
    "            'gids': ','.join(overlapping_genes),\n",
    "            'n_gids': len(overlapping_genes),\n",
    "            'tids': ','.join([tx.feature_id for tx in overlapping_tx])\n",
    "        }\n",
    "    )\n",
    "df=pd.DataFrame(d)\n",
    "display(df.head(8))"
   ]
  },
  {
   "cell_type": "code",
   "execution_count": 56,
   "id": "34b43c19-b7b0-4463-8f90-5511ff0ef2c5",
   "metadata": {},
   "outputs": [
    {
     "data": {
      "text/html": [
       "<div>\n",
       "<style scoped>\n",
       "    .dataframe tbody tr th:only-of-type {\n",
       "        vertical-align: middle;\n",
       "    }\n",
       "\n",
       "    .dataframe tbody tr th {\n",
       "        vertical-align: top;\n",
       "    }\n",
       "\n",
       "    .dataframe thead th {\n",
       "        text-align: right;\n",
       "    }\n",
       "</style>\n",
       "<table border=\"1\" class=\"dataframe\">\n",
       "  <thead>\n",
       "    <tr style=\"text-align: right;\">\n",
       "      <th></th>\n",
       "      <th>guide_seq</th>\n",
       "      <th>gids</th>\n",
       "      <th>n_gids</th>\n",
       "      <th>tids</th>\n",
       "    </tr>\n",
       "  </thead>\n",
       "  <tbody>\n",
       "    <tr>\n",
       "      <th>4</th>\n",
       "      <td>TATTACACCA</td>\n",
       "      <td>ENSG00000088930.8</td>\n",
       "      <td>1</td>\n",
       "      <td>ENST00000377191.5</td>\n",
       "    </tr>\n",
       "    <tr>\n",
       "      <th>5</th>\n",
       "      <td>ATTAGAATAA</td>\n",
       "      <td>ENSG00000101126.18</td>\n",
       "      <td>1</td>\n",
       "      <td>ENST00000371602.9</td>\n",
       "    </tr>\n",
       "    <tr>\n",
       "      <th>10</th>\n",
       "      <td>GAAATCGTTC</td>\n",
       "      <td>ENSG00000149609.6</td>\n",
       "      <td>1</td>\n",
       "      <td>ENST00000375222.4</td>\n",
       "    </tr>\n",
       "    <tr>\n",
       "      <th>12</th>\n",
       "      <td>TACTATAATA</td>\n",
       "      <td>ENSG00000088812.18</td>\n",
       "      <td>1</td>\n",
       "      <td>ENST00000262919.10</td>\n",
       "    </tr>\n",
       "    <tr>\n",
       "      <th>14</th>\n",
       "      <td>TTGAGTTCAG</td>\n",
       "      <td>ENSG00000172264.18</td>\n",
       "      <td>1</td>\n",
       "      <td>ENST00000490428.5</td>\n",
       "    </tr>\n",
       "  </tbody>\n",
       "</table>\n",
       "</div>"
      ],
      "text/plain": [
       "     guide_seq                gids  n_gids                tids\n",
       "4   TATTACACCA   ENSG00000088930.8       1   ENST00000377191.5\n",
       "5   ATTAGAATAA  ENSG00000101126.18       1   ENST00000371602.9\n",
       "10  GAAATCGTTC   ENSG00000149609.6       1   ENST00000375222.4\n",
       "12  TACTATAATA  ENSG00000088812.18       1  ENST00000262919.10\n",
       "14  TTGAGTTCAG  ENSG00000172264.18       1   ENST00000490428.5"
      ]
     },
     "metadata": {},
     "output_type": "display_data"
    }
   ],
   "source": [
    "# In the DF above, we can see that some guides (e.g., CGTATCTTAA) are not found (no gids) while some target multiple \n",
    "# genes (e.g., AATGAAATTA). This is expected here as we generate short (10bp) sequences with low GC%/sequence complexity\n",
    "# that are likely found in many genomic locations. In a real scenario, one would expect few such cases for guides predicted by SOTA tools.\n",
    "# We continue the analysis by filtering those bad guides...\n",
    "fil=df[df['n_gids']==1].copy() \n",
    "display(fil)"
   ]
  },
  {
   "cell_type": "code",
   "execution_count": 57,
   "id": "220bd4be-a17a-4780-b7f9-8648bda4a837",
   "metadata": {},
   "outputs": [
    {
     "data": {
      "text/html": [
       "<div>\n",
       "<style scoped>\n",
       "    .dataframe tbody tr th:only-of-type {\n",
       "        vertical-align: middle;\n",
       "    }\n",
       "\n",
       "    .dataframe tbody tr th {\n",
       "        vertical-align: top;\n",
       "    }\n",
       "\n",
       "    .dataframe thead th {\n",
       "        text-align: right;\n",
       "    }\n",
       "</style>\n",
       "<table border=\"1\" class=\"dataframe\">\n",
       "  <thead>\n",
       "    <tr style=\"text-align: right;\">\n",
       "      <th></th>\n",
       "      <th>guide_seq</th>\n",
       "      <th>gids</th>\n",
       "      <th>n_gids</th>\n",
       "      <th>tids</th>\n",
       "      <th>missed_tx</th>\n",
       "      <th>gene_name</th>\n",
       "    </tr>\n",
       "  </thead>\n",
       "  <tbody>\n",
       "    <tr>\n",
       "      <th>4</th>\n",
       "      <td>TATTACACCA</td>\n",
       "      <td>ENSG00000088930.8</td>\n",
       "      <td>1</td>\n",
       "      <td>ENST00000377191.5</td>\n",
       "      <td>0/1</td>\n",
       "      <td>XRN2</td>\n",
       "    </tr>\n",
       "    <tr>\n",
       "      <th>5</th>\n",
       "      <td>ATTAGAATAA</td>\n",
       "      <td>ENSG00000101126.18</td>\n",
       "      <td>1</td>\n",
       "      <td>ENST00000371602.9</td>\n",
       "      <td>8/9</td>\n",
       "      <td>ADNP</td>\n",
       "    </tr>\n",
       "    <tr>\n",
       "      <th>10</th>\n",
       "      <td>GAAATCGTTC</td>\n",
       "      <td>ENSG00000149609.6</td>\n",
       "      <td>1</td>\n",
       "      <td>ENST00000375222.4</td>\n",
       "      <td>1/2</td>\n",
       "      <td>C20orf144</td>\n",
       "    </tr>\n",
       "    <tr>\n",
       "      <th>12</th>\n",
       "      <td>TACTATAATA</td>\n",
       "      <td>ENSG00000088812.18</td>\n",
       "      <td>1</td>\n",
       "      <td>ENST00000262919.10</td>\n",
       "      <td>1/2</td>\n",
       "      <td>ATRN</td>\n",
       "    </tr>\n",
       "    <tr>\n",
       "      <th>14</th>\n",
       "      <td>TTGAGTTCAG</td>\n",
       "      <td>ENSG00000172264.18</td>\n",
       "      <td>1</td>\n",
       "      <td>ENST00000490428.5</td>\n",
       "      <td>15/16</td>\n",
       "      <td>MACROD2</td>\n",
       "    </tr>\n",
       "  </tbody>\n",
       "</table>\n",
       "</div>"
      ],
      "text/plain": [
       "     guide_seq                gids  n_gids                tids missed_tx   \n",
       "4   TATTACACCA   ENSG00000088930.8       1   ENST00000377191.5       0/1  \\\n",
       "5   ATTAGAATAA  ENSG00000101126.18       1   ENST00000371602.9       8/9   \n",
       "10  GAAATCGTTC   ENSG00000149609.6       1   ENST00000375222.4       1/2   \n",
       "12  TACTATAATA  ENSG00000088812.18       1  ENST00000262919.10       1/2   \n",
       "14  TTGAGTTCAG  ENSG00000172264.18       1   ENST00000490428.5     15/16   \n",
       "\n",
       "    gene_name  \n",
       "4        XRN2  \n",
       "5        ADNP  \n",
       "10  C20orf144  \n",
       "12       ATRN  \n",
       "14    MACROD2  "
      ]
     },
     "metadata": {},
     "output_type": "display_data"
    }
   ],
   "source": [
    "# ...and now we want to check for the remaining ones whether all tx of the respective genes are targeted.\n",
    "# For this, we query the transcriptome for sets of transcript ids annotated for a given gene and use the pygenlib cmp_sets() method \n",
    "# to get shared and unique items when comparing to the set of transcript ids we found to be targeted by each guide.\n",
    "# Finally, we add the number of missed (untargeted) transcripts and the respective gene names to the dataframe.\n",
    "missed_tx, gene_names=[],[]\n",
    "for guide, gid, tids in zip(fil['guide_seq'], fil['gids'], fil['tids']):\n",
    "    all_tid={tx.feature_id for tx in t.gene[gid].transcript}\n",
    "    found_tids=set(tids.split(','))\n",
    "    s,m,w=cmp_sets(all_tid, found_tids)\n",
    "    missed_tx.append(f\"{len(m)}/{len(all_tid)}\")\n",
    "    gene_names.append(t.gene[gid].gene_name)\n",
    "    assert len(w)==0, \"We should not find a tx that was not found before\"\n",
    "fil['missed_tx']=missed_tx\n",
    "fil['gene_name']=gene_names\n",
    "display(fil)"
   ]
  },
  {
   "cell_type": "markdown",
   "id": "a7867bcf-6d8c-4c55-a90f-2468acb28395",
   "metadata": {},
   "source": [
    "We can see that we are not targetting all annotated transcripts except for XRN2 (which has only 1 tx).\n",
    "In a real scenario, we would possssibly do such a check only on tx that are actually expressed in the respective\n",
    "cells. "
   ]
  },
  {
   "cell_type": "markdown",
   "id": "614ac49e-b6f4-4ce4-bcb9-d749d56dfa23",
   "metadata": {
    "tags": []
   },
   "source": [
    "## Transcriptome annotation\n",
    "\n",
    "In this more complex example we will filter and visualize genomic features by read mappability \n",
    "\n",
    "Briefly, we will do the following:\n",
    "- build a transcriptome of canonical protein coding genes (chr20) from gencode annotations\n",
    "- annotate all gene annotations with a large (3.1G) bedgraph file containing umap mappability values.\n",
    "- store the results in a pickle file so we can quickly reload later\n",
    "- Query some of the data and demonstrated the slice_from_parent() functionality\n",
    "- Visualize some of the data with matplotlib\n",
    "\n",
    "*Required resources:*\n",
    "- Human genome FASTA (GRCh38), accessible at https://www.ncbi.nlm.nih.gov/datasets/genome/GCF_000001405.26/\n",
    "- Full gencode annotation gff3 file (sorted), available at https://www.gencodegenes.org/human/\n",
    "- Full GRCh38.k24.umap mappability bedgraph file, available at https://bismap.hoffmanlab.org/"
   ]
  },
  {
   "cell_type": "code",
   "execution_count": 52,
   "id": "c622eac2-5969-4568-a89b-3322f4920624",
   "metadata": {
    "tags": []
   },
   "outputs": [
    {
     "name": "stdout",
     "output_type": "stream",
     "text": [
      "WARN: Input list have differing order of shared elements ['chr1', 'chr10', 'chr11', 'chr12', 'chr13', 'chr14', 'chr15', 'chr16', 'chr17', 'chr18', 'chr19', 'chr2', 'chr20', 'chr21', 'chr22', 'chr3', 'chr4', 'chr5', 'chr6', 'chr7', 'chr8', 'chr9', 'chrM', 'chrX', 'chrY']\n"
     ]
    },
    {
     "name": "stderr",
     "output_type": "stream",
     "text": [
      "Building transcriptome (Filtered (1 tags, 0 tids, 1 genetypes, 1 chroms, 0 regions).): 100%|████████████████████████████████████████████████████████████████| 1/1 [00:04<00:00,  4.45s/it]\n",
      "Build interval tree: 100%|███████████████████████████████████████████████████████████████████████████████████████████████████████████████████████████| 546/546 [00:00<00:00, 45990.36it/s]\n"
     ]
    },
    {
     "data": {
      "text/plain": [
       "Transcriptome with 546 genes and 546 tx"
      ]
     },
     "metadata": {},
     "output_type": "display_data"
    }
   ],
   "source": [
    "# please update paths accordingly\n",
    "grch38_fasta='/Volumes/groups/ameres/Niko/ref/genomes/GRCh38/GCA_000001405.15_GRCh38_full_plus_hs38d1_analysis_set.fna'\n",
    "gencode_gff='/Volumes/groups/ameres/Niko/ref/genomes/GRCh38/annotation/gencode.v39.annotation.sorted.gff3.gz'\n",
    "bedgraph_file='/Volumes/groups/ameres/Niko/ref/genomes/GRCh38/mappability/GRCh38.k24.umap.bedgraph.gz'\n",
    "\n",
    "config={\n",
    "    'genome_fa': grch38_fasta,\n",
    "    'annotation_gff': gencode_gff,\n",
    "    'annotation_flavour': 'gencode',\n",
    "    'transcript_filter': {\n",
    "        'included_tags': ['Ensembl_canonical'],\n",
    "        'included_genetypes': ['protein_coding'],\n",
    "        'included_chrom': ['chr20']\n",
    "    },\n",
    "    'copied_fields': ['gene_type'],\n",
    "    'drop_empty_genes': False,\n",
    "    'load_sequences': False\n",
    "}\n",
    "# Build subset of human transcriptome (all protein coding genes, Ensembl canonical only), takes ~2min on CLIP\n",
    "t=Transcriptome(config)\n",
    "display(t)"
   ]
  },
  {
   "cell_type": "markdown",
   "id": "2ae48c44-ac41-4b22-9a54-252bf6a52707",
   "metadata": {},
   "source": [
    "Now, we annotate all genes with a numpy array containing the respective mappability values. \n",
    "This enables efficient slicing of child-intervals (e.g., transcripts, exons).\n"
   ]
  },
  {
   "cell_type": "code",
   "execution_count": 53,
   "id": "824d5e17-9441-48d5-ba74-3005eb77ed22",
   "metadata": {
    "tags": []
   },
   "outputs": [
    {
     "name": "stdout",
     "output_type": "stream",
     "text": [
      "Loading annotations from /Volumes/groups/ameres/Niko/ref/genomes/GRCh38/annotation/gencode.v39.k24.umap.genes.chr20.pk\n",
      "Memory size of the create numpy arrays: 0.238229856 GB\n"
     ]
    }
   ],
   "source": [
    "#%%timeit -n 1 -r 1\n",
    "import numpy as np\n",
    "# Example code that calculates a numpy array containing mappability values for each genomic position of the passed genomic feature (anno).\n",
    "# The respective values are then saved (pickled) to the given output file\n",
    "# if the output file already exists, values will be loaded from there istead of recalculating them.\n",
    "\n",
    "def anno_scores(item, label='mappability'):\n",
    "    \"\"\" \n",
    "        Callback method for creating the mappability array by slicing all overlapping intervals.\n",
    "        loc: genomic interval of the feature that is annotated\n",
    "        anno: the transcriptome anno dict for this feature (so you can also access any other already existing annotations for this feature)\n",
    "        scores: list of (loc, score) tuples containing all overlapping locations (loc) and their scores as read from the bedgraph file.\n",
    "    \"\"\"\n",
    "    loc, (anno, scores) = item\n",
    "    anno[label]=np.zeros(len(loc)) # create empty array\n",
    "    for sloc,score in scores:\n",
    "        anno[label][range(max(loc.start, sloc.start)-loc.start, min(loc.end,sloc.end)+1-loc.start)]=score # update scores\n",
    "\n",
    "# to speed things up, we cache the transcriptome annotations in a pickle file and reload from there if this file exists\n",
    "pkfile='/Volumes/groups/ameres/Niko/ref/genomes/GRCh38/annotation/gencode.v39.k24.umap.genes.chr20.pk' \n",
    "\n",
    "\n",
    "if os.path.isfile(pkfile): \n",
    "    t.load_annotations(pkfile) # load from pickle file if existing; use update=True to not lose any previously annotated values \n",
    "else:\n",
    "    roi=gi.from_str('chr20') # annotate all; here you could provide a genomic interval to restrict what features should be annotated\n",
    "    #annotate genes with mappability scores\n",
    "    t.annotate(iterators=BedGraphIterator(bedgraph_file, region=roi), \n",
    "               region=roi,\n",
    "               fun_anno=anno_scores,\n",
    "               feature_types=['gene'])\n",
    "    t.save_annotations(pkfile, keys={'mappability'}) # save only the mappability values to disk.\n",
    "\n",
    "# show an estimate of the memory consumption (for the whole genome this is ~10GB so it might make sense \n",
    "# to calculate mean/median mappability per annotation instead of keeping all values)\n",
    "print(f\"Memory size of the create numpy arrays: {sum([a['mappability'].nbytes for a in t.anno.values() if 'mappability' in a]) / (1000*1000*1000) } GB\")"
   ]
  },
  {
   "cell_type": "markdown",
   "id": "abed0369-f95c-4873-b0de-ca0afacf67ad",
   "metadata": {
    "tags": []
   },
   "source": [
    "Now, let's query some data"
   ]
  },
  {
   "cell_type": "code",
   "execution_count": 54,
   "id": "818f8f7c-6d39-435a-b685-dbcff3a1c4b5",
   "metadata": {
    "tags": []
   },
   "outputs": [
    {
     "data": {
      "text/plain": [
       "array([1.   , 1.   , 1.   , ..., 0.417, 0.458, 0.5  ])"
      ]
     },
     "metadata": {},
     "output_type": "display_data"
    },
    {
     "data": {
      "text/plain": [
       "None"
      ]
     },
     "metadata": {},
     "output_type": "display_data"
    },
    {
     "data": {
      "text/plain": [
       "[]"
      ]
     },
     "metadata": {},
     "output_type": "display_data"
    },
    {
     "data": {
      "text/plain": [
       "array([1., 1., 1., 1., 1., 1., 1., 1., 1., 1., 1., 1., 1., 1., 1., 1., 1.,\n",
       "       1., 1., 1., 1., 1., 1., 1., 1., 1., 1., 1., 1., 1., 1., 1., 1., 1.,\n",
       "       1., 1., 1., 1., 1., 1., 1., 1., 1., 1., 1., 1., 1., 1., 1., 1., 1.,\n",
       "       1., 1., 1., 1., 1., 1., 1., 1., 1., 1., 1., 1., 1., 1., 1., 1., 1.,\n",
       "       1., 1., 1., 1., 1., 1., 1., 1., 1., 1., 1., 1., 1., 1., 1., 1., 1.,\n",
       "       1., 1., 1., 1., 1., 1., 1., 1., 1., 1., 1., 1., 1., 1., 1., 1., 1.,\n",
       "       1., 1., 1., 1., 1., 1., 1., 1., 1., 1., 1.])"
      ]
     },
     "metadata": {},
     "output_type": "display_data"
    }
   ],
   "source": [
    "display(t.genes[5].mappability) # direct access to array of mappability values. Safer to user .get('attr', default-value)\n",
    "display(t.genes[5].transcript[0].get('mappability')) # no values assigned to tx: returns None\n",
    "display(t.genes[5].transcript[0].get('mappability', default_value=[])) # no values assigned to tx: returns configured default value\n",
    "# with slice_from_parent=T, pygenlib assumes that the attribute refers to an array that directly corresponds to the \n",
    "# genomic coordinates of a feature. It then searches for this array in the feature hierarchy (e.g., exon->tx->gene) and, \n",
    "# if found in a super-feature, slices the values from there.\n",
    "display(t.genes[5].transcript[0].exon[0].get('mappability', slice_from_parent=True)) "
   ]
  },
  {
   "cell_type": "code",
   "execution_count": 57,
   "id": "88166a21",
   "metadata": {
    "tags": []
   },
   "outputs": [
    {
     "data": {
      "text/plain": [
       "\"There are 1/5200 exons with 0 mappability. Here are the respective gene names: ['TASP1']\""
      ]
     },
     "metadata": {},
     "output_type": "display_data"
    }
   ],
   "source": [
    "# query example: \n",
    "# calculate mean exon mappability by slicing values from their parent genes and calculating the mean\n",
    "# NOTE that the bedgraph file does not contain data for chrM and chrY (see tabix -l <file>), so for these we use the default value [] (relevant only for whole-genome analyses)\n",
    "ex_map=[(ex, np.mean(ex.get('mappability', default_value=[], slice_from_parent=True))) for ex in t.__iter__(feature_types='exon')]\n",
    "# get all exons with 0 mappability \n",
    "zero_map_ex=[ex for ex,mean_map in ex_map if mean_map==0]\n",
    "# now show 10 random genes that contain at least 1 exon with zero mappability\n",
    "display(f\"There are {len(zero_map_ex)}/{len(ex_map)} exons with 0 mappability. Here are the respective gene names: { list({ex.parent.parent.gene_name for ex in zero_map_ex}) }\")"
   ]
  },
  {
   "cell_type": "markdown",
   "id": "c7168f63-bb9d-4d37-a333-6a1eeafb085b",
   "metadata": {
    "tags": []
   },
   "source": [
    "Now, lets plot the data "
   ]
  },
  {
   "cell_type": "code",
   "execution_count": 56,
   "id": "b9f3d1f2-ef61-4e46-b4a6-3f6bcaa27f13",
   "metadata": {
    "tags": []
   },
   "outputs": [
    {
     "data": {
      "image/png": "[encoded data removed]",
      "text/plain": [
       "<Figure size 640x480 with 1 Axes>"
      ]
     },
     "metadata": {},
     "output_type": "display_data"
    }
   ],
   "source": [
    "# calculate mean mappability per gene and plot \n",
    "mean_map=[[np.mean(g.get('mappability',[0])) for g in t.genes if g.chromosome==c] for c in t.merged_refdict]\n",
    "_=plt.boxplot(mean_map)\n",
    "_=plt.xticks([x+1 for x in range(len(t.merged_refdict))], list(t.merged_refdict.keys()), rotation=90)\n",
    "_=plt.suptitle(\"Gene region mappability per chromosome\")"
   ]
  },
  {
   "cell_type": "markdown",
   "id": "1db98e08-0746-48a9-84b1-d9fb103c7fb4",
   "metadata": {
    "tags": []
   },
   "source": [
    "## Gene annotation comparison\n",
    "In this example, we compare two human gene annotation sets, namely gencode (v39) and chess (v3.0.1).\n",
    "We load all protein_coding genes located on chr20 from both annotation sets, update the gene-names to their latest given symbol and compare both lists. We then exemplary show how to further analyze differences between those gene annotation sets.\n",
    "\n",
    "*Required resources:*\n",
    "- Human genome FASTA (GRCh38), accessible at https://www.ncbi.nlm.nih.gov/datasets/genome/GCF_000001405.26/\n",
    "- Full gencode annotation gff3 file (sorted), available at https://www.gencodegenes.org/human/\n",
    "- Full chess 3.0.1 annotation gff3 file (sorted), available at https://github.com/chess-genome/chess/releases/download/v.3.0.1/chess3.0.1.gff.gz\n"
   ]
  },
  {
   "cell_type": "code",
   "execution_count": null,
   "id": "e4b49e16-9d2b-4ac2-a2f6-30f23a7dcad7",
   "metadata": {
    "tags": []
   },
   "outputs": [],
   "source": [
    "grch38_fasta='/Volumes/groups/ameres/Niko/ref/genomes/GRCh38/GCA_000001405.15_GRCh38_full_plus_hs38d1_analysis_set.fna'\n",
    "gencode_gff='/Volumes/groups/ameres/Niko/ref/genomes/GRCh38/annotation/gencode.v39.annotation.sorted.gff3.gz'\n",
    "chess_gff='/Volumes/groups/ameres/Niko/ref/genomes/GRCh38/annotation/chess3.0.1.sorted.gtf.gz'\n",
    "\n",
    "# Load gencode and chess annotation data and build subset of chr20 protein-coding genes\n",
    "config={\n",
    "    'genome_fa': grch38_fasta,\n",
    "    'annotation_gff': gencode_gff,\n",
    "    'annotation_flavour': 'gencode',\n",
    "    'transcript_filter': {\n",
    "        'included_chrom': ['chr20'],\n",
    "        'included_genetypes': ['protein_coding']\n",
    "    },\n",
    "    'copied_fields': ['gene_type'],\n",
    "    'drop_empty_genes': False,\n",
    "    'load_sequences': False\n",
    "}\n",
    "t_gc=Transcriptome(config)\n",
    "config={\n",
    "    'genome_fa': grch38_fasta,\n",
    "    'annotation_gff': chess_gff,\n",
    "    'annotation_flavour': 'chess',\n",
    "    'transcript_filter': {\n",
    "        'included_chrom': ['chr20'],\n",
    "        'included_genetypes': ['protein_coding']\n",
    "    },\n",
    "    'copied_fields': ['gene_type'],\n",
    "    'drop_empty_genes': False,\n",
    "    'load_sequences': False\n",
    "}\n",
    "# Build subset of chr20 transcripts \n",
    "t_ch=Transcriptome(config)\n",
    "# compare\n",
    "display(SEP)\n",
    "display(t_gc)\n",
    "display(t_ch)"
   ]
  },
  {
   "cell_type": "code",
   "execution_count": 59,
   "id": "44e9bf4d-45dc-42b2-9bc9-cb5729e77893",
   "metadata": {
    "tags": []
   },
   "outputs": [
    {
     "name": "stdout",
     "output_type": "stream",
     "text": [
      "Loading gene aliases from /var/folders/1b/f_v7b42173763b830kvj5xdh0000gq/T/tmp24zir13d/hgnc_complete_set.txt\n"
     ]
    },
    {
     "name": "stderr",
     "output_type": "stream",
     "text": [
      "load gene aliases: 100%|█████████████████████████████████████████████████████████████████████████████████████████████████████████████████████████| 43736/43736 [00:02<00:00, 15867.90it/s]\n"
     ]
    }
   ],
   "source": [
    "# We use genenames.org data to convert old gene symbols to their current symbol.\n",
    "# first, we download the current HGNC set into a file in a temporary directory (will be removed if context manager is closed)\n",
    "# See below for more details on this fuctionality.\n",
    "with tempfile.TemporaryDirectory() as tempdirname:\n",
    "    gene_name_alias_file=download_file(\"https://ftp.ebi.ac.uk/pub/databases/genenames/hgnc/tsv/hgnc_complete_set.txt\", f\"{tempdirname}/hgnc_complete_set.txt\")\n",
    "    # now we read an alias table and a set of current gene symbols from this file.\n",
    "    print(f\"Loading gene aliases from {gene_name_alias_file}\")\n",
    "    aliases, current_symbols = read_alias_file(gene_name_alias_file)"
   ]
  },
  {
   "cell_type": "code",
   "execution_count": 60,
   "id": "b1ce5087-0e67-4da5-9f9b-3a9f8273ff44",
   "metadata": {
    "tags": []
   },
   "outputs": [
    {
     "data": {
      "text/plain": [
       "'Shared: 523, only in gencode: 21, only in chess: 12'"
      ]
     },
     "metadata": {},
     "output_type": "display_data"
    }
   ],
   "source": [
    "# lets have a look at the shared and unique (normalized) gene symbols:\n",
    "gn_gc={norm_gn(x.gene_name, current_symbols, aliases) for x in t_gc.genes}\n",
    "gn_ch={norm_gn(x.gene_name, current_symbols, aliases) for x in t_ch.genes}\n",
    "shared, uniq_gc, uniq_ch = cmp_sets(gn_gc, gn_ch) # cmp_sets is a pygenlib utility function for set comparison\n",
    "display(f\"Shared: {len(shared)}, only in gencode: {len(uniq_gc)}, only in chess: {len(uniq_ch)}\")"
   ]
  },
  {
   "cell_type": "code",
   "execution_count": 61,
   "id": "294de02a-4cb9-4be8-8b38-32ec0babdd02",
   "metadata": {
    "tags": []
   },
   "outputs": [
    {
     "name": "stdout",
     "output_type": "stream",
     "text": [
      "{'ENSG00000286235', 'ENSG00000273047', 'MTRNR2L3', 'RTEL1-TNFRSF6B', 'STX16-NPEPL1', 'ENSG00000270299', 'ENSG00000272897', 'ENSG00000260861', 'ENSG00000288000', 'ENSG00000274322', 'ENSG00000277611', 'HMGB1P1', 'ENSG00000261582', 'SYS1-DBNDD2', 'GCNT7', 'ENSG00000286022', 'ENSG00000241690', 'ENSG00000284776', 'ENSG00000273154', 'ENSG00000285382', 'ENSG00000256566'}\n"
     ]
    },
    {
     "data": {
      "text/markdown": [
       "---"
      ],
      "text/plain": [
       "<IPython.core.display.Markdown object>"
      ]
     },
     "metadata": {},
     "output_type": "display_data"
    },
    {
     "name": "stdout",
     "output_type": "stream",
     "text": [
      "{'LOC124904962', 'LOC105372704', 'CHS.160570', 'LOC124904942', 'LOC124904970', 'LOC124904930', 'LOC124904958', 'LOC124904950', 'LOC124904903', 'MMP24-AS1-EDEM2', 'LOC124904927', 'LOC101929937'}\n"
     ]
    },
    {
     "data": {
      "text/markdown": [
       "---"
      ],
      "text/plain": [
       "<IPython.core.display.Markdown object>"
      ]
     },
     "metadata": {},
     "output_type": "display_data"
    },
    {
     "data": {
      "text/plain": [
       "[(chr20:56468627-56519449 (+), 'RTF2', '+'),\n",
       " (chr20:56524744-56526152 (+), 'FAM209A', '+')]"
      ]
     },
     "metadata": {},
     "output_type": "display_data"
    },
    {
     "data": {
      "text/markdown": [
       "---"
      ],
      "text/plain": [
       "<IPython.core.display.Markdown object>"
      ]
     },
     "metadata": {},
     "output_type": "display_data"
    },
    {
     "data": {
      "text/plain": [
       "[(chr20:35115364-35147336 (-), 'EDEM2', '-'),\n",
       " (chr20:35172072-35216240 (+), 'PROCR', '+'),\n",
       " (chr20:35201745-35278131 (-), 'MMP24OS', '-'),\n",
       " (chr20:35226690-35276998 (+), 'MMP24', '+'),\n",
       " (chr20:35267885-35280043 (-), 'ENSG00000261582', '-')]"
      ]
     },
     "metadata": {},
     "output_type": "display_data"
    }
   ],
   "source": [
    "# So most genes are annotated in both sets as expected but there are some unique entries too.\n",
    "# lets display the unique gene names for genocde and chess:\n",
    "print(uniq_gc)\n",
    "display(SEP)\n",
    "print(uniq_ch)\n",
    "display(SEP)\n",
    "# Most unique genecode genes have no given name but an ensembl gene id (starting with ENSG), while most unique chess genes start with “LOC” which \n",
    "# indicates and unknown function.\n",
    "# Let's have a look at 'GCNT7' which is only annotated in gencode (https://www.genecards.org/cgi-bin/carddisp.pl?gene=GCNT7)\n",
    "# We query the chess annotatoin set for the coordinates of the GCNT7 gene in the gencode annotation:\n",
    "display([(x.location, x.gene_name, x.strand) for x in t_ch.query(t_gc.gene['GCNT7'], feature_types=['gene'])])\n",
    "# Indeed, it shows only RTF2 and 'FAM209A', both on the opposite strand.\n",
    "display(SEP)\n",
    "# vice versa, we look at 'MMP24-AS1-EDEM2' which is found only in the chess annotation\n",
    "display([(x.location, x.gene_name, x.strand) for x in t_gc.query(t_ch.gene['MMP24-AS1-EDEM2'], feature_types=['gene'])])\n"
   ]
  },
  {
   "cell_type": "markdown",
   "id": "410c2772-c2ad-454c-831d-9ca289a5ca46",
   "metadata": {
    "tags": []
   },
   "source": [
    "# Utility functions\n",
    "\n",
    "_Pygenlib_ also contains a number of utility functions which might be useful for handling genomics data. Some of those functions were demonstrated already in the context of this notebook. Here we present and document them in more detail:"
   ]
  },
  {
   "cell_type": "code",
   "execution_count": 31,
   "id": "ac210d22-cc7d-4855-8402-cfb35bb2b614",
   "metadata": {
    "tags": []
   },
   "outputs": [
    {
     "name": "stderr",
     "output_type": "stream",
     "text": [
      "INFO:biothings.client:querying 1-2...\n",
      "INFO:biothings.client:done.\n"
     ]
    },
    {
     "data": {
      "text/plain": [
       "{'ENSMUSG00000029580': Actb (actin, beta, tax: 10090),\n",
       " '60': ACTB (actin beta, tax: 9606)}"
      ]
     },
     "execution_count": 31,
     "metadata": {},
     "output_type": "execute_result"
    }
   ],
   "source": [
    "# Gene symbols are updated regularly and mapping between different id schemas is cumbersome\n",
    "# pygenlib implements an interface to MyGeneInfo for easy translation between ids and symbols \n",
    "# Example: we pass a mixed list of Ensembl and Entrez ids for mouse and human  actin beta:\n",
    "geneid2symbol(['ENSMUSG00000029580', 60])"
   ]
  },
  {
   "cell_type": "code",
   "execution_count": 32,
   "id": "57b83a6e-7f5d-430b-8c58-904612b75b12",
   "metadata": {
    "tags": []
   },
   "outputs": [
    {
     "name": "stdout",
     "output_type": "stream",
     "text": [
      "Loading gene aliases from /var/folders/1b/f_v7b42173763b830kvj5xdh0000gq/T/tmp6n3btn7h/hgnc_complete_set.txt\n"
     ]
    },
    {
     "name": "stderr",
     "output_type": "stream",
     "text": [
      "load gene aliases: 100%|██████████████████████████████████████████████████████████████████████████████████████████████████████████| 43736/43736 [00:03<00:00, 14046.42it/s]\n"
     ]
    },
    {
     "data": {
      "text/plain": [
       "'AADAC'"
      ]
     },
     "metadata": {},
     "output_type": "display_data"
    },
    {
     "data": {
      "text/plain": [
       "'AADAC'"
      ]
     },
     "metadata": {},
     "output_type": "display_data"
    }
   ],
   "source": [
    "# Here we use genenames.org data to convert lists containing partially old gene symbols to their current symbol\n",
    "# first, we download the current HGNC set into a file in a temporary directory (will be removed if context manager is closed)\n",
    "with tempfile.TemporaryDirectory() as tempdirname:\n",
    "    gene_name_alias_file=download_file(\"https://ftp.ebi.ac.uk/pub/databases/genenames/hgnc/tsv/hgnc_complete_set.txt\", f\"{tempdirname}/hgnc_complete_set.txt\")\n",
    "    # now we read an alias table and a set of current gene symbols from this file.\n",
    "    print(f\"Loading gene aliases from {gene_name_alias_file}\")\n",
    "    aliases, current_symbols = read_alias_file(gene_name_alias_file)\n",
    "    # now lets translate some previous names of AADAC\n",
    "    display(norm_gn('DAC', current_symbols, aliases), norm_gn('CES5A1', current_symbols, aliases))"
   ]
  },
  {
   "cell_type": "code",
   "execution_count": 37,
   "id": "59a2cabf-8f91-48f5-b38c-f32bd6e06bbc",
   "metadata": {
    "tags": []
   },
   "outputs": [
    {
     "name": "stdout",
     "output_type": "stream",
     "text": [
      "We found a match from 9-20 ('ACTGAAATTTC') with normalized alignment score 0.7272727272727273\n"
     ]
    },
    {
     "data": {
      "text/html": [
       "<textarea rows='4' cols='120'>---------ACTGactTTTC--\n",
       "         ||||...||||  \n",
       "AAATTTCCCACTGAAATTTCCC\n",
       "  Score=8\n",
       "</textarea>"
      ],
      "text/plain": [
       "<IPython.core.display.HTML object>"
      ]
     },
     "metadata": {},
     "output_type": "display_data"
    }
   ],
   "source": [
    "# We also provide a wrapper around some *Biopython* methods, e.g., for sequence alignment\n",
    "refseq='AAATTTCCCACTGAAATTTCCC'\n",
    "score, startpos, endpos, aln = align_sequence('ACTGactTTTC', refseq, report_alignment=True)\n",
    "print(f\"We found a match from {startpos}-{endpos} ('{'AAATTTCCCACTGAAATTTCCC'[startpos:endpos]}') with normalized alignment score {score}\")\n",
    "display_textarea(aln)"
   ]
  },
  {
   "cell_type": "code",
   "execution_count": 4,
   "id": "9e064903-9412-44a2-8590-1ed5785a7b04",
   "metadata": {
    "tags": []
   },
   "outputs": [
    {
     "name": "stdout",
     "output_type": "stream",
     "text": [
      "Raw └── Reads\n",
      "Raw     └── Read_205344 {duration=21211,median_before=217.6046905517578,read_id=b'003c04de-f704-491e-8d0c-33ffa269423d',read_number=205344,start_mux=4,start_time=364905104}\n",
      "Raw         └── Signal\n",
      "---\n"
     ]
    }
   ],
   "source": [
    "# And utilities to work with Nanopore data (FAST5 files)\n",
    "# You can, e.g., inspect the structure of such a file:\n",
    "fast5_file=get_resource('nanoseq_fast5_raw')\n",
    "print_fast5_tree(fast5_file, show_attrs=False)"
   ]
  },
  {
   "cell_type": "code",
   "execution_count": 5,
   "id": "6f96d57e-061f-4264-856d-e1bc5f0d3a61",
   "metadata": {
    "tags": []
   },
   "outputs": [
    {
     "data": {
      "text/plain": [
       "['Basecall_1D_000']"
      ]
     },
     "execution_count": 5,
     "metadata": {},
     "output_type": "execute_result"
    }
   ],
   "source": [
    "# Or list the basecalling groups in this file\n",
    "fast5_file=get_resource('nanoseq_fast5_basecalled')#'testdata/fast5/FAT61995_a1291c8f_5.fast5'\n",
    "get_bcgs(fast5_file)"
   ]
  }
 ],
 "metadata": {
  "kernelspec": {
   "display_name": "pygenlib-venv",
   "language": "python",
   "name": "pygenlib-venv"
  },
  "language_info": {
   "codemirror_mode": {
    "name": "ipython",
    "version": 3
   },
   "file_extension": ".py",
   "mimetype": "text/x-python",
   "name": "python",
   "nbconvert_exporter": "python",
   "pygments_lexer": "ipython3",
   "version": "3.10.4"
  },
  "toc-autonumbering": false,
  "toc-showcode": false,
  "toc-showmarkdowntxt": false,
  "toc-showtags": false
 },
 "nbformat": 4,
 "nbformat_minor": 5
}
