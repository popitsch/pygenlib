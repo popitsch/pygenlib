{
 "cells": [
  {
   "cell_type": "markdown",
   "id": "6d6f324f-3309-4bb5-9fbe-5bfb53268200",
   "metadata": {
    "editable": true,
    "slideshow": {
     "slide_type": ""
    },
    "tags": []
   },
   "source": [
    "# Tutorial: CTCF motif annotation\n",
    "\n",
    "In this example we demonstrate how one could use _rnalib_ and _bioframe_ together for maximum benefit.\n",
    "\n",
    "This tutorial was inspired by the [bioframe CTCF tutorial](https://bioframe.readthedocs.io/en/latest/tutorials/tutorial_assign_motifs_to_peaks.html) but implements a different scenario.\n",
    "Briefly, we use _rnalib_ to instantiate a human Transcriptome (canonical protein-coding transcripts on chromosome 2 only), download an CTCF motif dataset with _bioframe_ and annotate all transcripts with those motifs. We then report all genes/transcripts with at least one overlapping CTCF motif. We demonstrate two annotation scenarios and compare their runtimes.\n",
    "We also show how to add CTCF sites as custom features to the transcriptome and how to access their sequences that are sliced automaticallz from their enveloping parent features.\n",
    "\n",
    "First, we load the required libraries."
   ]
  },
  {
   "cell_type": "markdown",
   "id": "c60a78cc-2423-4a96-bac2-8c6354de9a68",
   "metadata": {},
   "source": [
    "## Requirements\n",
    "Before executing this notebook, you need to install all required *rnalib* requirements as well as optional libraries needed by this notebook.\n",
    "It is recommended to do this in a [Python virtual environment](https://rnalib.readthedocs.io/en/latest/readme.html#installation).\n",
    "\n",
    "This notebook as well as *rnalib*'s testing suite use various **test resources** (genomics data files and indexing structures) that can either be downloaded from the Github repository or \n",
    "created by running the *rnalib* `rnalib_create_testdata` script. Please refer to [the rnalib documentation](https://rnalib.readthedocs.io/en/latest/readme.html#test-data) for detailed instructions.\n",
    "There are two separate test resource sets:\n",
    "\n",
    "* *test_resources*: small test datasets that are used by *rnalib*'s test suite\n",
    "* *large_test_resources*: larger test files that are needed to demonstrate *rnalib* under realistic conditions. \n",
    "\n",
    "*Rnalib* knows about the location of the test data via the package-global __RNALIB_TESTDATA__ variable. This variable can either be set via the \"RNALIB_TESTDATA\" environment variable or by 'monkeypatching' (rna.__RNALIB_TESTDATA__ = ...) as shown below. Once this is done, test data resources can be accessed via `rna.get_resource(<resource_id>)`. *Rnalib* will recreate these resources only if they are not found in the configured output folder."
   ]
  },
  {
   "cell_type": "code",
   "execution_count": 2,
   "id": "005973b0-ed59-4f85-8213-bee46ca89fcb",
   "metadata": {},
   "outputs": [
    {
     "data": {
      "text/plain": [
       "'Running rnalib 0.0.3 on python 3.12.1'"
      ]
     },
     "metadata": {},
     "output_type": "display_data"
    },
    {
     "data": {
      "application/vnd.jupyter.widget-view+json": {
       "model_id": "b6c2f52d4cb5403ebd77bbae2fe2bfcc",
       "version_major": 2,
       "version_minor": 0
      },
      "text/plain": [
       "Creating testdata:   0%|          | 0/40 [00:00<?, ?it/s]"
      ]
     },
     "metadata": {},
     "output_type": "display_data"
    },
    {
     "name": "stderr",
     "output_type": "stream",
     "text": [
      "INFO:root:========= All done with 0 errors  ==========\n"
     ]
    },
    {
     "data": {
      "text/plain": [
       "'Testdata in rnalib_testdata/'"
      ]
     },
     "metadata": {},
     "output_type": "display_data"
    },
    {
     "data": {
      "text/html": [
       "<textarea rows='4' cols='120'>├── bigfiles\n",
       "│   ├── grch38_chr20.fa.gz.gzi (15.73 KB)\n",
       "│   ├── GRCh38.k24.umap.bed.gz (39.06 MB)\n",
       "│   ├── chess3.0.1.gtf.gz (20.45 MB)\n",
       "│   ├── GRCh38.k24.umap.bed.gz.tbi (488.12 KB)\n",
       "│   ├── human_gene_v2.2.h5 (34.94 GB)\n",
       "│   ├── gencode_39.gff3.gz (72.15 MB)\n",
       "│   ├── hgnc_complete_set.txt (15.79 MB)\n",
       "│   ├── gencode_39.gff3.gz.tbi (298.13 KB)\n",
       "│   ├── grch38_chr20.fa.gz (19.87 MB)\n",
       "│   ├── grch38_chr20.fa.gz.fai (23.0 B)\n",
       "│   └── ...\n",
       "├── bed\n",
       "│   ├── test_bed12.bed.gz.tbi (106.0 B)\n",
       "│   ├── test_bed12.bed.gz (115.0 B)\n",
       "│   ├── test.bed.gz (84.0 B)\n",
       "│   ├── test.bedgraph.gz (208.0 B)\n",
       "│   ├── pybedtools_snps.bed.gz (8.14 MB)\n",
       "│   ├── test_nist.b37_chr20_100kbp_at_10mb.bed (156.0 B)\n",
       "│   ├── dmel_randomvalues.bedgraph.gz (185.33 KB)\n",
       "│   ├── GRCh38.k24.umap.ACTB_ex1+2.bedgraph.gz (1.8 KB)\n",
       "│   ├── dmel_randomvalues.bedgraph.gz.tbi (122.0 B)\n",
       "│   ├── test.bedgraph.gz.tbi (103.0 B)\n",
       "│   └── ...\n",
       "├── div\n",
       "│   ├── hgnc_complete_set.head.txt.gz (1.6 KB)\n",
       "│   ├── slamseq_example_featureCounts_tc_reads.txt (1.85 KB)\n",
       "│   └── slamseq_example_featureCounts_all_reads.txt (1.82 KB)\n",
       "├── slamseq_example\n",
       "│   ├── slamseq_example_tp0+tc.bam.bai (17.12 KB)\n",
       "│   ├── slamseq_example_tp25+tc_tc-only.bam (59.63 KB)\n",
       "│   ├── slamseq_example_tp10.density.tsv.gz (1.28 KB)\n",
       "│   ├── slamseq_example_tp5+tc_tc-only.bam.bai (17.13 KB)\n",
       "│   ├── slamseq_example_tp0.density.tsv.gz (1.54 KB)\n",
       "│   ├── slamseq_example_tp10+tc_tc-only.bam.bai (17.12 KB)\n",
       "│   ├── slamseq_example_tp15+tc.bam (433.78 KB)\n",
       "│   ├── slamseq_example_tp0+tc.bam (499.62 KB)\n",
       "│   ├── slamseq_example_tp5+tc.bam.bai (17.13 KB)\n",
       "│   ├── slamseq_example_tp20+tc_tc-only.bam.bai (17.12 KB)\n",
       "│   └── ...\n",
       "├── bam\n",
       "│   ├── slamseq_example_5.cr0.05.STAR.bam.bai (17.15 KB)\n",
       "│   ├── NA12878_S1.chr20.10_10p1mb.bam (3.74 MB)\n",
       "│   ├── mapt.NA12156.altex.small.bam (1.23 KB)\n",
       "│   ├── slamseq_example_0.cr0.05.STAR.bam.bai (17.12 KB)\n",
       "│   ├── NA12878_S1.chr20.10_10p1mb.bam.bai (5.34 KB)\n",
       "│   ├── slamseq_example_0.cr0.05.STAR.bam (478.66 KB)\n",
       "│   ├── slamseq_example_10.cr0.05.STAR.bam.bai (17.12 KB)\n",
       "│   ├── slamseq_example_20.cr0.05.STAR.bam (412.2 KB)\n",
       "│   ├── mapt.NA12156.altex.small.bam.bai (248.0 B)\n",
       "│   ├── slamseq_example_15.cr0.05.STAR.bam (421.7 KB)\n",
       "│   └── ...\n",
       "├── fasta\n",
       "│   ├── ACTB+SOX2.fa.gz.tbi (73.0 B)\n",
       "│   ├── ACTB+SOX2.fa.gz.fai (40.0 B)\n",
       "│   ├── dmel_r6.36.fa.gz.gzi (34.98 KB)\n",
       "│   ├── ACTB+SOX2.fa.gz (11.74 KB)\n",
       "│   ├── ACTB+SOX2.fa.gz.gzi (8.0 B)\n",
       "│   ├── dmel_r6.36.fa.gz.fai (68.18 KB)\n",
       "│   └── dmel_r6.36.fa.gz (41.41 MB)\n",
       "├── gff\n",
       "│   ├── pybedtools_gff.gff3.gz.tbi (8.54 KB)\n",
       "│   ├── chess3.GRCh38.ACTB+SOX2.gtf.gz.tbi (336.0 B)\n",
       "│   ├── mirgenedb.dme.sorted.gff3.gz.tbi (1.37 KB)\n",
       "│   ├── gencode_44.ACTB+SOX2.gff3.gz (8.98 KB)\n",
       "│   ├── chess3.GRCh38.ACTB+SOX2.gtf.gz (812.0 B)\n",
       "│   ├── pybedtools_gff.gff3.gz (48.03 KB)\n",
       "│   ├── flybase_dmel-2L-r6.36.gtf.gz.tbi (126.0 B)\n",
       "│   ├── UCSC.hg38.ncbiRefSeq.ACTB+SOX2.sorted.gtf.gz (572.0 B)\n",
       "│   ├── slamseq_example_mm10.gff3.gz (918.0 B)\n",
       "│   ├── chess3.GRCh38.ACTB+SOX2.gff3.gz (839.0 B)\n",
       "│   └── ...\n",
       "├── vcf\n",
       "│   ├── dmelanogaster_6_exported_20230523.vcf.gz.tbi (121.0 B)\n",
       "│   ├── test_snps.vcf.gz (227.0 B)\n",
       "│   ├── test.vcf.gz.tbi (157.0 B)\n",
       "│   ├── dmelanogaster_6_exported_20230523.vcf.gz (15.99 KB)\n",
       "│   ├── test.vcf.gz (478.0 B)\n",
       "│   └── test_snps.vcf.gz.tbi (121.0 B)\n",
       "├── .ipynb_checkpoints\n",
       "├── fastq\n",
       "│   ├── Test01_L001_R1_001.top20.fastq (2.73 KB)\n",
       "│   ├── test.fq.gz (227.0 B)\n",
       "│   └── Test01_L001_R2_001.top20.fastq (2.73 KB)\n",
       "└── ...</textarea>"
      ],
      "text/plain": [
       "<IPython.core.display.HTML object>"
      ]
     },
     "metadata": {},
     "output_type": "display_data"
    }
   ],
   "source": [
    "import os, pathlib, platform\n",
    "import matplotlib.pyplot as plt\n",
    "import pandas as pd\n",
    "import numpy as np\n",
    "import ssl\n",
    "import bioframe\n",
    "from collections import Counter\n",
    "\n",
    "# load rnalib\n",
    "import rnalib as rna\n",
    "from rnalib import gi, GI, SEP, display_textarea\n",
    "display(f\"Running rnalib {rna.__version__} on python {platform.python_version()}\")\n",
    "\n",
    "# ensure test data\n",
    "rna.__RNALIB_TESTDATA__ = \"rnalib_testdata/\" # monkeypatch test data dir\n",
    "rna.testdata.create_testdata(rna.__RNALIB_TESTDATA__, rna.testdata.test_resources) # requires additional tools installed\n",
    "display(f\"Testdata in {rna.__RNALIB_TESTDATA__}\")\n",
    "display_textarea('\\n'.join(rna.dir_tree(pathlib.Path(rna.__RNALIB_TESTDATA__))))"
   ]
  },
  {
   "cell_type": "markdown",
   "id": "2e22b750-07dc-4d2d-a280-7ae761c3853b",
   "metadata": {},
   "source": [
    "## Load CTCF sites\n",
    "First, we use bioframe to read a set of CTCF binding sites from JASPAR and filter for chromosome 2 and \n",
    "minimum P-value.\n",
    "\n",
    "Please note that this cell might fail with a TimeoutError if the JASPAR data is not accessible."
   ]
  },
  {
   "cell_type": "code",
   "execution_count": 3,
   "id": "2545b94b-1cdc-485c-aef7-96a196f6bf9f",
   "metadata": {},
   "outputs": [],
   "source": [
    "# see https://genome.ucsc.edu/cgi-bin/hgTrackUi?db=Grch38&g=jaspar\n",
    "jaspar_uri='http://expdata.cmmt.ubc.ca/JASPAR/downloads/UCSC_tracks/2022/hg38/MA0139.1.tsv.gz'\n",
    "ssl._create_default_https_context = ssl._create_unverified_context # to avoid invalid certificate problems\n",
    "ctcf_sites = bioframe.read_table(jaspar_uri, schema='jaspar').query(\"chrom=='chr20' & pval>500\")"
   ]
  },
  {
   "cell_type": "markdown",
   "id": "fac92718-e79c-43ab-a586-d4fc9833ff52",
   "metadata": {},
   "source": [
    "## Annotate transcriptome with CTCF sites\n",
    "\n",
    "Now, we annotate transcripts with JASPAR motifs. We demonstrate two different approaches:\n",
    "\n",
    "- approach1\n",
    "    - we instantiate a filtered *rnalib* transcriptome (chr2 only)\n",
    "    - we then annotate with the JASPAR motifs loaded via *bioframe*\n",
    "    - for annotation we use a (very flexible) custom callback method\n",
    "    - finally, we build a *pandas* dataframe with results containing one row per tx\n",
    "- approach2\n",
    "    - we read the GFF with *bioframe* and correct the start coordinate as *bioframe* expects 0-based coordinates\n",
    "    - we overlap tx and CTCF sites with the *bioframe* `overlap()` method (NOTE that we cannot use the inner join as it would change the order of the CTCF sites)\n",
    "    - we create a results dataframe while filtering for the respective transcripts. This is done base on GFF attributes parsed from the 'attributes' column."
   ]
  },
  {
   "cell_type": "code",
   "execution_count": 4,
   "id": "3c10b6d5-14a6-480d-ad6b-ba48037b5143",
   "metadata": {},
   "outputs": [
    {
     "data": {
      "application/vnd.jupyter.widget-view+json": {
       "model_id": "90dfe579efef426586abcef747ae9e3c",
       "version_major": 2,
       "version_minor": 0
      },
      "text/plain": [
       "Building transcriptome (1 chromosomes)\n",
       ":   0%|          | 0/1 [00:00<?, ?it/s]"
      ]
     },
     "metadata": {},
     "output_type": "display_data"
    },
    {
     "data": {
      "application/vnd.jupyter.widget-view+json": {
       "model_id": "d32e0cff91e74c92a5ef87f2d7d1b54d",
       "version_major": 2,
       "version_minor": 0
      },
      "text/plain": [
       "Build interval trees:   0%|          | 0/546 [00:00<?, ?it/s]"
      ]
     },
     "metadata": {},
     "output_type": "display_data"
    },
    {
     "data": {
      "text/plain": [
       "'Annotating transcriptome'"
      ]
     },
     "metadata": {},
     "output_type": "display_data"
    },
    {
     "data": {
      "application/vnd.jupyter.widget-view+json": {
       "model_id": "4e26efee5355496bad1715af4a8a6a84",
       "version_major": 2,
       "version_minor": 0
      },
      "text/plain": [
       "  0%|          | 0/1 [00:00<?, ?it/s]"
      ]
     },
     "metadata": {},
     "output_type": "display_data"
    },
    {
     "data": {
      "text/html": [
       "<div>\n",
       "<style scoped>\n",
       "    .dataframe tbody tr th:only-of-type {\n",
       "        vertical-align: middle;\n",
       "    }\n",
       "\n",
       "    .dataframe tbody tr th {\n",
       "        vertical-align: top;\n",
       "    }\n",
       "\n",
       "    .dataframe thead th {\n",
       "        text-align: right;\n",
       "    }\n",
       "</style>\n",
       "<table border=\"1\" class=\"dataframe\">\n",
       "  <thead>\n",
       "    <tr style=\"text-align: right;\">\n",
       "      <th></th>\n",
       "      <th>gene</th>\n",
       "      <th>tid</th>\n",
       "      <th>location</th>\n",
       "      <th>ctcf_locations</th>\n",
       "      <th>ctcf_scores</th>\n",
       "    </tr>\n",
       "  </thead>\n",
       "  <tbody>\n",
       "    <tr>\n",
       "      <th>0</th>\n",
       "      <td>DEFB132</td>\n",
       "      <td>ENST00000382376.4</td>\n",
       "      <td>chr20:257724-261096 (+)</td>\n",
       "      <td>chr20:259132-259150 (+)</td>\n",
       "      <td>867</td>\n",
       "    </tr>\n",
       "    <tr>\n",
       "      <th>1</th>\n",
       "      <td>C20orf96</td>\n",
       "      <td>ENST00000360321.7</td>\n",
       "      <td>chr20:270863-290750 (-)</td>\n",
       "      <td>chr20:279437-279455 (-)</td>\n",
       "      <td>871</td>\n",
       "    </tr>\n",
       "    <tr>\n",
       "      <th>2</th>\n",
       "      <td>SOX12</td>\n",
       "      <td>ENST00000342665.5</td>\n",
       "      <td>chr20:325552-330224 (+)</td>\n",
       "      <td>chr20:326979-326997 (-)</td>\n",
       "      <td>878</td>\n",
       "    </tr>\n",
       "    <tr>\n",
       "      <th>3</th>\n",
       "      <td>NRSN2</td>\n",
       "      <td>ENST00000382285.7</td>\n",
       "      <td>chr20:347111-354862 (+)</td>\n",
       "      <td>chr20:354638-354656 (+)</td>\n",
       "      <td>892</td>\n",
       "    </tr>\n",
       "    <tr>\n",
       "      <th>4</th>\n",
       "      <td>TBC1D20</td>\n",
       "      <td>ENST00000354200.5</td>\n",
       "      <td>chr20:435480-462533 (-)</td>\n",
       "      <td>chr20:442224-442242 (+)</td>\n",
       "      <td>874</td>\n",
       "    </tr>\n",
       "  </tbody>\n",
       "</table>\n",
       "</div>"
      ],
      "text/plain": [
       "       gene                tid                 location  \\\n",
       "0   DEFB132  ENST00000382376.4  chr20:257724-261096 (+)   \n",
       "1  C20orf96  ENST00000360321.7  chr20:270863-290750 (-)   \n",
       "2     SOX12  ENST00000342665.5  chr20:325552-330224 (+)   \n",
       "3     NRSN2  ENST00000382285.7  chr20:347111-354862 (+)   \n",
       "4   TBC1D20  ENST00000354200.5  chr20:435480-462533 (-)   \n",
       "\n",
       "            ctcf_locations ctcf_scores  \n",
       "0  chr20:259132-259150 (+)         867  \n",
       "1  chr20:279437-279455 (-)         871  \n",
       "2  chr20:326979-326997 (-)         878  \n",
       "3  chr20:354638-354656 (+)         892  \n",
       "4  chr20:442224-442242 (+)         874  "
      ]
     },
     "metadata": {},
     "output_type": "display_data"
    },
    {
     "data": {
      "text/html": [
       "<div>\n",
       "<style scoped>\n",
       "    .dataframe tbody tr th:only-of-type {\n",
       "        vertical-align: middle;\n",
       "    }\n",
       "\n",
       "    .dataframe tbody tr th {\n",
       "        vertical-align: top;\n",
       "    }\n",
       "\n",
       "    .dataframe thead th {\n",
       "        text-align: right;\n",
       "    }\n",
       "</style>\n",
       "<table border=\"1\" class=\"dataframe\">\n",
       "  <thead>\n",
       "    <tr style=\"text-align: right;\">\n",
       "      <th></th>\n",
       "      <th>gene</th>\n",
       "      <th>tid</th>\n",
       "      <th>location</th>\n",
       "      <th>ctcf_locations</th>\n",
       "      <th>ctcf_scores</th>\n",
       "    </tr>\n",
       "  </thead>\n",
       "  <tbody>\n",
       "    <tr>\n",
       "      <th>0</th>\n",
       "      <td>DEFB132</td>\n",
       "      <td>ENST00000382376.4</td>\n",
       "      <td>chr20:257724-261096 (+)</td>\n",
       "      <td>chr20:259132-259150 (+)</td>\n",
       "      <td>867</td>\n",
       "    </tr>\n",
       "    <tr>\n",
       "      <th>1</th>\n",
       "      <td>C20orf96</td>\n",
       "      <td>ENST00000360321.7</td>\n",
       "      <td>chr20:270863-290750 (-)</td>\n",
       "      <td>chr20:279437-279455 (-)</td>\n",
       "      <td>871</td>\n",
       "    </tr>\n",
       "    <tr>\n",
       "      <th>2</th>\n",
       "      <td>SOX12</td>\n",
       "      <td>ENST00000342665.5</td>\n",
       "      <td>chr20:325552-330224 (+)</td>\n",
       "      <td>chr20:326979-326997 (-)</td>\n",
       "      <td>878</td>\n",
       "    </tr>\n",
       "    <tr>\n",
       "      <th>3</th>\n",
       "      <td>NRSN2</td>\n",
       "      <td>ENST00000382285.7</td>\n",
       "      <td>chr20:347111-354862 (+)</td>\n",
       "      <td>chr20:354638-354656 (+)</td>\n",
       "      <td>892</td>\n",
       "    </tr>\n",
       "    <tr>\n",
       "      <th>4</th>\n",
       "      <td>TBC1D20</td>\n",
       "      <td>ENST00000354200.5</td>\n",
       "      <td>chr20:435480-462533 (-)</td>\n",
       "      <td>chr20:442224-442242 (+)</td>\n",
       "      <td>874</td>\n",
       "    </tr>\n",
       "  </tbody>\n",
       "</table>\n",
       "</div>"
      ],
      "text/plain": [
       "       gene                tid                 location  \\\n",
       "0   DEFB132  ENST00000382376.4  chr20:257724-261096 (+)   \n",
       "1  C20orf96  ENST00000360321.7  chr20:270863-290750 (-)   \n",
       "2     SOX12  ENST00000342665.5  chr20:325552-330224 (+)   \n",
       "3     NRSN2  ENST00000382285.7  chr20:347111-354862 (+)   \n",
       "4   TBC1D20  ENST00000354200.5  chr20:435480-462533 (-)   \n",
       "\n",
       "            ctcf_locations ctcf_scores  \n",
       "0  chr20:259132-259150 (+)         867  \n",
       "1  chr20:279437-279455 (-)         871  \n",
       "2  chr20:326979-326997 (-)         878  \n",
       "3  chr20:354638-354656 (+)         892  \n",
       "4  chr20:442224-442242 (+)         874  "
      ]
     },
     "metadata": {},
     "output_type": "display_data"
    },
    {
     "data": {
      "image/png": "[encoded data removed]",
      "text/plain": [
       "<Figure size 640x480 with 1 Axes>"
      ]
     },
     "metadata": {},
     "output_type": "display_data"
    }
   ],
   "source": [
    "# gencode annotation GFF\n",
    "times, results=Counter(),Counter()\n",
    "with rna.Timer(times, 'hybrid_approach1') as timer:\n",
    "    # Build subset of human transcriptome (canonical protein coding genes on chrom 2)\n",
    "    t=rna.Transcriptome(\n",
    "        annotation_gff=rna.get_resource(\"full_gencode_gff\"),\n",
    "        annotation_flavour='gencode',\n",
    "        genome_fa = rna.get_resource(\"grch38_chr20\"), # GRCh38 chr20 reference sequence\n",
    "        feature_filter = rna.TranscriptFilter().include_tags('Ensembl_canonical', include_missing=False).\\\n",
    "            include_gene_types('protein_coding', include_missing=False).include_chromosomes('chr20'),\n",
    "        load_sequence_data=False\n",
    "    )\n",
    "    # custom annotation method\n",
    "    def anno_ctcf(item, label='ctcf_scores'):\n",
    "        \"\"\" \n",
    "            Callback method for annotating transcripts.\n",
    "\n",
    "            loc: genomic interval of the feature that is annotated\n",
    "            anno: the transcriptome anno dict for this feature (so you can also access any other already existing annotations for this feature)\n",
    "            dfrows: list of (loc, row) tuples containing all overlapping locations (loc) and the respective dataframe rows\n",
    "\n",
    "            This method adds 'ctcf' annotations comprising of a list of (location, score) tuples that are overlapping the annotated transcript\n",
    "        \"\"\"\n",
    "        loc, (anno, dfrows) = item\n",
    "        if label not in anno:\n",
    "            anno[label]=[]\n",
    "        for sloc,dfrow in dfrows:\n",
    "            anno[label].append((sloc,dfrow.score)) # add ctcf motif annotations\n",
    "    # anotate all transcripts using the above defined anno_ctcf method\n",
    "    display(\"Annotating transcriptome\")     \n",
    "    t.annotate(anno_its=rna.it(ctcf_sites, style='bioframe'), \n",
    "               fun_anno=anno_ctcf, \n",
    "               feature_types=['transcript'])\n",
    "    # build dataframe of transcripts with at least one overlapping CTCF peak\n",
    "    results[timer.name]= pd.DataFrame([(tx.parent.gene_name, \n",
    "                                        tx.feature_id,\n",
    "                                        str(tx.location),\n",
    "                                        ','.join([str(l) for l,_ in tx.ctcf_scores]),\n",
    "                                        ','.join([str(s) for _,s in tx.ctcf_scores])) for tx in t.transcript.values() if len(tx.ctcf_scores)>0], \n",
    "                                      columns=['gene','tid','location','ctcf_locations','ctcf_scores'])\n",
    "\n",
    "    \n",
    "with rna.Timer(times, 'hybrid_approach2') as timer:\n",
    "    \"\"\" Here, we read the gencode annotation data via bioframe and correct the start coordinates as required.\n",
    "        We then overlap with the ctcf sites and iterate over the resulting dataframe, parse the GFF attributes and\n",
    "        filter for canonical, protein-coding genes. Finally, we build the result pandas dataframe.\n",
    "    \"\"\"\n",
    "    tx = bioframe.read_table(rna.get_resource(\"full_gencode_gff\"), schema='gff', comment='#').query(\"chrom=='chr20' & feature=='transcript'\")\n",
    "    tx['start']=tx['start']-1 # we need to correct start coordinates as bioframe coordinates are assumed to be 0-based and no correction is done (see above)\n",
    "    over=bioframe.overlap(tx, ctcf_sites, suffixes=('','_ctcf'), how='left', return_index=True) # NOTE: cannot use inner here as it will change order :/\n",
    "    data={'gene':[], 'tid':[], 'location':[], 'ctcf_locations':[], 'ctcf_scores':[]}\n",
    "    for loc, row in rna.it(over, style='bioframe'):\n",
    "        info = rna.parse_gff_attributes(row.attributes) # parse gff attributes from attributes column.\n",
    "        if not info.get('gene_type', 'NA') == 'protein_coding':\n",
    "            continue\n",
    "        if 'Ensembl_canonical' not in info.get('tag','NA'):\n",
    "            continue\n",
    "        if pd.isnull(row.start_ctcf): # filter tx w/o ctcf site\n",
    "            continue\n",
    "        data['gene'].append(info['gene_name'])\n",
    "        data['tid'].append(info['transcript_id'])\n",
    "        data['location'].append(str(loc))\n",
    "        ctcf_loc = gi(row.chrom_ctcf, row.start_ctcf+1, row.end_ctcf, strand=row.strand_ctcf)\n",
    "        data['ctcf_locations'].append(str(ctcf_loc)) # coorect coords\n",
    "        data['ctcf_scores'].append(str(int(row.score_ctcf)))\n",
    "    df = pd.DataFrame.from_dict(data) # create dataframe\n",
    "    df = df.groupby(['gene','tid','location'], sort=False).agg(','.join).reset_index() # colapse rows while keeping sort order\n",
    "    results[timer.name]=df\n",
    "\n",
    "\n",
    "# assert that we get same results\n",
    "assert len(results['hybrid_approach1'].compare(results['hybrid_approach2']).index)==0\n",
    "\n",
    "rna.plot_times(f\"Collecting overlapping ctcf motifs\",\n",
    "       times, reference_method='hybrid_approach1')\n",
    "\n",
    "# show some data\n",
    "display(results['hybrid_approach1'].head())\n",
    "display(results['hybrid_approach2'].head())"
   ]
  },
  {
   "cell_type": "markdown",
   "id": "473f1cf8-4609-40dd-836b-fd64e2ca7ef1",
   "metadata": {},
   "source": [
    "Approach1 is faster, probably due to early filtering, and more flexible in our opinion. \n",
    "In the callback annotation method users have access to genomic locations and all data attributes of transcripts and the overlapping CTCF motifs as well as external data. \n",
    "They are also free to chose the created annotation data structures (here a list of location/score tuples). Together, this enables the implementation of complex annotation scenarios."
   ]
  },
  {
   "cell_type": "markdown",
   "id": "58ee5f53-69dc-4869-89e1-1dd45bd9b038",
   "metadata": {},
   "source": [
    "## Add CTCF sites as features to the transcriptome\n",
    "Now, we load gene sequences from the genome FASTA and add CTCF sites as child features of the genes that envelop them:"
   ]
  },
  {
   "cell_type": "code",
   "execution_count": 5,
   "id": "1de08623-b978-4d19-a2ed-8a43a2d593cb",
   "metadata": {},
   "outputs": [
    {
     "data": {
      "application/vnd.jupyter.widget-view+json": {
       "model_id": "6cf4052bfe51419e93f1bcee28a3ca27",
       "version_major": 2,
       "version_minor": 0
      },
      "text/plain": [
       "Load sequences:   0%|          | 0/546 [00:00<?, ?it/s]"
      ]
     },
     "metadata": {},
     "output_type": "display_data"
    },
    {
     "data": {
      "application/vnd.jupyter.widget-view+json": {
       "model_id": "29b5836567ad4ae1a749bf497c61404e",
       "version_major": 2,
       "version_minor": 0
      },
      "text/plain": [
       "  0%|          | 0/1 [00:00<?, ?it/s]"
      ]
     },
     "metadata": {},
     "output_type": "display_data"
    },
    {
     "name": "stderr",
     "output_type": "stream",
     "text": [
      "/Users/niko/.virtualenvs/rnalib/lib/python3.12/site-packages/rnalib/__init__.py:1325: UserWarning: Adding custom features is still an experimental feature in rnalib. Expect bugs!\n",
      "  warnings.warn(\n"
     ]
    }
   ],
   "source": [
    "t.load_sequences()\n",
    "ctcf_id=0\n",
    "ctcf_tuples=list()\n",
    "with rna.AnnotationIterator(t.iterator(feature_types='gene'),\n",
    "                            anno_its=rna.it(ctcf_sites, style='bioframe')) as it:\n",
    "    for loc, (anno, dfrows) in it:\n",
    "        for item in dfrows:\n",
    "            if loc.envelops(item.location):\n",
    "                ctcf_tuples.append((item.location, f\"ctcf{ctcf_id}\", \"ctcf\", loc))\n",
    "# add features\n",
    "for location,feature_id,feature_type,parent in ctcf_tuples:\n",
    "    t.add(location,feature_id,feature_type,parent,(), sort=False) # this is slow as it sorts for every feature\n",
    "t.sort()"
   ]
  },
  {
   "cell_type": "markdown",
   "id": "7a5de44e-f77a-48a8-a5d0-9568cfb76f26",
   "metadata": {},
   "source": [
    "Now we can access the sequences of the CTCF sites as they will be sliced from the enveloping gene. Here, we show the respective sequences for 5 random ctcf sites."
   ]
  },
  {
   "cell_type": "code",
   "execution_count": 6,
   "id": "06e1bb39-3539-4eb3-b34b-432bc663908b",
   "metadata": {},
   "outputs": [
    {
     "name": "stdout",
     "output_type": "stream",
     "text": [
      "ctcf@chr20:2524551-2524569 + TGGCCAACAGGGGGCGCCC\n",
      "ctcf@chr20:37842979-37842997 - CATCCAGCAGGTGTCACTT\n",
      "ctcf@chr20:36919895-36919913 - TCACCACTAGATGGTAGTG\n",
      "ctcf@chr20:31557542-31557560 + CAGCCGCCAGGGGGCACTG\n",
      "ctcf@chr20:10553543-10553561 + CCTCCACCTGGTGGCAGCA\n"
     ]
    }
   ],
   "source": [
    "import random\n",
    "for ctcf in random.sample([ctcf for ctcf, _ in t.iterator(feature_types='ctcf')], 5):\n",
    "    print(ctcf, ctcf.strand, rna.reverse_complement(ctcf.sequence) if ctcf.strand==\"-\" else ctcf.sequence)"
   ]
  },
  {
   "cell_type": "markdown",
   "id": "800c4449-6df9-4837-85fb-82ba76fc9926",
   "metadata": {},
   "source": [
    "And here we are calculating a conensus sequence with *biopyton* and a sequence logo with [weblogo](http://weblogo.threeplusone.com/)."
   ]
  },
  {
   "cell_type": "code",
   "execution_count": 7,
   "id": "408bcfc6-41e6-4561-bfde-802082a8e4b2",
   "metadata": {},
   "outputs": [
    {
     "data": {
      "text/plain": [
       "'CTCF Consensus sequence: TAGTGCCCCCTGCTGGCCA'"
      ]
     },
     "metadata": {},
     "output_type": "display_data"
    },
    {
     "data": {
      "image/png": "[encoded data removed]",
      "text/plain": [
       "<IPython.core.display.Image object>"
      ]
     },
     "metadata": {
      "image/png": {
       "unconfined": true
      }
     },
     "output_type": "display_data"
    }
   ],
   "source": [
    "import tempfile, time\n",
    "from IPython.display import Image\n",
    "from IPython.core.display import HTML \n",
    "from Bio.Align import AlignInfo, MultipleSeqAlignment, Seq, SeqRecord\n",
    "from Bio.motifs import Motif\n",
    "\n",
    "# create a muliple sequence alignment object\n",
    "msa = MultipleSeqAlignment([SeqRecord(Seq(rna.reverse_complement(ctcf.sequence.upper()) if ctcf.strand==\"+\" else ctcf.sequence.upper())) for ctcf,_ in t.iterator(feature_types='ctcf')])\n",
    "# creat Motif with ATCG alphabet\n",
    "motif = Motif(\"ACTG\", msa.alignment)\n",
    "# show consensus sequence\n",
    "display(f\"CTCF Consensus sequence: {motif.consensus}\")\n",
    "\n",
    "with tempfile.TemporaryDirectory(dir=rna.__RNALIB_TESTDATA__) as tmpdir:\n",
    "    img_path=f\"{tmpdir}/ctcf.png\"\n",
    "    motif.weblogo(img_path, logo_title='CTCF logo',  )\n",
    "    rel_img_path = os.path.relpath(img_path, pathlib.Path(os.path.abspath(rna.__RNALIB_TESTDATA__)).parent)\n",
    "    display(Image(filename=rel_img_path,unconfined=True))"
   ]
  },
  {
   "cell_type": "markdown",
   "id": "dd2cef7d-715c-4408-af2b-84e025b2b09c",
   "metadata": {},
   "source": [
    "You can compare to the [CTCF motif at the JASPAR website](https://jaspar.elixir.no/matrix/MA0139.1/?revcomp=1) (note the different colors though)."
   ]
  },
  {
   "cell_type": "markdown",
   "id": "363fa3f8-88de-446e-a7ff-5081e6937846",
   "metadata": {},
   "source": [
    "## Summary\n",
    "\n",
    "This concludes our small CTCF site annotation tutorial. This tutorial demonstrated:\n",
    "* How to combine *bioframe* and *rnalib* for the anotation of genes with CTCF motifs\n",
    "* How to compare the performance between two different approaches for this task\n",
    "* How to add custom child annotations to a transcriptome and access their sequences via *rnalib*"
   ]
  }
 ],
 "metadata": {
  "kernelspec": {
   "display_name": "rnalib",
   "language": "python",
   "name": "rnalib"
  },
  "language_info": {
   "codemirror_mode": {
    "name": "ipython",
    "version": 3
   },
   "file_extension": ".py",
   "mimetype": "text/x-python",
   "name": "python",
   "nbconvert_exporter": "python",
   "pygments_lexer": "ipython3",
   "version": "3.12.1"
  }
 },
 "nbformat": 4,
 "nbformat_minor": 5
}
