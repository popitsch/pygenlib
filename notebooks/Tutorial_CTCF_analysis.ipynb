{
 "cells": [
  {
   "cell_type": "markdown",
   "id": "6d6f324f-3309-4bb5-9fbe-5bfb53268200",
   "metadata": {
    "tags": []
   },
   "source": [
    "## Tutorial: CTCF motif annotation with bioframe and rnalib\n",
    "\n",
    "In this example we use rnalib to instantiate a human Transcriptome (canonical protein-coding transcripts on chromosome 2 only), download an  CTCF motif dataset with bioframe and annotate all transcripts with those motifs. We then report all genes/transcripts with at least one overlapping CTCF motif.\n",
    "This example demonstrates how to use these two libaries together for maximum benefit.\n",
    "\n",
    "We demonstrate two annotation scenarios and compare their runtimes.\n",
    "\n",
    "Required test resources\n",
    "* gencode_39 GFF\n",
    "* JASPAR ctcf sites\n",
    "\n",
    "First, we load the required libraries."
   ]
  },
  {
   "cell_type": "code",
   "execution_count": null,
   "id": "005973b0-ed59-4f85-8213-bee46ca89fcb",
   "metadata": {},
   "outputs": [],
   "source": [
    "# set path and load rnalib\n",
    "import os, pathlib, platform\n",
    "rnalib_SRC=pathlib.Path('/Users/niko/projects/rnalib/') \n",
    "os.chdir(rnalib_SRC)\n",
    "# install libraries. Recommended to run in a venv here!\n",
    "#!{sys.executable} -m pip install -r requirements.txt \n",
    "display(f\"Running rnalib on python {platform.python_version()}. Using rnalib code from {rnalib_SRC}\")\n",
    "# load rnalib\n",
    "import rnalib\n",
    "import matplotlib.pyplot as plt\n",
    "import pandas as pd\n",
    "import numpy as np\n",
    "import ssl\n",
    "import bioframe"
   ]
  },
  {
   "cell_type": "markdown",
   "id": "11880afe-e3ec-4848-9c2a-e1e3bd80f3a7",
   "metadata": {},
   "source": [
    "First, we download gencode 39 annotations.\n",
    "NOTE that this needs bedtools, samtools and htslib (bgzip, tabix) installed.\n",
    "Total size of the downloaded data (for all tutorials) is ~150M. Files are only downloaded if not existing already in the `notebooks/large_test_resources/` directory."
   ]
  },
  {
   "cell_type": "code",
   "execution_count": null,
   "id": "0f51c0ba-9054-42b1-8a88-d6e43c3c64af",
   "metadata": {},
   "outputs": [],
   "source": [
    "import traceback\n",
    "from rnalib.testdata import download_bgzip_slice\n",
    "outdir=rnalib_SRC / 'notebooks/large_test_resources' # update to your preferred location\n",
    "large_test_resources = {\n",
    "    \"outdir\": f\"{outdir}\", # update to your preferred location\n",
    "    \"resources\": {\n",
    "        # -------------- Full gencode39 annotation -------------------------------\n",
    "        \"full_gencode_gff\": {\n",
    "            \"uri\": \"https://ftp.ebi.ac.uk/pub/databases/gencode/Gencode_human/release_39/gencode.v39.annotation.gff3.gz\",\n",
    "            \"filename\": \"gencode_39.gff3.gz\",\n",
    "            \"recreate\": False\n",
    "        }   \n",
    "    }\n",
    "}\n",
    "display(f'Downloading test data files to {outdir}')\n",
    "for resname in large_test_resources['resources']:\n",
    "    try:\n",
    "        download_bgzip_slice(large_test_resources, resname, view_tempdir=False)\n",
    "    except Exception:\n",
    "        display(traceback.format_exc())\n",
    "        display(f\"Error creating resource {resname}. Some tests may not work...\")\n",
    "display(\"All done.\")"
   ]
  },
  {
   "cell_type": "markdown",
   "id": "2e22b750-07dc-4d2d-a280-7ae761c3853b",
   "metadata": {},
   "source": [
    "Now, we use bioframe to read a set of CTCF binding sites from JASPAR and filter for chromosome 2 and \n",
    "minimum P-value.\n",
    "NOTE that this cell might fail with a TimeoutError if the JASPAR data is not accessible."
   ]
  },
  {
   "cell_type": "code",
   "execution_count": null,
   "id": "2545b94b-1cdc-485c-aef7-96a196f6bf9f",
   "metadata": {},
   "outputs": [],
   "source": [
    "# see https://genome.ucsc.edu/cgi-bin/hgTrackUi?db=Grch38&g=jaspar\n",
    "jaspar_uri='http://expdata.cmmt.ubc.ca/JASPAR/downloads/UCSC_tracks/2022/hg38/MA0139.1.tsv.gz'\n",
    "ssl._create_default_https_context = ssl._create_unverified_context # to avoid invalid certificate problems\n",
    "ctcf = bioframe.read_table(jaspar_uri, schema='jaspar').query(\"chrom=='chr2' & pval>500\")"
   ]
  },
  {
   "cell_type": "markdown",
   "id": "fac92718-e79c-43ab-a586-d4fc9833ff52",
   "metadata": {},
   "source": [
    "Now, we annotate transcripts with JASPAR motifs. We demonstrate two different approaches:\n",
    "\n",
    "- approach1\n",
    "    - we instantiate a filtered rnalib transcriptome\n",
    "    - we then annotate with the JASPAR motifs loaded via bioframe\n",
    "    - for annotation we use a (very flexible) custom callback method\n",
    "    - finally, we build a pandas dataframe with results containing one row per tx\n",
    "- approach2\n",
    "    - we read the GFF with bioframe and correct the start coordinate as bioframe expects 0-based coordinates\n",
    "    - we overlap tx and ctcf sites with the bioframe overlap method (NOTE that we cannot use the inner join as it would change the order of the ctcf sites)\n",
    "    - we create a results dataframe while filtering for the respective transcripts. This is done base on GFF attributes parsed from the 'attributes' column."
   ]
  },
  {
   "cell_type": "code",
   "execution_count": null,
   "id": "3c10b6d5-14a6-480d-ad6b-ba48037b5143",
   "metadata": {},
   "outputs": [],
   "source": [
    "# gencode annotation GFF\n",
    "gencode_gff=get_resource(\"full_gencode_gff\", conf=large_test_resources) # see download section above\n",
    "\n",
    "times, results=Counter(),Counter()\n",
    "with Timer(times, 'hybrid_approach1') as timer:\n",
    "    # Build subset of human transcriptome (canonical protein coding genes on chrom 2)\n",
    "    t=Transcriptome({\n",
    "        'annotation_gff': gencode_gff,\n",
    "        'annotation_flavour': 'gencode',\n",
    "        'transcript_filter': {\n",
    "            'included_tags': ['Ensembl_canonical'],\n",
    "            'included_genetypes': ['protein_coding'],\n",
    "            'included_chrom': ['chr2']\n",
    "        }\n",
    "    })\n",
    "    # custom annotation method\n",
    "    def anno_ctcf(item, label='ctcf_scores'):\n",
    "        \"\"\" \n",
    "            Callback method for annotating transcripts.\n",
    "\n",
    "            loc: genomic interval of the feature that is annotated\n",
    "            anno: the transcriptome anno dict for this feature (so you can also access any other already existing annotations for this feature)\n",
    "            dfrows: list of (loc, row) tuples containing all overlapping locations (loc) and the respective dataframe rows\n",
    "\n",
    "            This method adds 'ctcf' annotations comprising of a list of (location, score) tuples that are overlapping the annotated transcript\n",
    "        \"\"\"\n",
    "        loc, (anno, dfrows) = item\n",
    "        if label not in anno:\n",
    "            anno[label]=[]\n",
    "        for sloc,dfrow in dfrows:\n",
    "            anno[label].append((sloc,dfrow.score)) # add ctcf motif annotations\n",
    "    # anotate all transcripts using the above defined anno_ctcf method\n",
    "    display(\"Annotating transcriptome\")     \n",
    "    t.annotate(iterators=BioframeIterator(ctcf), \n",
    "               fun_anno=anno_ctcf, \n",
    "               feature_types=['transcript'])\n",
    "    # build dataframe of transcripts with at least one overlapping CTCF peak\n",
    "    results[timer.name]= pd.DataFrame([(tx.parent.gene_name, \n",
    "                                        tx.feature_id,\n",
    "                                        str(tx.location),\n",
    "                                        ','.join([str(l) for l,_ in tx.ctcf_scores]),\n",
    "                                        ','.join([str(s) for _,s in tx.ctcf_scores])) for tx in t.transcript.values() if len(tx.ctcf_scores)>0], \n",
    "                                      columns=['gene','tid','location','ctcf_locations','ctcf_scores'])\n",
    "\n",
    "    \n",
    "with Timer(times, 'hybrid_approach2') as timer:\n",
    "    \"\"\" Here, we read the gencode annotation data via bioframe and correct the start coordinates as required.\n",
    "        We then overlap with the ctcf sites and iterate over the resulting dataframe, parse the GFF attributes and\n",
    "        filter for canonical, protein-coding genes. Finally, we build the result pandas dataframe.\n",
    "    \"\"\"\n",
    "    tx = bioframe.read_table(gencode_gff, schema='gff', comment='#').query(\"chrom=='chr2' & feature=='transcript'\")\n",
    "    tx['start']=tx['start']-1 # we need to correct start coordinates as bioframe coordinates are assumed to be 0-based and no correction is done (see above)\n",
    "    over=bioframe.overlap(tx, ctcf, suffixes=('','_ctcf'), how='left', return_index=True) # NOTE: cannot use inner here as it will change order :/\n",
    "    data={'gene':[], 'tid':[], 'location':[], 'ctcf_locations':[], 'ctcf_scores':[]}\n",
    "    for loc, row in BioframeIterator(over):\n",
    "        info = pg.parse_gff_attributes(row.attributes) # parse gff attributes from attributes column.\n",
    "        if not info.get('gene_type', 'NA') == 'protein_coding':\n",
    "            continue\n",
    "        if 'Ensembl_canonical' not in info.get('tag','NA'):\n",
    "            continue\n",
    "        if pd.isnull(row.start_ctcf): # filter tx w/o ctcf site\n",
    "            continue\n",
    "        data['gene'].append(info['gene_name'])\n",
    "        data['tid'].append(info['transcript_id'])\n",
    "        data['location'].append(str(loc))\n",
    "        ctcf_loc = gi(row.chrom_ctcf, row.start_ctcf+1, row.end_ctcf, strand=row.strand_ctcf)\n",
    "        data['ctcf_locations'].append(str(ctcf_loc)) # coorect coords\n",
    "        data['ctcf_scores'].append(str(int(row.score_ctcf)))\n",
    "    df = pd.DataFrame.from_dict(data) # create dataframe\n",
    "    df = df.groupby(['gene','tid','location'], sort=False).agg(','.join).reset_index() # colapse rows while keeping sort order\n",
    "    results[timer.name]=df\n",
    "\n",
    "\n",
    "# assert that we get same results\n",
    "assert len(results['hybrid_approach1'].compare(results['hybrid_approach2']).index)==0\n",
    "\n",
    "plot_times(f\"Collecting overlapping ctcf motifs\",\n",
    "       times, reference_method='hybrid_approach1', show_speed=False)"
   ]
  },
  {
   "cell_type": "markdown",
   "id": "473f1cf8-4609-40dd-836b-fd64e2ca7ef1",
   "metadata": {},
   "source": [
    "Approach1 is faster (probably due to early filtering) and more flexible in our opinion. \n",
    "In the callback annotation method users have access to genomic locations and all data attributes of transcripts and the overlapping CTCF motifs as well as external data. \n",
    "They are also free to chose the created annotation data structures (here a list of location/score tuples). Together, this enables the implementation of complex annotation scenarios."
   ]
  }
 ],
 "metadata": {
  "kernelspec": {
   "display_name": "Python 3 (ipykernel)",
   "language": "python",
   "name": "python3"
  },
  "language_info": {
   "codemirror_mode": {
    "name": "ipython",
    "version": 3
   },
   "file_extension": ".py",
   "mimetype": "text/x-python",
   "name": "python",
   "nbconvert_exporter": "python",
   "pygments_lexer": "ipython3",
   "version": "3.10.4"
  }
 },
 "nbformat": 4,
 "nbformat_minor": 5
}
