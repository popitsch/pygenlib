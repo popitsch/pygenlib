{
 "cells": [
  {
   "cell_type": "markdown",
   "id": "aa513140-b721-4230-aa1b-ae8d786018c5",
   "metadata": {
    "tags": []
   },
   "source": [
    "## Tutorial: Gene annotation comparison\n",
    "\n",
    "In this example, we compare two human gene annotation sets, namely gencode (v39) and chess (v3.0.1).\n",
    "We load all protein_coding genes from both annotation sets, update the gene-names to their latest given symbol (using gennames.org data) and compare both lists. We then exemplary show how to further analyze differences between those gene annotation sets.\n",
    "\n",
    "*Required resources:*\n",
    "- Human genome FASTA (GRCh38), accessible at https://www.ncbi.nlm.nih.gov/datasets/genome/GCF_000001405.26/\n",
    "- Full gencode annotation gff3 file (sorted), available at https://www.gencodegenes.org/human/\n",
    "- Full chess 3.0.1 annotation gff3 file (sorted), available at https://github.com/chess-genome/chess/releases/download/v.3.0.1/chess3.0.1.gff.gz"
   ]
  },
  {
   "cell_type": "code",
   "execution_count": null,
   "id": "cc18d014-4f15-49e2-8c61-fb25ae5a7efb",
   "metadata": {},
   "outputs": [],
   "source": [
    "# set path and load rnalib\n",
    "import os, pathlib, platform\n",
    "rnalib_SRC=pathlib.Path('/Users/niko/projects/rnalib/') \n",
    "os.chdir(rnalib_SRC)\n",
    "# install libraries. Recommended to run in a venv here!\n",
    "#!{sys.executable} -m pip install -r requirements.txt \n",
    "display(f\"Running rnalib on python {platform.python_version()}. Using rnalib code from {rnalib_SRC}\")\n",
    "# load rnalib\n",
    "import rnalib as pg\n",
    "from rnalib import SEP, display_textarea\n",
    "from tqdm.auto import tqdm\n",
    "import tempfile\n",
    "import matplotlib.pyplot as plt\n",
    "import seaborn as sns\n",
    "from collections import Counter, defaultdict\n",
    "import pandas as pd\n",
    "import numpy as np\n",
    "import traceback\n",
    "import math"
   ]
  },
  {
   "cell_type": "markdown",
   "id": "caa51ef8-8fd0-4ff1-b252-a65d09ef6fb1",
   "metadata": {},
   "source": [
    "First, we download gencode 39 and chess 3.0.1 annotations as well as a table with current gene symbols and their aliases from genenames.org.\n",
    "NOTE that this needs bedtools, samtools and htslib (bgzip, tabix) installed.\n",
    "Total size of the downloaded data (for all tutorials) is ~150M. Files are only downloaded if not existing already in the `notebooks/large_test_resources/` directory."
   ]
  },
  {
   "cell_type": "code",
   "execution_count": null,
   "id": "c6228e45-cb47-47b5-91c9-9dbb2fc8f034",
   "metadata": {},
   "outputs": [],
   "source": [
    "outdir=rnalib_SRC / 'notebooks/large_test_resources' # update to your preferred location\n",
    "large_test_resources = {\n",
    "    \"outdir\": f\"{outdir}\", # update to your preferred location\n",
    "    \"resources\": {\n",
    "        # -------------- Full gencode39 annotation -------------------------------\n",
    "        \"full_gencode_gff\": {\n",
    "            \"uri\": \"https://ftp.ebi.ac.uk/pub/databases/gencode/Gencode_human/release_39/gencode.v39.annotation.gff3.gz\",\n",
    "            \"filename\": \"gencode_39.gff3.gz\",\n",
    "            \"recreate\": False\n",
    "        },\n",
    "        # -------------- Full chess annotation -------------------------------\n",
    "        \"full_chess_gtf\": {\n",
    "            \"uri\": \"https://github.com/chess-genome/chess/raw/master/chess3.0.1.gtf.gz\",\n",
    "            \"filename\": \"chess3.0.1.gtf.gz\",\n",
    "            \"recreate\": False\n",
    "        },\n",
    "        # -------------- Gene name aliases -------------------------------\n",
    "        \"gene_aliases\": {\n",
    "            \"uri\": \"https://ftp.ebi.ac.uk/pub/databases/genenames/hgnc/tsv/hgnc_complete_set.txt\",\n",
    "            \"filename\": \"hgnc_complete_set.txt\",\n",
    "            \"recreate\": False\n",
    "        },\n",
    "        # -------------- GRCh38 chr20 -------------------------------\n",
    "        \"grch38_chr20\": {\n",
    "            \"uri\": \"https://hgdownload.cse.ucsc.edu/goldenpath/hg38/chromosomes/chr20.fa.gz\",\n",
    "            \"filename\": \"grch38_chr20.fa.gz\",\n",
    "            \"recreate\": False\n",
    "        }\n",
    "    }\n",
    "}\n",
    "display(f'Downloading test data files to {outdir}')\n",
    "for resname in large_test_resources['resources']:\n",
    "    try:\n",
    "        pg.testdata.download_bgzip_slice(large_test_resources, resname, view_tempdir=False)\n",
    "    except Exception:\n",
    "        display(traceback.format_exc())\n",
    "        display(f\"Error creating resource {resname}. Some tests may not work...\")\n",
    "display(\"All done.\")"
   ]
  },
  {
   "cell_type": "markdown",
   "id": "157bd242-7d8c-45a4-aa5c-d2b07f2c6809",
   "metadata": {},
   "source": [
    "Now we load gencode and chess annotation data and build the respective transcriptomes (takes about 4min).\n",
    "We configure a transcript filter that includes only entries with gene_type 'protein_coding' and restrict this analysis to all canonical GRCh38 chromsomes (i.e., chr1-22,X,Y,M).\n",
    "To update to the latest gene symbols, we use genenames.org data and configure via the 'gene_name_alias_file' property. rnalib automatically updates gene names accordingly. "
   ]
  },
  {
   "cell_type": "code",
   "execution_count": null,
   "id": "020f8582-8ea6-4e97-9f6f-43368675cf9b",
   "metadata": {
    "tags": []
   },
   "outputs": [],
   "source": [
    "alias_txt=pg.get_resource(\"gene_aliases\", conf=large_test_resources) # gene name aliases\n",
    "gencode_gff=pg.get_resource(\"full_gencode_gff\", conf=large_test_resources) # Gencode data\n",
    "chess_gff=pg.get_resource(\"full_chess_gtf\", conf=large_test_resources) # Chess data\n",
    "\n",
    "txfilter = pg.TranscriptFilter(). \\\n",
    "    include_gene_types({'protein_coding'}). \\\n",
    "    include_chromosomes(pg.CANONICAL_CHROMOSOMES['GRCh38'])\n",
    "\n",
    "t_gc=pg.Transcriptome({\n",
    "    'annotation_gff': gencode_gff,\n",
    "    'annotation_flavour': 'gencode',\n",
    "    'copied_fields': ['gene_type', 'transcript_type'],\n",
    "    'drop_empty_genes': False,\n",
    "    'gene_name_alias_file': alias_txt\n",
    "}, txfilter)\n",
    "# NOTE: in chess, there ais no 'transcript_type' annotation\n",
    "t_ch=pg.Transcriptome({\n",
    "    'annotation_gff': chess_gff,\n",
    "    'annotation_flavour': 'chess',\n",
    "    'copied_fields': ['gene_type'],\n",
    "    'drop_empty_genes': False,\n",
    "    'gene_name_alias_file': alias_txt\n",
    "}, txfilter)\n",
    "# compare\n",
    "display(SEP)\n",
    "display(t_gc)\n",
    "display(t_ch)"
   ]
  },
  {
   "cell_type": "markdown",
   "id": "2f6ea48c-e05b-45f7-88f3-be1879ffa096",
   "metadata": {},
   "source": [
    "Please note that, the numbers reported in the [Chess3 paper](https://genomebiology.biomedcentral.com/articles/10.1186/s13059-023-03088-4/) differ, particularly in the number of protein_coding gencode transcripts:\n",
    "\n",
    "| Database    | Number of protein-coding gene loci | Number of protein-coding transcripts | Number of distinct protein sequences | Number of gene loci (all types) |\n",
    "|-------------|------------------------------------|--------------------------------------|--------------------------------------|---------------------------------|\n",
    "| CHESS v3    | 19,839                             | 99,202                               | 73,767                               | 41,356                          |\n",
    "| RefSeq v110 | 19,884                             | 129,740                              | 88,662                               | 43,380                          |\n",
    "| GENCODE v41 | 19,419                             | 110,309                              | 92,968                               | 46,181                          |\n",
    "\n",
    "*Table 1 from the [CHESS3 paper](https://genomebiology.biomedcentral.com/articles/10.1186/s13059-023-03088-4/tables/1): Total number of genes and protein-coding isoforms in current versions of CHESS, RefSeq, and GENCODE. Genes are counted on the primary chromosomes and unplaced scaffolds from the human reference genome GRCh38, excluding the alternative scaffolds. Pseudogenes, VDJ segments, and C regions are not included in the totals shown in the final column.*\n",
    "\n",
    "This can partially be explained by the different chromosome sets used (we include only primary chromosomes)."
   ]
  },
  {
   "cell_type": "markdown",
   "id": "d73dc306-4602-457e-a6ef-c3d4b3496593",
   "metadata": {},
   "source": [
    "Now we can have a look at the shared and unique (normalized) gene names and\n",
    "display the unique gene names for genocde and chess."
   ]
  },
  {
   "cell_type": "code",
   "execution_count": null,
   "id": "d0227791-fa5f-4d75-aa44-2482a5182462",
   "metadata": {
    "tags": []
   },
   "outputs": [],
   "source": [
    "# cmp_sets is a rnalib utility function for set comparison\n",
    "shared, uniq_gc, uniq_ch = pg.cmp_sets({x.gene_name for x in t_gc.genes}, \n",
    "                                       {x.gene_name for x in t_ch.genes}) \n",
    "display(f\"Unique gene names in gencode: {len(shared)+len(uniq_gc)}, in chess: {len(shared)+len(uniq_ch)}\")\n",
    "display(f\"Shared: {len(shared)}, only in gencode: {len(uniq_gc)}, only in chess: {len(uniq_ch)}\")\n",
    "display_textarea(f\"Unique in gencode: {uniq_gc}\")\n",
    "display_textarea(f\"Unique in chess: {uniq_ch}\")"
   ]
  },
  {
   "cell_type": "markdown",
   "id": "06d6029b-fedd-4244-b894-953d387f7e87",
   "metadata": {
    "tags": []
   },
   "source": [
    "As expected, most genes are annotated in both sets as expected but there are some unique entries too.\n",
    "Most unique genecode genes have no given name but an ensembl gene id (starting with ENSG), \n",
    "while most unique chess genes start with “LOC” which indicates unknown function.\n",
    "Let's have a look at 'GCNT7' which is only annotated in gencode \n",
    "(https://www.genecards.org/cgi-bin/carddisp.pl?gene=GCNT7)\n",
    " We query the chess annotation set for the coordinates of the GCNT7 gene in the gencode annotation:"
   ]
  },
  {
   "cell_type": "code",
   "execution_count": null,
   "id": "6576767c-3620-48d3-8611-c62b5c4a532e",
   "metadata": {
    "tags": []
   },
   "outputs": [],
   "source": [
    "display(f\"In Gencode, GCNT7 is annotated at {t_gc.gene['GCNT7'].location}\")\n",
    "display(\"In Gencode at this region:\", [(x.location, x.gene_name, x.strand) for x in t_gc.query(t_gc.gene['GCNT7'], feature_types=['gene'])])\n",
    "display(\"In Chess at this region:\", [(x.location, x.gene_name, x.strand) for x in t_ch.query(t_gc.gene['GCNT7'], feature_types=['gene'])])"
   ]
  },
  {
   "cell_type": "markdown",
   "id": "1758ae59-1e6b-4a7f-9f06-7d60f5d582f0",
   "metadata": {
    "tags": []
   },
   "source": [
    "Indeed, it shows only RTF2 and 'FAM209A', both on the opposite strand.\n",
    "Vice versa, we look at 'MMP24-AS1-EDEM2' which is found only in the chess annotation"
   ]
  },
  {
   "cell_type": "code",
   "execution_count": null,
   "id": "03f206fa-2b19-4694-b6a7-85ca2f411e77",
   "metadata": {
    "tags": []
   },
   "outputs": [],
   "source": [
    "display(f\"In Chess, MMP24-AS1-EDEM2 is annotated at {t_ch.gene['MMP24-AS1-EDEM2'].location}\")\n",
    "display(\"In Gencode at this region:\", [(x.location, x.gene_name, x.strand) for x in t_gc.query(t_ch.gene['MMP24-AS1-EDEM2'], feature_types=['gene'])])\n",
    "display(\"In Chess at this region:\", [(x.location, x.gene_name, x.strand) for x in t_ch.query(t_ch.gene['MMP24-AS1-EDEM2'], feature_types=['gene'])])"
   ]
  },
  {
   "cell_type": "markdown",
   "id": "df4af92a-2244-487e-af2a-4a59dae1679a",
   "metadata": {},
   "source": [
    "Note that not all gene names in a transcriptome are unique. For example, genes in pseudo-autosomal \n",
    "regions (PAR), such as WASH6P, are annotated at different genomic locations (e.g., X and Y chromosomes)\n",
    "with the same gene_name but different feature IDs. rnalib properly handles such\n",
    "genes and maintains a dict that maps duplicate gene_names to the respective gene objects:"
   ]
  },
  {
   "cell_type": "code",
   "execution_count": null,
   "id": "50887c09-79d5-469b-b184-46f297112bc8",
   "metadata": {},
   "outputs": [],
   "source": [
    "display_textarea(f\"Duplicate gene names in gencode: {t_gc.duplicate_gene_names}\") \n",
    "display_textarea(f\"Duplicate gene names in chess: {t_ch.duplicate_gene_names}\")"
   ]
  },
  {
   "cell_type": "markdown",
   "id": "0191d655-dbe6-4ec5-b3a5-74468a3d723f",
   "metadata": {},
   "source": [
    "For a more detailed analysis, we iterate all gencode genes and overlap with chess annotations \n",
    "using rnalib's annotation iterator. \n",
    "We count some stats and select the chess annotation with the highest overlap for a gene-to-gene comparison.\n",
    "Finally, we calculate a histogram of absolute difference between gencode and chess annotations for start and end \n",
    "coordinates and plot the first 50 values in a barplot"
   ]
  },
  {
   "cell_type": "code",
   "execution_count": null,
   "id": "9ab10bee-36de-4d68-b532-e4224ba2929f",
   "metadata": {},
   "outputs": [],
   "source": [
    "stats=Counter()\n",
    "examples=dict()\n",
    "hist_start, hist_end=Counter(), Counter()\n",
    "diff_annos=list()\n",
    "with pg.AnnotationIterator(\n",
    "    pg.TranscriptomeIterator(t_gc, feature_types='gene'),\n",
    "    pg.TranscriptomeIterator(t_ch, feature_types='gene')) as it:\n",
    "    for gene_gc, dat in it:\n",
    "        stats['gencode_genes']+=1\n",
    "        if len(dat.it0)==0:\n",
    "            stats['gencode_genes_no_match']+=1\n",
    "            continue\n",
    "        genes_ch = {g.location for g in dat.it0}\n",
    "        # check whether gene names match\n",
    "        if gene_gc.gene_name not in [g.gene_name for g in genes_ch]:\n",
    "            stats['differing_gene_name'] += 1\n",
    "            if gene_gc.gene_name not in shared:\n",
    "                stats['differing_gene_name_uniq'] += 1\n",
    "            examples['differing_gene_name_example'] = f\"gc: {gene_gc.gene_name}, ch: {[g.gene_name for g in genes_ch]}\"\n",
    "            continue\n",
    "        # check whether coordinates match\n",
    "        if gene_gc.get_location() not in [g.get_location() for g in genes_ch]:\n",
    "            stats['differing_location'] += 1\n",
    "            examples['differing_location_example'] = f\"gc: {gene_gc.get_location()}, ch: {genes_ch}\"\n",
    "            # select overlapping chess annotation with minimum abs difference\n",
    "            overlaps={g:abs(gene_gc.left_pos().distance(g.left_pos()))+abs(gene_gc.right_pos().distance(g.right_pos())) for g in genes_ch}\n",
    "            closest_anno=min(overlaps, key=overlaps.get)\n",
    "            abs_diff_start = abs(gene_gc.left_pos().distance(closest_anno.left_pos()))\n",
    "            abs_diff_end = abs(gene_gc.right_pos().distance(closest_anno.right_pos()))\n",
    "            hist_start[abs_diff_start]+=1\n",
    "            hist_end[abs_diff_end]+=1\n",
    "            diff_annos.append((abs_diff_start+abs_diff_end,gene_gc, closest_anno))\n",
    "display(stats)\n",
    "display(examples)\n",
    "fig, (ax1, ax2) = plt.subplots(1, 2, figsize=(12, 4))\n",
    "x,y=zip(*sorted(hist_start.items())[:50])\n",
    "ax1.bar(x,y)\n",
    "ax1.set_xlabel('start difference')\n",
    "x,y=zip(*sorted(hist_end.items())[:50])\n",
    "ax2.bar(x,y)\n",
    "ax2.set_xlabel('end difference')\n",
    "fig.suptitle(t='Difference to gencode annotations', fontsize=16)\n",
    "fig.tight_layout()"
   ]
  },
  {
   "cell_type": "markdown",
   "id": "2d84be2b-37bb-48b3-a725-129e5ad41566",
   "metadata": {},
   "source": [
    "So most annotations indeed differ between gencode and chess and the differing ones share \n",
    "either the same start or the same end coordinates. \n",
    "There are, however, some annotations with very large differences (multiple Mbases) that are not shown in the barplots. Let's have a closer look at the 10 most extreme examples:"
   ]
  },
  {
   "cell_type": "code",
   "execution_count": null,
   "id": "563fe193-8e26-42ff-98b7-dc40e475b3bc",
   "metadata": {},
   "outputs": [],
   "source": [
    "for diff, g_gc, g_ch in sorted(diff_annos, reverse=True)[:10]:\n",
    "    display(f\"{diff}, {len(g_gc)}, {g_gc.gene_name}, {g_gc.get_location()}, {g_ch.gene_name}, {g_ch.get_location()}\")"
   ]
  },
  {
   "cell_type": "markdown",
   "id": "d2dc00d2-9bf6-4c49-9727-146226334f1b",
   "metadata": {},
   "source": [
    "Finally, lets have a look at the number of annotated transcripts per annotation set.\n",
    "For this analysis, we consider only the shared genes"
   ]
  },
  {
   "cell_type": "code",
   "execution_count": null,
   "id": "52d3225a-e8a5-4187-8f0a-de89daddda78",
   "metadata": {},
   "outputs": [],
   "source": [
    "# calculate vectors of pairwise transcript counts for all shared gene_names\n",
    "x, y = zip(*[(len(t_gc.gene[gn].transcript), len(t_ch.gene[gn].transcript) ) for gn in shared ])\n",
    "# scatter plot\n",
    "fig, ax = plt.subplots(1, 1, figsize=(12, 4))\n",
    "plt.hexbin(x,y, bins='log')\n",
    "ax.axline((1, 1), slope=1)\n",
    "plt.xlabel('Gencode')\n",
    "plt.ylabel('Chess')\n",
    "# correlation coefficient\n",
    "display(f'R_pearson={np.corrcoef(x,y)[0,1]}')"
   ]
  },
  {
   "cell_type": "markdown",
   "id": "9ded0150-e618-4361-afbc-90fdf3383e82",
   "metadata": {},
   "source": [
    "We can observe large differences between the compared annotation set. Let's\n",
    "look at the most extreme example."
   ]
  },
  {
   "cell_type": "code",
   "execution_count": null,
   "id": "91b757fc-1d8f-46bf-8071-ba9fed63977e",
   "metadata": {},
   "outputs": [],
   "source": [
    "max_diff_idx = np.argmax(np.array([abs(a-b) for a,b in zip(x,y)]))\n",
    "max_diff_gene = list(shared)[max_diff_idx]\n",
    "display(f\"The gene with the largest difference in annotated transcripts is {t_gc.gene[max_diff_gene].gene_name}\")\n",
    "\n",
    "tr_gc, tr_ch = t_gc.gene[max_diff_gene].transcript, t_ch.gene[max_diff_gene].transcript\n",
    "display(f\"In gencode, there are {len(tr_gc)} tx, in chess, there are {len(tr_ch)}\")\n",
    "display_textarea(f\"gencode tx: {tr_gc}\")\n",
    "display_textarea(f\"chess tx: {tr_ch}\")"
   ]
  },
  {
   "cell_type": "markdown",
   "id": "e2fe8d2b-9398-41ec-91f6-aaee586f01ce",
   "metadata": {},
   "source": [
    "In a final analysis, we want to count the number of introns with canonical splice sites, i.e.,\n",
    "having GT and AG at either end of that intron. For this, we must load gene sequences and in this\n",
    "example we do this only for chr20. \n",
    "\n",
    "First, we instantiate 2 new transcriptomes that use the same configuration as before but now add the grch38_chr20 \n",
    "reference sequence and load those sequences at startup. Note that rnalib detects that the referenced genome contains\n",
    "only chr20 and will merge the respective refdicts resulting in only genes/transcripts located on chr20 being loaded."
   ]
  },
  {
   "cell_type": "code",
   "execution_count": null,
   "id": "541a02b7-70d5-4362-b4ca-ded57b283522",
   "metadata": {},
   "outputs": [],
   "source": [
    "grch38_chr20 = pg.get_resource(\"grch38_chr20\", conf=large_test_resources) # GRCh38 chr20 reference sequence\n",
    "# Instantiate a gencode/chr20 transcriptome and reuse configuration from before \n",
    "t_gc_chr20=pg.Transcriptome(\n",
    "    dict( t_gc.config, **{'genome_fa': grch38_chr20, 'load_sequences': True})\n",
    ")\n",
    "# Instantiate a chess/chr20 transcriptome and reuse configuration from before \n",
    "t_ch_chr20=pg.Transcriptome(\n",
    "    dict( t_ch.config, **{'genome_fa': grch38_chr20, 'load_sequences': True})\n",
    ")\n",
    "# show merged refdicts and numbers of loaded genes/transcripts\n",
    "display(SEP)\n",
    "display(t_gc_chr20, t_gc_chr20.merged_refdict)\n",
    "display(t_ch_chr20, t_ch_chr20.merged_refdict)"
   ]
  },
  {
   "cell_type": "code",
   "execution_count": null,
   "id": "1b912fc3-8d3b-4a70-9f83-ced75a0c02ac",
   "metadata": {},
   "outputs": [],
   "source": [
    "# now, lets count introns with and without consensus dinucleotides (GT and AG) \n",
    "# at either end of that intron\n",
    "stats = defaultdict(Counter)\n",
    "for name, tr in [('gencode',t_gc_chr20),('chess', t_ch_chr20)]:\n",
    "    for intron, _ in pg.TranscriptomeIterator(tr, feature_types='intron'):\n",
    "        if len(intron)<4:\n",
    "            continue\n",
    "        a,b = intron.sequence[:2].upper(), intron.sequence[-2:].upper()\n",
    "        if intron.strand=='-': # reverse complement for minus strand genes\n",
    "            a,b = pg.reverse_complement(b), pg.reverse_complement(a)\n",
    "        stats[name][f'{a}/{b}'] += 1\n",
    "# convert to dataframe\n",
    "df = pd.DataFrame.from_records([(n,t,c) for n in stats for t,c in stats[n].items()], \n",
    "                               columns=['annotation', 'SJ', 'count']).sort_values(['count'], ascending=False)\n",
    "display(df.head())\n",
    "\n",
    "# Show % canonical SJ\n",
    "# compare: PMID: 11058137: 98.71% canonical, 0.56% non-canonical GC-AG\n",
    "display(f\"In gencode, we found {stats['gencode']['GT/AG'] / stats['gencode'].total() * 100}% canonical splice sites\")\n",
    "display(f\"In chess,   we found {stats['chess']['GT/AG'] / stats['chess'].total() * 100}% canonical splice sites\")\n",
    "\n",
    "# plot results\n",
    "sns.barplot(x='SJ', y='count', data=df, hue='annotation')\n",
    "_= plt.xticks(rotation=45)\n",
    "_= plt.yscale(\"log\")\n"
   ]
  },
  {
   "cell_type": "markdown",
   "id": "bd82fb6b-6420-4230-b1e4-6d34247d147c",
   "metadata": {},
   "source": [
    "So, gencode shows more non-canonical splice junctions that are possibly wrong."
   ]
  }
 ],
 "metadata": {
  "kernelspec": {
   "display_name": "Python 3 (ipykernel)",
   "language": "python",
   "name": "python3"
  },
  "language_info": {
   "codemirror_mode": {
    "name": "ipython",
    "version": 3
   },
   "file_extension": ".py",
   "mimetype": "text/x-python",
   "name": "python",
   "nbconvert_exporter": "python",
   "pygments_lexer": "ipython3",
   "version": "3.10.4"
  }
 },
 "nbformat": 4,
 "nbformat_minor": 5
}
