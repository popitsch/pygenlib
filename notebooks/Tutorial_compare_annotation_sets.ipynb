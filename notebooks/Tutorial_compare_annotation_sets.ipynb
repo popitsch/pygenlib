{
 "cells": [
  {
   "cell_type": "markdown",
   "id": "aa513140-b721-4230-aa1b-ae8d786018c5",
   "metadata": {
    "tags": []
   },
   "source": [
    "## Tutorial: Gene annotation comparison\n",
    "\n",
    "In this example, we compare two human gene annotation sets, namely gencode (v39) and chess (v3.0.1).\n",
    "We load all protein_coding genes from both annotation sets, update the gene-names to their latest given symbol (using gennames.org data) and compare both lists. We then exemplary show how to further analyze differences between those gene annotation sets.\n",
    "\n",
    "*Required resources:*\n",
    "- Human genome FASTA (GRCh38), accessible at https://www.ncbi.nlm.nih.gov/datasets/genome/GCF_000001405.26/\n",
    "- Full gencode annotation gff3 file (sorted), available at https://www.gencodegenes.org/human/\n",
    "- Full chess 3.0.1 annotation gff3 file (sorted), available at https://github.com/chess-genome/chess/releases/download/v.3.0.1/chess3.0.1.gff.gz"
   ]
  },
  {
   "cell_type": "code",
   "execution_count": 1,
   "id": "cc18d014-4f15-49e2-8c61-fb25ae5a7efb",
   "metadata": {},
   "outputs": [
    {
     "data": {
      "text/plain": [
       "'Running rnalib 1.0.0 on python 3.10.4'"
      ]
     },
     "metadata": {},
     "output_type": "display_data"
    }
   ],
   "source": [
    "import os, pathlib, platform\n",
    "from tqdm.auto import tqdm\n",
    "import tempfile\n",
    "import matplotlib.pyplot as plt\n",
    "import seaborn as sns\n",
    "from collections import Counter, defaultdict\n",
    "import pandas as pd\n",
    "import numpy as np\n",
    "import traceback\n",
    "import math\n",
    "\n",
    "# load rnalib\n",
    "import rnalib as rna\n",
    "from rnalib import gi, SEP, display_textarea\n",
    "\n",
    "display(f\"Running rnalib {rna.__version__} on python {platform.python_version()}\")"
   ]
  },
  {
   "cell_type": "markdown",
   "id": "9faa760c-1d8a-4cda-b46e-4ea6e1223f18",
   "metadata": {},
   "source": [
    "## Test datasets\n",
    "\n",
    "This notebook as well as rnalib's testing suite use various test resources (genomics data files and indexing structures) that can be created by \n",
    "running the rnalib `rnalib_create_testdata` script or by calling the `testdata.create_testdata()` method. There are two seperate resource sets:\n",
    "\n",
    "* test_resources: small test datasets that are used by rnalib's test suite\n",
    "* large_test_resources: larger test files that are needed to demonstrate rnalib under realistic conditions. \n",
    "\n",
    "Rnalib knows about the test data directory via the package-global __RNALIB_TESTDATA__ variable. This variable can either be set via the \"RNALIB_TESTDATA\" environment variable or by monkeypatching (rna.__RNALIB_TESTDATA__ = <mydir>) as shown below. Once this is done, test data resources can be accessed via \n",
    "`get_resource(<resource_id>)`. Rnalib will recreate these resources only if they are not found in the provided output folder.\n"
   ]
  },
  {
   "cell_type": "code",
   "execution_count": 2,
   "id": "c5c023a5-5d2a-41ff-a983-5430b2e9803e",
   "metadata": {},
   "outputs": [
    {
     "name": "stdout",
     "output_type": "stream",
     "text": [
      "============= Output directory: rnalib_testdata/=========\n"
     ]
    },
    {
     "data": {
      "application/vnd.jupyter.widget-view+json": {
       "model_id": "6b05630ac726464eac32fe79d19644a2",
       "version_major": 2,
       "version_minor": 0
      },
      "text/plain": [
       "Creating testdata:   0%|          | 0/5 [00:00<?, ?it/s]"
      ]
     },
     "metadata": {},
     "output_type": "display_data"
    },
    {
     "name": "stdout",
     "output_type": "stream",
     "text": [
      "===========================================\n",
      "Creating testdataset full_gencode_gff\n",
      "Resource already exists, skipping...\n",
      "===========================================\n",
      "Creating testdataset full_chess_gtf\n",
      "Resource already exists, skipping...\n",
      "===========================================\n",
      "Creating testdataset gene_aliases\n",
      "Resource already exists, skipping...\n",
      "===========================================\n",
      "Creating testdataset grch38_chr20\n",
      "Resource already exists, skipping...\n",
      "===========================================\n",
      "Creating testdataset grch38_umap\n",
      "Resource already exists, skipping...\n",
      "========= All done with 0 errors  ==========\n"
     ]
    },
    {
     "data": {
      "text/plain": [
       "'Testdata at rnalib_testdata/'"
      ]
     },
     "metadata": {},
     "output_type": "display_data"
    },
    {
     "data": {
      "text/html": [
       "<textarea rows='4' cols='120'>├── bigfiles\n",
       "│   ├── grch38_chr20.fa.gz.gzi\n",
       "│   ├── chess3.0.1.gtf.gz\n",
       "│   ├── gencode_39.gff3.gz\n",
       "│   ├── hgnc_complete_set.txt\n",
       "│   ├── gencode_39.gff3.gz.tbi\n",
       "│   ├── grch38_chr20.fa.gz\n",
       "│   ├── GRCh38.k24.umap.bedgraph.gz\n",
       "│   ├── grch38_chr20.fa.gz.fai\n",
       "│   ├── chess3.0.1.gtf.gz.tbi\n",
       "│   └── GRCh38.k24.umap.bedgraph.gz.tbi\n",
       "├── bed\n",
       "│   ├── test_bed12.bed.gz.tbi\n",
       "│   ├── test_bed12.bed.gz\n",
       "│   ├── test.bed.gz\n",
       "│   ├── test.bedgraph.gz\n",
       "│   ├── pybedtools_snps.bed.gz\n",
       "│   ├── test_nist.b37_chr20_100kbp_at_10mb.bed\n",
       "│   ├── dmel_randomvalues.bedgraph.gz\n",
       "│   ├── GRCh38.k24.umap.ACTB_ex1+2.bedgraph.gz\n",
       "│   ├── dmel_randomvalues.bedgraph.gz.tbi\n",
       "│   ├── test.bedgraph.gz.tbi\n",
       "│   └── ...\n",
       "├── div\n",
       "│   └── hgnc_complete_set.head.txt.gz\n",
       "├── bam\n",
       "│   ├── NA12878_S1.chr20.10_10p1mb.bam\n",
       "│   ├── mapt.NA12156.altex.small.bam\n",
       "│   ├── NA12878_S1.chr20.10_10p1mb.bam.bai\n",
       "│   ├── mapt.NA12156.altex.small.bam.bai\n",
       "│   ├── rogue_read.bam.bai\n",
       "│   ├── rogue_read.bam\n",
       "│   ├── small.ACTB+SOX2.bam.bai\n",
       "│   ├── small_example.bam\n",
       "│   ├── small_example.bam.bai\n",
       "│   └── small.ACTB+SOX2.bam\n",
       "├── fasta\n",
       "│   ├── ACTB+SOX2.fa.gz.fai\n",
       "│   ├── dmel_r6.36.fa.gz.gzi\n",
       "│   ├── ACTB+SOX2.fa.gz\n",
       "│   ├── ACTB+SOX2.fa.gz.gzi\n",
       "│   ├── dmel_r6.36.fa.gz.fai\n",
       "│   └── dmel_r6.36.fa.gz\n",
       "├── gff\n",
       "│   ├── pybedtools_gff.gff3.gz.tbi\n",
       "│   ├── chess3.GRCh38.ACTB+SOX2.gtf.gz.tbi\n",
       "│   ├── mirgenedb.dme.sorted.gff3.gz.tbi\n",
       "│   ├── gencode_44.ACTB+SOX2.gff3.gz\n",
       "│   ├── chess3.GRCh38.ACTB+SOX2.gtf.gz\n",
       "│   ├── pybedtools_gff.gff3.gz\n",
       "│   ├── flybase_dmel-2L-r6.36.gtf.gz.tbi\n",
       "│   ├── UCSC.hg38.ncbiRefSeq.ACTB+SOX2.sorted.gtf.gz\n",
       "│   ├── chess3.GRCh38.ACTB+SOX2.gff3.gz\n",
       "│   ├── ensembl_Homo_sapiens.GRCh38.110.ACTB+SOX2.gff3.gz\n",
       "│   └── ...\n",
       "├── vcf\n",
       "│   ├── dmelanogaster_6_exported_20230523.vcf.gz.tbi\n",
       "│   ├── test_snps.vcf.gz\n",
       "│   ├── test.vcf.gz.tbi\n",
       "│   ├── dmelanogaster_6_exported_20230523.vcf.gz\n",
       "│   ├── test.vcf.gz\n",
       "│   └── test_snps.vcf.gz.tbi\n",
       "├── .ipynb_checkpoints\n",
       "├── fastq\n",
       "│   ├── Test01_L001_R1_001.top20.fastq\n",
       "│   ├── test.fq.gz\n",
       "│   └── Test01_L001_R2_001.top20.fastq\n",
       "└── fast5\n",
       "    ├── 003c04de-f704-491e-8d0c-33ffa269423d.fast5\n",
       "    └── FAT61995_a1291c8f_5.fast5</textarea>"
      ],
      "text/plain": [
       "<IPython.core.display.HTML object>"
      ]
     },
     "metadata": {},
     "output_type": "display_data"
    }
   ],
   "source": [
    "rna.__RNALIB_TESTDATA__ = \"rnalib_testdata/\"\n",
    "\n",
    "if not os.path.isdir(rna.__RNALIB_TESTDATA__):\n",
    "    os.mkdir(rna.__RNALIB_TESTDATA__)\n",
    "\n",
    "rna.testdata.create_testdata(rna.__RNALIB_TESTDATA__, \n",
    "                             rna.testdata.large_test_resources)\n",
    "\n",
    "display(f\"Testdata at {rna.__RNALIB_TESTDATA__}\")\n",
    "display_textarea('\\n'.join(rna.dir_tree(pathlib.Path(rna.__RNALIB_TESTDATA__))))"
   ]
  },
  {
   "cell_type": "markdown",
   "id": "157bd242-7d8c-45a4-aa5c-d2b07f2c6809",
   "metadata": {},
   "source": [
    "Now we load gencode and chess annotation data and build the respective transcriptomes (takes about 4min).\n",
    "We configure a transcript filter that includes only entries with gene_type 'protein_coding' and restrict this analysis to all canonical GRCh38 chromsomes (i.e., chr1-22,X,Y,M).\n",
    "To update to the latest gene symbols, we use genenames.org data and configure via the 'gene_name_alias_file' property. rnalib automatically updates gene names accordingly. "
   ]
  },
  {
   "cell_type": "code",
   "execution_count": 7,
   "id": "020f8582-8ea6-4e97-9f6f-43368675cf9b",
   "metadata": {
    "tags": []
   },
   "outputs": [
    {
     "data": {
      "application/vnd.jupyter.widget-view+json": {
       "model_id": "ce4767c7851448e39a03b910187308d4",
       "version_major": 2,
       "version_minor": 0
      },
      "text/plain": [
       "load gene aliases:   0%|          | 0/43840 [00:00<?, ?it/s]"
      ]
     },
     "metadata": {},
     "output_type": "display_data"
    },
    {
     "data": {
      "application/vnd.jupyter.widget-view+json": {
       "model_id": "a034d9b113634b4aa24bed7197207940",
       "version_major": 2,
       "version_minor": 0
      },
      "text/plain": [
       "Building transcriptome (25 chromosomes)\n",
       ":   0%|          | 0/25 [00:00<?, ?it/s]"
      ]
     },
     "metadata": {},
     "output_type": "display_data"
    },
    {
     "data": {
      "application/vnd.jupyter.widget-view+json": {
       "model_id": "d32c3548dea944dd86c837f33e97f678",
       "version_major": 2,
       "version_minor": 0
      },
      "text/plain": [
       "Build interval trees:   0%|          | 0/19982 [00:00<?, ?it/s]"
      ]
     },
     "metadata": {},
     "output_type": "display_data"
    },
    {
     "data": {
      "application/vnd.jupyter.widget-view+json": {
       "model_id": "433b17a50a8d4cbcb921fd98ae71de49",
       "version_major": 2,
       "version_minor": 0
      },
      "text/plain": [
       "load gene aliases:   0%|          | 0/43840 [00:00<?, ?it/s]"
      ]
     },
     "metadata": {},
     "output_type": "display_data"
    },
    {
     "data": {
      "application/vnd.jupyter.widget-view+json": {
       "model_id": "1ae035deec26440c8ea1e406a79866d5",
       "version_major": 2,
       "version_minor": 0
      },
      "text/plain": [
       "Building transcriptome (25 chromosomes)\n",
       ":   0%|          | 0/25 [00:00<?, ?it/s]"
      ]
     },
     "metadata": {},
     "output_type": "display_data"
    },
    {
     "data": {
      "application/vnd.jupyter.widget-view+json": {
       "model_id": "70804431fc5943259a98fdbd90a12136",
       "version_major": 2,
       "version_minor": 0
      },
      "text/plain": [
       "Build interval trees:   0%|          | 0/19810 [00:00<?, ?it/s]"
      ]
     },
     "metadata": {},
     "output_type": "display_data"
    },
    {
     "data": {
      "text/markdown": [
       "---"
      ],
      "text/plain": [
       "<IPython.core.display.Markdown object>"
      ]
     },
     "metadata": {},
     "output_type": "display_data"
    },
    {
     "data": {
      "text/plain": [
       "Transcriptome with 19982 genes and 164578 tx"
      ]
     },
     "metadata": {},
     "output_type": "display_data"
    },
    {
     "data": {
      "text/plain": [
       "Transcriptome with 19810 genes and 99150 tx"
      ]
     },
     "metadata": {},
     "output_type": "display_data"
    }
   ],
   "source": [
    "alias_txt=rna.get_resource(\"gene_aliases\") # gene name aliases\n",
    "gencode_gff=rna.get_resource(\"full_gencode_gff\") # Gencode data\n",
    "chess_gff=rna.get_resource(\"full_chess_gtf\") # Chess data\n",
    "\n",
    "txfilter = rna.TranscriptFilter(). \\\n",
    "    include_gene_types({'protein_coding'}). \\\n",
    "    include_chromosomes(rna.CANONICAL_CHROMOSOMES['GRCh38'])\n",
    "\n",
    "t_gc=rna.Transcriptome(\n",
    "    annotation_gff = gencode_gff,\n",
    "    annotation_flavour ='gencode',\n",
    "    copied_fields =['gene_type', 'transcript_type'],\n",
    "    gene_name_alias_file = alias_txt,\n",
    "    feature_filter = txfilter)\n",
    "\n",
    "# NOTE: in chess, there ais no 'transcript_type' annotation\n",
    "t_ch=rna.Transcriptome(\n",
    "    annotation_gff = chess_gff,\n",
    "    annotation_flavour ='chess',\n",
    "    copied_fields =['gene_type'],\n",
    "    gene_name_alias_file = alias_txt,\n",
    "    feature_filter = txfilter)\n",
    "\n",
    "# compare\n",
    "display(SEP)\n",
    "display(t_gc)\n",
    "display(t_ch)"
   ]
  },
  {
   "cell_type": "markdown",
   "id": "2f6ea48c-e05b-45f7-88f3-be1879ffa096",
   "metadata": {},
   "source": [
    "Please note that, the numbers reported in the [Chess3 paper](https://genomebiology.biomedcentral.com/articles/10.1186/s13059-023-03088-4/) differ, particularly in the number of protein_coding gencode transcripts:\n",
    "\n",
    "| Database    | Number of protein-coding gene loci | Number of protein-coding transcripts | Number of distinct protein sequences | Number of gene loci (all types) |\n",
    "|-------------|------------------------------------|--------------------------------------|--------------------------------------|---------------------------------|\n",
    "| CHESS v3    | 19,839                             | 99,202                               | 73,767                               | 41,356                          |\n",
    "| RefSeq v110 | 19,884                             | 129,740                              | 88,662                               | 43,380                          |\n",
    "| GENCODE v41 | 19,419                             | 110,309                              | 92,968                               | 46,181                          |\n",
    "\n",
    "*Table 1 from the [CHESS3 paper](https://genomebiology.biomedcentral.com/articles/10.1186/s13059-023-03088-4/tables/1): Total number of genes and protein-coding isoforms in current versions of CHESS, RefSeq, and GENCODE. Genes are counted on the primary chromosomes and unplaced scaffolds from the human reference genome GRCh38, excluding the alternative scaffolds. Pseudogenes, VDJ segments, and C regions are not included in the totals shown in the final column.*\n",
    "\n",
    "This can partially be explained by the different chromosome sets used (we include only primary chromosomes)."
   ]
  },
  {
   "cell_type": "markdown",
   "id": "d73dc306-4602-457e-a6ef-c3d4b3496593",
   "metadata": {},
   "source": [
    "Now we can have a look at the shared and unique (normalized) gene names and\n",
    "display the unique gene names for genocde and chess."
   ]
  },
  {
   "cell_type": "code",
   "execution_count": 8,
   "id": "d0227791-fa5f-4d75-aa44-2482a5182462",
   "metadata": {
    "tags": []
   },
   "outputs": [
    {
     "data": {
      "text/plain": [
       "'Unique gene names in gencode: 19955, in chess: 19787'"
      ]
     },
     "metadata": {},
     "output_type": "display_data"
    },
    {
     "data": {
      "text/plain": [
       "'Shared: 19251, only in gencode: 704, only in chess: 536'"
      ]
     },
     "metadata": {},
     "output_type": "display_data"
    },
    {
     "data": {
      "text/html": [
       "<textarea rows='4' cols='120'>Unique in gencode: {'ENSG00000287725', 'ENSG00000267168', 'ENSG00000273259', 'ENSG00000241489', 'CDR1', 'ENSG00000284512', 'ST20', 'ENSG00000269693', 'ENSG00000255508', 'ZKSCAN8P1', 'ENSG00000268163', 'ENSG00000282936', 'ENSG00000268870', 'ENSG00000285085', 'GGT2P', 'ENSG00000285269', 'ENSG00000285938', 'ANKRD20A4P', 'ENSG00000273047', 'ENSG00000285943', 'ENSG00000286235', 'ENSG00000285625', 'ENSG00000283782', 'ENSG00000288635', 'ENSG00000258881', 'ENSG00000266302', 'ENSG00000260914', 'ENSG00000248710', 'ENSG00000285978', 'ENSG00000283149', 'ENSG00000255339', 'ENSG00000227717', 'MIA-RAB4B', 'ENSG00000285635', 'ENSG00000213204', 'ENSG00000286070', 'BORCS7-ASMT', 'ENSG00000286132', 'MTRNR2L12', 'ENSG00000284554', 'ENSG00000273088', 'ENSG00000280148', 'ENSG00000268434', 'ENSG00000288623', 'ENSG00000249967', 'ENSG00000281039', 'MTRNR2L7', 'ENSG00000282988', 'ENSG00000260851', 'ENSG00000279983', 'ENSG00000268643', 'ENSG00000267561', 'ENSG00000288675', 'ENSG00000283877', 'ENSG00000285188', 'ENSG00000262302', 'ENSG00000173366', 'ENSG00000268193', 'LY6G6E', 'TCP10L2', 'ENSG00000256861', 'ENSG00000285382', 'RTEL1-TNFRSF6B', 'ENSG00000256825', 'ENSG00000267477', 'ENSG00000248751', 'ENSG00000264813', 'ENSG00000237850', 'ENSG00000284946', 'ENSG00000280893', 'ENSG00000255835', 'ENSG00000257411', 'ENSG00000204003', 'ENSG00000289491', 'ENSG00000267120', 'ENSG00000284461', 'ENSG00000267127', 'ENSG00000285854', 'ENSG00000284987', 'ENSG00000264187', 'ENSG00000269741', 'RPS27AP5', 'CRYAA2', 'ENSG00000285253', 'ENSG00000261915', 'ENSG00000235007', 'ENSG00000267179', 'ENSG00000287694', 'ENSG00000284686', 'ENSG00000271793', 'ENSG00000260342', 'ENSG00000285245', 'ANKRD20A3P', 'ENSG00000284773', 'ENSG00000264545', 'ENSG00000285162', 'ENSG00000260729', 'HSPB2-C11orf52', 'ENSG00000239920', 'ENSG00000263620', 'ENSG00000260537', 'ENSG00000288634', 'ENSG00000270099', 'ENSG00000285901', 'ENSG00000144785', 'ENSG00000226490', 'ENSG00000284341', 'ENSG00000283189', 'ENSG00000286165', 'ENSG00000285749', 'ENSG00000283599', 'ENSG00000285976', 'ENSG00000269476', 'ENSG00000142539', 'ENSG00000269533', 'ENSG00000285547', 'ENSG00000287908', 'ENSG00000288658', 'ENSG00000285932', 'ENSG00000288591', 'MTRNR2L13', 'ENSG00000260234', 'GAGE2E', 'IGHV3OR16-17', 'SPECC1L-ADORA2A', 'HMGB1P1', 'KAAG1', 'ENSG00000261130', 'ENSG00000286022', 'ENSG00000269469', 'ENSG00000289282', 'ENSG00000283205', 'ENSG00000282278', 'ENSG00000284820', 'ENSG00000268655', 'ENSG00000283536', 'ENSG00000268797', 'CHKB-CPT1B', 'ENSG00000141979', 'FAM95C', 'ENSG00000285171', 'NPHP3-ACAD11', 'ENSG00000288894', 'ENSG00000256206', 'ENSG00000261732', 'ENSG00000285947', 'ENSG00000272305', 'ENSG00000266202', 'ENSG00000274944', 'ENSG00000241690', 'ENSG00000284626', 'ENSG00000289051', 'ENSG00000273217', 'ENSG00000284292', 'ENSG00000257767', 'PLD5P1', 'ENSG00000280433', 'ENSG00000284024', 'ENSG00000259316', 'ENSG00000262560', 'ENSG00000254536', 'ENSG00000288698', 'ENSG00000284762', 'ENSG00000285446', 'ENSG00000285304', 'ENSG00000269547', 'ENSG00000283208', 'ENSG00000261884', 'ENSG00000285777', 'ENSG00000284684', 'ENSG00000284779', 'ENSG00000285472', 'ENSG00000262730', 'ENSG00000263809', 'ENSG00000170846', 'ENSG00000288564', 'ENSG00000265690', 'ENSG00000262526', 'ENSG00000205236', 'ENSG00000230626', 'ENSG00000257062', 'ENSG00000267001', 'KBTBD11-OT1', 'ENSG00000268107', 'ENSG00000260643', 'ENSG00000258465', 'TUNAR', 'ENSG00000255439', 'ENSG00000288656', 'ENSG00000286075', 'ENSG00000204422', 'ENSG00000285558', 'ENSG00000288608', 'ENSG00000260092', 'ENSG00000273025', 'ENSG00000285025', 'BLOC1S5-TXNDC5', 'ENSG00000270299', 'ENSG00000272162', 'ENSG00000258864', 'ENSG00000275464', 'ENSG00000266086', 'ENSG00000256349', 'ENSG00000206549', 'USP41P', 'ENSG00000288706', 'ENSG00000183889', 'ENSG00000282034', 'ENSG00000255330', 'ENSG00000285953', 'ENSG00000259522', 'ENSG00000279956', 'ENSG00000281613', 'ENSG00000285471', 'OR4F4', 'MSH5-SAPCD1', 'ENSG00000225528', 'ENSG00000285585', 'ENSG00000285130', 'ENSG00000277117', 'ENSG00000188223', 'ENSG00000258830', 'ENSG00000267385', 'ENSG00000277639', 'ENSG00000259753', 'ENSG00000288000', 'ENSG00000257355', 'ENSG00000288645', 'ENSG00000285589', 'ENSG00000288631', 'ENSG00000285505', 'ENSG00000288614', 'ENSG00000288671', 'ENSG00000287542', 'ENSG00000267022', 'ENSG00000268465', 'ENSG00000285791', 'RAB4B-EGLN2', 'ENSG00000272897', 'ENSG00000289346', 'TMEM256-PLSCR3', 'ENSG00000257065', 'ENSG00000275163', 'ENSG00000259916', 'ENSG00000259132', 'ENSG00000267618', 'ENSG00000284989', 'KDM4F', 'SSU72L6', 'ENSG00000271741', 'ENSG00000262633', 'ENSG00000267140', 'ENSG00000288053', 'P2RX5-TAX1BP3', 'SIK1B', 'ENSG00000237378', 'USP17L23', 'ENSG00000288626', 'ENSG00000125695', 'ENSG00000267059', 'ENSG00000288520', 'ENSG00000198211', 'ENSG00000271698', 'ENSG00000268533', 'ENSG00000285897', 'SSU72L2', 'ENSG00000285329', 'FCGR1BP', 'ENSG00000268400', 'ENSG00000285444', 'ENSG00000259164', 'ENSG00000259060', 'ENSG00000288674', 'ENSG00000285655', 'ENSG00000248993', 'ENSG00000286001', 'ENSG00000283761', 'ENSG00000269035', 'ENSG00000284431', 'ENSG00000285772', 'ENSG00000273269', 'ENSG00000285946', 'ARL2-SNX15', 'ENSG00000279765', 'ENSG00000288721', 'MTRNR2L3', 'ENSG00000285602', 'ENSG00000284969', 'ENSG00000269237', 'ENSG00000281938', 'ENSG00000267228', 'ENSG00000260861', 'ZNF781', 'ENSG00000269590', 'ENSG00000188897', 'ENSG00000273398', 'ENSG00000269026', 'ENSG00000277611', 'ENSG00000286131', 'ENSG00000288616', 'ENSG00000256646', 'ENSG00000260371', 'ENSG00000286268', 'ENSG00000259066', 'ENSG00000273756', 'ENSG00000243696', 'ENSG00000258674', 'ENSG00000257341', 'ENSG00000233757', 'ENSG00000286015', 'ENSG00000254553', 'ENSG00000289517', 'ENSG00000251357', 'ENSG00000256514', 'ENSG00000275740', 'ENSG00000267740', 'ENSG00000261832', 'ENSG00000283809', 'ENSG00000285708', 'ENSG00000257207', 'ENSG00000264324', 'ENSG00000173867', 'ENSG00000280537', 'ENSG00000283580', 'ENSG00000283228', 'ENSG00000267699', 'ENSG00000288699', 'ZNF670-ZNF695', 'LINC02203', 'ZNF625-ZNF20', 'ENSG00000284337', 'ENSG00000289503', 'ENSG00000255292', 'ENSG00000288710', 'ENSG00000288644', 'ENSG00000288678', 'ENSG00000267426', 'ENSG00000267110', 'ZFP91-CNTF', 'ENSG00000288636', 'ENSG00000249209', 'ENSG00000264058', 'TEN1-CDK3', 'ENSG00000258653', 'ENSG00000267748', 'ENSG00000273291', 'ENSG00000259784', 'ENSG00000261459', 'ENSG00000283201', 'ENSG00000272104', 'ENSG00000286143', 'ENSG00000269242', 'ENSG00000249240', 'UBE2F-SCLY', 'TIMM23B-AGAP6', 'ENSG00000284638', 'ENSG00000288716', 'ENSG00000265303', 'APOC4-APOC2', 'ENSG00000284484', 'ENSG00000269307', 'ENSG00000275674', 'ENSG00000241962', 'ENSG00000285283', 'ENSG00000131152', 'ENSG00000288550', 'ENSG00000267318', 'ENSG00000285762', 'ENSG00000281883', 'ENSG00000249590', 'ENSG00000258539', 'ENSG00000288654', 'ENSG00000282246', 'ENSG00000288711', 'ARHGAP19-SLIT1', 'ENSG00000284772', 'ENSG00000273049', 'ENSG00000284906', 'ENSG00000284797', 'ENSG00000268750', 'ENSG00000196826', 'ENSG00000258677', 'ENSG00000260170', 'ENSG00000288643', 'ENSG00000288725', 'ENSG00000271949', 'ENSG00000249773', 'ENSG00000284188', 'ENSG00000267335', 'ENSG00000250424', 'PPT2-EGFL8', 'STX16-NPEPL1', 'SSU72L3', 'SFTA3', 'SSU72L4', 'ENSG00000267952', 'ENSG00000267314', 'ENSG00000283663', 'ENSG00000285043', 'ENSG00000283765', 'ENSG00000275778', 'ENSG00000255432', 'ENSG00000267360', 'ENSG00000282218', 'ENSG00000283977', 'ENSG00000285816', 'LINC02218', 'LASP1NB', 'TM4SF19-DYNLT2B', 'ENSG00000281593', 'ENSG00000250803', 'AK4P3', 'ENSG00000284732', 'ENSG00000167807', 'ENSG00000261611', 'ENSG00000239395', 'ENSG00000265118', 'ENSG00000258064', 'MTRNR2L4', 'ENSG00000270149', 'ENSG00000254469', 'ENSG00000197991', 'ENSG00000285837', 'ENSG00000251012', 'ENSG00000285218', 'ENSG00000285476', 'ENSG00000272822', 'ENSG00000248235', 'ENSG00000285713', 'ENSG00000268790', 'ENSG00000255663', 'ENSG00000254706', 'ENSG00000256100', 'ENSG00000288258', 'TSNAX-DISC1', 'ENSG00000279493', 'ENSG00000285880', 'GATD3B', 'ENSG00000269179', 'ENSG00000124593', 'ENSG00000258052', 'ENSG00000285133', 'ENSG00000264668', 'ENSG00000272617', 'ENSG00000276418', 'ENSG00000288683', 'ENSG00000276490', 'ENSG00000286135', 'ENSG00000287585', 'ENSG00000283563', 'ENSG00000289258', 'ENSG00000284956', 'ENSG00000285982', 'ENSG00000276087', 'ENSG00000256407', 'ENSG00000286105', 'ENSG00000261147', 'ENSG00000249141', 'ENSG00000269403', 'ENSG00000285404', 'ENSG00000289565', 'ENSG00000258417', 'ENSG00000236543', 'ENSG00000256500', 'ZBED10P', 'ENSG00000289025', 'ENSG00000288712', 'ZNF286A-TBC1D26', 'ENSG00000256966', 'MTRNR2L1', 'ENSG00000285458', 'U2AF1L5', 'SLC22A18AS', 'ENSG00000286224', 'HNRNPUL2-BSCL2', 'ENSG00000272916', 'ENSG00000273734', 'ENSG00000111780', 'ENSG00000100101', 'ENSG00000288695', 'ENSG00000261793', 'ENSG00000279073', 'FAM243B', 'ZNF705EP', 'ENSG00000274322', 'ENSG00000289325', 'ENSG00000273155', 'MSLNL', 'ENSG00000276612', 'ENSG00000283952', 'ENSG00000286098', 'ENSG00000258472', 'ENSG00000284057', 'ENSG00000272442', 'ENSG00000226690', 'ENSG00000288661', 'ENSG00000258728', 'ENSG00000280571', 'WASH6P', 'ENSG00000285991', 'ENSG00000259900', 'ENSG00000277758', 'ENSG00000287856', 'ENSG00000254979', 'ENSG00000269755', 'KCNE1B', 'ATP6V1G2-DDX39B', 'ENSG00000267881', 'SYS1-DBNDD2', 'ENSG00000259171', 'ENSG00000288570', 'ENSG00000284976', 'ENSG00000230707', 'ENSG00000288629', 'ENSG00000285868', 'ENSG00000187186', 'ENSG00000273171', 'ENSG00000262660', 'ENSG00000261582', 'SENP3-EIF4A1', 'ENSG00000250264', 'ENSG00000283321', 'ENSG00000258790', 'ENSG00000286185', 'ENSG00000288914', 'INO80B-WBP1', 'SSU72L5', 'ENSG00000277535', 'ENSG00000285064', 'ENSG00000285629', 'ENSG00000276302', 'CCL15-CCL14', 'ENSG00000258461', 'ENSG00000283886', 'ENSG00000285000', 'ENSG00000255872', 'ENSG00000250644', 'ENSG00000256566', 'TCAF2C', 'ENSG00000256029', 'ENSG00000285238', 'ENSG00000259371', 'ENSG00000288529', 'ENSG00000285733', 'ENSG00000286088', 'ENSG00000288646', 'ENSG00000257390', 'ENSG00000251246', 'ENSG00000286192', 'ENSG00000285779', 'PDCD6-AHRR', 'RNASEK-C17orf49', 'ENSG00000285330', 'ENSG00000283515', 'ENSG00000285827', 'ANKRD20A2P', 'ENSG00000286239', 'ENSG00000272410', 'ENSG00000274559', 'PRSS45P', 'ENSG00000288625', 'ENSG00000268173', 'ENSG00000288534', 'ENSG00000254673', 'ENSG00000269711', 'ENSG00000288841', 'ENSG00000249624', 'ENSG00000259529', 'ENSG00000214265', 'ENSG00000268614', 'ENSG00000268279', 'ENSG00000243501', 'ENSG00000266997', 'ELOA3CP', 'ENSG00000288681', 'ENSG00000285526', 'ENSG00000289360', 'ENSG00000285566', 'ENSG00000284874', 'ENSG00000272896', 'INMT-MINDY4', 'ENSG00000285542', 'ENSG00000285839', 'ENSG00000286264', 'ENSG00000273167', 'ENSG00000269095', 'ENSG00000284931', 'ENSG00000281348', 'ENSG00000257921', 'ENSG00000285942', 'ENSG00000269825', 'ENSG00000289490', 'ENSG00000254732', 'ENSG00000256950', 'ENSG00000257524', 'VNN3P', 'ENSG00000262304', 'CBSL', 'ENSG00000260836', 'ENSG00000285920', 'ENSG00000261717', 'ENSG00000267706', 'ENSG00000261341', 'ENSG00000284800', 'C1QTNF3-AMACR', 'ENSG00000289281', 'ENSG00000267261', 'ENSG00000288640', 'ENSG00000284691', 'MTRNR2L6', 'ENSG00000284934', 'ENSG00000272772', 'ENSG00000268133', 'ENSG00000288684', 'ENSG00000285645', 'ENSG00000286007', 'ENSG00000284393', 'ENSG00000277971', 'ENSG00000286190', 'ENSG00000258989', 'ENSG00000288637', 'ENSG00000288708', 'ENSG00000267303', 'PRB1', 'ENSG00000263020', 'SSU72L1', 'ENSG00000284952', 'MTRNR2L5', 'ENSG00000280778', 'ENSG00000288669', 'HEPN1', 'ENSG00000244255', 'ENSG00000159239', 'ENSG00000255639', 'MTRNR2L11', 'ENSG00000260272', 'ENSG00000288715', 'ENSG00000286221', 'ENSG00000249319', 'ENSG00000284695', 'ENSG00000272921', 'ENSG00000260007', 'ENSG00000267645', 'ENSG00000286231', 'ENSG00000251537', 'ENSG00000285528', 'ENSG00000288607', 'ENSG00000268361', 'MT-CO2', 'SMIM11B', 'ENSG00000251184', 'ENSG00000258466', 'ENSG00000266728', 'ENSG00000254692', 'ENSG00000167774', 'PRYP3', 'ENSG00000284776', 'ENSG00000255054', 'ENSG00000257184', 'ENSG00000282804', 'ENSG00000288796', 'SMIM34B', 'ENSG00000203546', 'ENSG00000272647', 'ENSG00000266953', 'ENSG00000284526', 'ENSG00000258311', 'ENSG00000267157', 'MT-CO1', 'ENSG00000286112', 'ENSG00000256591', 'KCNJ5-AS1', 'S100A7L2', 'ENSG00000271810', 'ENSG00000288208', 'MTRNR2L10', 'ENSG00000284299', 'MROH7-TTC4', 'ENSG00000278646', 'ENSG00000258529', 'ENSG00000251569', 'EEF1E1-BLOC1S5', 'ENSG00000285082', 'MTRNR2L8', 'ENSG00000272297', 'ENSG00000285641', 'ENSG00000273154', 'ENSG00000272741', 'ENSG00000266076', 'ENSG00000255641', 'ENSG00000267173', 'ENSG00000267552', 'ENSG00000289027', 'GCNT7', 'ENSG00000255730', 'ENSG00000270249', 'ENSG00000286905', 'ENSG00000284895', 'ENSG00000268083', 'ENSG00000283128', 'ENSG00000279686', 'ENSG00000250349', 'ENSG00000228144', 'ENSG00000258691'}</textarea>"
      ],
      "text/plain": [
       "<IPython.core.display.HTML object>"
      ]
     },
     "metadata": {},
     "output_type": "display_data"
    },
    {
     "data": {
      "text/html": [
       "<textarea rows='4' cols='120'>Unique in chess: {'LOC124900752', 'SETDB2-PHF11', 'LOC124901415', 'LOC124904962', 'LOC124902474', 'LOC124904095', 'LOC102724737', 'LOC124903766', 'LOC107986373', 'LOC124900172', 'ZNF765-ZNF761', 'LOC124903067', 'LOC124902107', 'LOC124903566', 'LOC105373146', 'LOC124902616', 'LOC124905938', 'LOC105371267', 'LOC100129098', 'LOC124904333', 'LOC124902171', 'LOC124900476', 'LOC124902738', 'ERVFC1', 'LOC124904927', 'LOC124902669', 'LOC107984365', 'LOC124900867', 'LOC124905155', 'LOC124901227', 'LOC105374355', 'PGBD3', 'LOC124901030', 'LOC124903441', 'LOC124907867', 'LOC101928044', 'LOC112268080', 'LOC124901892', 'LOC107985915', 'LOC102723934', 'LOC102724200', 'LOC124902042', 'LOC124900173', 'LOC107987025', 'LOC124904103', 'LOC124901001', 'LOC124901872', 'LOC122526780', 'LOC107984227', 'LOC107986012', 'LOC124908048', 'LOC124904792', 'LOC112268307', 'SIGLEC16', 'LOC105371206', 'LOC124901645', 'LOC124904789', 'LOC112268016', 'LOC102724652', 'LOC124900994', 'LOC647264', 'LOC102723623', 'LOC124902071', 'LOC124904701', 'MYL12BP2', 'LOC124903211', 'LOC124901110', 'LOC102723451', 'LOC112267855', 'LOC124901231', 'LOC124901580', 'LOC124900192', 'LOC124904903', 'LOC101927345', 'LOC107984732', 'LOC101059948', 'LOC105379198', 'LOC124900998', 'PRH1-TAS2R14', 'LOC124900389', 'LOC124903840', 'LOC114841035', 'LOC124903404', 'LOC107986982', 'LOC100132202', 'CD300H', 'LOC124904581', 'LOC124901807', 'LOC124903406', 'LOC112268186', 'LOC124903813', 'LOC105372440', 'LOC124904774', 'LOC124903734', 'LOC124901449', 'LOC122539214', 'LOC124900647', 'LOC107986372', 'LOC124903763', 'SYT15B', 'LOC124902898', 'LOC102724334', 'LOC124900276', 'CHS.40787', 'LOC124903972', 'LOC124907920', 'LOC105378947', 'LOC124907900', 'LOC124900940', 'LOC124903276', 'LOC124905051', 'LOC124909439', 'NBPF8', 'LOC124904102', 'LOC124900290', 'LOC124903762', 'LOC124907996', 'LOC102723475', 'LOC124902135', 'LOC124903570', 'LOC107984956', 'UBE2V1P16', 'LOC122319436', 'LOC124904583', 'LOC124906010', 'LOC118142757', 'LOC105372704', 'LOC124901354', 'LOC124901235', 'FAM246C', 'LOC124904942', 'LOC124900996', 'CPHXL2', 'ZNF883', 'TPD52-MRPS28', 'LOC112577516', 'LOC124903713', 'LOC124902508', 'LOC124904588', 'LOC124903470', 'LOC441155', 'GPR75-ASB3', 'LOC124902106', 'LOC124903725', 'LOC105377864', 'LOC124900251', 'LOC105373102', 'LOC102723996', 'MAP1LC3BP1', 'LOC124901689', 'LOC729966', 'LOC93622', 'LOC107983989', 'LOC124900467', 'LOC107987004', 'LOC107987020', 'LOC124902766', 'LOC124903573', 'LOC124903248', 'LOC124903450', 'LOC107987236', 'LOC124903544', 'LOC101930434', 'LOC124904790', 'LOC124901866', 'LOC107985729', 'LOC124902551', 'LOC124901646', 'LOC124902894', 'LOC344065', 'LOC107985149', 'LOC112694756', 'LOC124901178', 'BCLAF1P2', 'LOC124900286', 'LOC124900641', 'LOC124903162', 'LOC124901798', 'LOC105370706', 'LOC124903837', 'LOC124908045', 'TMEM217B', 'TNFAIP8L2-SCNM1', 'LOC124900993', 'LOC124901418', 'LOC124901232', 'LOC124904409', 'LOC400499', 'PHOSPHO2-KLHL23', 'LOC105371216', 'LOC124906262', 'LOC124903757', 'LOC124901651', 'OSTCP2', 'LOC124903857', 'LOC124906280', 'LOC124903856', 'LOC107984126', 'LOC124908047', 'LOC124901228', 'LOC124901299', 'LOC124902605', 'LOC102723750', 'LOC112268458', 'LOC124903575', 'LOC124903185', 'LOC107987042', 'ARL4AP5', 'LOC124907874', 'LOC102723553', 'LOC124903090', 'LOC124901648', 'LOC112268076', 'LOC124902420', 'LOC124904461', 'LOC124904584', 'LOC124906005', 'LOC124909487', 'LOC124902805', 'PANO1', 'LOC124904094', 'LOC730098', 'LOC124904930', 'LOC124904394', 'LOC124907776', 'NUTF2P4', 'LOC102724971', 'LOC124901867', 'LOC124905352', 'LOC124901483', 'LOC124902536', 'LOC100505841', 'ERV3-1-ZNF117', 'LOC124902897', 'LOC122455339', 'LOC101929937', 'TBC1D7-LOC100130357', 'LOC105372204', 'LOC124900512', 'CRYZL2P-SEC16B', 'LOC102724594', 'LOC102724485', 'LOC124900214', 'LOC105371932', 'PTCHD3', 'CHS.50923', 'CHS.166152', 'LOC124907854', 'RIPPLY2-CYB5R4', 'LOC124903372', 'LOC124904395', 'LOC101060212', 'LOC107985043', 'LOC124900971', 'LOC124903173', 'LOC124905081', 'LOC124903217', 'SAGSIN1', 'LOC124902528', 'LOC124901639', 'LOC100653133', 'LOC84773-CYHR1', 'LOC124900855', 'MUC8', 'LOC124900868', 'FOLH1B', 'LOC124902875', 'LOC124903680', 'LOC105375947', 'LOC124906086', 'CHS.8080', 'MMP24-AS1-EDEM2', 'LOC124904770', 'LOC124905156', 'LOC124902942', 'LOC112267968', 'LOC124901350', 'LOC124902215', 'LOC124902565', 'LOC124903405', 'LOC107987269', 'LOC112267992', 'LOC124901649', 'LOC107985567', 'LOC124904075', 'LOC124901643', 'LOC112268145', 'LOC124900420', 'LOC389895', 'LOC105376722', 'LOC124902393', 'LOC107984203', 'LOC124902531', 'LOC124905153', 'LOC105370092', 'LOC124901495', 'LOC124906255', 'CHS.11101', 'SPATA31C1', 'LOC105369669', 'LOC124906236', 'MUC19', 'ZNF470-DT', 'HIGD2AP2', 'LOC124900385', 'LOC105373989', 'LOC124903206', 'LOC124901818', 'LOC107984449', 'LOC122513141', 'LOC122319696', 'LOC124902886', 'LOC107986837', 'LOC124901638', 'LOC124903761', 'LOC100533997', 'LOC101060341', 'LOC101927375', 'LOC124900275', 'LOC124905948', 'LOC124904228', 'LOC124905977', 'LOC124902802', 'LOC105373091', 'LOC124905403', 'TSC22D4-C7ORF61', 'LOC107986860', 'LOC124906109', 'LOC102725191', 'LOC124904248', 'LOC124904660', 'LOC112268293', 'LOC124901868', 'LOC124900997', 'LOC100421372', 'LOC124901652', 'LOC122394732', 'LOC105379473', 'LOC105373397', 'LOC124903723', 'LOC102724159', 'PPIAP40', 'LOC124902313', 'LOC105375107', 'LOC100996696', 'LOC124903408', 'LOC107987067', 'LOC112267908', 'LOC124902530', 'LOC124904276', 'LOC124900597', 'LOC124901225', 'LOC124903442', 'LOC124902694', 'LOC124901712', 'LOC107984936', 'LOC124901165', 'LOC124904411', 'TARP', 'LOC124904532', 'LOC124901482', 'LOC124905368', 'ZNF664-RFLNA', 'LOC107986768', 'ADGRF2P', 'LOC124904607', 'LOC105379504', 'LOC107983987', 'LOC124900992', 'LOC124901803', 'LOC124903401', 'XNDC1N', 'LOC124901481', 'LOC112268119', 'POTEA', 'LOC124904304', 'LCE7A', 'PYDC5', 'LOC107983983', 'LOC112267897', 'LOC105375434', 'LOC124901797', 'LOC107986346', 'LOC124901670', 'LOC124903130', 'LOC124900837', 'OR2T7', 'LOC124900692', 'LOC124900388,LOC728392', 'LOC100996598', 'PKD1L2', 'PPIAP59', 'LOC124902461', 'LOC124909483', 'LOC105377015', 'LOC124901819', 'LOC124901163', 'LOC124900844', 'LOC124903219', 'LOC124904791', 'LOC727838', 'LOC124905049', 'LOC124901229', 'LOC124909494', 'LOC124904106', 'LOC105371253', 'LOC124901041', 'LOC124901637', 'LOC122455342', 'LOC107987288', 'LOC124908044', 'LOC124901794', 'LOC124904958', 'LOC124909485', 'ZNF660-ZNF197', 'LOC124900301', 'LOC124902704', 'LOC124900164', 'LOC124902561', 'LOC122455338', 'LOC124901373', 'LOC124901820', 'LOC124901446', 'LOC124901650', 'LOC124902211', 'LOC124905139', 'LOC124905050', 'LOC100996701', 'LOC124903496', 'LOC124903828', 'LOC122455340', 'LOC645202', 'LOC124902206', 'DSTNP4', 'SMIM44', 'LOC124904063', 'LOC124901069', 'LOC84773', 'LOC124903571', 'LOC124902050', 'LOC112268470', 'LOC105375817', 'LOC105369591', 'LOC124902325', 'LOC124903754', 'LOC124905955', 'LOC124904605', 'LOC124905230', 'LOC124900995', 'LOC107983958', 'LOC124900386', 'LOC124904970', 'LOC124902392', 'LOC124903621', 'LOC124903452', 'LOC102724560', 'LOC124903061', 'LOC124901355', 'LOC124902048', 'LOC124900986', 'LOC124905956', 'LOC124901647', 'MMP25-AS1', 'LOC124902601', 'LOC124904779', 'LOC101927180', 'LOC124900217', 'LOC124904417', 'LOC124900646', 'TPRX2', 'AQP7B', 'LOC124902876', 'LOC124904176', 'LOC124903767', 'DEFB109B', 'LOC105377805', 'KIR2DS4', 'OR8G3P', 'LOC124902608', 'LOC124904950', 'LOC124903759', 'LOC105375012', 'LOC124909474', 'LOC124903151', 'LOC124905300', 'LOC124900839', 'CNPY3-GNMT', 'LOC124904077', 'LOC107986375', 'LOC124902807', 'LOC107985222', 'LOC124903532', 'LOC124903619', 'LOC102723971', 'LOC124903233', 'LOC124904331', 'LOC124903229', 'CHS.160570', 'LOC124900252', 'LOC124902928', 'LOC124909461', 'LOC124909486', 'LOC124900642', 'LOC124904579', 'LOC124900866', 'LOC124902713', 'LOC728743', 'LOC124904439', 'LOC124902053', 'LOC124901644', 'LOC124903391', 'LOC112268170', 'H2BN1', 'LOC124904414', 'LOC124905027', 'PPIAP60', 'LOC105369787', 'LOC441239', 'LOC124903317', 'LOC124902602', 'LOC105375116', 'LOC124903569', 'LOC101059915', 'LOC102724428', 'LOC112268260', 'LOC124903319', 'LOC124906092', 'LOC124906252', 'LOC124900661', 'LOC124904253', 'LOC122394733', 'LOC105372073', 'LOC102724023', 'LINC02798', 'LOC124909484', 'LOC102724117'}</textarea>"
      ],
      "text/plain": [
       "<IPython.core.display.HTML object>"
      ]
     },
     "metadata": {},
     "output_type": "display_data"
    }
   ],
   "source": [
    "# cmp_sets is a rnalib utility function for set comparison\n",
    "shared, uniq_gc, uniq_ch = rna.cmp_sets({x.gene_name for x in t_gc.genes}, \n",
    "                                       {x.gene_name for x in t_ch.genes}) \n",
    "display(f\"Unique gene names in gencode: {len(shared)+len(uniq_gc)}, in chess: {len(shared)+len(uniq_ch)}\")\n",
    "display(f\"Shared: {len(shared)}, only in gencode: {len(uniq_gc)}, only in chess: {len(uniq_ch)}\")\n",
    "display_textarea(f\"Unique in gencode: {uniq_gc}\")\n",
    "display_textarea(f\"Unique in chess: {uniq_ch}\")"
   ]
  },
  {
   "cell_type": "markdown",
   "id": "06d6029b-fedd-4244-b894-953d387f7e87",
   "metadata": {
    "tags": []
   },
   "source": [
    "As expected, most genes are annotated in both sets as expected but there are some unique entries too.\n",
    "Most unique genecode genes have no given name but an ensembl gene id (starting with ENSG), \n",
    "while most unique chess genes start with “LOC” which indicates unknown function.\n",
    "Let's have a look at 'GCNT7' which is only annotated in gencode \n",
    "(https://www.genecards.org/cgi-bin/carddisp.pl?gene=GCNT7)\n",
    " We query the chess annotation set for the coordinates of the GCNT7 gene in the gencode annotation:"
   ]
  },
  {
   "cell_type": "code",
   "execution_count": 9,
   "id": "6576767c-3620-48d3-8611-c62b5c4a532e",
   "metadata": {
    "tags": []
   },
   "outputs": [
    {
     "data": {
      "text/plain": [
       "'In Gencode, GCNT7 is annotated at chr20:56491492-56525925 (-)'"
      ]
     },
     "metadata": {},
     "output_type": "display_data"
    },
    {
     "data": {
      "text/plain": [
       "'In Gencode at this region:'"
      ]
     },
     "metadata": {},
     "output_type": "display_data"
    },
    {
     "data": {
      "text/plain": [
       "[(chr20:56468585-56519449 (+), 'RTF2', '+'),\n",
       " (chr20:56491492-56525925 (-), 'GCNT7', '-'),\n",
       " (chr20:56517187-56526152 (+), 'FAM209A', '+')]"
      ]
     },
     "metadata": {},
     "output_type": "display_data"
    },
    {
     "data": {
      "text/plain": [
       "'In Chess at this region:'"
      ]
     },
     "metadata": {},
     "output_type": "display_data"
    },
    {
     "data": {
      "text/plain": [
       "[(chr20:56468627-56519449 (+), 'RTF2', '+'),\n",
       " (chr20:56524744-56526152 (+), 'FAM209A', '+')]"
      ]
     },
     "metadata": {},
     "output_type": "display_data"
    }
   ],
   "source": [
    "display(f\"In Gencode, GCNT7 is annotated at {t_gc.gene['GCNT7'].location}\")\n",
    "display(\"In Gencode at this region:\", [(x.location, x.gene_name, x.strand) for x in t_gc.query(t_gc.gene['GCNT7'], feature_types=['gene'])])\n",
    "display(\"In Chess at this region:\", [(x.location, x.gene_name, x.strand) for x in t_ch.query(t_gc.gene['GCNT7'], feature_types=['gene'])])"
   ]
  },
  {
   "cell_type": "markdown",
   "id": "1758ae59-1e6b-4a7f-9f06-7d60f5d582f0",
   "metadata": {
    "tags": []
   },
   "source": [
    "Indeed, it shows only RTF2 and 'FAM209A', both on the opposite strand.\n",
    "Vice versa, we look at 'MMP24-AS1-EDEM2' which is found only in the chess annotation"
   ]
  },
  {
   "cell_type": "code",
   "execution_count": 10,
   "id": "03f206fa-2b19-4694-b6a7-85ca2f411e77",
   "metadata": {
    "tags": []
   },
   "outputs": [
    {
     "data": {
      "text/plain": [
       "'In Chess, MMP24-AS1-EDEM2 is annotated at chr20:35115364-35278122 (-)'"
      ]
     },
     "metadata": {},
     "output_type": "display_data"
    },
    {
     "data": {
      "text/plain": [
       "'In Gencode at this region:'"
      ]
     },
     "metadata": {},
     "output_type": "display_data"
    },
    {
     "data": {
      "text/plain": [
       "[(chr20:35115364-35147336 (-), 'EDEM2', '-'),\n",
       " (chr20:35172072-35216240 (+), 'PROCR', '+'),\n",
       " (chr20:35201745-35278131 (-), 'MMP24OS', '-'),\n",
       " (chr20:35226690-35276998 (+), 'MMP24', '+'),\n",
       " (chr20:35267885-35280043 (-), 'ENSG00000261582', '-')]"
      ]
     },
     "metadata": {},
     "output_type": "display_data"
    },
    {
     "data": {
      "text/plain": [
       "'In Chess at this region:'"
      ]
     },
     "metadata": {},
     "output_type": "display_data"
    },
    {
     "data": {
      "text/plain": [
       "[(chr20:35115364-35147336 (-), 'EDEM2', '-'),\n",
       " (chr20:35115364-35278122 (-), 'MMP24-AS1-EDEM2', '-'),\n",
       " (chr20:35171096-35216240 (+), 'PROCR', '+'),\n",
       " (chr20:35226690-35276998 (+), 'MMP24', '+'),\n",
       " (chr20:35276352-35278122 (-), 'MMP24OS', '-')]"
      ]
     },
     "metadata": {},
     "output_type": "display_data"
    }
   ],
   "source": [
    "display(f\"In Chess, MMP24-AS1-EDEM2 is annotated at {t_ch.gene['MMP24-AS1-EDEM2'].location}\")\n",
    "display(\"In Gencode at this region:\", [(x.location, x.gene_name, x.strand) for x in t_gc.query(t_ch.gene['MMP24-AS1-EDEM2'], feature_types=['gene'])])\n",
    "display(\"In Chess at this region:\", [(x.location, x.gene_name, x.strand) for x in t_ch.query(t_ch.gene['MMP24-AS1-EDEM2'], feature_types=['gene'])])"
   ]
  },
  {
   "cell_type": "markdown",
   "id": "df4af92a-2244-487e-af2a-4a59dae1679a",
   "metadata": {},
   "source": [
    "Note that not all gene names in a transcriptome are unique. For example, genes in pseudo-autosomal \n",
    "regions (PAR), such as WASH6P, are annotated at different genomic locations (e.g., X and Y chromosomes)\n",
    "with the same gene_name but different feature IDs. rnalib properly handles such\n",
    "genes and maintains a dict that maps duplicate gene_names to the respective gene objects:"
   ]
  },
  {
   "cell_type": "code",
   "execution_count": 11,
   "id": "50887c09-79d5-469b-b184-46f297112bc8",
   "metadata": {},
   "outputs": [
    {
     "data": {
      "text/html": [
       "<textarea rows='4' cols='120'>Duplicate gene names in gencode: {'TBCE': [gene@chr1:235328570-235448952, gene@chr1:235367360-235452443], 'MYO18A': [gene@chr17:29071122-29180398, gene@chr17:29073521-29078857], 'SIGLEC5': [gene@chr19:51610960-51646889, gene@chr19:51611927-51645545], 'MKKS': [gene@chr20:10401009-10434222, gene@chr20:10413520-10431922, gene@chr20:10420546-10420737], 'MATR3': [gene@chr5:139273752-139331671, gene@chr5:139293674-139331677], 'POLR2J3': [gene@chr7:102537918-102572653, gene@chr7:102562133-102572583], 'PINX1': [gene@chr8:10725399-10839847, gene@chr8:10764961-10839884], 'PLCXD1': [gene@chrX:276322-303356, gene@chrY:276322-303356], 'GTPBP6': [gene@chrX:304529-318819, gene@chrY:304529-318819], 'PPP2R3B': [gene@chrX:333933-386955, gene@chrY:333933-386955], 'SHOX': [gene@chrX:624344-659411, gene@chrY:624344-659411], 'CRLF2': [gene@chrX:1187549-1212723, gene@chrY:1187549-1212723], 'CSF2RA': [gene@chrX:1268800-1310381, gene@chrY:1268800-1310381], 'IL3RA': [gene@chrX:1336616-1382689, gene@chrY:1336616-1382689], 'SLC25A6': [gene@chrX:1386152-1392113, gene@chrY:1386152-1392113], 'ASMTL': [gene@chrX:1403139-1453762, gene@chrY:1403139-1453762], 'P2RY8': [gene@chrX:1462581-1537185, gene@chrY:1462581-1537185], 'AKAP17A': [gene@chrX:1591604-1602520, gene@chrY:1591604-1602520], 'ASMT': [gene@chrX:1615059-1643081, gene@chrY:1615059-1643081], 'DHRSX': [gene@chrX:2219506-2502805, gene@chrY:2219506-2502805], 'ZBED1': [gene@chrX:2486414-2500976, gene@chrY:2486414-2500976], 'CD99': [gene@chrX:2691187-2741309, gene@chrY:2691187-2741309], 'TMSB15B': [gene@chrX:103918896-103966712, gene@chrX:104063871-104076212], 'VAMP7': [gene@chrX:155881345-155943769, gene@chrY:57067865-57130289], 'IL9R': [gene@chrX:155997696-156010817, gene@chrY:57184216-57197337], 'WASH6P': [gene@chrX:156020826-156025710, gene@chrY:57207346-57212230]}</textarea>"
      ],
      "text/plain": [
       "<IPython.core.display.HTML object>"
      ]
     },
     "metadata": {},
     "output_type": "display_data"
    },
    {
     "data": {
      "text/html": [
       "<textarea rows='4' cols='120'>Duplicate gene names in chess: {'PTGS2': [gene@chr1:186671791-186680423, gene@chrM:7586-8269], 'TSC22D1': [gene@chr13:44432143-44576330, gene@chr13:44432143-44576565], 'HOXD13': [gene@chr2:176087487-176090610, gene@chr2:176092721-176095944], 'TCAF2': [gene@chr7:143620974-143645698, gene@chr7:143620974-143730410], 'PTGS1': [gene@chr9:122370533-122395703, gene@chrM:5904-7445], 'PLCXD1': [gene@chrX:276356-303356, gene@chrY:276356-303356], 'GTPBP6': [gene@chrX:304750-318819, gene@chrY:304750-318819], 'PPP2R3B': [gene@chrX:333933-386955, gene@chrY:333933-386950], 'SHOX': [gene@chrX:624344-659411, gene@chrY:624344-659411], 'CRLF2': [gene@chrX:1190490-1212649, gene@chrY:1190490-1212649], 'CSF2RA': [gene@chrX:1268814-1325218, gene@chrY:1268814-1325218], 'IL3RA': [gene@chrX:1336574-1382689, gene@chrY:1336785-1382689], 'SLC25A6': [gene@chrX:1386152-1392113, gene@chrY:1386152-1392113], 'ASMTL': [gene@chrX:1403139-1453756, gene@chrY:1403139-1453756], 'P2RY8': [gene@chrX:1462581-1537185, gene@chrY:1462581-1537185], 'AKAP17A': [gene@chrX:1591604-1602520, gene@chrY:1591604-1602520], 'ASMT': [gene@chrX:1595455-1643081, gene@chrY:1595455-1643081], 'DHRSX': [gene@chrX:2219506-2500976, gene@chrY:2219506-2500976], 'ZBED1': [gene@chrX:2486435-2500976, gene@chrY:2486435-2500976], 'CD99': [gene@chrX:2691187-2741309, gene@chrY:2691295-2741309], 'SPRY3': [gene@chrX:155612586-155782459, gene@chrY:56954316-56968979], 'VAMP7': [gene@chrX:155881345-155943769, gene@chrY:57067865-57130289], 'IL9R': [gene@chrX:155997696-156013020, gene@chrY:57184129-57197869]}</textarea>"
      ],
      "text/plain": [
       "<IPython.core.display.HTML object>"
      ]
     },
     "metadata": {},
     "output_type": "display_data"
    }
   ],
   "source": [
    "display_textarea(f\"Duplicate gene names in gencode: {t_gc.duplicate_gene_names}\") \n",
    "display_textarea(f\"Duplicate gene names in chess: {t_ch.duplicate_gene_names}\")"
   ]
  },
  {
   "cell_type": "markdown",
   "id": "0191d655-dbe6-4ec5-b3a5-74468a3d723f",
   "metadata": {},
   "source": [
    "For a more detailed analysis, we iterate all gencode genes and overlap with chess annotations \n",
    "using rnalib's annotation iterator. \n",
    "We count some stats and select the chess annotation with the highest overlap for a gene-to-gene comparison.\n",
    "Finally, we calculate a histogram of absolute difference between gencode and chess annotations for start and end \n",
    "coordinates and plot the first 50 values in a barplot"
   ]
  },
  {
   "cell_type": "code",
   "execution_count": 12,
   "id": "9ab10bee-36de-4d68-b532-e4224ba2929f",
   "metadata": {},
   "outputs": [
    {
     "data": {
      "application/vnd.jupyter.widget-view+json": {
       "model_id": "0a1c7a18baee4baf86787e5ccbc9b746",
       "version_major": 2,
       "version_minor": 0
      },
      "text/plain": [
       "  0%|          | 0/25 [00:00<?, ?it/s]"
      ]
     },
     "metadata": {},
     "output_type": "display_data"
    },
    {
     "data": {
      "text/plain": [
       "Counter({'gencode_genes': 19982,\n",
       "         'differing_location': 11726,\n",
       "         'differing_gene_name': 664,\n",
       "         'differing_gene_name_uniq': 663,\n",
       "         'gencode_genes_no_match': 42})"
      ]
     },
     "metadata": {},
     "output_type": "display_data"
    },
    {
     "data": {
      "text/plain": [
       "{'differing_location_example': 'gc: chrY:57184216-57197337 (+), ch: {gene@chrY:57184129-57197869}',\n",
       " 'differing_gene_name_example': \"gc: ENSG00000288258, ch: ['CMC4', 'MTCP1']\"}"
      ]
     },
     "metadata": {},
     "output_type": "display_data"
    },
    {
     "data": {
      "image/png": "[encoded data removed]",
      "text/plain": [
       "<Figure size 1200x400 with 2 Axes>"
      ]
     },
     "metadata": {},
     "output_type": "display_data"
    }
   ],
   "source": [
    "stats=Counter()\n",
    "examples=dict()\n",
    "hist_start, hist_end=Counter(), Counter()\n",
    "diff_annos=list()\n",
    "with rna.AnnotationIterator(\n",
    "    rna.TranscriptomeIterator(t_gc, feature_types='gene'),\n",
    "    rna.TranscriptomeIterator(t_ch, feature_types='gene')) as it:\n",
    "    for gene_gc, dat in it:\n",
    "        stats['gencode_genes']+=1\n",
    "        if len(dat.it0)==0:\n",
    "            stats['gencode_genes_no_match']+=1\n",
    "            continue\n",
    "        genes_ch = {g.location for g in dat.it0}\n",
    "        # check whether gene names match\n",
    "        if gene_gc.gene_name not in [g.gene_name for g in genes_ch]:\n",
    "            stats['differing_gene_name'] += 1\n",
    "            if gene_gc.gene_name not in shared:\n",
    "                stats['differing_gene_name_uniq'] += 1\n",
    "            examples['differing_gene_name_example'] = f\"gc: {gene_gc.gene_name}, ch: {[g.gene_name for g in genes_ch]}\"\n",
    "            continue\n",
    "        # check whether coordinates match\n",
    "        if gene_gc.get_location() not in [g.get_location() for g in genes_ch]:\n",
    "            stats['differing_location'] += 1\n",
    "            examples['differing_location_example'] = f\"gc: {gene_gc.get_location()}, ch: {genes_ch}\"\n",
    "            # select overlapping chess annotation with minimum abs difference\n",
    "            overlaps={g:abs(gene_gc.left_pos().distance(g.left_pos()))+abs(gene_gc.right_pos().distance(g.right_pos())) for g in genes_ch}\n",
    "            closest_anno=min(overlaps, key=overlaps.get)\n",
    "            abs_diff_start = abs(gene_gc.left_pos().distance(closest_anno.left_pos()))\n",
    "            abs_diff_end = abs(gene_gc.right_pos().distance(closest_anno.right_pos()))\n",
    "            hist_start[abs_diff_start]+=1\n",
    "            hist_end[abs_diff_end]+=1\n",
    "            diff_annos.append((abs_diff_start+abs_diff_end,gene_gc, closest_anno))\n",
    "display(stats)\n",
    "display(examples)\n",
    "fig, (ax1, ax2) = plt.subplots(1, 2, figsize=(12, 4))\n",
    "x,y=zip(*sorted(hist_start.items())[:50])\n",
    "ax1.bar(x,y)\n",
    "ax1.set_xlabel('start difference')\n",
    "x,y=zip(*sorted(hist_end.items())[:50])\n",
    "ax2.bar(x,y)\n",
    "ax2.set_xlabel('end difference')\n",
    "fig.suptitle(t='Difference to gencode annotations', fontsize=16)\n",
    "fig.tight_layout()"
   ]
  },
  {
   "cell_type": "markdown",
   "id": "2d84be2b-37bb-48b3-a725-129e5ad41566",
   "metadata": {},
   "source": [
    "So most annotations indeed differ between gencode and chess and the differing ones share \n",
    "either the same start or the same end coordinates. \n",
    "There are, however, some annotations with very large differences (multiple Mbases) that are not shown in the barplots. Let's have a closer look at the 10 most extreme examples:"
   ]
  },
  {
   "cell_type": "code",
   "execution_count": 13,
   "id": "563fe193-8e26-42ff-98b7-dc40e475b3bc",
   "metadata": {},
   "outputs": [
    {
     "data": {
      "text/plain": [
       "'955365, 1216867, RUNX1, chr21:34787801-36004667 (-), RUNX1, chr21:34787801-35049302 (-)'"
      ]
     },
     "metadata": {},
     "output_type": "display_data"
    },
    {
     "data": {
      "text/plain": [
       "'779222, 2473539, RBFOX1, chr16:5239802-7713340 (+), RBFOX1, chr16:6019024-7713340 (+)'"
      ]
     },
     "metadata": {},
     "output_type": "display_data"
    },
    {
     "data": {
      "text/plain": [
       "'727705, 1213807, ZFPM2, chr8:104590733-105804539 (+), ZFPM2, chr8:105318438-105804539 (+)'"
      ]
     },
     "metadata": {},
     "output_type": "display_data"
    },
    {
     "data": {
      "text/plain": [
       "'706284, 1435601, RBMS3, chr3:28574791-30010391 (+), RBMS3, chr3:29281071-30010395 (+)'"
      ]
     },
     "metadata": {},
     "output_type": "display_data"
    },
    {
     "data": {
      "text/plain": [
       "'702186, 1287656, TBC1D5, chr3:17157162-18444817 (-), TBC1D5, chr3:17157162-17742631 (-)'"
      ]
     },
     "metadata": {},
     "output_type": "display_data"
    },
    {
     "data": {
      "text/plain": [
       "'693913, 1337027, LSAMP, chr3:115802363-117139389 (-), LSAMP, chr3:115802374-116445487 (-)'"
      ]
     },
     "metadata": {},
     "output_type": "display_data"
    },
    {
     "data": {
      "text/plain": [
       "'622111, 961104, ZNF385D, chr3:21412218-22373321 (-), ZNF385D, chr3:21412218-21751210 (-)'"
      ]
     },
     "metadata": {},
     "output_type": "display_data"
    },
    {
     "data": {
      "text/plain": [
       "'605796, 149049, PPARGC1A, chr4:23755041-23904089 (-), PPARGC1A, chr4:23792021-24472905 (-)'"
      ]
     },
     "metadata": {},
     "output_type": "display_data"
    },
    {
     "data": {
      "text/plain": [
       "'603553, 766460, SUMF1, chr3:3700814-4467273 (-), SUMF1, chr3:4304363-4467269 (-)'"
      ]
     },
     "metadata": {},
     "output_type": "display_data"
    },
    {
     "data": {
      "text/plain": [
       "'566618, 57500, SCHIP1, chr3:159839861-159897360 (+), SCHIP1, chr3:159273244-159897359 (+)'"
      ]
     },
     "metadata": {},
     "output_type": "display_data"
    }
   ],
   "source": [
    "for diff, g_gc, g_ch in sorted(diff_annos, reverse=True)[:10]:\n",
    "    display(f\"{diff}, {len(g_gc)}, {g_gc.gene_name}, {g_gc.get_location()}, {g_ch.gene_name}, {g_ch.get_location()}\")"
   ]
  },
  {
   "cell_type": "markdown",
   "id": "d2dc00d2-9bf6-4c49-9727-146226334f1b",
   "metadata": {},
   "source": [
    "Finally, lets have a look at the number of annotated transcripts per annotation set.\n",
    "For this analysis, we consider only the shared genes"
   ]
  },
  {
   "cell_type": "code",
   "execution_count": 14,
   "id": "52d3225a-e8a5-4187-8f0a-de89daddda78",
   "metadata": {},
   "outputs": [
    {
     "data": {
      "text/plain": [
       "'R_pearson=0.4618310320651033'"
      ]
     },
     "metadata": {},
     "output_type": "display_data"
    },
    {
     "data": {
      "image/png": "[encoded data removed]",
      "text/plain": [
       "<Figure size 1200x400 with 1 Axes>"
      ]
     },
     "metadata": {},
     "output_type": "display_data"
    }
   ],
   "source": [
    "# calculate vectors of pairwise transcript counts for all shared gene_names\n",
    "x, y = zip(*[(len(t_gc.gene[gn].transcript), len(t_ch.gene[gn].transcript) ) for gn in shared ])\n",
    "# scatter plot\n",
    "fig, ax = plt.subplots(1, 1, figsize=(12, 4))\n",
    "plt.hexbin(x,y, bins='log')\n",
    "ax.axline((1, 1), slope=1)\n",
    "plt.xlabel('Gencode')\n",
    "plt.ylabel('Chess')\n",
    "# correlation coefficient\n",
    "display(f'R_pearson={np.corrcoef(x,y)[0,1]}')"
   ]
  },
  {
   "cell_type": "markdown",
   "id": "9ded0150-e618-4361-afbc-90fdf3383e82",
   "metadata": {},
   "source": [
    "We can observe large differences between the compared annotation set. Let's\n",
    "look at the most extreme example."
   ]
  },
  {
   "cell_type": "code",
   "execution_count": 15,
   "id": "91b757fc-1d8f-46bf-8071-ba9fed63977e",
   "metadata": {},
   "outputs": [
    {
     "data": {
      "text/plain": [
       "'The gene with the largest difference in annotated transcripts is MAPK10'"
      ]
     },
     "metadata": {},
     "output_type": "display_data"
    },
    {
     "data": {
      "text/plain": [
       "'In gencode, there are 192 tx, in chess, there are 18'"
      ]
     },
     "metadata": {},
     "output_type": "display_data"
    },
    {
     "data": {
      "text/html": [
       "<textarea rows='4' cols='120'>gencode tx: (transcript@chr4:86352172-86360051, transcript@chr4:86326329-86457985, transcript@chr4:86300592-86359984, transcript@chr4:86300584-86453046, transcript@chr4:86277204-86360224, transcript@chr4:86277090-86453360, transcript@chr4:86194394-86453278, transcript@chr4:86194380-86453174, transcript@chr4:86193776-86360092, transcript@chr4:86191641-86453212, transcript@chr4:86191608-86357695, transcript@chr4:86191598-86360051, transcript@chr4:86164446-86359671, transcript@chr4:86159459-86453216, transcript@chr4:86159446-86453185, transcript@chr4:86159428-86357740, transcript@chr4:86159422-86360092, transcript@chr4:86159413-86594119, transcript@chr4:86159404-86453212, transcript@chr4:86159401-86594110, transcript@chr4:86159382-86453183, transcript@chr4:86159382-86453203, transcript@chr4:86159366-86453399, transcript@chr4:86159361-86453214, transcript@chr4:86159358-86354628, transcript@chr4:86159298-86453185, transcript@chr4:86159298-86453162, transcript@chr4:86159158-86453144, transcript@chr4:86159158-86360103, transcript@chr4:86159091-86360058, transcript@chr4:86159050-86594074, transcript@chr4:86125122-86360028, transcript@chr4:86124359-86360060, transcript@chr4:86124333-86453142, transcript@chr4:86123693-86360059, transcript@chr4:86107343-86359834, transcript@chr4:86107318-86453194, transcript@chr4:86107288-86594110, transcript@chr4:86107283-86268569, transcript@chr4:86107243-86358488, transcript@chr4:86107237-86453180, transcript@chr4:86106807-86117766, transcript@chr4:86103220-86453219, transcript@chr4:86103213-86453165, transcript@chr4:86102869-86159334, transcript@chr4:86102013-86107564, transcript@chr4:86101986-86360083, transcript@chr4:86101942-86594110, transcript@chr4:86101194-86359694, transcript@chr4:86100479-86360059, transcript@chr4:86095602-86117827, transcript@chr4:86095426-86119538, transcript@chr4:86095331-86354644, transcript@chr4:86095177-86359822, transcript@chr4:86095135-86101922, transcript@chr4:86067886-86091470, transcript@chr4:86067849-86107243, transcript@chr4:86067844-86082344, transcript@chr4:86067836-86117853, transcript@chr4:86067824-86089549, transcript@chr4:86067812-86453219, transcript@chr4:86064355-86360053, transcript@chr4:86064337-86360051, transcript@chr4:86064337-86453319, transcript@chr4:86044540-86354582, transcript@chr4:86029212-86360025, transcript@chr4:86026509-86360053, transcript@chr4:86026436-86360053, transcript@chr4:86023931-86360055, transcript@chr4:86020222-86031431, transcript@chr4:86017225-86359665, transcript@chr4:86017177-86360039, transcript@chr4:86017082-86359849, transcript@chr4:86017065-86117846, transcript@chr4:86016870-86594074, transcript@chr4:86016799-86359997, transcript@chr4:86016771-86360010, transcript@chr4:86016757-86360059, transcript@chr4:86016734-86359911, transcript@chr4:86016644-86171072, transcript@chr4:86016629-86360053, transcript@chr4:86016629-86277129, transcript@chr4:86016629-86159466, transcript@chr4:86016629-86360053, transcript@chr4:86016628-86360076, transcript@chr4:86016618-86360051, transcript@chr4:86016604-86453130, transcript@chr4:86016604-86594131, transcript@chr4:86016536-86453103, transcript@chr4:86016534-86031972, transcript@chr4:86016534-86594088, transcript@chr4:86016533-86358586, transcript@chr4:86016532-86453075, transcript@chr4:86016522-86594062, transcript@chr4:86016503-86360053, transcript@chr4:86016503-86360072, transcript@chr4:86016503-86453197, transcript@chr4:86016502-86453185, transcript@chr4:86016499-86594088, transcript@chr4:86016498-86358512, transcript@chr4:86016493-86358128, transcript@chr4:86016491-86358874, transcript@chr4:86016491-86453325, transcript@chr4:86016491-86360038, transcript@chr4:86016491-86359842, transcript@chr4:86016491-86453219, transcript@chr4:86016491-86453192, transcript@chr4:86016491-86360053, transcript@chr4:86016491-86326557, transcript@chr4:86016491-86360060, transcript@chr4:86016491-86360055, transcript@chr4:86016491-86594110, transcript@chr4:86016491-86160519, transcript@chr4:86016490-86357732, transcript@chr4:86016490-86360028, transcript@chr4:86016490-86360060, transcript@chr4:86016490-86360053, transcript@chr4:86016490-86360060, transcript@chr4:86016488-86453138, transcript@chr4:86016488-86340450, transcript@chr4:86016488-86360062, transcript@chr4:86016488-86358566, transcript@chr4:86016488-86453197, transcript@chr4:86016488-86360059, transcript@chr4:86016488-86360053, transcript@chr4:86016488-86360058, transcript@chr4:86016488-86360058, transcript@chr4:86016487-86360051, transcript@chr4:86016486-86360089, transcript@chr4:86016486-86360050, transcript@chr4:86016480-86107653, transcript@chr4:86016480-86065603, transcript@chr4:86016480-86358874, transcript@chr4:86016480-86101434, transcript@chr4:86016478-86453138, transcript@chr4:86016478-86453145, transcript@chr4:86016478-86360014, transcript@chr4:86016478-86360051, transcript@chr4:86016478-86360027, transcript@chr4:86016478-86453360, transcript@chr4:86016445-86357740, transcript@chr4:86016436-86360060, transcript@chr4:86016368-86360048, transcript@chr4:86016367-86359731, transcript@chr4:86016250-86360053, transcript@chr4:86016221-86453196, transcript@chr4:86016154-86453225, transcript@chr4:86016132-86453370, transcript@chr4:86016119-86101992, transcript@chr4:86016086-86453436, transcript@chr4:86016075-86384229, transcript@chr4:86016075-86453196, transcript@chr4:86016015-86453185, transcript@chr4:86016002-86032578, transcript@chr4:86015979-86360043, transcript@chr4:86015976-86360060, transcript@chr4:86015969-86360058, transcript@chr4:86015962-86360059, transcript@chr4:86015960-86360053, transcript@chr4:86015952-86360059, transcript@chr4:86015945-86594062, transcript@chr4:86015937-86360059, transcript@chr4:86015935-86357889, transcript@chr4:86015269-86453387, transcript@chr4:86015269-86357791, transcript@chr4:86015231-86360060, transcript@chr4:86015212-86360060, transcript@chr4:86015161-86360083, transcript@chr4:86015153-86453203, transcript@chr4:86015143-86453174, transcript@chr4:86015135-86360092, transcript@chr4:86015042-86360222, transcript@chr4:86015031-86357895, transcript@chr4:86015031-86357722, transcript@chr4:86013880-86453374, transcript@chr4:86013874-86594625, transcript@chr4:86013874-86194407, transcript@chr4:86012501-86360014, transcript@chr4:86012491-86453174, transcript@chr4:86012491-86358509, transcript@chr4:86012478-86358586, transcript@chr4:86012322-86360064, transcript@chr4:86010608-86358527, transcript@chr4:86010453-86360051, transcript@chr4:86010431-86360059, transcript@chr4:86010431-86360053, transcript@chr4:86010405-86360053, transcript@chr4:86010395-86360222, transcript@chr4:85999848-86360053, transcript@chr4:85991108-86003704, transcript@chr4:85990138-86360051, transcript@chr4:85990007-86360060)</textarea>"
      ],
      "text/plain": [
       "<IPython.core.display.HTML object>"
      ]
     },
     "metadata": {},
     "output_type": "display_data"
    },
    {
     "data": {
      "text/html": [
       "<textarea rows='4' cols='120'>chess tx: (transcript@chr4:86016532-86453075, transcript@chr4:86016503-86453197, transcript@chr4:86016154-86453225, transcript@chr4:86015979-86360043, transcript@chr4:86015945-86594062, transcript@chr4:86015269-86453387, transcript@chr4:86013880-86453374, transcript@chr4:86013874-86594625, transcript@chr4:86012296-86370867, transcript@chr4:86012296-86354644, transcript@chr4:86010405-86360053, transcript@chr4:86010405-86360053, transcript@chr4:86010405-86360053, transcript@chr4:86010405-86360053, transcript@chr4:86010405-86360053, transcript@chr4:86010405-86360053, transcript@chr4:86010405-86453195, transcript@chr4:85990138-86360051)</textarea>"
      ],
      "text/plain": [
       "<IPython.core.display.HTML object>"
      ]
     },
     "metadata": {},
     "output_type": "display_data"
    }
   ],
   "source": [
    "max_diff_idx = np.argmax(np.array([abs(a-b) for a,b in zip(x,y)]))\n",
    "max_diff_gene = list(shared)[max_diff_idx]\n",
    "display(f\"The gene with the largest difference in annotated transcripts is {t_gc.gene[max_diff_gene].gene_name}\")\n",
    "\n",
    "tr_gc, tr_ch = t_gc.gene[max_diff_gene].transcript, t_ch.gene[max_diff_gene].transcript\n",
    "display(f\"In gencode, there are {len(tr_gc)} tx, in chess, there are {len(tr_ch)}\")\n",
    "display_textarea(f\"gencode tx: {tr_gc}\")\n",
    "display_textarea(f\"chess tx: {tr_ch}\")"
   ]
  },
  {
   "cell_type": "markdown",
   "id": "e2fe8d2b-9398-41ec-91f6-aaee586f01ce",
   "metadata": {},
   "source": [
    "In a final analysis, we want to count the number of introns with canonical splice sites, i.e.,\n",
    "having GT and AG at either end of that intron. For this, we must load gene sequences and in this\n",
    "example we do this only for chr20. \n",
    "\n",
    "First, we instantiate 2 new transcriptomes that use the same configuration as before but now add the grch38_chr20 \n",
    "reference sequence and load those sequences at startup. Note that rnalib detects that the referenced genome contains\n",
    "only chr20 and will merge the respective refdicts resulting in only genes/transcripts located on chr20 being loaded."
   ]
  },
  {
   "cell_type": "code",
   "execution_count": 21,
   "id": "541a02b7-70d5-4362-b4ca-ded57b283522",
   "metadata": {},
   "outputs": [
    {
     "data": {
      "application/vnd.jupyter.widget-view+json": {
       "model_id": "f3f7c5643c6b4df4bbac1501c4a3aced",
       "version_major": 2,
       "version_minor": 0
      },
      "text/plain": [
       "load gene aliases:   0%|          | 0/43840 [00:00<?, ?it/s]"
      ]
     },
     "metadata": {},
     "output_type": "display_data"
    },
    {
     "data": {
      "application/vnd.jupyter.widget-view+json": {
       "model_id": "e0a298f45f6642eab17efcc66cb5ddfe",
       "version_major": 2,
       "version_minor": 0
      },
      "text/plain": [
       "Building transcriptome (1 chromosomes)\n",
       ":   0%|          | 0/1 [00:00<?, ?it/s]"
      ]
     },
     "metadata": {},
     "output_type": "display_data"
    },
    {
     "data": {
      "application/vnd.jupyter.widget-view+json": {
       "model_id": "e46b5ea66be5447786d5fd64fed0daf5",
       "version_major": 2,
       "version_minor": 0
      },
      "text/plain": [
       "Load sequences:   0%|          | 0/546 [00:00<?, ?it/s]"
      ]
     },
     "metadata": {},
     "output_type": "display_data"
    },
    {
     "data": {
      "application/vnd.jupyter.widget-view+json": {
       "model_id": "aafae1a76bdb4410a0ad50255da2dc1c",
       "version_major": 2,
       "version_minor": 0
      },
      "text/plain": [
       "Build interval trees:   0%|          | 0/546 [00:00<?, ?it/s]"
      ]
     },
     "metadata": {},
     "output_type": "display_data"
    },
    {
     "data": {
      "application/vnd.jupyter.widget-view+json": {
       "model_id": "fd512b86fb0f405d8c1c3eb491087fa6",
       "version_major": 2,
       "version_minor": 0
      },
      "text/plain": [
       "load gene aliases:   0%|          | 0/43840 [00:00<?, ?it/s]"
      ]
     },
     "metadata": {},
     "output_type": "display_data"
    },
    {
     "data": {
      "application/vnd.jupyter.widget-view+json": {
       "model_id": "12de9dbe6219486c9760080d8bc8ca41",
       "version_major": 2,
       "version_minor": 0
      },
      "text/plain": [
       "Building transcriptome (1 chromosomes)\n",
       ":   0%|          | 0/1 [00:00<?, ?it/s]"
      ]
     },
     "metadata": {},
     "output_type": "display_data"
    },
    {
     "data": {
      "application/vnd.jupyter.widget-view+json": {
       "model_id": "b943d8e4d1fd4aa4b5081d5f7c1bb09d",
       "version_major": 2,
       "version_minor": 0
      },
      "text/plain": [
       "Load sequences:   0%|          | 0/535 [00:00<?, ?it/s]"
      ]
     },
     "metadata": {},
     "output_type": "display_data"
    },
    {
     "data": {
      "application/vnd.jupyter.widget-view+json": {
       "model_id": "75c9c8b96f974a4fa7a22f0ad81ff6a6",
       "version_major": 2,
       "version_minor": 0
      },
      "text/plain": [
       "Build interval trees:   0%|          | 0/535 [00:00<?, ?it/s]"
      ]
     },
     "metadata": {},
     "output_type": "display_data"
    },
    {
     "data": {
      "text/markdown": [
       "---"
      ],
      "text/plain": [
       "<IPython.core.display.Markdown object>"
      ]
     },
     "metadata": {},
     "output_type": "display_data"
    },
    {
     "data": {
      "text/plain": [
       "Transcriptome with 546 genes and 3629 tx (+seq)"
      ]
     },
     "metadata": {},
     "output_type": "display_data"
    },
    {
     "data": {
      "text/plain": [
       "RefSet (size: 1): dict_keys(['chr20']), dict_values([64444167]) name: References from FASTA file b'rnalib_testdata//bigfiles/grch38_chr20.fa.gz',References from TABIX file b'rnalib_testdata//bigfiles/gencode_39.gff3.gz' "
      ]
     },
     "metadata": {},
     "output_type": "display_data"
    },
    {
     "data": {
      "text/plain": [
       "Transcriptome with 535 genes and 2464 tx (+seq)"
      ]
     },
     "metadata": {},
     "output_type": "display_data"
    },
    {
     "data": {
      "text/plain": [
       "RefSet (size: 1): dict_keys(['chr20']), dict_values([64444167]) name: References from FASTA file b'rnalib_testdata//bigfiles/grch38_chr20.fa.gz',References from TABIX file b'rnalib_testdata//bigfiles/chess3.0.1.gtf.gz' "
      ]
     },
     "metadata": {},
     "output_type": "display_data"
    }
   ],
   "source": [
    "t_gc_chr20=rna.Transcriptome(\n",
    "    annotation_gff = gencode_gff,\n",
    "    annotation_flavour ='gencode',\n",
    "    genome_fa = rna.get_resource(\"grch38_chr20\"), # GRCh38 chr20 reference sequence\n",
    "    load_sequence_data=True,\n",
    "    copied_fields =['gene_type', 'transcript_type'],\n",
    "    gene_name_alias_file = alias_txt,\n",
    "    feature_filter = txfilter)\n",
    "\n",
    "t_ch_chr20=rna.Transcriptome(\n",
    "    annotation_gff = chess_gff,\n",
    "    annotation_flavour ='chess',\n",
    "    genome_fa = rna.get_resource(\"grch38_chr20\"), # GRCh38 chr20 reference sequence\n",
    "    load_sequence_data=True,\n",
    "    copied_fields =['gene_type'],\n",
    "    gene_name_alias_file = alias_txt,\n",
    "    feature_filter = txfilter)\n",
    "\n",
    "# show merged refdicts and numbers of loaded genes/transcripts\n",
    "display(SEP)\n",
    "display(t_gc_chr20, t_gc_chr20.merged_refdict)\n",
    "display(t_ch_chr20, t_ch_chr20.merged_refdict)"
   ]
  },
  {
   "cell_type": "code",
   "execution_count": 24,
   "id": "1b912fc3-8d3b-4a70-9f83-ced75a0c02ac",
   "metadata": {},
   "outputs": [
    {
     "data": {
      "text/html": [
       "<div>\n",
       "<style scoped>\n",
       "    .dataframe tbody tr th:only-of-type {\n",
       "        vertical-align: middle;\n",
       "    }\n",
       "\n",
       "    .dataframe tbody tr th {\n",
       "        vertical-align: top;\n",
       "    }\n",
       "\n",
       "    .dataframe thead th {\n",
       "        text-align: right;\n",
       "    }\n",
       "</style>\n",
       "<table border=\"1\" class=\"dataframe\">\n",
       "  <thead>\n",
       "    <tr style=\"text-align: right;\">\n",
       "      <th></th>\n",
       "      <th>annotation</th>\n",
       "      <th>SJ</th>\n",
       "      <th>count</th>\n",
       "    </tr>\n",
       "  </thead>\n",
       "  <tbody>\n",
       "    <tr>\n",
       "      <th>0</th>\n",
       "      <td>gencode</td>\n",
       "      <td>GT/AG</td>\n",
       "      <td>25395</td>\n",
       "    </tr>\n",
       "    <tr>\n",
       "      <th>17</th>\n",
       "      <td>chess</td>\n",
       "      <td>GT/AG</td>\n",
       "      <td>22990</td>\n",
       "    </tr>\n",
       "    <tr>\n",
       "      <th>1</th>\n",
       "      <td>gencode</td>\n",
       "      <td>GC/AG</td>\n",
       "      <td>216</td>\n",
       "    </tr>\n",
       "    <tr>\n",
       "      <th>18</th>\n",
       "      <td>chess</td>\n",
       "      <td>GC/AG</td>\n",
       "      <td>178</td>\n",
       "    </tr>\n",
       "    <tr>\n",
       "      <th>5</th>\n",
       "      <td>gencode</td>\n",
       "      <td>AT/AC</td>\n",
       "      <td>31</td>\n",
       "    </tr>\n",
       "  </tbody>\n",
       "</table>\n",
       "</div>"
      ],
      "text/plain": [
       "   annotation     SJ  count\n",
       "0     gencode  GT/AG  25395\n",
       "17      chess  GT/AG  22990\n",
       "1     gencode  GC/AG    216\n",
       "18      chess  GC/AG    178\n",
       "5     gencode  AT/AC     31"
      ]
     },
     "metadata": {},
     "output_type": "display_data"
    },
    {
     "data": {
      "text/plain": [
       "'In gencode, we found 98.86708712917542% canonical splice sites'"
      ]
     },
     "metadata": {},
     "output_type": "display_data"
    },
    {
     "data": {
      "text/plain": [
       "'In chess,   we found 99.01373874843877% canonical splice sites'"
      ]
     },
     "metadata": {},
     "output_type": "display_data"
    },
    {
     "name": "stderr",
     "output_type": "stream",
     "text": [
      "/Library/Frameworks/Python.framework/Versions/3.10/lib/python3.10/site-packages/seaborn/_base.py:949: FutureWarning: When grouping with a length-1 list-like, you will need to pass a length-1 tuple to get_group in a future version of pandas. Pass `(name,)` instead of `name` to silence this warning.\n",
      "  data_subset = grouped_data.get_group(pd_key)\n",
      "/Library/Frameworks/Python.framework/Versions/3.10/lib/python3.10/site-packages/seaborn/_base.py:949: FutureWarning: When grouping with a length-1 list-like, you will need to pass a length-1 tuple to get_group in a future version of pandas. Pass `(name,)` instead of `name` to silence this warning.\n",
      "  data_subset = grouped_data.get_group(pd_key)\n"
     ]
    },
    {
     "data": {
      "image/png": "[encoded data removed]",
      "text/plain": [
       "<Figure size 640x480 with 1 Axes>"
      ]
     },
     "metadata": {},
     "output_type": "display_data"
    }
   ],
   "source": [
    "# now, lets count introns with and without consensus dinucleotides (GT and AG) \n",
    "# at either end of that intron\n",
    "stats = defaultdict(Counter)\n",
    "for name, tr in [('gencode',t_gc_chr20),('chess', t_ch_chr20)]:\n",
    "    for intron, _ in rna.TranscriptomeIterator(tr, feature_types='intron'):\n",
    "        if len(intron)<4:\n",
    "            continue\n",
    "        a,b = intron.sequence[:2].upper(), intron.sequence[-2:].upper()\n",
    "        if intron.strand=='-': # reverse complement for minus strand genes\n",
    "            a,b = rna.reverse_complement(b), rna.reverse_complement(a)\n",
    "        stats[name][f'{a}/{b}'] += 1\n",
    "# convert to dataframe\n",
    "df = pd.DataFrame.from_records([(n,t,c) for n in stats for t,c in stats[n].items()], \n",
    "                               columns=['annotation', 'SJ', 'count']).sort_values(['count'], ascending=False)\n",
    "display(df.head())\n",
    "\n",
    "# Show % canonical SJ\n",
    "# compare: PMID: 11058137: 98.71% canonical, 0.56% non-canonical GC-AG\n",
    "display(f\"In gencode, we found {stats['gencode']['GT/AG'] / stats['gencode'].total() * 100}% canonical splice sites\")\n",
    "display(f\"In chess,   we found {stats['chess']['GT/AG'] / stats['chess'].total() * 100}% canonical splice sites\")\n",
    "\n",
    "# plot results\n",
    "sns.barplot(x='SJ', y='count', data=df, hue='annotation')\n",
    "_= plt.xticks(rotation=45)\n",
    "_= plt.yscale(\"log\")\n"
   ]
  },
  {
   "cell_type": "markdown",
   "id": "bd82fb6b-6420-4230-b1e4-6d34247d147c",
   "metadata": {},
   "source": [
    "So, gencode shows more non-canonical splice junctions that are possibly wrong."
   ]
  }
 ],
 "metadata": {
  "kernelspec": {
   "display_name": "Python 3 (ipykernel)",
   "language": "python",
   "name": "python3"
  },
  "language_info": {
   "codemirror_mode": {
    "name": "ipython",
    "version": 3
   },
   "file_extension": ".py",
   "mimetype": "text/x-python",
   "name": "python",
   "nbconvert_exporter": "python",
   "pygments_lexer": "ipython3",
   "version": "3.10.4"
  }
 },
 "nbformat": 4,
 "nbformat_minor": 5
}
