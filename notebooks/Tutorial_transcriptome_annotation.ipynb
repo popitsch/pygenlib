{
 "cells": [
  {
   "cell_type": "markdown",
   "id": "a6225b06-119a-48c7-900c-de7f3f38c245",
   "metadata": {
    "tags": []
   },
   "source": [
    "# Tutorial: Transcriptome annotation\n",
    "\n",
    "In this tutorial we will filter and visualize genomic features by read mappability \n",
    "\n",
    "Briefly, we will do the following:\n",
    "- build a transcriptome of canonical protein coding genes (chr20) from gencode annotations\n",
    "- annotate all gene annotations with a bedgraph file containing umap mappability values.\n",
    "- Query some of the data and demonstrated the slice_from_parent() functionality\n",
    "- Visualize some of the data with matplotlib\n",
    "\n",
    "*Required resources:*\n",
    "- Human genome FASTA (GRCh38), accessible at https://www.ncbi.nlm.nih.gov/datasets/genome/GCF_000001405.26/\n",
    "- Full gencode annotation gff3 file (sorted), available at https://www.gencodegenes.org/human/\n",
    "- Full GRCh38.k24.umap mappability bedgraph file, available at https://bismap.hoffmanlab.org/"
   ]
  },
  {
   "cell_type": "code",
   "execution_count": null,
   "id": "f2a16637-f5e2-40b4-a494-92c2b543dfa5",
   "metadata": {},
   "outputs": [],
   "source": [
    "# set path and load rnalib\n",
    "import os, pathlib, platform\n",
    "rnalib_SRC=pathlib.Path('/Users/niko/projects/rnalib/') \n",
    "os.chdir(rnalib_SRC)\n",
    "# install libraries. Recommended to run in a venv here!\n",
    "#!{sys.executable} -m pip install -r requirements.txt \n",
    "display(f\"Running rnalib on python {platform.python_version()}. Using rnalib code from {rnalib_SRC}\")\n",
    "# load rnalib\n",
    "import rnalib as pg\n",
    "from rnalib import SEP, display_textarea\n",
    "from tqdm.auto import tqdm\n",
    "import matplotlib.pyplot as plt\n",
    "import seaborn as sns\n",
    "from collections import Counter, defaultdict\n",
    "import pandas as pd\n",
    "import numpy as np\n",
    "import traceback\n",
    "import math\n",
    "import random"
   ]
  },
  {
   "cell_type": "markdown",
   "id": "2b2108ce-72fc-42a8-bbe6-5fa3fda2991b",
   "metadata": {},
   "source": [
    "First, we download the required resources.\n",
    "NOTE that this needs bedtools, samtools and htslib (bgzip, tabix) installed.\n",
    "Total size of the downloaded data (for all tutorials) is ~150M. Files are only downloaded if not existing already in the `notebooks/large_test_resources/` directory."
   ]
  },
  {
   "cell_type": "code",
   "execution_count": null,
   "id": "caa57149-9205-412d-9a33-578c33b0747d",
   "metadata": {},
   "outputs": [],
   "source": [
    "import traceback\n",
    "from rnalib.testdata import download_bgzip_slice\n",
    "outdir=rnalib_SRC / 'notebooks/large_test_resources' # update to your preferred location\n",
    "large_test_resources = {\n",
    "    \"outdir\": f\"{outdir}\", # update to your preferred location\n",
    "    \"resources\": {\n",
    "        # -------------- Full gencode39 annotation -------------------------------\n",
    "        \"full_gencode_gff\": {\n",
    "            \"uri\": \"https://ftp.ebi.ac.uk/pub/databases/gencode/Gencode_human/release_39/gencode.v39.annotation.gff3.gz\",\n",
    "            \"filename\": \"gencode_39.gff3.gz\",\n",
    "            \"recreate\": False\n",
    "        },\n",
    "        # -------------- GRCh38 chr20 -------------------------------\n",
    "        \"grch38_chr20\": {\n",
    "            \"uri\": \"https://hgdownload.cse.ucsc.edu/goldenpath/hg38/chromosomes/chr20.fa.gz\",\n",
    "            \"filename\": \"grch38_chr20.fa.gz\",\n",
    "            \"recreate\": False\n",
    "        },        \n",
    "        # -------------- GRCh38 mappability scores -------------------------------\n",
    "        \"grch38_umap\": {\n",
    "            \"uri\": \"https://bismap.hoffmanlab.org/raw/hg38/k24.umap.bed.gz\",\n",
    "            \"filename\": \"GRCh38.k24.umap.bedgraph.gz\",\n",
    "            \"tabix_options\": \"-p bed -S 1\",\n",
    "            \"recreate\": False\n",
    "        }\n",
    "    }\n",
    "}\n",
    "display(f'Downloading test data files to {outdir}')\n",
    "for resname in large_test_resources['resources']:\n",
    "    try:\n",
    "        download_bgzip_slice(large_test_resources, resname, view_tempdir=False)\n",
    "    except Exception:\n",
    "        display(traceback.format_exc())\n",
    "        display(f\"Error creating resource {resname}. Some tests may not work...\")\n",
    "display(\"All done.\")"
   ]
  },
  {
   "cell_type": "code",
   "execution_count": null,
   "id": "3385bb34-1f4d-4045-a38d-4f3b7790124d",
   "metadata": {
    "tags": []
   },
   "outputs": [],
   "source": [
    "# Build subset of human transcriptome (all protein coding genes on chr20, Ensembl canonical only)\n",
    "t=pg.Transcriptome(\n",
    "    genome_fa=pg.get_resource(\"grch38_chr20\", conf=large_test_resources) ,\n",
    "    annotation_gff=pg.get_resource(\"full_gencode_gff\", conf=large_test_resources),\n",
    "    annotation_flavour='gencode',    \n",
    "    copied_fields=['gene_type', 'tag'],\n",
    "    load_sequence_data=False,\n",
    "    feature_filter=pg.TranscriptFilter().\n",
    "            include_chromosomes({'chr20'}).\n",
    "            include_gene_types({'protein_coding'}).\n",
    "            include_tags({'Ensembl_canonical', None})\n",
    ")\n",
    "display(t)\n",
    "# prove that filtering worked\n",
    "assert {g.chromosome for g in t.genes} == {'chr20'}\n",
    "assert {g.gene_type for g in t.genes} == {'protein_coding'}\n",
    "assert all({tx.tag is None or 'Ensembl_canonical' in tx.tag for tx in t.transcripts})"
   ]
  },
  {
   "cell_type": "markdown",
   "id": "adfea61a-63fa-43f1-9837-5b6eb52156d5",
   "metadata": {},
   "source": [
    "Now, we annotate all genes with a numpy array containing the respective mappability values. \n",
    "This enables efficient slicing of child-intervals (e.g., transcripts, exons).\n"
   ]
  },
  {
   "cell_type": "code",
   "execution_count": null,
   "id": "f68f543b-79af-4d3c-be11-d8980e649574",
   "metadata": {
    "tags": []
   },
   "outputs": [],
   "source": [
    "#%%timeit -n 1 -r 1\n",
    "import numpy as np\n",
    "# Example code that calculates a numpy array containing mappability values for each genomic position of the passed genomic feature (anno).\n",
    "# The respective values are then saved (pickled) to the given output file\n",
    "# if the output file already exists, values will be loaded from there istead of recalculating them.\n",
    "\n",
    "def anno_scores(item, label='mappability'):\n",
    "    \"\"\" \n",
    "        Callback method for creating the mappability array by slicing all overlapping intervals.\n",
    "        loc: genomic interval of the feature that is annotated\n",
    "        anno: the transcriptome anno dict for this feature (so you can also access any other already existing annotations for this feature)\n",
    "        scores: list of (loc, score) tuples containing all overlapping locations (loc) and their scores as read from the bedgraph file.\n",
    "    \"\"\"\n",
    "    loc, (anno, mapints) = item\n",
    "    anno[label]=np.zeros(len(loc)) # create empty array\n",
    "    for sloc,mapint in mapints:\n",
    "        anno[label][range(max(loc.start, sloc.start)-loc.start, min(loc.end,sloc.end)+1-loc.start)]=mapint.score # update scores\n",
    "\n",
    "# to speed things up, we could cache the transcriptome annotations in a pickle file and \n",
    "# reload from there if this file exists:\n",
    "# pkfile=Path(large_test_resources['outdir']) / 'gencode.v39.k24.umap.genes.chr20.pk' \n",
    "# if os.path.isfile(pkfile): \n",
    "#    t.load_annotations(pkfile) # load from pickle file if existing; use update=True to not lose any previously annotated values \n",
    "# ...\n",
    "# t.save_annotations(pkfile, keys={'mappability'}) # save only the mappability values to disk.\n",
    "\n",
    "#annotate genes with mappability scores\n",
    "t.annotate(iterators=pg.BedIterator(pg.get_resource(\"grch38_umap\", conf=large_test_resources)), \n",
    "           region=roi,\n",
    "           fun_anno=anno_scores,\n",
    "           feature_types=['gene'])\n",
    "\n",
    "# show an estimate of the memory consumption (for the whole genome this is ~10GB so it might make sense \n",
    "# to calculate mean/median mappability per annotation instead of keeping all values)\n",
    "print(f\"Memory size of the create numpy arrays: {sum([a['mappability'].nbytes for a in t.anno.values() if 'mappability' in a]) / (1000*1000*1000) } GB\")"
   ]
  },
  {
   "cell_type": "markdown",
   "id": "52ad6238-7301-4aae-a948-ba38570ef670",
   "metadata": {
    "tags": []
   },
   "source": [
    "Now, let's query some data. First, we create a list of the 10 genes with the lowest mean mappability:"
   ]
  },
  {
   "cell_type": "code",
   "execution_count": null,
   "id": "0ad80fbf-f89e-4f79-bfc1-8db07d424b93",
   "metadata": {},
   "outputs": [],
   "source": [
    "low_map_genes = sorted({g.gene_name:np.mean(g.mappability) for g in t.genes}.items(), key=lambda x: x[1])[:10]\n",
    "display(low_map_genes)"
   ]
  },
  {
   "cell_type": "markdown",
   "id": "365bc9b8-d286-4ac0-9016-b09263caf38f",
   "metadata": {},
   "source": [
    "Now, let's plot the values for one of those genes:\n",
    "* we select the 1st transcript of the 1st gene in that list. \n",
    "* we slice the respective mappability values from the gene object via 'slice_from_parent'\n",
    "* we summarize the data by calculating 100 tiles that are assigned the mean mappability (yellow line)\n",
    "* we also plot a rolling average of the values (blue line). note that there are edge effects.\n",
    "* we additionally highlight the exons of this gene (red) and plot the rank."
   ]
  },
  {
   "cell_type": "code",
   "execution_count": null,
   "id": "5c8a96d5-e361-487b-b002-7369d2006f67",
   "metadata": {},
   "outputs": [],
   "source": [
    "tx = t.gene['GGTLC1'].transcript[0]\n",
    "map = tx.get('mappability', slice_from_parent=True)\n",
    "tiled_mean_map = np.concatenate([np.array([np.mean(x)]*len(x)).flatten() for x in \n",
    "                                 np.array_split(map, 100)])\n",
    "roll_mean_map = np.convolve(map, np.ones(1000), mode='same')/1000\n",
    "assert len(tiled_mean_map)==len(tx) and len(roll_mean_map)==len(tx)\n",
    "plt.rcParams[\"figure.figsize\"] = (20,3)\n",
    "plt.plot(tiled_mean_map, 'y')\n",
    "plt.plot(roll_mean_map, 'b-')\n",
    "plt.title(f\"{tx.feature_id} ({tx.strand})\")\n",
    "plt.ylim(0,1)\n",
    "for ex in sorted(tx.exon): # sort by coordinates\n",
    "    plt.axvspan(ex.start-tx.start, ex.end-tx.start, color='red', alpha=0.1)\n",
    "    plt.text(ex.start+(ex.end-ex.start)/2-tx.start, 0.2, ex.rnk)\n",
    "    display(f\"exon {ex.rnk}, len {len(ex)}: mean mappability: {np.mean(ex.get('mappability', slice_from_parent=True))}\")"
   ]
  },
  {
   "cell_type": "markdown",
   "id": "6603b548-c37c-4e11-a15a-ad5f61506ecc",
   "metadata": {},
   "source": [
    "So, exon 5 has the lowest mean mappability of this gene. \n",
    "Let's compare exon and intron mappability for all genes."
   ]
  },
  {
   "cell_type": "code",
   "execution_count": null,
   "id": "78522fe5-4591-4611-8703-1ff6bf1603d3",
   "metadata": {},
   "outputs": [],
   "source": [
    "# NOTE that the bedgraph file does not contain data for chrM and chrY (see tabix -l <file>), \n",
    "# so for these we use the default value [] (relevant only for whole-genome analyses)\n",
    "exon_map = np.concatenate([ex.get('mappability', slice_from_parent=True, default_value=[]) \\\n",
    "                           for ex,_ in t.iterator(feature_types='exon')])\n",
    "intron_map = np.concatenate([ex.get('mappability', slice_from_parent=True, default_value=[]) \\\n",
    "                           for ex,_ in t.iterator(feature_types='intron')])\n",
    "print(f\"exon mean map: {np.mean(exon_map)}, intron mean map: {np.mean(intron_map)}\") "
   ]
  },
  {
   "cell_type": "markdown",
   "id": "41b5799f-de18-4f61-9e6a-7a22707b7ef6",
   "metadata": {},
   "source": [
    "And now, let's plot the mean mappability per feature for all exons and introns.\n",
    "Introns have lower mappability."
   ]
  },
  {
   "cell_type": "code",
   "execution_count": null,
   "id": "3a31d4b7-d902-4810-a1cd-eeb4e79e7254",
   "metadata": {},
   "outputs": [],
   "source": [
    "exon_mean_map = {ex:np.mean(ex.get('mappability', default_value=[], slice_from_parent=True)) \\\n",
    "                 for ex,dat in t.iterator(feature_types='exon')}\n",
    "intron_mean_map = {ex:np.mean(ex.get('mappability', default_value=[], slice_from_parent=True)) \\\n",
    "                 for ex,dat in t.iterator(feature_types='intron')}\n",
    "_ = sns.boxplot(data={'exons':exon_mean_map.values(), 'introns':intron_mean_map.values()} )"
   ]
  },
  {
   "cell_type": "markdown",
   "id": "0e7721db-fd39-4c78-9099-48bc609e79c3",
   "metadata": {},
   "source": [
    "How many exons have zero mappability? What are the respective genes?"
   ]
  },
  {
   "cell_type": "code",
   "execution_count": null,
   "id": "a8f1fcab-a09b-4b5d-b611-146e883a13dc",
   "metadata": {
    "tags": []
   },
   "outputs": [],
   "source": [
    "# get all exons with 0 mappability \n",
    "zero_map_ex=[ex for ex,mean_map in exon_mean_map.items() if mean_map==0]\n",
    "# now show 10 random genes that contain at least 1 exon with zero mappability\n",
    "display(f\"There are {len(zero_map_ex)}/{len(exon_mean_map)} exons with 0 mappability.\")\n",
    "display(f\"Here are the respective gene names: { list({ex.parent.parent.gene_name for ex in zero_map_ex}) }\")"
   ]
  },
  {
   "cell_type": "markdown",
   "id": "615a87bb-ae8e-41e9-b252-b84a42c97da9",
   "metadata": {},
   "source": [
    "Let's plot all transcripts of this gene (four actually passed the 'Ensembl_canonical' filtering) and\n",
    "check. Indeed, exon 3 of ENST00000472140.5 has zero mappability..."
   ]
  },
  {
   "cell_type": "code",
   "execution_count": null,
   "id": "f0db8a85-f9c7-4108-a1ba-f49a858fff04",
   "metadata": {},
   "outputs": [],
   "source": [
    "g = t.gene['CSTL1']\n",
    "for idx,tx in enumerate(g.transcript):\n",
    "    map = tx.get('mappability', slice_from_parent=True)\n",
    "    tiled_mean_map = np.concatenate([np.array([np.mean(x)]*len(x)).flatten() for x in \n",
    "                                     np.array_split(map, 100)])\n",
    "    roll_mean_map = np.convolve(map, np.ones(1000), mode='same')/1000\n",
    "    assert len(tiled_mean_map)==len(tx) and len(roll_mean_map)==len(tx)\n",
    "    plt.rcParams[\"figure.figsize\"] = (20,3)\n",
    "    plt.figure(idx)\n",
    "    plt.plot(tiled_mean_map, 'y')\n",
    "    plt.plot(roll_mean_map, 'b-')\n",
    "    plt.title(f\"{tx.feature_id} ({tx.strand})\")\n",
    "    plt.ylim(0,1)\n",
    "    for ex in sorted(tx.exon): # sort by coordinates\n",
    "        plt.axvspan(ex.start-tx.start, ex.end-tx.start, color='red', alpha=0.1)\n",
    "        plt.text(ex.start+(ex.end-ex.start)/2-tx.start, 0.2, ex.rnk)\n",
    "        display(f\"{tx.feature_id} exon {ex.rnk}, len {len(ex)}: mean mappability: {np.mean(ex.get('mappability', slice_from_parent=True))}\")\n"
   ]
  },
  {
   "cell_type": "markdown",
   "id": "09ffd262-7daa-4047-85ee-b8141f4c7fcc",
   "metadata": {
    "tags": []
   },
   "source": [
    "Finally, lets plot the distribution of mappability values per chromosome as boxplots."
   ]
  },
  {
   "cell_type": "code",
   "execution_count": null,
   "id": "879f86b9-00ef-4628-aa47-d0f93f0b66b9",
   "metadata": {
    "tags": []
   },
   "outputs": [],
   "source": [
    "# calculate mean mappability per gene and chromosome \n",
    "mean_map=[[np.mean(g.get('mappability',[0])) for g in t.genes if g.chromosome==c] for c in t.merged_refdict]\n",
    "_=plt.boxplot(mean_map)\n",
    "_=plt.xticks([x+1 for x in range(len(t.merged_refdict))], list(t.merged_refdict.keys()), rotation=90)\n",
    "_=plt.suptitle(\"Gene region mappability per chromosome\")"
   ]
  }
 ],
 "metadata": {
  "kernelspec": {
   "display_name": "Python 3 (ipykernel)",
   "language": "python",
   "name": "python3"
  },
  "language_info": {
   "codemirror_mode": {
    "name": "ipython",
    "version": 3
   },
   "file_extension": ".py",
   "mimetype": "text/x-python",
   "name": "python",
   "nbconvert_exporter": "python",
   "pygments_lexer": "ipython3",
   "version": "3.10.4"
  }
 },
 "nbformat": 4,
 "nbformat_minor": 5
}
